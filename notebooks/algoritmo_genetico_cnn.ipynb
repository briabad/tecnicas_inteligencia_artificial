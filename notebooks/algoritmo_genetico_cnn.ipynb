{
 "cells": [
  {
   "cell_type": "markdown",
   "metadata": {},
   "source": [
    "# Algoritmo genetico\n",
    "\n",
    "La búsqueda de la combinación óptima de hiperparámetros en modelos de redes neuronales convolucionales es un desafío fundamental en el campo del aprendizaje profundo. En este contexto, se ha desarrollado un algoritmo genético inspirado en la arquitectura ResNet que aborda esta tarea de manera eficiente. \n",
    "\n",
    "Este algoritmo genera generaciones de individuos, cada uno representando un conjunto único de hiperparámetros para las capas convolucionales del modelo. A medida que evolucionan las generaciones, el algoritmo selecciona y reproduce los individuos más prometedores para encontrar la configuración óptima. En la fase 0 se crea la base del modelo.\n",
    "\n",
    "Una vez que se alcanza esta configuración, el algoritmo progresa a la siguiente fase, donde congela los pesos de las capas convolucionales del modelo previamente optimizado y añade nuevas capas al final. Esta segunda fase se enfoca en encontrar los hiperparámetros óptimos para estas nuevas capas, lo que lleva a la creación de un modelo completo altamente eficaz y adaptable a la tarea específica en cuestión.\n",
    "\n",
    "\n",
    "\n",
    "## Esquema genetico\n",
    "El esquema genético está compuesto por un conjunto de parámetros que guían el proceso de evolución y optimización de modelos de redes neuronales. Este esquema se define en un diccionario llamado `options`, que contiene una serie de características clave que se explorarán y optimizarán durante el proceso. A continuación, se explica la naturaleza de este esquema:\n",
    "\n",
    "- `a_include_BN` y `b_include_BN`: Estos parámetros determinan si se debe incluir una capa de normalización por lotes (*Batch Normalization*) en dos partes del modelo, A y B.\n",
    "\n",
    "- `a_include_bias` y `b_include_bias`: Controlan si se debe incluir un término de sesgo en las capas A y B.\n",
    "\n",
    "- `activation_type`: Define el tipo de función de activación que se utilizará, con opciones como *ReLU*, *ELU*, *LeakyReLU* y *SELU*.\n",
    "\n",
    "- `include_layer`: Indica si se debe incluir una capa en el modelo o no.\n",
    "\n",
    "- `pool_type`: Define el tipo de operación de pooling a utilizar.\n",
    "\n",
    "- `include_skip`: Controla si se debe incluir una conexión de salto (*skip connection*) en el modelo.\n",
    "\n",
    "- `learning_rate`: Especifica la tasa de aprendizaje que se utilizará durante el entrenamiento del modelo.\n",
    "\n",
    "- `dropout_range_a` y `dropout_range_b`: Estos parámetros definen los rangos de valores para la técnica de *dropout* que se aplicará en las capas A y B del modelo, respectivamente.\n",
    "\n",
    "Cada uno de estos parámetros representa una característica específica del modelo que se puede configurar y optimizar durante el proceso de evolución genética. El algoritmo genético explorará diferentes combinaciones de estos parámetros para encontrar la configuración óptima que maximice el rendimiento del modelo en una tarea dada. Este enfoque permite una búsqueda eficiente de hiperparámetros y una adaptación del modelo a la tarea de manera dinámica.\n",
    "\n",
    "## Clase Para generar el modelo\n",
    "\n",
    "En mi proyecto, he generado una clase llamada `MyModel` utilizando el módulo Lightning de PyTorch. Esta clase se utiliza para definir un modelo de aprendizaje profundo. La particularidad de este modelo es que sus hiperparámetros de capa son tomados de una población inicial generada aleatoriamente, lo que permite una exploración más amplia del espacio de hiperparámetros.\n",
    "\n",
    "Dentro del metodo init, se definen los hiperparametros de las capas, la inicializacion de estos hiperparametros esta gobernada por los valores del cromosoma. \n",
    "\n",
    "Despues de la fase 0 de entrenamiento, se inicializa una variable con el mejor modelo de la fase previa, y se congelan los pesos de las capas anteriores a la última. Esto asegura que el modelo no pierda conocimiento importante durante las fases posteriores. \n",
    "\n",
    "La clase `MyModel` consta de varias capas convolucionales, capas de normalización, funciones de activación, capas de dropout y capas de pooling, cuyos hiperparámetros son personalizables a través del cromosoma. La función `forward` define cómo se propagan los datos a través del modelo, y se incluyen métodos para entrenamiento, validación y prueba, junto con la configuración de optimizadores. Esta clase es versátil y se puede adaptar fácilmente para diferentes problemas de aprendizaje profundo.\n",
    "\n",
    "En el metodo configure_optimezers nos aseguramos que el optimizador solo actualice los pesos de las capas que no estan congeladas\n",
    "\n",
    "```python\n",
    "    def configure_optimizers(self):\n",
    "        if self.fase == 0:\n",
    "            optimizer = torch.optim.SGD(self.parameters(), lr=self.cromosoma['learning_rate'])\n",
    "        else:\n",
    "            optimizer = torch.optim.SGD(filter(lambda p: p.requires_grad, self.parameters()), lr=self.cromosoma['learning_rate'])\n",
    "        return optimizer\n",
    "```\n",
    "\n",
    "## Clase del algorimto genetico\n",
    "\n",
    "En mi proyecto, he implementado una clase llamada `Generation` que desempeña un papel fundamental en la generación y evolución de poblaciones de cromosomas en un algoritmo genético. Esta clase se encarga de gestionar las fases del algoritmo genético y realiza operaciones clave como la mutación y el cruce de cromosomas. Lo notable es que la clase está diseñada de manera flexible, sin código duro, lo que significa que todos los parámetros necesarios para su funcionamiento se pueden configurar al inicializarla.\n",
    "\n",
    "En el constructor (`__init__`) de la clase, se inicializan parámetros como el tamaño de la población, la tasa de mutación, el número de mutaciones, la fase actual, y otros parámetros esenciales. La población inicial se genera de forma aleatoria, y se entrena un modelo para cada cromosoma en la población. Posteriormente, se guardan los mejores candidatos en `self.mejores_candidatos`.\n",
    "\n",
    "La clase incluye métodos como `generate` para generar una nueva generación de cromosomas, `crossover` para realizar el cruce de cromosomas y `mutation` para aplicar mutaciones. Además, se sigue un enfoque de supervivencia de individuos aptos y se mantienen los mejores candidatos a lo largo de las generaciones. Esta flexibilidad y modularidad en la implementación permiten ajustar y adaptar fácilmente los parámetros del algoritmo genético para diferentes aplicaciones y problemas de optimización.\n",
    "\n",
    "\n",
    "## Generar la poblacion inicial\n",
    "\n",
    "En la fase 0 del algoritmo genético, se genera una población inicial de manera aleatoria, utilizando como base el diccionario options_phase0. Este diccionario contiene una serie de parámetros y sus respectivos rangos de valores posibles.\n",
    "\n",
    "Funcion que retorna los valores aleatorios del diccionario\n",
    "```python\n",
    "  def random_hyper(phase):\n",
    "      if phase == 0:\n",
    "          return {\n",
    "          'a_include_BN': options_phase0['a_include_BN'][np.random.randint(len(options_phase0['a_include_BN']))],\n",
    "          'a_include_bias': options_phase0['a_include_bias'][np.random.randint(len(options_phase0['a_include_bias']))],\n",
    "          'activation_type': options_phase0['activation_type'][np.random.randint(len(options_phase0['activation_type']))],\n",
    "          'b_include_BN': options_phase0['b_include_BN'][np.random.randint(len(options_phase0['b_include_BN']))],\n",
    "          'b_include_bias': options_phase0['b_include_bias'][np.random.randint(len(options_phase0['b_include_bias']))],\n",
    "          'pool_type': options_phase0['pool_type'][np.random.randint(len(options_phase0['pool_type']))],\n",
    "          'learning_rate': options_phase0['learning_rate'][np.random.randint(len(options_phase0['learning_rate']))],\n",
    "          'dropout_range_a': options_phase0['dropout_range_a'][np.random.randint(len(options_phase0['dropout_range_a']))],\n",
    "          'dropout_range_b': options_phase0['dropout_range_b'][np.random.randint(len(options_phase0['dropout_range_b']))]\n",
    "          }\n",
    "```\n",
    "\n",
    "Esta funcion se inicializa en la fase 0 en el metodo init de la clase 'Generation'\n",
    "\n",
    "## Cruce de cromosomas\n",
    "La función `crossover` es un método dentro de la clase `Generation` que se encarga de realizar la operación de cruce (crossover) entre dos cromosomas parentales, representados como diccionarios en Python. El punto de corte en los cromosomas parentales se determina aleatoriamente o se proporciona previamente con la variable endpoint, lo que permite una variabilidad en la creación de descendencia en el algoritmo genético.\n",
    "\n",
    "A continuación, se proporciona una descripción detallada de esta función:\n",
    "\n",
    "- **Nombre de la función**: `crossover`\n",
    "- **Argumentos**:\n",
    "    - `self`: La instancia actual de la clase `Generation`.\n",
    "    - `A`: El primer cromosoma parental, representado como un diccionario que contiene los valores de los genes.\n",
    "    - `B`: El segundo cromosoma parental, también representado como un diccionario con valores de genes.\n",
    "- **Descripción**: Esta función tiene como objetivo crear nuevos cromosomas (hijos) a partir de dos cromosomas parentales, `A` y `B`, mediante el proceso de cruce genético. El comentario inicial explica brevemente el propósito de la función.\n",
    "\n",
    "- **Variables utilizadas**:\n",
    "    - `child_chromosome`: Un diccionario que se inicializa vacío y que contendrá los genes del cromosoma hijo resultante del cruce.\n",
    "    - `self.endpoint`: Una variable que almacena la posición de \"corte\" en el cromosoma parental durante el cruce. Si esta variable no ha sido inicializada previamente en la instancia de la clase, se elige aleatoriamente un punto de corte entre 0 (incluido) y la longitud del cromosoma `A` (excluido) utilizando `np.random.randint`. Esto determina dónde se realizará el corte en los cromosomas parentales.\n",
    "\n",
    "- **Proceso de cruce**:\n",
    "    - Se itera a través de las claves (genes) del cromosoma `A` utilizando `enumerate` para obtener tanto la clave (`key`) como su índice (`idx`).\n",
    "    - Si el índice `idx` es menor o igual a `self.endpoint`, se copia el gen correspondiente del cromosoma `A` al cromosoma hijo `child_chromosome`.\n",
    "    - Si el índice `idx` es mayor que `self.endpoint`, se copia el gen correspondiente del cromosoma `B` al cromosoma hijo `child_chromosome`.\n",
    "\n",
    "- **Resultado**:\n",
    "    - Al final de la función, se devuelve el cromosoma hijo `child_chromosome`, que contiene una combinación de genes de los cromosomas parentales `A` y `B` después del proceso de cruce.\n",
    "\n",
    "## Mutacion\n",
    "El método `mutation` es una función dentro de la clase `Generation` que se encarga de realizar la operación de mutación en una población de cromosomas representados como diccionarios en Python. introduciendo aleatoriamente cambios en los genes de acuerdo con una tasa de mutación especificada.\n",
    "\n",
    "A continuación, se proporciona una descripción detallada de esta función:\n",
    "\n",
    "- **Nombre del método**: `mutation`\n",
    "- **Argumentos**:\n",
    "    - `self`: La instancia actual de la clase `Generation`.\n",
    "    - `poblacion_nueva`: Una lista que contiene la población actual de cromosomas que se someterán a mutación.\n",
    "\n",
    "- **Descripción**: Esta función tiene como objetivo introducir cambios aleatorios en los cromosomas de una población (`poblacion_nueva`) con una probabilidad determinada por `mutationRate`. El comentario inicial explica brevemente el propósito de la función.\n",
    "\n",
    "- **Proceso de mutación**:\n",
    "    - Se itera a través de cada cromosoma (`individuo`) en la población `poblacion_nueva` utilizando un bucle `for` y `enumerate`.\n",
    "    - Dentro del bucle exterior, se realiza otro bucle (`for _ in range(self.numero_mutaciones)`) que determina cuántas mutaciones se aplicarán a cada cromosoma. Esto permite controlar la tasa de mutación por cromosoma.\n",
    "    - En cada iteración del bucle interno, se genera un número aleatorio (`np.random.rand()`) y se compara con `mutationRate`. Si el número aleatorio es menor o igual a `mutationRate`, se procede a aplicar una mutación en el cromosoma.\n",
    "    - Para realizar la mutación, se selecciona aleatoriamente un índice `indice` en el rango de la longitud del cromosoma (`len(individuo)`). Luego, se obtiene la clave (`key`) correspondiente a ese índice en el cromosoma.\n",
    "    - Dependiendo de la fase actual (`self.fase`), se elige un nuevo valor para el gen en esa clave. Si `self.fase` no es igual a cero, se selecciona un nuevo valor de `options_phase0[key]` de forma aleatoria utilizando `np.random.randint`. Si `self.fase` es igual a cero, se realiza la misma operación con `options_phase0[key]`.\n",
    "    - Finalmente, se actualiza el cromosoma `individuo` con el nuevo gen mutado, y se actualiza la población `poblacion_nueva` con el cromosoma modificado.\n",
    "\n",
    "## Generacion\n",
    "\n",
    "El método `generate` es una función dentro de la clase `Generation` que se encarga de generar una nueva generación de cromosomas en la misma fase de un algoritmo genético.\n",
    "\n",
    "Este método juega un papel fundamental en la evolución de la población de cromosomas en un algoritmo genético, permitiendo la selección de candidatos aptos, la introducción de variabilidad mediante mutación y la creación de descendientes a través del cruce, todo dentro de la misma fase del algoritmo. Los mejores candidatos se conservan a lo largo de las generaciones para mejorar la calidad de la solución.\n",
    "\n",
    " A continuación, se proporciona una descripción detallada de esta función:\n",
    "\n",
    "- **Nombre del método**: `generate`\n",
    "- **Descripción**: Esta función se encarga de realizar varias etapas clave en la evolución de la población de cromosomas en un algoritmo genético. El comentario inicial explica brevemente el propósito de la función.\n",
    "\n",
    "- **Proceso de generación**:\n",
    "    1. Se calcula el número de candidatos aptos que deben ser preservados en la nueva generación. Esto se basa en el valor de `rango_supervivencia` y el tamaño de la población (`tamano_poblacion`).\n",
    "    2. La población actual se extrae de `self.poblacion_historia`, y se obtienen los cromosomas de cada individuo (`row[0]`).\n",
    "    3. Se crea una nueva población llamada `poblacion_nueva` que contendrá a los candidatos aptos copiados directamente desde la población actual.\n",
    "    4. Se asigna una probabilidad (`unfitSurvivalProb`) para determinar si los candidatos restantes en la población actual sobrevivirán en la nueva generación. Si el número aleatorio generado (`np.random.rand()`) es menor o igual a esta probabilidad, el candidato permanece en `poblacion_nueva`.\n",
    "    5. Se aplica la mutación a la población `poblacion_nueva` llamando al método `self.mutation`.\n",
    "    6. Se crea una lista vacía llamada `children` para almacenar a los descendientes generados a través de la operación de cruce.\n",
    "    7. Se ejecuta un bucle `for` para generar nuevos descendientes mediante el cruce entre pares de candidatos seleccionados aleatoriamente de `poblacion_nueva`. Estos descendientes se agregan a la lista `children`.\n",
    "    8. La población `poblacion_nueva` se actualiza combinando los candidatos aptos con los descendientes generados.\n",
    "    9. Se reinicializa la lista `self.poblacion_historia` para almacenar la historia de la nueva generación.\n",
    "    10. Se evalúa el desempeño de la nueva población, entrenando modelos para cada cromosoma y calculando la función de pérdida.\n",
    "    11. La población se ordena según el valor de la función de pérdida (de mayor a menor) en `self.poblacion_historia`.\n",
    "    12. Se verifica si el mejor candidato de esta generación tiene una pérdida mejor que el mejor candidato de generaciones anteriores. Si es así, se agrega a `self.mejores_candidatos`.\n",
    "\n",
    "- **Resultado**:\n",
    "    - Al final de la función, la población de cromosomas se ha actualizado y evolucionado a una nueva generación. La historia de la generación se almacena en `self.poblacion_historia`, y se actualiza el número de generación (`self.generation_number`).\n",
    "\n",
    "\n",
    "## Mejor generacion\n",
    "\n",
    "El metodo \"\" de la clase se encarga de devolver los mejores organismos de las generaciones\n",
    "\n",
    "\n",
    "# Metodologia\n",
    "Se creó un objeto de la clase \"Generación\" para cada fase del proceso, siguiendo la configuración que incluye:\n",
    "\n",
    "- Número de épocas de entrenamiento.\n",
    "- Tamaño de la población.\n",
    "- Número de generaciones.\n",
    "- Rango de supervivencia.\n",
    "- Número de mutaciones.\n",
    "- Rango de mutación.\n",
    "- Número de fases.\n",
    "- Probabilidad de supervivencia.\n",
    "\n",
    "Estos parámetros se utilizaron para inicializar el objeto de la clase \"Generación\". El proceso comienza con un bucle \"for\" que itera a través del número de fases definido. La inicialización de los parámetros del objeto \"Generación\" varía según la fase en la que se encuentre. Para fases con un número mayor que cero, se utiliza el modelo generado en la fase anterior como punto de partida. Dentro del bucle \"for\", se incluyen declaraciones condicionales que comparan el número de la fase actual, lo que determina la inicialización del objeto correspondiente.\n",
    "\n",
    "Una vez que se ha inicializado el objeto de la fase correspondiente, se ejecuta el método \"generar\" de dicho objeto hasta alcanzar el número de generaciones especificado.\n",
    "\n",
    "Al final de cada fase, se seleccionan y devuelven los mejores organismos encontrados como resultado del proceso.\n",
    "\n",
    "\n",
    "\n",
    "\n"
   ]
  },
  {
   "cell_type": "code",
   "execution_count": 4,
   "metadata": {},
   "outputs": [],
   "source": [
    "import torch\n",
    "import pytorch_lightning as pl\n",
    "import torch.nn as nn\n",
    "from torch.utils.data import DataLoader, random_split,Dataset\n",
    "from torchvision import datasets\n",
    "from torchvision.transforms import ToTensor\n",
    "import torchvision\n",
    "import torchvision.transforms as transforms\n",
    "import matplotlib.pyplot as plt\n",
    "import pandas as pd\n",
    "from torch.nn import functional as F\n",
    "import numpy as np\n"
   ]
  },
  {
   "cell_type": "markdown",
   "metadata": {},
   "source": [
    "Parametros de una red convolucional 2D de pytorch\n",
    "- in_channels (int) – Number of channels in the input image\n",
    "\n",
    "- out_channels (int) – Number of channels produced by the convolution\n",
    "\n",
    "- kernel_size (int or tuple) – Size of the convolving kernel\n",
    "\n",
    "- stride (int or tuple, optional) – Stride of the convolution. Default: 1\n",
    "\n",
    "- padding (int, tuple or str, optional) – Padding added to all four sides of the input. Default: 0\n",
    "\n",
    "- padding_mode (str, optional) – 'zeros', 'reflect', 'replicate' or 'circular'. Default: 'zeros'\n",
    "\n",
    "- dilation (int or tuple, optional) – Spacing between kernel elements. Default: 1\n",
    "\n",
    "- groups (int, optional) – Number of blocked connections from input channels to output channels. Default: 1\n",
    "\n",
    "- bias (bool, optional) – If True, adds a learnable bias to the output. Default: True"
   ]
  },
  {
   "cell_type": "code",
   "execution_count": 11,
   "metadata": {},
   "outputs": [],
   "source": [
    "class DataModule(pl.LightningDataModule):\n",
    "    \n",
    "    def __init__(self, batch_size=16):\n",
    "        super().__init__()\n",
    "        self.batch_size = batch_size\n",
    "    \n",
    "    def prepare_data(self):\n",
    "        self.train = pd.read_csv(r\"C:\\Users\\w10\\Desktop\\BMA\\UPV\\tia\\algoritmos_geneticos\\notebooks\\data\\fashion-mnist_train.csv\", dtype=np.float32)\n",
    "        self.train['label'] = self.train['label'].astype(int)\n",
    "        self.train = self.train.head(600)\n",
    "        self.test = pd.read_csv(r\"C:\\Users\\w10\\Desktop\\BMA\\UPV\\tia\\algoritmos_geneticos\\notebooks\\data\\fashion-mnist_test.csv\", dtype=np.float32)\n",
    "        self.test['label'] = self.test['label'].astype(int)\n",
    "        self.test = self.test.head(600)\n",
    "\n",
    "    def setup(self, stage):\n",
    "        trainY = self.train.label.values\n",
    "        trainX = self.train.loc[:,self.train.columns != \"label\"].values/255 \n",
    "        testY = self.test.label.values\n",
    "        testX = self.test.loc[:,self.test.columns != \"label\"].values/255 \n",
    "        \n",
    "        if stage == 'fit' or stage is None:\n",
    "            train_data = torch.utils.data.TensorDataset(torch.from_numpy(trainX).reshape(-1, 1, 28, 28), torch.from_numpy(trainY).type(torch.LongTensor))\n",
    "            self.train_data, self.val_data = random_split(train_data, [480, 120])\n",
    "            \n",
    "        if stage == 'test' or stage is None:\n",
    "            self.test_data = torch.utils.data.TensorDataset(torch.from_numpy(testX).reshape(-1, 1, 28, 28), torch.from_numpy(testY).type(torch.LongTensor))\n",
    "\n",
    "    def train_dataloader(self):\n",
    "        return DataLoader(self.train_data, batch_size=self.batch_size, shuffle=True, num_workers=4)\n",
    "\n",
    "    def val_dataloader(self):\n",
    "        return DataLoader(self.val_data, batch_size=self.batch_size, shuffle=False, num_workers=4)\n",
    "\n",
    "    def test_dataloader(self):\n",
    "        return DataLoader(self.test_data, batch_size=self.batch_size, shuffle=False, num_workers=4)"
   ]
  },
  {
   "cell_type": "code",
   "execution_count": 6,
   "metadata": {},
   "outputs": [],
   "source": [
    "\n",
    "options_phase0 = {\n",
    "    'a_include_BN': [True, False],\n",
    "    'a_include_bias': [True, False],\n",
    "    'activation_type': [nn.ReLU(), nn.ELU(), nn.LeakyReLU(),nn.SELU()],\n",
    "    'b_include_BN': [True, False],\n",
    "    'b_include_bias': [True, False],\n",
    "    # 'include_layer': [True, False],\n",
    "    'pool_type': [nn.MaxPool2d(2), nn.AvgPool2d(2)],\n",
    "    # 'include_skip': [True, False],\n",
    "    'learning_rate': [0.001,0.0001,0.1,0.01],\n",
    "    'dropout_range_a': [0,0.1,0.2,0.3],\n",
    "    'dropout_range_b': [0,0.1,0.2,0.3],\n",
    "    }"
   ]
  },
  {
   "cell_type": "code",
   "execution_count": 7,
   "metadata": {},
   "outputs": [],
   "source": [
    "def random_hyper(phase):\n",
    "    if phase == 0:\n",
    "        return {\n",
    "        'a_include_BN': options_phase0['a_include_BN'][np.random.randint(len(options_phase0['a_include_BN']))],\n",
    "        'a_include_bias': options_phase0['a_include_bias'][np.random.randint(len(options_phase0['a_include_bias']))],\n",
    "        'activation_type': options_phase0['activation_type'][np.random.randint(len(options_phase0['activation_type']))],\n",
    "        'b_include_BN': options_phase0['b_include_BN'][np.random.randint(len(options_phase0['b_include_BN']))],\n",
    "        'b_include_bias': options_phase0['b_include_bias'][np.random.randint(len(options_phase0['b_include_bias']))],\n",
    "        'pool_type': options_phase0['pool_type'][np.random.randint(len(options_phase0['pool_type']))],\n",
    "        'learning_rate': options_phase0['learning_rate'][np.random.randint(len(options_phase0['learning_rate']))],\n",
    "        # 'include_layer': options['include_layer'][np.random.randint(len(options['include_layer']))],\n",
    "        'dropout_range_a': options_phase0['dropout_range_a'][np.random.randint(len(options_phase0['dropout_range_a']))],\n",
    "        'dropout_range_b': options_phase0['dropout_range_b'][np.random.randint(len(options_phase0['dropout_range_b']))],\n",
    "        # 'include_skip': options_phase0['include_skip'][np.random.randint(len(options_phase0['include_skip']))]\n",
    "        }\n",
    "    else:\n",
    "        return {\n",
    "        'a_include_BN': options_phase0['a_include_BN'][np.random.randint(len(options_phase0['a_include_BN']))],\n",
    "        'a_include_bias': options_phase0['a_include_bias'][np.random.randint(len(options_phase0['a_include_bias']))],\n",
    "        'activation_type': options_phase0['activation_type'][np.random.randint(len(options_phase0['activation_type']))],\n",
    "        'b_include_BN': options_phase0['b_include_BN'][np.random.randint(len(options_phase0['b_include_BN']))],\n",
    "        'b_include_bias': options_phase0['b_include_bias'][np.random.randint(len(options_phase0['b_include_bias']))],\n",
    "        'pool_type': options_phase0['pool_type'][np.random.randint(len(options_phase0['pool_type']))],\n",
    "        'learning_rate': options_phase0['learning_rate'][np.random.randint(len(options_phase0['learning_rate']))],\n",
    "        # 'include_layer': options['include_layer'][np.random.randint(len(options['include_layer']))],\n",
    "        'dropout_range_a': options_phase0['dropout_range_a'][np.random.randint(len(options_phase0['dropout_range_a']))],\n",
    "        'dropout_range_b': options_phase0['dropout_range_b'][np.random.randint(len(options_phase0['dropout_range_b']))],\n",
    "        # 'include_skip': options_phase0['include_skip'][np.random.randint(len(options_phase0['include_skip']))]\n",
    "        }"
   ]
  },
  {
   "cell_type": "code",
   "execution_count": 5,
   "metadata": {},
   "outputs": [],
   "source": [
    "# for child in list(model.children())[:-3]:\n",
    "#     print(child)"
   ]
  },
  {
   "cell_type": "code",
   "execution_count": 6,
   "metadata": {},
   "outputs": [],
   "source": [
    "# for param in list(model.parameters())[:-2]:\n",
    "#     print(param)"
   ]
  },
  {
   "cell_type": "code",
   "execution_count": 7,
   "metadata": {},
   "outputs": [],
   "source": [
    "# nn.Sequential(*list(model_2.children())[1:-2])"
   ]
  },
  {
   "cell_type": "code",
   "execution_count": 8,
   "metadata": {},
   "outputs": [],
   "source": [
    "# nn.Sequential(model_2[:-3])"
   ]
  },
  {
   "cell_type": "code",
   "execution_count": 8,
   "metadata": {},
   "outputs": [],
   "source": [
    "class MyModel(pl.LightningModule):\n",
    "    \"\"\"_summary_\n",
    "\n",
    "\n",
    "    \"\"\"\n",
    "    \n",
    "    def __init__(self,output_channels=64,input_channels=16,model=None,fase=0,cromosoma={}):\n",
    "        super().__init__()\n",
    "        self.cromosoma = cromosoma\n",
    "        self.fase = fase\n",
    "        self.model = model\n",
    "        self.output_channels = output_channels\n",
    "        self.input_channels = input_channels\n",
    "\n",
    "        #fase 0 \n",
    "        if fase == 0:\n",
    "            #primera capa convolucional\n",
    "            self.cnn1 = nn.Conv2d(in_channels=1, out_channels=16, kernel_size=5, padding=0,bias=self.cromosoma['a_include_bias'])\n",
    "            # primera capa de normalizacion\n",
    "            self.batch_norm_a = nn.BatchNorm2d(16)\n",
    "            #primera capa de activacion      \n",
    "            self.funcion_activacion_a = self.cromosoma['activation_type']\n",
    "            #primera capa dropout\n",
    "            self.dropout_1 = nn.Dropout(p=self.cromosoma['dropout_range_a'])\n",
    "            # primera capa pooling\n",
    "            self.pool1 = self.cromosoma['pool_type']\n",
    "\n",
    "\n",
    "            #segunda capa convolucional\n",
    "            self.cnn2 = nn.Conv2d(in_channels=16, out_channels=16, kernel_size=4, stride=1, padding=0,bias=self.cromosoma['b_include_bias'])\n",
    "            #segunda capa normalizacion\n",
    "            self.batch_norm_b = nn.BatchNorm2d(16)\n",
    "            #segunda capa de activacion    \n",
    "            self.funcion_activacion_b = self.cromosoma['activation_type']\n",
    "            #capa dropout\n",
    "            self.dropout_2 = nn.Dropout(p=self.cromosoma['dropout_range_b'])\n",
    "            #segunda capa pooling\n",
    "            self.pool2 = self.cromosoma['pool_type']\n",
    "\n",
    "            #capa de salida\n",
    "            self.fc1 = nn.Linear(16 * 4 * 4, 10)\n",
    "\n",
    "        #Fases mayor a 0\n",
    "        else:\n",
    "            #congelar pesos del modelo\n",
    "            for child in list(model.children()):\n",
    "                for param in child.parameters():\n",
    "                        param.requires_grad = False\n",
    "            \n",
    "            if fase == 1:\n",
    "                self.pre_layers = nn.Sequential(*list(model.children())[0:-2])\n",
    "            else:\n",
    "                self.pre_layers = nn.Sequential(*list(model.children())[1:-2])\n",
    "\n",
    "            #primera capa convolucional1\n",
    "            self.cnn1 = nn.Conv2d(in_channels=self.input_channels, out_channels=self.output_channels, kernel_size=4, padding='same',bias=self.cromosoma['a_include_bias'])\n",
    "            #capa de normalizacion\n",
    "            self.batch_norm_a = nn.BatchNorm2d(self.output_channels)\n",
    "            #capa dropout\n",
    "            self.dropout_1 = nn.Dropout(p=self.cromosoma['dropout_range_a'])\n",
    "            #funcion de activacion\n",
    "            self.funcion_activacion_a = self.cromosoma['activation_type']\n",
    "\n",
    "            #capa convolucional 2\n",
    "            self.cnn2 = nn.Conv2d(in_channels=self.output_channels, out_channels=self.output_channels, kernel_size=4, padding='same',bias=self.cromosoma['b_include_bias'])\n",
    "            #capa batch\n",
    "            self.batch_norm_b = nn.BatchNorm2d(self.output_channels) \n",
    "            #segunda capa de activacion    \n",
    "            self.funcion_activacion_b = self.cromosoma['activation_type']\n",
    "            #capa dropout\n",
    "            self.dropout_2 = nn.Dropout(p=self.cromosoma['dropout_range_b'])\n",
    "            #segunda capa pooling\n",
    "            self.pool2 = self.cromosoma['pool_type']\n",
    "\n",
    "            #capa de salida\n",
    "            self.fc1 = nn.Linear(self.output_channels * 4 * 4, 10)\n",
    "             \n",
    "\n",
    "                \n",
    "\n",
    "\n",
    "    def forward(self, x):\n",
    "        #fase 0\n",
    "        if self.fase == 0:\n",
    "            #primera capa convolucional\n",
    "            x = self.cnn1(x)\n",
    "            #hiperparametro cromosoma \"incluir batch normalization\"\n",
    "            if self.cromosoma['a_include_BN']:\n",
    "                x = self.batch_norm_a(x)\n",
    "            #capa de activacion\n",
    "            x = self.funcion_activacion_a(x)\n",
    "            #capa dropout\n",
    "            x = self.dropout_1(x)\n",
    "            #capa de activacion\n",
    "            x = self.pool1(x)\n",
    "\n",
    "        else:\n",
    "            # fases mayores a 0\n",
    "            #capas congeladas\n",
    "            x = self.pre_layers(x)\n",
    "            #capa convolucional\n",
    "            x = self.cnn1(x)\n",
    "            #hiperparametro cromosoma \"incluir batch normalization\"\n",
    "            if self.cromosoma['a_include_BN']:\n",
    "                x = self.batch_norm_a(x)\n",
    "            #capa de activacion\n",
    "            x = self.funcion_activacion_a(x)\n",
    "            #capa de dropout\n",
    "            x = self.dropout_1(x)\n",
    "\n",
    "        #segunda capa convolucional\n",
    "        x = self.cnn2(x)\n",
    "        #hiperparametro cromosoma \"incluir batch normalization\"\n",
    "        if self.cromosoma['b_include_BN']:\n",
    "            x = self.batch_norm_b(x)\n",
    "        #segunda funcion de activacion\n",
    "        x = self.funcion_activacion_b(x)\n",
    "        #segunda capa dropout \n",
    "        x = self.dropout_2(x)\n",
    "        #segunda capa de pooling\n",
    "        x = self.pool2(x)\n",
    "        \n",
    "        #flatten\n",
    "        x = x.view(x.size(0), -1)\n",
    "        #capa de salida\n",
    "        x = self.fc1(x)\n",
    "\n",
    "        return x\n",
    "\n",
    "\n",
    "    #metodo de entrenamiento\n",
    "    def training_step(self, batch, batch_idx):\n",
    "        x, y = batch\n",
    "        y_hat = self.forward(x)\n",
    "        loss = F.cross_entropy(y_hat, y)\n",
    "        self.log('train_loss', loss, prog_bar=True)\n",
    "        return loss\n",
    "\n",
    "    #metodo de validacion\n",
    "    def validation_step(self, batch, batch_idx):\n",
    "        x, y = batch\n",
    "        y_hat = self.forward(x)\n",
    "        loss = F.cross_entropy(y_hat, y)\n",
    "        self.log('val_loss', loss, prog_bar=True)\n",
    "        return loss\n",
    "\n",
    "\n",
    "    #metodo de test\n",
    "    def test_step(self, batch, batch_idx):\n",
    "        x, y = batch\n",
    "        y_hat = self.forward(x)\n",
    "        loss = F.cross_entropy(y_hat, y)\n",
    "        self.log('test_loss', loss, prog_bar=True)\n",
    "        return loss\n",
    "\n",
    "    #metodo de optimizacion de hiperparametros    \n",
    "    def configure_optimizers(self):\n",
    "        if self.fase == 0:\n",
    "            optimizer = torch.optim.SGD(self.parameters(), lr=self.cromosoma['learning_rate'])\n",
    "        else:\n",
    "            optimizer = torch.optim.SGD(filter(lambda p: p.requires_grad, self.parameters()), lr=self.cromosoma['learning_rate'])\n",
    "        return optimizer\n",
    "\n"
   ]
  },
  {
   "cell_type": "code",
   "execution_count": 10,
   "metadata": {},
   "outputs": [],
   "source": [
    "crom = random_hyper(0)"
   ]
  },
  {
   "cell_type": "code",
   "execution_count": 11,
   "metadata": {},
   "outputs": [
    {
     "data": {
      "text/plain": [
       "{'a_include_BN': False,\n",
       " 'a_include_bias': True,\n",
       " 'activation_type': LeakyReLU(negative_slope=0.01),\n",
       " 'b_include_BN': True,\n",
       " 'b_include_bias': True,\n",
       " 'pool_type': AvgPool2d(kernel_size=2, stride=2, padding=0),\n",
       " 'learning_rate': 0.1,\n",
       " 'dropout_range_a': 0,\n",
       " 'dropout_range_b': 0.3}"
      ]
     },
     "execution_count": 11,
     "metadata": {},
     "output_type": "execute_result"
    }
   ],
   "source": [
    "crom"
   ]
  },
  {
   "cell_type": "code",
   "execution_count": 12,
   "metadata": {},
   "outputs": [],
   "source": [
    "lista_2 = []"
   ]
  },
  {
   "cell_type": "code",
   "execution_count": 13,
   "metadata": {},
   "outputs": [],
   "source": [
    "lista_2.append(crom)"
   ]
  },
  {
   "cell_type": "code",
   "execution_count": 18,
   "metadata": {},
   "outputs": [
    {
     "name": "stderr",
     "output_type": "stream",
     "text": [
      "GPU available: False, used: False\n",
      "TPU available: False, using: 0 TPU cores\n",
      "IPU available: False, using: 0 IPUs\n",
      "HPU available: False, using: 0 HPUs\n",
      "\n",
      "  | Name                 | Type        | Params\n",
      "-----------------------------------------------------\n",
      "0 | cnn1                 | Conv2d      | 416   \n",
      "1 | batch_norm_a         | BatchNorm2d | 32    \n",
      "2 | funcion_activacion_a | LeakyReLU   | 0     \n",
      "3 | dropout_1            | Dropout     | 0     \n",
      "4 | pool1                | AvgPool2d   | 0     \n",
      "5 | cnn2                 | Conv2d      | 4.1 K \n",
      "6 | batch_norm_b         | BatchNorm2d | 32    \n",
      "7 | dropout_2            | Dropout     | 0     \n",
      "8 | fc1                  | Linear      | 2.6 K \n",
      "-----------------------------------------------------\n",
      "7.2 K     Trainable params\n",
      "0         Non-trainable params\n",
      "7.2 K     Total params\n",
      "0.029     Total estimated model params size (MB)\n"
     ]
    },
    {
     "data": {
      "application/vnd.jupyter.widget-view+json": {
       "model_id": "a1e9bfe433e34b6999d7e395fdde4f94",
       "version_major": 2,
       "version_minor": 0
      },
      "text/plain": [
       "Sanity Checking: 0it [00:00, ?it/s]"
      ]
     },
     "metadata": {},
     "output_type": "display_data"
    },
    {
     "name": "stderr",
     "output_type": "stream",
     "text": [
      "c:\\Users\\w10\\anaconda3\\envs\\dynamic_forecast\\lib\\site-packages\\pytorch_lightning\\loops\\fit_loop.py:281: PossibleUserWarning: The number of training batches (30) is smaller than the logging interval Trainer(log_every_n_steps=50). Set a lower value for log_every_n_steps if you want to see logs for the training epoch.\n",
      "  rank_zero_warn(\n"
     ]
    },
    {
     "data": {
      "application/vnd.jupyter.widget-view+json": {
       "model_id": "808df3660a5f4e9c8d4129baac8608ea",
       "version_major": 2,
       "version_minor": 0
      },
      "text/plain": [
       "Training: 0it [00:00, ?it/s]"
      ]
     },
     "metadata": {},
     "output_type": "display_data"
    },
    {
     "data": {
      "application/vnd.jupyter.widget-view+json": {
       "model_id": "1491d313eeed42a3b782f00c4dc94da8",
       "version_major": 2,
       "version_minor": 0
      },
      "text/plain": [
       "Validation: 0it [00:00, ?it/s]"
      ]
     },
     "metadata": {},
     "output_type": "display_data"
    },
    {
     "name": "stderr",
     "output_type": "stream",
     "text": [
      "`Trainer.fit` stopped: `max_epochs=1` reached.\n",
      "c:\\Users\\w10\\anaconda3\\envs\\dynamic_forecast\\lib\\site-packages\\pytorch_lightning\\trainer\\connectors\\checkpoint_connector.py:149: UserWarning: `.test(ckpt_path=None)` was called without a model. The best model of the previous `fit` call will be used. You can pass `.test(ckpt_path='best')` to use the best model or `.test(ckpt_path='last')` to use the last model. If you pass a value, this warning will be silenced.\n",
      "  rank_zero_warn(\n",
      "Restoring states from the checkpoint path at c:\\Users\\w10\\Desktop\\BMA\\UPV\\tia\\algoritmos_geneticos\\notebooks\\lightning_logs\\version_327\\checkpoints\\epoch=0-step=30.ckpt\n",
      "Loaded model weights from the checkpoint at c:\\Users\\w10\\Desktop\\BMA\\UPV\\tia\\algoritmos_geneticos\\notebooks\\lightning_logs\\version_327\\checkpoints\\epoch=0-step=30.ckpt\n"
     ]
    },
    {
     "data": {
      "application/vnd.jupyter.widget-view+json": {
       "model_id": "8edfced9121f429986db9d75dec10fb2",
       "version_major": 2,
       "version_minor": 0
      },
      "text/plain": [
       "Testing: 0it [00:00, ?it/s]"
      ]
     },
     "metadata": {},
     "output_type": "display_data"
    },
    {
     "data": {
      "text/html": [
       "<pre style=\"white-space:pre;overflow-x:auto;line-height:normal;font-family:Menlo,'DejaVu Sans Mono',consolas,'Courier New',monospace\">┏━━━━━━━━━━━━━━━━━━━━━━━━━━━┳━━━━━━━━━━━━━━━━━━━━━━━━━━━┓\n",
       "┃<span style=\"font-weight: bold\">        Test metric        </span>┃<span style=\"font-weight: bold\">       DataLoader 0        </span>┃\n",
       "┡━━━━━━━━━━━━━━━━━━━━━━━━━━━╇━━━━━━━━━━━━━━━━━━━━━━━━━━━┩\n",
       "│<span style=\"color: #008080; text-decoration-color: #008080\">         test_loss         </span>│<span style=\"color: #800080; text-decoration-color: #800080\">    1.3636683225631714     </span>│\n",
       "└───────────────────────────┴───────────────────────────┘\n",
       "</pre>\n"
      ],
      "text/plain": [
       "┏━━━━━━━━━━━━━━━━━━━━━━━━━━━┳━━━━━━━━━━━━━━━━━━━━━━━━━━━┓\n",
       "┃\u001b[1m \u001b[0m\u001b[1m       Test metric       \u001b[0m\u001b[1m \u001b[0m┃\u001b[1m \u001b[0m\u001b[1m      DataLoader 0       \u001b[0m\u001b[1m \u001b[0m┃\n",
       "┡━━━━━━━━━━━━━━━━━━━━━━━━━━━╇━━━━━━━━━━━━━━━━━━━━━━━━━━━┩\n",
       "│\u001b[36m \u001b[0m\u001b[36m        test_loss        \u001b[0m\u001b[36m \u001b[0m│\u001b[35m \u001b[0m\u001b[35m   1.3636683225631714    \u001b[0m\u001b[35m \u001b[0m│\n",
       "└───────────────────────────┴───────────────────────────┘\n"
      ]
     },
     "metadata": {},
     "output_type": "display_data"
    }
   ],
   "source": [
    "datamodule = DataModule()\n",
    "model = MyModel(cromosoma=crom,fase=0,input_channels=64)\n",
    "\n",
    "trainer = pl.Trainer(max_epochs=1)\n",
    "trainer.fit(model, datamodule)\n",
    "datamodule.setup(stage='test')\n",
    "test_loader = datamodule.test_dataloader()\n",
    "loss = trainer.test(dataloaders=test_loader)"
   ]
  },
  {
   "cell_type": "code",
   "execution_count": null,
   "metadata": {},
   "outputs": [],
   "source": []
  },
  {
   "cell_type": "code",
   "execution_count": 9,
   "metadata": {},
   "outputs": [],
   "source": [
    "\n",
    "class Generation:\n",
    "    def __init__(self,\n",
    "                 rango_superviviencia,\n",
    "                 unfitSurvivalProb,\n",
    "                 mutationRate,\n",
    "                 numero_mutaciones,\n",
    "                 fase,\n",
    "                 tamano_poblacion,\n",
    "                 epochs,\n",
    "                 input_channels=16,\n",
    "                 endpoint = None,\n",
    "                 model=None):\n",
    "        \n",
    "        #inicializacion de variables\n",
    "        self.input_channels = input_channels\n",
    "        self.tamano_poblacion = tamano_poblacion\n",
    "        self.endpoint = endpoint\n",
    "        self.poblacion = []\n",
    "        self.poblacion_historia = []\n",
    "        self.mejores_candidatos = []\n",
    "        self.generation_number = 0\n",
    "        self.numero_mutaciones = numero_mutaciones\n",
    "        self.mutationRate = mutationRate\n",
    "        self.rango_supervivencia = rango_superviviencia\n",
    "        self.unfitSurvivalProb = unfitSurvivalProb\n",
    "        self.fase = fase\n",
    "        self.model = model\n",
    "        self.epochs = epochs\n",
    "        #Fase 0\n",
    "        for idx in range(self.tamano_poblacion):\n",
    "            # Crear la poblacion inicial\n",
    "            self.cromosoma =random_hyper(self.fase)\n",
    "            #inicializar la clase que carga los datos del modelo\n",
    "            datamodule = DataModule()\n",
    "\n",
    "            #Inicializar la clase del modelo\n",
    "            if self.fase == 0:\n",
    "                organismo = MyModel(cromosoma=self.cromosoma, fase=self.fase)\n",
    "            else:\n",
    "                organismo = MyModel(cromosoma=self.cromosoma, fase=self.fase,model=self.model, input_channels=self.input_channels)\n",
    "\n",
    "            #Configuracion del entrenamiento\n",
    "            trainer = pl.Trainer(max_epochs=self.epochs)\n",
    "            #entrenamiento del modelo\n",
    "            trainer.fit(organismo, datamodule)\n",
    "\n",
    "            #configuracion del test del modelo\n",
    "            datamodule.setup(stage='test')\n",
    "            #carga de los datos test\n",
    "            test_loader = datamodule.test_dataloader()\n",
    "\n",
    "            #test del modelo\n",
    "            loss = trainer.test(dataloaders=test_loader)\n",
    "            \n",
    "            self.poblacion_historia.append([self.cromosoma,organismo,loss[0]['test_loss']])\n",
    "            self.poblacion.append(self.cromosoma)\n",
    "\n",
    "        # sorts the population according to fitness (high to low)\n",
    "        self.poblacion_historia = sorted(self.poblacion_historia, key=lambda x: x[2])\n",
    "        print(self.poblacion_historia[0])\n",
    "        self.mejores_candidatos.append(self.poblacion_historia[0])\n",
    "        self.generation_number += 1\n",
    "\n",
    "    def generate(self):\n",
    "        '''\n",
    "        Generate a new generation in the same phase\n",
    "        '''\n",
    "        #guardar los candidatos con el mejor fitness\n",
    "        number_of_fit = int(self.tamano_poblacion * self.rango_supervivencia)\n",
    "        self.poblacion =  [row[0] for row in self.poblacion_historia]\n",
    "        poblacion_nueva = self.poblacion[:number_of_fit]\n",
    "\n",
    "        #asignar una probabilidad para ver que candidatos del resto de la poblacion vive\n",
    "        for individual in self.poblacion[number_of_fit:]:\n",
    "            if np.random.rand() <= self.unfitSurvivalProb:\n",
    "                poblacion_nueva.append(individual)\n",
    "\n",
    "        #Mutacion\n",
    "        self.mutation(poblacion_nueva=poblacion_nueva)\n",
    "\n",
    "        #Cruce para creacion de nueva poblacion/hijos\n",
    "        children=[]\n",
    "\n",
    "        for idx in range(self.tamano_poblacion-len(poblacion_nueva)):\n",
    "            print(len(poblacion_nueva))\n",
    "            parents = np.random.choice(poblacion_nueva, size=(2,))\n",
    "            A=parents[0]\n",
    "            B=parents[1]\n",
    "            child = self.crossover(A,B)\n",
    "            children.append(child)\n",
    "        self.poblacion = poblacion_nueva+children\n",
    "\n",
    "        #re inicializamos la lista que guarda la historia de la generacion\n",
    "        self.poblacion_historia = []\n",
    "        #evaluamos la nueva poblacion\n",
    "        for individuo in self.poblacion:\n",
    "            self.cromosoma = individuo\n",
    "            \n",
    "            print(self.cromosoma)\n",
    "            if self.fase == 0:\n",
    "                organismo = MyModel(cromosoma=self.cromosoma, fase=self.fase)\n",
    "            else:\n",
    "                organismo = MyModel(cromosoma=self.cromosoma, fase=self.fase, model=self.model, input_channels=self.input_channels)\n",
    "\n",
    "            trainer = pl.Trainer(max_epochs=self.epochs)\n",
    "            datamodule = DataModule()\n",
    "            trainer.fit(organismo, datamodule)\n",
    "            datamodule.setup(stage='test')\n",
    "            test_loader = datamodule.test_dataloader()\n",
    "            loss = trainer.test(dataloaders=test_loader)\n",
    "            self.poblacion_historia.append([self.cromosoma,organismo,loss[0]['test_loss']])\n",
    "              \n",
    "        \n",
    "\n",
    "        # sorts the population according to fitness (high to low)\n",
    "        self.poblacion_historia = sorted(self.poblacion_historia, key=lambda x: x[2])\n",
    "        print(self.poblacion_historia[0][2])\n",
    "        #insertar aqui condicional para solo agregar un candidato que tenga una loss function mejor que el candidato previo\n",
    "        if self.poblacion_historia[0][2] < self.mejores_candidatos[-1][2]:\n",
    "            self.mejores_candidatos.append(self.poblacion_historia[0])\n",
    "        \n",
    "        self.generation_number+=1\n",
    "\n",
    "    def ultima_generacion(self):\n",
    "        return self.mejores_candidatos\n",
    "        \n",
    "    def crossover(self,\n",
    "                  A,\n",
    "                  B):\n",
    "        '''\n",
    "        This function helps in making children from two\n",
    "        parent individuals.\n",
    "        '''\n",
    "        child_chromosome = {}\n",
    "        if self.endpoint == None:\n",
    "            self.endpoint = np.random.randint(low=0, high=len(A))\n",
    "        \n",
    "        for idx, key in enumerate(A):\n",
    "            if idx <= self.endpoint:\n",
    "                child_chromosome[key] = A[key]\n",
    "            else:\n",
    "                child_chromosome[key] = B[key]\n",
    "\n",
    "        return child_chromosome\n",
    "    \n",
    "    def mutation(self,poblacion_nueva):\n",
    "        '''\n",
    "        One of the gene is to be mutated.\n",
    "        '''\n",
    "        for index, individuo in enumerate(poblacion_nueva):\n",
    "            for _ in range(self.numero_mutaciones):\n",
    "                if np.random.rand() <= self.mutationRate:\n",
    "                    indice = np.random.randint(0, len(individuo))\n",
    "                    key = list(poblacion_nueva[index])[indice]\n",
    "                    if  self.fase != 0:\n",
    "                        individuo[key] = options_phase0[key][np.random.randint(len(options_phase0[key]))]\n",
    "                    else:\n",
    "                        individuo[key] = options_phase0[key][np.random.randint(len(options_phase0[key]))]\n",
    "                    \n",
    "                    poblacion_nueva[index] = individuo\n"
   ]
  },
  {
   "cell_type": "code",
   "execution_count": 13,
   "metadata": {},
   "outputs": [
    {
     "name": "stderr",
     "output_type": "stream",
     "text": [
      "GPU available: False, used: False\n",
      "TPU available: False, using: 0 TPU cores\n",
      "IPU available: False, using: 0 IPUs\n",
      "HPU available: False, using: 0 HPUs\n"
     ]
    },
    {
     "name": "stdout",
     "output_type": "stream",
     "text": [
      "0\n"
     ]
    },
    {
     "name": "stderr",
     "output_type": "stream",
     "text": [
      "\n",
      "  | Name                 | Type        | Params\n",
      "-----------------------------------------------------\n",
      "0 | cnn1                 | Conv2d      | 400   \n",
      "1 | batch_norm_a         | BatchNorm2d | 32    \n",
      "2 | funcion_activacion_a | ELU         | 0     \n",
      "3 | dropout_1            | Dropout     | 0     \n",
      "4 | pool1                | MaxPool2d   | 0     \n",
      "5 | cnn2                 | Conv2d      | 4.1 K \n",
      "6 | batch_norm_b         | BatchNorm2d | 32    \n",
      "7 | dropout_2            | Dropout     | 0     \n",
      "8 | fc1                  | Linear      | 2.6 K \n",
      "-----------------------------------------------------\n",
      "7.1 K     Trainable params\n",
      "0         Non-trainable params\n",
      "7.1 K     Total params\n",
      "0.029     Total estimated model params size (MB)\n"
     ]
    },
    {
     "data": {
      "application/vnd.jupyter.widget-view+json": {
       "model_id": "26f87149da084d439369ea48a39ef079",
       "version_major": 2,
       "version_minor": 0
      },
      "text/plain": [
       "Sanity Checking: 0it [00:00, ?it/s]"
      ]
     },
     "metadata": {},
     "output_type": "display_data"
    },
    {
     "data": {
      "application/vnd.jupyter.widget-view+json": {
       "model_id": "f45bd7c4896840af9697157bedd48a25",
       "version_major": 2,
       "version_minor": 0
      },
      "text/plain": [
       "Training: 0it [00:00, ?it/s]"
      ]
     },
     "metadata": {},
     "output_type": "display_data"
    },
    {
     "data": {
      "application/vnd.jupyter.widget-view+json": {
       "model_id": "95d22342d33344f2b437b6e8769f8637",
       "version_major": 2,
       "version_minor": 0
      },
      "text/plain": [
       "Validation: 0it [00:00, ?it/s]"
      ]
     },
     "metadata": {},
     "output_type": "display_data"
    },
    {
     "data": {
      "application/vnd.jupyter.widget-view+json": {
       "model_id": "23cf0e48c44847bbab709886afef8581",
       "version_major": 2,
       "version_minor": 0
      },
      "text/plain": [
       "Validation: 0it [00:00, ?it/s]"
      ]
     },
     "metadata": {},
     "output_type": "display_data"
    },
    {
     "data": {
      "application/vnd.jupyter.widget-view+json": {
       "model_id": "4890e48ef8da4b64881878ae31da8ef4",
       "version_major": 2,
       "version_minor": 0
      },
      "text/plain": [
       "Validation: 0it [00:00, ?it/s]"
      ]
     },
     "metadata": {},
     "output_type": "display_data"
    },
    {
     "data": {
      "application/vnd.jupyter.widget-view+json": {
       "model_id": "b15894dd36954c158bda2f5fb52d6ec6",
       "version_major": 2,
       "version_minor": 0
      },
      "text/plain": [
       "Validation: 0it [00:00, ?it/s]"
      ]
     },
     "metadata": {},
     "output_type": "display_data"
    },
    {
     "data": {
      "application/vnd.jupyter.widget-view+json": {
       "model_id": "6c65868d3b17465ebf47b230fedcda14",
       "version_major": 2,
       "version_minor": 0
      },
      "text/plain": [
       "Validation: 0it [00:00, ?it/s]"
      ]
     },
     "metadata": {},
     "output_type": "display_data"
    },
    {
     "name": "stderr",
     "output_type": "stream",
     "text": [
      "`Trainer.fit` stopped: `max_epochs=5` reached.\n",
      "Restoring states from the checkpoint path at c:\\Users\\w10\\Desktop\\BMA\\UPV\\tia\\algoritmos_geneticos\\notebooks\\lightning_logs\\version_366\\checkpoints\\epoch=4-step=150.ckpt\n",
      "Loaded model weights from the checkpoint at c:\\Users\\w10\\Desktop\\BMA\\UPV\\tia\\algoritmos_geneticos\\notebooks\\lightning_logs\\version_366\\checkpoints\\epoch=4-step=150.ckpt\n"
     ]
    },
    {
     "data": {
      "application/vnd.jupyter.widget-view+json": {
       "model_id": "2c8707b7ee2a456a8d2fbe0cbc011547",
       "version_major": 2,
       "version_minor": 0
      },
      "text/plain": [
       "Testing: 0it [00:00, ?it/s]"
      ]
     },
     "metadata": {},
     "output_type": "display_data"
    },
    {
     "data": {
      "text/html": [
       "<pre style=\"white-space:pre;overflow-x:auto;line-height:normal;font-family:Menlo,'DejaVu Sans Mono',consolas,'Courier New',monospace\">┏━━━━━━━━━━━━━━━━━━━━━━━━━━━┳━━━━━━━━━━━━━━━━━━━━━━━━━━━┓\n",
       "┃<span style=\"font-weight: bold\">        Test metric        </span>┃<span style=\"font-weight: bold\">       DataLoader 0        </span>┃\n",
       "┡━━━━━━━━━━━━━━━━━━━━━━━━━━━╇━━━━━━━━━━━━━━━━━━━━━━━━━━━┩\n",
       "│<span style=\"color: #008080; text-decoration-color: #008080\">         test_loss         </span>│<span style=\"color: #800080; text-decoration-color: #800080\">    0.6979213356971741     </span>│\n",
       "└───────────────────────────┴───────────────────────────┘\n",
       "</pre>\n"
      ],
      "text/plain": [
       "┏━━━━━━━━━━━━━━━━━━━━━━━━━━━┳━━━━━━━━━━━━━━━━━━━━━━━━━━━┓\n",
       "┃\u001b[1m \u001b[0m\u001b[1m       Test metric       \u001b[0m\u001b[1m \u001b[0m┃\u001b[1m \u001b[0m\u001b[1m      DataLoader 0       \u001b[0m\u001b[1m \u001b[0m┃\n",
       "┡━━━━━━━━━━━━━━━━━━━━━━━━━━━╇━━━━━━━━━━━━━━━━━━━━━━━━━━━┩\n",
       "│\u001b[36m \u001b[0m\u001b[36m        test_loss        \u001b[0m\u001b[36m \u001b[0m│\u001b[35m \u001b[0m\u001b[35m   0.6979213356971741    \u001b[0m\u001b[35m \u001b[0m│\n",
       "└───────────────────────────┴───────────────────────────┘\n"
      ]
     },
     "metadata": {},
     "output_type": "display_data"
    },
    {
     "name": "stderr",
     "output_type": "stream",
     "text": [
      "GPU available: False, used: False\n",
      "TPU available: False, using: 0 TPU cores\n",
      "IPU available: False, using: 0 IPUs\n",
      "HPU available: False, using: 0 HPUs\n",
      "\n",
      "  | Name                 | Type        | Params\n",
      "-----------------------------------------------------\n",
      "0 | cnn1                 | Conv2d      | 416   \n",
      "1 | batch_norm_a         | BatchNorm2d | 32    \n",
      "2 | funcion_activacion_a | ReLU        | 0     \n",
      "3 | dropout_1            | Dropout     | 0     \n",
      "4 | pool1                | MaxPool2d   | 0     \n",
      "5 | cnn2                 | Conv2d      | 4.1 K \n",
      "6 | batch_norm_b         | BatchNorm2d | 32    \n",
      "7 | dropout_2            | Dropout     | 0     \n",
      "8 | fc1                  | Linear      | 2.6 K \n",
      "-----------------------------------------------------\n",
      "7.2 K     Trainable params\n",
      "0         Non-trainable params\n",
      "7.2 K     Total params\n",
      "0.029     Total estimated model params size (MB)\n"
     ]
    },
    {
     "data": {
      "application/vnd.jupyter.widget-view+json": {
       "model_id": "4ad38ef7fea34b48bea9ce605039a0c6",
       "version_major": 2,
       "version_minor": 0
      },
      "text/plain": [
       "Sanity Checking: 0it [00:00, ?it/s]"
      ]
     },
     "metadata": {},
     "output_type": "display_data"
    },
    {
     "data": {
      "application/vnd.jupyter.widget-view+json": {
       "model_id": "62a1b397615e452bb68564cc7c0e8692",
       "version_major": 2,
       "version_minor": 0
      },
      "text/plain": [
       "Training: 0it [00:00, ?it/s]"
      ]
     },
     "metadata": {},
     "output_type": "display_data"
    },
    {
     "data": {
      "application/vnd.jupyter.widget-view+json": {
       "model_id": "15cf7f8accc14299a12c3630c3b74723",
       "version_major": 2,
       "version_minor": 0
      },
      "text/plain": [
       "Validation: 0it [00:00, ?it/s]"
      ]
     },
     "metadata": {},
     "output_type": "display_data"
    },
    {
     "data": {
      "application/vnd.jupyter.widget-view+json": {
       "model_id": "a4ee108f4eab4ec18f653c7f18dd1d1a",
       "version_major": 2,
       "version_minor": 0
      },
      "text/plain": [
       "Validation: 0it [00:00, ?it/s]"
      ]
     },
     "metadata": {},
     "output_type": "display_data"
    },
    {
     "data": {
      "application/vnd.jupyter.widget-view+json": {
       "model_id": "693ed0de546140ad99bc41eb91bf04b1",
       "version_major": 2,
       "version_minor": 0
      },
      "text/plain": [
       "Validation: 0it [00:00, ?it/s]"
      ]
     },
     "metadata": {},
     "output_type": "display_data"
    },
    {
     "data": {
      "application/vnd.jupyter.widget-view+json": {
       "model_id": "914d7fdffaac4d028b83c0cc0ff656de",
       "version_major": 2,
       "version_minor": 0
      },
      "text/plain": [
       "Validation: 0it [00:00, ?it/s]"
      ]
     },
     "metadata": {},
     "output_type": "display_data"
    },
    {
     "data": {
      "application/vnd.jupyter.widget-view+json": {
       "model_id": "1fd3b4988f8b4aef9fe1f6acf29d31d8",
       "version_major": 2,
       "version_minor": 0
      },
      "text/plain": [
       "Validation: 0it [00:00, ?it/s]"
      ]
     },
     "metadata": {},
     "output_type": "display_data"
    },
    {
     "name": "stderr",
     "output_type": "stream",
     "text": [
      "`Trainer.fit` stopped: `max_epochs=5` reached.\n",
      "Restoring states from the checkpoint path at c:\\Users\\w10\\Desktop\\BMA\\UPV\\tia\\algoritmos_geneticos\\notebooks\\lightning_logs\\version_367\\checkpoints\\epoch=4-step=150.ckpt\n",
      "Loaded model weights from the checkpoint at c:\\Users\\w10\\Desktop\\BMA\\UPV\\tia\\algoritmos_geneticos\\notebooks\\lightning_logs\\version_367\\checkpoints\\epoch=4-step=150.ckpt\n"
     ]
    },
    {
     "data": {
      "application/vnd.jupyter.widget-view+json": {
       "model_id": "59dc1390121745a8a951a7b8f5524129",
       "version_major": 2,
       "version_minor": 0
      },
      "text/plain": [
       "Testing: 0it [00:00, ?it/s]"
      ]
     },
     "metadata": {},
     "output_type": "display_data"
    },
    {
     "data": {
      "text/html": [
       "<pre style=\"white-space:pre;overflow-x:auto;line-height:normal;font-family:Menlo,'DejaVu Sans Mono',consolas,'Courier New',monospace\">┏━━━━━━━━━━━━━━━━━━━━━━━━━━━┳━━━━━━━━━━━━━━━━━━━━━━━━━━━┓\n",
       "┃<span style=\"font-weight: bold\">        Test metric        </span>┃<span style=\"font-weight: bold\">       DataLoader 0        </span>┃\n",
       "┡━━━━━━━━━━━━━━━━━━━━━━━━━━━╇━━━━━━━━━━━━━━━━━━━━━━━━━━━┩\n",
       "│<span style=\"color: #008080; text-decoration-color: #008080\">         test_loss         </span>│<span style=\"color: #800080; text-decoration-color: #800080\">     2.275563955307007     </span>│\n",
       "└───────────────────────────┴───────────────────────────┘\n",
       "</pre>\n"
      ],
      "text/plain": [
       "┏━━━━━━━━━━━━━━━━━━━━━━━━━━━┳━━━━━━━━━━━━━━━━━━━━━━━━━━━┓\n",
       "┃\u001b[1m \u001b[0m\u001b[1m       Test metric       \u001b[0m\u001b[1m \u001b[0m┃\u001b[1m \u001b[0m\u001b[1m      DataLoader 0       \u001b[0m\u001b[1m \u001b[0m┃\n",
       "┡━━━━━━━━━━━━━━━━━━━━━━━━━━━╇━━━━━━━━━━━━━━━━━━━━━━━━━━━┩\n",
       "│\u001b[36m \u001b[0m\u001b[36m        test_loss        \u001b[0m\u001b[36m \u001b[0m│\u001b[35m \u001b[0m\u001b[35m    2.275563955307007    \u001b[0m\u001b[35m \u001b[0m│\n",
       "└───────────────────────────┴───────────────────────────┘\n"
      ]
     },
     "metadata": {},
     "output_type": "display_data"
    },
    {
     "name": "stderr",
     "output_type": "stream",
     "text": [
      "GPU available: False, used: False\n",
      "TPU available: False, using: 0 TPU cores\n",
      "IPU available: False, using: 0 IPUs\n",
      "HPU available: False, using: 0 HPUs\n",
      "\n",
      "  | Name                 | Type        | Params\n",
      "-----------------------------------------------------\n",
      "0 | cnn1                 | Conv2d      | 416   \n",
      "1 | batch_norm_a         | BatchNorm2d | 32    \n",
      "2 | funcion_activacion_a | ReLU        | 0     \n",
      "3 | dropout_1            | Dropout     | 0     \n",
      "4 | pool1                | AvgPool2d   | 0     \n",
      "5 | cnn2                 | Conv2d      | 4.1 K \n",
      "6 | batch_norm_b         | BatchNorm2d | 32    \n",
      "7 | dropout_2            | Dropout     | 0     \n",
      "8 | fc1                  | Linear      | 2.6 K \n",
      "-----------------------------------------------------\n",
      "7.1 K     Trainable params\n",
      "0         Non-trainable params\n",
      "7.1 K     Total params\n",
      "0.029     Total estimated model params size (MB)\n"
     ]
    },
    {
     "data": {
      "application/vnd.jupyter.widget-view+json": {
       "model_id": "8413af7dc6f94d47bf02f8eb8ab82898",
       "version_major": 2,
       "version_minor": 0
      },
      "text/plain": [
       "Sanity Checking: 0it [00:00, ?it/s]"
      ]
     },
     "metadata": {},
     "output_type": "display_data"
    },
    {
     "data": {
      "application/vnd.jupyter.widget-view+json": {
       "model_id": "4a9d0f46c33f4ab5b76ef2a2b36f03b7",
       "version_major": 2,
       "version_minor": 0
      },
      "text/plain": [
       "Training: 0it [00:00, ?it/s]"
      ]
     },
     "metadata": {},
     "output_type": "display_data"
    },
    {
     "data": {
      "application/vnd.jupyter.widget-view+json": {
       "model_id": "40e35eecd5364cc0b06a2838facd103f",
       "version_major": 2,
       "version_minor": 0
      },
      "text/plain": [
       "Validation: 0it [00:00, ?it/s]"
      ]
     },
     "metadata": {},
     "output_type": "display_data"
    },
    {
     "data": {
      "application/vnd.jupyter.widget-view+json": {
       "model_id": "646b4002ac624c96ab54d0a115679b44",
       "version_major": 2,
       "version_minor": 0
      },
      "text/plain": [
       "Validation: 0it [00:00, ?it/s]"
      ]
     },
     "metadata": {},
     "output_type": "display_data"
    },
    {
     "data": {
      "application/vnd.jupyter.widget-view+json": {
       "model_id": "163b808d39134dbdb069aa577786055e",
       "version_major": 2,
       "version_minor": 0
      },
      "text/plain": [
       "Validation: 0it [00:00, ?it/s]"
      ]
     },
     "metadata": {},
     "output_type": "display_data"
    },
    {
     "data": {
      "application/vnd.jupyter.widget-view+json": {
       "model_id": "be98705ca1804c58989651ff2da2d9f0",
       "version_major": 2,
       "version_minor": 0
      },
      "text/plain": [
       "Validation: 0it [00:00, ?it/s]"
      ]
     },
     "metadata": {},
     "output_type": "display_data"
    },
    {
     "data": {
      "application/vnd.jupyter.widget-view+json": {
       "model_id": "3b63af2770674f52ab83c94a3d7b6368",
       "version_major": 2,
       "version_minor": 0
      },
      "text/plain": [
       "Validation: 0it [00:00, ?it/s]"
      ]
     },
     "metadata": {},
     "output_type": "display_data"
    },
    {
     "name": "stderr",
     "output_type": "stream",
     "text": [
      "`Trainer.fit` stopped: `max_epochs=5` reached.\n",
      "Restoring states from the checkpoint path at c:\\Users\\w10\\Desktop\\BMA\\UPV\\tia\\algoritmos_geneticos\\notebooks\\lightning_logs\\version_368\\checkpoints\\epoch=4-step=150.ckpt\n",
      "Loaded model weights from the checkpoint at c:\\Users\\w10\\Desktop\\BMA\\UPV\\tia\\algoritmos_geneticos\\notebooks\\lightning_logs\\version_368\\checkpoints\\epoch=4-step=150.ckpt\n"
     ]
    },
    {
     "data": {
      "application/vnd.jupyter.widget-view+json": {
       "model_id": "4792846f538d43388313eb6eac7ff8f9",
       "version_major": 2,
       "version_minor": 0
      },
      "text/plain": [
       "Testing: 0it [00:00, ?it/s]"
      ]
     },
     "metadata": {},
     "output_type": "display_data"
    },
    {
     "data": {
      "text/html": [
       "<pre style=\"white-space:pre;overflow-x:auto;line-height:normal;font-family:Menlo,'DejaVu Sans Mono',consolas,'Courier New',monospace\">┏━━━━━━━━━━━━━━━━━━━━━━━━━━━┳━━━━━━━━━━━━━━━━━━━━━━━━━━━┓\n",
       "┃<span style=\"font-weight: bold\">        Test metric        </span>┃<span style=\"font-weight: bold\">       DataLoader 0        </span>┃\n",
       "┡━━━━━━━━━━━━━━━━━━━━━━━━━━━╇━━━━━━━━━━━━━━━━━━━━━━━━━━━┩\n",
       "│<span style=\"color: #008080; text-decoration-color: #008080\">         test_loss         </span>│<span style=\"color: #800080; text-decoration-color: #800080\">    2.3058457374572754     </span>│\n",
       "└───────────────────────────┴───────────────────────────┘\n",
       "</pre>\n"
      ],
      "text/plain": [
       "┏━━━━━━━━━━━━━━━━━━━━━━━━━━━┳━━━━━━━━━━━━━━━━━━━━━━━━━━━┓\n",
       "┃\u001b[1m \u001b[0m\u001b[1m       Test metric       \u001b[0m\u001b[1m \u001b[0m┃\u001b[1m \u001b[0m\u001b[1m      DataLoader 0       \u001b[0m\u001b[1m \u001b[0m┃\n",
       "┡━━━━━━━━━━━━━━━━━━━━━━━━━━━╇━━━━━━━━━━━━━━━━━━━━━━━━━━━┩\n",
       "│\u001b[36m \u001b[0m\u001b[36m        test_loss        \u001b[0m\u001b[36m \u001b[0m│\u001b[35m \u001b[0m\u001b[35m   2.3058457374572754    \u001b[0m\u001b[35m \u001b[0m│\n",
       "└───────────────────────────┴───────────────────────────┘\n"
      ]
     },
     "metadata": {},
     "output_type": "display_data"
    },
    {
     "name": "stderr",
     "output_type": "stream",
     "text": [
      "GPU available: False, used: False\n",
      "TPU available: False, using: 0 TPU cores\n",
      "IPU available: False, using: 0 IPUs\n",
      "HPU available: False, using: 0 HPUs\n",
      "\n",
      "  | Name                 | Type        | Params\n",
      "-----------------------------------------------------\n",
      "0 | cnn1                 | Conv2d      | 416   \n",
      "1 | batch_norm_a         | BatchNorm2d | 32    \n",
      "2 | funcion_activacion_a | LeakyReLU   | 0     \n",
      "3 | dropout_1            | Dropout     | 0     \n",
      "4 | pool1                | AvgPool2d   | 0     \n",
      "5 | cnn2                 | Conv2d      | 4.1 K \n",
      "6 | batch_norm_b         | BatchNorm2d | 32    \n",
      "7 | dropout_2            | Dropout     | 0     \n",
      "8 | fc1                  | Linear      | 2.6 K \n",
      "-----------------------------------------------------\n",
      "7.1 K     Trainable params\n",
      "0         Non-trainable params\n",
      "7.1 K     Total params\n",
      "0.029     Total estimated model params size (MB)\n"
     ]
    },
    {
     "data": {
      "application/vnd.jupyter.widget-view+json": {
       "model_id": "e8f77e3948f044c1878141d2befaf208",
       "version_major": 2,
       "version_minor": 0
      },
      "text/plain": [
       "Sanity Checking: 0it [00:00, ?it/s]"
      ]
     },
     "metadata": {},
     "output_type": "display_data"
    },
    {
     "data": {
      "application/vnd.jupyter.widget-view+json": {
       "model_id": "c556d29600354fc49cb7b49effec0b1e",
       "version_major": 2,
       "version_minor": 0
      },
      "text/plain": [
       "Training: 0it [00:00, ?it/s]"
      ]
     },
     "metadata": {},
     "output_type": "display_data"
    },
    {
     "data": {
      "application/vnd.jupyter.widget-view+json": {
       "model_id": "8520003f0db6425eace04fc040fc19c4",
       "version_major": 2,
       "version_minor": 0
      },
      "text/plain": [
       "Validation: 0it [00:00, ?it/s]"
      ]
     },
     "metadata": {},
     "output_type": "display_data"
    },
    {
     "data": {
      "application/vnd.jupyter.widget-view+json": {
       "model_id": "59ae45d475a14f47a82f9e41037248c0",
       "version_major": 2,
       "version_minor": 0
      },
      "text/plain": [
       "Validation: 0it [00:00, ?it/s]"
      ]
     },
     "metadata": {},
     "output_type": "display_data"
    },
    {
     "data": {
      "application/vnd.jupyter.widget-view+json": {
       "model_id": "9a68558af9cd45898cc57d41050dea55",
       "version_major": 2,
       "version_minor": 0
      },
      "text/plain": [
       "Validation: 0it [00:00, ?it/s]"
      ]
     },
     "metadata": {},
     "output_type": "display_data"
    },
    {
     "data": {
      "application/vnd.jupyter.widget-view+json": {
       "model_id": "3f4b45ff0e93494e8368c05201fadd13",
       "version_major": 2,
       "version_minor": 0
      },
      "text/plain": [
       "Validation: 0it [00:00, ?it/s]"
      ]
     },
     "metadata": {},
     "output_type": "display_data"
    },
    {
     "data": {
      "application/vnd.jupyter.widget-view+json": {
       "model_id": "5ac02a8041f244de9452297e03c60953",
       "version_major": 2,
       "version_minor": 0
      },
      "text/plain": [
       "Validation: 0it [00:00, ?it/s]"
      ]
     },
     "metadata": {},
     "output_type": "display_data"
    },
    {
     "name": "stderr",
     "output_type": "stream",
     "text": [
      "`Trainer.fit` stopped: `max_epochs=5` reached.\n",
      "Restoring states from the checkpoint path at c:\\Users\\w10\\Desktop\\BMA\\UPV\\tia\\algoritmos_geneticos\\notebooks\\lightning_logs\\version_369\\checkpoints\\epoch=4-step=150.ckpt\n",
      "Loaded model weights from the checkpoint at c:\\Users\\w10\\Desktop\\BMA\\UPV\\tia\\algoritmos_geneticos\\notebooks\\lightning_logs\\version_369\\checkpoints\\epoch=4-step=150.ckpt\n"
     ]
    },
    {
     "data": {
      "application/vnd.jupyter.widget-view+json": {
       "model_id": "7f85b5ef89f149d89228c564ba2fcb8d",
       "version_major": 2,
       "version_minor": 0
      },
      "text/plain": [
       "Testing: 0it [00:00, ?it/s]"
      ]
     },
     "metadata": {},
     "output_type": "display_data"
    },
    {
     "data": {
      "text/html": [
       "<pre style=\"white-space:pre;overflow-x:auto;line-height:normal;font-family:Menlo,'DejaVu Sans Mono',consolas,'Courier New',monospace\">┏━━━━━━━━━━━━━━━━━━━━━━━━━━━┳━━━━━━━━━━━━━━━━━━━━━━━━━━━┓\n",
       "┃<span style=\"font-weight: bold\">        Test metric        </span>┃<span style=\"font-weight: bold\">       DataLoader 0        </span>┃\n",
       "┡━━━━━━━━━━━━━━━━━━━━━━━━━━━╇━━━━━━━━━━━━━━━━━━━━━━━━━━━┩\n",
       "│<span style=\"color: #008080; text-decoration-color: #008080\">         test_loss         </span>│<span style=\"color: #800080; text-decoration-color: #800080\">    1.9435603618621826     </span>│\n",
       "└───────────────────────────┴───────────────────────────┘\n",
       "</pre>\n"
      ],
      "text/plain": [
       "┏━━━━━━━━━━━━━━━━━━━━━━━━━━━┳━━━━━━━━━━━━━━━━━━━━━━━━━━━┓\n",
       "┃\u001b[1m \u001b[0m\u001b[1m       Test metric       \u001b[0m\u001b[1m \u001b[0m┃\u001b[1m \u001b[0m\u001b[1m      DataLoader 0       \u001b[0m\u001b[1m \u001b[0m┃\n",
       "┡━━━━━━━━━━━━━━━━━━━━━━━━━━━╇━━━━━━━━━━━━━━━━━━━━━━━━━━━┩\n",
       "│\u001b[36m \u001b[0m\u001b[36m        test_loss        \u001b[0m\u001b[36m \u001b[0m│\u001b[35m \u001b[0m\u001b[35m   1.9435603618621826    \u001b[0m\u001b[35m \u001b[0m│\n",
       "└───────────────────────────┴───────────────────────────┘\n"
      ]
     },
     "metadata": {},
     "output_type": "display_data"
    },
    {
     "name": "stderr",
     "output_type": "stream",
     "text": [
      "GPU available: False, used: False\n",
      "TPU available: False, using: 0 TPU cores\n",
      "IPU available: False, using: 0 IPUs\n",
      "HPU available: False, using: 0 HPUs\n",
      "\n",
      "  | Name                 | Type        | Params\n",
      "-----------------------------------------------------\n",
      "0 | cnn1                 | Conv2d      | 400   \n",
      "1 | batch_norm_a         | BatchNorm2d | 32    \n",
      "2 | funcion_activacion_a | SELU        | 0     \n",
      "3 | dropout_1            | Dropout     | 0     \n",
      "4 | pool1                | AvgPool2d   | 0     \n",
      "5 | cnn2                 | Conv2d      | 4.1 K \n",
      "6 | batch_norm_b         | BatchNorm2d | 32    \n",
      "7 | dropout_2            | Dropout     | 0     \n",
      "8 | fc1                  | Linear      | 2.6 K \n",
      "-----------------------------------------------------\n",
      "7.1 K     Trainable params\n",
      "0         Non-trainable params\n",
      "7.1 K     Total params\n",
      "0.029     Total estimated model params size (MB)\n"
     ]
    },
    {
     "data": {
      "application/vnd.jupyter.widget-view+json": {
       "model_id": "7f39884ca3e147bb887409d6645e5167",
       "version_major": 2,
       "version_minor": 0
      },
      "text/plain": [
       "Sanity Checking: 0it [00:00, ?it/s]"
      ]
     },
     "metadata": {},
     "output_type": "display_data"
    },
    {
     "data": {
      "application/vnd.jupyter.widget-view+json": {
       "model_id": "c3012f05c30341b585d5e6187de16397",
       "version_major": 2,
       "version_minor": 0
      },
      "text/plain": [
       "Training: 0it [00:00, ?it/s]"
      ]
     },
     "metadata": {},
     "output_type": "display_data"
    },
    {
     "data": {
      "application/vnd.jupyter.widget-view+json": {
       "model_id": "98dd4f250451450d8a7ddf04cb308287",
       "version_major": 2,
       "version_minor": 0
      },
      "text/plain": [
       "Validation: 0it [00:00, ?it/s]"
      ]
     },
     "metadata": {},
     "output_type": "display_data"
    },
    {
     "data": {
      "application/vnd.jupyter.widget-view+json": {
       "model_id": "c1ecf11c615148a29293d757cce783b6",
       "version_major": 2,
       "version_minor": 0
      },
      "text/plain": [
       "Validation: 0it [00:00, ?it/s]"
      ]
     },
     "metadata": {},
     "output_type": "display_data"
    },
    {
     "data": {
      "application/vnd.jupyter.widget-view+json": {
       "model_id": "a91361b5aba647b386d8fdefc3552a0a",
       "version_major": 2,
       "version_minor": 0
      },
      "text/plain": [
       "Validation: 0it [00:00, ?it/s]"
      ]
     },
     "metadata": {},
     "output_type": "display_data"
    },
    {
     "data": {
      "application/vnd.jupyter.widget-view+json": {
       "model_id": "364979df31034a07a792c50c86209382",
       "version_major": 2,
       "version_minor": 0
      },
      "text/plain": [
       "Validation: 0it [00:00, ?it/s]"
      ]
     },
     "metadata": {},
     "output_type": "display_data"
    },
    {
     "data": {
      "application/vnd.jupyter.widget-view+json": {
       "model_id": "88f8b861f0004b929d9d5231e75b4643",
       "version_major": 2,
       "version_minor": 0
      },
      "text/plain": [
       "Validation: 0it [00:00, ?it/s]"
      ]
     },
     "metadata": {},
     "output_type": "display_data"
    },
    {
     "name": "stderr",
     "output_type": "stream",
     "text": [
      "`Trainer.fit` stopped: `max_epochs=5` reached.\n",
      "Restoring states from the checkpoint path at c:\\Users\\w10\\Desktop\\BMA\\UPV\\tia\\algoritmos_geneticos\\notebooks\\lightning_logs\\version_370\\checkpoints\\epoch=4-step=150.ckpt\n",
      "Loaded model weights from the checkpoint at c:\\Users\\w10\\Desktop\\BMA\\UPV\\tia\\algoritmos_geneticos\\notebooks\\lightning_logs\\version_370\\checkpoints\\epoch=4-step=150.ckpt\n"
     ]
    },
    {
     "data": {
      "application/vnd.jupyter.widget-view+json": {
       "model_id": "8751224e39b242db90b950da7435c6d8",
       "version_major": 2,
       "version_minor": 0
      },
      "text/plain": [
       "Testing: 0it [00:00, ?it/s]"
      ]
     },
     "metadata": {},
     "output_type": "display_data"
    },
    {
     "data": {
      "text/html": [
       "<pre style=\"white-space:pre;overflow-x:auto;line-height:normal;font-family:Menlo,'DejaVu Sans Mono',consolas,'Courier New',monospace\">┏━━━━━━━━━━━━━━━━━━━━━━━━━━━┳━━━━━━━━━━━━━━━━━━━━━━━━━━━┓\n",
       "┃<span style=\"font-weight: bold\">        Test metric        </span>┃<span style=\"font-weight: bold\">       DataLoader 0        </span>┃\n",
       "┡━━━━━━━━━━━━━━━━━━━━━━━━━━━╇━━━━━━━━━━━━━━━━━━━━━━━━━━━┩\n",
       "│<span style=\"color: #008080; text-decoration-color: #008080\">         test_loss         </span>│<span style=\"color: #800080; text-decoration-color: #800080\">    1.4218307733535767     </span>│\n",
       "└───────────────────────────┴───────────────────────────┘\n",
       "</pre>\n"
      ],
      "text/plain": [
       "┏━━━━━━━━━━━━━━━━━━━━━━━━━━━┳━━━━━━━━━━━━━━━━━━━━━━━━━━━┓\n",
       "┃\u001b[1m \u001b[0m\u001b[1m       Test metric       \u001b[0m\u001b[1m \u001b[0m┃\u001b[1m \u001b[0m\u001b[1m      DataLoader 0       \u001b[0m\u001b[1m \u001b[0m┃\n",
       "┡━━━━━━━━━━━━━━━━━━━━━━━━━━━╇━━━━━━━━━━━━━━━━━━━━━━━━━━━┩\n",
       "│\u001b[36m \u001b[0m\u001b[36m        test_loss        \u001b[0m\u001b[36m \u001b[0m│\u001b[35m \u001b[0m\u001b[35m   1.4218307733535767    \u001b[0m\u001b[35m \u001b[0m│\n",
       "└───────────────────────────┴───────────────────────────┘\n"
      ]
     },
     "metadata": {},
     "output_type": "display_data"
    },
    {
     "name": "stderr",
     "output_type": "stream",
     "text": [
      "GPU available: False, used: False\n",
      "TPU available: False, using: 0 TPU cores\n",
      "IPU available: False, using: 0 IPUs\n",
      "HPU available: False, using: 0 HPUs\n",
      "\n",
      "  | Name                 | Type        | Params\n",
      "-----------------------------------------------------\n",
      "0 | cnn1                 | Conv2d      | 416   \n",
      "1 | batch_norm_a         | BatchNorm2d | 32    \n",
      "2 | funcion_activacion_a | ReLU        | 0     \n",
      "3 | dropout_1            | Dropout     | 0     \n",
      "4 | pool1                | AvgPool2d   | 0     \n",
      "5 | cnn2                 | Conv2d      | 4.1 K \n",
      "6 | batch_norm_b         | BatchNorm2d | 32    \n",
      "7 | dropout_2            | Dropout     | 0     \n",
      "8 | fc1                  | Linear      | 2.6 K \n",
      "-----------------------------------------------------\n",
      "7.1 K     Trainable params\n",
      "0         Non-trainable params\n",
      "7.1 K     Total params\n",
      "0.029     Total estimated model params size (MB)\n"
     ]
    },
    {
     "data": {
      "application/vnd.jupyter.widget-view+json": {
       "model_id": "f8a8993db59b438c9df03f07a4110f00",
       "version_major": 2,
       "version_minor": 0
      },
      "text/plain": [
       "Sanity Checking: 0it [00:00, ?it/s]"
      ]
     },
     "metadata": {},
     "output_type": "display_data"
    },
    {
     "data": {
      "application/vnd.jupyter.widget-view+json": {
       "model_id": "809a1ffa20f7412fb514d8479b028f3e",
       "version_major": 2,
       "version_minor": 0
      },
      "text/plain": [
       "Training: 0it [00:00, ?it/s]"
      ]
     },
     "metadata": {},
     "output_type": "display_data"
    },
    {
     "data": {
      "application/vnd.jupyter.widget-view+json": {
       "model_id": "acc2bd1e980844e3aa50481a463ac565",
       "version_major": 2,
       "version_minor": 0
      },
      "text/plain": [
       "Validation: 0it [00:00, ?it/s]"
      ]
     },
     "metadata": {},
     "output_type": "display_data"
    },
    {
     "data": {
      "application/vnd.jupyter.widget-view+json": {
       "model_id": "946d85885ccf40b58fdec959b368c414",
       "version_major": 2,
       "version_minor": 0
      },
      "text/plain": [
       "Validation: 0it [00:00, ?it/s]"
      ]
     },
     "metadata": {},
     "output_type": "display_data"
    },
    {
     "data": {
      "application/vnd.jupyter.widget-view+json": {
       "model_id": "a50119d8747649c0afcbf29f4dc0c066",
       "version_major": 2,
       "version_minor": 0
      },
      "text/plain": [
       "Validation: 0it [00:00, ?it/s]"
      ]
     },
     "metadata": {},
     "output_type": "display_data"
    },
    {
     "data": {
      "application/vnd.jupyter.widget-view+json": {
       "model_id": "bc0ea07949684ccb94fe77c04c7313c0",
       "version_major": 2,
       "version_minor": 0
      },
      "text/plain": [
       "Validation: 0it [00:00, ?it/s]"
      ]
     },
     "metadata": {},
     "output_type": "display_data"
    },
    {
     "data": {
      "application/vnd.jupyter.widget-view+json": {
       "model_id": "da86bc52ebed403f8ce259bb19a30214",
       "version_major": 2,
       "version_minor": 0
      },
      "text/plain": [
       "Validation: 0it [00:00, ?it/s]"
      ]
     },
     "metadata": {},
     "output_type": "display_data"
    },
    {
     "name": "stderr",
     "output_type": "stream",
     "text": [
      "`Trainer.fit` stopped: `max_epochs=5` reached.\n",
      "Restoring states from the checkpoint path at c:\\Users\\w10\\Desktop\\BMA\\UPV\\tia\\algoritmos_geneticos\\notebooks\\lightning_logs\\version_371\\checkpoints\\epoch=4-step=150.ckpt\n",
      "Loaded model weights from the checkpoint at c:\\Users\\w10\\Desktop\\BMA\\UPV\\tia\\algoritmos_geneticos\\notebooks\\lightning_logs\\version_371\\checkpoints\\epoch=4-step=150.ckpt\n"
     ]
    },
    {
     "data": {
      "application/vnd.jupyter.widget-view+json": {
       "model_id": "76552134844142e3a427052aef529f6b",
       "version_major": 2,
       "version_minor": 0
      },
      "text/plain": [
       "Testing: 0it [00:00, ?it/s]"
      ]
     },
     "metadata": {},
     "output_type": "display_data"
    },
    {
     "data": {
      "text/html": [
       "<pre style=\"white-space:pre;overflow-x:auto;line-height:normal;font-family:Menlo,'DejaVu Sans Mono',consolas,'Courier New',monospace\">┏━━━━━━━━━━━━━━━━━━━━━━━━━━━┳━━━━━━━━━━━━━━━━━━━━━━━━━━━┓\n",
       "┃<span style=\"font-weight: bold\">        Test metric        </span>┃<span style=\"font-weight: bold\">       DataLoader 0        </span>┃\n",
       "┡━━━━━━━━━━━━━━━━━━━━━━━━━━━╇━━━━━━━━━━━━━━━━━━━━━━━━━━━┩\n",
       "│<span style=\"color: #008080; text-decoration-color: #008080\">         test_loss         </span>│<span style=\"color: #800080; text-decoration-color: #800080\">     2.298651695251465     </span>│\n",
       "└───────────────────────────┴───────────────────────────┘\n",
       "</pre>\n"
      ],
      "text/plain": [
       "┏━━━━━━━━━━━━━━━━━━━━━━━━━━━┳━━━━━━━━━━━━━━━━━━━━━━━━━━━┓\n",
       "┃\u001b[1m \u001b[0m\u001b[1m       Test metric       \u001b[0m\u001b[1m \u001b[0m┃\u001b[1m \u001b[0m\u001b[1m      DataLoader 0       \u001b[0m\u001b[1m \u001b[0m┃\n",
       "┡━━━━━━━━━━━━━━━━━━━━━━━━━━━╇━━━━━━━━━━━━━━━━━━━━━━━━━━━┩\n",
       "│\u001b[36m \u001b[0m\u001b[36m        test_loss        \u001b[0m\u001b[36m \u001b[0m│\u001b[35m \u001b[0m\u001b[35m    2.298651695251465    \u001b[0m\u001b[35m \u001b[0m│\n",
       "└───────────────────────────┴───────────────────────────┘\n"
      ]
     },
     "metadata": {},
     "output_type": "display_data"
    },
    {
     "name": "stderr",
     "output_type": "stream",
     "text": [
      "GPU available: False, used: False\n",
      "TPU available: False, using: 0 TPU cores\n",
      "IPU available: False, using: 0 IPUs\n",
      "HPU available: False, using: 0 HPUs\n"
     ]
    },
    {
     "name": "stdout",
     "output_type": "stream",
     "text": [
      "[{'a_include_BN': True, 'a_include_bias': False, 'activation_type': ELU(alpha=1.0), 'b_include_BN': True, 'b_include_bias': True, 'pool_type': MaxPool2d(kernel_size=2, stride=2, padding=0, dilation=1, ceil_mode=False), 'learning_rate': 0.1, 'dropout_range_a': 0.1, 'dropout_range_b': 0.1}, MyModel(\n",
      "  (cnn1): Conv2d(1, 16, kernel_size=(5, 5), stride=(1, 1), bias=False)\n",
      "  (batch_norm_a): BatchNorm2d(16, eps=1e-05, momentum=0.1, affine=True, track_running_stats=True)\n",
      "  (funcion_activacion_a): ELU(alpha=1.0)\n",
      "  (dropout_1): Dropout(p=0.1, inplace=False)\n",
      "  (pool1): MaxPool2d(kernel_size=2, stride=2, padding=0, dilation=1, ceil_mode=False)\n",
      "  (cnn2): Conv2d(16, 16, kernel_size=(4, 4), stride=(1, 1))\n",
      "  (batch_norm_b): BatchNorm2d(16, eps=1e-05, momentum=0.1, affine=True, track_running_stats=True)\n",
      "  (funcion_activacion_b): ELU(alpha=1.0)\n",
      "  (dropout_2): Dropout(p=0.1, inplace=False)\n",
      "  (pool2): MaxPool2d(kernel_size=2, stride=2, padding=0, dilation=1, ceil_mode=False)\n",
      "  (fc1): Linear(in_features=256, out_features=10, bias=True)\n",
      "), 0.6979213356971741]\n",
      "3\n",
      "3\n",
      "3\n",
      "{'a_include_BN': True, 'a_include_bias': False, 'activation_type': ELU(alpha=1.0), 'b_include_BN': False, 'b_include_bias': True, 'pool_type': MaxPool2d(kernel_size=2, stride=2, padding=0, dilation=1, ceil_mode=False), 'learning_rate': 0.1, 'dropout_range_a': 0.1, 'dropout_range_b': 0.1}\n"
     ]
    },
    {
     "name": "stderr",
     "output_type": "stream",
     "text": [
      "\n",
      "  | Name                 | Type        | Params\n",
      "-----------------------------------------------------\n",
      "0 | cnn1                 | Conv2d      | 400   \n",
      "1 | batch_norm_a         | BatchNorm2d | 32    \n",
      "2 | funcion_activacion_a | ELU         | 0     \n",
      "3 | dropout_1            | Dropout     | 0     \n",
      "4 | pool1                | MaxPool2d   | 0     \n",
      "5 | cnn2                 | Conv2d      | 4.1 K \n",
      "6 | batch_norm_b         | BatchNorm2d | 32    \n",
      "7 | dropout_2            | Dropout     | 0     \n",
      "8 | fc1                  | Linear      | 2.6 K \n",
      "-----------------------------------------------------\n",
      "7.1 K     Trainable params\n",
      "0         Non-trainable params\n",
      "7.1 K     Total params\n",
      "0.029     Total estimated model params size (MB)\n"
     ]
    },
    {
     "data": {
      "application/vnd.jupyter.widget-view+json": {
       "model_id": "62f0b126726347489c8f13875e51832f",
       "version_major": 2,
       "version_minor": 0
      },
      "text/plain": [
       "Sanity Checking: 0it [00:00, ?it/s]"
      ]
     },
     "metadata": {},
     "output_type": "display_data"
    },
    {
     "data": {
      "application/vnd.jupyter.widget-view+json": {
       "model_id": "81b27bcb8e4042958cf2892150b3e8ad",
       "version_major": 2,
       "version_minor": 0
      },
      "text/plain": [
       "Training: 0it [00:00, ?it/s]"
      ]
     },
     "metadata": {},
     "output_type": "display_data"
    },
    {
     "data": {
      "application/vnd.jupyter.widget-view+json": {
       "model_id": "0dd720e7717d444da67779d37ecb55cc",
       "version_major": 2,
       "version_minor": 0
      },
      "text/plain": [
       "Validation: 0it [00:00, ?it/s]"
      ]
     },
     "metadata": {},
     "output_type": "display_data"
    },
    {
     "data": {
      "application/vnd.jupyter.widget-view+json": {
       "model_id": "9f132b641d9f4192922dd6de4f140a47",
       "version_major": 2,
       "version_minor": 0
      },
      "text/plain": [
       "Validation: 0it [00:00, ?it/s]"
      ]
     },
     "metadata": {},
     "output_type": "display_data"
    },
    {
     "data": {
      "application/vnd.jupyter.widget-view+json": {
       "model_id": "87c1eb4fbaf8481e9242f10f73c9b5df",
       "version_major": 2,
       "version_minor": 0
      },
      "text/plain": [
       "Validation: 0it [00:00, ?it/s]"
      ]
     },
     "metadata": {},
     "output_type": "display_data"
    },
    {
     "data": {
      "application/vnd.jupyter.widget-view+json": {
       "model_id": "9a17f88e8f3f45d196263002fc0870b3",
       "version_major": 2,
       "version_minor": 0
      },
      "text/plain": [
       "Validation: 0it [00:00, ?it/s]"
      ]
     },
     "metadata": {},
     "output_type": "display_data"
    },
    {
     "data": {
      "application/vnd.jupyter.widget-view+json": {
       "model_id": "1bf1524a91ca4e6d972a827e4ac44062",
       "version_major": 2,
       "version_minor": 0
      },
      "text/plain": [
       "Validation: 0it [00:00, ?it/s]"
      ]
     },
     "metadata": {},
     "output_type": "display_data"
    },
    {
     "name": "stderr",
     "output_type": "stream",
     "text": [
      "`Trainer.fit` stopped: `max_epochs=5` reached.\n",
      "Restoring states from the checkpoint path at c:\\Users\\w10\\Desktop\\BMA\\UPV\\tia\\algoritmos_geneticos\\notebooks\\lightning_logs\\version_372\\checkpoints\\epoch=4-step=150.ckpt\n",
      "Loaded model weights from the checkpoint at c:\\Users\\w10\\Desktop\\BMA\\UPV\\tia\\algoritmos_geneticos\\notebooks\\lightning_logs\\version_372\\checkpoints\\epoch=4-step=150.ckpt\n"
     ]
    },
    {
     "data": {
      "application/vnd.jupyter.widget-view+json": {
       "model_id": "66c91f11990a43e2873304d4c64e2a37",
       "version_major": 2,
       "version_minor": 0
      },
      "text/plain": [
       "Testing: 0it [00:00, ?it/s]"
      ]
     },
     "metadata": {},
     "output_type": "display_data"
    },
    {
     "data": {
      "text/html": [
       "<pre style=\"white-space:pre;overflow-x:auto;line-height:normal;font-family:Menlo,'DejaVu Sans Mono',consolas,'Courier New',monospace\">┏━━━━━━━━━━━━━━━━━━━━━━━━━━━┳━━━━━━━━━━━━━━━━━━━━━━━━━━━┓\n",
       "┃<span style=\"font-weight: bold\">        Test metric        </span>┃<span style=\"font-weight: bold\">       DataLoader 0        </span>┃\n",
       "┡━━━━━━━━━━━━━━━━━━━━━━━━━━━╇━━━━━━━━━━━━━━━━━━━━━━━━━━━┩\n",
       "│<span style=\"color: #008080; text-decoration-color: #008080\">         test_loss         </span>│<span style=\"color: #800080; text-decoration-color: #800080\">    0.8294638395309448     </span>│\n",
       "└───────────────────────────┴───────────────────────────┘\n",
       "</pre>\n"
      ],
      "text/plain": [
       "┏━━━━━━━━━━━━━━━━━━━━━━━━━━━┳━━━━━━━━━━━━━━━━━━━━━━━━━━━┓\n",
       "┃\u001b[1m \u001b[0m\u001b[1m       Test metric       \u001b[0m\u001b[1m \u001b[0m┃\u001b[1m \u001b[0m\u001b[1m      DataLoader 0       \u001b[0m\u001b[1m \u001b[0m┃\n",
       "┡━━━━━━━━━━━━━━━━━━━━━━━━━━━╇━━━━━━━━━━━━━━━━━━━━━━━━━━━┩\n",
       "│\u001b[36m \u001b[0m\u001b[36m        test_loss        \u001b[0m\u001b[36m \u001b[0m│\u001b[35m \u001b[0m\u001b[35m   0.8294638395309448    \u001b[0m\u001b[35m \u001b[0m│\n",
       "└───────────────────────────┴───────────────────────────┘\n"
      ]
     },
     "metadata": {},
     "output_type": "display_data"
    },
    {
     "name": "stderr",
     "output_type": "stream",
     "text": [
      "GPU available: False, used: False\n",
      "TPU available: False, using: 0 TPU cores\n",
      "IPU available: False, using: 0 IPUs\n",
      "HPU available: False, using: 0 HPUs\n"
     ]
    },
    {
     "name": "stdout",
     "output_type": "stream",
     "text": [
      "{'a_include_BN': False, 'a_include_bias': False, 'activation_type': SELU(), 'b_include_BN': False, 'b_include_bias': True, 'pool_type': AvgPool2d(kernel_size=2, stride=2, padding=0), 'learning_rate': 0.01, 'dropout_range_a': 0.3, 'dropout_range_b': 0.3}\n"
     ]
    },
    {
     "name": "stderr",
     "output_type": "stream",
     "text": [
      "\n",
      "  | Name                 | Type        | Params\n",
      "-----------------------------------------------------\n",
      "0 | cnn1                 | Conv2d      | 400   \n",
      "1 | batch_norm_a         | BatchNorm2d | 32    \n",
      "2 | funcion_activacion_a | SELU        | 0     \n",
      "3 | dropout_1            | Dropout     | 0     \n",
      "4 | pool1                | AvgPool2d   | 0     \n",
      "5 | cnn2                 | Conv2d      | 4.1 K \n",
      "6 | batch_norm_b         | BatchNorm2d | 32    \n",
      "7 | dropout_2            | Dropout     | 0     \n",
      "8 | fc1                  | Linear      | 2.6 K \n",
      "-----------------------------------------------------\n",
      "7.1 K     Trainable params\n",
      "0         Non-trainable params\n",
      "7.1 K     Total params\n",
      "0.029     Total estimated model params size (MB)\n"
     ]
    },
    {
     "data": {
      "application/vnd.jupyter.widget-view+json": {
       "model_id": "894c5336328e4bc7a25c8f5ca1559736",
       "version_major": 2,
       "version_minor": 0
      },
      "text/plain": [
       "Sanity Checking: 0it [00:00, ?it/s]"
      ]
     },
     "metadata": {},
     "output_type": "display_data"
    },
    {
     "data": {
      "application/vnd.jupyter.widget-view+json": {
       "model_id": "bcaa533a7c99494ab4d730ecc69e46b8",
       "version_major": 2,
       "version_minor": 0
      },
      "text/plain": [
       "Training: 0it [00:00, ?it/s]"
      ]
     },
     "metadata": {},
     "output_type": "display_data"
    },
    {
     "data": {
      "application/vnd.jupyter.widget-view+json": {
       "model_id": "4a6f530fbbb04f5cbb232dda870a3900",
       "version_major": 2,
       "version_minor": 0
      },
      "text/plain": [
       "Validation: 0it [00:00, ?it/s]"
      ]
     },
     "metadata": {},
     "output_type": "display_data"
    },
    {
     "data": {
      "application/vnd.jupyter.widget-view+json": {
       "model_id": "c178fcf922c84ddeb44d994ddbfe6637",
       "version_major": 2,
       "version_minor": 0
      },
      "text/plain": [
       "Validation: 0it [00:00, ?it/s]"
      ]
     },
     "metadata": {},
     "output_type": "display_data"
    },
    {
     "data": {
      "application/vnd.jupyter.widget-view+json": {
       "model_id": "9f98908c16ef407693e265704622ada4",
       "version_major": 2,
       "version_minor": 0
      },
      "text/plain": [
       "Validation: 0it [00:00, ?it/s]"
      ]
     },
     "metadata": {},
     "output_type": "display_data"
    },
    {
     "data": {
      "application/vnd.jupyter.widget-view+json": {
       "model_id": "cde5ea11e7234cc4b12d7c91da1be984",
       "version_major": 2,
       "version_minor": 0
      },
      "text/plain": [
       "Validation: 0it [00:00, ?it/s]"
      ]
     },
     "metadata": {},
     "output_type": "display_data"
    },
    {
     "data": {
      "application/vnd.jupyter.widget-view+json": {
       "model_id": "083ecfb4352f4724b8abacc0e8304d9f",
       "version_major": 2,
       "version_minor": 0
      },
      "text/plain": [
       "Validation: 0it [00:00, ?it/s]"
      ]
     },
     "metadata": {},
     "output_type": "display_data"
    },
    {
     "name": "stderr",
     "output_type": "stream",
     "text": [
      "`Trainer.fit` stopped: `max_epochs=5` reached.\n",
      "Restoring states from the checkpoint path at c:\\Users\\w10\\Desktop\\BMA\\UPV\\tia\\algoritmos_geneticos\\notebooks\\lightning_logs\\version_373\\checkpoints\\epoch=4-step=150.ckpt\n",
      "Loaded model weights from the checkpoint at c:\\Users\\w10\\Desktop\\BMA\\UPV\\tia\\algoritmos_geneticos\\notebooks\\lightning_logs\\version_373\\checkpoints\\epoch=4-step=150.ckpt\n"
     ]
    },
    {
     "data": {
      "application/vnd.jupyter.widget-view+json": {
       "model_id": "978e9394bdf94f5d9718e1c8b9857d58",
       "version_major": 2,
       "version_minor": 0
      },
      "text/plain": [
       "Testing: 0it [00:00, ?it/s]"
      ]
     },
     "metadata": {},
     "output_type": "display_data"
    },
    {
     "data": {
      "text/html": [
       "<pre style=\"white-space:pre;overflow-x:auto;line-height:normal;font-family:Menlo,'DejaVu Sans Mono',consolas,'Courier New',monospace\">┏━━━━━━━━━━━━━━━━━━━━━━━━━━━┳━━━━━━━━━━━━━━━━━━━━━━━━━━━┓\n",
       "┃<span style=\"font-weight: bold\">        Test metric        </span>┃<span style=\"font-weight: bold\">       DataLoader 0        </span>┃\n",
       "┡━━━━━━━━━━━━━━━━━━━━━━━━━━━╇━━━━━━━━━━━━━━━━━━━━━━━━━━━┩\n",
       "│<span style=\"color: #008080; text-decoration-color: #008080\">         test_loss         </span>│<span style=\"color: #800080; text-decoration-color: #800080\">    1.4013853073120117     </span>│\n",
       "└───────────────────────────┴───────────────────────────┘\n",
       "</pre>\n"
      ],
      "text/plain": [
       "┏━━━━━━━━━━━━━━━━━━━━━━━━━━━┳━━━━━━━━━━━━━━━━━━━━━━━━━━━┓\n",
       "┃\u001b[1m \u001b[0m\u001b[1m       Test metric       \u001b[0m\u001b[1m \u001b[0m┃\u001b[1m \u001b[0m\u001b[1m      DataLoader 0       \u001b[0m\u001b[1m \u001b[0m┃\n",
       "┡━━━━━━━━━━━━━━━━━━━━━━━━━━━╇━━━━━━━━━━━━━━━━━━━━━━━━━━━┩\n",
       "│\u001b[36m \u001b[0m\u001b[36m        test_loss        \u001b[0m\u001b[36m \u001b[0m│\u001b[35m \u001b[0m\u001b[35m   1.4013853073120117    \u001b[0m\u001b[35m \u001b[0m│\n",
       "└───────────────────────────┴───────────────────────────┘\n"
      ]
     },
     "metadata": {},
     "output_type": "display_data"
    },
    {
     "name": "stderr",
     "output_type": "stream",
     "text": [
      "GPU available: False, used: False\n",
      "TPU available: False, using: 0 TPU cores\n",
      "IPU available: False, using: 0 IPUs\n",
      "HPU available: False, using: 0 HPUs\n"
     ]
    },
    {
     "name": "stdout",
     "output_type": "stream",
     "text": [
      "{'a_include_BN': True, 'a_include_bias': True, 'activation_type': LeakyReLU(negative_slope=0.01), 'b_include_BN': True, 'b_include_bias': False, 'pool_type': AvgPool2d(kernel_size=2, stride=2, padding=0), 'learning_rate': 0.001, 'dropout_range_a': 0.3, 'dropout_range_b': 0}\n"
     ]
    },
    {
     "name": "stderr",
     "output_type": "stream",
     "text": [
      "\n",
      "  | Name                 | Type        | Params\n",
      "-----------------------------------------------------\n",
      "0 | cnn1                 | Conv2d      | 416   \n",
      "1 | batch_norm_a         | BatchNorm2d | 32    \n",
      "2 | funcion_activacion_a | LeakyReLU   | 0     \n",
      "3 | dropout_1            | Dropout     | 0     \n",
      "4 | pool1                | AvgPool2d   | 0     \n",
      "5 | cnn2                 | Conv2d      | 4.1 K \n",
      "6 | batch_norm_b         | BatchNorm2d | 32    \n",
      "7 | dropout_2            | Dropout     | 0     \n",
      "8 | fc1                  | Linear      | 2.6 K \n",
      "-----------------------------------------------------\n",
      "7.1 K     Trainable params\n",
      "0         Non-trainable params\n",
      "7.1 K     Total params\n",
      "0.029     Total estimated model params size (MB)\n"
     ]
    },
    {
     "data": {
      "application/vnd.jupyter.widget-view+json": {
       "model_id": "f188ef03f4254c4ca48a5421e47308cd",
       "version_major": 2,
       "version_minor": 0
      },
      "text/plain": [
       "Sanity Checking: 0it [00:00, ?it/s]"
      ]
     },
     "metadata": {},
     "output_type": "display_data"
    },
    {
     "data": {
      "application/vnd.jupyter.widget-view+json": {
       "model_id": "f48bd9a79b7946bc8f7cb5fc3b9adaef",
       "version_major": 2,
       "version_minor": 0
      },
      "text/plain": [
       "Training: 0it [00:00, ?it/s]"
      ]
     },
     "metadata": {},
     "output_type": "display_data"
    },
    {
     "data": {
      "application/vnd.jupyter.widget-view+json": {
       "model_id": "4a0db921a9f4432b80e4b40280abfb21",
       "version_major": 2,
       "version_minor": 0
      },
      "text/plain": [
       "Validation: 0it [00:00, ?it/s]"
      ]
     },
     "metadata": {},
     "output_type": "display_data"
    },
    {
     "data": {
      "application/vnd.jupyter.widget-view+json": {
       "model_id": "8cb9648219794599970b8014cbb257fb",
       "version_major": 2,
       "version_minor": 0
      },
      "text/plain": [
       "Validation: 0it [00:00, ?it/s]"
      ]
     },
     "metadata": {},
     "output_type": "display_data"
    },
    {
     "data": {
      "application/vnd.jupyter.widget-view+json": {
       "model_id": "ae23774efdfd4c04a4b843ec6f6685ca",
       "version_major": 2,
       "version_minor": 0
      },
      "text/plain": [
       "Validation: 0it [00:00, ?it/s]"
      ]
     },
     "metadata": {},
     "output_type": "display_data"
    },
    {
     "data": {
      "application/vnd.jupyter.widget-view+json": {
       "model_id": "870a7aecbb1b4ac7b703f8d492865944",
       "version_major": 2,
       "version_minor": 0
      },
      "text/plain": [
       "Validation: 0it [00:00, ?it/s]"
      ]
     },
     "metadata": {},
     "output_type": "display_data"
    },
    {
     "data": {
      "application/vnd.jupyter.widget-view+json": {
       "model_id": "ce0387dcdfb44cf9b4c03d0fc4d18f43",
       "version_major": 2,
       "version_minor": 0
      },
      "text/plain": [
       "Validation: 0it [00:00, ?it/s]"
      ]
     },
     "metadata": {},
     "output_type": "display_data"
    },
    {
     "name": "stderr",
     "output_type": "stream",
     "text": [
      "`Trainer.fit` stopped: `max_epochs=5` reached.\n",
      "Restoring states from the checkpoint path at c:\\Users\\w10\\Desktop\\BMA\\UPV\\tia\\algoritmos_geneticos\\notebooks\\lightning_logs\\version_374\\checkpoints\\epoch=4-step=150.ckpt\n",
      "Loaded model weights from the checkpoint at c:\\Users\\w10\\Desktop\\BMA\\UPV\\tia\\algoritmos_geneticos\\notebooks\\lightning_logs\\version_374\\checkpoints\\epoch=4-step=150.ckpt\n"
     ]
    },
    {
     "data": {
      "application/vnd.jupyter.widget-view+json": {
       "model_id": "e7bcb5be321e453db9ee60bae9162b5c",
       "version_major": 2,
       "version_minor": 0
      },
      "text/plain": [
       "Testing: 0it [00:00, ?it/s]"
      ]
     },
     "metadata": {},
     "output_type": "display_data"
    },
    {
     "data": {
      "text/html": [
       "<pre style=\"white-space:pre;overflow-x:auto;line-height:normal;font-family:Menlo,'DejaVu Sans Mono',consolas,'Courier New',monospace\">┏━━━━━━━━━━━━━━━━━━━━━━━━━━━┳━━━━━━━━━━━━━━━━━━━━━━━━━━━┓\n",
       "┃<span style=\"font-weight: bold\">        Test metric        </span>┃<span style=\"font-weight: bold\">       DataLoader 0        </span>┃\n",
       "┡━━━━━━━━━━━━━━━━━━━━━━━━━━━╇━━━━━━━━━━━━━━━━━━━━━━━━━━━┩\n",
       "│<span style=\"color: #008080; text-decoration-color: #008080\">         test_loss         </span>│<span style=\"color: #800080; text-decoration-color: #800080\">    1.9306148290634155     </span>│\n",
       "└───────────────────────────┴───────────────────────────┘\n",
       "</pre>\n"
      ],
      "text/plain": [
       "┏━━━━━━━━━━━━━━━━━━━━━━━━━━━┳━━━━━━━━━━━━━━━━━━━━━━━━━━━┓\n",
       "┃\u001b[1m \u001b[0m\u001b[1m       Test metric       \u001b[0m\u001b[1m \u001b[0m┃\u001b[1m \u001b[0m\u001b[1m      DataLoader 0       \u001b[0m\u001b[1m \u001b[0m┃\n",
       "┡━━━━━━━━━━━━━━━━━━━━━━━━━━━╇━━━━━━━━━━━━━━━━━━━━━━━━━━━┩\n",
       "│\u001b[36m \u001b[0m\u001b[36m        test_loss        \u001b[0m\u001b[36m \u001b[0m│\u001b[35m \u001b[0m\u001b[35m   1.9306148290634155    \u001b[0m\u001b[35m \u001b[0m│\n",
       "└───────────────────────────┴───────────────────────────┘\n"
      ]
     },
     "metadata": {},
     "output_type": "display_data"
    },
    {
     "name": "stderr",
     "output_type": "stream",
     "text": [
      "GPU available: False, used: False\n",
      "TPU available: False, using: 0 TPU cores\n",
      "IPU available: False, using: 0 IPUs\n",
      "HPU available: False, using: 0 HPUs\n"
     ]
    },
    {
     "name": "stdout",
     "output_type": "stream",
     "text": [
      "{'a_include_BN': False, 'a_include_bias': False, 'activation_type': SELU(), 'b_include_BN': False, 'b_include_bias': True, 'pool_type': AvgPool2d(kernel_size=2, stride=2, padding=0), 'learning_rate': 0.01, 'dropout_range_a': 0.3, 'dropout_range_b': 0.3}\n"
     ]
    },
    {
     "name": "stderr",
     "output_type": "stream",
     "text": [
      "\n",
      "  | Name                 | Type        | Params\n",
      "-----------------------------------------------------\n",
      "0 | cnn1                 | Conv2d      | 400   \n",
      "1 | batch_norm_a         | BatchNorm2d | 32    \n",
      "2 | funcion_activacion_a | SELU        | 0     \n",
      "3 | dropout_1            | Dropout     | 0     \n",
      "4 | pool1                | AvgPool2d   | 0     \n",
      "5 | cnn2                 | Conv2d      | 4.1 K \n",
      "6 | batch_norm_b         | BatchNorm2d | 32    \n",
      "7 | dropout_2            | Dropout     | 0     \n",
      "8 | fc1                  | Linear      | 2.6 K \n",
      "-----------------------------------------------------\n",
      "7.1 K     Trainable params\n",
      "0         Non-trainable params\n",
      "7.1 K     Total params\n",
      "0.029     Total estimated model params size (MB)\n"
     ]
    },
    {
     "data": {
      "application/vnd.jupyter.widget-view+json": {
       "model_id": "9e4add7599ac4b8c981fa6b925b89739",
       "version_major": 2,
       "version_minor": 0
      },
      "text/plain": [
       "Sanity Checking: 0it [00:00, ?it/s]"
      ]
     },
     "metadata": {},
     "output_type": "display_data"
    },
    {
     "data": {
      "application/vnd.jupyter.widget-view+json": {
       "model_id": "b106b0bb203845d2b8fce5075696baae",
       "version_major": 2,
       "version_minor": 0
      },
      "text/plain": [
       "Training: 0it [00:00, ?it/s]"
      ]
     },
     "metadata": {},
     "output_type": "display_data"
    },
    {
     "data": {
      "application/vnd.jupyter.widget-view+json": {
       "model_id": "7d7cca87d2f24d07a4eef9b75bd30637",
       "version_major": 2,
       "version_minor": 0
      },
      "text/plain": [
       "Validation: 0it [00:00, ?it/s]"
      ]
     },
     "metadata": {},
     "output_type": "display_data"
    },
    {
     "data": {
      "application/vnd.jupyter.widget-view+json": {
       "model_id": "db0a21645e6c4b4ca820a7049c7163d9",
       "version_major": 2,
       "version_minor": 0
      },
      "text/plain": [
       "Validation: 0it [00:00, ?it/s]"
      ]
     },
     "metadata": {},
     "output_type": "display_data"
    },
    {
     "data": {
      "application/vnd.jupyter.widget-view+json": {
       "model_id": "8df940b551554608b4f03d986f837f16",
       "version_major": 2,
       "version_minor": 0
      },
      "text/plain": [
       "Validation: 0it [00:00, ?it/s]"
      ]
     },
     "metadata": {},
     "output_type": "display_data"
    },
    {
     "data": {
      "application/vnd.jupyter.widget-view+json": {
       "model_id": "bec2803ac29342d4bbf05a3ec5094df9",
       "version_major": 2,
       "version_minor": 0
      },
      "text/plain": [
       "Validation: 0it [00:00, ?it/s]"
      ]
     },
     "metadata": {},
     "output_type": "display_data"
    },
    {
     "data": {
      "application/vnd.jupyter.widget-view+json": {
       "model_id": "bdb1a671abaf4579b4b0304a36fd1bce",
       "version_major": 2,
       "version_minor": 0
      },
      "text/plain": [
       "Validation: 0it [00:00, ?it/s]"
      ]
     },
     "metadata": {},
     "output_type": "display_data"
    },
    {
     "name": "stderr",
     "output_type": "stream",
     "text": [
      "`Trainer.fit` stopped: `max_epochs=5` reached.\n",
      "Restoring states from the checkpoint path at c:\\Users\\w10\\Desktop\\BMA\\UPV\\tia\\algoritmos_geneticos\\notebooks\\lightning_logs\\version_375\\checkpoints\\epoch=4-step=150.ckpt\n",
      "Loaded model weights from the checkpoint at c:\\Users\\w10\\Desktop\\BMA\\UPV\\tia\\algoritmos_geneticos\\notebooks\\lightning_logs\\version_375\\checkpoints\\epoch=4-step=150.ckpt\n"
     ]
    },
    {
     "data": {
      "application/vnd.jupyter.widget-view+json": {
       "model_id": "cd1907cd2696480b8ae3656462a54fde",
       "version_major": 2,
       "version_minor": 0
      },
      "text/plain": [
       "Testing: 0it [00:00, ?it/s]"
      ]
     },
     "metadata": {},
     "output_type": "display_data"
    },
    {
     "data": {
      "text/html": [
       "<pre style=\"white-space:pre;overflow-x:auto;line-height:normal;font-family:Menlo,'DejaVu Sans Mono',consolas,'Courier New',monospace\">┏━━━━━━━━━━━━━━━━━━━━━━━━━━━┳━━━━━━━━━━━━━━━━━━━━━━━━━━━┓\n",
       "┃<span style=\"font-weight: bold\">        Test metric        </span>┃<span style=\"font-weight: bold\">       DataLoader 0        </span>┃\n",
       "┡━━━━━━━━━━━━━━━━━━━━━━━━━━━╇━━━━━━━━━━━━━━━━━━━━━━━━━━━┩\n",
       "│<span style=\"color: #008080; text-decoration-color: #008080\">         test_loss         </span>│<span style=\"color: #800080; text-decoration-color: #800080\">    1.3397001028060913     </span>│\n",
       "└───────────────────────────┴───────────────────────────┘\n",
       "</pre>\n"
      ],
      "text/plain": [
       "┏━━━━━━━━━━━━━━━━━━━━━━━━━━━┳━━━━━━━━━━━━━━━━━━━━━━━━━━━┓\n",
       "┃\u001b[1m \u001b[0m\u001b[1m       Test metric       \u001b[0m\u001b[1m \u001b[0m┃\u001b[1m \u001b[0m\u001b[1m      DataLoader 0       \u001b[0m\u001b[1m \u001b[0m┃\n",
       "┡━━━━━━━━━━━━━━━━━━━━━━━━━━━╇━━━━━━━━━━━━━━━━━━━━━━━━━━━┩\n",
       "│\u001b[36m \u001b[0m\u001b[36m        test_loss        \u001b[0m\u001b[36m \u001b[0m│\u001b[35m \u001b[0m\u001b[35m   1.3397001028060913    \u001b[0m\u001b[35m \u001b[0m│\n",
       "└───────────────────────────┴───────────────────────────┘\n"
      ]
     },
     "metadata": {},
     "output_type": "display_data"
    },
    {
     "name": "stderr",
     "output_type": "stream",
     "text": [
      "GPU available: False, used: False\n",
      "TPU available: False, using: 0 TPU cores\n",
      "IPU available: False, using: 0 IPUs\n",
      "HPU available: False, using: 0 HPUs\n"
     ]
    },
    {
     "name": "stdout",
     "output_type": "stream",
     "text": [
      "{'a_include_BN': True, 'a_include_bias': True, 'activation_type': SELU(), 'b_include_BN': False, 'b_include_bias': True, 'pool_type': AvgPool2d(kernel_size=2, stride=2, padding=0), 'learning_rate': 0.01, 'dropout_range_a': 0.3, 'dropout_range_b': 0.3}\n"
     ]
    },
    {
     "name": "stderr",
     "output_type": "stream",
     "text": [
      "\n",
      "  | Name                 | Type        | Params\n",
      "-----------------------------------------------------\n",
      "0 | cnn1                 | Conv2d      | 416   \n",
      "1 | batch_norm_a         | BatchNorm2d | 32    \n",
      "2 | funcion_activacion_a | SELU        | 0     \n",
      "3 | dropout_1            | Dropout     | 0     \n",
      "4 | pool1                | AvgPool2d   | 0     \n",
      "5 | cnn2                 | Conv2d      | 4.1 K \n",
      "6 | batch_norm_b         | BatchNorm2d | 32    \n",
      "7 | dropout_2            | Dropout     | 0     \n",
      "8 | fc1                  | Linear      | 2.6 K \n",
      "-----------------------------------------------------\n",
      "7.2 K     Trainable params\n",
      "0         Non-trainable params\n",
      "7.2 K     Total params\n",
      "0.029     Total estimated model params size (MB)\n"
     ]
    },
    {
     "data": {
      "application/vnd.jupyter.widget-view+json": {
       "model_id": "9a9f51a84f92470aa75d1943b767e4a1",
       "version_major": 2,
       "version_minor": 0
      },
      "text/plain": [
       "Sanity Checking: 0it [00:00, ?it/s]"
      ]
     },
     "metadata": {},
     "output_type": "display_data"
    },
    {
     "data": {
      "application/vnd.jupyter.widget-view+json": {
       "model_id": "6dced173dcc543179282c786a69dbba0",
       "version_major": 2,
       "version_minor": 0
      },
      "text/plain": [
       "Training: 0it [00:00, ?it/s]"
      ]
     },
     "metadata": {},
     "output_type": "display_data"
    },
    {
     "data": {
      "application/vnd.jupyter.widget-view+json": {
       "model_id": "a271cb9e3e694ccb8edf422adced2b2f",
       "version_major": 2,
       "version_minor": 0
      },
      "text/plain": [
       "Validation: 0it [00:00, ?it/s]"
      ]
     },
     "metadata": {},
     "output_type": "display_data"
    },
    {
     "data": {
      "application/vnd.jupyter.widget-view+json": {
       "model_id": "3d23c2ae58a04d67a4976c77b4d759e0",
       "version_major": 2,
       "version_minor": 0
      },
      "text/plain": [
       "Validation: 0it [00:00, ?it/s]"
      ]
     },
     "metadata": {},
     "output_type": "display_data"
    },
    {
     "data": {
      "application/vnd.jupyter.widget-view+json": {
       "model_id": "9c61d85b92854b26a47354e293641f1c",
       "version_major": 2,
       "version_minor": 0
      },
      "text/plain": [
       "Validation: 0it [00:00, ?it/s]"
      ]
     },
     "metadata": {},
     "output_type": "display_data"
    },
    {
     "data": {
      "application/vnd.jupyter.widget-view+json": {
       "model_id": "1119d9ee2e51460d8c626255623efb67",
       "version_major": 2,
       "version_minor": 0
      },
      "text/plain": [
       "Validation: 0it [00:00, ?it/s]"
      ]
     },
     "metadata": {},
     "output_type": "display_data"
    },
    {
     "data": {
      "application/vnd.jupyter.widget-view+json": {
       "model_id": "6e3c8c22076c4f54a26b716eadbbb698",
       "version_major": 2,
       "version_minor": 0
      },
      "text/plain": [
       "Validation: 0it [00:00, ?it/s]"
      ]
     },
     "metadata": {},
     "output_type": "display_data"
    },
    {
     "name": "stderr",
     "output_type": "stream",
     "text": [
      "`Trainer.fit` stopped: `max_epochs=5` reached.\n",
      "Restoring states from the checkpoint path at c:\\Users\\w10\\Desktop\\BMA\\UPV\\tia\\algoritmos_geneticos\\notebooks\\lightning_logs\\version_376\\checkpoints\\epoch=4-step=150.ckpt\n",
      "Loaded model weights from the checkpoint at c:\\Users\\w10\\Desktop\\BMA\\UPV\\tia\\algoritmos_geneticos\\notebooks\\lightning_logs\\version_376\\checkpoints\\epoch=4-step=150.ckpt\n"
     ]
    },
    {
     "data": {
      "application/vnd.jupyter.widget-view+json": {
       "model_id": "a71d6da7ff5f4b16af511e1c5099f83d",
       "version_major": 2,
       "version_minor": 0
      },
      "text/plain": [
       "Testing: 0it [00:00, ?it/s]"
      ]
     },
     "metadata": {},
     "output_type": "display_data"
    },
    {
     "data": {
      "text/html": [
       "<pre style=\"white-space:pre;overflow-x:auto;line-height:normal;font-family:Menlo,'DejaVu Sans Mono',consolas,'Courier New',monospace\">┏━━━━━━━━━━━━━━━━━━━━━━━━━━━┳━━━━━━━━━━━━━━━━━━━━━━━━━━━┓\n",
       "┃<span style=\"font-weight: bold\">        Test metric        </span>┃<span style=\"font-weight: bold\">       DataLoader 0        </span>┃\n",
       "┡━━━━━━━━━━━━━━━━━━━━━━━━━━━╇━━━━━━━━━━━━━━━━━━━━━━━━━━━┩\n",
       "│<span style=\"color: #008080; text-decoration-color: #008080\">         test_loss         </span>│<span style=\"color: #800080; text-decoration-color: #800080\">    0.9914510250091553     </span>│\n",
       "└───────────────────────────┴───────────────────────────┘\n",
       "</pre>\n"
      ],
      "text/plain": [
       "┏━━━━━━━━━━━━━━━━━━━━━━━━━━━┳━━━━━━━━━━━━━━━━━━━━━━━━━━━┓\n",
       "┃\u001b[1m \u001b[0m\u001b[1m       Test metric       \u001b[0m\u001b[1m \u001b[0m┃\u001b[1m \u001b[0m\u001b[1m      DataLoader 0       \u001b[0m\u001b[1m \u001b[0m┃\n",
       "┡━━━━━━━━━━━━━━━━━━━━━━━━━━━╇━━━━━━━━━━━━━━━━━━━━━━━━━━━┩\n",
       "│\u001b[36m \u001b[0m\u001b[36m        test_loss        \u001b[0m\u001b[36m \u001b[0m│\u001b[35m \u001b[0m\u001b[35m   0.9914510250091553    \u001b[0m\u001b[35m \u001b[0m│\n",
       "└───────────────────────────┴───────────────────────────┘\n"
      ]
     },
     "metadata": {},
     "output_type": "display_data"
    },
    {
     "name": "stderr",
     "output_type": "stream",
     "text": [
      "GPU available: False, used: False\n",
      "TPU available: False, using: 0 TPU cores\n",
      "IPU available: False, using: 0 IPUs\n",
      "HPU available: False, using: 0 HPUs\n"
     ]
    },
    {
     "name": "stdout",
     "output_type": "stream",
     "text": [
      "{'a_include_BN': False, 'a_include_bias': False, 'activation_type': ELU(alpha=1.0), 'b_include_BN': False, 'b_include_bias': True, 'pool_type': MaxPool2d(kernel_size=2, stride=2, padding=0, dilation=1, ceil_mode=False), 'learning_rate': 0.1, 'dropout_range_a': 0.1, 'dropout_range_b': 0.1}\n"
     ]
    },
    {
     "name": "stderr",
     "output_type": "stream",
     "text": [
      "\n",
      "  | Name                 | Type        | Params\n",
      "-----------------------------------------------------\n",
      "0 | cnn1                 | Conv2d      | 400   \n",
      "1 | batch_norm_a         | BatchNorm2d | 32    \n",
      "2 | funcion_activacion_a | ELU         | 0     \n",
      "3 | dropout_1            | Dropout     | 0     \n",
      "4 | pool1                | MaxPool2d   | 0     \n",
      "5 | cnn2                 | Conv2d      | 4.1 K \n",
      "6 | batch_norm_b         | BatchNorm2d | 32    \n",
      "7 | dropout_2            | Dropout     | 0     \n",
      "8 | fc1                  | Linear      | 2.6 K \n",
      "-----------------------------------------------------\n",
      "7.1 K     Trainable params\n",
      "0         Non-trainable params\n",
      "7.1 K     Total params\n",
      "0.029     Total estimated model params size (MB)\n"
     ]
    },
    {
     "data": {
      "application/vnd.jupyter.widget-view+json": {
       "model_id": "bc32bca5f0284888bad94863de400e75",
       "version_major": 2,
       "version_minor": 0
      },
      "text/plain": [
       "Sanity Checking: 0it [00:00, ?it/s]"
      ]
     },
     "metadata": {},
     "output_type": "display_data"
    },
    {
     "data": {
      "application/vnd.jupyter.widget-view+json": {
       "model_id": "bf44797a189444a092f8ebd399d43100",
       "version_major": 2,
       "version_minor": 0
      },
      "text/plain": [
       "Training: 0it [00:00, ?it/s]"
      ]
     },
     "metadata": {},
     "output_type": "display_data"
    },
    {
     "data": {
      "application/vnd.jupyter.widget-view+json": {
       "model_id": "a1b4a8a23d0446c7a13542ec07d194e0",
       "version_major": 2,
       "version_minor": 0
      },
      "text/plain": [
       "Validation: 0it [00:00, ?it/s]"
      ]
     },
     "metadata": {},
     "output_type": "display_data"
    },
    {
     "data": {
      "application/vnd.jupyter.widget-view+json": {
       "model_id": "c83387843b504156889eef65961c2be8",
       "version_major": 2,
       "version_minor": 0
      },
      "text/plain": [
       "Validation: 0it [00:00, ?it/s]"
      ]
     },
     "metadata": {},
     "output_type": "display_data"
    },
    {
     "data": {
      "application/vnd.jupyter.widget-view+json": {
       "model_id": "9694e5a0f15d4cc4b68ce585bb427371",
       "version_major": 2,
       "version_minor": 0
      },
      "text/plain": [
       "Validation: 0it [00:00, ?it/s]"
      ]
     },
     "metadata": {},
     "output_type": "display_data"
    },
    {
     "data": {
      "application/vnd.jupyter.widget-view+json": {
       "model_id": "5ae44a7de26e41b887d259f41e37fb81",
       "version_major": 2,
       "version_minor": 0
      },
      "text/plain": [
       "Validation: 0it [00:00, ?it/s]"
      ]
     },
     "metadata": {},
     "output_type": "display_data"
    },
    {
     "data": {
      "application/vnd.jupyter.widget-view+json": {
       "model_id": "826eb4cab1764fb7b490fce0aeab099f",
       "version_major": 2,
       "version_minor": 0
      },
      "text/plain": [
       "Validation: 0it [00:00, ?it/s]"
      ]
     },
     "metadata": {},
     "output_type": "display_data"
    },
    {
     "name": "stderr",
     "output_type": "stream",
     "text": [
      "`Trainer.fit` stopped: `max_epochs=5` reached.\n",
      "Restoring states from the checkpoint path at c:\\Users\\w10\\Desktop\\BMA\\UPV\\tia\\algoritmos_geneticos\\notebooks\\lightning_logs\\version_377\\checkpoints\\epoch=4-step=150.ckpt\n",
      "Loaded model weights from the checkpoint at c:\\Users\\w10\\Desktop\\BMA\\UPV\\tia\\algoritmos_geneticos\\notebooks\\lightning_logs\\version_377\\checkpoints\\epoch=4-step=150.ckpt\n"
     ]
    },
    {
     "data": {
      "application/vnd.jupyter.widget-view+json": {
       "model_id": "f90604e7d5714418ace85bb452db66b9",
       "version_major": 2,
       "version_minor": 0
      },
      "text/plain": [
       "Testing: 0it [00:00, ?it/s]"
      ]
     },
     "metadata": {},
     "output_type": "display_data"
    },
    {
     "data": {
      "text/html": [
       "<pre style=\"white-space:pre;overflow-x:auto;line-height:normal;font-family:Menlo,'DejaVu Sans Mono',consolas,'Courier New',monospace\">┏━━━━━━━━━━━━━━━━━━━━━━━━━━━┳━━━━━━━━━━━━━━━━━━━━━━━━━━━┓\n",
       "┃<span style=\"font-weight: bold\">        Test metric        </span>┃<span style=\"font-weight: bold\">       DataLoader 0        </span>┃\n",
       "┡━━━━━━━━━━━━━━━━━━━━━━━━━━━╇━━━━━━━━━━━━━━━━━━━━━━━━━━━┩\n",
       "│<span style=\"color: #008080; text-decoration-color: #008080\">         test_loss         </span>│<span style=\"color: #800080; text-decoration-color: #800080\">     0.799950897693634     </span>│\n",
       "└───────────────────────────┴───────────────────────────┘\n",
       "</pre>\n"
      ],
      "text/plain": [
       "┏━━━━━━━━━━━━━━━━━━━━━━━━━━━┳━━━━━━━━━━━━━━━━━━━━━━━━━━━┓\n",
       "┃\u001b[1m \u001b[0m\u001b[1m       Test metric       \u001b[0m\u001b[1m \u001b[0m┃\u001b[1m \u001b[0m\u001b[1m      DataLoader 0       \u001b[0m\u001b[1m \u001b[0m┃\n",
       "┡━━━━━━━━━━━━━━━━━━━━━━━━━━━╇━━━━━━━━━━━━━━━━━━━━━━━━━━━┩\n",
       "│\u001b[36m \u001b[0m\u001b[36m        test_loss        \u001b[0m\u001b[36m \u001b[0m│\u001b[35m \u001b[0m\u001b[35m    0.799950897693634    \u001b[0m\u001b[35m \u001b[0m│\n",
       "└───────────────────────────┴───────────────────────────┘\n"
      ]
     },
     "metadata": {},
     "output_type": "display_data"
    },
    {
     "name": "stderr",
     "output_type": "stream",
     "text": [
      "GPU available: False, used: False\n",
      "TPU available: False, using: 0 TPU cores\n",
      "IPU available: False, using: 0 IPUs\n",
      "HPU available: False, using: 0 HPUs\n"
     ]
    },
    {
     "name": "stdout",
     "output_type": "stream",
     "text": [
      "0.799950897693634\n",
      "4\n",
      "4\n",
      "{'a_include_BN': False, 'a_include_bias': False, 'activation_type': ELU(alpha=1.0), 'b_include_BN': False, 'b_include_bias': True, 'pool_type': MaxPool2d(kernel_size=2, stride=2, padding=0, dilation=1, ceil_mode=False), 'learning_rate': 0.1, 'dropout_range_a': 0.1, 'dropout_range_b': 0.1}\n"
     ]
    },
    {
     "name": "stderr",
     "output_type": "stream",
     "text": [
      "\n",
      "  | Name                 | Type        | Params\n",
      "-----------------------------------------------------\n",
      "0 | cnn1                 | Conv2d      | 400   \n",
      "1 | batch_norm_a         | BatchNorm2d | 32    \n",
      "2 | funcion_activacion_a | ELU         | 0     \n",
      "3 | dropout_1            | Dropout     | 0     \n",
      "4 | pool1                | MaxPool2d   | 0     \n",
      "5 | cnn2                 | Conv2d      | 4.1 K \n",
      "6 | batch_norm_b         | BatchNorm2d | 32    \n",
      "7 | dropout_2            | Dropout     | 0     \n",
      "8 | fc1                  | Linear      | 2.6 K \n",
      "-----------------------------------------------------\n",
      "7.1 K     Trainable params\n",
      "0         Non-trainable params\n",
      "7.1 K     Total params\n",
      "0.029     Total estimated model params size (MB)\n"
     ]
    },
    {
     "data": {
      "application/vnd.jupyter.widget-view+json": {
       "model_id": "1e023d2fe3cd40cdb8c262c28ccbd742",
       "version_major": 2,
       "version_minor": 0
      },
      "text/plain": [
       "Sanity Checking: 0it [00:00, ?it/s]"
      ]
     },
     "metadata": {},
     "output_type": "display_data"
    },
    {
     "data": {
      "application/vnd.jupyter.widget-view+json": {
       "model_id": "77687d7ae458487f90cb9884d38db41d",
       "version_major": 2,
       "version_minor": 0
      },
      "text/plain": [
       "Training: 0it [00:00, ?it/s]"
      ]
     },
     "metadata": {},
     "output_type": "display_data"
    },
    {
     "data": {
      "application/vnd.jupyter.widget-view+json": {
       "model_id": "2456b9ce340f4e2887d1ec56ac5554ea",
       "version_major": 2,
       "version_minor": 0
      },
      "text/plain": [
       "Validation: 0it [00:00, ?it/s]"
      ]
     },
     "metadata": {},
     "output_type": "display_data"
    },
    {
     "data": {
      "application/vnd.jupyter.widget-view+json": {
       "model_id": "699c40d8df854635a9aae6361e401d56",
       "version_major": 2,
       "version_minor": 0
      },
      "text/plain": [
       "Validation: 0it [00:00, ?it/s]"
      ]
     },
     "metadata": {},
     "output_type": "display_data"
    },
    {
     "data": {
      "application/vnd.jupyter.widget-view+json": {
       "model_id": "81ac64e96ef14e2ebe4a679ea62a5f67",
       "version_major": 2,
       "version_minor": 0
      },
      "text/plain": [
       "Validation: 0it [00:00, ?it/s]"
      ]
     },
     "metadata": {},
     "output_type": "display_data"
    },
    {
     "data": {
      "application/vnd.jupyter.widget-view+json": {
       "model_id": "461589381e48486f93a2279d58f699fe",
       "version_major": 2,
       "version_minor": 0
      },
      "text/plain": [
       "Validation: 0it [00:00, ?it/s]"
      ]
     },
     "metadata": {},
     "output_type": "display_data"
    },
    {
     "data": {
      "application/vnd.jupyter.widget-view+json": {
       "model_id": "40bf48afba2149bab7cc410686930c83",
       "version_major": 2,
       "version_minor": 0
      },
      "text/plain": [
       "Validation: 0it [00:00, ?it/s]"
      ]
     },
     "metadata": {},
     "output_type": "display_data"
    },
    {
     "name": "stderr",
     "output_type": "stream",
     "text": [
      "`Trainer.fit` stopped: `max_epochs=5` reached.\n",
      "Restoring states from the checkpoint path at c:\\Users\\w10\\Desktop\\BMA\\UPV\\tia\\algoritmos_geneticos\\notebooks\\lightning_logs\\version_378\\checkpoints\\epoch=4-step=150.ckpt\n",
      "Loaded model weights from the checkpoint at c:\\Users\\w10\\Desktop\\BMA\\UPV\\tia\\algoritmos_geneticos\\notebooks\\lightning_logs\\version_378\\checkpoints\\epoch=4-step=150.ckpt\n"
     ]
    },
    {
     "data": {
      "application/vnd.jupyter.widget-view+json": {
       "model_id": "ba08461d5d434329b52ae0e3b8d3cd01",
       "version_major": 2,
       "version_minor": 0
      },
      "text/plain": [
       "Testing: 0it [00:00, ?it/s]"
      ]
     },
     "metadata": {},
     "output_type": "display_data"
    },
    {
     "data": {
      "text/html": [
       "<pre style=\"white-space:pre;overflow-x:auto;line-height:normal;font-family:Menlo,'DejaVu Sans Mono',consolas,'Courier New',monospace\">┏━━━━━━━━━━━━━━━━━━━━━━━━━━━┳━━━━━━━━━━━━━━━━━━━━━━━━━━━┓\n",
       "┃<span style=\"font-weight: bold\">        Test metric        </span>┃<span style=\"font-weight: bold\">       DataLoader 0        </span>┃\n",
       "┡━━━━━━━━━━━━━━━━━━━━━━━━━━━╇━━━━━━━━━━━━━━━━━━━━━━━━━━━┩\n",
       "│<span style=\"color: #008080; text-decoration-color: #008080\">         test_loss         </span>│<span style=\"color: #800080; text-decoration-color: #800080\">    0.9363505244255066     </span>│\n",
       "└───────────────────────────┴───────────────────────────┘\n",
       "</pre>\n"
      ],
      "text/plain": [
       "┏━━━━━━━━━━━━━━━━━━━━━━━━━━━┳━━━━━━━━━━━━━━━━━━━━━━━━━━━┓\n",
       "┃\u001b[1m \u001b[0m\u001b[1m       Test metric       \u001b[0m\u001b[1m \u001b[0m┃\u001b[1m \u001b[0m\u001b[1m      DataLoader 0       \u001b[0m\u001b[1m \u001b[0m┃\n",
       "┡━━━━━━━━━━━━━━━━━━━━━━━━━━━╇━━━━━━━━━━━━━━━━━━━━━━━━━━━┩\n",
       "│\u001b[36m \u001b[0m\u001b[36m        test_loss        \u001b[0m\u001b[36m \u001b[0m│\u001b[35m \u001b[0m\u001b[35m   0.9363505244255066    \u001b[0m\u001b[35m \u001b[0m│\n",
       "└───────────────────────────┴───────────────────────────┘\n"
      ]
     },
     "metadata": {},
     "output_type": "display_data"
    },
    {
     "name": "stderr",
     "output_type": "stream",
     "text": [
      "GPU available: False, used: False\n",
      "TPU available: False, using: 0 TPU cores\n",
      "IPU available: False, using: 0 IPUs\n",
      "HPU available: False, using: 0 HPUs\n"
     ]
    },
    {
     "name": "stdout",
     "output_type": "stream",
     "text": [
      "{'a_include_BN': True, 'a_include_bias': False, 'activation_type': ELU(alpha=1.0), 'b_include_BN': False, 'b_include_bias': True, 'pool_type': MaxPool2d(kernel_size=2, stride=2, padding=0, dilation=1, ceil_mode=False), 'learning_rate': 0.1, 'dropout_range_a': 0.1, 'dropout_range_b': 0.1}\n"
     ]
    },
    {
     "name": "stderr",
     "output_type": "stream",
     "text": [
      "\n",
      "  | Name                 | Type        | Params\n",
      "-----------------------------------------------------\n",
      "0 | cnn1                 | Conv2d      | 400   \n",
      "1 | batch_norm_a         | BatchNorm2d | 32    \n",
      "2 | funcion_activacion_a | ELU         | 0     \n",
      "3 | dropout_1            | Dropout     | 0     \n",
      "4 | pool1                | MaxPool2d   | 0     \n",
      "5 | cnn2                 | Conv2d      | 4.1 K \n",
      "6 | batch_norm_b         | BatchNorm2d | 32    \n",
      "7 | dropout_2            | Dropout     | 0     \n",
      "8 | fc1                  | Linear      | 2.6 K \n",
      "-----------------------------------------------------\n",
      "7.1 K     Trainable params\n",
      "0         Non-trainable params\n",
      "7.1 K     Total params\n",
      "0.029     Total estimated model params size (MB)\n"
     ]
    },
    {
     "data": {
      "application/vnd.jupyter.widget-view+json": {
       "model_id": "31bd4dc05fd4465980b71acc6f8b2290",
       "version_major": 2,
       "version_minor": 0
      },
      "text/plain": [
       "Sanity Checking: 0it [00:00, ?it/s]"
      ]
     },
     "metadata": {},
     "output_type": "display_data"
    },
    {
     "data": {
      "application/vnd.jupyter.widget-view+json": {
       "model_id": "6d6832fcd8c44c53bf376f9c960f13a1",
       "version_major": 2,
       "version_minor": 0
      },
      "text/plain": [
       "Training: 0it [00:00, ?it/s]"
      ]
     },
     "metadata": {},
     "output_type": "display_data"
    },
    {
     "data": {
      "application/vnd.jupyter.widget-view+json": {
       "model_id": "d9365cdc1e7a42699d6be06d9e067d40",
       "version_major": 2,
       "version_minor": 0
      },
      "text/plain": [
       "Validation: 0it [00:00, ?it/s]"
      ]
     },
     "metadata": {},
     "output_type": "display_data"
    },
    {
     "data": {
      "application/vnd.jupyter.widget-view+json": {
       "model_id": "12b48cf187574434a43e30d6a0065bc2",
       "version_major": 2,
       "version_minor": 0
      },
      "text/plain": [
       "Validation: 0it [00:00, ?it/s]"
      ]
     },
     "metadata": {},
     "output_type": "display_data"
    },
    {
     "data": {
      "application/vnd.jupyter.widget-view+json": {
       "model_id": "b650591089664766907964ab256f0177",
       "version_major": 2,
       "version_minor": 0
      },
      "text/plain": [
       "Validation: 0it [00:00, ?it/s]"
      ]
     },
     "metadata": {},
     "output_type": "display_data"
    },
    {
     "data": {
      "application/vnd.jupyter.widget-view+json": {
       "model_id": "50b8c11e3fbe4f66b3fabd0ecba48738",
       "version_major": 2,
       "version_minor": 0
      },
      "text/plain": [
       "Validation: 0it [00:00, ?it/s]"
      ]
     },
     "metadata": {},
     "output_type": "display_data"
    },
    {
     "data": {
      "application/vnd.jupyter.widget-view+json": {
       "model_id": "0d7ae929957d42aaa961ed2167fe4cb7",
       "version_major": 2,
       "version_minor": 0
      },
      "text/plain": [
       "Validation: 0it [00:00, ?it/s]"
      ]
     },
     "metadata": {},
     "output_type": "display_data"
    },
    {
     "name": "stderr",
     "output_type": "stream",
     "text": [
      "`Trainer.fit` stopped: `max_epochs=5` reached.\n",
      "Restoring states from the checkpoint path at c:\\Users\\w10\\Desktop\\BMA\\UPV\\tia\\algoritmos_geneticos\\notebooks\\lightning_logs\\version_379\\checkpoints\\epoch=4-step=150.ckpt\n",
      "Loaded model weights from the checkpoint at c:\\Users\\w10\\Desktop\\BMA\\UPV\\tia\\algoritmos_geneticos\\notebooks\\lightning_logs\\version_379\\checkpoints\\epoch=4-step=150.ckpt\n"
     ]
    },
    {
     "data": {
      "application/vnd.jupyter.widget-view+json": {
       "model_id": "f4d1304c4f464e61848d3e48d6dfdf0f",
       "version_major": 2,
       "version_minor": 0
      },
      "text/plain": [
       "Testing: 0it [00:00, ?it/s]"
      ]
     },
     "metadata": {},
     "output_type": "display_data"
    },
    {
     "data": {
      "text/html": [
       "<pre style=\"white-space:pre;overflow-x:auto;line-height:normal;font-family:Menlo,'DejaVu Sans Mono',consolas,'Courier New',monospace\">┏━━━━━━━━━━━━━━━━━━━━━━━━━━━┳━━━━━━━━━━━━━━━━━━━━━━━━━━━┓\n",
       "┃<span style=\"font-weight: bold\">        Test metric        </span>┃<span style=\"font-weight: bold\">       DataLoader 0        </span>┃\n",
       "┡━━━━━━━━━━━━━━━━━━━━━━━━━━━╇━━━━━━━━━━━━━━━━━━━━━━━━━━━┩\n",
       "│<span style=\"color: #008080; text-decoration-color: #008080\">         test_loss         </span>│<span style=\"color: #800080; text-decoration-color: #800080\">    0.9905290603637695     </span>│\n",
       "└───────────────────────────┴───────────────────────────┘\n",
       "</pre>\n"
      ],
      "text/plain": [
       "┏━━━━━━━━━━━━━━━━━━━━━━━━━━━┳━━━━━━━━━━━━━━━━━━━━━━━━━━━┓\n",
       "┃\u001b[1m \u001b[0m\u001b[1m       Test metric       \u001b[0m\u001b[1m \u001b[0m┃\u001b[1m \u001b[0m\u001b[1m      DataLoader 0       \u001b[0m\u001b[1m \u001b[0m┃\n",
       "┡━━━━━━━━━━━━━━━━━━━━━━━━━━━╇━━━━━━━━━━━━━━━━━━━━━━━━━━━┩\n",
       "│\u001b[36m \u001b[0m\u001b[36m        test_loss        \u001b[0m\u001b[36m \u001b[0m│\u001b[35m \u001b[0m\u001b[35m   0.9905290603637695    \u001b[0m\u001b[35m \u001b[0m│\n",
       "└───────────────────────────┴───────────────────────────┘\n"
      ]
     },
     "metadata": {},
     "output_type": "display_data"
    },
    {
     "name": "stderr",
     "output_type": "stream",
     "text": [
      "GPU available: False, used: False\n",
      "TPU available: False, using: 0 TPU cores\n",
      "IPU available: False, using: 0 IPUs\n",
      "HPU available: False, using: 0 HPUs\n"
     ]
    },
    {
     "name": "stdout",
     "output_type": "stream",
     "text": [
      "{'a_include_BN': True, 'a_include_bias': True, 'activation_type': SELU(), 'b_include_BN': False, 'b_include_bias': True, 'pool_type': AvgPool2d(kernel_size=2, stride=2, padding=0), 'learning_rate': 0.01, 'dropout_range_a': 0.3, 'dropout_range_b': 0.3}\n"
     ]
    },
    {
     "name": "stderr",
     "output_type": "stream",
     "text": [
      "\n",
      "  | Name                 | Type        | Params\n",
      "-----------------------------------------------------\n",
      "0 | cnn1                 | Conv2d      | 416   \n",
      "1 | batch_norm_a         | BatchNorm2d | 32    \n",
      "2 | funcion_activacion_a | SELU        | 0     \n",
      "3 | dropout_1            | Dropout     | 0     \n",
      "4 | pool1                | AvgPool2d   | 0     \n",
      "5 | cnn2                 | Conv2d      | 4.1 K \n",
      "6 | batch_norm_b         | BatchNorm2d | 32    \n",
      "7 | dropout_2            | Dropout     | 0     \n",
      "8 | fc1                  | Linear      | 2.6 K \n",
      "-----------------------------------------------------\n",
      "7.2 K     Trainable params\n",
      "0         Non-trainable params\n",
      "7.2 K     Total params\n",
      "0.029     Total estimated model params size (MB)\n"
     ]
    },
    {
     "data": {
      "application/vnd.jupyter.widget-view+json": {
       "model_id": "6e3288aed26c45b5a12059d218131aa9",
       "version_major": 2,
       "version_minor": 0
      },
      "text/plain": [
       "Sanity Checking: 0it [00:00, ?it/s]"
      ]
     },
     "metadata": {},
     "output_type": "display_data"
    },
    {
     "data": {
      "application/vnd.jupyter.widget-view+json": {
       "model_id": "784b5d11db574ff1bf27aa4e54e44ec8",
       "version_major": 2,
       "version_minor": 0
      },
      "text/plain": [
       "Training: 0it [00:00, ?it/s]"
      ]
     },
     "metadata": {},
     "output_type": "display_data"
    },
    {
     "data": {
      "application/vnd.jupyter.widget-view+json": {
       "model_id": "7496e49046c046bb87aad36cca16e67d",
       "version_major": 2,
       "version_minor": 0
      },
      "text/plain": [
       "Validation: 0it [00:00, ?it/s]"
      ]
     },
     "metadata": {},
     "output_type": "display_data"
    },
    {
     "data": {
      "application/vnd.jupyter.widget-view+json": {
       "model_id": "d5f28760a3594360aa0d6b7443723560",
       "version_major": 2,
       "version_minor": 0
      },
      "text/plain": [
       "Validation: 0it [00:00, ?it/s]"
      ]
     },
     "metadata": {},
     "output_type": "display_data"
    },
    {
     "data": {
      "application/vnd.jupyter.widget-view+json": {
       "model_id": "c0fbd18f40124ef0ad47ef217626d676",
       "version_major": 2,
       "version_minor": 0
      },
      "text/plain": [
       "Validation: 0it [00:00, ?it/s]"
      ]
     },
     "metadata": {},
     "output_type": "display_data"
    },
    {
     "data": {
      "application/vnd.jupyter.widget-view+json": {
       "model_id": "bb123a267fd042d9ab52bac3c5318c80",
       "version_major": 2,
       "version_minor": 0
      },
      "text/plain": [
       "Validation: 0it [00:00, ?it/s]"
      ]
     },
     "metadata": {},
     "output_type": "display_data"
    },
    {
     "data": {
      "application/vnd.jupyter.widget-view+json": {
       "model_id": "c34294955d07455e9cc4f29f374f3066",
       "version_major": 2,
       "version_minor": 0
      },
      "text/plain": [
       "Validation: 0it [00:00, ?it/s]"
      ]
     },
     "metadata": {},
     "output_type": "display_data"
    },
    {
     "name": "stderr",
     "output_type": "stream",
     "text": [
      "`Trainer.fit` stopped: `max_epochs=5` reached.\n",
      "Restoring states from the checkpoint path at c:\\Users\\w10\\Desktop\\BMA\\UPV\\tia\\algoritmos_geneticos\\notebooks\\lightning_logs\\version_380\\checkpoints\\epoch=4-step=150.ckpt\n",
      "Loaded model weights from the checkpoint at c:\\Users\\w10\\Desktop\\BMA\\UPV\\tia\\algoritmos_geneticos\\notebooks\\lightning_logs\\version_380\\checkpoints\\epoch=4-step=150.ckpt\n"
     ]
    },
    {
     "data": {
      "application/vnd.jupyter.widget-view+json": {
       "model_id": "3ba699ce5f2e44759bb101ccf5a05932",
       "version_major": 2,
       "version_minor": 0
      },
      "text/plain": [
       "Testing: 0it [00:00, ?it/s]"
      ]
     },
     "metadata": {},
     "output_type": "display_data"
    },
    {
     "data": {
      "text/html": [
       "<pre style=\"white-space:pre;overflow-x:auto;line-height:normal;font-family:Menlo,'DejaVu Sans Mono',consolas,'Courier New',monospace\">┏━━━━━━━━━━━━━━━━━━━━━━━━━━━┳━━━━━━━━━━━━━━━━━━━━━━━━━━━┓\n",
       "┃<span style=\"font-weight: bold\">        Test metric        </span>┃<span style=\"font-weight: bold\">       DataLoader 0        </span>┃\n",
       "┡━━━━━━━━━━━━━━━━━━━━━━━━━━━╇━━━━━━━━━━━━━━━━━━━━━━━━━━━┩\n",
       "│<span style=\"color: #008080; text-decoration-color: #008080\">         test_loss         </span>│<span style=\"color: #800080; text-decoration-color: #800080\">    0.8478590250015259     </span>│\n",
       "└───────────────────────────┴───────────────────────────┘\n",
       "</pre>\n"
      ],
      "text/plain": [
       "┏━━━━━━━━━━━━━━━━━━━━━━━━━━━┳━━━━━━━━━━━━━━━━━━━━━━━━━━━┓\n",
       "┃\u001b[1m \u001b[0m\u001b[1m       Test metric       \u001b[0m\u001b[1m \u001b[0m┃\u001b[1m \u001b[0m\u001b[1m      DataLoader 0       \u001b[0m\u001b[1m \u001b[0m┃\n",
       "┡━━━━━━━━━━━━━━━━━━━━━━━━━━━╇━━━━━━━━━━━━━━━━━━━━━━━━━━━┩\n",
       "│\u001b[36m \u001b[0m\u001b[36m        test_loss        \u001b[0m\u001b[36m \u001b[0m│\u001b[35m \u001b[0m\u001b[35m   0.8478590250015259    \u001b[0m\u001b[35m \u001b[0m│\n",
       "└───────────────────────────┴───────────────────────────┘\n"
      ]
     },
     "metadata": {},
     "output_type": "display_data"
    },
    {
     "name": "stderr",
     "output_type": "stream",
     "text": [
      "GPU available: False, used: False\n",
      "TPU available: False, using: 0 TPU cores\n",
      "IPU available: False, using: 0 IPUs\n",
      "HPU available: False, using: 0 HPUs\n"
     ]
    },
    {
     "name": "stdout",
     "output_type": "stream",
     "text": [
      "{'a_include_BN': False, 'a_include_bias': False, 'activation_type': SELU(), 'b_include_BN': False, 'b_include_bias': True, 'pool_type': AvgPool2d(kernel_size=2, stride=2, padding=0), 'learning_rate': 0.01, 'dropout_range_a': 0.3, 'dropout_range_b': 0.3}\n"
     ]
    },
    {
     "name": "stderr",
     "output_type": "stream",
     "text": [
      "\n",
      "  | Name                 | Type        | Params\n",
      "-----------------------------------------------------\n",
      "0 | cnn1                 | Conv2d      | 400   \n",
      "1 | batch_norm_a         | BatchNorm2d | 32    \n",
      "2 | funcion_activacion_a | SELU        | 0     \n",
      "3 | dropout_1            | Dropout     | 0     \n",
      "4 | pool1                | AvgPool2d   | 0     \n",
      "5 | cnn2                 | Conv2d      | 4.1 K \n",
      "6 | batch_norm_b         | BatchNorm2d | 32    \n",
      "7 | dropout_2            | Dropout     | 0     \n",
      "8 | fc1                  | Linear      | 2.6 K \n",
      "-----------------------------------------------------\n",
      "7.1 K     Trainable params\n",
      "0         Non-trainable params\n",
      "7.1 K     Total params\n",
      "0.029     Total estimated model params size (MB)\n"
     ]
    },
    {
     "data": {
      "application/vnd.jupyter.widget-view+json": {
       "model_id": "909c207991ed4b71a3d27b08cc1b7b8c",
       "version_major": 2,
       "version_minor": 0
      },
      "text/plain": [
       "Sanity Checking: 0it [00:00, ?it/s]"
      ]
     },
     "metadata": {},
     "output_type": "display_data"
    },
    {
     "data": {
      "application/vnd.jupyter.widget-view+json": {
       "model_id": "6830c293afeb498a89350593b5fc42d5",
       "version_major": 2,
       "version_minor": 0
      },
      "text/plain": [
       "Training: 0it [00:00, ?it/s]"
      ]
     },
     "metadata": {},
     "output_type": "display_data"
    },
    {
     "data": {
      "application/vnd.jupyter.widget-view+json": {
       "model_id": "86065a9490c64fc086ad1dffb8acc5e5",
       "version_major": 2,
       "version_minor": 0
      },
      "text/plain": [
       "Validation: 0it [00:00, ?it/s]"
      ]
     },
     "metadata": {},
     "output_type": "display_data"
    },
    {
     "data": {
      "application/vnd.jupyter.widget-view+json": {
       "model_id": "a2d234a2c2cb47788eafc34abec18e1e",
       "version_major": 2,
       "version_minor": 0
      },
      "text/plain": [
       "Validation: 0it [00:00, ?it/s]"
      ]
     },
     "metadata": {},
     "output_type": "display_data"
    },
    {
     "data": {
      "application/vnd.jupyter.widget-view+json": {
       "model_id": "616fe0663dd54f5185e3d2db19fc4f6e",
       "version_major": 2,
       "version_minor": 0
      },
      "text/plain": [
       "Validation: 0it [00:00, ?it/s]"
      ]
     },
     "metadata": {},
     "output_type": "display_data"
    },
    {
     "data": {
      "application/vnd.jupyter.widget-view+json": {
       "model_id": "8ffb95752faa41e1a2de39130dd27ee4",
       "version_major": 2,
       "version_minor": 0
      },
      "text/plain": [
       "Validation: 0it [00:00, ?it/s]"
      ]
     },
     "metadata": {},
     "output_type": "display_data"
    },
    {
     "data": {
      "application/vnd.jupyter.widget-view+json": {
       "model_id": "1223048086c34de987626588d180daf5",
       "version_major": 2,
       "version_minor": 0
      },
      "text/plain": [
       "Validation: 0it [00:00, ?it/s]"
      ]
     },
     "metadata": {},
     "output_type": "display_data"
    },
    {
     "name": "stderr",
     "output_type": "stream",
     "text": [
      "`Trainer.fit` stopped: `max_epochs=5` reached.\n",
      "Restoring states from the checkpoint path at c:\\Users\\w10\\Desktop\\BMA\\UPV\\tia\\algoritmos_geneticos\\notebooks\\lightning_logs\\version_381\\checkpoints\\epoch=4-step=150.ckpt\n",
      "Loaded model weights from the checkpoint at c:\\Users\\w10\\Desktop\\BMA\\UPV\\tia\\algoritmos_geneticos\\notebooks\\lightning_logs\\version_381\\checkpoints\\epoch=4-step=150.ckpt\n"
     ]
    },
    {
     "data": {
      "application/vnd.jupyter.widget-view+json": {
       "model_id": "f558e05577f54146b37cf5b29cc1a708",
       "version_major": 2,
       "version_minor": 0
      },
      "text/plain": [
       "Testing: 0it [00:00, ?it/s]"
      ]
     },
     "metadata": {},
     "output_type": "display_data"
    },
    {
     "data": {
      "text/html": [
       "<pre style=\"white-space:pre;overflow-x:auto;line-height:normal;font-family:Menlo,'DejaVu Sans Mono',consolas,'Courier New',monospace\">┏━━━━━━━━━━━━━━━━━━━━━━━━━━━┳━━━━━━━━━━━━━━━━━━━━━━━━━━━┓\n",
       "┃<span style=\"font-weight: bold\">        Test metric        </span>┃<span style=\"font-weight: bold\">       DataLoader 0        </span>┃\n",
       "┡━━━━━━━━━━━━━━━━━━━━━━━━━━━╇━━━━━━━━━━━━━━━━━━━━━━━━━━━┩\n",
       "│<span style=\"color: #008080; text-decoration-color: #008080\">         test_loss         </span>│<span style=\"color: #800080; text-decoration-color: #800080\">    1.6386088132858276     </span>│\n",
       "└───────────────────────────┴───────────────────────────┘\n",
       "</pre>\n"
      ],
      "text/plain": [
       "┏━━━━━━━━━━━━━━━━━━━━━━━━━━━┳━━━━━━━━━━━━━━━━━━━━━━━━━━━┓\n",
       "┃\u001b[1m \u001b[0m\u001b[1m       Test metric       \u001b[0m\u001b[1m \u001b[0m┃\u001b[1m \u001b[0m\u001b[1m      DataLoader 0       \u001b[0m\u001b[1m \u001b[0m┃\n",
       "┡━━━━━━━━━━━━━━━━━━━━━━━━━━━╇━━━━━━━━━━━━━━━━━━━━━━━━━━━┩\n",
       "│\u001b[36m \u001b[0m\u001b[36m        test_loss        \u001b[0m\u001b[36m \u001b[0m│\u001b[35m \u001b[0m\u001b[35m   1.6386088132858276    \u001b[0m\u001b[35m \u001b[0m│\n",
       "└───────────────────────────┴───────────────────────────┘\n"
      ]
     },
     "metadata": {},
     "output_type": "display_data"
    },
    {
     "name": "stderr",
     "output_type": "stream",
     "text": [
      "GPU available: False, used: False\n",
      "TPU available: False, using: 0 TPU cores\n",
      "IPU available: False, using: 0 IPUs\n",
      "HPU available: False, using: 0 HPUs\n"
     ]
    },
    {
     "name": "stdout",
     "output_type": "stream",
     "text": [
      "{'a_include_BN': True, 'a_include_bias': True, 'activation_type': ELU(alpha=1.0), 'b_include_BN': False, 'b_include_bias': True, 'pool_type': MaxPool2d(kernel_size=2, stride=2, padding=0, dilation=1, ceil_mode=False), 'learning_rate': 0.1, 'dropout_range_a': 0.1, 'dropout_range_b': 0.1}\n"
     ]
    },
    {
     "name": "stderr",
     "output_type": "stream",
     "text": [
      "\n",
      "  | Name                 | Type        | Params\n",
      "-----------------------------------------------------\n",
      "0 | cnn1                 | Conv2d      | 416   \n",
      "1 | batch_norm_a         | BatchNorm2d | 32    \n",
      "2 | funcion_activacion_a | ELU         | 0     \n",
      "3 | dropout_1            | Dropout     | 0     \n",
      "4 | pool1                | MaxPool2d   | 0     \n",
      "5 | cnn2                 | Conv2d      | 4.1 K \n",
      "6 | batch_norm_b         | BatchNorm2d | 32    \n",
      "7 | dropout_2            | Dropout     | 0     \n",
      "8 | fc1                  | Linear      | 2.6 K \n",
      "-----------------------------------------------------\n",
      "7.2 K     Trainable params\n",
      "0         Non-trainable params\n",
      "7.2 K     Total params\n",
      "0.029     Total estimated model params size (MB)\n"
     ]
    },
    {
     "data": {
      "application/vnd.jupyter.widget-view+json": {
       "model_id": "e58149bbcec249be99f08d1cae1c608b",
       "version_major": 2,
       "version_minor": 0
      },
      "text/plain": [
       "Sanity Checking: 0it [00:00, ?it/s]"
      ]
     },
     "metadata": {},
     "output_type": "display_data"
    },
    {
     "data": {
      "application/vnd.jupyter.widget-view+json": {
       "model_id": "38ff8f2fef80499d9513480f71d437c8",
       "version_major": 2,
       "version_minor": 0
      },
      "text/plain": [
       "Training: 0it [00:00, ?it/s]"
      ]
     },
     "metadata": {},
     "output_type": "display_data"
    },
    {
     "data": {
      "application/vnd.jupyter.widget-view+json": {
       "model_id": "ebd65003c8cd48678f4db6a3d7a05136",
       "version_major": 2,
       "version_minor": 0
      },
      "text/plain": [
       "Validation: 0it [00:00, ?it/s]"
      ]
     },
     "metadata": {},
     "output_type": "display_data"
    },
    {
     "data": {
      "application/vnd.jupyter.widget-view+json": {
       "model_id": "119063a31e96427db6e21590e5328f3a",
       "version_major": 2,
       "version_minor": 0
      },
      "text/plain": [
       "Validation: 0it [00:00, ?it/s]"
      ]
     },
     "metadata": {},
     "output_type": "display_data"
    },
    {
     "data": {
      "application/vnd.jupyter.widget-view+json": {
       "model_id": "9cd19c4fe2e54399a8e258aafde88e38",
       "version_major": 2,
       "version_minor": 0
      },
      "text/plain": [
       "Validation: 0it [00:00, ?it/s]"
      ]
     },
     "metadata": {},
     "output_type": "display_data"
    },
    {
     "data": {
      "application/vnd.jupyter.widget-view+json": {
       "model_id": "74914b33200d48f4a9e136c63887cc1f",
       "version_major": 2,
       "version_minor": 0
      },
      "text/plain": [
       "Validation: 0it [00:00, ?it/s]"
      ]
     },
     "metadata": {},
     "output_type": "display_data"
    },
    {
     "data": {
      "application/vnd.jupyter.widget-view+json": {
       "model_id": "35ee742fe8bf48af813c8def9cbaa91c",
       "version_major": 2,
       "version_minor": 0
      },
      "text/plain": [
       "Validation: 0it [00:00, ?it/s]"
      ]
     },
     "metadata": {},
     "output_type": "display_data"
    },
    {
     "name": "stderr",
     "output_type": "stream",
     "text": [
      "`Trainer.fit` stopped: `max_epochs=5` reached.\n",
      "Restoring states from the checkpoint path at c:\\Users\\w10\\Desktop\\BMA\\UPV\\tia\\algoritmos_geneticos\\notebooks\\lightning_logs\\version_382\\checkpoints\\epoch=4-step=150.ckpt\n",
      "Loaded model weights from the checkpoint at c:\\Users\\w10\\Desktop\\BMA\\UPV\\tia\\algoritmos_geneticos\\notebooks\\lightning_logs\\version_382\\checkpoints\\epoch=4-step=150.ckpt\n"
     ]
    },
    {
     "data": {
      "application/vnd.jupyter.widget-view+json": {
       "model_id": "fb7520c91b634ecf84cfdfb86d74f564",
       "version_major": 2,
       "version_minor": 0
      },
      "text/plain": [
       "Testing: 0it [00:00, ?it/s]"
      ]
     },
     "metadata": {},
     "output_type": "display_data"
    },
    {
     "data": {
      "text/html": [
       "<pre style=\"white-space:pre;overflow-x:auto;line-height:normal;font-family:Menlo,'DejaVu Sans Mono',consolas,'Courier New',monospace\">┏━━━━━━━━━━━━━━━━━━━━━━━━━━━┳━━━━━━━━━━━━━━━━━━━━━━━━━━━┓\n",
       "┃<span style=\"font-weight: bold\">        Test metric        </span>┃<span style=\"font-weight: bold\">       DataLoader 0        </span>┃\n",
       "┡━━━━━━━━━━━━━━━━━━━━━━━━━━━╇━━━━━━━━━━━━━━━━━━━━━━━━━━━┩\n",
       "│<span style=\"color: #008080; text-decoration-color: #008080\">         test_loss         </span>│<span style=\"color: #800080; text-decoration-color: #800080\">    1.0178743600845337     </span>│\n",
       "└───────────────────────────┴───────────────────────────┘\n",
       "</pre>\n"
      ],
      "text/plain": [
       "┏━━━━━━━━━━━━━━━━━━━━━━━━━━━┳━━━━━━━━━━━━━━━━━━━━━━━━━━━┓\n",
       "┃\u001b[1m \u001b[0m\u001b[1m       Test metric       \u001b[0m\u001b[1m \u001b[0m┃\u001b[1m \u001b[0m\u001b[1m      DataLoader 0       \u001b[0m\u001b[1m \u001b[0m┃\n",
       "┡━━━━━━━━━━━━━━━━━━━━━━━━━━━╇━━━━━━━━━━━━━━━━━━━━━━━━━━━┩\n",
       "│\u001b[36m \u001b[0m\u001b[36m        test_loss        \u001b[0m\u001b[36m \u001b[0m│\u001b[35m \u001b[0m\u001b[35m   1.0178743600845337    \u001b[0m\u001b[35m \u001b[0m│\n",
       "└───────────────────────────┴───────────────────────────┘\n"
      ]
     },
     "metadata": {},
     "output_type": "display_data"
    },
    {
     "name": "stderr",
     "output_type": "stream",
     "text": [
      "GPU available: False, used: False\n",
      "TPU available: False, using: 0 TPU cores\n",
      "IPU available: False, using: 0 IPUs\n",
      "HPU available: False, using: 0 HPUs\n"
     ]
    },
    {
     "name": "stdout",
     "output_type": "stream",
     "text": [
      "{'a_include_BN': True, 'a_include_bias': False, 'activation_type': ELU(alpha=1.0), 'b_include_BN': False, 'b_include_bias': True, 'pool_type': MaxPool2d(kernel_size=2, stride=2, padding=0, dilation=1, ceil_mode=False), 'learning_rate': 0.1, 'dropout_range_a': 0.1, 'dropout_range_b': 0.1}\n"
     ]
    },
    {
     "name": "stderr",
     "output_type": "stream",
     "text": [
      "\n",
      "  | Name                 | Type        | Params\n",
      "-----------------------------------------------------\n",
      "0 | cnn1                 | Conv2d      | 400   \n",
      "1 | batch_norm_a         | BatchNorm2d | 32    \n",
      "2 | funcion_activacion_a | ELU         | 0     \n",
      "3 | dropout_1            | Dropout     | 0     \n",
      "4 | pool1                | MaxPool2d   | 0     \n",
      "5 | cnn2                 | Conv2d      | 4.1 K \n",
      "6 | batch_norm_b         | BatchNorm2d | 32    \n",
      "7 | dropout_2            | Dropout     | 0     \n",
      "8 | fc1                  | Linear      | 2.6 K \n",
      "-----------------------------------------------------\n",
      "7.1 K     Trainable params\n",
      "0         Non-trainable params\n",
      "7.1 K     Total params\n",
      "0.029     Total estimated model params size (MB)\n"
     ]
    },
    {
     "data": {
      "application/vnd.jupyter.widget-view+json": {
       "model_id": "c26ad0b7c21e4a8a838a984024cf469d",
       "version_major": 2,
       "version_minor": 0
      },
      "text/plain": [
       "Sanity Checking: 0it [00:00, ?it/s]"
      ]
     },
     "metadata": {},
     "output_type": "display_data"
    },
    {
     "data": {
      "application/vnd.jupyter.widget-view+json": {
       "model_id": "940ec68cf6dc4bc899e9511e57ea1513",
       "version_major": 2,
       "version_minor": 0
      },
      "text/plain": [
       "Training: 0it [00:00, ?it/s]"
      ]
     },
     "metadata": {},
     "output_type": "display_data"
    },
    {
     "data": {
      "application/vnd.jupyter.widget-view+json": {
       "model_id": "8b7de8da35504ec5a0a2071b3e5a2c2a",
       "version_major": 2,
       "version_minor": 0
      },
      "text/plain": [
       "Validation: 0it [00:00, ?it/s]"
      ]
     },
     "metadata": {},
     "output_type": "display_data"
    },
    {
     "data": {
      "application/vnd.jupyter.widget-view+json": {
       "model_id": "9dadb94c73684530ba8290a534290875",
       "version_major": 2,
       "version_minor": 0
      },
      "text/plain": [
       "Validation: 0it [00:00, ?it/s]"
      ]
     },
     "metadata": {},
     "output_type": "display_data"
    },
    {
     "data": {
      "application/vnd.jupyter.widget-view+json": {
       "model_id": "804d835c5a9d4608a8f12cea430d726a",
       "version_major": 2,
       "version_minor": 0
      },
      "text/plain": [
       "Validation: 0it [00:00, ?it/s]"
      ]
     },
     "metadata": {},
     "output_type": "display_data"
    },
    {
     "data": {
      "application/vnd.jupyter.widget-view+json": {
       "model_id": "d3b66d5a30e84c9ca8e55c92e1392ddb",
       "version_major": 2,
       "version_minor": 0
      },
      "text/plain": [
       "Validation: 0it [00:00, ?it/s]"
      ]
     },
     "metadata": {},
     "output_type": "display_data"
    },
    {
     "data": {
      "application/vnd.jupyter.widget-view+json": {
       "model_id": "d108b8514e69473593fa8dd98df2b3e2",
       "version_major": 2,
       "version_minor": 0
      },
      "text/plain": [
       "Validation: 0it [00:00, ?it/s]"
      ]
     },
     "metadata": {},
     "output_type": "display_data"
    },
    {
     "name": "stderr",
     "output_type": "stream",
     "text": [
      "`Trainer.fit` stopped: `max_epochs=5` reached.\n",
      "Restoring states from the checkpoint path at c:\\Users\\w10\\Desktop\\BMA\\UPV\\tia\\algoritmos_geneticos\\notebooks\\lightning_logs\\version_383\\checkpoints\\epoch=4-step=150.ckpt\n",
      "Loaded model weights from the checkpoint at c:\\Users\\w10\\Desktop\\BMA\\UPV\\tia\\algoritmos_geneticos\\notebooks\\lightning_logs\\version_383\\checkpoints\\epoch=4-step=150.ckpt\n"
     ]
    },
    {
     "data": {
      "application/vnd.jupyter.widget-view+json": {
       "model_id": "5ea5a13ba3ba43f984b83dbde3072011",
       "version_major": 2,
       "version_minor": 0
      },
      "text/plain": [
       "Testing: 0it [00:00, ?it/s]"
      ]
     },
     "metadata": {},
     "output_type": "display_data"
    },
    {
     "data": {
      "text/html": [
       "<pre style=\"white-space:pre;overflow-x:auto;line-height:normal;font-family:Menlo,'DejaVu Sans Mono',consolas,'Courier New',monospace\">┏━━━━━━━━━━━━━━━━━━━━━━━━━━━┳━━━━━━━━━━━━━━━━━━━━━━━━━━━┓\n",
       "┃<span style=\"font-weight: bold\">        Test metric        </span>┃<span style=\"font-weight: bold\">       DataLoader 0        </span>┃\n",
       "┡━━━━━━━━━━━━━━━━━━━━━━━━━━━╇━━━━━━━━━━━━━━━━━━━━━━━━━━━┩\n",
       "│<span style=\"color: #008080; text-decoration-color: #008080\">         test_loss         </span>│<span style=\"color: #800080; text-decoration-color: #800080\">    0.7781291604042053     </span>│\n",
       "└───────────────────────────┴───────────────────────────┘\n",
       "</pre>\n"
      ],
      "text/plain": [
       "┏━━━━━━━━━━━━━━━━━━━━━━━━━━━┳━━━━━━━━━━━━━━━━━━━━━━━━━━━┓\n",
       "┃\u001b[1m \u001b[0m\u001b[1m       Test metric       \u001b[0m\u001b[1m \u001b[0m┃\u001b[1m \u001b[0m\u001b[1m      DataLoader 0       \u001b[0m\u001b[1m \u001b[0m┃\n",
       "┡━━━━━━━━━━━━━━━━━━━━━━━━━━━╇━━━━━━━━━━━━━━━━━━━━━━━━━━━┩\n",
       "│\u001b[36m \u001b[0m\u001b[36m        test_loss        \u001b[0m\u001b[36m \u001b[0m│\u001b[35m \u001b[0m\u001b[35m   0.7781291604042053    \u001b[0m\u001b[35m \u001b[0m│\n",
       "└───────────────────────────┴───────────────────────────┘\n"
      ]
     },
     "metadata": {},
     "output_type": "display_data"
    },
    {
     "name": "stderr",
     "output_type": "stream",
     "text": [
      "GPU available: False, used: False\n",
      "TPU available: False, using: 0 TPU cores\n",
      "IPU available: False, using: 0 IPUs\n",
      "HPU available: False, using: 0 HPUs\n"
     ]
    },
    {
     "name": "stdout",
     "output_type": "stream",
     "text": [
      "0.7781291604042053\n",
      "5\n",
      "{'a_include_BN': True, 'a_include_bias': False, 'activation_type': ELU(alpha=1.0), 'b_include_BN': False, 'b_include_bias': True, 'pool_type': MaxPool2d(kernel_size=2, stride=2, padding=0, dilation=1, ceil_mode=False), 'learning_rate': 0.1, 'dropout_range_a': 0.1, 'dropout_range_b': 0.1}\n"
     ]
    },
    {
     "name": "stderr",
     "output_type": "stream",
     "text": [
      "\n",
      "  | Name                 | Type        | Params\n",
      "-----------------------------------------------------\n",
      "0 | cnn1                 | Conv2d      | 400   \n",
      "1 | batch_norm_a         | BatchNorm2d | 32    \n",
      "2 | funcion_activacion_a | ELU         | 0     \n",
      "3 | dropout_1            | Dropout     | 0     \n",
      "4 | pool1                | MaxPool2d   | 0     \n",
      "5 | cnn2                 | Conv2d      | 4.1 K \n",
      "6 | batch_norm_b         | BatchNorm2d | 32    \n",
      "7 | dropout_2            | Dropout     | 0     \n",
      "8 | fc1                  | Linear      | 2.6 K \n",
      "-----------------------------------------------------\n",
      "7.1 K     Trainable params\n",
      "0         Non-trainable params\n",
      "7.1 K     Total params\n",
      "0.029     Total estimated model params size (MB)\n"
     ]
    },
    {
     "data": {
      "application/vnd.jupyter.widget-view+json": {
       "model_id": "3857e648e2984d54bad8f91cce49b0a4",
       "version_major": 2,
       "version_minor": 0
      },
      "text/plain": [
       "Sanity Checking: 0it [00:00, ?it/s]"
      ]
     },
     "metadata": {},
     "output_type": "display_data"
    },
    {
     "data": {
      "application/vnd.jupyter.widget-view+json": {
       "model_id": "6d8af6ee816743c190ef543550c50f8b",
       "version_major": 2,
       "version_minor": 0
      },
      "text/plain": [
       "Training: 0it [00:00, ?it/s]"
      ]
     },
     "metadata": {},
     "output_type": "display_data"
    },
    {
     "data": {
      "application/vnd.jupyter.widget-view+json": {
       "model_id": "072330c3718541078005ae2416b34739",
       "version_major": 2,
       "version_minor": 0
      },
      "text/plain": [
       "Validation: 0it [00:00, ?it/s]"
      ]
     },
     "metadata": {},
     "output_type": "display_data"
    },
    {
     "data": {
      "application/vnd.jupyter.widget-view+json": {
       "model_id": "83f45ba809c84e53914f9f36dd321458",
       "version_major": 2,
       "version_minor": 0
      },
      "text/plain": [
       "Validation: 0it [00:00, ?it/s]"
      ]
     },
     "metadata": {},
     "output_type": "display_data"
    },
    {
     "data": {
      "application/vnd.jupyter.widget-view+json": {
       "model_id": "7d7dada4c2674882bd902ffb033b518c",
       "version_major": 2,
       "version_minor": 0
      },
      "text/plain": [
       "Validation: 0it [00:00, ?it/s]"
      ]
     },
     "metadata": {},
     "output_type": "display_data"
    },
    {
     "data": {
      "application/vnd.jupyter.widget-view+json": {
       "model_id": "8bd64d1e52a1498abc966a6fc790b9c3",
       "version_major": 2,
       "version_minor": 0
      },
      "text/plain": [
       "Validation: 0it [00:00, ?it/s]"
      ]
     },
     "metadata": {},
     "output_type": "display_data"
    },
    {
     "data": {
      "application/vnd.jupyter.widget-view+json": {
       "model_id": "6fce8db8aaf94e35bea507a2c8216c69",
       "version_major": 2,
       "version_minor": 0
      },
      "text/plain": [
       "Validation: 0it [00:00, ?it/s]"
      ]
     },
     "metadata": {},
     "output_type": "display_data"
    },
    {
     "name": "stderr",
     "output_type": "stream",
     "text": [
      "`Trainer.fit` stopped: `max_epochs=5` reached.\n",
      "Restoring states from the checkpoint path at c:\\Users\\w10\\Desktop\\BMA\\UPV\\tia\\algoritmos_geneticos\\notebooks\\lightning_logs\\version_384\\checkpoints\\epoch=4-step=150.ckpt\n",
      "Loaded model weights from the checkpoint at c:\\Users\\w10\\Desktop\\BMA\\UPV\\tia\\algoritmos_geneticos\\notebooks\\lightning_logs\\version_384\\checkpoints\\epoch=4-step=150.ckpt\n"
     ]
    },
    {
     "data": {
      "application/vnd.jupyter.widget-view+json": {
       "model_id": "db8d13f6ba794fbdaa80842df785144d",
       "version_major": 2,
       "version_minor": 0
      },
      "text/plain": [
       "Testing: 0it [00:00, ?it/s]"
      ]
     },
     "metadata": {},
     "output_type": "display_data"
    },
    {
     "data": {
      "text/html": [
       "<pre style=\"white-space:pre;overflow-x:auto;line-height:normal;font-family:Menlo,'DejaVu Sans Mono',consolas,'Courier New',monospace\">┏━━━━━━━━━━━━━━━━━━━━━━━━━━━┳━━━━━━━━━━━━━━━━━━━━━━━━━━━┓\n",
       "┃<span style=\"font-weight: bold\">        Test metric        </span>┃<span style=\"font-weight: bold\">       DataLoader 0        </span>┃\n",
       "┡━━━━━━━━━━━━━━━━━━━━━━━━━━━╇━━━━━━━━━━━━━━━━━━━━━━━━━━━┩\n",
       "│<span style=\"color: #008080; text-decoration-color: #008080\">         test_loss         </span>│<span style=\"color: #800080; text-decoration-color: #800080\">    0.9392110109329224     </span>│\n",
       "└───────────────────────────┴───────────────────────────┘\n",
       "</pre>\n"
      ],
      "text/plain": [
       "┏━━━━━━━━━━━━━━━━━━━━━━━━━━━┳━━━━━━━━━━━━━━━━━━━━━━━━━━━┓\n",
       "┃\u001b[1m \u001b[0m\u001b[1m       Test metric       \u001b[0m\u001b[1m \u001b[0m┃\u001b[1m \u001b[0m\u001b[1m      DataLoader 0       \u001b[0m\u001b[1m \u001b[0m┃\n",
       "┡━━━━━━━━━━━━━━━━━━━━━━━━━━━╇━━━━━━━━━━━━━━━━━━━━━━━━━━━┩\n",
       "│\u001b[36m \u001b[0m\u001b[36m        test_loss        \u001b[0m\u001b[36m \u001b[0m│\u001b[35m \u001b[0m\u001b[35m   0.9392110109329224    \u001b[0m\u001b[35m \u001b[0m│\n",
       "└───────────────────────────┴───────────────────────────┘\n"
      ]
     },
     "metadata": {},
     "output_type": "display_data"
    },
    {
     "name": "stderr",
     "output_type": "stream",
     "text": [
      "GPU available: False, used: False\n",
      "TPU available: False, using: 0 TPU cores\n",
      "IPU available: False, using: 0 IPUs\n",
      "HPU available: False, using: 0 HPUs\n"
     ]
    },
    {
     "name": "stdout",
     "output_type": "stream",
     "text": [
      "{'a_include_BN': True, 'a_include_bias': False, 'activation_type': SELU(), 'b_include_BN': False, 'b_include_bias': True, 'pool_type': AvgPool2d(kernel_size=2, stride=2, padding=0), 'learning_rate': 0.01, 'dropout_range_a': 0.3, 'dropout_range_b': 0.3}\n"
     ]
    },
    {
     "name": "stderr",
     "output_type": "stream",
     "text": [
      "\n",
      "  | Name                 | Type        | Params\n",
      "-----------------------------------------------------\n",
      "0 | cnn1                 | Conv2d      | 400   \n",
      "1 | batch_norm_a         | BatchNorm2d | 32    \n",
      "2 | funcion_activacion_a | SELU        | 0     \n",
      "3 | dropout_1            | Dropout     | 0     \n",
      "4 | pool1                | AvgPool2d   | 0     \n",
      "5 | cnn2                 | Conv2d      | 4.1 K \n",
      "6 | batch_norm_b         | BatchNorm2d | 32    \n",
      "7 | dropout_2            | Dropout     | 0     \n",
      "8 | fc1                  | Linear      | 2.6 K \n",
      "-----------------------------------------------------\n",
      "7.1 K     Trainable params\n",
      "0         Non-trainable params\n",
      "7.1 K     Total params\n",
      "0.029     Total estimated model params size (MB)\n"
     ]
    },
    {
     "data": {
      "application/vnd.jupyter.widget-view+json": {
       "model_id": "6b52cbf94ef54067a174d60010741e81",
       "version_major": 2,
       "version_minor": 0
      },
      "text/plain": [
       "Sanity Checking: 0it [00:00, ?it/s]"
      ]
     },
     "metadata": {},
     "output_type": "display_data"
    },
    {
     "data": {
      "application/vnd.jupyter.widget-view+json": {
       "model_id": "cccad72b2dcd42beac1762f4adee2787",
       "version_major": 2,
       "version_minor": 0
      },
      "text/plain": [
       "Training: 0it [00:00, ?it/s]"
      ]
     },
     "metadata": {},
     "output_type": "display_data"
    },
    {
     "data": {
      "application/vnd.jupyter.widget-view+json": {
       "model_id": "56da4d8fd2d94624982d5c230dfbb6d1",
       "version_major": 2,
       "version_minor": 0
      },
      "text/plain": [
       "Validation: 0it [00:00, ?it/s]"
      ]
     },
     "metadata": {},
     "output_type": "display_data"
    },
    {
     "data": {
      "application/vnd.jupyter.widget-view+json": {
       "model_id": "9c47abad6eb045a6ad8d04f7e3f15932",
       "version_major": 2,
       "version_minor": 0
      },
      "text/plain": [
       "Validation: 0it [00:00, ?it/s]"
      ]
     },
     "metadata": {},
     "output_type": "display_data"
    },
    {
     "data": {
      "application/vnd.jupyter.widget-view+json": {
       "model_id": "0163404cd3cc4469957dafebb8ba38df",
       "version_major": 2,
       "version_minor": 0
      },
      "text/plain": [
       "Validation: 0it [00:00, ?it/s]"
      ]
     },
     "metadata": {},
     "output_type": "display_data"
    },
    {
     "data": {
      "application/vnd.jupyter.widget-view+json": {
       "model_id": "cc547e25d875447595f18a11cdd34257",
       "version_major": 2,
       "version_minor": 0
      },
      "text/plain": [
       "Validation: 0it [00:00, ?it/s]"
      ]
     },
     "metadata": {},
     "output_type": "display_data"
    },
    {
     "data": {
      "application/vnd.jupyter.widget-view+json": {
       "model_id": "345bd8f62ee048a7950a6052e1cdd374",
       "version_major": 2,
       "version_minor": 0
      },
      "text/plain": [
       "Validation: 0it [00:00, ?it/s]"
      ]
     },
     "metadata": {},
     "output_type": "display_data"
    },
    {
     "name": "stderr",
     "output_type": "stream",
     "text": [
      "`Trainer.fit` stopped: `max_epochs=5` reached.\n",
      "Restoring states from the checkpoint path at c:\\Users\\w10\\Desktop\\BMA\\UPV\\tia\\algoritmos_geneticos\\notebooks\\lightning_logs\\version_385\\checkpoints\\epoch=4-step=150.ckpt\n",
      "Loaded model weights from the checkpoint at c:\\Users\\w10\\Desktop\\BMA\\UPV\\tia\\algoritmos_geneticos\\notebooks\\lightning_logs\\version_385\\checkpoints\\epoch=4-step=150.ckpt\n"
     ]
    },
    {
     "data": {
      "application/vnd.jupyter.widget-view+json": {
       "model_id": "e6bb4dcdcc2249e4a603fe9c4d650ffa",
       "version_major": 2,
       "version_minor": 0
      },
      "text/plain": [
       "Testing: 0it [00:00, ?it/s]"
      ]
     },
     "metadata": {},
     "output_type": "display_data"
    },
    {
     "data": {
      "text/html": [
       "<pre style=\"white-space:pre;overflow-x:auto;line-height:normal;font-family:Menlo,'DejaVu Sans Mono',consolas,'Courier New',monospace\">┏━━━━━━━━━━━━━━━━━━━━━━━━━━━┳━━━━━━━━━━━━━━━━━━━━━━━━━━━┓\n",
       "┃<span style=\"font-weight: bold\">        Test metric        </span>┃<span style=\"font-weight: bold\">       DataLoader 0        </span>┃\n",
       "┡━━━━━━━━━━━━━━━━━━━━━━━━━━━╇━━━━━━━━━━━━━━━━━━━━━━━━━━━┩\n",
       "│<span style=\"color: #008080; text-decoration-color: #008080\">         test_loss         </span>│<span style=\"color: #800080; text-decoration-color: #800080\">    0.9387264847755432     </span>│\n",
       "└───────────────────────────┴───────────────────────────┘\n",
       "</pre>\n"
      ],
      "text/plain": [
       "┏━━━━━━━━━━━━━━━━━━━━━━━━━━━┳━━━━━━━━━━━━━━━━━━━━━━━━━━━┓\n",
       "┃\u001b[1m \u001b[0m\u001b[1m       Test metric       \u001b[0m\u001b[1m \u001b[0m┃\u001b[1m \u001b[0m\u001b[1m      DataLoader 0       \u001b[0m\u001b[1m \u001b[0m┃\n",
       "┡━━━━━━━━━━━━━━━━━━━━━━━━━━━╇━━━━━━━━━━━━━━━━━━━━━━━━━━━┩\n",
       "│\u001b[36m \u001b[0m\u001b[36m        test_loss        \u001b[0m\u001b[36m \u001b[0m│\u001b[35m \u001b[0m\u001b[35m   0.9387264847755432    \u001b[0m\u001b[35m \u001b[0m│\n",
       "└───────────────────────────┴───────────────────────────┘\n"
      ]
     },
     "metadata": {},
     "output_type": "display_data"
    },
    {
     "name": "stderr",
     "output_type": "stream",
     "text": [
      "GPU available: False, used: False\n",
      "TPU available: False, using: 0 TPU cores\n",
      "IPU available: False, using: 0 IPUs\n",
      "HPU available: False, using: 0 HPUs\n"
     ]
    },
    {
     "name": "stdout",
     "output_type": "stream",
     "text": [
      "{'a_include_BN': False, 'a_include_bias': False, 'activation_type': ELU(alpha=1.0), 'b_include_BN': False, 'b_include_bias': True, 'pool_type': MaxPool2d(kernel_size=2, stride=2, padding=0, dilation=1, ceil_mode=False), 'learning_rate': 0.1, 'dropout_range_a': 0.1, 'dropout_range_b': 0.1}\n"
     ]
    },
    {
     "name": "stderr",
     "output_type": "stream",
     "text": [
      "\n",
      "  | Name                 | Type        | Params\n",
      "-----------------------------------------------------\n",
      "0 | cnn1                 | Conv2d      | 400   \n",
      "1 | batch_norm_a         | BatchNorm2d | 32    \n",
      "2 | funcion_activacion_a | ELU         | 0     \n",
      "3 | dropout_1            | Dropout     | 0     \n",
      "4 | pool1                | MaxPool2d   | 0     \n",
      "5 | cnn2                 | Conv2d      | 4.1 K \n",
      "6 | batch_norm_b         | BatchNorm2d | 32    \n",
      "7 | dropout_2            | Dropout     | 0     \n",
      "8 | fc1                  | Linear      | 2.6 K \n",
      "-----------------------------------------------------\n",
      "7.1 K     Trainable params\n",
      "0         Non-trainable params\n",
      "7.1 K     Total params\n",
      "0.029     Total estimated model params size (MB)\n"
     ]
    },
    {
     "data": {
      "application/vnd.jupyter.widget-view+json": {
       "model_id": "d1ac63a8acc3441e8eef1fa60da7e024",
       "version_major": 2,
       "version_minor": 0
      },
      "text/plain": [
       "Sanity Checking: 0it [00:00, ?it/s]"
      ]
     },
     "metadata": {},
     "output_type": "display_data"
    },
    {
     "data": {
      "application/vnd.jupyter.widget-view+json": {
       "model_id": "f5fe467e3ece469dbed5c609c0e8d862",
       "version_major": 2,
       "version_minor": 0
      },
      "text/plain": [
       "Training: 0it [00:00, ?it/s]"
      ]
     },
     "metadata": {},
     "output_type": "display_data"
    },
    {
     "data": {
      "application/vnd.jupyter.widget-view+json": {
       "model_id": "d739e16f7f814300be2954877ed0b622",
       "version_major": 2,
       "version_minor": 0
      },
      "text/plain": [
       "Validation: 0it [00:00, ?it/s]"
      ]
     },
     "metadata": {},
     "output_type": "display_data"
    },
    {
     "data": {
      "application/vnd.jupyter.widget-view+json": {
       "model_id": "4c1a0ebd30c142b3bc7600dbef40070f",
       "version_major": 2,
       "version_minor": 0
      },
      "text/plain": [
       "Validation: 0it [00:00, ?it/s]"
      ]
     },
     "metadata": {},
     "output_type": "display_data"
    },
    {
     "data": {
      "application/vnd.jupyter.widget-view+json": {
       "model_id": "c449bc7a863f434eab2dc9de6e0f5d2b",
       "version_major": 2,
       "version_minor": 0
      },
      "text/plain": [
       "Validation: 0it [00:00, ?it/s]"
      ]
     },
     "metadata": {},
     "output_type": "display_data"
    },
    {
     "data": {
      "application/vnd.jupyter.widget-view+json": {
       "model_id": "f7040ee10d6e416eb0b0e384fa179b72",
       "version_major": 2,
       "version_minor": 0
      },
      "text/plain": [
       "Validation: 0it [00:00, ?it/s]"
      ]
     },
     "metadata": {},
     "output_type": "display_data"
    },
    {
     "data": {
      "application/vnd.jupyter.widget-view+json": {
       "model_id": "69e7d83f56e7474094d4b8f1dddcc315",
       "version_major": 2,
       "version_minor": 0
      },
      "text/plain": [
       "Validation: 0it [00:00, ?it/s]"
      ]
     },
     "metadata": {},
     "output_type": "display_data"
    },
    {
     "name": "stderr",
     "output_type": "stream",
     "text": [
      "`Trainer.fit` stopped: `max_epochs=5` reached.\n",
      "Restoring states from the checkpoint path at c:\\Users\\w10\\Desktop\\BMA\\UPV\\tia\\algoritmos_geneticos\\notebooks\\lightning_logs\\version_386\\checkpoints\\epoch=4-step=150.ckpt\n",
      "Loaded model weights from the checkpoint at c:\\Users\\w10\\Desktop\\BMA\\UPV\\tia\\algoritmos_geneticos\\notebooks\\lightning_logs\\version_386\\checkpoints\\epoch=4-step=150.ckpt\n"
     ]
    },
    {
     "data": {
      "application/vnd.jupyter.widget-view+json": {
       "model_id": "ca2e019dd4204d5ca764889de947c84e",
       "version_major": 2,
       "version_minor": 0
      },
      "text/plain": [
       "Testing: 0it [00:00, ?it/s]"
      ]
     },
     "metadata": {},
     "output_type": "display_data"
    },
    {
     "data": {
      "text/html": [
       "<pre style=\"white-space:pre;overflow-x:auto;line-height:normal;font-family:Menlo,'DejaVu Sans Mono',consolas,'Courier New',monospace\">┏━━━━━━━━━━━━━━━━━━━━━━━━━━━┳━━━━━━━━━━━━━━━━━━━━━━━━━━━┓\n",
       "┃<span style=\"font-weight: bold\">        Test metric        </span>┃<span style=\"font-weight: bold\">       DataLoader 0        </span>┃\n",
       "┡━━━━━━━━━━━━━━━━━━━━━━━━━━━╇━━━━━━━━━━━━━━━━━━━━━━━━━━━┩\n",
       "│<span style=\"color: #008080; text-decoration-color: #008080\">         test_loss         </span>│<span style=\"color: #800080; text-decoration-color: #800080\">     0.967770516872406     </span>│\n",
       "└───────────────────────────┴───────────────────────────┘\n",
       "</pre>\n"
      ],
      "text/plain": [
       "┏━━━━━━━━━━━━━━━━━━━━━━━━━━━┳━━━━━━━━━━━━━━━━━━━━━━━━━━━┓\n",
       "┃\u001b[1m \u001b[0m\u001b[1m       Test metric       \u001b[0m\u001b[1m \u001b[0m┃\u001b[1m \u001b[0m\u001b[1m      DataLoader 0       \u001b[0m\u001b[1m \u001b[0m┃\n",
       "┡━━━━━━━━━━━━━━━━━━━━━━━━━━━╇━━━━━━━━━━━━━━━━━━━━━━━━━━━┩\n",
       "│\u001b[36m \u001b[0m\u001b[36m        test_loss        \u001b[0m\u001b[36m \u001b[0m│\u001b[35m \u001b[0m\u001b[35m    0.967770516872406    \u001b[0m\u001b[35m \u001b[0m│\n",
       "└───────────────────────────┴───────────────────────────┘\n"
      ]
     },
     "metadata": {},
     "output_type": "display_data"
    },
    {
     "name": "stderr",
     "output_type": "stream",
     "text": [
      "GPU available: False, used: False\n",
      "TPU available: False, using: 0 TPU cores\n",
      "IPU available: False, using: 0 IPUs\n",
      "HPU available: False, using: 0 HPUs\n"
     ]
    },
    {
     "name": "stdout",
     "output_type": "stream",
     "text": [
      "{'a_include_BN': True, 'a_include_bias': False, 'activation_type': ELU(alpha=1.0), 'b_include_BN': False, 'b_include_bias': True, 'pool_type': MaxPool2d(kernel_size=2, stride=2, padding=0, dilation=1, ceil_mode=False), 'learning_rate': 0.1, 'dropout_range_a': 0.1, 'dropout_range_b': 0.2}\n"
     ]
    },
    {
     "name": "stderr",
     "output_type": "stream",
     "text": [
      "\n",
      "  | Name                 | Type        | Params\n",
      "-----------------------------------------------------\n",
      "0 | cnn1                 | Conv2d      | 400   \n",
      "1 | batch_norm_a         | BatchNorm2d | 32    \n",
      "2 | funcion_activacion_a | ELU         | 0     \n",
      "3 | dropout_1            | Dropout     | 0     \n",
      "4 | pool1                | MaxPool2d   | 0     \n",
      "5 | cnn2                 | Conv2d      | 4.1 K \n",
      "6 | batch_norm_b         | BatchNorm2d | 32    \n",
      "7 | dropout_2            | Dropout     | 0     \n",
      "8 | fc1                  | Linear      | 2.6 K \n",
      "-----------------------------------------------------\n",
      "7.1 K     Trainable params\n",
      "0         Non-trainable params\n",
      "7.1 K     Total params\n",
      "0.029     Total estimated model params size (MB)\n"
     ]
    },
    {
     "data": {
      "application/vnd.jupyter.widget-view+json": {
       "model_id": "2e4a089f780449e9abc91cd02ab53770",
       "version_major": 2,
       "version_minor": 0
      },
      "text/plain": [
       "Sanity Checking: 0it [00:00, ?it/s]"
      ]
     },
     "metadata": {},
     "output_type": "display_data"
    },
    {
     "data": {
      "application/vnd.jupyter.widget-view+json": {
       "model_id": "f593adc9e04c48ac857c934160a7a6d2",
       "version_major": 2,
       "version_minor": 0
      },
      "text/plain": [
       "Training: 0it [00:00, ?it/s]"
      ]
     },
     "metadata": {},
     "output_type": "display_data"
    },
    {
     "data": {
      "application/vnd.jupyter.widget-view+json": {
       "model_id": "17c29915f54447abb3200033fc0098f2",
       "version_major": 2,
       "version_minor": 0
      },
      "text/plain": [
       "Validation: 0it [00:00, ?it/s]"
      ]
     },
     "metadata": {},
     "output_type": "display_data"
    },
    {
     "data": {
      "application/vnd.jupyter.widget-view+json": {
       "model_id": "8c5e101090874239aec9d06a4639c29c",
       "version_major": 2,
       "version_minor": 0
      },
      "text/plain": [
       "Validation: 0it [00:00, ?it/s]"
      ]
     },
     "metadata": {},
     "output_type": "display_data"
    },
    {
     "data": {
      "application/vnd.jupyter.widget-view+json": {
       "model_id": "9dcbd14c3d7a4baaa72181eda7e50dbb",
       "version_major": 2,
       "version_minor": 0
      },
      "text/plain": [
       "Validation: 0it [00:00, ?it/s]"
      ]
     },
     "metadata": {},
     "output_type": "display_data"
    },
    {
     "data": {
      "application/vnd.jupyter.widget-view+json": {
       "model_id": "c383d9b56e8542bf9d0722c00cd833bf",
       "version_major": 2,
       "version_minor": 0
      },
      "text/plain": [
       "Validation: 0it [00:00, ?it/s]"
      ]
     },
     "metadata": {},
     "output_type": "display_data"
    },
    {
     "data": {
      "application/vnd.jupyter.widget-view+json": {
       "model_id": "af576c8e8d104815a2cd2cf3609db59e",
       "version_major": 2,
       "version_minor": 0
      },
      "text/plain": [
       "Validation: 0it [00:00, ?it/s]"
      ]
     },
     "metadata": {},
     "output_type": "display_data"
    },
    {
     "name": "stderr",
     "output_type": "stream",
     "text": [
      "`Trainer.fit` stopped: `max_epochs=5` reached.\n",
      "Restoring states from the checkpoint path at c:\\Users\\w10\\Desktop\\BMA\\UPV\\tia\\algoritmos_geneticos\\notebooks\\lightning_logs\\version_387\\checkpoints\\epoch=4-step=150.ckpt\n",
      "Loaded model weights from the checkpoint at c:\\Users\\w10\\Desktop\\BMA\\UPV\\tia\\algoritmos_geneticos\\notebooks\\lightning_logs\\version_387\\checkpoints\\epoch=4-step=150.ckpt\n"
     ]
    },
    {
     "data": {
      "application/vnd.jupyter.widget-view+json": {
       "model_id": "78cc801f02774ed681d3527059dfed5d",
       "version_major": 2,
       "version_minor": 0
      },
      "text/plain": [
       "Testing: 0it [00:00, ?it/s]"
      ]
     },
     "metadata": {},
     "output_type": "display_data"
    },
    {
     "data": {
      "text/html": [
       "<pre style=\"white-space:pre;overflow-x:auto;line-height:normal;font-family:Menlo,'DejaVu Sans Mono',consolas,'Courier New',monospace\">┏━━━━━━━━━━━━━━━━━━━━━━━━━━━┳━━━━━━━━━━━━━━━━━━━━━━━━━━━┓\n",
       "┃<span style=\"font-weight: bold\">        Test metric        </span>┃<span style=\"font-weight: bold\">       DataLoader 0        </span>┃\n",
       "┡━━━━━━━━━━━━━━━━━━━━━━━━━━━╇━━━━━━━━━━━━━━━━━━━━━━━━━━━┩\n",
       "│<span style=\"color: #008080; text-decoration-color: #008080\">         test_loss         </span>│<span style=\"color: #800080; text-decoration-color: #800080\">    0.7955251336097717     </span>│\n",
       "└───────────────────────────┴───────────────────────────┘\n",
       "</pre>\n"
      ],
      "text/plain": [
       "┏━━━━━━━━━━━━━━━━━━━━━━━━━━━┳━━━━━━━━━━━━━━━━━━━━━━━━━━━┓\n",
       "┃\u001b[1m \u001b[0m\u001b[1m       Test metric       \u001b[0m\u001b[1m \u001b[0m┃\u001b[1m \u001b[0m\u001b[1m      DataLoader 0       \u001b[0m\u001b[1m \u001b[0m┃\n",
       "┡━━━━━━━━━━━━━━━━━━━━━━━━━━━╇━━━━━━━━━━━━━━━━━━━━━━━━━━━┩\n",
       "│\u001b[36m \u001b[0m\u001b[36m        test_loss        \u001b[0m\u001b[36m \u001b[0m│\u001b[35m \u001b[0m\u001b[35m   0.7955251336097717    \u001b[0m\u001b[35m \u001b[0m│\n",
       "└───────────────────────────┴───────────────────────────┘\n"
      ]
     },
     "metadata": {},
     "output_type": "display_data"
    },
    {
     "name": "stderr",
     "output_type": "stream",
     "text": [
      "GPU available: False, used: False\n",
      "TPU available: False, using: 0 TPU cores\n",
      "IPU available: False, using: 0 IPUs\n",
      "HPU available: False, using: 0 HPUs\n"
     ]
    },
    {
     "name": "stdout",
     "output_type": "stream",
     "text": [
      "{'a_include_BN': False, 'a_include_bias': False, 'activation_type': SELU(), 'b_include_BN': False, 'b_include_bias': True, 'pool_type': AvgPool2d(kernel_size=2, stride=2, padding=0), 'learning_rate': 0.01, 'dropout_range_a': 0.3, 'dropout_range_b': 0.3}\n"
     ]
    },
    {
     "name": "stderr",
     "output_type": "stream",
     "text": [
      "\n",
      "  | Name                 | Type        | Params\n",
      "-----------------------------------------------------\n",
      "0 | cnn1                 | Conv2d      | 400   \n",
      "1 | batch_norm_a         | BatchNorm2d | 32    \n",
      "2 | funcion_activacion_a | SELU        | 0     \n",
      "3 | dropout_1            | Dropout     | 0     \n",
      "4 | pool1                | AvgPool2d   | 0     \n",
      "5 | cnn2                 | Conv2d      | 4.1 K \n",
      "6 | batch_norm_b         | BatchNorm2d | 32    \n",
      "7 | dropout_2            | Dropout     | 0     \n",
      "8 | fc1                  | Linear      | 2.6 K \n",
      "-----------------------------------------------------\n",
      "7.1 K     Trainable params\n",
      "0         Non-trainable params\n",
      "7.1 K     Total params\n",
      "0.029     Total estimated model params size (MB)\n"
     ]
    },
    {
     "data": {
      "application/vnd.jupyter.widget-view+json": {
       "model_id": "3ef497153e484fa3869f48b099fd90db",
       "version_major": 2,
       "version_minor": 0
      },
      "text/plain": [
       "Sanity Checking: 0it [00:00, ?it/s]"
      ]
     },
     "metadata": {},
     "output_type": "display_data"
    },
    {
     "data": {
      "application/vnd.jupyter.widget-view+json": {
       "model_id": "a35e6ecd408440fb886eac7577f28527",
       "version_major": 2,
       "version_minor": 0
      },
      "text/plain": [
       "Training: 0it [00:00, ?it/s]"
      ]
     },
     "metadata": {},
     "output_type": "display_data"
    },
    {
     "data": {
      "application/vnd.jupyter.widget-view+json": {
       "model_id": "06a4acc6cd2e47ac9d88a2cf79628598",
       "version_major": 2,
       "version_minor": 0
      },
      "text/plain": [
       "Validation: 0it [00:00, ?it/s]"
      ]
     },
     "metadata": {},
     "output_type": "display_data"
    },
    {
     "data": {
      "application/vnd.jupyter.widget-view+json": {
       "model_id": "1080f7fa4e37409281b80935050f6d35",
       "version_major": 2,
       "version_minor": 0
      },
      "text/plain": [
       "Validation: 0it [00:00, ?it/s]"
      ]
     },
     "metadata": {},
     "output_type": "display_data"
    },
    {
     "data": {
      "application/vnd.jupyter.widget-view+json": {
       "model_id": "ef364846baa5447a8a97518a0f5e129f",
       "version_major": 2,
       "version_minor": 0
      },
      "text/plain": [
       "Validation: 0it [00:00, ?it/s]"
      ]
     },
     "metadata": {},
     "output_type": "display_data"
    },
    {
     "data": {
      "application/vnd.jupyter.widget-view+json": {
       "model_id": "46549ff852594a0c8522867812dbe0b9",
       "version_major": 2,
       "version_minor": 0
      },
      "text/plain": [
       "Validation: 0it [00:00, ?it/s]"
      ]
     },
     "metadata": {},
     "output_type": "display_data"
    },
    {
     "data": {
      "application/vnd.jupyter.widget-view+json": {
       "model_id": "9eea5a7fc4344708b6fb39a121d272bb",
       "version_major": 2,
       "version_minor": 0
      },
      "text/plain": [
       "Validation: 0it [00:00, ?it/s]"
      ]
     },
     "metadata": {},
     "output_type": "display_data"
    },
    {
     "name": "stderr",
     "output_type": "stream",
     "text": [
      "`Trainer.fit` stopped: `max_epochs=5` reached.\n",
      "Restoring states from the checkpoint path at c:\\Users\\w10\\Desktop\\BMA\\UPV\\tia\\algoritmos_geneticos\\notebooks\\lightning_logs\\version_388\\checkpoints\\epoch=4-step=150.ckpt\n",
      "Loaded model weights from the checkpoint at c:\\Users\\w10\\Desktop\\BMA\\UPV\\tia\\algoritmos_geneticos\\notebooks\\lightning_logs\\version_388\\checkpoints\\epoch=4-step=150.ckpt\n"
     ]
    },
    {
     "data": {
      "application/vnd.jupyter.widget-view+json": {
       "model_id": "f4d809c73e7442f7a6427184f1c38cb4",
       "version_major": 2,
       "version_minor": 0
      },
      "text/plain": [
       "Testing: 0it [00:00, ?it/s]"
      ]
     },
     "metadata": {},
     "output_type": "display_data"
    },
    {
     "data": {
      "text/html": [
       "<pre style=\"white-space:pre;overflow-x:auto;line-height:normal;font-family:Menlo,'DejaVu Sans Mono',consolas,'Courier New',monospace\">┏━━━━━━━━━━━━━━━━━━━━━━━━━━━┳━━━━━━━━━━━━━━━━━━━━━━━━━━━┓\n",
       "┃<span style=\"font-weight: bold\">        Test metric        </span>┃<span style=\"font-weight: bold\">       DataLoader 0        </span>┃\n",
       "┡━━━━━━━━━━━━━━━━━━━━━━━━━━━╇━━━━━━━━━━━━━━━━━━━━━━━━━━━┩\n",
       "│<span style=\"color: #008080; text-decoration-color: #008080\">         test_loss         </span>│<span style=\"color: #800080; text-decoration-color: #800080\">    1.4966871738433838     </span>│\n",
       "└───────────────────────────┴───────────────────────────┘\n",
       "</pre>\n"
      ],
      "text/plain": [
       "┏━━━━━━━━━━━━━━━━━━━━━━━━━━━┳━━━━━━━━━━━━━━━━━━━━━━━━━━━┓\n",
       "┃\u001b[1m \u001b[0m\u001b[1m       Test metric       \u001b[0m\u001b[1m \u001b[0m┃\u001b[1m \u001b[0m\u001b[1m      DataLoader 0       \u001b[0m\u001b[1m \u001b[0m┃\n",
       "┡━━━━━━━━━━━━━━━━━━━━━━━━━━━╇━━━━━━━━━━━━━━━━━━━━━━━━━━━┩\n",
       "│\u001b[36m \u001b[0m\u001b[36m        test_loss        \u001b[0m\u001b[36m \u001b[0m│\u001b[35m \u001b[0m\u001b[35m   1.4966871738433838    \u001b[0m\u001b[35m \u001b[0m│\n",
       "└───────────────────────────┴───────────────────────────┘\n"
      ]
     },
     "metadata": {},
     "output_type": "display_data"
    },
    {
     "name": "stderr",
     "output_type": "stream",
     "text": [
      "GPU available: False, used: False\n",
      "TPU available: False, using: 0 TPU cores\n",
      "IPU available: False, using: 0 IPUs\n",
      "HPU available: False, using: 0 HPUs\n"
     ]
    },
    {
     "name": "stdout",
     "output_type": "stream",
     "text": [
      "{'a_include_BN': True, 'a_include_bias': False, 'activation_type': ELU(alpha=1.0), 'b_include_BN': False, 'b_include_bias': True, 'pool_type': MaxPool2d(kernel_size=2, stride=2, padding=0, dilation=1, ceil_mode=False), 'learning_rate': 0.1, 'dropout_range_a': 0.1, 'dropout_range_b': 0.1}\n"
     ]
    },
    {
     "name": "stderr",
     "output_type": "stream",
     "text": [
      "\n",
      "  | Name                 | Type        | Params\n",
      "-----------------------------------------------------\n",
      "0 | cnn1                 | Conv2d      | 400   \n",
      "1 | batch_norm_a         | BatchNorm2d | 32    \n",
      "2 | funcion_activacion_a | ELU         | 0     \n",
      "3 | dropout_1            | Dropout     | 0     \n",
      "4 | pool1                | MaxPool2d   | 0     \n",
      "5 | cnn2                 | Conv2d      | 4.1 K \n",
      "6 | batch_norm_b         | BatchNorm2d | 32    \n",
      "7 | dropout_2            | Dropout     | 0     \n",
      "8 | fc1                  | Linear      | 2.6 K \n",
      "-----------------------------------------------------\n",
      "7.1 K     Trainable params\n",
      "0         Non-trainable params\n",
      "7.1 K     Total params\n",
      "0.029     Total estimated model params size (MB)\n"
     ]
    },
    {
     "data": {
      "application/vnd.jupyter.widget-view+json": {
       "model_id": "f5e890f807d040d9864eb4492bb3a95d",
       "version_major": 2,
       "version_minor": 0
      },
      "text/plain": [
       "Sanity Checking: 0it [00:00, ?it/s]"
      ]
     },
     "metadata": {},
     "output_type": "display_data"
    },
    {
     "data": {
      "application/vnd.jupyter.widget-view+json": {
       "model_id": "7f6e43179a9c4577b3ceeb0f30ee0d28",
       "version_major": 2,
       "version_minor": 0
      },
      "text/plain": [
       "Training: 0it [00:00, ?it/s]"
      ]
     },
     "metadata": {},
     "output_type": "display_data"
    },
    {
     "data": {
      "application/vnd.jupyter.widget-view+json": {
       "model_id": "d73410eddcbc46478bd9e690f42bbb5d",
       "version_major": 2,
       "version_minor": 0
      },
      "text/plain": [
       "Validation: 0it [00:00, ?it/s]"
      ]
     },
     "metadata": {},
     "output_type": "display_data"
    },
    {
     "data": {
      "application/vnd.jupyter.widget-view+json": {
       "model_id": "fd93c6f8a3c84e28ad992adba9e7dc65",
       "version_major": 2,
       "version_minor": 0
      },
      "text/plain": [
       "Validation: 0it [00:00, ?it/s]"
      ]
     },
     "metadata": {},
     "output_type": "display_data"
    },
    {
     "data": {
      "application/vnd.jupyter.widget-view+json": {
       "model_id": "fb1faee7bd9b4762b629d6aeac9efc2e",
       "version_major": 2,
       "version_minor": 0
      },
      "text/plain": [
       "Validation: 0it [00:00, ?it/s]"
      ]
     },
     "metadata": {},
     "output_type": "display_data"
    },
    {
     "data": {
      "application/vnd.jupyter.widget-view+json": {
       "model_id": "0504057812b14708827b74c5757e9fae",
       "version_major": 2,
       "version_minor": 0
      },
      "text/plain": [
       "Validation: 0it [00:00, ?it/s]"
      ]
     },
     "metadata": {},
     "output_type": "display_data"
    },
    {
     "data": {
      "application/vnd.jupyter.widget-view+json": {
       "model_id": "5d5a05f1489543fabaf3e7171459eb81",
       "version_major": 2,
       "version_minor": 0
      },
      "text/plain": [
       "Validation: 0it [00:00, ?it/s]"
      ]
     },
     "metadata": {},
     "output_type": "display_data"
    },
    {
     "name": "stderr",
     "output_type": "stream",
     "text": [
      "`Trainer.fit` stopped: `max_epochs=5` reached.\n",
      "Restoring states from the checkpoint path at c:\\Users\\w10\\Desktop\\BMA\\UPV\\tia\\algoritmos_geneticos\\notebooks\\lightning_logs\\version_389\\checkpoints\\epoch=4-step=150.ckpt\n",
      "Loaded model weights from the checkpoint at c:\\Users\\w10\\Desktop\\BMA\\UPV\\tia\\algoritmos_geneticos\\notebooks\\lightning_logs\\version_389\\checkpoints\\epoch=4-step=150.ckpt\n"
     ]
    },
    {
     "data": {
      "application/vnd.jupyter.widget-view+json": {
       "model_id": "bd11cf87ed884ec7a4449b88c5994ece",
       "version_major": 2,
       "version_minor": 0
      },
      "text/plain": [
       "Testing: 0it [00:00, ?it/s]"
      ]
     },
     "metadata": {},
     "output_type": "display_data"
    },
    {
     "data": {
      "text/html": [
       "<pre style=\"white-space:pre;overflow-x:auto;line-height:normal;font-family:Menlo,'DejaVu Sans Mono',consolas,'Courier New',monospace\">┏━━━━━━━━━━━━━━━━━━━━━━━━━━━┳━━━━━━━━━━━━━━━━━━━━━━━━━━━┓\n",
       "┃<span style=\"font-weight: bold\">        Test metric        </span>┃<span style=\"font-weight: bold\">       DataLoader 0        </span>┃\n",
       "┡━━━━━━━━━━━━━━━━━━━━━━━━━━━╇━━━━━━━━━━━━━━━━━━━━━━━━━━━┩\n",
       "│<span style=\"color: #008080; text-decoration-color: #008080\">         test_loss         </span>│<span style=\"color: #800080; text-decoration-color: #800080\">    0.9322822093963623     </span>│\n",
       "└───────────────────────────┴───────────────────────────┘\n",
       "</pre>\n"
      ],
      "text/plain": [
       "┏━━━━━━━━━━━━━━━━━━━━━━━━━━━┳━━━━━━━━━━━━━━━━━━━━━━━━━━━┓\n",
       "┃\u001b[1m \u001b[0m\u001b[1m       Test metric       \u001b[0m\u001b[1m \u001b[0m┃\u001b[1m \u001b[0m\u001b[1m      DataLoader 0       \u001b[0m\u001b[1m \u001b[0m┃\n",
       "┡━━━━━━━━━━━━━━━━━━━━━━━━━━━╇━━━━━━━━━━━━━━━━━━━━━━━━━━━┩\n",
       "│\u001b[36m \u001b[0m\u001b[36m        test_loss        \u001b[0m\u001b[36m \u001b[0m│\u001b[35m \u001b[0m\u001b[35m   0.9322822093963623    \u001b[0m\u001b[35m \u001b[0m│\n",
       "└───────────────────────────┴───────────────────────────┘\n"
      ]
     },
     "metadata": {},
     "output_type": "display_data"
    },
    {
     "name": "stderr",
     "output_type": "stream",
     "text": [
      "GPU available: False, used: False\n",
      "TPU available: False, using: 0 TPU cores\n",
      "IPU available: False, using: 0 IPUs\n",
      "HPU available: False, using: 0 HPUs\n"
     ]
    },
    {
     "name": "stdout",
     "output_type": "stream",
     "text": [
      "0.7955251336097717\n",
      "3\n",
      "3\n",
      "3\n",
      "{'a_include_BN': True, 'a_include_bias': False, 'activation_type': ELU(alpha=1.0), 'b_include_BN': False, 'b_include_bias': True, 'pool_type': MaxPool2d(kernel_size=2, stride=2, padding=0, dilation=1, ceil_mode=False), 'learning_rate': 0.1, 'dropout_range_a': 0.1, 'dropout_range_b': 0}\n"
     ]
    },
    {
     "name": "stderr",
     "output_type": "stream",
     "text": [
      "\n",
      "  | Name                 | Type        | Params\n",
      "-----------------------------------------------------\n",
      "0 | cnn1                 | Conv2d      | 400   \n",
      "1 | batch_norm_a         | BatchNorm2d | 32    \n",
      "2 | funcion_activacion_a | ELU         | 0     \n",
      "3 | dropout_1            | Dropout     | 0     \n",
      "4 | pool1                | MaxPool2d   | 0     \n",
      "5 | cnn2                 | Conv2d      | 4.1 K \n",
      "6 | batch_norm_b         | BatchNorm2d | 32    \n",
      "7 | dropout_2            | Dropout     | 0     \n",
      "8 | fc1                  | Linear      | 2.6 K \n",
      "-----------------------------------------------------\n",
      "7.1 K     Trainable params\n",
      "0         Non-trainable params\n",
      "7.1 K     Total params\n",
      "0.029     Total estimated model params size (MB)\n"
     ]
    },
    {
     "data": {
      "application/vnd.jupyter.widget-view+json": {
       "model_id": "a706e435d6d64509aecbc77569a30805",
       "version_major": 2,
       "version_minor": 0
      },
      "text/plain": [
       "Sanity Checking: 0it [00:00, ?it/s]"
      ]
     },
     "metadata": {},
     "output_type": "display_data"
    },
    {
     "data": {
      "application/vnd.jupyter.widget-view+json": {
       "model_id": "b08cb25ac0a048a0ae8048865d6bdff6",
       "version_major": 2,
       "version_minor": 0
      },
      "text/plain": [
       "Training: 0it [00:00, ?it/s]"
      ]
     },
     "metadata": {},
     "output_type": "display_data"
    },
    {
     "data": {
      "application/vnd.jupyter.widget-view+json": {
       "model_id": "3488b81fc7fa41f396a503444b342216",
       "version_major": 2,
       "version_minor": 0
      },
      "text/plain": [
       "Validation: 0it [00:00, ?it/s]"
      ]
     },
     "metadata": {},
     "output_type": "display_data"
    },
    {
     "data": {
      "application/vnd.jupyter.widget-view+json": {
       "model_id": "6a9f789d82d9456c8bb5afb365e32750",
       "version_major": 2,
       "version_minor": 0
      },
      "text/plain": [
       "Validation: 0it [00:00, ?it/s]"
      ]
     },
     "metadata": {},
     "output_type": "display_data"
    },
    {
     "data": {
      "application/vnd.jupyter.widget-view+json": {
       "model_id": "c2222da3bc064fa1bbd74fc6d72b3884",
       "version_major": 2,
       "version_minor": 0
      },
      "text/plain": [
       "Validation: 0it [00:00, ?it/s]"
      ]
     },
     "metadata": {},
     "output_type": "display_data"
    },
    {
     "data": {
      "application/vnd.jupyter.widget-view+json": {
       "model_id": "d4cacb9b3b104b46ad902c30b86559d0",
       "version_major": 2,
       "version_minor": 0
      },
      "text/plain": [
       "Validation: 0it [00:00, ?it/s]"
      ]
     },
     "metadata": {},
     "output_type": "display_data"
    },
    {
     "data": {
      "application/vnd.jupyter.widget-view+json": {
       "model_id": "b489b99ca99e45dc9aaa5b0a9e595494",
       "version_major": 2,
       "version_minor": 0
      },
      "text/plain": [
       "Validation: 0it [00:00, ?it/s]"
      ]
     },
     "metadata": {},
     "output_type": "display_data"
    },
    {
     "name": "stderr",
     "output_type": "stream",
     "text": [
      "`Trainer.fit` stopped: `max_epochs=5` reached.\n",
      "Restoring states from the checkpoint path at c:\\Users\\w10\\Desktop\\BMA\\UPV\\tia\\algoritmos_geneticos\\notebooks\\lightning_logs\\version_390\\checkpoints\\epoch=4-step=150.ckpt\n",
      "Loaded model weights from the checkpoint at c:\\Users\\w10\\Desktop\\BMA\\UPV\\tia\\algoritmos_geneticos\\notebooks\\lightning_logs\\version_390\\checkpoints\\epoch=4-step=150.ckpt\n"
     ]
    },
    {
     "data": {
      "application/vnd.jupyter.widget-view+json": {
       "model_id": "d25d22b5b5c34fd3ad1b06440cf60906",
       "version_major": 2,
       "version_minor": 0
      },
      "text/plain": [
       "Testing: 0it [00:00, ?it/s]"
      ]
     },
     "metadata": {},
     "output_type": "display_data"
    },
    {
     "data": {
      "text/html": [
       "<pre style=\"white-space:pre;overflow-x:auto;line-height:normal;font-family:Menlo,'DejaVu Sans Mono',consolas,'Courier New',monospace\">┏━━━━━━━━━━━━━━━━━━━━━━━━━━━┳━━━━━━━━━━━━━━━━━━━━━━━━━━━┓\n",
       "┃<span style=\"font-weight: bold\">        Test metric        </span>┃<span style=\"font-weight: bold\">       DataLoader 0        </span>┃\n",
       "┡━━━━━━━━━━━━━━━━━━━━━━━━━━━╇━━━━━━━━━━━━━━━━━━━━━━━━━━━┩\n",
       "│<span style=\"color: #008080; text-decoration-color: #008080\">         test_loss         </span>│<span style=\"color: #800080; text-decoration-color: #800080\">    0.7704106569290161     </span>│\n",
       "└───────────────────────────┴───────────────────────────┘\n",
       "</pre>\n"
      ],
      "text/plain": [
       "┏━━━━━━━━━━━━━━━━━━━━━━━━━━━┳━━━━━━━━━━━━━━━━━━━━━━━━━━━┓\n",
       "┃\u001b[1m \u001b[0m\u001b[1m       Test metric       \u001b[0m\u001b[1m \u001b[0m┃\u001b[1m \u001b[0m\u001b[1m      DataLoader 0       \u001b[0m\u001b[1m \u001b[0m┃\n",
       "┡━━━━━━━━━━━━━━━━━━━━━━━━━━━╇━━━━━━━━━━━━━━━━━━━━━━━━━━━┩\n",
       "│\u001b[36m \u001b[0m\u001b[36m        test_loss        \u001b[0m\u001b[36m \u001b[0m│\u001b[35m \u001b[0m\u001b[35m   0.7704106569290161    \u001b[0m\u001b[35m \u001b[0m│\n",
       "└───────────────────────────┴───────────────────────────┘\n"
      ]
     },
     "metadata": {},
     "output_type": "display_data"
    },
    {
     "name": "stderr",
     "output_type": "stream",
     "text": [
      "GPU available: False, used: False\n",
      "TPU available: False, using: 0 TPU cores\n",
      "IPU available: False, using: 0 IPUs\n",
      "HPU available: False, using: 0 HPUs\n"
     ]
    },
    {
     "name": "stdout",
     "output_type": "stream",
     "text": [
      "{'a_include_BN': True, 'a_include_bias': False, 'activation_type': ELU(alpha=1.0), 'b_include_BN': False, 'b_include_bias': True, 'pool_type': MaxPool2d(kernel_size=2, stride=2, padding=0, dilation=1, ceil_mode=False), 'learning_rate': 0.1, 'dropout_range_a': 0.1, 'dropout_range_b': 0.1}\n"
     ]
    },
    {
     "name": "stderr",
     "output_type": "stream",
     "text": [
      "\n",
      "  | Name                 | Type        | Params\n",
      "-----------------------------------------------------\n",
      "0 | cnn1                 | Conv2d      | 400   \n",
      "1 | batch_norm_a         | BatchNorm2d | 32    \n",
      "2 | funcion_activacion_a | ELU         | 0     \n",
      "3 | dropout_1            | Dropout     | 0     \n",
      "4 | pool1                | MaxPool2d   | 0     \n",
      "5 | cnn2                 | Conv2d      | 4.1 K \n",
      "6 | batch_norm_b         | BatchNorm2d | 32    \n",
      "7 | dropout_2            | Dropout     | 0     \n",
      "8 | fc1                  | Linear      | 2.6 K \n",
      "-----------------------------------------------------\n",
      "7.1 K     Trainable params\n",
      "0         Non-trainable params\n",
      "7.1 K     Total params\n",
      "0.029     Total estimated model params size (MB)\n"
     ]
    },
    {
     "data": {
      "application/vnd.jupyter.widget-view+json": {
       "model_id": "ed8d3dd07b5449cb8011230574bb1c37",
       "version_major": 2,
       "version_minor": 0
      },
      "text/plain": [
       "Sanity Checking: 0it [00:00, ?it/s]"
      ]
     },
     "metadata": {},
     "output_type": "display_data"
    },
    {
     "data": {
      "application/vnd.jupyter.widget-view+json": {
       "model_id": "6d6e208b0f6b4b969815467bb288367a",
       "version_major": 2,
       "version_minor": 0
      },
      "text/plain": [
       "Training: 0it [00:00, ?it/s]"
      ]
     },
     "metadata": {},
     "output_type": "display_data"
    },
    {
     "data": {
      "application/vnd.jupyter.widget-view+json": {
       "model_id": "548609f9fba544b5b158308c9406d08a",
       "version_major": 2,
       "version_minor": 0
      },
      "text/plain": [
       "Validation: 0it [00:00, ?it/s]"
      ]
     },
     "metadata": {},
     "output_type": "display_data"
    },
    {
     "data": {
      "application/vnd.jupyter.widget-view+json": {
       "model_id": "b56201bff4584fdfbaa1f53887237fb6",
       "version_major": 2,
       "version_minor": 0
      },
      "text/plain": [
       "Validation: 0it [00:00, ?it/s]"
      ]
     },
     "metadata": {},
     "output_type": "display_data"
    },
    {
     "data": {
      "application/vnd.jupyter.widget-view+json": {
       "model_id": "ddd2a7f97c6e461b96ef7c49b5ca6960",
       "version_major": 2,
       "version_minor": 0
      },
      "text/plain": [
       "Validation: 0it [00:00, ?it/s]"
      ]
     },
     "metadata": {},
     "output_type": "display_data"
    },
    {
     "data": {
      "application/vnd.jupyter.widget-view+json": {
       "model_id": "0c362f28b98e46c6988245d7dbc61196",
       "version_major": 2,
       "version_minor": 0
      },
      "text/plain": [
       "Validation: 0it [00:00, ?it/s]"
      ]
     },
     "metadata": {},
     "output_type": "display_data"
    },
    {
     "data": {
      "application/vnd.jupyter.widget-view+json": {
       "model_id": "d7d245b7a8e74a9899c588f2f9977911",
       "version_major": 2,
       "version_minor": 0
      },
      "text/plain": [
       "Validation: 0it [00:00, ?it/s]"
      ]
     },
     "metadata": {},
     "output_type": "display_data"
    },
    {
     "name": "stderr",
     "output_type": "stream",
     "text": [
      "`Trainer.fit` stopped: `max_epochs=5` reached.\n",
      "Restoring states from the checkpoint path at c:\\Users\\w10\\Desktop\\BMA\\UPV\\tia\\algoritmos_geneticos\\notebooks\\lightning_logs\\version_391\\checkpoints\\epoch=4-step=150.ckpt\n",
      "Loaded model weights from the checkpoint at c:\\Users\\w10\\Desktop\\BMA\\UPV\\tia\\algoritmos_geneticos\\notebooks\\lightning_logs\\version_391\\checkpoints\\epoch=4-step=150.ckpt\n"
     ]
    },
    {
     "data": {
      "application/vnd.jupyter.widget-view+json": {
       "model_id": "84422c05f43147e9bdf6db2663c553f9",
       "version_major": 2,
       "version_minor": 0
      },
      "text/plain": [
       "Testing: 0it [00:00, ?it/s]"
      ]
     },
     "metadata": {},
     "output_type": "display_data"
    },
    {
     "data": {
      "text/html": [
       "<pre style=\"white-space:pre;overflow-x:auto;line-height:normal;font-family:Menlo,'DejaVu Sans Mono',consolas,'Courier New',monospace\">┏━━━━━━━━━━━━━━━━━━━━━━━━━━━┳━━━━━━━━━━━━━━━━━━━━━━━━━━━┓\n",
       "┃<span style=\"font-weight: bold\">        Test metric        </span>┃<span style=\"font-weight: bold\">       DataLoader 0        </span>┃\n",
       "┡━━━━━━━━━━━━━━━━━━━━━━━━━━━╇━━━━━━━━━━━━━━━━━━━━━━━━━━━┩\n",
       "│<span style=\"color: #008080; text-decoration-color: #008080\">         test_loss         </span>│<span style=\"color: #800080; text-decoration-color: #800080\">    0.8604494333267212     </span>│\n",
       "└───────────────────────────┴───────────────────────────┘\n",
       "</pre>\n"
      ],
      "text/plain": [
       "┏━━━━━━━━━━━━━━━━━━━━━━━━━━━┳━━━━━━━━━━━━━━━━━━━━━━━━━━━┓\n",
       "┃\u001b[1m \u001b[0m\u001b[1m       Test metric       \u001b[0m\u001b[1m \u001b[0m┃\u001b[1m \u001b[0m\u001b[1m      DataLoader 0       \u001b[0m\u001b[1m \u001b[0m┃\n",
       "┡━━━━━━━━━━━━━━━━━━━━━━━━━━━╇━━━━━━━━━━━━━━━━━━━━━━━━━━━┩\n",
       "│\u001b[36m \u001b[0m\u001b[36m        test_loss        \u001b[0m\u001b[36m \u001b[0m│\u001b[35m \u001b[0m\u001b[35m   0.8604494333267212    \u001b[0m\u001b[35m \u001b[0m│\n",
       "└───────────────────────────┴───────────────────────────┘\n"
      ]
     },
     "metadata": {},
     "output_type": "display_data"
    },
    {
     "name": "stderr",
     "output_type": "stream",
     "text": [
      "GPU available: False, used: False\n",
      "TPU available: False, using: 0 TPU cores\n",
      "IPU available: False, using: 0 IPUs\n",
      "HPU available: False, using: 0 HPUs\n"
     ]
    },
    {
     "name": "stdout",
     "output_type": "stream",
     "text": [
      "{'a_include_BN': True, 'a_include_bias': False, 'activation_type': SELU(), 'b_include_BN': False, 'b_include_bias': True, 'pool_type': AvgPool2d(kernel_size=2, stride=2, padding=0), 'learning_rate': 0.01, 'dropout_range_a': 0.3, 'dropout_range_b': 0.3}\n"
     ]
    },
    {
     "name": "stderr",
     "output_type": "stream",
     "text": [
      "\n",
      "  | Name                 | Type        | Params\n",
      "-----------------------------------------------------\n",
      "0 | cnn1                 | Conv2d      | 400   \n",
      "1 | batch_norm_a         | BatchNorm2d | 32    \n",
      "2 | funcion_activacion_a | SELU        | 0     \n",
      "3 | dropout_1            | Dropout     | 0     \n",
      "4 | pool1                | AvgPool2d   | 0     \n",
      "5 | cnn2                 | Conv2d      | 4.1 K \n",
      "6 | batch_norm_b         | BatchNorm2d | 32    \n",
      "7 | dropout_2            | Dropout     | 0     \n",
      "8 | fc1                  | Linear      | 2.6 K \n",
      "-----------------------------------------------------\n",
      "7.1 K     Trainable params\n",
      "0         Non-trainable params\n",
      "7.1 K     Total params\n",
      "0.029     Total estimated model params size (MB)\n"
     ]
    },
    {
     "data": {
      "application/vnd.jupyter.widget-view+json": {
       "model_id": "dc9a8b6ba3ff495b882407987d8c23ce",
       "version_major": 2,
       "version_minor": 0
      },
      "text/plain": [
       "Sanity Checking: 0it [00:00, ?it/s]"
      ]
     },
     "metadata": {},
     "output_type": "display_data"
    },
    {
     "data": {
      "application/vnd.jupyter.widget-view+json": {
       "model_id": "0f011a28df5f46829f6156510920969b",
       "version_major": 2,
       "version_minor": 0
      },
      "text/plain": [
       "Training: 0it [00:00, ?it/s]"
      ]
     },
     "metadata": {},
     "output_type": "display_data"
    },
    {
     "data": {
      "application/vnd.jupyter.widget-view+json": {
       "model_id": "96b8b11aa71d43cba35c0b6818e974aa",
       "version_major": 2,
       "version_minor": 0
      },
      "text/plain": [
       "Validation: 0it [00:00, ?it/s]"
      ]
     },
     "metadata": {},
     "output_type": "display_data"
    },
    {
     "data": {
      "application/vnd.jupyter.widget-view+json": {
       "model_id": "2cf618e160624c06b388b0d808b3523e",
       "version_major": 2,
       "version_minor": 0
      },
      "text/plain": [
       "Validation: 0it [00:00, ?it/s]"
      ]
     },
     "metadata": {},
     "output_type": "display_data"
    },
    {
     "data": {
      "application/vnd.jupyter.widget-view+json": {
       "model_id": "8e817552907e45af8d2a1281ddc0b618",
       "version_major": 2,
       "version_minor": 0
      },
      "text/plain": [
       "Validation: 0it [00:00, ?it/s]"
      ]
     },
     "metadata": {},
     "output_type": "display_data"
    },
    {
     "data": {
      "application/vnd.jupyter.widget-view+json": {
       "model_id": "8df702bb822343a3b968344b2768027d",
       "version_major": 2,
       "version_minor": 0
      },
      "text/plain": [
       "Validation: 0it [00:00, ?it/s]"
      ]
     },
     "metadata": {},
     "output_type": "display_data"
    },
    {
     "data": {
      "application/vnd.jupyter.widget-view+json": {
       "model_id": "e60af5a893de4a5599acaa6911d19205",
       "version_major": 2,
       "version_minor": 0
      },
      "text/plain": [
       "Validation: 0it [00:00, ?it/s]"
      ]
     },
     "metadata": {},
     "output_type": "display_data"
    },
    {
     "name": "stderr",
     "output_type": "stream",
     "text": [
      "`Trainer.fit` stopped: `max_epochs=5` reached.\n",
      "Restoring states from the checkpoint path at c:\\Users\\w10\\Desktop\\BMA\\UPV\\tia\\algoritmos_geneticos\\notebooks\\lightning_logs\\version_392\\checkpoints\\epoch=4-step=150.ckpt\n",
      "Loaded model weights from the checkpoint at c:\\Users\\w10\\Desktop\\BMA\\UPV\\tia\\algoritmos_geneticos\\notebooks\\lightning_logs\\version_392\\checkpoints\\epoch=4-step=150.ckpt\n"
     ]
    },
    {
     "data": {
      "application/vnd.jupyter.widget-view+json": {
       "model_id": "7ad097d03e4a49e3a3091f7a70bc6f86",
       "version_major": 2,
       "version_minor": 0
      },
      "text/plain": [
       "Testing: 0it [00:00, ?it/s]"
      ]
     },
     "metadata": {},
     "output_type": "display_data"
    },
    {
     "data": {
      "text/html": [
       "<pre style=\"white-space:pre;overflow-x:auto;line-height:normal;font-family:Menlo,'DejaVu Sans Mono',consolas,'Courier New',monospace\">┏━━━━━━━━━━━━━━━━━━━━━━━━━━━┳━━━━━━━━━━━━━━━━━━━━━━━━━━━┓\n",
       "┃<span style=\"font-weight: bold\">        Test metric        </span>┃<span style=\"font-weight: bold\">       DataLoader 0        </span>┃\n",
       "┡━━━━━━━━━━━━━━━━━━━━━━━━━━━╇━━━━━━━━━━━━━━━━━━━━━━━━━━━┩\n",
       "│<span style=\"color: #008080; text-decoration-color: #008080\">         test_loss         </span>│<span style=\"color: #800080; text-decoration-color: #800080\">    0.9351447820663452     </span>│\n",
       "└───────────────────────────┴───────────────────────────┘\n",
       "</pre>\n"
      ],
      "text/plain": [
       "┏━━━━━━━━━━━━━━━━━━━━━━━━━━━┳━━━━━━━━━━━━━━━━━━━━━━━━━━━┓\n",
       "┃\u001b[1m \u001b[0m\u001b[1m       Test metric       \u001b[0m\u001b[1m \u001b[0m┃\u001b[1m \u001b[0m\u001b[1m      DataLoader 0       \u001b[0m\u001b[1m \u001b[0m┃\n",
       "┡━━━━━━━━━━━━━━━━━━━━━━━━━━━╇━━━━━━━━━━━━━━━━━━━━━━━━━━━┩\n",
       "│\u001b[36m \u001b[0m\u001b[36m        test_loss        \u001b[0m\u001b[36m \u001b[0m│\u001b[35m \u001b[0m\u001b[35m   0.9351447820663452    \u001b[0m\u001b[35m \u001b[0m│\n",
       "└───────────────────────────┴───────────────────────────┘\n"
      ]
     },
     "metadata": {},
     "output_type": "display_data"
    },
    {
     "name": "stderr",
     "output_type": "stream",
     "text": [
      "GPU available: False, used: False\n",
      "TPU available: False, using: 0 TPU cores\n",
      "IPU available: False, using: 0 IPUs\n",
      "HPU available: False, using: 0 HPUs\n"
     ]
    },
    {
     "name": "stdout",
     "output_type": "stream",
     "text": [
      "{'a_include_BN': True, 'a_include_bias': False, 'activation_type': ELU(alpha=1.0), 'b_include_BN': False, 'b_include_bias': True, 'pool_type': MaxPool2d(kernel_size=2, stride=2, padding=0, dilation=1, ceil_mode=False), 'learning_rate': 0.1, 'dropout_range_a': 0.1, 'dropout_range_b': 0}\n"
     ]
    },
    {
     "name": "stderr",
     "output_type": "stream",
     "text": [
      "\n",
      "  | Name                 | Type        | Params\n",
      "-----------------------------------------------------\n",
      "0 | cnn1                 | Conv2d      | 400   \n",
      "1 | batch_norm_a         | BatchNorm2d | 32    \n",
      "2 | funcion_activacion_a | ELU         | 0     \n",
      "3 | dropout_1            | Dropout     | 0     \n",
      "4 | pool1                | MaxPool2d   | 0     \n",
      "5 | cnn2                 | Conv2d      | 4.1 K \n",
      "6 | batch_norm_b         | BatchNorm2d | 32    \n",
      "7 | dropout_2            | Dropout     | 0     \n",
      "8 | fc1                  | Linear      | 2.6 K \n",
      "-----------------------------------------------------\n",
      "7.1 K     Trainable params\n",
      "0         Non-trainable params\n",
      "7.1 K     Total params\n",
      "0.029     Total estimated model params size (MB)\n"
     ]
    },
    {
     "data": {
      "application/vnd.jupyter.widget-view+json": {
       "model_id": "02fc7ec3b36e4cbfb146138e3ed40b11",
       "version_major": 2,
       "version_minor": 0
      },
      "text/plain": [
       "Sanity Checking: 0it [00:00, ?it/s]"
      ]
     },
     "metadata": {},
     "output_type": "display_data"
    },
    {
     "data": {
      "application/vnd.jupyter.widget-view+json": {
       "model_id": "9d58ef0fdedf4c94a51d3733f55e8777",
       "version_major": 2,
       "version_minor": 0
      },
      "text/plain": [
       "Training: 0it [00:00, ?it/s]"
      ]
     },
     "metadata": {},
     "output_type": "display_data"
    },
    {
     "data": {
      "application/vnd.jupyter.widget-view+json": {
       "model_id": "a6c3a02dd6ef4368accca9202d68a8f1",
       "version_major": 2,
       "version_minor": 0
      },
      "text/plain": [
       "Validation: 0it [00:00, ?it/s]"
      ]
     },
     "metadata": {},
     "output_type": "display_data"
    },
    {
     "data": {
      "application/vnd.jupyter.widget-view+json": {
       "model_id": "b2e460d6b51a49ce9688e411caa8df73",
       "version_major": 2,
       "version_minor": 0
      },
      "text/plain": [
       "Validation: 0it [00:00, ?it/s]"
      ]
     },
     "metadata": {},
     "output_type": "display_data"
    },
    {
     "data": {
      "application/vnd.jupyter.widget-view+json": {
       "model_id": "8606d2a3548949a0a1670fa381d10736",
       "version_major": 2,
       "version_minor": 0
      },
      "text/plain": [
       "Validation: 0it [00:00, ?it/s]"
      ]
     },
     "metadata": {},
     "output_type": "display_data"
    },
    {
     "data": {
      "application/vnd.jupyter.widget-view+json": {
       "model_id": "1666242f07e54447865eafbdbfe49c6b",
       "version_major": 2,
       "version_minor": 0
      },
      "text/plain": [
       "Validation: 0it [00:00, ?it/s]"
      ]
     },
     "metadata": {},
     "output_type": "display_data"
    },
    {
     "data": {
      "application/vnd.jupyter.widget-view+json": {
       "model_id": "a94a95044c7a49f1a44de0ce5991a302",
       "version_major": 2,
       "version_minor": 0
      },
      "text/plain": [
       "Validation: 0it [00:00, ?it/s]"
      ]
     },
     "metadata": {},
     "output_type": "display_data"
    },
    {
     "name": "stderr",
     "output_type": "stream",
     "text": [
      "`Trainer.fit` stopped: `max_epochs=5` reached.\n",
      "Restoring states from the checkpoint path at c:\\Users\\w10\\Desktop\\BMA\\UPV\\tia\\algoritmos_geneticos\\notebooks\\lightning_logs\\version_393\\checkpoints\\epoch=4-step=150.ckpt\n",
      "Loaded model weights from the checkpoint at c:\\Users\\w10\\Desktop\\BMA\\UPV\\tia\\algoritmos_geneticos\\notebooks\\lightning_logs\\version_393\\checkpoints\\epoch=4-step=150.ckpt\n"
     ]
    },
    {
     "data": {
      "application/vnd.jupyter.widget-view+json": {
       "model_id": "0514230fdcfd4c1cbc210e5181e3347d",
       "version_major": 2,
       "version_minor": 0
      },
      "text/plain": [
       "Testing: 0it [00:00, ?it/s]"
      ]
     },
     "metadata": {},
     "output_type": "display_data"
    },
    {
     "data": {
      "text/html": [
       "<pre style=\"white-space:pre;overflow-x:auto;line-height:normal;font-family:Menlo,'DejaVu Sans Mono',consolas,'Courier New',monospace\">┏━━━━━━━━━━━━━━━━━━━━━━━━━━━┳━━━━━━━━━━━━━━━━━━━━━━━━━━━┓\n",
       "┃<span style=\"font-weight: bold\">        Test metric        </span>┃<span style=\"font-weight: bold\">       DataLoader 0        </span>┃\n",
       "┡━━━━━━━━━━━━━━━━━━━━━━━━━━━╇━━━━━━━━━━━━━━━━━━━━━━━━━━━┩\n",
       "│<span style=\"color: #008080; text-decoration-color: #008080\">         test_loss         </span>│<span style=\"color: #800080; text-decoration-color: #800080\">    0.7709714770317078     </span>│\n",
       "└───────────────────────────┴───────────────────────────┘\n",
       "</pre>\n"
      ],
      "text/plain": [
       "┏━━━━━━━━━━━━━━━━━━━━━━━━━━━┳━━━━━━━━━━━━━━━━━━━━━━━━━━━┓\n",
       "┃\u001b[1m \u001b[0m\u001b[1m       Test metric       \u001b[0m\u001b[1m \u001b[0m┃\u001b[1m \u001b[0m\u001b[1m      DataLoader 0       \u001b[0m\u001b[1m \u001b[0m┃\n",
       "┡━━━━━━━━━━━━━━━━━━━━━━━━━━━╇━━━━━━━━━━━━━━━━━━━━━━━━━━━┩\n",
       "│\u001b[36m \u001b[0m\u001b[36m        test_loss        \u001b[0m\u001b[36m \u001b[0m│\u001b[35m \u001b[0m\u001b[35m   0.7709714770317078    \u001b[0m\u001b[35m \u001b[0m│\n",
       "└───────────────────────────┴───────────────────────────┘\n"
      ]
     },
     "metadata": {},
     "output_type": "display_data"
    },
    {
     "name": "stderr",
     "output_type": "stream",
     "text": [
      "GPU available: False, used: False\n",
      "TPU available: False, using: 0 TPU cores\n",
      "IPU available: False, using: 0 IPUs\n",
      "HPU available: False, using: 0 HPUs\n"
     ]
    },
    {
     "name": "stdout",
     "output_type": "stream",
     "text": [
      "{'a_include_BN': True, 'a_include_bias': False, 'activation_type': SELU(), 'b_include_BN': False, 'b_include_bias': True, 'pool_type': AvgPool2d(kernel_size=2, stride=2, padding=0), 'learning_rate': 0.01, 'dropout_range_a': 0.3, 'dropout_range_b': 0.3}\n"
     ]
    },
    {
     "name": "stderr",
     "output_type": "stream",
     "text": [
      "\n",
      "  | Name                 | Type        | Params\n",
      "-----------------------------------------------------\n",
      "0 | cnn1                 | Conv2d      | 400   \n",
      "1 | batch_norm_a         | BatchNorm2d | 32    \n",
      "2 | funcion_activacion_a | SELU        | 0     \n",
      "3 | dropout_1            | Dropout     | 0     \n",
      "4 | pool1                | AvgPool2d   | 0     \n",
      "5 | cnn2                 | Conv2d      | 4.1 K \n",
      "6 | batch_norm_b         | BatchNorm2d | 32    \n",
      "7 | dropout_2            | Dropout     | 0     \n",
      "8 | fc1                  | Linear      | 2.6 K \n",
      "-----------------------------------------------------\n",
      "7.1 K     Trainable params\n",
      "0         Non-trainable params\n",
      "7.1 K     Total params\n",
      "0.029     Total estimated model params size (MB)\n"
     ]
    },
    {
     "data": {
      "application/vnd.jupyter.widget-view+json": {
       "model_id": "f2572803aa3b42bcb26c0cbd80029aa5",
       "version_major": 2,
       "version_minor": 0
      },
      "text/plain": [
       "Sanity Checking: 0it [00:00, ?it/s]"
      ]
     },
     "metadata": {},
     "output_type": "display_data"
    },
    {
     "data": {
      "application/vnd.jupyter.widget-view+json": {
       "model_id": "b5b04d571db1452fad638ceaaaa302a0",
       "version_major": 2,
       "version_minor": 0
      },
      "text/plain": [
       "Training: 0it [00:00, ?it/s]"
      ]
     },
     "metadata": {},
     "output_type": "display_data"
    },
    {
     "data": {
      "application/vnd.jupyter.widget-view+json": {
       "model_id": "2795af00045c4025b7acecd29b8c3315",
       "version_major": 2,
       "version_minor": 0
      },
      "text/plain": [
       "Validation: 0it [00:00, ?it/s]"
      ]
     },
     "metadata": {},
     "output_type": "display_data"
    },
    {
     "data": {
      "application/vnd.jupyter.widget-view+json": {
       "model_id": "8bf5a064c1984341966bf90d73414544",
       "version_major": 2,
       "version_minor": 0
      },
      "text/plain": [
       "Validation: 0it [00:00, ?it/s]"
      ]
     },
     "metadata": {},
     "output_type": "display_data"
    },
    {
     "data": {
      "application/vnd.jupyter.widget-view+json": {
       "model_id": "4658cbbe85d8481f91febe37573c933c",
       "version_major": 2,
       "version_minor": 0
      },
      "text/plain": [
       "Validation: 0it [00:00, ?it/s]"
      ]
     },
     "metadata": {},
     "output_type": "display_data"
    },
    {
     "data": {
      "application/vnd.jupyter.widget-view+json": {
       "model_id": "e8d4f777265c446f88ba68529725879a",
       "version_major": 2,
       "version_minor": 0
      },
      "text/plain": [
       "Validation: 0it [00:00, ?it/s]"
      ]
     },
     "metadata": {},
     "output_type": "display_data"
    },
    {
     "data": {
      "application/vnd.jupyter.widget-view+json": {
       "model_id": "c5030fa5c4d74c6e9bc75da2541d2e77",
       "version_major": 2,
       "version_minor": 0
      },
      "text/plain": [
       "Validation: 0it [00:00, ?it/s]"
      ]
     },
     "metadata": {},
     "output_type": "display_data"
    },
    {
     "name": "stderr",
     "output_type": "stream",
     "text": [
      "`Trainer.fit` stopped: `max_epochs=5` reached.\n",
      "Restoring states from the checkpoint path at c:\\Users\\w10\\Desktop\\BMA\\UPV\\tia\\algoritmos_geneticos\\notebooks\\lightning_logs\\version_394\\checkpoints\\epoch=4-step=150.ckpt\n",
      "Loaded model weights from the checkpoint at c:\\Users\\w10\\Desktop\\BMA\\UPV\\tia\\algoritmos_geneticos\\notebooks\\lightning_logs\\version_394\\checkpoints\\epoch=4-step=150.ckpt\n"
     ]
    },
    {
     "data": {
      "application/vnd.jupyter.widget-view+json": {
       "model_id": "99ad2d86b8344d2098643ce5f137a9b7",
       "version_major": 2,
       "version_minor": 0
      },
      "text/plain": [
       "Testing: 0it [00:00, ?it/s]"
      ]
     },
     "metadata": {},
     "output_type": "display_data"
    },
    {
     "data": {
      "text/html": [
       "<pre style=\"white-space:pre;overflow-x:auto;line-height:normal;font-family:Menlo,'DejaVu Sans Mono',consolas,'Courier New',monospace\">┏━━━━━━━━━━━━━━━━━━━━━━━━━━━┳━━━━━━━━━━━━━━━━━━━━━━━━━━━┓\n",
       "┃<span style=\"font-weight: bold\">        Test metric        </span>┃<span style=\"font-weight: bold\">       DataLoader 0        </span>┃\n",
       "┡━━━━━━━━━━━━━━━━━━━━━━━━━━━╇━━━━━━━━━━━━━━━━━━━━━━━━━━━┩\n",
       "│<span style=\"color: #008080; text-decoration-color: #008080\">         test_loss         </span>│<span style=\"color: #800080; text-decoration-color: #800080\">    0.9898523688316345     </span>│\n",
       "└───────────────────────────┴───────────────────────────┘\n",
       "</pre>\n"
      ],
      "text/plain": [
       "┏━━━━━━━━━━━━━━━━━━━━━━━━━━━┳━━━━━━━━━━━━━━━━━━━━━━━━━━━┓\n",
       "┃\u001b[1m \u001b[0m\u001b[1m       Test metric       \u001b[0m\u001b[1m \u001b[0m┃\u001b[1m \u001b[0m\u001b[1m      DataLoader 0       \u001b[0m\u001b[1m \u001b[0m┃\n",
       "┡━━━━━━━━━━━━━━━━━━━━━━━━━━━╇━━━━━━━━━━━━━━━━━━━━━━━━━━━┩\n",
       "│\u001b[36m \u001b[0m\u001b[36m        test_loss        \u001b[0m\u001b[36m \u001b[0m│\u001b[35m \u001b[0m\u001b[35m   0.9898523688316345    \u001b[0m\u001b[35m \u001b[0m│\n",
       "└───────────────────────────┴───────────────────────────┘\n"
      ]
     },
     "metadata": {},
     "output_type": "display_data"
    },
    {
     "name": "stderr",
     "output_type": "stream",
     "text": [
      "GPU available: False, used: False\n",
      "TPU available: False, using: 0 TPU cores\n",
      "IPU available: False, using: 0 IPUs\n",
      "HPU available: False, using: 0 HPUs\n"
     ]
    },
    {
     "name": "stdout",
     "output_type": "stream",
     "text": [
      "{'a_include_BN': True, 'a_include_bias': False, 'activation_type': ELU(alpha=1.0), 'b_include_BN': False, 'b_include_bias': True, 'pool_type': MaxPool2d(kernel_size=2, stride=2, padding=0, dilation=1, ceil_mode=False), 'learning_rate': 0.1, 'dropout_range_a': 0.1, 'dropout_range_b': 0}\n"
     ]
    },
    {
     "name": "stderr",
     "output_type": "stream",
     "text": [
      "\n",
      "  | Name                 | Type        | Params\n",
      "-----------------------------------------------------\n",
      "0 | cnn1                 | Conv2d      | 400   \n",
      "1 | batch_norm_a         | BatchNorm2d | 32    \n",
      "2 | funcion_activacion_a | ELU         | 0     \n",
      "3 | dropout_1            | Dropout     | 0     \n",
      "4 | pool1                | MaxPool2d   | 0     \n",
      "5 | cnn2                 | Conv2d      | 4.1 K \n",
      "6 | batch_norm_b         | BatchNorm2d | 32    \n",
      "7 | dropout_2            | Dropout     | 0     \n",
      "8 | fc1                  | Linear      | 2.6 K \n",
      "-----------------------------------------------------\n",
      "7.1 K     Trainable params\n",
      "0         Non-trainable params\n",
      "7.1 K     Total params\n",
      "0.029     Total estimated model params size (MB)\n"
     ]
    },
    {
     "data": {
      "application/vnd.jupyter.widget-view+json": {
       "model_id": "835c99fb0ed94a538f7f7f12dbec5c1d",
       "version_major": 2,
       "version_minor": 0
      },
      "text/plain": [
       "Sanity Checking: 0it [00:00, ?it/s]"
      ]
     },
     "metadata": {},
     "output_type": "display_data"
    },
    {
     "data": {
      "application/vnd.jupyter.widget-view+json": {
       "model_id": "2ff78754dd3a40f883770de6cdc3fc47",
       "version_major": 2,
       "version_minor": 0
      },
      "text/plain": [
       "Training: 0it [00:00, ?it/s]"
      ]
     },
     "metadata": {},
     "output_type": "display_data"
    },
    {
     "data": {
      "application/vnd.jupyter.widget-view+json": {
       "model_id": "f9c2a4549f5446a18f98cb1c3ee2977a",
       "version_major": 2,
       "version_minor": 0
      },
      "text/plain": [
       "Validation: 0it [00:00, ?it/s]"
      ]
     },
     "metadata": {},
     "output_type": "display_data"
    },
    {
     "data": {
      "application/vnd.jupyter.widget-view+json": {
       "model_id": "717e5eceb6ea48a5959b43849e67fa32",
       "version_major": 2,
       "version_minor": 0
      },
      "text/plain": [
       "Validation: 0it [00:00, ?it/s]"
      ]
     },
     "metadata": {},
     "output_type": "display_data"
    },
    {
     "data": {
      "application/vnd.jupyter.widget-view+json": {
       "model_id": "6a3fc9fdebe149cb813ce66a419cb345",
       "version_major": 2,
       "version_minor": 0
      },
      "text/plain": [
       "Validation: 0it [00:00, ?it/s]"
      ]
     },
     "metadata": {},
     "output_type": "display_data"
    },
    {
     "data": {
      "application/vnd.jupyter.widget-view+json": {
       "model_id": "fbb5da18795e43808fbc6f05033c9391",
       "version_major": 2,
       "version_minor": 0
      },
      "text/plain": [
       "Validation: 0it [00:00, ?it/s]"
      ]
     },
     "metadata": {},
     "output_type": "display_data"
    },
    {
     "data": {
      "application/vnd.jupyter.widget-view+json": {
       "model_id": "a8c44def919e4b328f8e1f966132b3ad",
       "version_major": 2,
       "version_minor": 0
      },
      "text/plain": [
       "Validation: 0it [00:00, ?it/s]"
      ]
     },
     "metadata": {},
     "output_type": "display_data"
    },
    {
     "name": "stderr",
     "output_type": "stream",
     "text": [
      "`Trainer.fit` stopped: `max_epochs=5` reached.\n",
      "Restoring states from the checkpoint path at c:\\Users\\w10\\Desktop\\BMA\\UPV\\tia\\algoritmos_geneticos\\notebooks\\lightning_logs\\version_395\\checkpoints\\epoch=4-step=150.ckpt\n",
      "Loaded model weights from the checkpoint at c:\\Users\\w10\\Desktop\\BMA\\UPV\\tia\\algoritmos_geneticos\\notebooks\\lightning_logs\\version_395\\checkpoints\\epoch=4-step=150.ckpt\n"
     ]
    },
    {
     "data": {
      "application/vnd.jupyter.widget-view+json": {
       "model_id": "07264a6ac85e4587b20627b5aec95414",
       "version_major": 2,
       "version_minor": 0
      },
      "text/plain": [
       "Testing: 0it [00:00, ?it/s]"
      ]
     },
     "metadata": {},
     "output_type": "display_data"
    },
    {
     "data": {
      "text/html": [
       "<pre style=\"white-space:pre;overflow-x:auto;line-height:normal;font-family:Menlo,'DejaVu Sans Mono',consolas,'Courier New',monospace\">┏━━━━━━━━━━━━━━━━━━━━━━━━━━━┳━━━━━━━━━━━━━━━━━━━━━━━━━━━┓\n",
       "┃<span style=\"font-weight: bold\">        Test metric        </span>┃<span style=\"font-weight: bold\">       DataLoader 0        </span>┃\n",
       "┡━━━━━━━━━━━━━━━━━━━━━━━━━━━╇━━━━━━━━━━━━━━━━━━━━━━━━━━━┩\n",
       "│<span style=\"color: #008080; text-decoration-color: #008080\">         test_loss         </span>│<span style=\"color: #800080; text-decoration-color: #800080\">    0.7865500450134277     </span>│\n",
       "└───────────────────────────┴───────────────────────────┘\n",
       "</pre>\n"
      ],
      "text/plain": [
       "┏━━━━━━━━━━━━━━━━━━━━━━━━━━━┳━━━━━━━━━━━━━━━━━━━━━━━━━━━┓\n",
       "┃\u001b[1m \u001b[0m\u001b[1m       Test metric       \u001b[0m\u001b[1m \u001b[0m┃\u001b[1m \u001b[0m\u001b[1m      DataLoader 0       \u001b[0m\u001b[1m \u001b[0m┃\n",
       "┡━━━━━━━━━━━━━━━━━━━━━━━━━━━╇━━━━━━━━━━━━━━━━━━━━━━━━━━━┩\n",
       "│\u001b[36m \u001b[0m\u001b[36m        test_loss        \u001b[0m\u001b[36m \u001b[0m│\u001b[35m \u001b[0m\u001b[35m   0.7865500450134277    \u001b[0m\u001b[35m \u001b[0m│\n",
       "└───────────────────────────┴───────────────────────────┘\n"
      ]
     },
     "metadata": {},
     "output_type": "display_data"
    },
    {
     "name": "stderr",
     "output_type": "stream",
     "text": [
      "GPU available: False, used: False\n",
      "TPU available: False, using: 0 TPU cores\n",
      "IPU available: False, using: 0 IPUs\n",
      "HPU available: False, using: 0 HPUs\n"
     ]
    },
    {
     "name": "stdout",
     "output_type": "stream",
     "text": [
      "0.7704106569290161\n",
      "1\n"
     ]
    },
    {
     "name": "stderr",
     "output_type": "stream",
     "text": [
      "\n",
      "   | Name                 | Type        | Params\n",
      "------------------------------------------------------\n",
      "0  | model                | MyModel     | 7.1 K \n",
      "1  | pre_layers           | Sequential  | 4.6 K \n",
      "2  | cnn1                 | Conv2d      | 16.4 K\n",
      "3  | batch_norm_a         | BatchNorm2d | 128   \n",
      "4  | dropout_1            | Dropout     | 0     \n",
      "5  | funcion_activacion_a | LeakyReLU   | 0     \n",
      "6  | cnn2                 | Conv2d      | 65.6 K\n",
      "7  | batch_norm_b         | BatchNorm2d | 128   \n",
      "8  | dropout_2            | Dropout     | 0     \n",
      "9  | pool2                | MaxPool2d   | 0     \n",
      "10 | fc1                  | Linear      | 10.2 K\n",
      "------------------------------------------------------\n",
      "92.5 K    Trainable params\n",
      "7.1 K     Non-trainable params\n",
      "99.6 K    Total params\n",
      "0.399     Total estimated model params size (MB)\n"
     ]
    },
    {
     "data": {
      "application/vnd.jupyter.widget-view+json": {
       "model_id": "c9f14bb928bf4f94a22dd081bbbeafbb",
       "version_major": 2,
       "version_minor": 0
      },
      "text/plain": [
       "Sanity Checking: 0it [00:00, ?it/s]"
      ]
     },
     "metadata": {},
     "output_type": "display_data"
    },
    {
     "name": "stderr",
     "output_type": "stream",
     "text": [
      "c:\\Users\\w10\\anaconda3\\envs\\dynamic_forecast\\lib\\site-packages\\torch\\nn\\modules\\conv.py:459: UserWarning: Using padding='same' with even kernel lengths and odd dilation may require a zero-padded copy of the input be created (Triggered internally at C:\\actions-runner\\_work\\pytorch\\pytorch\\builder\\windows\\pytorch\\aten\\src\\ATen\\native\\Convolution.cpp:1004.)\n",
      "  return F.conv2d(input, weight, bias, self.stride,\n"
     ]
    },
    {
     "data": {
      "application/vnd.jupyter.widget-view+json": {
       "model_id": "07fe4e4aa5a748b0bbeabb136783d331",
       "version_major": 2,
       "version_minor": 0
      },
      "text/plain": [
       "Training: 0it [00:00, ?it/s]"
      ]
     },
     "metadata": {},
     "output_type": "display_data"
    },
    {
     "data": {
      "application/vnd.jupyter.widget-view+json": {
       "model_id": "6662d174f5d24fbc8e675f5f42f35b5a",
       "version_major": 2,
       "version_minor": 0
      },
      "text/plain": [
       "Validation: 0it [00:00, ?it/s]"
      ]
     },
     "metadata": {},
     "output_type": "display_data"
    },
    {
     "data": {
      "application/vnd.jupyter.widget-view+json": {
       "model_id": "d9cdfb8b35ea474e8f065a7f873e4ecc",
       "version_major": 2,
       "version_minor": 0
      },
      "text/plain": [
       "Validation: 0it [00:00, ?it/s]"
      ]
     },
     "metadata": {},
     "output_type": "display_data"
    },
    {
     "data": {
      "application/vnd.jupyter.widget-view+json": {
       "model_id": "a692ec66083a4dff9f456c5622885a5a",
       "version_major": 2,
       "version_minor": 0
      },
      "text/plain": [
       "Validation: 0it [00:00, ?it/s]"
      ]
     },
     "metadata": {},
     "output_type": "display_data"
    },
    {
     "data": {
      "application/vnd.jupyter.widget-view+json": {
       "model_id": "ba73753c19ff41c18acf4652ff095f7c",
       "version_major": 2,
       "version_minor": 0
      },
      "text/plain": [
       "Validation: 0it [00:00, ?it/s]"
      ]
     },
     "metadata": {},
     "output_type": "display_data"
    },
    {
     "data": {
      "application/vnd.jupyter.widget-view+json": {
       "model_id": "549799400f79412db2f0a3b745cb75e1",
       "version_major": 2,
       "version_minor": 0
      },
      "text/plain": [
       "Validation: 0it [00:00, ?it/s]"
      ]
     },
     "metadata": {},
     "output_type": "display_data"
    },
    {
     "name": "stderr",
     "output_type": "stream",
     "text": [
      "`Trainer.fit` stopped: `max_epochs=5` reached.\n",
      "Restoring states from the checkpoint path at c:\\Users\\w10\\Desktop\\BMA\\UPV\\tia\\algoritmos_geneticos\\notebooks\\lightning_logs\\version_396\\checkpoints\\epoch=4-step=150.ckpt\n",
      "Loaded model weights from the checkpoint at c:\\Users\\w10\\Desktop\\BMA\\UPV\\tia\\algoritmos_geneticos\\notebooks\\lightning_logs\\version_396\\checkpoints\\epoch=4-step=150.ckpt\n"
     ]
    },
    {
     "data": {
      "application/vnd.jupyter.widget-view+json": {
       "model_id": "6f5d8ce9468e40468cb9b6bab583760a",
       "version_major": 2,
       "version_minor": 0
      },
      "text/plain": [
       "Testing: 0it [00:00, ?it/s]"
      ]
     },
     "metadata": {},
     "output_type": "display_data"
    },
    {
     "data": {
      "text/html": [
       "<pre style=\"white-space:pre;overflow-x:auto;line-height:normal;font-family:Menlo,'DejaVu Sans Mono',consolas,'Courier New',monospace\">┏━━━━━━━━━━━━━━━━━━━━━━━━━━━┳━━━━━━━━━━━━━━━━━━━━━━━━━━━┓\n",
       "┃<span style=\"font-weight: bold\">        Test metric        </span>┃<span style=\"font-weight: bold\">       DataLoader 0        </span>┃\n",
       "┡━━━━━━━━━━━━━━━━━━━━━━━━━━━╇━━━━━━━━━━━━━━━━━━━━━━━━━━━┩\n",
       "│<span style=\"color: #008080; text-decoration-color: #008080\">         test_loss         </span>│<span style=\"color: #800080; text-decoration-color: #800080\">     1.085342526435852     </span>│\n",
       "└───────────────────────────┴───────────────────────────┘\n",
       "</pre>\n"
      ],
      "text/plain": [
       "┏━━━━━━━━━━━━━━━━━━━━━━━━━━━┳━━━━━━━━━━━━━━━━━━━━━━━━━━━┓\n",
       "┃\u001b[1m \u001b[0m\u001b[1m       Test metric       \u001b[0m\u001b[1m \u001b[0m┃\u001b[1m \u001b[0m\u001b[1m      DataLoader 0       \u001b[0m\u001b[1m \u001b[0m┃\n",
       "┡━━━━━━━━━━━━━━━━━━━━━━━━━━━╇━━━━━━━━━━━━━━━━━━━━━━━━━━━┩\n",
       "│\u001b[36m \u001b[0m\u001b[36m        test_loss        \u001b[0m\u001b[36m \u001b[0m│\u001b[35m \u001b[0m\u001b[35m    1.085342526435852    \u001b[0m\u001b[35m \u001b[0m│\n",
       "└───────────────────────────┴───────────────────────────┘\n"
      ]
     },
     "metadata": {},
     "output_type": "display_data"
    },
    {
     "name": "stderr",
     "output_type": "stream",
     "text": [
      "GPU available: False, used: False\n",
      "TPU available: False, using: 0 TPU cores\n",
      "IPU available: False, using: 0 IPUs\n",
      "HPU available: False, using: 0 HPUs\n",
      "\n",
      "   | Name                 | Type        | Params\n",
      "------------------------------------------------------\n",
      "0  | model                | MyModel     | 7.1 K \n",
      "1  | pre_layers           | Sequential  | 4.6 K \n",
      "2  | cnn1                 | Conv2d      | 16.4 K\n",
      "3  | batch_norm_a         | BatchNorm2d | 128   \n",
      "4  | dropout_1            | Dropout     | 0     \n",
      "5  | funcion_activacion_a | ReLU        | 0     \n",
      "6  | cnn2                 | Conv2d      | 65.6 K\n",
      "7  | batch_norm_b         | BatchNorm2d | 128   \n",
      "8  | dropout_2            | Dropout     | 0     \n",
      "9  | pool2                | MaxPool2d   | 0     \n",
      "10 | fc1                  | Linear      | 10.2 K\n",
      "------------------------------------------------------\n",
      "92.6 K    Trainable params\n",
      "7.1 K     Non-trainable params\n",
      "99.7 K    Total params\n",
      "0.399     Total estimated model params size (MB)\n"
     ]
    },
    {
     "data": {
      "application/vnd.jupyter.widget-view+json": {
       "model_id": "18e9a2f5150248ada9b61ebfa2167c11",
       "version_major": 2,
       "version_minor": 0
      },
      "text/plain": [
       "Sanity Checking: 0it [00:00, ?it/s]"
      ]
     },
     "metadata": {},
     "output_type": "display_data"
    },
    {
     "data": {
      "application/vnd.jupyter.widget-view+json": {
       "model_id": "9e8dd0ffc506421992c2df41e7cb1df7",
       "version_major": 2,
       "version_minor": 0
      },
      "text/plain": [
       "Training: 0it [00:00, ?it/s]"
      ]
     },
     "metadata": {},
     "output_type": "display_data"
    },
    {
     "data": {
      "application/vnd.jupyter.widget-view+json": {
       "model_id": "51de04b10a484ab088ef2e2bb5d2c340",
       "version_major": 2,
       "version_minor": 0
      },
      "text/plain": [
       "Validation: 0it [00:00, ?it/s]"
      ]
     },
     "metadata": {},
     "output_type": "display_data"
    },
    {
     "data": {
      "application/vnd.jupyter.widget-view+json": {
       "model_id": "1341cf801a9c4e7a8d8a653ee01e6ecd",
       "version_major": 2,
       "version_minor": 0
      },
      "text/plain": [
       "Validation: 0it [00:00, ?it/s]"
      ]
     },
     "metadata": {},
     "output_type": "display_data"
    },
    {
     "data": {
      "application/vnd.jupyter.widget-view+json": {
       "model_id": "9afc141f32a34c9882357e60522b7491",
       "version_major": 2,
       "version_minor": 0
      },
      "text/plain": [
       "Validation: 0it [00:00, ?it/s]"
      ]
     },
     "metadata": {},
     "output_type": "display_data"
    },
    {
     "data": {
      "application/vnd.jupyter.widget-view+json": {
       "model_id": "d11bff69b1304f47be4f0dd41724c6a2",
       "version_major": 2,
       "version_minor": 0
      },
      "text/plain": [
       "Validation: 0it [00:00, ?it/s]"
      ]
     },
     "metadata": {},
     "output_type": "display_data"
    },
    {
     "data": {
      "application/vnd.jupyter.widget-view+json": {
       "model_id": "da6d3ac899d2477983c0e2aba7eea437",
       "version_major": 2,
       "version_minor": 0
      },
      "text/plain": [
       "Validation: 0it [00:00, ?it/s]"
      ]
     },
     "metadata": {},
     "output_type": "display_data"
    },
    {
     "name": "stderr",
     "output_type": "stream",
     "text": [
      "`Trainer.fit` stopped: `max_epochs=5` reached.\n",
      "Restoring states from the checkpoint path at c:\\Users\\w10\\Desktop\\BMA\\UPV\\tia\\algoritmos_geneticos\\notebooks\\lightning_logs\\version_397\\checkpoints\\epoch=4-step=150.ckpt\n",
      "Loaded model weights from the checkpoint at c:\\Users\\w10\\Desktop\\BMA\\UPV\\tia\\algoritmos_geneticos\\notebooks\\lightning_logs\\version_397\\checkpoints\\epoch=4-step=150.ckpt\n"
     ]
    },
    {
     "data": {
      "application/vnd.jupyter.widget-view+json": {
       "model_id": "9c3a1ba224094dce9b9ef66ec70d8243",
       "version_major": 2,
       "version_minor": 0
      },
      "text/plain": [
       "Testing: 0it [00:00, ?it/s]"
      ]
     },
     "metadata": {},
     "output_type": "display_data"
    },
    {
     "data": {
      "text/html": [
       "<pre style=\"white-space:pre;overflow-x:auto;line-height:normal;font-family:Menlo,'DejaVu Sans Mono',consolas,'Courier New',monospace\">┏━━━━━━━━━━━━━━━━━━━━━━━━━━━┳━━━━━━━━━━━━━━━━━━━━━━━━━━━┓\n",
       "┃<span style=\"font-weight: bold\">        Test metric        </span>┃<span style=\"font-weight: bold\">       DataLoader 0        </span>┃\n",
       "┡━━━━━━━━━━━━━━━━━━━━━━━━━━━╇━━━━━━━━━━━━━━━━━━━━━━━━━━━┩\n",
       "│<span style=\"color: #008080; text-decoration-color: #008080\">         test_loss         </span>│<span style=\"color: #800080; text-decoration-color: #800080\">    0.6972478628158569     </span>│\n",
       "└───────────────────────────┴───────────────────────────┘\n",
       "</pre>\n"
      ],
      "text/plain": [
       "┏━━━━━━━━━━━━━━━━━━━━━━━━━━━┳━━━━━━━━━━━━━━━━━━━━━━━━━━━┓\n",
       "┃\u001b[1m \u001b[0m\u001b[1m       Test metric       \u001b[0m\u001b[1m \u001b[0m┃\u001b[1m \u001b[0m\u001b[1m      DataLoader 0       \u001b[0m\u001b[1m \u001b[0m┃\n",
       "┡━━━━━━━━━━━━━━━━━━━━━━━━━━━╇━━━━━━━━━━━━━━━━━━━━━━━━━━━┩\n",
       "│\u001b[36m \u001b[0m\u001b[36m        test_loss        \u001b[0m\u001b[36m \u001b[0m│\u001b[35m \u001b[0m\u001b[35m   0.6972478628158569    \u001b[0m\u001b[35m \u001b[0m│\n",
       "└───────────────────────────┴───────────────────────────┘\n"
      ]
     },
     "metadata": {},
     "output_type": "display_data"
    },
    {
     "name": "stderr",
     "output_type": "stream",
     "text": [
      "GPU available: False, used: False\n",
      "TPU available: False, using: 0 TPU cores\n",
      "IPU available: False, using: 0 IPUs\n",
      "HPU available: False, using: 0 HPUs\n",
      "\n",
      "   | Name                 | Type        | Params\n",
      "------------------------------------------------------\n",
      "0  | model                | MyModel     | 7.1 K \n",
      "1  | pre_layers           | Sequential  | 4.6 K \n",
      "2  | cnn1                 | Conv2d      | 16.4 K\n",
      "3  | batch_norm_a         | BatchNorm2d | 128   \n",
      "4  | dropout_1            | Dropout     | 0     \n",
      "5  | funcion_activacion_a | LeakyReLU   | 0     \n",
      "6  | cnn2                 | Conv2d      | 65.6 K\n",
      "7  | batch_norm_b         | BatchNorm2d | 128   \n",
      "8  | dropout_2            | Dropout     | 0     \n",
      "9  | pool2                | AvgPool2d   | 0     \n",
      "10 | fc1                  | Linear      | 10.2 K\n",
      "------------------------------------------------------\n",
      "92.5 K    Trainable params\n",
      "7.1 K     Non-trainable params\n",
      "99.6 K    Total params\n",
      "0.399     Total estimated model params size (MB)\n"
     ]
    },
    {
     "data": {
      "application/vnd.jupyter.widget-view+json": {
       "model_id": "5dc3325287bb4b358dec5537b352e64f",
       "version_major": 2,
       "version_minor": 0
      },
      "text/plain": [
       "Sanity Checking: 0it [00:00, ?it/s]"
      ]
     },
     "metadata": {},
     "output_type": "display_data"
    },
    {
     "data": {
      "application/vnd.jupyter.widget-view+json": {
       "model_id": "5e61bfac4ca6448b965abd525150ba4e",
       "version_major": 2,
       "version_minor": 0
      },
      "text/plain": [
       "Training: 0it [00:00, ?it/s]"
      ]
     },
     "metadata": {},
     "output_type": "display_data"
    },
    {
     "data": {
      "application/vnd.jupyter.widget-view+json": {
       "model_id": "5ab942fd7e0f4f76ba2b16ce1e8d4f33",
       "version_major": 2,
       "version_minor": 0
      },
      "text/plain": [
       "Validation: 0it [00:00, ?it/s]"
      ]
     },
     "metadata": {},
     "output_type": "display_data"
    },
    {
     "data": {
      "application/vnd.jupyter.widget-view+json": {
       "model_id": "eabd9f45455c4bb390dce12f1f5861dc",
       "version_major": 2,
       "version_minor": 0
      },
      "text/plain": [
       "Validation: 0it [00:00, ?it/s]"
      ]
     },
     "metadata": {},
     "output_type": "display_data"
    },
    {
     "data": {
      "application/vnd.jupyter.widget-view+json": {
       "model_id": "49ef13d2e4ca4cec9c7ed0898128e856",
       "version_major": 2,
       "version_minor": 0
      },
      "text/plain": [
       "Validation: 0it [00:00, ?it/s]"
      ]
     },
     "metadata": {},
     "output_type": "display_data"
    },
    {
     "data": {
      "application/vnd.jupyter.widget-view+json": {
       "model_id": "25fde3724f8d4500a0aea8cd384dc16b",
       "version_major": 2,
       "version_minor": 0
      },
      "text/plain": [
       "Validation: 0it [00:00, ?it/s]"
      ]
     },
     "metadata": {},
     "output_type": "display_data"
    },
    {
     "data": {
      "application/vnd.jupyter.widget-view+json": {
       "model_id": "67117ad8d08c4477b45bab5ed9e58b40",
       "version_major": 2,
       "version_minor": 0
      },
      "text/plain": [
       "Validation: 0it [00:00, ?it/s]"
      ]
     },
     "metadata": {},
     "output_type": "display_data"
    },
    {
     "name": "stderr",
     "output_type": "stream",
     "text": [
      "`Trainer.fit` stopped: `max_epochs=5` reached.\n",
      "Restoring states from the checkpoint path at c:\\Users\\w10\\Desktop\\BMA\\UPV\\tia\\algoritmos_geneticos\\notebooks\\lightning_logs\\version_398\\checkpoints\\epoch=4-step=150.ckpt\n",
      "Loaded model weights from the checkpoint at c:\\Users\\w10\\Desktop\\BMA\\UPV\\tia\\algoritmos_geneticos\\notebooks\\lightning_logs\\version_398\\checkpoints\\epoch=4-step=150.ckpt\n"
     ]
    },
    {
     "data": {
      "application/vnd.jupyter.widget-view+json": {
       "model_id": "f95bf37449b044858c469afe4a64e998",
       "version_major": 2,
       "version_minor": 0
      },
      "text/plain": [
       "Testing: 0it [00:00, ?it/s]"
      ]
     },
     "metadata": {},
     "output_type": "display_data"
    },
    {
     "data": {
      "text/html": [
       "<pre style=\"white-space:pre;overflow-x:auto;line-height:normal;font-family:Menlo,'DejaVu Sans Mono',consolas,'Courier New',monospace\">┏━━━━━━━━━━━━━━━━━━━━━━━━━━━┳━━━━━━━━━━━━━━━━━━━━━━━━━━━┓\n",
       "┃<span style=\"font-weight: bold\">        Test metric        </span>┃<span style=\"font-weight: bold\">       DataLoader 0        </span>┃\n",
       "┡━━━━━━━━━━━━━━━━━━━━━━━━━━━╇━━━━━━━━━━━━━━━━━━━━━━━━━━━┩\n",
       "│<span style=\"color: #008080; text-decoration-color: #008080\">         test_loss         </span>│<span style=\"color: #800080; text-decoration-color: #800080\">    0.9823775291442871     </span>│\n",
       "└───────────────────────────┴───────────────────────────┘\n",
       "</pre>\n"
      ],
      "text/plain": [
       "┏━━━━━━━━━━━━━━━━━━━━━━━━━━━┳━━━━━━━━━━━━━━━━━━━━━━━━━━━┓\n",
       "┃\u001b[1m \u001b[0m\u001b[1m       Test metric       \u001b[0m\u001b[1m \u001b[0m┃\u001b[1m \u001b[0m\u001b[1m      DataLoader 0       \u001b[0m\u001b[1m \u001b[0m┃\n",
       "┡━━━━━━━━━━━━━━━━━━━━━━━━━━━╇━━━━━━━━━━━━━━━━━━━━━━━━━━━┩\n",
       "│\u001b[36m \u001b[0m\u001b[36m        test_loss        \u001b[0m\u001b[36m \u001b[0m│\u001b[35m \u001b[0m\u001b[35m   0.9823775291442871    \u001b[0m\u001b[35m \u001b[0m│\n",
       "└───────────────────────────┴───────────────────────────┘\n"
      ]
     },
     "metadata": {},
     "output_type": "display_data"
    },
    {
     "name": "stderr",
     "output_type": "stream",
     "text": [
      "GPU available: False, used: False\n",
      "TPU available: False, using: 0 TPU cores\n",
      "IPU available: False, using: 0 IPUs\n",
      "HPU available: False, using: 0 HPUs\n",
      "\n",
      "   | Name                 | Type        | Params\n",
      "------------------------------------------------------\n",
      "0  | model                | MyModel     | 7.1 K \n",
      "1  | pre_layers           | Sequential  | 4.6 K \n",
      "2  | cnn1                 | Conv2d      | 16.4 K\n",
      "3  | batch_norm_a         | BatchNorm2d | 128   \n",
      "4  | dropout_1            | Dropout     | 0     \n",
      "5  | funcion_activacion_a | ELU         | 0     \n",
      "6  | cnn2                 | Conv2d      | 65.5 K\n",
      "7  | batch_norm_b         | BatchNorm2d | 128   \n",
      "8  | dropout_2            | Dropout     | 0     \n",
      "9  | pool2                | MaxPool2d   | 0     \n",
      "10 | fc1                  | Linear      | 10.2 K\n",
      "------------------------------------------------------\n",
      "92.4 K    Trainable params\n",
      "7.1 K     Non-trainable params\n",
      "99.6 K    Total params\n",
      "0.398     Total estimated model params size (MB)\n"
     ]
    },
    {
     "data": {
      "application/vnd.jupyter.widget-view+json": {
       "model_id": "d7159e2a286a47c7a7b3dee32841bd17",
       "version_major": 2,
       "version_minor": 0
      },
      "text/plain": [
       "Sanity Checking: 0it [00:00, ?it/s]"
      ]
     },
     "metadata": {},
     "output_type": "display_data"
    },
    {
     "data": {
      "application/vnd.jupyter.widget-view+json": {
       "model_id": "c7bce6a0e492404bb4d5a39d1679c155",
       "version_major": 2,
       "version_minor": 0
      },
      "text/plain": [
       "Training: 0it [00:00, ?it/s]"
      ]
     },
     "metadata": {},
     "output_type": "display_data"
    },
    {
     "data": {
      "application/vnd.jupyter.widget-view+json": {
       "model_id": "252ad4a7c90d4db49e8e86bcf957cb7e",
       "version_major": 2,
       "version_minor": 0
      },
      "text/plain": [
       "Validation: 0it [00:00, ?it/s]"
      ]
     },
     "metadata": {},
     "output_type": "display_data"
    },
    {
     "data": {
      "application/vnd.jupyter.widget-view+json": {
       "model_id": "efad50f46f784f858cb1721a60303c36",
       "version_major": 2,
       "version_minor": 0
      },
      "text/plain": [
       "Validation: 0it [00:00, ?it/s]"
      ]
     },
     "metadata": {},
     "output_type": "display_data"
    },
    {
     "data": {
      "application/vnd.jupyter.widget-view+json": {
       "model_id": "d630b4e5718949d9923e242b0a7a1881",
       "version_major": 2,
       "version_minor": 0
      },
      "text/plain": [
       "Validation: 0it [00:00, ?it/s]"
      ]
     },
     "metadata": {},
     "output_type": "display_data"
    },
    {
     "data": {
      "application/vnd.jupyter.widget-view+json": {
       "model_id": "16db5c9c5f294e298257b99da3b2c4e7",
       "version_major": 2,
       "version_minor": 0
      },
      "text/plain": [
       "Validation: 0it [00:00, ?it/s]"
      ]
     },
     "metadata": {},
     "output_type": "display_data"
    },
    {
     "data": {
      "application/vnd.jupyter.widget-view+json": {
       "model_id": "487321c4ed5e4d6b8308c9495b200293",
       "version_major": 2,
       "version_minor": 0
      },
      "text/plain": [
       "Validation: 0it [00:00, ?it/s]"
      ]
     },
     "metadata": {},
     "output_type": "display_data"
    },
    {
     "name": "stderr",
     "output_type": "stream",
     "text": [
      "`Trainer.fit` stopped: `max_epochs=5` reached.\n",
      "Restoring states from the checkpoint path at c:\\Users\\w10\\Desktop\\BMA\\UPV\\tia\\algoritmos_geneticos\\notebooks\\lightning_logs\\version_399\\checkpoints\\epoch=4-step=150.ckpt\n",
      "Loaded model weights from the checkpoint at c:\\Users\\w10\\Desktop\\BMA\\UPV\\tia\\algoritmos_geneticos\\notebooks\\lightning_logs\\version_399\\checkpoints\\epoch=4-step=150.ckpt\n"
     ]
    },
    {
     "data": {
      "application/vnd.jupyter.widget-view+json": {
       "model_id": "5a6b927b413f4ad9acc2e75a2dca0490",
       "version_major": 2,
       "version_minor": 0
      },
      "text/plain": [
       "Testing: 0it [00:00, ?it/s]"
      ]
     },
     "metadata": {},
     "output_type": "display_data"
    },
    {
     "data": {
      "text/html": [
       "<pre style=\"white-space:pre;overflow-x:auto;line-height:normal;font-family:Menlo,'DejaVu Sans Mono',consolas,'Courier New',monospace\">┏━━━━━━━━━━━━━━━━━━━━━━━━━━━┳━━━━━━━━━━━━━━━━━━━━━━━━━━━┓\n",
       "┃<span style=\"font-weight: bold\">        Test metric        </span>┃<span style=\"font-weight: bold\">       DataLoader 0        </span>┃\n",
       "┡━━━━━━━━━━━━━━━━━━━━━━━━━━━╇━━━━━━━━━━━━━━━━━━━━━━━━━━━┩\n",
       "│<span style=\"color: #008080; text-decoration-color: #008080\">         test_loss         </span>│<span style=\"color: #800080; text-decoration-color: #800080\">    0.8629088401794434     </span>│\n",
       "└───────────────────────────┴───────────────────────────┘\n",
       "</pre>\n"
      ],
      "text/plain": [
       "┏━━━━━━━━━━━━━━━━━━━━━━━━━━━┳━━━━━━━━━━━━━━━━━━━━━━━━━━━┓\n",
       "┃\u001b[1m \u001b[0m\u001b[1m       Test metric       \u001b[0m\u001b[1m \u001b[0m┃\u001b[1m \u001b[0m\u001b[1m      DataLoader 0       \u001b[0m\u001b[1m \u001b[0m┃\n",
       "┡━━━━━━━━━━━━━━━━━━━━━━━━━━━╇━━━━━━━━━━━━━━━━━━━━━━━━━━━┩\n",
       "│\u001b[36m \u001b[0m\u001b[36m        test_loss        \u001b[0m\u001b[36m \u001b[0m│\u001b[35m \u001b[0m\u001b[35m   0.8629088401794434    \u001b[0m\u001b[35m \u001b[0m│\n",
       "└───────────────────────────┴───────────────────────────┘\n"
      ]
     },
     "metadata": {},
     "output_type": "display_data"
    },
    {
     "name": "stderr",
     "output_type": "stream",
     "text": [
      "GPU available: False, used: False\n",
      "TPU available: False, using: 0 TPU cores\n",
      "IPU available: False, using: 0 IPUs\n",
      "HPU available: False, using: 0 HPUs\n",
      "\n",
      "   | Name                 | Type        | Params\n",
      "------------------------------------------------------\n",
      "0  | model                | MyModel     | 7.1 K \n",
      "1  | pre_layers           | Sequential  | 4.6 K \n",
      "2  | cnn1                 | Conv2d      | 16.4 K\n",
      "3  | batch_norm_a         | BatchNorm2d | 128   \n",
      "4  | dropout_1            | Dropout     | 0     \n",
      "5  | funcion_activacion_a | ELU         | 0     \n",
      "6  | cnn2                 | Conv2d      | 65.6 K\n",
      "7  | batch_norm_b         | BatchNorm2d | 128   \n",
      "8  | dropout_2            | Dropout     | 0     \n",
      "9  | pool2                | MaxPool2d   | 0     \n",
      "10 | fc1                  | Linear      | 10.2 K\n",
      "------------------------------------------------------\n",
      "92.5 K    Trainable params\n",
      "7.1 K     Non-trainable params\n",
      "99.6 K    Total params\n",
      "0.399     Total estimated model params size (MB)\n"
     ]
    },
    {
     "data": {
      "application/vnd.jupyter.widget-view+json": {
       "model_id": "24696ac5a1654cdf8774609566d697a4",
       "version_major": 2,
       "version_minor": 0
      },
      "text/plain": [
       "Sanity Checking: 0it [00:00, ?it/s]"
      ]
     },
     "metadata": {},
     "output_type": "display_data"
    },
    {
     "data": {
      "application/vnd.jupyter.widget-view+json": {
       "model_id": "396e116a0c9b41bb9c464cfa7ccff7a3",
       "version_major": 2,
       "version_minor": 0
      },
      "text/plain": [
       "Training: 0it [00:00, ?it/s]"
      ]
     },
     "metadata": {},
     "output_type": "display_data"
    },
    {
     "data": {
      "application/vnd.jupyter.widget-view+json": {
       "model_id": "698e998456ef4f41a1c7b7c3eb259f97",
       "version_major": 2,
       "version_minor": 0
      },
      "text/plain": [
       "Validation: 0it [00:00, ?it/s]"
      ]
     },
     "metadata": {},
     "output_type": "display_data"
    },
    {
     "data": {
      "application/vnd.jupyter.widget-view+json": {
       "model_id": "f71b6320e9d04724bbd3e24009c7394a",
       "version_major": 2,
       "version_minor": 0
      },
      "text/plain": [
       "Validation: 0it [00:00, ?it/s]"
      ]
     },
     "metadata": {},
     "output_type": "display_data"
    },
    {
     "data": {
      "application/vnd.jupyter.widget-view+json": {
       "model_id": "522180b6b4394548a22eaacc81a9a7d9",
       "version_major": 2,
       "version_minor": 0
      },
      "text/plain": [
       "Validation: 0it [00:00, ?it/s]"
      ]
     },
     "metadata": {},
     "output_type": "display_data"
    },
    {
     "data": {
      "application/vnd.jupyter.widget-view+json": {
       "model_id": "bdf01926f5684172a2f459990064d474",
       "version_major": 2,
       "version_minor": 0
      },
      "text/plain": [
       "Validation: 0it [00:00, ?it/s]"
      ]
     },
     "metadata": {},
     "output_type": "display_data"
    },
    {
     "data": {
      "application/vnd.jupyter.widget-view+json": {
       "model_id": "52f63464164e423ca34672e663ffba9d",
       "version_major": 2,
       "version_minor": 0
      },
      "text/plain": [
       "Validation: 0it [00:00, ?it/s]"
      ]
     },
     "metadata": {},
     "output_type": "display_data"
    },
    {
     "name": "stderr",
     "output_type": "stream",
     "text": [
      "`Trainer.fit` stopped: `max_epochs=5` reached.\n",
      "Restoring states from the checkpoint path at c:\\Users\\w10\\Desktop\\BMA\\UPV\\tia\\algoritmos_geneticos\\notebooks\\lightning_logs\\version_400\\checkpoints\\epoch=4-step=150.ckpt\n",
      "Loaded model weights from the checkpoint at c:\\Users\\w10\\Desktop\\BMA\\UPV\\tia\\algoritmos_geneticos\\notebooks\\lightning_logs\\version_400\\checkpoints\\epoch=4-step=150.ckpt\n"
     ]
    },
    {
     "data": {
      "application/vnd.jupyter.widget-view+json": {
       "model_id": "2a76a2e35c8f4410bec580c22be58eae",
       "version_major": 2,
       "version_minor": 0
      },
      "text/plain": [
       "Testing: 0it [00:00, ?it/s]"
      ]
     },
     "metadata": {},
     "output_type": "display_data"
    },
    {
     "data": {
      "text/html": [
       "<pre style=\"white-space:pre;overflow-x:auto;line-height:normal;font-family:Menlo,'DejaVu Sans Mono',consolas,'Courier New',monospace\">┏━━━━━━━━━━━━━━━━━━━━━━━━━━━┳━━━━━━━━━━━━━━━━━━━━━━━━━━━┓\n",
       "┃<span style=\"font-weight: bold\">        Test metric        </span>┃<span style=\"font-weight: bold\">       DataLoader 0        </span>┃\n",
       "┡━━━━━━━━━━━━━━━━━━━━━━━━━━━╇━━━━━━━━━━━━━━━━━━━━━━━━━━━┩\n",
       "│<span style=\"color: #008080; text-decoration-color: #008080\">         test_loss         </span>│<span style=\"color: #800080; text-decoration-color: #800080\">    2.1584250926971436     </span>│\n",
       "└───────────────────────────┴───────────────────────────┘\n",
       "</pre>\n"
      ],
      "text/plain": [
       "┏━━━━━━━━━━━━━━━━━━━━━━━━━━━┳━━━━━━━━━━━━━━━━━━━━━━━━━━━┓\n",
       "┃\u001b[1m \u001b[0m\u001b[1m       Test metric       \u001b[0m\u001b[1m \u001b[0m┃\u001b[1m \u001b[0m\u001b[1m      DataLoader 0       \u001b[0m\u001b[1m \u001b[0m┃\n",
       "┡━━━━━━━━━━━━━━━━━━━━━━━━━━━╇━━━━━━━━━━━━━━━━━━━━━━━━━━━┩\n",
       "│\u001b[36m \u001b[0m\u001b[36m        test_loss        \u001b[0m\u001b[36m \u001b[0m│\u001b[35m \u001b[0m\u001b[35m   2.1584250926971436    \u001b[0m\u001b[35m \u001b[0m│\n",
       "└───────────────────────────┴───────────────────────────┘\n"
      ]
     },
     "metadata": {},
     "output_type": "display_data"
    },
    {
     "name": "stderr",
     "output_type": "stream",
     "text": [
      "GPU available: False, used: False\n",
      "TPU available: False, using: 0 TPU cores\n",
      "IPU available: False, using: 0 IPUs\n",
      "HPU available: False, using: 0 HPUs\n",
      "\n",
      "   | Name                 | Type        | Params\n",
      "------------------------------------------------------\n",
      "0  | model                | MyModel     | 7.1 K \n",
      "1  | pre_layers           | Sequential  | 4.6 K \n",
      "2  | cnn1                 | Conv2d      | 16.4 K\n",
      "3  | batch_norm_a         | BatchNorm2d | 128   \n",
      "4  | dropout_1            | Dropout     | 0     \n",
      "5  | funcion_activacion_a | SELU        | 0     \n",
      "6  | cnn2                 | Conv2d      | 65.5 K\n",
      "7  | batch_norm_b         | BatchNorm2d | 128   \n",
      "8  | dropout_2            | Dropout     | 0     \n",
      "9  | pool2                | MaxPool2d   | 0     \n",
      "10 | fc1                  | Linear      | 10.2 K\n",
      "------------------------------------------------------\n",
      "92.4 K    Trainable params\n",
      "7.1 K     Non-trainable params\n",
      "99.6 K    Total params\n",
      "0.398     Total estimated model params size (MB)\n"
     ]
    },
    {
     "data": {
      "application/vnd.jupyter.widget-view+json": {
       "model_id": "ef943660acf743b8aec614be317d5088",
       "version_major": 2,
       "version_minor": 0
      },
      "text/plain": [
       "Sanity Checking: 0it [00:00, ?it/s]"
      ]
     },
     "metadata": {},
     "output_type": "display_data"
    },
    {
     "data": {
      "application/vnd.jupyter.widget-view+json": {
       "model_id": "d5732a10a0484252b0c24174ea453256",
       "version_major": 2,
       "version_minor": 0
      },
      "text/plain": [
       "Training: 0it [00:00, ?it/s]"
      ]
     },
     "metadata": {},
     "output_type": "display_data"
    },
    {
     "data": {
      "application/vnd.jupyter.widget-view+json": {
       "model_id": "1e1d9c8527984adcaa66c7ef5ee1905a",
       "version_major": 2,
       "version_minor": 0
      },
      "text/plain": [
       "Validation: 0it [00:00, ?it/s]"
      ]
     },
     "metadata": {},
     "output_type": "display_data"
    },
    {
     "data": {
      "application/vnd.jupyter.widget-view+json": {
       "model_id": "1049e2dc0dc64177b9e7ecb5305a6a8b",
       "version_major": 2,
       "version_minor": 0
      },
      "text/plain": [
       "Validation: 0it [00:00, ?it/s]"
      ]
     },
     "metadata": {},
     "output_type": "display_data"
    },
    {
     "data": {
      "application/vnd.jupyter.widget-view+json": {
       "model_id": "6d216cf926344b70ae542472759f5ce2",
       "version_major": 2,
       "version_minor": 0
      },
      "text/plain": [
       "Validation: 0it [00:00, ?it/s]"
      ]
     },
     "metadata": {},
     "output_type": "display_data"
    },
    {
     "data": {
      "application/vnd.jupyter.widget-view+json": {
       "model_id": "bac0576dcea64fdcbe30c2e848aa2f3e",
       "version_major": 2,
       "version_minor": 0
      },
      "text/plain": [
       "Validation: 0it [00:00, ?it/s]"
      ]
     },
     "metadata": {},
     "output_type": "display_data"
    },
    {
     "data": {
      "application/vnd.jupyter.widget-view+json": {
       "model_id": "0c8ead3d0a4a418b899ef710b30fffcb",
       "version_major": 2,
       "version_minor": 0
      },
      "text/plain": [
       "Validation: 0it [00:00, ?it/s]"
      ]
     },
     "metadata": {},
     "output_type": "display_data"
    },
    {
     "name": "stderr",
     "output_type": "stream",
     "text": [
      "`Trainer.fit` stopped: `max_epochs=5` reached.\n",
      "Restoring states from the checkpoint path at c:\\Users\\w10\\Desktop\\BMA\\UPV\\tia\\algoritmos_geneticos\\notebooks\\lightning_logs\\version_401\\checkpoints\\epoch=4-step=150.ckpt\n",
      "Loaded model weights from the checkpoint at c:\\Users\\w10\\Desktop\\BMA\\UPV\\tia\\algoritmos_geneticos\\notebooks\\lightning_logs\\version_401\\checkpoints\\epoch=4-step=150.ckpt\n"
     ]
    },
    {
     "data": {
      "application/vnd.jupyter.widget-view+json": {
       "model_id": "1cc743bfac9b4236ae62ef1c1fd6c344",
       "version_major": 2,
       "version_minor": 0
      },
      "text/plain": [
       "Testing: 0it [00:00, ?it/s]"
      ]
     },
     "metadata": {},
     "output_type": "display_data"
    },
    {
     "data": {
      "text/html": [
       "<pre style=\"white-space:pre;overflow-x:auto;line-height:normal;font-family:Menlo,'DejaVu Sans Mono',consolas,'Courier New',monospace\">┏━━━━━━━━━━━━━━━━━━━━━━━━━━━┳━━━━━━━━━━━━━━━━━━━━━━━━━━━┓\n",
       "┃<span style=\"font-weight: bold\">        Test metric        </span>┃<span style=\"font-weight: bold\">       DataLoader 0        </span>┃\n",
       "┡━━━━━━━━━━━━━━━━━━━━━━━━━━━╇━━━━━━━━━━━━━━━━━━━━━━━━━━━┩\n",
       "│<span style=\"color: #008080; text-decoration-color: #008080\">         test_loss         </span>│<span style=\"color: #800080; text-decoration-color: #800080\">    1.4987781047821045     </span>│\n",
       "└───────────────────────────┴───────────────────────────┘\n",
       "</pre>\n"
      ],
      "text/plain": [
       "┏━━━━━━━━━━━━━━━━━━━━━━━━━━━┳━━━━━━━━━━━━━━━━━━━━━━━━━━━┓\n",
       "┃\u001b[1m \u001b[0m\u001b[1m       Test metric       \u001b[0m\u001b[1m \u001b[0m┃\u001b[1m \u001b[0m\u001b[1m      DataLoader 0       \u001b[0m\u001b[1m \u001b[0m┃\n",
       "┡━━━━━━━━━━━━━━━━━━━━━━━━━━━╇━━━━━━━━━━━━━━━━━━━━━━━━━━━┩\n",
       "│\u001b[36m \u001b[0m\u001b[36m        test_loss        \u001b[0m\u001b[36m \u001b[0m│\u001b[35m \u001b[0m\u001b[35m   1.4987781047821045    \u001b[0m\u001b[35m \u001b[0m│\n",
       "└───────────────────────────┴───────────────────────────┘\n"
      ]
     },
     "metadata": {},
     "output_type": "display_data"
    },
    {
     "name": "stderr",
     "output_type": "stream",
     "text": [
      "GPU available: False, used: False\n",
      "TPU available: False, using: 0 TPU cores\n",
      "IPU available: False, using: 0 IPUs\n",
      "HPU available: False, using: 0 HPUs\n"
     ]
    },
    {
     "name": "stdout",
     "output_type": "stream",
     "text": [
      "[{'a_include_BN': False, 'a_include_bias': True, 'activation_type': ReLU(), 'b_include_BN': True, 'b_include_bias': True, 'pool_type': MaxPool2d(kernel_size=2, stride=2, padding=0, dilation=1, ceil_mode=False), 'learning_rate': 0.1, 'dropout_range_a': 0.2, 'dropout_range_b': 0.3}, MyModel(\n",
      "  (model): MyModel(\n",
      "    (cnn1): Conv2d(1, 16, kernel_size=(5, 5), stride=(1, 1), bias=False)\n",
      "    (batch_norm_a): BatchNorm2d(16, eps=1e-05, momentum=0.1, affine=True, track_running_stats=True)\n",
      "    (funcion_activacion_a): ELU(alpha=1.0)\n",
      "    (dropout_1): Dropout(p=0.1, inplace=False)\n",
      "    (pool1): MaxPool2d(kernel_size=2, stride=2, padding=0, dilation=1, ceil_mode=False)\n",
      "    (cnn2): Conv2d(16, 16, kernel_size=(4, 4), stride=(1, 1))\n",
      "    (batch_norm_b): BatchNorm2d(16, eps=1e-05, momentum=0.1, affine=True, track_running_stats=True)\n",
      "    (funcion_activacion_b): ELU(alpha=1.0)\n",
      "    (dropout_2): Dropout(p=0.1, inplace=False)\n",
      "    (pool2): MaxPool2d(kernel_size=2, stride=2, padding=0, dilation=1, ceil_mode=False)\n",
      "    (fc1): Linear(in_features=256, out_features=10, bias=True)\n",
      "  )\n",
      "  (pre_layers): Sequential(\n",
      "    (0): Conv2d(1, 16, kernel_size=(5, 5), stride=(1, 1), bias=False)\n",
      "    (1): BatchNorm2d(16, eps=1e-05, momentum=0.1, affine=True, track_running_stats=True)\n",
      "    (2): ELU(alpha=1.0)\n",
      "    (3): Dropout(p=0.1, inplace=False)\n",
      "    (4): MaxPool2d(kernel_size=2, stride=2, padding=0, dilation=1, ceil_mode=False)\n",
      "    (5): Conv2d(16, 16, kernel_size=(4, 4), stride=(1, 1))\n",
      "    (6): BatchNorm2d(16, eps=1e-05, momentum=0.1, affine=True, track_running_stats=True)\n",
      "  )\n",
      "  (cnn1): Conv2d(16, 64, kernel_size=(4, 4), stride=(1, 1), padding=same)\n",
      "  (batch_norm_a): BatchNorm2d(64, eps=1e-05, momentum=0.1, affine=True, track_running_stats=True)\n",
      "  (dropout_1): Dropout(p=0.2, inplace=False)\n",
      "  (funcion_activacion_a): ReLU()\n",
      "  (cnn2): Conv2d(64, 64, kernel_size=(4, 4), stride=(1, 1), padding=same)\n",
      "  (batch_norm_b): BatchNorm2d(64, eps=1e-05, momentum=0.1, affine=True, track_running_stats=True)\n",
      "  (funcion_activacion_b): ReLU()\n",
      "  (dropout_2): Dropout(p=0.3, inplace=False)\n",
      "  (pool2): MaxPool2d(kernel_size=2, stride=2, padding=0, dilation=1, ceil_mode=False)\n",
      "  (fc1): Linear(in_features=1024, out_features=10, bias=True)\n",
      "), 0.6972478628158569]\n",
      "4\n",
      "4\n",
      "{'a_include_BN': False, 'a_include_bias': True, 'activation_type': ReLU(), 'b_include_BN': True, 'b_include_bias': True, 'pool_type': MaxPool2d(kernel_size=2, stride=2, padding=0, dilation=1, ceil_mode=False), 'learning_rate': 0.1, 'dropout_range_a': 0.2, 'dropout_range_b': 0.3}\n"
     ]
    },
    {
     "name": "stderr",
     "output_type": "stream",
     "text": [
      "\n",
      "   | Name                 | Type        | Params\n",
      "------------------------------------------------------\n",
      "0  | model                | MyModel     | 7.1 K \n",
      "1  | pre_layers           | Sequential  | 4.6 K \n",
      "2  | cnn1                 | Conv2d      | 16.4 K\n",
      "3  | batch_norm_a         | BatchNorm2d | 128   \n",
      "4  | dropout_1            | Dropout     | 0     \n",
      "5  | funcion_activacion_a | ReLU        | 0     \n",
      "6  | cnn2                 | Conv2d      | 65.6 K\n",
      "7  | batch_norm_b         | BatchNorm2d | 128   \n",
      "8  | dropout_2            | Dropout     | 0     \n",
      "9  | pool2                | MaxPool2d   | 0     \n",
      "10 | fc1                  | Linear      | 10.2 K\n",
      "------------------------------------------------------\n",
      "92.6 K    Trainable params\n",
      "7.1 K     Non-trainable params\n",
      "99.7 K    Total params\n",
      "0.399     Total estimated model params size (MB)\n"
     ]
    },
    {
     "data": {
      "application/vnd.jupyter.widget-view+json": {
       "model_id": "4bb6eafacbaa4d949ca707f9fa8ed89e",
       "version_major": 2,
       "version_minor": 0
      },
      "text/plain": [
       "Sanity Checking: 0it [00:00, ?it/s]"
      ]
     },
     "metadata": {},
     "output_type": "display_data"
    },
    {
     "data": {
      "application/vnd.jupyter.widget-view+json": {
       "model_id": "9ea56b92160f4e6a888556c0587cc59d",
       "version_major": 2,
       "version_minor": 0
      },
      "text/plain": [
       "Training: 0it [00:00, ?it/s]"
      ]
     },
     "metadata": {},
     "output_type": "display_data"
    },
    {
     "data": {
      "application/vnd.jupyter.widget-view+json": {
       "model_id": "e35ecdb607ad48cfb372b259b1a58932",
       "version_major": 2,
       "version_minor": 0
      },
      "text/plain": [
       "Validation: 0it [00:00, ?it/s]"
      ]
     },
     "metadata": {},
     "output_type": "display_data"
    },
    {
     "data": {
      "application/vnd.jupyter.widget-view+json": {
       "model_id": "6769d7ffac8242bd82e765da20d84aef",
       "version_major": 2,
       "version_minor": 0
      },
      "text/plain": [
       "Validation: 0it [00:00, ?it/s]"
      ]
     },
     "metadata": {},
     "output_type": "display_data"
    },
    {
     "data": {
      "application/vnd.jupyter.widget-view+json": {
       "model_id": "7607a01935ae4906a222349f13c12711",
       "version_major": 2,
       "version_minor": 0
      },
      "text/plain": [
       "Validation: 0it [00:00, ?it/s]"
      ]
     },
     "metadata": {},
     "output_type": "display_data"
    },
    {
     "data": {
      "application/vnd.jupyter.widget-view+json": {
       "model_id": "669e6b8f386b4eeabda85e0325ea40bf",
       "version_major": 2,
       "version_minor": 0
      },
      "text/plain": [
       "Validation: 0it [00:00, ?it/s]"
      ]
     },
     "metadata": {},
     "output_type": "display_data"
    },
    {
     "data": {
      "application/vnd.jupyter.widget-view+json": {
       "model_id": "0796636a5dd24f15a76a71b186fc650b",
       "version_major": 2,
       "version_minor": 0
      },
      "text/plain": [
       "Validation: 0it [00:00, ?it/s]"
      ]
     },
     "metadata": {},
     "output_type": "display_data"
    },
    {
     "name": "stderr",
     "output_type": "stream",
     "text": [
      "`Trainer.fit` stopped: `max_epochs=5` reached.\n",
      "Restoring states from the checkpoint path at c:\\Users\\w10\\Desktop\\BMA\\UPV\\tia\\algoritmos_geneticos\\notebooks\\lightning_logs\\version_402\\checkpoints\\epoch=4-step=150.ckpt\n",
      "Loaded model weights from the checkpoint at c:\\Users\\w10\\Desktop\\BMA\\UPV\\tia\\algoritmos_geneticos\\notebooks\\lightning_logs\\version_402\\checkpoints\\epoch=4-step=150.ckpt\n"
     ]
    },
    {
     "data": {
      "application/vnd.jupyter.widget-view+json": {
       "model_id": "0f2ad6324c6e4f1c9c452acb51fb1064",
       "version_major": 2,
       "version_minor": 0
      },
      "text/plain": [
       "Testing: 0it [00:00, ?it/s]"
      ]
     },
     "metadata": {},
     "output_type": "display_data"
    },
    {
     "data": {
      "text/html": [
       "<pre style=\"white-space:pre;overflow-x:auto;line-height:normal;font-family:Menlo,'DejaVu Sans Mono',consolas,'Courier New',monospace\">┏━━━━━━━━━━━━━━━━━━━━━━━━━━━┳━━━━━━━━━━━━━━━━━━━━━━━━━━━┓\n",
       "┃<span style=\"font-weight: bold\">        Test metric        </span>┃<span style=\"font-weight: bold\">       DataLoader 0        </span>┃\n",
       "┡━━━━━━━━━━━━━━━━━━━━━━━━━━━╇━━━━━━━━━━━━━━━━━━━━━━━━━━━┩\n",
       "│<span style=\"color: #008080; text-decoration-color: #008080\">         test_loss         </span>│<span style=\"color: #800080; text-decoration-color: #800080\">    0.8229170441627502     </span>│\n",
       "└───────────────────────────┴───────────────────────────┘\n",
       "</pre>\n"
      ],
      "text/plain": [
       "┏━━━━━━━━━━━━━━━━━━━━━━━━━━━┳━━━━━━━━━━━━━━━━━━━━━━━━━━━┓\n",
       "┃\u001b[1m \u001b[0m\u001b[1m       Test metric       \u001b[0m\u001b[1m \u001b[0m┃\u001b[1m \u001b[0m\u001b[1m      DataLoader 0       \u001b[0m\u001b[1m \u001b[0m┃\n",
       "┡━━━━━━━━━━━━━━━━━━━━━━━━━━━╇━━━━━━━━━━━━━━━━━━━━━━━━━━━┩\n",
       "│\u001b[36m \u001b[0m\u001b[36m        test_loss        \u001b[0m\u001b[36m \u001b[0m│\u001b[35m \u001b[0m\u001b[35m   0.8229170441627502    \u001b[0m\u001b[35m \u001b[0m│\n",
       "└───────────────────────────┴───────────────────────────┘\n"
      ]
     },
     "metadata": {},
     "output_type": "display_data"
    },
    {
     "name": "stderr",
     "output_type": "stream",
     "text": [
      "GPU available: False, used: False\n",
      "TPU available: False, using: 0 TPU cores\n",
      "IPU available: False, using: 0 IPUs\n",
      "HPU available: False, using: 0 HPUs\n"
     ]
    },
    {
     "name": "stdout",
     "output_type": "stream",
     "text": [
      "{'a_include_BN': False, 'a_include_bias': False, 'activation_type': ELU(alpha=1.0), 'b_include_BN': True, 'b_include_bias': False, 'pool_type': MaxPool2d(kernel_size=2, stride=2, padding=0, dilation=1, ceil_mode=False), 'learning_rate': 0.001, 'dropout_range_a': 0, 'dropout_range_b': 0.1}\n"
     ]
    },
    {
     "name": "stderr",
     "output_type": "stream",
     "text": [
      "\n",
      "   | Name                 | Type        | Params\n",
      "------------------------------------------------------\n",
      "0  | model                | MyModel     | 7.1 K \n",
      "1  | pre_layers           | Sequential  | 4.6 K \n",
      "2  | cnn1                 | Conv2d      | 16.4 K\n",
      "3  | batch_norm_a         | BatchNorm2d | 128   \n",
      "4  | dropout_1            | Dropout     | 0     \n",
      "5  | funcion_activacion_a | ELU         | 0     \n",
      "6  | cnn2                 | Conv2d      | 65.5 K\n",
      "7  | batch_norm_b         | BatchNorm2d | 128   \n",
      "8  | dropout_2            | Dropout     | 0     \n",
      "9  | pool2                | MaxPool2d   | 0     \n",
      "10 | fc1                  | Linear      | 10.2 K\n",
      "------------------------------------------------------\n",
      "92.4 K    Trainable params\n",
      "7.1 K     Non-trainable params\n",
      "99.6 K    Total params\n",
      "0.398     Total estimated model params size (MB)\n"
     ]
    },
    {
     "data": {
      "application/vnd.jupyter.widget-view+json": {
       "model_id": "3ee370f81d644795b8dfd9345667550a",
       "version_major": 2,
       "version_minor": 0
      },
      "text/plain": [
       "Sanity Checking: 0it [00:00, ?it/s]"
      ]
     },
     "metadata": {},
     "output_type": "display_data"
    },
    {
     "data": {
      "application/vnd.jupyter.widget-view+json": {
       "model_id": "7a69148ab5ec4de1b8f614ae196e5c70",
       "version_major": 2,
       "version_minor": 0
      },
      "text/plain": [
       "Training: 0it [00:00, ?it/s]"
      ]
     },
     "metadata": {},
     "output_type": "display_data"
    },
    {
     "data": {
      "application/vnd.jupyter.widget-view+json": {
       "model_id": "c8fb5e7d81354915834f4cf223542afe",
       "version_major": 2,
       "version_minor": 0
      },
      "text/plain": [
       "Validation: 0it [00:00, ?it/s]"
      ]
     },
     "metadata": {},
     "output_type": "display_data"
    },
    {
     "data": {
      "application/vnd.jupyter.widget-view+json": {
       "model_id": "ea156e02661a40fc8d2d5b6ca82ca15a",
       "version_major": 2,
       "version_minor": 0
      },
      "text/plain": [
       "Validation: 0it [00:00, ?it/s]"
      ]
     },
     "metadata": {},
     "output_type": "display_data"
    },
    {
     "data": {
      "application/vnd.jupyter.widget-view+json": {
       "model_id": "ef3f336fa64247d79f07d4f030fdf11f",
       "version_major": 2,
       "version_minor": 0
      },
      "text/plain": [
       "Validation: 0it [00:00, ?it/s]"
      ]
     },
     "metadata": {},
     "output_type": "display_data"
    },
    {
     "data": {
      "application/vnd.jupyter.widget-view+json": {
       "model_id": "e69e6c409269473ca9f97b4de206a6c0",
       "version_major": 2,
       "version_minor": 0
      },
      "text/plain": [
       "Validation: 0it [00:00, ?it/s]"
      ]
     },
     "metadata": {},
     "output_type": "display_data"
    },
    {
     "data": {
      "application/vnd.jupyter.widget-view+json": {
       "model_id": "97570aaf31094c69a4205c528dc828cb",
       "version_major": 2,
       "version_minor": 0
      },
      "text/plain": [
       "Validation: 0it [00:00, ?it/s]"
      ]
     },
     "metadata": {},
     "output_type": "display_data"
    },
    {
     "name": "stderr",
     "output_type": "stream",
     "text": [
      "`Trainer.fit` stopped: `max_epochs=5` reached.\n",
      "Restoring states from the checkpoint path at c:\\Users\\w10\\Desktop\\BMA\\UPV\\tia\\algoritmos_geneticos\\notebooks\\lightning_logs\\version_403\\checkpoints\\epoch=4-step=150.ckpt\n",
      "Loaded model weights from the checkpoint at c:\\Users\\w10\\Desktop\\BMA\\UPV\\tia\\algoritmos_geneticos\\notebooks\\lightning_logs\\version_403\\checkpoints\\epoch=4-step=150.ckpt\n"
     ]
    },
    {
     "data": {
      "application/vnd.jupyter.widget-view+json": {
       "model_id": "c68da460a28a44be9b76988e761a35cc",
       "version_major": 2,
       "version_minor": 0
      },
      "text/plain": [
       "Testing: 0it [00:00, ?it/s]"
      ]
     },
     "metadata": {},
     "output_type": "display_data"
    },
    {
     "data": {
      "text/html": [
       "<pre style=\"white-space:pre;overflow-x:auto;line-height:normal;font-family:Menlo,'DejaVu Sans Mono',consolas,'Courier New',monospace\">┏━━━━━━━━━━━━━━━━━━━━━━━━━━━┳━━━━━━━━━━━━━━━━━━━━━━━━━━━┓\n",
       "┃<span style=\"font-weight: bold\">        Test metric        </span>┃<span style=\"font-weight: bold\">       DataLoader 0        </span>┃\n",
       "┡━━━━━━━━━━━━━━━━━━━━━━━━━━━╇━━━━━━━━━━━━━━━━━━━━━━━━━━━┩\n",
       "│<span style=\"color: #008080; text-decoration-color: #008080\">         test_loss         </span>│<span style=\"color: #800080; text-decoration-color: #800080\">    0.8796132206916809     </span>│\n",
       "└───────────────────────────┴───────────────────────────┘\n",
       "</pre>\n"
      ],
      "text/plain": [
       "┏━━━━━━━━━━━━━━━━━━━━━━━━━━━┳━━━━━━━━━━━━━━━━━━━━━━━━━━━┓\n",
       "┃\u001b[1m \u001b[0m\u001b[1m       Test metric       \u001b[0m\u001b[1m \u001b[0m┃\u001b[1m \u001b[0m\u001b[1m      DataLoader 0       \u001b[0m\u001b[1m \u001b[0m┃\n",
       "┡━━━━━━━━━━━━━━━━━━━━━━━━━━━╇━━━━━━━━━━━━━━━━━━━━━━━━━━━┩\n",
       "│\u001b[36m \u001b[0m\u001b[36m        test_loss        \u001b[0m\u001b[36m \u001b[0m│\u001b[35m \u001b[0m\u001b[35m   0.8796132206916809    \u001b[0m\u001b[35m \u001b[0m│\n",
       "└───────────────────────────┴───────────────────────────┘\n"
      ]
     },
     "metadata": {},
     "output_type": "display_data"
    },
    {
     "name": "stderr",
     "output_type": "stream",
     "text": [
      "GPU available: False, used: False\n",
      "TPU available: False, using: 0 TPU cores\n",
      "IPU available: False, using: 0 IPUs\n",
      "HPU available: False, using: 0 HPUs\n"
     ]
    },
    {
     "name": "stdout",
     "output_type": "stream",
     "text": [
      "{'a_include_BN': False, 'a_include_bias': False, 'activation_type': LeakyReLU(negative_slope=0.01), 'b_include_BN': False, 'b_include_bias': True, 'pool_type': AvgPool2d(kernel_size=2, stride=2, padding=0), 'learning_rate': 0.01, 'dropout_range_a': 0.1, 'dropout_range_b': 0.1}\n"
     ]
    },
    {
     "name": "stderr",
     "output_type": "stream",
     "text": [
      "\n",
      "   | Name                 | Type        | Params\n",
      "------------------------------------------------------\n",
      "0  | model                | MyModel     | 7.1 K \n",
      "1  | pre_layers           | Sequential  | 4.6 K \n",
      "2  | cnn1                 | Conv2d      | 16.4 K\n",
      "3  | batch_norm_a         | BatchNorm2d | 128   \n",
      "4  | dropout_1            | Dropout     | 0     \n",
      "5  | funcion_activacion_a | LeakyReLU   | 0     \n",
      "6  | cnn2                 | Conv2d      | 65.6 K\n",
      "7  | batch_norm_b         | BatchNorm2d | 128   \n",
      "8  | dropout_2            | Dropout     | 0     \n",
      "9  | pool2                | AvgPool2d   | 0     \n",
      "10 | fc1                  | Linear      | 10.2 K\n",
      "------------------------------------------------------\n",
      "92.5 K    Trainable params\n",
      "7.1 K     Non-trainable params\n",
      "99.6 K    Total params\n",
      "0.399     Total estimated model params size (MB)\n"
     ]
    },
    {
     "data": {
      "application/vnd.jupyter.widget-view+json": {
       "model_id": "561a5c6c8b464779958517839331fe5b",
       "version_major": 2,
       "version_minor": 0
      },
      "text/plain": [
       "Sanity Checking: 0it [00:00, ?it/s]"
      ]
     },
     "metadata": {},
     "output_type": "display_data"
    },
    {
     "data": {
      "application/vnd.jupyter.widget-view+json": {
       "model_id": "5f62394332c842c4abbc28001edae0d8",
       "version_major": 2,
       "version_minor": 0
      },
      "text/plain": [
       "Training: 0it [00:00, ?it/s]"
      ]
     },
     "metadata": {},
     "output_type": "display_data"
    },
    {
     "data": {
      "application/vnd.jupyter.widget-view+json": {
       "model_id": "f0536078b177459b94b3917de6f7f0d9",
       "version_major": 2,
       "version_minor": 0
      },
      "text/plain": [
       "Validation: 0it [00:00, ?it/s]"
      ]
     },
     "metadata": {},
     "output_type": "display_data"
    },
    {
     "data": {
      "application/vnd.jupyter.widget-view+json": {
       "model_id": "809e3037fda147c69a3dbcabbec274aa",
       "version_major": 2,
       "version_minor": 0
      },
      "text/plain": [
       "Validation: 0it [00:00, ?it/s]"
      ]
     },
     "metadata": {},
     "output_type": "display_data"
    },
    {
     "data": {
      "application/vnd.jupyter.widget-view+json": {
       "model_id": "59977bc98e7f46c283a14cb58c24b129",
       "version_major": 2,
       "version_minor": 0
      },
      "text/plain": [
       "Validation: 0it [00:00, ?it/s]"
      ]
     },
     "metadata": {},
     "output_type": "display_data"
    },
    {
     "data": {
      "application/vnd.jupyter.widget-view+json": {
       "model_id": "61c061f7c7504aa0986785ee2f1795cb",
       "version_major": 2,
       "version_minor": 0
      },
      "text/plain": [
       "Validation: 0it [00:00, ?it/s]"
      ]
     },
     "metadata": {},
     "output_type": "display_data"
    },
    {
     "data": {
      "application/vnd.jupyter.widget-view+json": {
       "model_id": "f775fc43cb2842b688b162865ff45fa7",
       "version_major": 2,
       "version_minor": 0
      },
      "text/plain": [
       "Validation: 0it [00:00, ?it/s]"
      ]
     },
     "metadata": {},
     "output_type": "display_data"
    },
    {
     "name": "stderr",
     "output_type": "stream",
     "text": [
      "`Trainer.fit` stopped: `max_epochs=5` reached.\n",
      "Restoring states from the checkpoint path at c:\\Users\\w10\\Desktop\\BMA\\UPV\\tia\\algoritmos_geneticos\\notebooks\\lightning_logs\\version_404\\checkpoints\\epoch=4-step=150.ckpt\n",
      "Loaded model weights from the checkpoint at c:\\Users\\w10\\Desktop\\BMA\\UPV\\tia\\algoritmos_geneticos\\notebooks\\lightning_logs\\version_404\\checkpoints\\epoch=4-step=150.ckpt\n"
     ]
    },
    {
     "data": {
      "application/vnd.jupyter.widget-view+json": {
       "model_id": "51e8b94405d24e8e8913e1267291fe3f",
       "version_major": 2,
       "version_minor": 0
      },
      "text/plain": [
       "Testing: 0it [00:00, ?it/s]"
      ]
     },
     "metadata": {},
     "output_type": "display_data"
    },
    {
     "data": {
      "text/html": [
       "<pre style=\"white-space:pre;overflow-x:auto;line-height:normal;font-family:Menlo,'DejaVu Sans Mono',consolas,'Courier New',monospace\">┏━━━━━━━━━━━━━━━━━━━━━━━━━━━┳━━━━━━━━━━━━━━━━━━━━━━━━━━━┓\n",
       "┃<span style=\"font-weight: bold\">        Test metric        </span>┃<span style=\"font-weight: bold\">       DataLoader 0        </span>┃\n",
       "┡━━━━━━━━━━━━━━━━━━━━━━━━━━━╇━━━━━━━━━━━━━━━━━━━━━━━━━━━┩\n",
       "│<span style=\"color: #008080; text-decoration-color: #008080\">         test_loss         </span>│<span style=\"color: #800080; text-decoration-color: #800080\">    0.9648781418800354     </span>│\n",
       "└───────────────────────────┴───────────────────────────┘\n",
       "</pre>\n"
      ],
      "text/plain": [
       "┏━━━━━━━━━━━━━━━━━━━━━━━━━━━┳━━━━━━━━━━━━━━━━━━━━━━━━━━━┓\n",
       "┃\u001b[1m \u001b[0m\u001b[1m       Test metric       \u001b[0m\u001b[1m \u001b[0m┃\u001b[1m \u001b[0m\u001b[1m      DataLoader 0       \u001b[0m\u001b[1m \u001b[0m┃\n",
       "┡━━━━━━━━━━━━━━━━━━━━━━━━━━━╇━━━━━━━━━━━━━━━━━━━━━━━━━━━┩\n",
       "│\u001b[36m \u001b[0m\u001b[36m        test_loss        \u001b[0m\u001b[36m \u001b[0m│\u001b[35m \u001b[0m\u001b[35m   0.9648781418800354    \u001b[0m\u001b[35m \u001b[0m│\n",
       "└───────────────────────────┴───────────────────────────┘\n"
      ]
     },
     "metadata": {},
     "output_type": "display_data"
    },
    {
     "name": "stderr",
     "output_type": "stream",
     "text": [
      "GPU available: False, used: False\n",
      "TPU available: False, using: 0 TPU cores\n",
      "IPU available: False, using: 0 IPUs\n",
      "HPU available: False, using: 0 HPUs\n"
     ]
    },
    {
     "name": "stdout",
     "output_type": "stream",
     "text": [
      "{'a_include_BN': False, 'a_include_bias': False, 'activation_type': SELU(), 'b_include_BN': False, 'b_include_bias': False, 'pool_type': MaxPool2d(kernel_size=2, stride=2, padding=0, dilation=1, ceil_mode=False), 'learning_rate': 0.001, 'dropout_range_a': 0.3, 'dropout_range_b': 0.3}\n"
     ]
    },
    {
     "name": "stderr",
     "output_type": "stream",
     "text": [
      "\n",
      "   | Name                 | Type        | Params\n",
      "------------------------------------------------------\n",
      "0  | model                | MyModel     | 7.1 K \n",
      "1  | pre_layers           | Sequential  | 4.6 K \n",
      "2  | cnn1                 | Conv2d      | 16.4 K\n",
      "3  | batch_norm_a         | BatchNorm2d | 128   \n",
      "4  | dropout_1            | Dropout     | 0     \n",
      "5  | funcion_activacion_a | SELU        | 0     \n",
      "6  | cnn2                 | Conv2d      | 65.5 K\n",
      "7  | batch_norm_b         | BatchNorm2d | 128   \n",
      "8  | dropout_2            | Dropout     | 0     \n",
      "9  | pool2                | MaxPool2d   | 0     \n",
      "10 | fc1                  | Linear      | 10.2 K\n",
      "------------------------------------------------------\n",
      "92.4 K    Trainable params\n",
      "7.1 K     Non-trainable params\n",
      "99.6 K    Total params\n",
      "0.398     Total estimated model params size (MB)\n"
     ]
    },
    {
     "data": {
      "application/vnd.jupyter.widget-view+json": {
       "model_id": "a55630f3a797442ca9334ffdea4372b4",
       "version_major": 2,
       "version_minor": 0
      },
      "text/plain": [
       "Sanity Checking: 0it [00:00, ?it/s]"
      ]
     },
     "metadata": {},
     "output_type": "display_data"
    },
    {
     "data": {
      "application/vnd.jupyter.widget-view+json": {
       "model_id": "6b4cf0af6bc24161adcdbf066d8dceec",
       "version_major": 2,
       "version_minor": 0
      },
      "text/plain": [
       "Training: 0it [00:00, ?it/s]"
      ]
     },
     "metadata": {},
     "output_type": "display_data"
    },
    {
     "data": {
      "application/vnd.jupyter.widget-view+json": {
       "model_id": "bf1fa2038f3f43ed8d0f702ea6cd8080",
       "version_major": 2,
       "version_minor": 0
      },
      "text/plain": [
       "Validation: 0it [00:00, ?it/s]"
      ]
     },
     "metadata": {},
     "output_type": "display_data"
    },
    {
     "data": {
      "application/vnd.jupyter.widget-view+json": {
       "model_id": "e5cbc280e8e84bab8ff39a848cd4ac66",
       "version_major": 2,
       "version_minor": 0
      },
      "text/plain": [
       "Validation: 0it [00:00, ?it/s]"
      ]
     },
     "metadata": {},
     "output_type": "display_data"
    },
    {
     "data": {
      "application/vnd.jupyter.widget-view+json": {
       "model_id": "0666b3db3d6548319a461aaf21c33d7e",
       "version_major": 2,
       "version_minor": 0
      },
      "text/plain": [
       "Validation: 0it [00:00, ?it/s]"
      ]
     },
     "metadata": {},
     "output_type": "display_data"
    },
    {
     "data": {
      "application/vnd.jupyter.widget-view+json": {
       "model_id": "c5233dd456814ad886a077e4006971a9",
       "version_major": 2,
       "version_minor": 0
      },
      "text/plain": [
       "Validation: 0it [00:00, ?it/s]"
      ]
     },
     "metadata": {},
     "output_type": "display_data"
    },
    {
     "data": {
      "application/vnd.jupyter.widget-view+json": {
       "model_id": "85eeb55f9f834171b8bba41188e795d7",
       "version_major": 2,
       "version_minor": 0
      },
      "text/plain": [
       "Validation: 0it [00:00, ?it/s]"
      ]
     },
     "metadata": {},
     "output_type": "display_data"
    },
    {
     "name": "stderr",
     "output_type": "stream",
     "text": [
      "`Trainer.fit` stopped: `max_epochs=5` reached.\n",
      "Restoring states from the checkpoint path at c:\\Users\\w10\\Desktop\\BMA\\UPV\\tia\\algoritmos_geneticos\\notebooks\\lightning_logs\\version_405\\checkpoints\\epoch=4-step=150.ckpt\n",
      "Loaded model weights from the checkpoint at c:\\Users\\w10\\Desktop\\BMA\\UPV\\tia\\algoritmos_geneticos\\notebooks\\lightning_logs\\version_405\\checkpoints\\epoch=4-step=150.ckpt\n"
     ]
    },
    {
     "data": {
      "application/vnd.jupyter.widget-view+json": {
       "model_id": "9140d3b02ef640f5ac6b27add118887f",
       "version_major": 2,
       "version_minor": 0
      },
      "text/plain": [
       "Testing: 0it [00:00, ?it/s]"
      ]
     },
     "metadata": {},
     "output_type": "display_data"
    },
    {
     "data": {
      "text/html": [
       "<pre style=\"white-space:pre;overflow-x:auto;line-height:normal;font-family:Menlo,'DejaVu Sans Mono',consolas,'Courier New',monospace\">┏━━━━━━━━━━━━━━━━━━━━━━━━━━━┳━━━━━━━━━━━━━━━━━━━━━━━━━━━┓\n",
       "┃<span style=\"font-weight: bold\">        Test metric        </span>┃<span style=\"font-weight: bold\">       DataLoader 0        </span>┃\n",
       "┡━━━━━━━━━━━━━━━━━━━━━━━━━━━╇━━━━━━━━━━━━━━━━━━━━━━━━━━━┩\n",
       "│<span style=\"color: #008080; text-decoration-color: #008080\">         test_loss         </span>│<span style=\"color: #800080; text-decoration-color: #800080\">     1.501163125038147     </span>│\n",
       "└───────────────────────────┴───────────────────────────┘\n",
       "</pre>\n"
      ],
      "text/plain": [
       "┏━━━━━━━━━━━━━━━━━━━━━━━━━━━┳━━━━━━━━━━━━━━━━━━━━━━━━━━━┓\n",
       "┃\u001b[1m \u001b[0m\u001b[1m       Test metric       \u001b[0m\u001b[1m \u001b[0m┃\u001b[1m \u001b[0m\u001b[1m      DataLoader 0       \u001b[0m\u001b[1m \u001b[0m┃\n",
       "┡━━━━━━━━━━━━━━━━━━━━━━━━━━━╇━━━━━━━━━━━━━━━━━━━━━━━━━━━┩\n",
       "│\u001b[36m \u001b[0m\u001b[36m        test_loss        \u001b[0m\u001b[36m \u001b[0m│\u001b[35m \u001b[0m\u001b[35m    1.501163125038147    \u001b[0m\u001b[35m \u001b[0m│\n",
       "└───────────────────────────┴───────────────────────────┘\n"
      ]
     },
     "metadata": {},
     "output_type": "display_data"
    },
    {
     "name": "stderr",
     "output_type": "stream",
     "text": [
      "GPU available: False, used: False\n",
      "TPU available: False, using: 0 TPU cores\n",
      "IPU available: False, using: 0 IPUs\n",
      "HPU available: False, using: 0 HPUs\n"
     ]
    },
    {
     "name": "stdout",
     "output_type": "stream",
     "text": [
      "{'a_include_BN': False, 'a_include_bias': True, 'activation_type': ReLU(), 'b_include_BN': True, 'b_include_bias': True, 'pool_type': AvgPool2d(kernel_size=2, stride=2, padding=0), 'learning_rate': 0.01, 'dropout_range_a': 0.1, 'dropout_range_b': 0.1}\n"
     ]
    },
    {
     "name": "stderr",
     "output_type": "stream",
     "text": [
      "\n",
      "   | Name                 | Type        | Params\n",
      "------------------------------------------------------\n",
      "0  | model                | MyModel     | 7.1 K \n",
      "1  | pre_layers           | Sequential  | 4.6 K \n",
      "2  | cnn1                 | Conv2d      | 16.4 K\n",
      "3  | batch_norm_a         | BatchNorm2d | 128   \n",
      "4  | dropout_1            | Dropout     | 0     \n",
      "5  | funcion_activacion_a | ReLU        | 0     \n",
      "6  | cnn2                 | Conv2d      | 65.6 K\n",
      "7  | batch_norm_b         | BatchNorm2d | 128   \n",
      "8  | dropout_2            | Dropout     | 0     \n",
      "9  | pool2                | AvgPool2d   | 0     \n",
      "10 | fc1                  | Linear      | 10.2 K\n",
      "------------------------------------------------------\n",
      "92.6 K    Trainable params\n",
      "7.1 K     Non-trainable params\n",
      "99.7 K    Total params\n",
      "0.399     Total estimated model params size (MB)\n"
     ]
    },
    {
     "data": {
      "application/vnd.jupyter.widget-view+json": {
       "model_id": "49a664c6ecd34c0dbe3bd71d27482c8a",
       "version_major": 2,
       "version_minor": 0
      },
      "text/plain": [
       "Sanity Checking: 0it [00:00, ?it/s]"
      ]
     },
     "metadata": {},
     "output_type": "display_data"
    },
    {
     "data": {
      "application/vnd.jupyter.widget-view+json": {
       "model_id": "4eb72e1dc7e84320ba72c5bba3587ed5",
       "version_major": 2,
       "version_minor": 0
      },
      "text/plain": [
       "Training: 0it [00:00, ?it/s]"
      ]
     },
     "metadata": {},
     "output_type": "display_data"
    },
    {
     "data": {
      "application/vnd.jupyter.widget-view+json": {
       "model_id": "54fc2a0badad4b6c91e34df8878162b7",
       "version_major": 2,
       "version_minor": 0
      },
      "text/plain": [
       "Validation: 0it [00:00, ?it/s]"
      ]
     },
     "metadata": {},
     "output_type": "display_data"
    },
    {
     "data": {
      "application/vnd.jupyter.widget-view+json": {
       "model_id": "0766b587ad1a4ace96f6e97fc0bc03b3",
       "version_major": 2,
       "version_minor": 0
      },
      "text/plain": [
       "Validation: 0it [00:00, ?it/s]"
      ]
     },
     "metadata": {},
     "output_type": "display_data"
    },
    {
     "data": {
      "application/vnd.jupyter.widget-view+json": {
       "model_id": "1f0b518df3784a9980c22edb861b7d20",
       "version_major": 2,
       "version_minor": 0
      },
      "text/plain": [
       "Validation: 0it [00:00, ?it/s]"
      ]
     },
     "metadata": {},
     "output_type": "display_data"
    },
    {
     "data": {
      "application/vnd.jupyter.widget-view+json": {
       "model_id": "f72ad03e32ed4a009dfbcbd31236ace8",
       "version_major": 2,
       "version_minor": 0
      },
      "text/plain": [
       "Validation: 0it [00:00, ?it/s]"
      ]
     },
     "metadata": {},
     "output_type": "display_data"
    },
    {
     "data": {
      "application/vnd.jupyter.widget-view+json": {
       "model_id": "7cde2d992ddd46bcaad8fe9cc537ae09",
       "version_major": 2,
       "version_minor": 0
      },
      "text/plain": [
       "Validation: 0it [00:00, ?it/s]"
      ]
     },
     "metadata": {},
     "output_type": "display_data"
    },
    {
     "name": "stderr",
     "output_type": "stream",
     "text": [
      "`Trainer.fit` stopped: `max_epochs=5` reached.\n",
      "Restoring states from the checkpoint path at c:\\Users\\w10\\Desktop\\BMA\\UPV\\tia\\algoritmos_geneticos\\notebooks\\lightning_logs\\version_406\\checkpoints\\epoch=4-step=150.ckpt\n",
      "Loaded model weights from the checkpoint at c:\\Users\\w10\\Desktop\\BMA\\UPV\\tia\\algoritmos_geneticos\\notebooks\\lightning_logs\\version_406\\checkpoints\\epoch=4-step=150.ckpt\n"
     ]
    },
    {
     "data": {
      "application/vnd.jupyter.widget-view+json": {
       "model_id": "94a3d5f920834ca999aaf6272c6edaba",
       "version_major": 2,
       "version_minor": 0
      },
      "text/plain": [
       "Testing: 0it [00:00, ?it/s]"
      ]
     },
     "metadata": {},
     "output_type": "display_data"
    },
    {
     "data": {
      "text/html": [
       "<pre style=\"white-space:pre;overflow-x:auto;line-height:normal;font-family:Menlo,'DejaVu Sans Mono',consolas,'Courier New',monospace\">┏━━━━━━━━━━━━━━━━━━━━━━━━━━━┳━━━━━━━━━━━━━━━━━━━━━━━━━━━┓\n",
       "┃<span style=\"font-weight: bold\">        Test metric        </span>┃<span style=\"font-weight: bold\">       DataLoader 0        </span>┃\n",
       "┡━━━━━━━━━━━━━━━━━━━━━━━━━━━╇━━━━━━━━━━━━━━━━━━━━━━━━━━━┩\n",
       "│<span style=\"color: #008080; text-decoration-color: #008080\">         test_loss         </span>│<span style=\"color: #800080; text-decoration-color: #800080\">     0.703744113445282     </span>│\n",
       "└───────────────────────────┴───────────────────────────┘\n",
       "</pre>\n"
      ],
      "text/plain": [
       "┏━━━━━━━━━━━━━━━━━━━━━━━━━━━┳━━━━━━━━━━━━━━━━━━━━━━━━━━━┓\n",
       "┃\u001b[1m \u001b[0m\u001b[1m       Test metric       \u001b[0m\u001b[1m \u001b[0m┃\u001b[1m \u001b[0m\u001b[1m      DataLoader 0       \u001b[0m\u001b[1m \u001b[0m┃\n",
       "┡━━━━━━━━━━━━━━━━━━━━━━━━━━━╇━━━━━━━━━━━━━━━━━━━━━━━━━━━┩\n",
       "│\u001b[36m \u001b[0m\u001b[36m        test_loss        \u001b[0m\u001b[36m \u001b[0m│\u001b[35m \u001b[0m\u001b[35m    0.703744113445282    \u001b[0m\u001b[35m \u001b[0m│\n",
       "└───────────────────────────┴───────────────────────────┘\n"
      ]
     },
     "metadata": {},
     "output_type": "display_data"
    },
    {
     "name": "stderr",
     "output_type": "stream",
     "text": [
      "GPU available: False, used: False\n",
      "TPU available: False, using: 0 TPU cores\n",
      "IPU available: False, using: 0 IPUs\n",
      "HPU available: False, using: 0 HPUs\n"
     ]
    },
    {
     "name": "stdout",
     "output_type": "stream",
     "text": [
      "{'a_include_BN': False, 'a_include_bias': False, 'activation_type': LeakyReLU(negative_slope=0.01), 'b_include_BN': False, 'b_include_bias': True, 'pool_type': AvgPool2d(kernel_size=2, stride=2, padding=0), 'learning_rate': 0.01, 'dropout_range_a': 0.1, 'dropout_range_b': 0.1}\n"
     ]
    },
    {
     "name": "stderr",
     "output_type": "stream",
     "text": [
      "\n",
      "   | Name                 | Type        | Params\n",
      "------------------------------------------------------\n",
      "0  | model                | MyModel     | 7.1 K \n",
      "1  | pre_layers           | Sequential  | 4.6 K \n",
      "2  | cnn1                 | Conv2d      | 16.4 K\n",
      "3  | batch_norm_a         | BatchNorm2d | 128   \n",
      "4  | dropout_1            | Dropout     | 0     \n",
      "5  | funcion_activacion_a | LeakyReLU   | 0     \n",
      "6  | cnn2                 | Conv2d      | 65.6 K\n",
      "7  | batch_norm_b         | BatchNorm2d | 128   \n",
      "8  | dropout_2            | Dropout     | 0     \n",
      "9  | pool2                | AvgPool2d   | 0     \n",
      "10 | fc1                  | Linear      | 10.2 K\n",
      "------------------------------------------------------\n",
      "92.5 K    Trainable params\n",
      "7.1 K     Non-trainable params\n",
      "99.6 K    Total params\n",
      "0.399     Total estimated model params size (MB)\n"
     ]
    },
    {
     "data": {
      "application/vnd.jupyter.widget-view+json": {
       "model_id": "ca383d3b99de4f0bb63d56734145b62f",
       "version_major": 2,
       "version_minor": 0
      },
      "text/plain": [
       "Sanity Checking: 0it [00:00, ?it/s]"
      ]
     },
     "metadata": {},
     "output_type": "display_data"
    },
    {
     "data": {
      "application/vnd.jupyter.widget-view+json": {
       "model_id": "000df5cc227d4d509bd0f1b01d008c47",
       "version_major": 2,
       "version_minor": 0
      },
      "text/plain": [
       "Training: 0it [00:00, ?it/s]"
      ]
     },
     "metadata": {},
     "output_type": "display_data"
    },
    {
     "data": {
      "application/vnd.jupyter.widget-view+json": {
       "model_id": "82685f8c83c2420394241fb051da82a7",
       "version_major": 2,
       "version_minor": 0
      },
      "text/plain": [
       "Validation: 0it [00:00, ?it/s]"
      ]
     },
     "metadata": {},
     "output_type": "display_data"
    },
    {
     "data": {
      "application/vnd.jupyter.widget-view+json": {
       "model_id": "2169814eac55429b985dffcd0331741c",
       "version_major": 2,
       "version_minor": 0
      },
      "text/plain": [
       "Validation: 0it [00:00, ?it/s]"
      ]
     },
     "metadata": {},
     "output_type": "display_data"
    },
    {
     "data": {
      "application/vnd.jupyter.widget-view+json": {
       "model_id": "35203b77cdb743aaa85080039e592758",
       "version_major": 2,
       "version_minor": 0
      },
      "text/plain": [
       "Validation: 0it [00:00, ?it/s]"
      ]
     },
     "metadata": {},
     "output_type": "display_data"
    },
    {
     "data": {
      "application/vnd.jupyter.widget-view+json": {
       "model_id": "5f378d89276d49149662515e4a8053d7",
       "version_major": 2,
       "version_minor": 0
      },
      "text/plain": [
       "Validation: 0it [00:00, ?it/s]"
      ]
     },
     "metadata": {},
     "output_type": "display_data"
    },
    {
     "data": {
      "application/vnd.jupyter.widget-view+json": {
       "model_id": "bbc8c7b2880742ea957d512e3d0ade3b",
       "version_major": 2,
       "version_minor": 0
      },
      "text/plain": [
       "Validation: 0it [00:00, ?it/s]"
      ]
     },
     "metadata": {},
     "output_type": "display_data"
    },
    {
     "name": "stderr",
     "output_type": "stream",
     "text": [
      "`Trainer.fit` stopped: `max_epochs=5` reached.\n",
      "Restoring states from the checkpoint path at c:\\Users\\w10\\Desktop\\BMA\\UPV\\tia\\algoritmos_geneticos\\notebooks\\lightning_logs\\version_407\\checkpoints\\epoch=4-step=150.ckpt\n",
      "Loaded model weights from the checkpoint at c:\\Users\\w10\\Desktop\\BMA\\UPV\\tia\\algoritmos_geneticos\\notebooks\\lightning_logs\\version_407\\checkpoints\\epoch=4-step=150.ckpt\n"
     ]
    },
    {
     "data": {
      "application/vnd.jupyter.widget-view+json": {
       "model_id": "0d38d46d5bfc442ea8a44dc2a912194b",
       "version_major": 2,
       "version_minor": 0
      },
      "text/plain": [
       "Testing: 0it [00:00, ?it/s]"
      ]
     },
     "metadata": {},
     "output_type": "display_data"
    },
    {
     "data": {
      "text/html": [
       "<pre style=\"white-space:pre;overflow-x:auto;line-height:normal;font-family:Menlo,'DejaVu Sans Mono',consolas,'Courier New',monospace\">┏━━━━━━━━━━━━━━━━━━━━━━━━━━━┳━━━━━━━━━━━━━━━━━━━━━━━━━━━┓\n",
       "┃<span style=\"font-weight: bold\">        Test metric        </span>┃<span style=\"font-weight: bold\">       DataLoader 0        </span>┃\n",
       "┡━━━━━━━━━━━━━━━━━━━━━━━━━━━╇━━━━━━━━━━━━━━━━━━━━━━━━━━━┩\n",
       "│<span style=\"color: #008080; text-decoration-color: #008080\">         test_loss         </span>│<span style=\"color: #800080; text-decoration-color: #800080\">    0.9876194000244141     </span>│\n",
       "└───────────────────────────┴───────────────────────────┘\n",
       "</pre>\n"
      ],
      "text/plain": [
       "┏━━━━━━━━━━━━━━━━━━━━━━━━━━━┳━━━━━━━━━━━━━━━━━━━━━━━━━━━┓\n",
       "┃\u001b[1m \u001b[0m\u001b[1m       Test metric       \u001b[0m\u001b[1m \u001b[0m┃\u001b[1m \u001b[0m\u001b[1m      DataLoader 0       \u001b[0m\u001b[1m \u001b[0m┃\n",
       "┡━━━━━━━━━━━━━━━━━━━━━━━━━━━╇━━━━━━━━━━━━━━━━━━━━━━━━━━━┩\n",
       "│\u001b[36m \u001b[0m\u001b[36m        test_loss        \u001b[0m\u001b[36m \u001b[0m│\u001b[35m \u001b[0m\u001b[35m   0.9876194000244141    \u001b[0m\u001b[35m \u001b[0m│\n",
       "└───────────────────────────┴───────────────────────────┘\n"
      ]
     },
     "metadata": {},
     "output_type": "display_data"
    },
    {
     "name": "stderr",
     "output_type": "stream",
     "text": [
      "GPU available: False, used: False\n",
      "TPU available: False, using: 0 TPU cores\n",
      "IPU available: False, using: 0 IPUs\n",
      "HPU available: False, using: 0 HPUs\n"
     ]
    },
    {
     "name": "stdout",
     "output_type": "stream",
     "text": [
      "0.703744113445282\n",
      "3\n",
      "3\n",
      "3\n",
      "{'a_include_BN': False, 'a_include_bias': True, 'activation_type': ReLU(), 'b_include_BN': True, 'b_include_bias': True, 'pool_type': AvgPool2d(kernel_size=2, stride=2, padding=0), 'learning_rate': 0.01, 'dropout_range_a': 0.1, 'dropout_range_b': 0.1}\n"
     ]
    },
    {
     "name": "stderr",
     "output_type": "stream",
     "text": [
      "\n",
      "   | Name                 | Type        | Params\n",
      "------------------------------------------------------\n",
      "0  | model                | MyModel     | 7.1 K \n",
      "1  | pre_layers           | Sequential  | 4.6 K \n",
      "2  | cnn1                 | Conv2d      | 16.4 K\n",
      "3  | batch_norm_a         | BatchNorm2d | 128   \n",
      "4  | dropout_1            | Dropout     | 0     \n",
      "5  | funcion_activacion_a | ReLU        | 0     \n",
      "6  | cnn2                 | Conv2d      | 65.6 K\n",
      "7  | batch_norm_b         | BatchNorm2d | 128   \n",
      "8  | dropout_2            | Dropout     | 0     \n",
      "9  | pool2                | AvgPool2d   | 0     \n",
      "10 | fc1                  | Linear      | 10.2 K\n",
      "------------------------------------------------------\n",
      "92.6 K    Trainable params\n",
      "7.1 K     Non-trainable params\n",
      "99.7 K    Total params\n",
      "0.399     Total estimated model params size (MB)\n"
     ]
    },
    {
     "data": {
      "application/vnd.jupyter.widget-view+json": {
       "model_id": "a88804411799452b8bb1e03a2027001e",
       "version_major": 2,
       "version_minor": 0
      },
      "text/plain": [
       "Sanity Checking: 0it [00:00, ?it/s]"
      ]
     },
     "metadata": {},
     "output_type": "display_data"
    },
    {
     "data": {
      "application/vnd.jupyter.widget-view+json": {
       "model_id": "380d5a78638748ebbb189687f654d4be",
       "version_major": 2,
       "version_minor": 0
      },
      "text/plain": [
       "Training: 0it [00:00, ?it/s]"
      ]
     },
     "metadata": {},
     "output_type": "display_data"
    },
    {
     "data": {
      "application/vnd.jupyter.widget-view+json": {
       "model_id": "9931842888cd4a718afb3ff83b3fb306",
       "version_major": 2,
       "version_minor": 0
      },
      "text/plain": [
       "Validation: 0it [00:00, ?it/s]"
      ]
     },
     "metadata": {},
     "output_type": "display_data"
    },
    {
     "data": {
      "application/vnd.jupyter.widget-view+json": {
       "model_id": "3b67a4a81e1140a2bab14758c4bb02da",
       "version_major": 2,
       "version_minor": 0
      },
      "text/plain": [
       "Validation: 0it [00:00, ?it/s]"
      ]
     },
     "metadata": {},
     "output_type": "display_data"
    },
    {
     "data": {
      "application/vnd.jupyter.widget-view+json": {
       "model_id": "1b0af9ed41ee4e3bb2d82453aaa3b7a7",
       "version_major": 2,
       "version_minor": 0
      },
      "text/plain": [
       "Validation: 0it [00:00, ?it/s]"
      ]
     },
     "metadata": {},
     "output_type": "display_data"
    },
    {
     "data": {
      "application/vnd.jupyter.widget-view+json": {
       "model_id": "925ca2b520b843969789d8afc1c8bdc8",
       "version_major": 2,
       "version_minor": 0
      },
      "text/plain": [
       "Validation: 0it [00:00, ?it/s]"
      ]
     },
     "metadata": {},
     "output_type": "display_data"
    },
    {
     "data": {
      "application/vnd.jupyter.widget-view+json": {
       "model_id": "c782fd6f2d8a427892ee1a6e8cfc4a78",
       "version_major": 2,
       "version_minor": 0
      },
      "text/plain": [
       "Validation: 0it [00:00, ?it/s]"
      ]
     },
     "metadata": {},
     "output_type": "display_data"
    },
    {
     "name": "stderr",
     "output_type": "stream",
     "text": [
      "`Trainer.fit` stopped: `max_epochs=5` reached.\n",
      "Restoring states from the checkpoint path at c:\\Users\\w10\\Desktop\\BMA\\UPV\\tia\\algoritmos_geneticos\\notebooks\\lightning_logs\\version_408\\checkpoints\\epoch=4-step=150.ckpt\n",
      "Loaded model weights from the checkpoint at c:\\Users\\w10\\Desktop\\BMA\\UPV\\tia\\algoritmos_geneticos\\notebooks\\lightning_logs\\version_408\\checkpoints\\epoch=4-step=150.ckpt\n"
     ]
    },
    {
     "data": {
      "application/vnd.jupyter.widget-view+json": {
       "model_id": "772375f2cc4145f58c08f0c4568359aa",
       "version_major": 2,
       "version_minor": 0
      },
      "text/plain": [
       "Testing: 0it [00:00, ?it/s]"
      ]
     },
     "metadata": {},
     "output_type": "display_data"
    },
    {
     "data": {
      "text/html": [
       "<pre style=\"white-space:pre;overflow-x:auto;line-height:normal;font-family:Menlo,'DejaVu Sans Mono',consolas,'Courier New',monospace\">┏━━━━━━━━━━━━━━━━━━━━━━━━━━━┳━━━━━━━━━━━━━━━━━━━━━━━━━━━┓\n",
       "┃<span style=\"font-weight: bold\">        Test metric        </span>┃<span style=\"font-weight: bold\">       DataLoader 0        </span>┃\n",
       "┡━━━━━━━━━━━━━━━━━━━━━━━━━━━╇━━━━━━━━━━━━━━━━━━━━━━━━━━━┩\n",
       "│<span style=\"color: #008080; text-decoration-color: #008080\">         test_loss         </span>│<span style=\"color: #800080; text-decoration-color: #800080\">    0.7104518413543701     </span>│\n",
       "└───────────────────────────┴───────────────────────────┘\n",
       "</pre>\n"
      ],
      "text/plain": [
       "┏━━━━━━━━━━━━━━━━━━━━━━━━━━━┳━━━━━━━━━━━━━━━━━━━━━━━━━━━┓\n",
       "┃\u001b[1m \u001b[0m\u001b[1m       Test metric       \u001b[0m\u001b[1m \u001b[0m┃\u001b[1m \u001b[0m\u001b[1m      DataLoader 0       \u001b[0m\u001b[1m \u001b[0m┃\n",
       "┡━━━━━━━━━━━━━━━━━━━━━━━━━━━╇━━━━━━━━━━━━━━━━━━━━━━━━━━━┩\n",
       "│\u001b[36m \u001b[0m\u001b[36m        test_loss        \u001b[0m\u001b[36m \u001b[0m│\u001b[35m \u001b[0m\u001b[35m   0.7104518413543701    \u001b[0m\u001b[35m \u001b[0m│\n",
       "└───────────────────────────┴───────────────────────────┘\n"
      ]
     },
     "metadata": {},
     "output_type": "display_data"
    },
    {
     "name": "stderr",
     "output_type": "stream",
     "text": [
      "GPU available: False, used: False\n",
      "TPU available: False, using: 0 TPU cores\n",
      "IPU available: False, using: 0 IPUs\n",
      "HPU available: False, using: 0 HPUs\n"
     ]
    },
    {
     "name": "stdout",
     "output_type": "stream",
     "text": [
      "{'a_include_BN': False, 'a_include_bias': True, 'activation_type': ReLU(), 'b_include_BN': True, 'b_include_bias': True, 'pool_type': MaxPool2d(kernel_size=2, stride=2, padding=0, dilation=1, ceil_mode=False), 'learning_rate': 0.1, 'dropout_range_a': 0.2, 'dropout_range_b': 0.3}\n"
     ]
    },
    {
     "name": "stderr",
     "output_type": "stream",
     "text": [
      "\n",
      "   | Name                 | Type        | Params\n",
      "------------------------------------------------------\n",
      "0  | model                | MyModel     | 7.1 K \n",
      "1  | pre_layers           | Sequential  | 4.6 K \n",
      "2  | cnn1                 | Conv2d      | 16.4 K\n",
      "3  | batch_norm_a         | BatchNorm2d | 128   \n",
      "4  | dropout_1            | Dropout     | 0     \n",
      "5  | funcion_activacion_a | ReLU        | 0     \n",
      "6  | cnn2                 | Conv2d      | 65.6 K\n",
      "7  | batch_norm_b         | BatchNorm2d | 128   \n",
      "8  | dropout_2            | Dropout     | 0     \n",
      "9  | pool2                | MaxPool2d   | 0     \n",
      "10 | fc1                  | Linear      | 10.2 K\n",
      "------------------------------------------------------\n",
      "92.6 K    Trainable params\n",
      "7.1 K     Non-trainable params\n",
      "99.7 K    Total params\n",
      "0.399     Total estimated model params size (MB)\n"
     ]
    },
    {
     "data": {
      "application/vnd.jupyter.widget-view+json": {
       "model_id": "284f02919de64142ab7f717dcc1d4ef3",
       "version_major": 2,
       "version_minor": 0
      },
      "text/plain": [
       "Sanity Checking: 0it [00:00, ?it/s]"
      ]
     },
     "metadata": {},
     "output_type": "display_data"
    },
    {
     "data": {
      "application/vnd.jupyter.widget-view+json": {
       "model_id": "75f64cdb90fc4e80848abaa71188c8fc",
       "version_major": 2,
       "version_minor": 0
      },
      "text/plain": [
       "Training: 0it [00:00, ?it/s]"
      ]
     },
     "metadata": {},
     "output_type": "display_data"
    },
    {
     "data": {
      "application/vnd.jupyter.widget-view+json": {
       "model_id": "8761a1a431d34f048f5d3dcf33325d8e",
       "version_major": 2,
       "version_minor": 0
      },
      "text/plain": [
       "Validation: 0it [00:00, ?it/s]"
      ]
     },
     "metadata": {},
     "output_type": "display_data"
    },
    {
     "data": {
      "application/vnd.jupyter.widget-view+json": {
       "model_id": "aa362ffd3b14465980231e8f37cf5718",
       "version_major": 2,
       "version_minor": 0
      },
      "text/plain": [
       "Validation: 0it [00:00, ?it/s]"
      ]
     },
     "metadata": {},
     "output_type": "display_data"
    },
    {
     "data": {
      "application/vnd.jupyter.widget-view+json": {
       "model_id": "1d7614a0c2484bd8981974b5c85f051b",
       "version_major": 2,
       "version_minor": 0
      },
      "text/plain": [
       "Validation: 0it [00:00, ?it/s]"
      ]
     },
     "metadata": {},
     "output_type": "display_data"
    },
    {
     "data": {
      "application/vnd.jupyter.widget-view+json": {
       "model_id": "e7ff926baa1c44ff922420a816db4ca1",
       "version_major": 2,
       "version_minor": 0
      },
      "text/plain": [
       "Validation: 0it [00:00, ?it/s]"
      ]
     },
     "metadata": {},
     "output_type": "display_data"
    },
    {
     "data": {
      "application/vnd.jupyter.widget-view+json": {
       "model_id": "d6b7a69df7ac4c318a067f51e5735ffa",
       "version_major": 2,
       "version_minor": 0
      },
      "text/plain": [
       "Validation: 0it [00:00, ?it/s]"
      ]
     },
     "metadata": {},
     "output_type": "display_data"
    },
    {
     "name": "stderr",
     "output_type": "stream",
     "text": [
      "`Trainer.fit` stopped: `max_epochs=5` reached.\n",
      "Restoring states from the checkpoint path at c:\\Users\\w10\\Desktop\\BMA\\UPV\\tia\\algoritmos_geneticos\\notebooks\\lightning_logs\\version_409\\checkpoints\\epoch=4-step=150.ckpt\n",
      "Loaded model weights from the checkpoint at c:\\Users\\w10\\Desktop\\BMA\\UPV\\tia\\algoritmos_geneticos\\notebooks\\lightning_logs\\version_409\\checkpoints\\epoch=4-step=150.ckpt\n"
     ]
    },
    {
     "data": {
      "application/vnd.jupyter.widget-view+json": {
       "model_id": "0e0b80410ae640348f3712905f30ca9b",
       "version_major": 2,
       "version_minor": 0
      },
      "text/plain": [
       "Testing: 0it [00:00, ?it/s]"
      ]
     },
     "metadata": {},
     "output_type": "display_data"
    },
    {
     "data": {
      "text/html": [
       "<pre style=\"white-space:pre;overflow-x:auto;line-height:normal;font-family:Menlo,'DejaVu Sans Mono',consolas,'Courier New',monospace\">┏━━━━━━━━━━━━━━━━━━━━━━━━━━━┳━━━━━━━━━━━━━━━━━━━━━━━━━━━┓\n",
       "┃<span style=\"font-weight: bold\">        Test metric        </span>┃<span style=\"font-weight: bold\">       DataLoader 0        </span>┃\n",
       "┡━━━━━━━━━━━━━━━━━━━━━━━━━━━╇━━━━━━━━━━━━━━━━━━━━━━━━━━━┩\n",
       "│<span style=\"color: #008080; text-decoration-color: #008080\">         test_loss         </span>│<span style=\"color: #800080; text-decoration-color: #800080\">    0.7026777863502502     </span>│\n",
       "└───────────────────────────┴───────────────────────────┘\n",
       "</pre>\n"
      ],
      "text/plain": [
       "┏━━━━━━━━━━━━━━━━━━━━━━━━━━━┳━━━━━━━━━━━━━━━━━━━━━━━━━━━┓\n",
       "┃\u001b[1m \u001b[0m\u001b[1m       Test metric       \u001b[0m\u001b[1m \u001b[0m┃\u001b[1m \u001b[0m\u001b[1m      DataLoader 0       \u001b[0m\u001b[1m \u001b[0m┃\n",
       "┡━━━━━━━━━━━━━━━━━━━━━━━━━━━╇━━━━━━━━━━━━━━━━━━━━━━━━━━━┩\n",
       "│\u001b[36m \u001b[0m\u001b[36m        test_loss        \u001b[0m\u001b[36m \u001b[0m│\u001b[35m \u001b[0m\u001b[35m   0.7026777863502502    \u001b[0m\u001b[35m \u001b[0m│\n",
       "└───────────────────────────┴───────────────────────────┘\n"
      ]
     },
     "metadata": {},
     "output_type": "display_data"
    },
    {
     "name": "stderr",
     "output_type": "stream",
     "text": [
      "GPU available: False, used: False\n",
      "TPU available: False, using: 0 TPU cores\n",
      "IPU available: False, using: 0 IPUs\n",
      "HPU available: False, using: 0 HPUs\n"
     ]
    },
    {
     "name": "stdout",
     "output_type": "stream",
     "text": [
      "{'a_include_BN': False, 'a_include_bias': False, 'activation_type': ELU(alpha=1.0), 'b_include_BN': True, 'b_include_bias': False, 'pool_type': MaxPool2d(kernel_size=2, stride=2, padding=0, dilation=1, ceil_mode=False), 'learning_rate': 0.001, 'dropout_range_a': 0, 'dropout_range_b': 0.1}\n"
     ]
    },
    {
     "name": "stderr",
     "output_type": "stream",
     "text": [
      "\n",
      "   | Name                 | Type        | Params\n",
      "------------------------------------------------------\n",
      "0  | model                | MyModel     | 7.1 K \n",
      "1  | pre_layers           | Sequential  | 4.6 K \n",
      "2  | cnn1                 | Conv2d      | 16.4 K\n",
      "3  | batch_norm_a         | BatchNorm2d | 128   \n",
      "4  | dropout_1            | Dropout     | 0     \n",
      "5  | funcion_activacion_a | ELU         | 0     \n",
      "6  | cnn2                 | Conv2d      | 65.5 K\n",
      "7  | batch_norm_b         | BatchNorm2d | 128   \n",
      "8  | dropout_2            | Dropout     | 0     \n",
      "9  | pool2                | MaxPool2d   | 0     \n",
      "10 | fc1                  | Linear      | 10.2 K\n",
      "------------------------------------------------------\n",
      "92.4 K    Trainable params\n",
      "7.1 K     Non-trainable params\n",
      "99.6 K    Total params\n",
      "0.398     Total estimated model params size (MB)\n"
     ]
    },
    {
     "data": {
      "application/vnd.jupyter.widget-view+json": {
       "model_id": "855fc0494cf84db7be588f6e4fd73d5e",
       "version_major": 2,
       "version_minor": 0
      },
      "text/plain": [
       "Sanity Checking: 0it [00:00, ?it/s]"
      ]
     },
     "metadata": {},
     "output_type": "display_data"
    },
    {
     "data": {
      "application/vnd.jupyter.widget-view+json": {
       "model_id": "2ff580a371654989b3166d1838c710bf",
       "version_major": 2,
       "version_minor": 0
      },
      "text/plain": [
       "Training: 0it [00:00, ?it/s]"
      ]
     },
     "metadata": {},
     "output_type": "display_data"
    },
    {
     "data": {
      "application/vnd.jupyter.widget-view+json": {
       "model_id": "210b176b8f904c07acfc6a6aa7905242",
       "version_major": 2,
       "version_minor": 0
      },
      "text/plain": [
       "Validation: 0it [00:00, ?it/s]"
      ]
     },
     "metadata": {},
     "output_type": "display_data"
    },
    {
     "data": {
      "application/vnd.jupyter.widget-view+json": {
       "model_id": "e1c677e39f3347fa86687d8b1863ba3f",
       "version_major": 2,
       "version_minor": 0
      },
      "text/plain": [
       "Validation: 0it [00:00, ?it/s]"
      ]
     },
     "metadata": {},
     "output_type": "display_data"
    },
    {
     "data": {
      "application/vnd.jupyter.widget-view+json": {
       "model_id": "186aefdd4da74e609878c4db9be7ddc8",
       "version_major": 2,
       "version_minor": 0
      },
      "text/plain": [
       "Validation: 0it [00:00, ?it/s]"
      ]
     },
     "metadata": {},
     "output_type": "display_data"
    },
    {
     "data": {
      "application/vnd.jupyter.widget-view+json": {
       "model_id": "ee0eb68017de45aebd59ef2febdbaa76",
       "version_major": 2,
       "version_minor": 0
      },
      "text/plain": [
       "Validation: 0it [00:00, ?it/s]"
      ]
     },
     "metadata": {},
     "output_type": "display_data"
    },
    {
     "data": {
      "application/vnd.jupyter.widget-view+json": {
       "model_id": "a60260af7d0c4a32b4b8c07aaff193b2",
       "version_major": 2,
       "version_minor": 0
      },
      "text/plain": [
       "Validation: 0it [00:00, ?it/s]"
      ]
     },
     "metadata": {},
     "output_type": "display_data"
    },
    {
     "name": "stderr",
     "output_type": "stream",
     "text": [
      "`Trainer.fit` stopped: `max_epochs=5` reached.\n",
      "Restoring states from the checkpoint path at c:\\Users\\w10\\Desktop\\BMA\\UPV\\tia\\algoritmos_geneticos\\notebooks\\lightning_logs\\version_410\\checkpoints\\epoch=4-step=150.ckpt\n",
      "Loaded model weights from the checkpoint at c:\\Users\\w10\\Desktop\\BMA\\UPV\\tia\\algoritmos_geneticos\\notebooks\\lightning_logs\\version_410\\checkpoints\\epoch=4-step=150.ckpt\n"
     ]
    },
    {
     "data": {
      "application/vnd.jupyter.widget-view+json": {
       "model_id": "9ed1baaf4f8a4d548325e0d2851041e0",
       "version_major": 2,
       "version_minor": 0
      },
      "text/plain": [
       "Testing: 0it [00:00, ?it/s]"
      ]
     },
     "metadata": {},
     "output_type": "display_data"
    },
    {
     "data": {
      "text/html": [
       "<pre style=\"white-space:pre;overflow-x:auto;line-height:normal;font-family:Menlo,'DejaVu Sans Mono',consolas,'Courier New',monospace\">┏━━━━━━━━━━━━━━━━━━━━━━━━━━━┳━━━━━━━━━━━━━━━━━━━━━━━━━━━┓\n",
       "┃<span style=\"font-weight: bold\">        Test metric        </span>┃<span style=\"font-weight: bold\">       DataLoader 0        </span>┃\n",
       "┡━━━━━━━━━━━━━━━━━━━━━━━━━━━╇━━━━━━━━━━━━━━━━━━━━━━━━━━━┩\n",
       "│<span style=\"color: #008080; text-decoration-color: #008080\">         test_loss         </span>│<span style=\"color: #800080; text-decoration-color: #800080\">    0.8864649534225464     </span>│\n",
       "└───────────────────────────┴───────────────────────────┘\n",
       "</pre>\n"
      ],
      "text/plain": [
       "┏━━━━━━━━━━━━━━━━━━━━━━━━━━━┳━━━━━━━━━━━━━━━━━━━━━━━━━━━┓\n",
       "┃\u001b[1m \u001b[0m\u001b[1m       Test metric       \u001b[0m\u001b[1m \u001b[0m┃\u001b[1m \u001b[0m\u001b[1m      DataLoader 0       \u001b[0m\u001b[1m \u001b[0m┃\n",
       "┡━━━━━━━━━━━━━━━━━━━━━━━━━━━╇━━━━━━━━━━━━━━━━━━━━━━━━━━━┩\n",
       "│\u001b[36m \u001b[0m\u001b[36m        test_loss        \u001b[0m\u001b[36m \u001b[0m│\u001b[35m \u001b[0m\u001b[35m   0.8864649534225464    \u001b[0m\u001b[35m \u001b[0m│\n",
       "└───────────────────────────┴───────────────────────────┘\n"
      ]
     },
     "metadata": {},
     "output_type": "display_data"
    },
    {
     "name": "stderr",
     "output_type": "stream",
     "text": [
      "GPU available: False, used: False\n",
      "TPU available: False, using: 0 TPU cores\n",
      "IPU available: False, using: 0 IPUs\n",
      "HPU available: False, using: 0 HPUs\n"
     ]
    },
    {
     "name": "stdout",
     "output_type": "stream",
     "text": [
      "{'a_include_BN': False, 'a_include_bias': True, 'activation_type': ReLU(), 'b_include_BN': True, 'b_include_bias': True, 'pool_type': MaxPool2d(kernel_size=2, stride=2, padding=0, dilation=1, ceil_mode=False), 'learning_rate': 0.1, 'dropout_range_a': 0.2, 'dropout_range_b': 0.3}\n"
     ]
    },
    {
     "name": "stderr",
     "output_type": "stream",
     "text": [
      "\n",
      "   | Name                 | Type        | Params\n",
      "------------------------------------------------------\n",
      "0  | model                | MyModel     | 7.1 K \n",
      "1  | pre_layers           | Sequential  | 4.6 K \n",
      "2  | cnn1                 | Conv2d      | 16.4 K\n",
      "3  | batch_norm_a         | BatchNorm2d | 128   \n",
      "4  | dropout_1            | Dropout     | 0     \n",
      "5  | funcion_activacion_a | ReLU        | 0     \n",
      "6  | cnn2                 | Conv2d      | 65.6 K\n",
      "7  | batch_norm_b         | BatchNorm2d | 128   \n",
      "8  | dropout_2            | Dropout     | 0     \n",
      "9  | pool2                | MaxPool2d   | 0     \n",
      "10 | fc1                  | Linear      | 10.2 K\n",
      "------------------------------------------------------\n",
      "92.6 K    Trainable params\n",
      "7.1 K     Non-trainable params\n",
      "99.7 K    Total params\n",
      "0.399     Total estimated model params size (MB)\n"
     ]
    },
    {
     "data": {
      "application/vnd.jupyter.widget-view+json": {
       "model_id": "273a983c9cec4810b135bf2bde86ae7a",
       "version_major": 2,
       "version_minor": 0
      },
      "text/plain": [
       "Sanity Checking: 0it [00:00, ?it/s]"
      ]
     },
     "metadata": {},
     "output_type": "display_data"
    },
    {
     "data": {
      "application/vnd.jupyter.widget-view+json": {
       "model_id": "6f7229d22a3e4c7eb61fcd68e3f12e47",
       "version_major": 2,
       "version_minor": 0
      },
      "text/plain": [
       "Training: 0it [00:00, ?it/s]"
      ]
     },
     "metadata": {},
     "output_type": "display_data"
    },
    {
     "data": {
      "application/vnd.jupyter.widget-view+json": {
       "model_id": "c59c9f9595b340fc922eca98fc3175ea",
       "version_major": 2,
       "version_minor": 0
      },
      "text/plain": [
       "Validation: 0it [00:00, ?it/s]"
      ]
     },
     "metadata": {},
     "output_type": "display_data"
    },
    {
     "data": {
      "application/vnd.jupyter.widget-view+json": {
       "model_id": "75738164f95347ae878fee585f65fd30",
       "version_major": 2,
       "version_minor": 0
      },
      "text/plain": [
       "Validation: 0it [00:00, ?it/s]"
      ]
     },
     "metadata": {},
     "output_type": "display_data"
    },
    {
     "data": {
      "application/vnd.jupyter.widget-view+json": {
       "model_id": "e6096a1b939a41fba3a6576055f46522",
       "version_major": 2,
       "version_minor": 0
      },
      "text/plain": [
       "Validation: 0it [00:00, ?it/s]"
      ]
     },
     "metadata": {},
     "output_type": "display_data"
    },
    {
     "data": {
      "application/vnd.jupyter.widget-view+json": {
       "model_id": "80a54cb950e8415fa34e1e09cae2326e",
       "version_major": 2,
       "version_minor": 0
      },
      "text/plain": [
       "Validation: 0it [00:00, ?it/s]"
      ]
     },
     "metadata": {},
     "output_type": "display_data"
    },
    {
     "data": {
      "application/vnd.jupyter.widget-view+json": {
       "model_id": "352d0b573180473cad14feb47a951a65",
       "version_major": 2,
       "version_minor": 0
      },
      "text/plain": [
       "Validation: 0it [00:00, ?it/s]"
      ]
     },
     "metadata": {},
     "output_type": "display_data"
    },
    {
     "name": "stderr",
     "output_type": "stream",
     "text": [
      "`Trainer.fit` stopped: `max_epochs=5` reached.\n",
      "Restoring states from the checkpoint path at c:\\Users\\w10\\Desktop\\BMA\\UPV\\tia\\algoritmos_geneticos\\notebooks\\lightning_logs\\version_411\\checkpoints\\epoch=4-step=150.ckpt\n",
      "Loaded model weights from the checkpoint at c:\\Users\\w10\\Desktop\\BMA\\UPV\\tia\\algoritmos_geneticos\\notebooks\\lightning_logs\\version_411\\checkpoints\\epoch=4-step=150.ckpt\n"
     ]
    },
    {
     "data": {
      "application/vnd.jupyter.widget-view+json": {
       "model_id": "3f361584c482454b9216a4178bb13a1a",
       "version_major": 2,
       "version_minor": 0
      },
      "text/plain": [
       "Testing: 0it [00:00, ?it/s]"
      ]
     },
     "metadata": {},
     "output_type": "display_data"
    },
    {
     "data": {
      "text/html": [
       "<pre style=\"white-space:pre;overflow-x:auto;line-height:normal;font-family:Menlo,'DejaVu Sans Mono',consolas,'Courier New',monospace\">┏━━━━━━━━━━━━━━━━━━━━━━━━━━━┳━━━━━━━━━━━━━━━━━━━━━━━━━━━┓\n",
       "┃<span style=\"font-weight: bold\">        Test metric        </span>┃<span style=\"font-weight: bold\">       DataLoader 0        </span>┃\n",
       "┡━━━━━━━━━━━━━━━━━━━━━━━━━━━╇━━━━━━━━━━━━━━━━━━━━━━━━━━━┩\n",
       "│<span style=\"color: #008080; text-decoration-color: #008080\">         test_loss         </span>│<span style=\"color: #800080; text-decoration-color: #800080\">    0.7388590574264526     </span>│\n",
       "└───────────────────────────┴───────────────────────────┘\n",
       "</pre>\n"
      ],
      "text/plain": [
       "┏━━━━━━━━━━━━━━━━━━━━━━━━━━━┳━━━━━━━━━━━━━━━━━━━━━━━━━━━┓\n",
       "┃\u001b[1m \u001b[0m\u001b[1m       Test metric       \u001b[0m\u001b[1m \u001b[0m┃\u001b[1m \u001b[0m\u001b[1m      DataLoader 0       \u001b[0m\u001b[1m \u001b[0m┃\n",
       "┡━━━━━━━━━━━━━━━━━━━━━━━━━━━╇━━━━━━━━━━━━━━━━━━━━━━━━━━━┩\n",
       "│\u001b[36m \u001b[0m\u001b[36m        test_loss        \u001b[0m\u001b[36m \u001b[0m│\u001b[35m \u001b[0m\u001b[35m   0.7388590574264526    \u001b[0m\u001b[35m \u001b[0m│\n",
       "└───────────────────────────┴───────────────────────────┘\n"
      ]
     },
     "metadata": {},
     "output_type": "display_data"
    },
    {
     "name": "stderr",
     "output_type": "stream",
     "text": [
      "GPU available: False, used: False\n",
      "TPU available: False, using: 0 TPU cores\n",
      "IPU available: False, using: 0 IPUs\n",
      "HPU available: False, using: 0 HPUs\n"
     ]
    },
    {
     "name": "stdout",
     "output_type": "stream",
     "text": [
      "{'a_include_BN': False, 'a_include_bias': True, 'activation_type': ReLU(), 'b_include_BN': True, 'b_include_bias': True, 'pool_type': AvgPool2d(kernel_size=2, stride=2, padding=0), 'learning_rate': 0.01, 'dropout_range_a': 0.1, 'dropout_range_b': 0.1}\n"
     ]
    },
    {
     "name": "stderr",
     "output_type": "stream",
     "text": [
      "\n",
      "   | Name                 | Type        | Params\n",
      "------------------------------------------------------\n",
      "0  | model                | MyModel     | 7.1 K \n",
      "1  | pre_layers           | Sequential  | 4.6 K \n",
      "2  | cnn1                 | Conv2d      | 16.4 K\n",
      "3  | batch_norm_a         | BatchNorm2d | 128   \n",
      "4  | dropout_1            | Dropout     | 0     \n",
      "5  | funcion_activacion_a | ReLU        | 0     \n",
      "6  | cnn2                 | Conv2d      | 65.6 K\n",
      "7  | batch_norm_b         | BatchNorm2d | 128   \n",
      "8  | dropout_2            | Dropout     | 0     \n",
      "9  | pool2                | AvgPool2d   | 0     \n",
      "10 | fc1                  | Linear      | 10.2 K\n",
      "------------------------------------------------------\n",
      "92.6 K    Trainable params\n",
      "7.1 K     Non-trainable params\n",
      "99.7 K    Total params\n",
      "0.399     Total estimated model params size (MB)\n"
     ]
    },
    {
     "data": {
      "application/vnd.jupyter.widget-view+json": {
       "model_id": "32cc7c6ff3c740c7a4bf854fd40e328e",
       "version_major": 2,
       "version_minor": 0
      },
      "text/plain": [
       "Sanity Checking: 0it [00:00, ?it/s]"
      ]
     },
     "metadata": {},
     "output_type": "display_data"
    },
    {
     "data": {
      "application/vnd.jupyter.widget-view+json": {
       "model_id": "6a3e2d16064c4306a0c23be93f3b7ff4",
       "version_major": 2,
       "version_minor": 0
      },
      "text/plain": [
       "Training: 0it [00:00, ?it/s]"
      ]
     },
     "metadata": {},
     "output_type": "display_data"
    },
    {
     "data": {
      "application/vnd.jupyter.widget-view+json": {
       "model_id": "a18d62bba98f4c30b5d8d2e139c71611",
       "version_major": 2,
       "version_minor": 0
      },
      "text/plain": [
       "Validation: 0it [00:00, ?it/s]"
      ]
     },
     "metadata": {},
     "output_type": "display_data"
    },
    {
     "data": {
      "application/vnd.jupyter.widget-view+json": {
       "model_id": "96c9b12ddf56425185a74091862dff3a",
       "version_major": 2,
       "version_minor": 0
      },
      "text/plain": [
       "Validation: 0it [00:00, ?it/s]"
      ]
     },
     "metadata": {},
     "output_type": "display_data"
    },
    {
     "data": {
      "application/vnd.jupyter.widget-view+json": {
       "model_id": "2c2fd2fb35524aa9b8381c53206ee95f",
       "version_major": 2,
       "version_minor": 0
      },
      "text/plain": [
       "Validation: 0it [00:00, ?it/s]"
      ]
     },
     "metadata": {},
     "output_type": "display_data"
    },
    {
     "data": {
      "application/vnd.jupyter.widget-view+json": {
       "model_id": "f4205890725b4e7ca99b039de19e3356",
       "version_major": 2,
       "version_minor": 0
      },
      "text/plain": [
       "Validation: 0it [00:00, ?it/s]"
      ]
     },
     "metadata": {},
     "output_type": "display_data"
    },
    {
     "data": {
      "application/vnd.jupyter.widget-view+json": {
       "model_id": "3374a63372a44baba2db50d5a5894e5d",
       "version_major": 2,
       "version_minor": 0
      },
      "text/plain": [
       "Validation: 0it [00:00, ?it/s]"
      ]
     },
     "metadata": {},
     "output_type": "display_data"
    },
    {
     "name": "stderr",
     "output_type": "stream",
     "text": [
      "`Trainer.fit` stopped: `max_epochs=5` reached.\n",
      "Restoring states from the checkpoint path at c:\\Users\\w10\\Desktop\\BMA\\UPV\\tia\\algoritmos_geneticos\\notebooks\\lightning_logs\\version_412\\checkpoints\\epoch=4-step=150.ckpt\n",
      "Loaded model weights from the checkpoint at c:\\Users\\w10\\Desktop\\BMA\\UPV\\tia\\algoritmos_geneticos\\notebooks\\lightning_logs\\version_412\\checkpoints\\epoch=4-step=150.ckpt\n"
     ]
    },
    {
     "data": {
      "application/vnd.jupyter.widget-view+json": {
       "model_id": "d9e740f141c345cb976de3658a64ed70",
       "version_major": 2,
       "version_minor": 0
      },
      "text/plain": [
       "Testing: 0it [00:00, ?it/s]"
      ]
     },
     "metadata": {},
     "output_type": "display_data"
    },
    {
     "data": {
      "text/html": [
       "<pre style=\"white-space:pre;overflow-x:auto;line-height:normal;font-family:Menlo,'DejaVu Sans Mono',consolas,'Courier New',monospace\">┏━━━━━━━━━━━━━━━━━━━━━━━━━━━┳━━━━━━━━━━━━━━━━━━━━━━━━━━━┓\n",
       "┃<span style=\"font-weight: bold\">        Test metric        </span>┃<span style=\"font-weight: bold\">       DataLoader 0        </span>┃\n",
       "┡━━━━━━━━━━━━━━━━━━━━━━━━━━━╇━━━━━━━━━━━━━━━━━━━━━━━━━━━┩\n",
       "│<span style=\"color: #008080; text-decoration-color: #008080\">         test_loss         </span>│<span style=\"color: #800080; text-decoration-color: #800080\">    0.7059390544891357     </span>│\n",
       "└───────────────────────────┴───────────────────────────┘\n",
       "</pre>\n"
      ],
      "text/plain": [
       "┏━━━━━━━━━━━━━━━━━━━━━━━━━━━┳━━━━━━━━━━━━━━━━━━━━━━━━━━━┓\n",
       "┃\u001b[1m \u001b[0m\u001b[1m       Test metric       \u001b[0m\u001b[1m \u001b[0m┃\u001b[1m \u001b[0m\u001b[1m      DataLoader 0       \u001b[0m\u001b[1m \u001b[0m┃\n",
       "┡━━━━━━━━━━━━━━━━━━━━━━━━━━━╇━━━━━━━━━━━━━━━━━━━━━━━━━━━┩\n",
       "│\u001b[36m \u001b[0m\u001b[36m        test_loss        \u001b[0m\u001b[36m \u001b[0m│\u001b[35m \u001b[0m\u001b[35m   0.7059390544891357    \u001b[0m\u001b[35m \u001b[0m│\n",
       "└───────────────────────────┴───────────────────────────┘\n"
      ]
     },
     "metadata": {},
     "output_type": "display_data"
    },
    {
     "name": "stderr",
     "output_type": "stream",
     "text": [
      "GPU available: False, used: False\n",
      "TPU available: False, using: 0 TPU cores\n",
      "IPU available: False, using: 0 IPUs\n",
      "HPU available: False, using: 0 HPUs\n"
     ]
    },
    {
     "name": "stdout",
     "output_type": "stream",
     "text": [
      "{'a_include_BN': False, 'a_include_bias': True, 'activation_type': ReLU(), 'b_include_BN': True, 'b_include_bias': True, 'pool_type': MaxPool2d(kernel_size=2, stride=2, padding=0, dilation=1, ceil_mode=False), 'learning_rate': 0.1, 'dropout_range_a': 0.2, 'dropout_range_b': 0.3}\n"
     ]
    },
    {
     "name": "stderr",
     "output_type": "stream",
     "text": [
      "\n",
      "   | Name                 | Type        | Params\n",
      "------------------------------------------------------\n",
      "0  | model                | MyModel     | 7.1 K \n",
      "1  | pre_layers           | Sequential  | 4.6 K \n",
      "2  | cnn1                 | Conv2d      | 16.4 K\n",
      "3  | batch_norm_a         | BatchNorm2d | 128   \n",
      "4  | dropout_1            | Dropout     | 0     \n",
      "5  | funcion_activacion_a | ReLU        | 0     \n",
      "6  | cnn2                 | Conv2d      | 65.6 K\n",
      "7  | batch_norm_b         | BatchNorm2d | 128   \n",
      "8  | dropout_2            | Dropout     | 0     \n",
      "9  | pool2                | MaxPool2d   | 0     \n",
      "10 | fc1                  | Linear      | 10.2 K\n",
      "------------------------------------------------------\n",
      "92.6 K    Trainable params\n",
      "7.1 K     Non-trainable params\n",
      "99.7 K    Total params\n",
      "0.399     Total estimated model params size (MB)\n"
     ]
    },
    {
     "data": {
      "application/vnd.jupyter.widget-view+json": {
       "model_id": "73dad418d81d437da6ea4a7793069c6c",
       "version_major": 2,
       "version_minor": 0
      },
      "text/plain": [
       "Sanity Checking: 0it [00:00, ?it/s]"
      ]
     },
     "metadata": {},
     "output_type": "display_data"
    },
    {
     "data": {
      "application/vnd.jupyter.widget-view+json": {
       "model_id": "79dd5759fe9b487aaacd7e020fe01aff",
       "version_major": 2,
       "version_minor": 0
      },
      "text/plain": [
       "Training: 0it [00:00, ?it/s]"
      ]
     },
     "metadata": {},
     "output_type": "display_data"
    },
    {
     "data": {
      "application/vnd.jupyter.widget-view+json": {
       "model_id": "3f33e6e35d2e46cc943348165fd49e6a",
       "version_major": 2,
       "version_minor": 0
      },
      "text/plain": [
       "Validation: 0it [00:00, ?it/s]"
      ]
     },
     "metadata": {},
     "output_type": "display_data"
    },
    {
     "data": {
      "application/vnd.jupyter.widget-view+json": {
       "model_id": "043b9b35d2e14667963fe7504b823662",
       "version_major": 2,
       "version_minor": 0
      },
      "text/plain": [
       "Validation: 0it [00:00, ?it/s]"
      ]
     },
     "metadata": {},
     "output_type": "display_data"
    },
    {
     "data": {
      "application/vnd.jupyter.widget-view+json": {
       "model_id": "842636f071a44c88966435375faed451",
       "version_major": 2,
       "version_minor": 0
      },
      "text/plain": [
       "Validation: 0it [00:00, ?it/s]"
      ]
     },
     "metadata": {},
     "output_type": "display_data"
    },
    {
     "data": {
      "application/vnd.jupyter.widget-view+json": {
       "model_id": "35d21e1695f1442bb129a606d1fdacc4",
       "version_major": 2,
       "version_minor": 0
      },
      "text/plain": [
       "Validation: 0it [00:00, ?it/s]"
      ]
     },
     "metadata": {},
     "output_type": "display_data"
    },
    {
     "data": {
      "application/vnd.jupyter.widget-view+json": {
       "model_id": "e0116c67b4604a149fd172cd32ed2fe8",
       "version_major": 2,
       "version_minor": 0
      },
      "text/plain": [
       "Validation: 0it [00:00, ?it/s]"
      ]
     },
     "metadata": {},
     "output_type": "display_data"
    },
    {
     "name": "stderr",
     "output_type": "stream",
     "text": [
      "`Trainer.fit` stopped: `max_epochs=5` reached.\n",
      "Restoring states from the checkpoint path at c:\\Users\\w10\\Desktop\\BMA\\UPV\\tia\\algoritmos_geneticos\\notebooks\\lightning_logs\\version_413\\checkpoints\\epoch=4-step=150.ckpt\n",
      "Loaded model weights from the checkpoint at c:\\Users\\w10\\Desktop\\BMA\\UPV\\tia\\algoritmos_geneticos\\notebooks\\lightning_logs\\version_413\\checkpoints\\epoch=4-step=150.ckpt\n"
     ]
    },
    {
     "data": {
      "application/vnd.jupyter.widget-view+json": {
       "model_id": "5ebdfcbf606e44919113a01061a4b94a",
       "version_major": 2,
       "version_minor": 0
      },
      "text/plain": [
       "Testing: 0it [00:00, ?it/s]"
      ]
     },
     "metadata": {},
     "output_type": "display_data"
    },
    {
     "data": {
      "text/html": [
       "<pre style=\"white-space:pre;overflow-x:auto;line-height:normal;font-family:Menlo,'DejaVu Sans Mono',consolas,'Courier New',monospace\">┏━━━━━━━━━━━━━━━━━━━━━━━━━━━┳━━━━━━━━━━━━━━━━━━━━━━━━━━━┓\n",
       "┃<span style=\"font-weight: bold\">        Test metric        </span>┃<span style=\"font-weight: bold\">       DataLoader 0        </span>┃\n",
       "┡━━━━━━━━━━━━━━━━━━━━━━━━━━━╇━━━━━━━━━━━━━━━━━━━━━━━━━━━┩\n",
       "│<span style=\"color: #008080; text-decoration-color: #008080\">         test_loss         </span>│<span style=\"color: #800080; text-decoration-color: #800080\">    0.6894945502281189     </span>│\n",
       "└───────────────────────────┴───────────────────────────┘\n",
       "</pre>\n"
      ],
      "text/plain": [
       "┏━━━━━━━━━━━━━━━━━━━━━━━━━━━┳━━━━━━━━━━━━━━━━━━━━━━━━━━━┓\n",
       "┃\u001b[1m \u001b[0m\u001b[1m       Test metric       \u001b[0m\u001b[1m \u001b[0m┃\u001b[1m \u001b[0m\u001b[1m      DataLoader 0       \u001b[0m\u001b[1m \u001b[0m┃\n",
       "┡━━━━━━━━━━━━━━━━━━━━━━━━━━━╇━━━━━━━━━━━━━━━━━━━━━━━━━━━┩\n",
       "│\u001b[36m \u001b[0m\u001b[36m        test_loss        \u001b[0m\u001b[36m \u001b[0m│\u001b[35m \u001b[0m\u001b[35m   0.6894945502281189    \u001b[0m\u001b[35m \u001b[0m│\n",
       "└───────────────────────────┴───────────────────────────┘\n"
      ]
     },
     "metadata": {},
     "output_type": "display_data"
    },
    {
     "name": "stderr",
     "output_type": "stream",
     "text": [
      "GPU available: False, used: False\n",
      "TPU available: False, using: 0 TPU cores\n",
      "IPU available: False, using: 0 IPUs\n",
      "HPU available: False, using: 0 HPUs\n"
     ]
    },
    {
     "name": "stdout",
     "output_type": "stream",
     "text": [
      "0.6894945502281189\n",
      "3\n",
      "3\n",
      "3\n",
      "{'a_include_BN': False, 'a_include_bias': True, 'activation_type': ReLU(), 'b_include_BN': True, 'b_include_bias': True, 'pool_type': MaxPool2d(kernel_size=2, stride=2, padding=0, dilation=1, ceil_mode=False), 'learning_rate': 0.1, 'dropout_range_a': 0.3, 'dropout_range_b': 0.3}\n"
     ]
    },
    {
     "name": "stderr",
     "output_type": "stream",
     "text": [
      "\n",
      "   | Name                 | Type        | Params\n",
      "------------------------------------------------------\n",
      "0  | model                | MyModel     | 7.1 K \n",
      "1  | pre_layers           | Sequential  | 4.6 K \n",
      "2  | cnn1                 | Conv2d      | 16.4 K\n",
      "3  | batch_norm_a         | BatchNorm2d | 128   \n",
      "4  | dropout_1            | Dropout     | 0     \n",
      "5  | funcion_activacion_a | ReLU        | 0     \n",
      "6  | cnn2                 | Conv2d      | 65.6 K\n",
      "7  | batch_norm_b         | BatchNorm2d | 128   \n",
      "8  | dropout_2            | Dropout     | 0     \n",
      "9  | pool2                | MaxPool2d   | 0     \n",
      "10 | fc1                  | Linear      | 10.2 K\n",
      "------------------------------------------------------\n",
      "92.6 K    Trainable params\n",
      "7.1 K     Non-trainable params\n",
      "99.7 K    Total params\n",
      "0.399     Total estimated model params size (MB)\n"
     ]
    },
    {
     "data": {
      "application/vnd.jupyter.widget-view+json": {
       "model_id": "adaaf63e8e4742488360f6a57d80263a",
       "version_major": 2,
       "version_minor": 0
      },
      "text/plain": [
       "Sanity Checking: 0it [00:00, ?it/s]"
      ]
     },
     "metadata": {},
     "output_type": "display_data"
    },
    {
     "data": {
      "application/vnd.jupyter.widget-view+json": {
       "model_id": "3880646dc1f84a1880bb3750e0c6a112",
       "version_major": 2,
       "version_minor": 0
      },
      "text/plain": [
       "Training: 0it [00:00, ?it/s]"
      ]
     },
     "metadata": {},
     "output_type": "display_data"
    },
    {
     "data": {
      "application/vnd.jupyter.widget-view+json": {
       "model_id": "d728018909d34d77bbbab1ec3ad057f0",
       "version_major": 2,
       "version_minor": 0
      },
      "text/plain": [
       "Validation: 0it [00:00, ?it/s]"
      ]
     },
     "metadata": {},
     "output_type": "display_data"
    },
    {
     "data": {
      "application/vnd.jupyter.widget-view+json": {
       "model_id": "094cb35f11864834970215144a688ea3",
       "version_major": 2,
       "version_minor": 0
      },
      "text/plain": [
       "Validation: 0it [00:00, ?it/s]"
      ]
     },
     "metadata": {},
     "output_type": "display_data"
    },
    {
     "data": {
      "application/vnd.jupyter.widget-view+json": {
       "model_id": "9268079fbe434623a6145dbda8dd307d",
       "version_major": 2,
       "version_minor": 0
      },
      "text/plain": [
       "Validation: 0it [00:00, ?it/s]"
      ]
     },
     "metadata": {},
     "output_type": "display_data"
    },
    {
     "data": {
      "application/vnd.jupyter.widget-view+json": {
       "model_id": "ac3d3369d59448b598120fe31875d4f7",
       "version_major": 2,
       "version_minor": 0
      },
      "text/plain": [
       "Validation: 0it [00:00, ?it/s]"
      ]
     },
     "metadata": {},
     "output_type": "display_data"
    },
    {
     "data": {
      "application/vnd.jupyter.widget-view+json": {
       "model_id": "af18560b43314569998db221f24918eb",
       "version_major": 2,
       "version_minor": 0
      },
      "text/plain": [
       "Validation: 0it [00:00, ?it/s]"
      ]
     },
     "metadata": {},
     "output_type": "display_data"
    },
    {
     "name": "stderr",
     "output_type": "stream",
     "text": [
      "`Trainer.fit` stopped: `max_epochs=5` reached.\n",
      "Restoring states from the checkpoint path at c:\\Users\\w10\\Desktop\\BMA\\UPV\\tia\\algoritmos_geneticos\\notebooks\\lightning_logs\\version_414\\checkpoints\\epoch=4-step=150.ckpt\n",
      "Loaded model weights from the checkpoint at c:\\Users\\w10\\Desktop\\BMA\\UPV\\tia\\algoritmos_geneticos\\notebooks\\lightning_logs\\version_414\\checkpoints\\epoch=4-step=150.ckpt\n"
     ]
    },
    {
     "data": {
      "application/vnd.jupyter.widget-view+json": {
       "model_id": "f45644ea43114359a231f738b1b5bd1a",
       "version_major": 2,
       "version_minor": 0
      },
      "text/plain": [
       "Testing: 0it [00:00, ?it/s]"
      ]
     },
     "metadata": {},
     "output_type": "display_data"
    },
    {
     "data": {
      "text/html": [
       "<pre style=\"white-space:pre;overflow-x:auto;line-height:normal;font-family:Menlo,'DejaVu Sans Mono',consolas,'Courier New',monospace\">┏━━━━━━━━━━━━━━━━━━━━━━━━━━━┳━━━━━━━━━━━━━━━━━━━━━━━━━━━┓\n",
       "┃<span style=\"font-weight: bold\">        Test metric        </span>┃<span style=\"font-weight: bold\">       DataLoader 0        </span>┃\n",
       "┡━━━━━━━━━━━━━━━━━━━━━━━━━━━╇━━━━━━━━━━━━━━━━━━━━━━━━━━━┩\n",
       "│<span style=\"color: #008080; text-decoration-color: #008080\">         test_loss         </span>│<span style=\"color: #800080; text-decoration-color: #800080\">    0.7150397300720215     </span>│\n",
       "└───────────────────────────┴───────────────────────────┘\n",
       "</pre>\n"
      ],
      "text/plain": [
       "┏━━━━━━━━━━━━━━━━━━━━━━━━━━━┳━━━━━━━━━━━━━━━━━━━━━━━━━━━┓\n",
       "┃\u001b[1m \u001b[0m\u001b[1m       Test metric       \u001b[0m\u001b[1m \u001b[0m┃\u001b[1m \u001b[0m\u001b[1m      DataLoader 0       \u001b[0m\u001b[1m \u001b[0m┃\n",
       "┡━━━━━━━━━━━━━━━━━━━━━━━━━━━╇━━━━━━━━━━━━━━━━━━━━━━━━━━━┩\n",
       "│\u001b[36m \u001b[0m\u001b[36m        test_loss        \u001b[0m\u001b[36m \u001b[0m│\u001b[35m \u001b[0m\u001b[35m   0.7150397300720215    \u001b[0m\u001b[35m \u001b[0m│\n",
       "└───────────────────────────┴───────────────────────────┘\n"
      ]
     },
     "metadata": {},
     "output_type": "display_data"
    },
    {
     "name": "stderr",
     "output_type": "stream",
     "text": [
      "GPU available: False, used: False\n",
      "TPU available: False, using: 0 TPU cores\n",
      "IPU available: False, using: 0 IPUs\n",
      "HPU available: False, using: 0 HPUs\n"
     ]
    },
    {
     "name": "stdout",
     "output_type": "stream",
     "text": [
      "{'a_include_BN': False, 'a_include_bias': True, 'activation_type': ReLU(), 'b_include_BN': True, 'b_include_bias': True, 'pool_type': MaxPool2d(kernel_size=2, stride=2, padding=0, dilation=1, ceil_mode=False), 'learning_rate': 0.1, 'dropout_range_a': 0.2, 'dropout_range_b': 0.3}\n"
     ]
    },
    {
     "name": "stderr",
     "output_type": "stream",
     "text": [
      "\n",
      "   | Name                 | Type        | Params\n",
      "------------------------------------------------------\n",
      "0  | model                | MyModel     | 7.1 K \n",
      "1  | pre_layers           | Sequential  | 4.6 K \n",
      "2  | cnn1                 | Conv2d      | 16.4 K\n",
      "3  | batch_norm_a         | BatchNorm2d | 128   \n",
      "4  | dropout_1            | Dropout     | 0     \n",
      "5  | funcion_activacion_a | ReLU        | 0     \n",
      "6  | cnn2                 | Conv2d      | 65.6 K\n",
      "7  | batch_norm_b         | BatchNorm2d | 128   \n",
      "8  | dropout_2            | Dropout     | 0     \n",
      "9  | pool2                | MaxPool2d   | 0     \n",
      "10 | fc1                  | Linear      | 10.2 K\n",
      "------------------------------------------------------\n",
      "92.6 K    Trainable params\n",
      "7.1 K     Non-trainable params\n",
      "99.7 K    Total params\n",
      "0.399     Total estimated model params size (MB)\n"
     ]
    },
    {
     "data": {
      "application/vnd.jupyter.widget-view+json": {
       "model_id": "a7839f8071244e328a2a18d2d631cff2",
       "version_major": 2,
       "version_minor": 0
      },
      "text/plain": [
       "Sanity Checking: 0it [00:00, ?it/s]"
      ]
     },
     "metadata": {},
     "output_type": "display_data"
    },
    {
     "data": {
      "application/vnd.jupyter.widget-view+json": {
       "model_id": "af002b217a7342b18ef28420578ad7fc",
       "version_major": 2,
       "version_minor": 0
      },
      "text/plain": [
       "Training: 0it [00:00, ?it/s]"
      ]
     },
     "metadata": {},
     "output_type": "display_data"
    },
    {
     "data": {
      "application/vnd.jupyter.widget-view+json": {
       "model_id": "526e005b97864f99970481a7461f0536",
       "version_major": 2,
       "version_minor": 0
      },
      "text/plain": [
       "Validation: 0it [00:00, ?it/s]"
      ]
     },
     "metadata": {},
     "output_type": "display_data"
    },
    {
     "data": {
      "application/vnd.jupyter.widget-view+json": {
       "model_id": "b515bab676bc4e8c9f99937d4be8ef80",
       "version_major": 2,
       "version_minor": 0
      },
      "text/plain": [
       "Validation: 0it [00:00, ?it/s]"
      ]
     },
     "metadata": {},
     "output_type": "display_data"
    },
    {
     "data": {
      "application/vnd.jupyter.widget-view+json": {
       "model_id": "7b1001af5ea34cfb89700d631a0f8889",
       "version_major": 2,
       "version_minor": 0
      },
      "text/plain": [
       "Validation: 0it [00:00, ?it/s]"
      ]
     },
     "metadata": {},
     "output_type": "display_data"
    },
    {
     "data": {
      "application/vnd.jupyter.widget-view+json": {
       "model_id": "0dcedc58cd6e44f1bc399e3ca655dd36",
       "version_major": 2,
       "version_minor": 0
      },
      "text/plain": [
       "Validation: 0it [00:00, ?it/s]"
      ]
     },
     "metadata": {},
     "output_type": "display_data"
    },
    {
     "data": {
      "application/vnd.jupyter.widget-view+json": {
       "model_id": "daccdf48d57f4dd8a912c93794d7aa6c",
       "version_major": 2,
       "version_minor": 0
      },
      "text/plain": [
       "Validation: 0it [00:00, ?it/s]"
      ]
     },
     "metadata": {},
     "output_type": "display_data"
    },
    {
     "name": "stderr",
     "output_type": "stream",
     "text": [
      "`Trainer.fit` stopped: `max_epochs=5` reached.\n",
      "Restoring states from the checkpoint path at c:\\Users\\w10\\Desktop\\BMA\\UPV\\tia\\algoritmos_geneticos\\notebooks\\lightning_logs\\version_415\\checkpoints\\epoch=4-step=150.ckpt\n",
      "Loaded model weights from the checkpoint at c:\\Users\\w10\\Desktop\\BMA\\UPV\\tia\\algoritmos_geneticos\\notebooks\\lightning_logs\\version_415\\checkpoints\\epoch=4-step=150.ckpt\n"
     ]
    },
    {
     "data": {
      "application/vnd.jupyter.widget-view+json": {
       "model_id": "0ac3405c25ca4900bf757653e5f29a98",
       "version_major": 2,
       "version_minor": 0
      },
      "text/plain": [
       "Testing: 0it [00:00, ?it/s]"
      ]
     },
     "metadata": {},
     "output_type": "display_data"
    },
    {
     "data": {
      "text/html": [
       "<pre style=\"white-space:pre;overflow-x:auto;line-height:normal;font-family:Menlo,'DejaVu Sans Mono',consolas,'Courier New',monospace\">┏━━━━━━━━━━━━━━━━━━━━━━━━━━━┳━━━━━━━━━━━━━━━━━━━━━━━━━━━┓\n",
       "┃<span style=\"font-weight: bold\">        Test metric        </span>┃<span style=\"font-weight: bold\">       DataLoader 0        </span>┃\n",
       "┡━━━━━━━━━━━━━━━━━━━━━━━━━━━╇━━━━━━━━━━━━━━━━━━━━━━━━━━━┩\n",
       "│<span style=\"color: #008080; text-decoration-color: #008080\">         test_loss         </span>│<span style=\"color: #800080; text-decoration-color: #800080\">    0.7094026207923889     </span>│\n",
       "└───────────────────────────┴───────────────────────────┘\n",
       "</pre>\n"
      ],
      "text/plain": [
       "┏━━━━━━━━━━━━━━━━━━━━━━━━━━━┳━━━━━━━━━━━━━━━━━━━━━━━━━━━┓\n",
       "┃\u001b[1m \u001b[0m\u001b[1m       Test metric       \u001b[0m\u001b[1m \u001b[0m┃\u001b[1m \u001b[0m\u001b[1m      DataLoader 0       \u001b[0m\u001b[1m \u001b[0m┃\n",
       "┡━━━━━━━━━━━━━━━━━━━━━━━━━━━╇━━━━━━━━━━━━━━━━━━━━━━━━━━━┩\n",
       "│\u001b[36m \u001b[0m\u001b[36m        test_loss        \u001b[0m\u001b[36m \u001b[0m│\u001b[35m \u001b[0m\u001b[35m   0.7094026207923889    \u001b[0m\u001b[35m \u001b[0m│\n",
       "└───────────────────────────┴───────────────────────────┘\n"
      ]
     },
     "metadata": {},
     "output_type": "display_data"
    },
    {
     "name": "stderr",
     "output_type": "stream",
     "text": [
      "GPU available: False, used: False\n",
      "TPU available: False, using: 0 TPU cores\n",
      "IPU available: False, using: 0 IPUs\n",
      "HPU available: False, using: 0 HPUs\n"
     ]
    },
    {
     "name": "stdout",
     "output_type": "stream",
     "text": [
      "{'a_include_BN': False, 'a_include_bias': True, 'activation_type': ReLU(), 'b_include_BN': True, 'b_include_bias': True, 'pool_type': AvgPool2d(kernel_size=2, stride=2, padding=0), 'learning_rate': 0.01, 'dropout_range_a': 0.1, 'dropout_range_b': 0.1}\n"
     ]
    },
    {
     "name": "stderr",
     "output_type": "stream",
     "text": [
      "\n",
      "   | Name                 | Type        | Params\n",
      "------------------------------------------------------\n",
      "0  | model                | MyModel     | 7.1 K \n",
      "1  | pre_layers           | Sequential  | 4.6 K \n",
      "2  | cnn1                 | Conv2d      | 16.4 K\n",
      "3  | batch_norm_a         | BatchNorm2d | 128   \n",
      "4  | dropout_1            | Dropout     | 0     \n",
      "5  | funcion_activacion_a | ReLU        | 0     \n",
      "6  | cnn2                 | Conv2d      | 65.6 K\n",
      "7  | batch_norm_b         | BatchNorm2d | 128   \n",
      "8  | dropout_2            | Dropout     | 0     \n",
      "9  | pool2                | AvgPool2d   | 0     \n",
      "10 | fc1                  | Linear      | 10.2 K\n",
      "------------------------------------------------------\n",
      "92.6 K    Trainable params\n",
      "7.1 K     Non-trainable params\n",
      "99.7 K    Total params\n",
      "0.399     Total estimated model params size (MB)\n"
     ]
    },
    {
     "data": {
      "application/vnd.jupyter.widget-view+json": {
       "model_id": "88a41fcb82a54be79540cc41e9b076e5",
       "version_major": 2,
       "version_minor": 0
      },
      "text/plain": [
       "Sanity Checking: 0it [00:00, ?it/s]"
      ]
     },
     "metadata": {},
     "output_type": "display_data"
    },
    {
     "data": {
      "application/vnd.jupyter.widget-view+json": {
       "model_id": "a6c18fe53be949a9b4b857468b4b3253",
       "version_major": 2,
       "version_minor": 0
      },
      "text/plain": [
       "Training: 0it [00:00, ?it/s]"
      ]
     },
     "metadata": {},
     "output_type": "display_data"
    },
    {
     "data": {
      "application/vnd.jupyter.widget-view+json": {
       "model_id": "8acf4cce77c64b13acccf75d61866181",
       "version_major": 2,
       "version_minor": 0
      },
      "text/plain": [
       "Validation: 0it [00:00, ?it/s]"
      ]
     },
     "metadata": {},
     "output_type": "display_data"
    },
    {
     "data": {
      "application/vnd.jupyter.widget-view+json": {
       "model_id": "6bc81552f36b474e99c4a8e35f609036",
       "version_major": 2,
       "version_minor": 0
      },
      "text/plain": [
       "Validation: 0it [00:00, ?it/s]"
      ]
     },
     "metadata": {},
     "output_type": "display_data"
    },
    {
     "data": {
      "application/vnd.jupyter.widget-view+json": {
       "model_id": "85024f43e36c492b98a71e44f483b14c",
       "version_major": 2,
       "version_minor": 0
      },
      "text/plain": [
       "Validation: 0it [00:00, ?it/s]"
      ]
     },
     "metadata": {},
     "output_type": "display_data"
    },
    {
     "data": {
      "application/vnd.jupyter.widget-view+json": {
       "model_id": "a7ade517c0bc49a69789036419b2a739",
       "version_major": 2,
       "version_minor": 0
      },
      "text/plain": [
       "Validation: 0it [00:00, ?it/s]"
      ]
     },
     "metadata": {},
     "output_type": "display_data"
    },
    {
     "data": {
      "application/vnd.jupyter.widget-view+json": {
       "model_id": "ecf514d5a2574430832b4c0a24cb06bd",
       "version_major": 2,
       "version_minor": 0
      },
      "text/plain": [
       "Validation: 0it [00:00, ?it/s]"
      ]
     },
     "metadata": {},
     "output_type": "display_data"
    },
    {
     "name": "stderr",
     "output_type": "stream",
     "text": [
      "`Trainer.fit` stopped: `max_epochs=5` reached.\n",
      "Restoring states from the checkpoint path at c:\\Users\\w10\\Desktop\\BMA\\UPV\\tia\\algoritmos_geneticos\\notebooks\\lightning_logs\\version_416\\checkpoints\\epoch=4-step=150.ckpt\n",
      "Loaded model weights from the checkpoint at c:\\Users\\w10\\Desktop\\BMA\\UPV\\tia\\algoritmos_geneticos\\notebooks\\lightning_logs\\version_416\\checkpoints\\epoch=4-step=150.ckpt\n"
     ]
    },
    {
     "data": {
      "application/vnd.jupyter.widget-view+json": {
       "model_id": "27fef6d24154414cbdfb9197b3331b3f",
       "version_major": 2,
       "version_minor": 0
      },
      "text/plain": [
       "Testing: 0it [00:00, ?it/s]"
      ]
     },
     "metadata": {},
     "output_type": "display_data"
    },
    {
     "data": {
      "text/html": [
       "<pre style=\"white-space:pre;overflow-x:auto;line-height:normal;font-family:Menlo,'DejaVu Sans Mono',consolas,'Courier New',monospace\">┏━━━━━━━━━━━━━━━━━━━━━━━━━━━┳━━━━━━━━━━━━━━━━━━━━━━━━━━━┓\n",
       "┃<span style=\"font-weight: bold\">        Test metric        </span>┃<span style=\"font-weight: bold\">       DataLoader 0        </span>┃\n",
       "┡━━━━━━━━━━━━━━━━━━━━━━━━━━━╇━━━━━━━━━━━━━━━━━━━━━━━━━━━┩\n",
       "│<span style=\"color: #008080; text-decoration-color: #008080\">         test_loss         </span>│<span style=\"color: #800080; text-decoration-color: #800080\">    0.7306385040283203     </span>│\n",
       "└───────────────────────────┴───────────────────────────┘\n",
       "</pre>\n"
      ],
      "text/plain": [
       "┏━━━━━━━━━━━━━━━━━━━━━━━━━━━┳━━━━━━━━━━━━━━━━━━━━━━━━━━━┓\n",
       "┃\u001b[1m \u001b[0m\u001b[1m       Test metric       \u001b[0m\u001b[1m \u001b[0m┃\u001b[1m \u001b[0m\u001b[1m      DataLoader 0       \u001b[0m\u001b[1m \u001b[0m┃\n",
       "┡━━━━━━━━━━━━━━━━━━━━━━━━━━━╇━━━━━━━━━━━━━━━━━━━━━━━━━━━┩\n",
       "│\u001b[36m \u001b[0m\u001b[36m        test_loss        \u001b[0m\u001b[36m \u001b[0m│\u001b[35m \u001b[0m\u001b[35m   0.7306385040283203    \u001b[0m\u001b[35m \u001b[0m│\n",
       "└───────────────────────────┴───────────────────────────┘\n"
      ]
     },
     "metadata": {},
     "output_type": "display_data"
    },
    {
     "name": "stderr",
     "output_type": "stream",
     "text": [
      "GPU available: False, used: False\n",
      "TPU available: False, using: 0 TPU cores\n",
      "IPU available: False, using: 0 IPUs\n",
      "HPU available: False, using: 0 HPUs\n"
     ]
    },
    {
     "name": "stdout",
     "output_type": "stream",
     "text": [
      "{'a_include_BN': False, 'a_include_bias': True, 'activation_type': ReLU(), 'b_include_BN': True, 'b_include_bias': True, 'pool_type': MaxPool2d(kernel_size=2, stride=2, padding=0, dilation=1, ceil_mode=False), 'learning_rate': 0.1, 'dropout_range_a': 0.2, 'dropout_range_b': 0.3}\n"
     ]
    },
    {
     "name": "stderr",
     "output_type": "stream",
     "text": [
      "\n",
      "   | Name                 | Type        | Params\n",
      "------------------------------------------------------\n",
      "0  | model                | MyModel     | 7.1 K \n",
      "1  | pre_layers           | Sequential  | 4.6 K \n",
      "2  | cnn1                 | Conv2d      | 16.4 K\n",
      "3  | batch_norm_a         | BatchNorm2d | 128   \n",
      "4  | dropout_1            | Dropout     | 0     \n",
      "5  | funcion_activacion_a | ReLU        | 0     \n",
      "6  | cnn2                 | Conv2d      | 65.6 K\n",
      "7  | batch_norm_b         | BatchNorm2d | 128   \n",
      "8  | dropout_2            | Dropout     | 0     \n",
      "9  | pool2                | MaxPool2d   | 0     \n",
      "10 | fc1                  | Linear      | 10.2 K\n",
      "------------------------------------------------------\n",
      "92.6 K    Trainable params\n",
      "7.1 K     Non-trainable params\n",
      "99.7 K    Total params\n",
      "0.399     Total estimated model params size (MB)\n"
     ]
    },
    {
     "data": {
      "application/vnd.jupyter.widget-view+json": {
       "model_id": "74930466a4254ba1b25b82a86774149e",
       "version_major": 2,
       "version_minor": 0
      },
      "text/plain": [
       "Sanity Checking: 0it [00:00, ?it/s]"
      ]
     },
     "metadata": {},
     "output_type": "display_data"
    },
    {
     "data": {
      "application/vnd.jupyter.widget-view+json": {
       "model_id": "b30628b209d6427ebee3587cbe6d22ac",
       "version_major": 2,
       "version_minor": 0
      },
      "text/plain": [
       "Training: 0it [00:00, ?it/s]"
      ]
     },
     "metadata": {},
     "output_type": "display_data"
    },
    {
     "data": {
      "application/vnd.jupyter.widget-view+json": {
       "model_id": "45ab265102054e3790dd01387388f8b6",
       "version_major": 2,
       "version_minor": 0
      },
      "text/plain": [
       "Validation: 0it [00:00, ?it/s]"
      ]
     },
     "metadata": {},
     "output_type": "display_data"
    },
    {
     "data": {
      "application/vnd.jupyter.widget-view+json": {
       "model_id": "8dade1a205314e4e89bf55a7c5476222",
       "version_major": 2,
       "version_minor": 0
      },
      "text/plain": [
       "Validation: 0it [00:00, ?it/s]"
      ]
     },
     "metadata": {},
     "output_type": "display_data"
    },
    {
     "data": {
      "application/vnd.jupyter.widget-view+json": {
       "model_id": "57c9477d06ea48e4b91abbc519c416b1",
       "version_major": 2,
       "version_minor": 0
      },
      "text/plain": [
       "Validation: 0it [00:00, ?it/s]"
      ]
     },
     "metadata": {},
     "output_type": "display_data"
    },
    {
     "data": {
      "application/vnd.jupyter.widget-view+json": {
       "model_id": "839a19a0956041bba0defbc8a2dbe51c",
       "version_major": 2,
       "version_minor": 0
      },
      "text/plain": [
       "Validation: 0it [00:00, ?it/s]"
      ]
     },
     "metadata": {},
     "output_type": "display_data"
    },
    {
     "data": {
      "application/vnd.jupyter.widget-view+json": {
       "model_id": "d04584fbb582415083d424bd52d2480c",
       "version_major": 2,
       "version_minor": 0
      },
      "text/plain": [
       "Validation: 0it [00:00, ?it/s]"
      ]
     },
     "metadata": {},
     "output_type": "display_data"
    },
    {
     "name": "stderr",
     "output_type": "stream",
     "text": [
      "`Trainer.fit` stopped: `max_epochs=5` reached.\n",
      "Restoring states from the checkpoint path at c:\\Users\\w10\\Desktop\\BMA\\UPV\\tia\\algoritmos_geneticos\\notebooks\\lightning_logs\\version_417\\checkpoints\\epoch=4-step=150.ckpt\n",
      "Loaded model weights from the checkpoint at c:\\Users\\w10\\Desktop\\BMA\\UPV\\tia\\algoritmos_geneticos\\notebooks\\lightning_logs\\version_417\\checkpoints\\epoch=4-step=150.ckpt\n"
     ]
    },
    {
     "data": {
      "application/vnd.jupyter.widget-view+json": {
       "model_id": "24cacb0d21b24ec1a4eb421d8b14cddf",
       "version_major": 2,
       "version_minor": 0
      },
      "text/plain": [
       "Testing: 0it [00:00, ?it/s]"
      ]
     },
     "metadata": {},
     "output_type": "display_data"
    },
    {
     "data": {
      "text/html": [
       "<pre style=\"white-space:pre;overflow-x:auto;line-height:normal;font-family:Menlo,'DejaVu Sans Mono',consolas,'Courier New',monospace\">┏━━━━━━━━━━━━━━━━━━━━━━━━━━━┳━━━━━━━━━━━━━━━━━━━━━━━━━━━┓\n",
       "┃<span style=\"font-weight: bold\">        Test metric        </span>┃<span style=\"font-weight: bold\">       DataLoader 0        </span>┃\n",
       "┡━━━━━━━━━━━━━━━━━━━━━━━━━━━╇━━━━━━━━━━━━━━━━━━━━━━━━━━━┩\n",
       "│<span style=\"color: #008080; text-decoration-color: #008080\">         test_loss         </span>│<span style=\"color: #800080; text-decoration-color: #800080\">    0.7876219153404236     </span>│\n",
       "└───────────────────────────┴───────────────────────────┘\n",
       "</pre>\n"
      ],
      "text/plain": [
       "┏━━━━━━━━━━━━━━━━━━━━━━━━━━━┳━━━━━━━━━━━━━━━━━━━━━━━━━━━┓\n",
       "┃\u001b[1m \u001b[0m\u001b[1m       Test metric       \u001b[0m\u001b[1m \u001b[0m┃\u001b[1m \u001b[0m\u001b[1m      DataLoader 0       \u001b[0m\u001b[1m \u001b[0m┃\n",
       "┡━━━━━━━━━━━━━━━━━━━━━━━━━━━╇━━━━━━━━━━━━━━━━━━━━━━━━━━━┩\n",
       "│\u001b[36m \u001b[0m\u001b[36m        test_loss        \u001b[0m\u001b[36m \u001b[0m│\u001b[35m \u001b[0m\u001b[35m   0.7876219153404236    \u001b[0m\u001b[35m \u001b[0m│\n",
       "└───────────────────────────┴───────────────────────────┘\n"
      ]
     },
     "metadata": {},
     "output_type": "display_data"
    },
    {
     "name": "stderr",
     "output_type": "stream",
     "text": [
      "GPU available: False, used: False\n",
      "TPU available: False, using: 0 TPU cores\n",
      "IPU available: False, using: 0 IPUs\n",
      "HPU available: False, using: 0 HPUs\n"
     ]
    },
    {
     "name": "stdout",
     "output_type": "stream",
     "text": [
      "{'a_include_BN': False, 'a_include_bias': True, 'activation_type': ReLU(), 'b_include_BN': True, 'b_include_bias': True, 'pool_type': MaxPool2d(kernel_size=2, stride=2, padding=0, dilation=1, ceil_mode=False), 'learning_rate': 0.1, 'dropout_range_a': 0.3, 'dropout_range_b': 0.3}\n"
     ]
    },
    {
     "name": "stderr",
     "output_type": "stream",
     "text": [
      "\n",
      "   | Name                 | Type        | Params\n",
      "------------------------------------------------------\n",
      "0  | model                | MyModel     | 7.1 K \n",
      "1  | pre_layers           | Sequential  | 4.6 K \n",
      "2  | cnn1                 | Conv2d      | 16.4 K\n",
      "3  | batch_norm_a         | BatchNorm2d | 128   \n",
      "4  | dropout_1            | Dropout     | 0     \n",
      "5  | funcion_activacion_a | ReLU        | 0     \n",
      "6  | cnn2                 | Conv2d      | 65.6 K\n",
      "7  | batch_norm_b         | BatchNorm2d | 128   \n",
      "8  | dropout_2            | Dropout     | 0     \n",
      "9  | pool2                | MaxPool2d   | 0     \n",
      "10 | fc1                  | Linear      | 10.2 K\n",
      "------------------------------------------------------\n",
      "92.6 K    Trainable params\n",
      "7.1 K     Non-trainable params\n",
      "99.7 K    Total params\n",
      "0.399     Total estimated model params size (MB)\n"
     ]
    },
    {
     "data": {
      "application/vnd.jupyter.widget-view+json": {
       "model_id": "80ea0a7a4ad14d9f8187b3784a555019",
       "version_major": 2,
       "version_minor": 0
      },
      "text/plain": [
       "Sanity Checking: 0it [00:00, ?it/s]"
      ]
     },
     "metadata": {},
     "output_type": "display_data"
    },
    {
     "data": {
      "application/vnd.jupyter.widget-view+json": {
       "model_id": "f3388a29bca545779ba3f306b1ea4d32",
       "version_major": 2,
       "version_minor": 0
      },
      "text/plain": [
       "Training: 0it [00:00, ?it/s]"
      ]
     },
     "metadata": {},
     "output_type": "display_data"
    },
    {
     "data": {
      "application/vnd.jupyter.widget-view+json": {
       "model_id": "51af95065deb4e7d9b201bed4f80c8e4",
       "version_major": 2,
       "version_minor": 0
      },
      "text/plain": [
       "Validation: 0it [00:00, ?it/s]"
      ]
     },
     "metadata": {},
     "output_type": "display_data"
    },
    {
     "data": {
      "application/vnd.jupyter.widget-view+json": {
       "model_id": "fc62724003c04edca533128403aa5e5c",
       "version_major": 2,
       "version_minor": 0
      },
      "text/plain": [
       "Validation: 0it [00:00, ?it/s]"
      ]
     },
     "metadata": {},
     "output_type": "display_data"
    },
    {
     "data": {
      "application/vnd.jupyter.widget-view+json": {
       "model_id": "965e9a3ff484400a9172b01c94eaf189",
       "version_major": 2,
       "version_minor": 0
      },
      "text/plain": [
       "Validation: 0it [00:00, ?it/s]"
      ]
     },
     "metadata": {},
     "output_type": "display_data"
    },
    {
     "data": {
      "application/vnd.jupyter.widget-view+json": {
       "model_id": "a5fa9ceb473d4a5dba8550861821c296",
       "version_major": 2,
       "version_minor": 0
      },
      "text/plain": [
       "Validation: 0it [00:00, ?it/s]"
      ]
     },
     "metadata": {},
     "output_type": "display_data"
    },
    {
     "data": {
      "application/vnd.jupyter.widget-view+json": {
       "model_id": "98ad653acecb45bb87f2245527c9f4ae",
       "version_major": 2,
       "version_minor": 0
      },
      "text/plain": [
       "Validation: 0it [00:00, ?it/s]"
      ]
     },
     "metadata": {},
     "output_type": "display_data"
    },
    {
     "name": "stderr",
     "output_type": "stream",
     "text": [
      "`Trainer.fit` stopped: `max_epochs=5` reached.\n",
      "Restoring states from the checkpoint path at c:\\Users\\w10\\Desktop\\BMA\\UPV\\tia\\algoritmos_geneticos\\notebooks\\lightning_logs\\version_418\\checkpoints\\epoch=4-step=150.ckpt\n",
      "Loaded model weights from the checkpoint at c:\\Users\\w10\\Desktop\\BMA\\UPV\\tia\\algoritmos_geneticos\\notebooks\\lightning_logs\\version_418\\checkpoints\\epoch=4-step=150.ckpt\n"
     ]
    },
    {
     "data": {
      "application/vnd.jupyter.widget-view+json": {
       "model_id": "c522f677c6b14ff4a3418ec558194751",
       "version_major": 2,
       "version_minor": 0
      },
      "text/plain": [
       "Testing: 0it [00:00, ?it/s]"
      ]
     },
     "metadata": {},
     "output_type": "display_data"
    },
    {
     "data": {
      "text/html": [
       "<pre style=\"white-space:pre;overflow-x:auto;line-height:normal;font-family:Menlo,'DejaVu Sans Mono',consolas,'Courier New',monospace\">┏━━━━━━━━━━━━━━━━━━━━━━━━━━━┳━━━━━━━━━━━━━━━━━━━━━━━━━━━┓\n",
       "┃<span style=\"font-weight: bold\">        Test metric        </span>┃<span style=\"font-weight: bold\">       DataLoader 0        </span>┃\n",
       "┡━━━━━━━━━━━━━━━━━━━━━━━━━━━╇━━━━━━━━━━━━━━━━━━━━━━━━━━━┩\n",
       "│<span style=\"color: #008080; text-decoration-color: #008080\">         test_loss         </span>│<span style=\"color: #800080; text-decoration-color: #800080\">    0.8509188890457153     </span>│\n",
       "└───────────────────────────┴───────────────────────────┘\n",
       "</pre>\n"
      ],
      "text/plain": [
       "┏━━━━━━━━━━━━━━━━━━━━━━━━━━━┳━━━━━━━━━━━━━━━━━━━━━━━━━━━┓\n",
       "┃\u001b[1m \u001b[0m\u001b[1m       Test metric       \u001b[0m\u001b[1m \u001b[0m┃\u001b[1m \u001b[0m\u001b[1m      DataLoader 0       \u001b[0m\u001b[1m \u001b[0m┃\n",
       "┡━━━━━━━━━━━━━━━━━━━━━━━━━━━╇━━━━━━━━━━━━━━━━━━━━━━━━━━━┩\n",
       "│\u001b[36m \u001b[0m\u001b[36m        test_loss        \u001b[0m\u001b[36m \u001b[0m│\u001b[35m \u001b[0m\u001b[35m   0.8509188890457153    \u001b[0m\u001b[35m \u001b[0m│\n",
       "└───────────────────────────┴───────────────────────────┘\n"
      ]
     },
     "metadata": {},
     "output_type": "display_data"
    },
    {
     "name": "stderr",
     "output_type": "stream",
     "text": [
      "GPU available: False, used: False\n",
      "TPU available: False, using: 0 TPU cores\n",
      "IPU available: False, using: 0 IPUs\n",
      "HPU available: False, using: 0 HPUs\n"
     ]
    },
    {
     "name": "stdout",
     "output_type": "stream",
     "text": [
      "{'a_include_BN': False, 'a_include_bias': True, 'activation_type': ReLU(), 'b_include_BN': True, 'b_include_bias': True, 'pool_type': MaxPool2d(kernel_size=2, stride=2, padding=0, dilation=1, ceil_mode=False), 'learning_rate': 0.1, 'dropout_range_a': 0.2, 'dropout_range_b': 0.3}\n"
     ]
    },
    {
     "name": "stderr",
     "output_type": "stream",
     "text": [
      "\n",
      "   | Name                 | Type        | Params\n",
      "------------------------------------------------------\n",
      "0  | model                | MyModel     | 7.1 K \n",
      "1  | pre_layers           | Sequential  | 4.6 K \n",
      "2  | cnn1                 | Conv2d      | 16.4 K\n",
      "3  | batch_norm_a         | BatchNorm2d | 128   \n",
      "4  | dropout_1            | Dropout     | 0     \n",
      "5  | funcion_activacion_a | ReLU        | 0     \n",
      "6  | cnn2                 | Conv2d      | 65.6 K\n",
      "7  | batch_norm_b         | BatchNorm2d | 128   \n",
      "8  | dropout_2            | Dropout     | 0     \n",
      "9  | pool2                | MaxPool2d   | 0     \n",
      "10 | fc1                  | Linear      | 10.2 K\n",
      "------------------------------------------------------\n",
      "92.6 K    Trainable params\n",
      "7.1 K     Non-trainable params\n",
      "99.7 K    Total params\n",
      "0.399     Total estimated model params size (MB)\n"
     ]
    },
    {
     "data": {
      "application/vnd.jupyter.widget-view+json": {
       "model_id": "6b14b5c9fe944febaa0af45301b4cb50",
       "version_major": 2,
       "version_minor": 0
      },
      "text/plain": [
       "Sanity Checking: 0it [00:00, ?it/s]"
      ]
     },
     "metadata": {},
     "output_type": "display_data"
    },
    {
     "data": {
      "application/vnd.jupyter.widget-view+json": {
       "model_id": "12bf4b5edb6a41ee935785e7dd76d60d",
       "version_major": 2,
       "version_minor": 0
      },
      "text/plain": [
       "Training: 0it [00:00, ?it/s]"
      ]
     },
     "metadata": {},
     "output_type": "display_data"
    },
    {
     "data": {
      "application/vnd.jupyter.widget-view+json": {
       "model_id": "afe5421b268c411f84e37438837b9aed",
       "version_major": 2,
       "version_minor": 0
      },
      "text/plain": [
       "Validation: 0it [00:00, ?it/s]"
      ]
     },
     "metadata": {},
     "output_type": "display_data"
    },
    {
     "data": {
      "application/vnd.jupyter.widget-view+json": {
       "model_id": "becd5c7395144fbd9dfd17cb396561dc",
       "version_major": 2,
       "version_minor": 0
      },
      "text/plain": [
       "Validation: 0it [00:00, ?it/s]"
      ]
     },
     "metadata": {},
     "output_type": "display_data"
    },
    {
     "data": {
      "application/vnd.jupyter.widget-view+json": {
       "model_id": "85c430f6f74942fc9b48b32ae56801e8",
       "version_major": 2,
       "version_minor": 0
      },
      "text/plain": [
       "Validation: 0it [00:00, ?it/s]"
      ]
     },
     "metadata": {},
     "output_type": "display_data"
    },
    {
     "data": {
      "application/vnd.jupyter.widget-view+json": {
       "model_id": "435e9cb9289e4e5e8683507b55a12a2b",
       "version_major": 2,
       "version_minor": 0
      },
      "text/plain": [
       "Validation: 0it [00:00, ?it/s]"
      ]
     },
     "metadata": {},
     "output_type": "display_data"
    },
    {
     "data": {
      "application/vnd.jupyter.widget-view+json": {
       "model_id": "e2daed58651b4462bbaa30115833d3a4",
       "version_major": 2,
       "version_minor": 0
      },
      "text/plain": [
       "Validation: 0it [00:00, ?it/s]"
      ]
     },
     "metadata": {},
     "output_type": "display_data"
    },
    {
     "name": "stderr",
     "output_type": "stream",
     "text": [
      "`Trainer.fit` stopped: `max_epochs=5` reached.\n",
      "Restoring states from the checkpoint path at c:\\Users\\w10\\Desktop\\BMA\\UPV\\tia\\algoritmos_geneticos\\notebooks\\lightning_logs\\version_419\\checkpoints\\epoch=4-step=150.ckpt\n",
      "Loaded model weights from the checkpoint at c:\\Users\\w10\\Desktop\\BMA\\UPV\\tia\\algoritmos_geneticos\\notebooks\\lightning_logs\\version_419\\checkpoints\\epoch=4-step=150.ckpt\n"
     ]
    },
    {
     "data": {
      "application/vnd.jupyter.widget-view+json": {
       "model_id": "b0ffbf63e7a14cdabd515d13fdb4b7df",
       "version_major": 2,
       "version_minor": 0
      },
      "text/plain": [
       "Testing: 0it [00:00, ?it/s]"
      ]
     },
     "metadata": {},
     "output_type": "display_data"
    },
    {
     "data": {
      "text/html": [
       "<pre style=\"white-space:pre;overflow-x:auto;line-height:normal;font-family:Menlo,'DejaVu Sans Mono',consolas,'Courier New',monospace\">┏━━━━━━━━━━━━━━━━━━━━━━━━━━━┳━━━━━━━━━━━━━━━━━━━━━━━━━━━┓\n",
       "┃<span style=\"font-weight: bold\">        Test metric        </span>┃<span style=\"font-weight: bold\">       DataLoader 0        </span>┃\n",
       "┡━━━━━━━━━━━━━━━━━━━━━━━━━━━╇━━━━━━━━━━━━━━━━━━━━━━━━━━━┩\n",
       "│<span style=\"color: #008080; text-decoration-color: #008080\">         test_loss         </span>│<span style=\"color: #800080; text-decoration-color: #800080\">    0.7276970148086548     </span>│\n",
       "└───────────────────────────┴───────────────────────────┘\n",
       "</pre>\n"
      ],
      "text/plain": [
       "┏━━━━━━━━━━━━━━━━━━━━━━━━━━━┳━━━━━━━━━━━━━━━━━━━━━━━━━━━┓\n",
       "┃\u001b[1m \u001b[0m\u001b[1m       Test metric       \u001b[0m\u001b[1m \u001b[0m┃\u001b[1m \u001b[0m\u001b[1m      DataLoader 0       \u001b[0m\u001b[1m \u001b[0m┃\n",
       "┡━━━━━━━━━━━━━━━━━━━━━━━━━━━╇━━━━━━━━━━━━━━━━━━━━━━━━━━━┩\n",
       "│\u001b[36m \u001b[0m\u001b[36m        test_loss        \u001b[0m\u001b[36m \u001b[0m│\u001b[35m \u001b[0m\u001b[35m   0.7276970148086548    \u001b[0m\u001b[35m \u001b[0m│\n",
       "└───────────────────────────┴───────────────────────────┘\n"
      ]
     },
     "metadata": {},
     "output_type": "display_data"
    },
    {
     "name": "stderr",
     "output_type": "stream",
     "text": [
      "GPU available: False, used: False\n",
      "TPU available: False, using: 0 TPU cores\n",
      "IPU available: False, using: 0 IPUs\n",
      "HPU available: False, using: 0 HPUs\n"
     ]
    },
    {
     "name": "stdout",
     "output_type": "stream",
     "text": [
      "0.7094026207923889\n",
      "3\n",
      "3\n",
      "3\n",
      "{'a_include_BN': False, 'a_include_bias': True, 'activation_type': ReLU(), 'b_include_BN': True, 'b_include_bias': True, 'pool_type': MaxPool2d(kernel_size=2, stride=2, padding=0, dilation=1, ceil_mode=False), 'learning_rate': 0.1, 'dropout_range_a': 0.2, 'dropout_range_b': 0.3}\n"
     ]
    },
    {
     "name": "stderr",
     "output_type": "stream",
     "text": [
      "\n",
      "   | Name                 | Type        | Params\n",
      "------------------------------------------------------\n",
      "0  | model                | MyModel     | 7.1 K \n",
      "1  | pre_layers           | Sequential  | 4.6 K \n",
      "2  | cnn1                 | Conv2d      | 16.4 K\n",
      "3  | batch_norm_a         | BatchNorm2d | 128   \n",
      "4  | dropout_1            | Dropout     | 0     \n",
      "5  | funcion_activacion_a | ReLU        | 0     \n",
      "6  | cnn2                 | Conv2d      | 65.6 K\n",
      "7  | batch_norm_b         | BatchNorm2d | 128   \n",
      "8  | dropout_2            | Dropout     | 0     \n",
      "9  | pool2                | MaxPool2d   | 0     \n",
      "10 | fc1                  | Linear      | 10.2 K\n",
      "------------------------------------------------------\n",
      "92.6 K    Trainable params\n",
      "7.1 K     Non-trainable params\n",
      "99.7 K    Total params\n",
      "0.399     Total estimated model params size (MB)\n"
     ]
    },
    {
     "data": {
      "application/vnd.jupyter.widget-view+json": {
       "model_id": "b7fdf237cf1944689fab272cce696030",
       "version_major": 2,
       "version_minor": 0
      },
      "text/plain": [
       "Sanity Checking: 0it [00:00, ?it/s]"
      ]
     },
     "metadata": {},
     "output_type": "display_data"
    },
    {
     "data": {
      "application/vnd.jupyter.widget-view+json": {
       "model_id": "2f8b17fd44cf44b08d8ca54775328aa0",
       "version_major": 2,
       "version_minor": 0
      },
      "text/plain": [
       "Training: 0it [00:00, ?it/s]"
      ]
     },
     "metadata": {},
     "output_type": "display_data"
    },
    {
     "data": {
      "application/vnd.jupyter.widget-view+json": {
       "model_id": "6c1576ab69044202af59fab5665acea8",
       "version_major": 2,
       "version_minor": 0
      },
      "text/plain": [
       "Validation: 0it [00:00, ?it/s]"
      ]
     },
     "metadata": {},
     "output_type": "display_data"
    },
    {
     "data": {
      "application/vnd.jupyter.widget-view+json": {
       "model_id": "4e74e3dd135048f6a4a527a2ff64ed68",
       "version_major": 2,
       "version_minor": 0
      },
      "text/plain": [
       "Validation: 0it [00:00, ?it/s]"
      ]
     },
     "metadata": {},
     "output_type": "display_data"
    },
    {
     "data": {
      "application/vnd.jupyter.widget-view+json": {
       "model_id": "5396a1e2038b4152ade1e8032c815dd4",
       "version_major": 2,
       "version_minor": 0
      },
      "text/plain": [
       "Validation: 0it [00:00, ?it/s]"
      ]
     },
     "metadata": {},
     "output_type": "display_data"
    },
    {
     "data": {
      "application/vnd.jupyter.widget-view+json": {
       "model_id": "00ae28e30d364aff80cb03e72b84b2d7",
       "version_major": 2,
       "version_minor": 0
      },
      "text/plain": [
       "Validation: 0it [00:00, ?it/s]"
      ]
     },
     "metadata": {},
     "output_type": "display_data"
    },
    {
     "data": {
      "application/vnd.jupyter.widget-view+json": {
       "model_id": "3ab4c9752e1345878537556bdbf465ce",
       "version_major": 2,
       "version_minor": 0
      },
      "text/plain": [
       "Validation: 0it [00:00, ?it/s]"
      ]
     },
     "metadata": {},
     "output_type": "display_data"
    },
    {
     "name": "stderr",
     "output_type": "stream",
     "text": [
      "`Trainer.fit` stopped: `max_epochs=5` reached.\n",
      "Restoring states from the checkpoint path at c:\\Users\\w10\\Desktop\\BMA\\UPV\\tia\\algoritmos_geneticos\\notebooks\\lightning_logs\\version_420\\checkpoints\\epoch=4-step=150.ckpt\n",
      "Loaded model weights from the checkpoint at c:\\Users\\w10\\Desktop\\BMA\\UPV\\tia\\algoritmos_geneticos\\notebooks\\lightning_logs\\version_420\\checkpoints\\epoch=4-step=150.ckpt\n"
     ]
    },
    {
     "data": {
      "application/vnd.jupyter.widget-view+json": {
       "model_id": "289ab6685fd6441486901ac7469ad060",
       "version_major": 2,
       "version_minor": 0
      },
      "text/plain": [
       "Testing: 0it [00:00, ?it/s]"
      ]
     },
     "metadata": {},
     "output_type": "display_data"
    },
    {
     "data": {
      "text/html": [
       "<pre style=\"white-space:pre;overflow-x:auto;line-height:normal;font-family:Menlo,'DejaVu Sans Mono',consolas,'Courier New',monospace\">┏━━━━━━━━━━━━━━━━━━━━━━━━━━━┳━━━━━━━━━━━━━━━━━━━━━━━━━━━┓\n",
       "┃<span style=\"font-weight: bold\">        Test metric        </span>┃<span style=\"font-weight: bold\">       DataLoader 0        </span>┃\n",
       "┡━━━━━━━━━━━━━━━━━━━━━━━━━━━╇━━━━━━━━━━━━━━━━━━━━━━━━━━━┩\n",
       "│<span style=\"color: #008080; text-decoration-color: #008080\">         test_loss         </span>│<span style=\"color: #800080; text-decoration-color: #800080\">    0.7823433876037598     </span>│\n",
       "└───────────────────────────┴───────────────────────────┘\n",
       "</pre>\n"
      ],
      "text/plain": [
       "┏━━━━━━━━━━━━━━━━━━━━━━━━━━━┳━━━━━━━━━━━━━━━━━━━━━━━━━━━┓\n",
       "┃\u001b[1m \u001b[0m\u001b[1m       Test metric       \u001b[0m\u001b[1m \u001b[0m┃\u001b[1m \u001b[0m\u001b[1m      DataLoader 0       \u001b[0m\u001b[1m \u001b[0m┃\n",
       "┡━━━━━━━━━━━━━━━━━━━━━━━━━━━╇━━━━━━━━━━━━━━━━━━━━━━━━━━━┩\n",
       "│\u001b[36m \u001b[0m\u001b[36m        test_loss        \u001b[0m\u001b[36m \u001b[0m│\u001b[35m \u001b[0m\u001b[35m   0.7823433876037598    \u001b[0m\u001b[35m \u001b[0m│\n",
       "└───────────────────────────┴───────────────────────────┘\n"
      ]
     },
     "metadata": {},
     "output_type": "display_data"
    },
    {
     "name": "stderr",
     "output_type": "stream",
     "text": [
      "GPU available: False, used: False\n",
      "TPU available: False, using: 0 TPU cores\n",
      "IPU available: False, using: 0 IPUs\n",
      "HPU available: False, using: 0 HPUs\n"
     ]
    },
    {
     "name": "stdout",
     "output_type": "stream",
     "text": [
      "{'a_include_BN': False, 'a_include_bias': True, 'activation_type': ReLU(), 'b_include_BN': True, 'b_include_bias': True, 'pool_type': MaxPool2d(kernel_size=2, stride=2, padding=0, dilation=1, ceil_mode=False), 'learning_rate': 0.1, 'dropout_range_a': 0.3, 'dropout_range_b': 0.3}\n"
     ]
    },
    {
     "name": "stderr",
     "output_type": "stream",
     "text": [
      "\n",
      "   | Name                 | Type        | Params\n",
      "------------------------------------------------------\n",
      "0  | model                | MyModel     | 7.1 K \n",
      "1  | pre_layers           | Sequential  | 4.6 K \n",
      "2  | cnn1                 | Conv2d      | 16.4 K\n",
      "3  | batch_norm_a         | BatchNorm2d | 128   \n",
      "4  | dropout_1            | Dropout     | 0     \n",
      "5  | funcion_activacion_a | ReLU        | 0     \n",
      "6  | cnn2                 | Conv2d      | 65.6 K\n",
      "7  | batch_norm_b         | BatchNorm2d | 128   \n",
      "8  | dropout_2            | Dropout     | 0     \n",
      "9  | pool2                | MaxPool2d   | 0     \n",
      "10 | fc1                  | Linear      | 10.2 K\n",
      "------------------------------------------------------\n",
      "92.6 K    Trainable params\n",
      "7.1 K     Non-trainable params\n",
      "99.7 K    Total params\n",
      "0.399     Total estimated model params size (MB)\n"
     ]
    },
    {
     "data": {
      "application/vnd.jupyter.widget-view+json": {
       "model_id": "f8aefe5461c44ccf8d0aef7dd39e7a38",
       "version_major": 2,
       "version_minor": 0
      },
      "text/plain": [
       "Sanity Checking: 0it [00:00, ?it/s]"
      ]
     },
     "metadata": {},
     "output_type": "display_data"
    },
    {
     "data": {
      "application/vnd.jupyter.widget-view+json": {
       "model_id": "0f38eaebd8284bcd9c552b23a5fee87e",
       "version_major": 2,
       "version_minor": 0
      },
      "text/plain": [
       "Training: 0it [00:00, ?it/s]"
      ]
     },
     "metadata": {},
     "output_type": "display_data"
    },
    {
     "data": {
      "application/vnd.jupyter.widget-view+json": {
       "model_id": "cfadf7efdd6649369c87b24931f1de13",
       "version_major": 2,
       "version_minor": 0
      },
      "text/plain": [
       "Validation: 0it [00:00, ?it/s]"
      ]
     },
     "metadata": {},
     "output_type": "display_data"
    },
    {
     "data": {
      "application/vnd.jupyter.widget-view+json": {
       "model_id": "0115e5c736214695b14d6d66051e2224",
       "version_major": 2,
       "version_minor": 0
      },
      "text/plain": [
       "Validation: 0it [00:00, ?it/s]"
      ]
     },
     "metadata": {},
     "output_type": "display_data"
    },
    {
     "data": {
      "application/vnd.jupyter.widget-view+json": {
       "model_id": "40b9978b800b485a824137c972637428",
       "version_major": 2,
       "version_minor": 0
      },
      "text/plain": [
       "Validation: 0it [00:00, ?it/s]"
      ]
     },
     "metadata": {},
     "output_type": "display_data"
    },
    {
     "data": {
      "application/vnd.jupyter.widget-view+json": {
       "model_id": "680f8993a1fc4db6a190e1949a14fba9",
       "version_major": 2,
       "version_minor": 0
      },
      "text/plain": [
       "Validation: 0it [00:00, ?it/s]"
      ]
     },
     "metadata": {},
     "output_type": "display_data"
    },
    {
     "data": {
      "application/vnd.jupyter.widget-view+json": {
       "model_id": "497d88fc709d484d944529e3ec574692",
       "version_major": 2,
       "version_minor": 0
      },
      "text/plain": [
       "Validation: 0it [00:00, ?it/s]"
      ]
     },
     "metadata": {},
     "output_type": "display_data"
    },
    {
     "name": "stderr",
     "output_type": "stream",
     "text": [
      "`Trainer.fit` stopped: `max_epochs=5` reached.\n",
      "Restoring states from the checkpoint path at c:\\Users\\w10\\Desktop\\BMA\\UPV\\tia\\algoritmos_geneticos\\notebooks\\lightning_logs\\version_421\\checkpoints\\epoch=4-step=150.ckpt\n",
      "Loaded model weights from the checkpoint at c:\\Users\\w10\\Desktop\\BMA\\UPV\\tia\\algoritmos_geneticos\\notebooks\\lightning_logs\\version_421\\checkpoints\\epoch=4-step=150.ckpt\n"
     ]
    },
    {
     "data": {
      "application/vnd.jupyter.widget-view+json": {
       "model_id": "1962d3a2710a4a27a797b6dffaf83b70",
       "version_major": 2,
       "version_minor": 0
      },
      "text/plain": [
       "Testing: 0it [00:00, ?it/s]"
      ]
     },
     "metadata": {},
     "output_type": "display_data"
    },
    {
     "data": {
      "text/html": [
       "<pre style=\"white-space:pre;overflow-x:auto;line-height:normal;font-family:Menlo,'DejaVu Sans Mono',consolas,'Courier New',monospace\">┏━━━━━━━━━━━━━━━━━━━━━━━━━━━┳━━━━━━━━━━━━━━━━━━━━━━━━━━━┓\n",
       "┃<span style=\"font-weight: bold\">        Test metric        </span>┃<span style=\"font-weight: bold\">       DataLoader 0        </span>┃\n",
       "┡━━━━━━━━━━━━━━━━━━━━━━━━━━━╇━━━━━━━━━━━━━━━━━━━━━━━━━━━┩\n",
       "│<span style=\"color: #008080; text-decoration-color: #008080\">         test_loss         </span>│<span style=\"color: #800080; text-decoration-color: #800080\">     0.860014021396637     </span>│\n",
       "└───────────────────────────┴───────────────────────────┘\n",
       "</pre>\n"
      ],
      "text/plain": [
       "┏━━━━━━━━━━━━━━━━━━━━━━━━━━━┳━━━━━━━━━━━━━━━━━━━━━━━━━━━┓\n",
       "┃\u001b[1m \u001b[0m\u001b[1m       Test metric       \u001b[0m\u001b[1m \u001b[0m┃\u001b[1m \u001b[0m\u001b[1m      DataLoader 0       \u001b[0m\u001b[1m \u001b[0m┃\n",
       "┡━━━━━━━━━━━━━━━━━━━━━━━━━━━╇━━━━━━━━━━━━━━━━━━━━━━━━━━━┩\n",
       "│\u001b[36m \u001b[0m\u001b[36m        test_loss        \u001b[0m\u001b[36m \u001b[0m│\u001b[35m \u001b[0m\u001b[35m    0.860014021396637    \u001b[0m\u001b[35m \u001b[0m│\n",
       "└───────────────────────────┴───────────────────────────┘\n"
      ]
     },
     "metadata": {},
     "output_type": "display_data"
    },
    {
     "name": "stderr",
     "output_type": "stream",
     "text": [
      "GPU available: False, used: False\n",
      "TPU available: False, using: 0 TPU cores\n",
      "IPU available: False, using: 0 IPUs\n",
      "HPU available: False, using: 0 HPUs\n"
     ]
    },
    {
     "name": "stdout",
     "output_type": "stream",
     "text": [
      "{'a_include_BN': False, 'a_include_bias': True, 'activation_type': ReLU(), 'b_include_BN': True, 'b_include_bias': True, 'pool_type': MaxPool2d(kernel_size=2, stride=2, padding=0, dilation=1, ceil_mode=False), 'learning_rate': 0.1, 'dropout_range_a': 0.2, 'dropout_range_b': 0.3}\n"
     ]
    },
    {
     "name": "stderr",
     "output_type": "stream",
     "text": [
      "\n",
      "   | Name                 | Type        | Params\n",
      "------------------------------------------------------\n",
      "0  | model                | MyModel     | 7.1 K \n",
      "1  | pre_layers           | Sequential  | 4.6 K \n",
      "2  | cnn1                 | Conv2d      | 16.4 K\n",
      "3  | batch_norm_a         | BatchNorm2d | 128   \n",
      "4  | dropout_1            | Dropout     | 0     \n",
      "5  | funcion_activacion_a | ReLU        | 0     \n",
      "6  | cnn2                 | Conv2d      | 65.6 K\n",
      "7  | batch_norm_b         | BatchNorm2d | 128   \n",
      "8  | dropout_2            | Dropout     | 0     \n",
      "9  | pool2                | MaxPool2d   | 0     \n",
      "10 | fc1                  | Linear      | 10.2 K\n",
      "------------------------------------------------------\n",
      "92.6 K    Trainable params\n",
      "7.1 K     Non-trainable params\n",
      "99.7 K    Total params\n",
      "0.399     Total estimated model params size (MB)\n"
     ]
    },
    {
     "data": {
      "application/vnd.jupyter.widget-view+json": {
       "model_id": "6322492362c049d3ac74eb2ea7c4bce4",
       "version_major": 2,
       "version_minor": 0
      },
      "text/plain": [
       "Sanity Checking: 0it [00:00, ?it/s]"
      ]
     },
     "metadata": {},
     "output_type": "display_data"
    },
    {
     "data": {
      "application/vnd.jupyter.widget-view+json": {
       "model_id": "01b8bdaea5e744fdac009659c30c84f3",
       "version_major": 2,
       "version_minor": 0
      },
      "text/plain": [
       "Training: 0it [00:00, ?it/s]"
      ]
     },
     "metadata": {},
     "output_type": "display_data"
    },
    {
     "data": {
      "application/vnd.jupyter.widget-view+json": {
       "model_id": "862bc189b4bd4c0a9cfd303a7c7bc89a",
       "version_major": 2,
       "version_minor": 0
      },
      "text/plain": [
       "Validation: 0it [00:00, ?it/s]"
      ]
     },
     "metadata": {},
     "output_type": "display_data"
    },
    {
     "data": {
      "application/vnd.jupyter.widget-view+json": {
       "model_id": "bba50c442d1a45539bace823978e434d",
       "version_major": 2,
       "version_minor": 0
      },
      "text/plain": [
       "Validation: 0it [00:00, ?it/s]"
      ]
     },
     "metadata": {},
     "output_type": "display_data"
    },
    {
     "data": {
      "application/vnd.jupyter.widget-view+json": {
       "model_id": "4af8793494fb428bb87786efc39a150d",
       "version_major": 2,
       "version_minor": 0
      },
      "text/plain": [
       "Validation: 0it [00:00, ?it/s]"
      ]
     },
     "metadata": {},
     "output_type": "display_data"
    },
    {
     "data": {
      "application/vnd.jupyter.widget-view+json": {
       "model_id": "66a37a2cd44240ed85131cbb6ad3db0b",
       "version_major": 2,
       "version_minor": 0
      },
      "text/plain": [
       "Validation: 0it [00:00, ?it/s]"
      ]
     },
     "metadata": {},
     "output_type": "display_data"
    },
    {
     "data": {
      "application/vnd.jupyter.widget-view+json": {
       "model_id": "e5757c97362c4c55a627e4fa8f62b35a",
       "version_major": 2,
       "version_minor": 0
      },
      "text/plain": [
       "Validation: 0it [00:00, ?it/s]"
      ]
     },
     "metadata": {},
     "output_type": "display_data"
    },
    {
     "name": "stderr",
     "output_type": "stream",
     "text": [
      "`Trainer.fit` stopped: `max_epochs=5` reached.\n",
      "Restoring states from the checkpoint path at c:\\Users\\w10\\Desktop\\BMA\\UPV\\tia\\algoritmos_geneticos\\notebooks\\lightning_logs\\version_422\\checkpoints\\epoch=4-step=150.ckpt\n",
      "Loaded model weights from the checkpoint at c:\\Users\\w10\\Desktop\\BMA\\UPV\\tia\\algoritmos_geneticos\\notebooks\\lightning_logs\\version_422\\checkpoints\\epoch=4-step=150.ckpt\n"
     ]
    },
    {
     "data": {
      "application/vnd.jupyter.widget-view+json": {
       "model_id": "9e681dbbbc8b49f8a2d0fc302d5f9350",
       "version_major": 2,
       "version_minor": 0
      },
      "text/plain": [
       "Testing: 0it [00:00, ?it/s]"
      ]
     },
     "metadata": {},
     "output_type": "display_data"
    },
    {
     "data": {
      "text/html": [
       "<pre style=\"white-space:pre;overflow-x:auto;line-height:normal;font-family:Menlo,'DejaVu Sans Mono',consolas,'Courier New',monospace\">┏━━━━━━━━━━━━━━━━━━━━━━━━━━━┳━━━━━━━━━━━━━━━━━━━━━━━━━━━┓\n",
       "┃<span style=\"font-weight: bold\">        Test metric        </span>┃<span style=\"font-weight: bold\">       DataLoader 0        </span>┃\n",
       "┡━━━━━━━━━━━━━━━━━━━━━━━━━━━╇━━━━━━━━━━━━━━━━━━━━━━━━━━━┩\n",
       "│<span style=\"color: #008080; text-decoration-color: #008080\">         test_loss         </span>│<span style=\"color: #800080; text-decoration-color: #800080\">    0.7697534561157227     </span>│\n",
       "└───────────────────────────┴───────────────────────────┘\n",
       "</pre>\n"
      ],
      "text/plain": [
       "┏━━━━━━━━━━━━━━━━━━━━━━━━━━━┳━━━━━━━━━━━━━━━━━━━━━━━━━━━┓\n",
       "┃\u001b[1m \u001b[0m\u001b[1m       Test metric       \u001b[0m\u001b[1m \u001b[0m┃\u001b[1m \u001b[0m\u001b[1m      DataLoader 0       \u001b[0m\u001b[1m \u001b[0m┃\n",
       "┡━━━━━━━━━━━━━━━━━━━━━━━━━━━╇━━━━━━━━━━━━━━━━━━━━━━━━━━━┩\n",
       "│\u001b[36m \u001b[0m\u001b[36m        test_loss        \u001b[0m\u001b[36m \u001b[0m│\u001b[35m \u001b[0m\u001b[35m   0.7697534561157227    \u001b[0m\u001b[35m \u001b[0m│\n",
       "└───────────────────────────┴───────────────────────────┘\n"
      ]
     },
     "metadata": {},
     "output_type": "display_data"
    },
    {
     "name": "stderr",
     "output_type": "stream",
     "text": [
      "GPU available: False, used: False\n",
      "TPU available: False, using: 0 TPU cores\n",
      "IPU available: False, using: 0 IPUs\n",
      "HPU available: False, using: 0 HPUs\n"
     ]
    },
    {
     "name": "stdout",
     "output_type": "stream",
     "text": [
      "{'a_include_BN': False, 'a_include_bias': True, 'activation_type': ReLU(), 'b_include_BN': True, 'b_include_bias': True, 'pool_type': MaxPool2d(kernel_size=2, stride=2, padding=0, dilation=1, ceil_mode=False), 'learning_rate': 0.1, 'dropout_range_a': 0.2, 'dropout_range_b': 0.3}\n"
     ]
    },
    {
     "name": "stderr",
     "output_type": "stream",
     "text": [
      "\n",
      "   | Name                 | Type        | Params\n",
      "------------------------------------------------------\n",
      "0  | model                | MyModel     | 7.1 K \n",
      "1  | pre_layers           | Sequential  | 4.6 K \n",
      "2  | cnn1                 | Conv2d      | 16.4 K\n",
      "3  | batch_norm_a         | BatchNorm2d | 128   \n",
      "4  | dropout_1            | Dropout     | 0     \n",
      "5  | funcion_activacion_a | ReLU        | 0     \n",
      "6  | cnn2                 | Conv2d      | 65.6 K\n",
      "7  | batch_norm_b         | BatchNorm2d | 128   \n",
      "8  | dropout_2            | Dropout     | 0     \n",
      "9  | pool2                | MaxPool2d   | 0     \n",
      "10 | fc1                  | Linear      | 10.2 K\n",
      "------------------------------------------------------\n",
      "92.6 K    Trainable params\n",
      "7.1 K     Non-trainable params\n",
      "99.7 K    Total params\n",
      "0.399     Total estimated model params size (MB)\n"
     ]
    },
    {
     "data": {
      "application/vnd.jupyter.widget-view+json": {
       "model_id": "48031088f3824a4ab6c863bad1a5c8c5",
       "version_major": 2,
       "version_minor": 0
      },
      "text/plain": [
       "Sanity Checking: 0it [00:00, ?it/s]"
      ]
     },
     "metadata": {},
     "output_type": "display_data"
    },
    {
     "data": {
      "application/vnd.jupyter.widget-view+json": {
       "model_id": "3a7fa2c5658b4cb4af491d6e5ab1a676",
       "version_major": 2,
       "version_minor": 0
      },
      "text/plain": [
       "Training: 0it [00:00, ?it/s]"
      ]
     },
     "metadata": {},
     "output_type": "display_data"
    },
    {
     "data": {
      "application/vnd.jupyter.widget-view+json": {
       "model_id": "ab77bf7b855849b3b4fa1d6e176ee8eb",
       "version_major": 2,
       "version_minor": 0
      },
      "text/plain": [
       "Validation: 0it [00:00, ?it/s]"
      ]
     },
     "metadata": {},
     "output_type": "display_data"
    },
    {
     "data": {
      "application/vnd.jupyter.widget-view+json": {
       "model_id": "bc5aacd9cbf04c47a81bb802cfb6f0de",
       "version_major": 2,
       "version_minor": 0
      },
      "text/plain": [
       "Validation: 0it [00:00, ?it/s]"
      ]
     },
     "metadata": {},
     "output_type": "display_data"
    },
    {
     "data": {
      "application/vnd.jupyter.widget-view+json": {
       "model_id": "29039db483f348e78d38bdc0e3afcc9a",
       "version_major": 2,
       "version_minor": 0
      },
      "text/plain": [
       "Validation: 0it [00:00, ?it/s]"
      ]
     },
     "metadata": {},
     "output_type": "display_data"
    },
    {
     "data": {
      "application/vnd.jupyter.widget-view+json": {
       "model_id": "67cbf72531974ec1ad55e508e55d9c3a",
       "version_major": 2,
       "version_minor": 0
      },
      "text/plain": [
       "Validation: 0it [00:00, ?it/s]"
      ]
     },
     "metadata": {},
     "output_type": "display_data"
    },
    {
     "data": {
      "application/vnd.jupyter.widget-view+json": {
       "model_id": "fd18be5d2dc34db38a67d586c16c4fb3",
       "version_major": 2,
       "version_minor": 0
      },
      "text/plain": [
       "Validation: 0it [00:00, ?it/s]"
      ]
     },
     "metadata": {},
     "output_type": "display_data"
    },
    {
     "name": "stderr",
     "output_type": "stream",
     "text": [
      "`Trainer.fit` stopped: `max_epochs=5` reached.\n",
      "Restoring states from the checkpoint path at c:\\Users\\w10\\Desktop\\BMA\\UPV\\tia\\algoritmos_geneticos\\notebooks\\lightning_logs\\version_423\\checkpoints\\epoch=4-step=150.ckpt\n",
      "Loaded model weights from the checkpoint at c:\\Users\\w10\\Desktop\\BMA\\UPV\\tia\\algoritmos_geneticos\\notebooks\\lightning_logs\\version_423\\checkpoints\\epoch=4-step=150.ckpt\n"
     ]
    },
    {
     "data": {
      "application/vnd.jupyter.widget-view+json": {
       "model_id": "1622d490c98a4539872818970bced081",
       "version_major": 2,
       "version_minor": 0
      },
      "text/plain": [
       "Testing: 0it [00:00, ?it/s]"
      ]
     },
     "metadata": {},
     "output_type": "display_data"
    },
    {
     "data": {
      "text/html": [
       "<pre style=\"white-space:pre;overflow-x:auto;line-height:normal;font-family:Menlo,'DejaVu Sans Mono',consolas,'Courier New',monospace\">┏━━━━━━━━━━━━━━━━━━━━━━━━━━━┳━━━━━━━━━━━━━━━━━━━━━━━━━━━┓\n",
       "┃<span style=\"font-weight: bold\">        Test metric        </span>┃<span style=\"font-weight: bold\">       DataLoader 0        </span>┃\n",
       "┡━━━━━━━━━━━━━━━━━━━━━━━━━━━╇━━━━━━━━━━━━━━━━━━━━━━━━━━━┩\n",
       "│<span style=\"color: #008080; text-decoration-color: #008080\">         test_loss         </span>│<span style=\"color: #800080; text-decoration-color: #800080\">     0.812298595905304     </span>│\n",
       "└───────────────────────────┴───────────────────────────┘\n",
       "</pre>\n"
      ],
      "text/plain": [
       "┏━━━━━━━━━━━━━━━━━━━━━━━━━━━┳━━━━━━━━━━━━━━━━━━━━━━━━━━━┓\n",
       "┃\u001b[1m \u001b[0m\u001b[1m       Test metric       \u001b[0m\u001b[1m \u001b[0m┃\u001b[1m \u001b[0m\u001b[1m      DataLoader 0       \u001b[0m\u001b[1m \u001b[0m┃\n",
       "┡━━━━━━━━━━━━━━━━━━━━━━━━━━━╇━━━━━━━━━━━━━━━━━━━━━━━━━━━┩\n",
       "│\u001b[36m \u001b[0m\u001b[36m        test_loss        \u001b[0m\u001b[36m \u001b[0m│\u001b[35m \u001b[0m\u001b[35m    0.812298595905304    \u001b[0m\u001b[35m \u001b[0m│\n",
       "└───────────────────────────┴───────────────────────────┘\n"
      ]
     },
     "metadata": {},
     "output_type": "display_data"
    },
    {
     "name": "stderr",
     "output_type": "stream",
     "text": [
      "GPU available: False, used: False\n",
      "TPU available: False, using: 0 TPU cores\n",
      "IPU available: False, using: 0 IPUs\n",
      "HPU available: False, using: 0 HPUs\n"
     ]
    },
    {
     "name": "stdout",
     "output_type": "stream",
     "text": [
      "{'a_include_BN': False, 'a_include_bias': True, 'activation_type': ReLU(), 'b_include_BN': True, 'b_include_bias': True, 'pool_type': MaxPool2d(kernel_size=2, stride=2, padding=0, dilation=1, ceil_mode=False), 'learning_rate': 0.1, 'dropout_range_a': 0.2, 'dropout_range_b': 0.3}\n"
     ]
    },
    {
     "name": "stderr",
     "output_type": "stream",
     "text": [
      "\n",
      "   | Name                 | Type        | Params\n",
      "------------------------------------------------------\n",
      "0  | model                | MyModel     | 7.1 K \n",
      "1  | pre_layers           | Sequential  | 4.6 K \n",
      "2  | cnn1                 | Conv2d      | 16.4 K\n",
      "3  | batch_norm_a         | BatchNorm2d | 128   \n",
      "4  | dropout_1            | Dropout     | 0     \n",
      "5  | funcion_activacion_a | ReLU        | 0     \n",
      "6  | cnn2                 | Conv2d      | 65.6 K\n",
      "7  | batch_norm_b         | BatchNorm2d | 128   \n",
      "8  | dropout_2            | Dropout     | 0     \n",
      "9  | pool2                | MaxPool2d   | 0     \n",
      "10 | fc1                  | Linear      | 10.2 K\n",
      "------------------------------------------------------\n",
      "92.6 K    Trainable params\n",
      "7.1 K     Non-trainable params\n",
      "99.7 K    Total params\n",
      "0.399     Total estimated model params size (MB)\n"
     ]
    },
    {
     "data": {
      "application/vnd.jupyter.widget-view+json": {
       "model_id": "c7141c876dcc43a0b1ad0e1e6536158d",
       "version_major": 2,
       "version_minor": 0
      },
      "text/plain": [
       "Sanity Checking: 0it [00:00, ?it/s]"
      ]
     },
     "metadata": {},
     "output_type": "display_data"
    },
    {
     "data": {
      "application/vnd.jupyter.widget-view+json": {
       "model_id": "ccb0c15c112a45cd9fcc02d7965e425e",
       "version_major": 2,
       "version_minor": 0
      },
      "text/plain": [
       "Training: 0it [00:00, ?it/s]"
      ]
     },
     "metadata": {},
     "output_type": "display_data"
    },
    {
     "data": {
      "application/vnd.jupyter.widget-view+json": {
       "model_id": "8e34fe38b5004f0b959fffbc1dde99fd",
       "version_major": 2,
       "version_minor": 0
      },
      "text/plain": [
       "Validation: 0it [00:00, ?it/s]"
      ]
     },
     "metadata": {},
     "output_type": "display_data"
    },
    {
     "data": {
      "application/vnd.jupyter.widget-view+json": {
       "model_id": "e72ae6501afb4101a027360a8e0d3dc5",
       "version_major": 2,
       "version_minor": 0
      },
      "text/plain": [
       "Validation: 0it [00:00, ?it/s]"
      ]
     },
     "metadata": {},
     "output_type": "display_data"
    },
    {
     "data": {
      "application/vnd.jupyter.widget-view+json": {
       "model_id": "790aa8bfb4c64f0aaa9fa13e5ac49792",
       "version_major": 2,
       "version_minor": 0
      },
      "text/plain": [
       "Validation: 0it [00:00, ?it/s]"
      ]
     },
     "metadata": {},
     "output_type": "display_data"
    },
    {
     "data": {
      "application/vnd.jupyter.widget-view+json": {
       "model_id": "bfd4ecc6bed949dfaae3df44afa67c55",
       "version_major": 2,
       "version_minor": 0
      },
      "text/plain": [
       "Validation: 0it [00:00, ?it/s]"
      ]
     },
     "metadata": {},
     "output_type": "display_data"
    },
    {
     "data": {
      "application/vnd.jupyter.widget-view+json": {
       "model_id": "3e0d3b25a0cb4bc185a9823694c2ede6",
       "version_major": 2,
       "version_minor": 0
      },
      "text/plain": [
       "Validation: 0it [00:00, ?it/s]"
      ]
     },
     "metadata": {},
     "output_type": "display_data"
    },
    {
     "name": "stderr",
     "output_type": "stream",
     "text": [
      "`Trainer.fit` stopped: `max_epochs=5` reached.\n",
      "Restoring states from the checkpoint path at c:\\Users\\w10\\Desktop\\BMA\\UPV\\tia\\algoritmos_geneticos\\notebooks\\lightning_logs\\version_424\\checkpoints\\epoch=4-step=150.ckpt\n",
      "Loaded model weights from the checkpoint at c:\\Users\\w10\\Desktop\\BMA\\UPV\\tia\\algoritmos_geneticos\\notebooks\\lightning_logs\\version_424\\checkpoints\\epoch=4-step=150.ckpt\n"
     ]
    },
    {
     "data": {
      "application/vnd.jupyter.widget-view+json": {
       "model_id": "263abc70b48d41eb80511ea696e8e635",
       "version_major": 2,
       "version_minor": 0
      },
      "text/plain": [
       "Testing: 0it [00:00, ?it/s]"
      ]
     },
     "metadata": {},
     "output_type": "display_data"
    },
    {
     "data": {
      "text/html": [
       "<pre style=\"white-space:pre;overflow-x:auto;line-height:normal;font-family:Menlo,'DejaVu Sans Mono',consolas,'Courier New',monospace\">┏━━━━━━━━━━━━━━━━━━━━━━━━━━━┳━━━━━━━━━━━━━━━━━━━━━━━━━━━┓\n",
       "┃<span style=\"font-weight: bold\">        Test metric        </span>┃<span style=\"font-weight: bold\">       DataLoader 0        </span>┃\n",
       "┡━━━━━━━━━━━━━━━━━━━━━━━━━━━╇━━━━━━━━━━━━━━━━━━━━━━━━━━━┩\n",
       "│<span style=\"color: #008080; text-decoration-color: #008080\">         test_loss         </span>│<span style=\"color: #800080; text-decoration-color: #800080\">    0.7320005297660828     </span>│\n",
       "└───────────────────────────┴───────────────────────────┘\n",
       "</pre>\n"
      ],
      "text/plain": [
       "┏━━━━━━━━━━━━━━━━━━━━━━━━━━━┳━━━━━━━━━━━━━━━━━━━━━━━━━━━┓\n",
       "┃\u001b[1m \u001b[0m\u001b[1m       Test metric       \u001b[0m\u001b[1m \u001b[0m┃\u001b[1m \u001b[0m\u001b[1m      DataLoader 0       \u001b[0m\u001b[1m \u001b[0m┃\n",
       "┡━━━━━━━━━━━━━━━━━━━━━━━━━━━╇━━━━━━━━━━━━━━━━━━━━━━━━━━━┩\n",
       "│\u001b[36m \u001b[0m\u001b[36m        test_loss        \u001b[0m\u001b[36m \u001b[0m│\u001b[35m \u001b[0m\u001b[35m   0.7320005297660828    \u001b[0m\u001b[35m \u001b[0m│\n",
       "└───────────────────────────┴───────────────────────────┘\n"
      ]
     },
     "metadata": {},
     "output_type": "display_data"
    },
    {
     "name": "stderr",
     "output_type": "stream",
     "text": [
      "GPU available: False, used: False\n",
      "TPU available: False, using: 0 TPU cores\n",
      "IPU available: False, using: 0 IPUs\n",
      "HPU available: False, using: 0 HPUs\n"
     ]
    },
    {
     "name": "stdout",
     "output_type": "stream",
     "text": [
      "{'a_include_BN': False, 'a_include_bias': True, 'activation_type': ReLU(), 'b_include_BN': True, 'b_include_bias': True, 'pool_type': MaxPool2d(kernel_size=2, stride=2, padding=0, dilation=1, ceil_mode=False), 'learning_rate': 0.1, 'dropout_range_a': 0.2, 'dropout_range_b': 0.3}\n"
     ]
    },
    {
     "name": "stderr",
     "output_type": "stream",
     "text": [
      "\n",
      "   | Name                 | Type        | Params\n",
      "------------------------------------------------------\n",
      "0  | model                | MyModel     | 7.1 K \n",
      "1  | pre_layers           | Sequential  | 4.6 K \n",
      "2  | cnn1                 | Conv2d      | 16.4 K\n",
      "3  | batch_norm_a         | BatchNorm2d | 128   \n",
      "4  | dropout_1            | Dropout     | 0     \n",
      "5  | funcion_activacion_a | ReLU        | 0     \n",
      "6  | cnn2                 | Conv2d      | 65.6 K\n",
      "7  | batch_norm_b         | BatchNorm2d | 128   \n",
      "8  | dropout_2            | Dropout     | 0     \n",
      "9  | pool2                | MaxPool2d   | 0     \n",
      "10 | fc1                  | Linear      | 10.2 K\n",
      "------------------------------------------------------\n",
      "92.6 K    Trainable params\n",
      "7.1 K     Non-trainable params\n",
      "99.7 K    Total params\n",
      "0.399     Total estimated model params size (MB)\n"
     ]
    },
    {
     "data": {
      "application/vnd.jupyter.widget-view+json": {
       "model_id": "a7dc16258a6b4f0c86a40c7e5ad117c0",
       "version_major": 2,
       "version_minor": 0
      },
      "text/plain": [
       "Sanity Checking: 0it [00:00, ?it/s]"
      ]
     },
     "metadata": {},
     "output_type": "display_data"
    },
    {
     "data": {
      "application/vnd.jupyter.widget-view+json": {
       "model_id": "3cda57ce86b74cb0bd6b74be9ed002d6",
       "version_major": 2,
       "version_minor": 0
      },
      "text/plain": [
       "Training: 0it [00:00, ?it/s]"
      ]
     },
     "metadata": {},
     "output_type": "display_data"
    },
    {
     "data": {
      "application/vnd.jupyter.widget-view+json": {
       "model_id": "93a2e29f9b2942c999e228a8fc0a2f11",
       "version_major": 2,
       "version_minor": 0
      },
      "text/plain": [
       "Validation: 0it [00:00, ?it/s]"
      ]
     },
     "metadata": {},
     "output_type": "display_data"
    },
    {
     "data": {
      "application/vnd.jupyter.widget-view+json": {
       "model_id": "969402146df845f1851cae0b0a183b06",
       "version_major": 2,
       "version_minor": 0
      },
      "text/plain": [
       "Validation: 0it [00:00, ?it/s]"
      ]
     },
     "metadata": {},
     "output_type": "display_data"
    },
    {
     "data": {
      "application/vnd.jupyter.widget-view+json": {
       "model_id": "3b86bce6b94c45a9823f8e95c7c4c9e4",
       "version_major": 2,
       "version_minor": 0
      },
      "text/plain": [
       "Validation: 0it [00:00, ?it/s]"
      ]
     },
     "metadata": {},
     "output_type": "display_data"
    },
    {
     "data": {
      "application/vnd.jupyter.widget-view+json": {
       "model_id": "4f4077baf0c74447ae786dd01806d0d0",
       "version_major": 2,
       "version_minor": 0
      },
      "text/plain": [
       "Validation: 0it [00:00, ?it/s]"
      ]
     },
     "metadata": {},
     "output_type": "display_data"
    },
    {
     "data": {
      "application/vnd.jupyter.widget-view+json": {
       "model_id": "fed0cea73de440cf908480f98eaef330",
       "version_major": 2,
       "version_minor": 0
      },
      "text/plain": [
       "Validation: 0it [00:00, ?it/s]"
      ]
     },
     "metadata": {},
     "output_type": "display_data"
    },
    {
     "name": "stderr",
     "output_type": "stream",
     "text": [
      "`Trainer.fit` stopped: `max_epochs=5` reached.\n",
      "Restoring states from the checkpoint path at c:\\Users\\w10\\Desktop\\BMA\\UPV\\tia\\algoritmos_geneticos\\notebooks\\lightning_logs\\version_425\\checkpoints\\epoch=4-step=150.ckpt\n",
      "Loaded model weights from the checkpoint at c:\\Users\\w10\\Desktop\\BMA\\UPV\\tia\\algoritmos_geneticos\\notebooks\\lightning_logs\\version_425\\checkpoints\\epoch=4-step=150.ckpt\n"
     ]
    },
    {
     "data": {
      "application/vnd.jupyter.widget-view+json": {
       "model_id": "6605332ba35d4651845efc7545b6ffb5",
       "version_major": 2,
       "version_minor": 0
      },
      "text/plain": [
       "Testing: 0it [00:00, ?it/s]"
      ]
     },
     "metadata": {},
     "output_type": "display_data"
    },
    {
     "data": {
      "text/html": [
       "<pre style=\"white-space:pre;overflow-x:auto;line-height:normal;font-family:Menlo,'DejaVu Sans Mono',consolas,'Courier New',monospace\">┏━━━━━━━━━━━━━━━━━━━━━━━━━━━┳━━━━━━━━━━━━━━━━━━━━━━━━━━━┓\n",
       "┃<span style=\"font-weight: bold\">        Test metric        </span>┃<span style=\"font-weight: bold\">       DataLoader 0        </span>┃\n",
       "┡━━━━━━━━━━━━━━━━━━━━━━━━━━━╇━━━━━━━━━━━━━━━━━━━━━━━━━━━┩\n",
       "│<span style=\"color: #008080; text-decoration-color: #008080\">         test_loss         </span>│<span style=\"color: #800080; text-decoration-color: #800080\">    0.7176664471626282     </span>│\n",
       "└───────────────────────────┴───────────────────────────┘\n",
       "</pre>\n"
      ],
      "text/plain": [
       "┏━━━━━━━━━━━━━━━━━━━━━━━━━━━┳━━━━━━━━━━━━━━━━━━━━━━━━━━━┓\n",
       "┃\u001b[1m \u001b[0m\u001b[1m       Test metric       \u001b[0m\u001b[1m \u001b[0m┃\u001b[1m \u001b[0m\u001b[1m      DataLoader 0       \u001b[0m\u001b[1m \u001b[0m┃\n",
       "┡━━━━━━━━━━━━━━━━━━━━━━━━━━━╇━━━━━━━━━━━━━━━━━━━━━━━━━━━┩\n",
       "│\u001b[36m \u001b[0m\u001b[36m        test_loss        \u001b[0m\u001b[36m \u001b[0m│\u001b[35m \u001b[0m\u001b[35m   0.7176664471626282    \u001b[0m\u001b[35m \u001b[0m│\n",
       "└───────────────────────────┴───────────────────────────┘\n"
      ]
     },
     "metadata": {},
     "output_type": "display_data"
    },
    {
     "name": "stderr",
     "output_type": "stream",
     "text": [
      "GPU available: False, used: False\n",
      "TPU available: False, using: 0 TPU cores\n",
      "IPU available: False, using: 0 IPUs\n",
      "HPU available: False, using: 0 HPUs\n"
     ]
    },
    {
     "name": "stdout",
     "output_type": "stream",
     "text": [
      "0.7176664471626282\n",
      "2\n"
     ]
    },
    {
     "name": "stderr",
     "output_type": "stream",
     "text": [
      "\n",
      "   | Name                 | Type        | Params\n",
      "------------------------------------------------------\n",
      "0  | model                | MyModel     | 99.7 K\n",
      "1  | pre_layers           | Sequential  | 86.9 K\n",
      "2  | cnn1                 | Conv2d      | 65.5 K\n",
      "3  | batch_norm_a         | BatchNorm2d | 128   \n",
      "4  | dropout_1            | Dropout     | 0     \n",
      "5  | funcion_activacion_a | SELU        | 0     \n",
      "6  | cnn2                 | Conv2d      | 65.5 K\n",
      "7  | batch_norm_b         | BatchNorm2d | 128   \n",
      "8  | dropout_2            | Dropout     | 0     \n",
      "9  | pool2                | AvgPool2d   | 0     \n",
      "10 | fc1                  | Linear      | 10.2 K\n",
      "------------------------------------------------------\n",
      "141 K     Trainable params\n",
      "99.7 K    Non-trainable params\n",
      "241 K     Total params\n",
      "0.965     Total estimated model params size (MB)\n"
     ]
    },
    {
     "data": {
      "application/vnd.jupyter.widget-view+json": {
       "model_id": "9bae7437f5024245b18160e2558b6f6c",
       "version_major": 2,
       "version_minor": 0
      },
      "text/plain": [
       "Sanity Checking: 0it [00:00, ?it/s]"
      ]
     },
     "metadata": {},
     "output_type": "display_data"
    },
    {
     "data": {
      "application/vnd.jupyter.widget-view+json": {
       "model_id": "5a8a6507dc2d41c8abc18b2b58fe7a18",
       "version_major": 2,
       "version_minor": 0
      },
      "text/plain": [
       "Training: 0it [00:00, ?it/s]"
      ]
     },
     "metadata": {},
     "output_type": "display_data"
    },
    {
     "data": {
      "application/vnd.jupyter.widget-view+json": {
       "model_id": "5d08ed3e9a1e4231bc8106bffad99c9b",
       "version_major": 2,
       "version_minor": 0
      },
      "text/plain": [
       "Validation: 0it [00:00, ?it/s]"
      ]
     },
     "metadata": {},
     "output_type": "display_data"
    },
    {
     "data": {
      "application/vnd.jupyter.widget-view+json": {
       "model_id": "6048fb3d682a4b3292e2d677b1a263f5",
       "version_major": 2,
       "version_minor": 0
      },
      "text/plain": [
       "Validation: 0it [00:00, ?it/s]"
      ]
     },
     "metadata": {},
     "output_type": "display_data"
    },
    {
     "data": {
      "application/vnd.jupyter.widget-view+json": {
       "model_id": "a86abed0796440e8bdcafa2d4d77f9ea",
       "version_major": 2,
       "version_minor": 0
      },
      "text/plain": [
       "Validation: 0it [00:00, ?it/s]"
      ]
     },
     "metadata": {},
     "output_type": "display_data"
    },
    {
     "data": {
      "application/vnd.jupyter.widget-view+json": {
       "model_id": "6214e8a337084cafb78a1ccddb4812c3",
       "version_major": 2,
       "version_minor": 0
      },
      "text/plain": [
       "Validation: 0it [00:00, ?it/s]"
      ]
     },
     "metadata": {},
     "output_type": "display_data"
    },
    {
     "data": {
      "application/vnd.jupyter.widget-view+json": {
       "model_id": "76d2ce0a41f1416e825f386c8a4296ee",
       "version_major": 2,
       "version_minor": 0
      },
      "text/plain": [
       "Validation: 0it [00:00, ?it/s]"
      ]
     },
     "metadata": {},
     "output_type": "display_data"
    },
    {
     "name": "stderr",
     "output_type": "stream",
     "text": [
      "`Trainer.fit` stopped: `max_epochs=5` reached.\n",
      "Restoring states from the checkpoint path at c:\\Users\\w10\\Desktop\\BMA\\UPV\\tia\\algoritmos_geneticos\\notebooks\\lightning_logs\\version_426\\checkpoints\\epoch=4-step=150.ckpt\n",
      "Loaded model weights from the checkpoint at c:\\Users\\w10\\Desktop\\BMA\\UPV\\tia\\algoritmos_geneticos\\notebooks\\lightning_logs\\version_426\\checkpoints\\epoch=4-step=150.ckpt\n"
     ]
    },
    {
     "data": {
      "application/vnd.jupyter.widget-view+json": {
       "model_id": "26488a7367cd4744acae0c87dd49e8b5",
       "version_major": 2,
       "version_minor": 0
      },
      "text/plain": [
       "Testing: 0it [00:00, ?it/s]"
      ]
     },
     "metadata": {},
     "output_type": "display_data"
    },
    {
     "data": {
      "text/html": [
       "<pre style=\"white-space:pre;overflow-x:auto;line-height:normal;font-family:Menlo,'DejaVu Sans Mono',consolas,'Courier New',monospace\">┏━━━━━━━━━━━━━━━━━━━━━━━━━━━┳━━━━━━━━━━━━━━━━━━━━━━━━━━━┓\n",
       "┃<span style=\"font-weight: bold\">        Test metric        </span>┃<span style=\"font-weight: bold\">       DataLoader 0        </span>┃\n",
       "┡━━━━━━━━━━━━━━━━━━━━━━━━━━━╇━━━━━━━━━━━━━━━━━━━━━━━━━━━┩\n",
       "│<span style=\"color: #008080; text-decoration-color: #008080\">         test_loss         </span>│<span style=\"color: #800080; text-decoration-color: #800080\">            nan            </span>│\n",
       "└───────────────────────────┴───────────────────────────┘\n",
       "</pre>\n"
      ],
      "text/plain": [
       "┏━━━━━━━━━━━━━━━━━━━━━━━━━━━┳━━━━━━━━━━━━━━━━━━━━━━━━━━━┓\n",
       "┃\u001b[1m \u001b[0m\u001b[1m       Test metric       \u001b[0m\u001b[1m \u001b[0m┃\u001b[1m \u001b[0m\u001b[1m      DataLoader 0       \u001b[0m\u001b[1m \u001b[0m┃\n",
       "┡━━━━━━━━━━━━━━━━━━━━━━━━━━━╇━━━━━━━━━━━━━━━━━━━━━━━━━━━┩\n",
       "│\u001b[36m \u001b[0m\u001b[36m        test_loss        \u001b[0m\u001b[36m \u001b[0m│\u001b[35m \u001b[0m\u001b[35m           nan           \u001b[0m\u001b[35m \u001b[0m│\n",
       "└───────────────────────────┴───────────────────────────┘\n"
      ]
     },
     "metadata": {},
     "output_type": "display_data"
    },
    {
     "name": "stderr",
     "output_type": "stream",
     "text": [
      "GPU available: False, used: False\n",
      "TPU available: False, using: 0 TPU cores\n",
      "IPU available: False, using: 0 IPUs\n",
      "HPU available: False, using: 0 HPUs\n",
      "\n",
      "   | Name                 | Type        | Params\n",
      "------------------------------------------------------\n",
      "0  | model                | MyModel     | 99.7 K\n",
      "1  | pre_layers           | Sequential  | 86.9 K\n",
      "2  | cnn1                 | Conv2d      | 65.5 K\n",
      "3  | batch_norm_a         | BatchNorm2d | 128   \n",
      "4  | dropout_1            | Dropout     | 0     \n",
      "5  | funcion_activacion_a | SELU        | 0     \n",
      "6  | cnn2                 | Conv2d      | 65.5 K\n",
      "7  | batch_norm_b         | BatchNorm2d | 128   \n",
      "8  | dropout_2            | Dropout     | 0     \n",
      "9  | pool2                | AvgPool2d   | 0     \n",
      "10 | fc1                  | Linear      | 10.2 K\n",
      "------------------------------------------------------\n",
      "141 K     Trainable params\n",
      "99.7 K    Non-trainable params\n",
      "241 K     Total params\n",
      "0.965     Total estimated model params size (MB)\n"
     ]
    },
    {
     "data": {
      "application/vnd.jupyter.widget-view+json": {
       "model_id": "76ed1e1a0a9141a0b09de3212443bfde",
       "version_major": 2,
       "version_minor": 0
      },
      "text/plain": [
       "Sanity Checking: 0it [00:00, ?it/s]"
      ]
     },
     "metadata": {},
     "output_type": "display_data"
    },
    {
     "data": {
      "application/vnd.jupyter.widget-view+json": {
       "model_id": "5b52114dc5eb48d6b2d7df11be99e542",
       "version_major": 2,
       "version_minor": 0
      },
      "text/plain": [
       "Training: 0it [00:00, ?it/s]"
      ]
     },
     "metadata": {},
     "output_type": "display_data"
    },
    {
     "data": {
      "application/vnd.jupyter.widget-view+json": {
       "model_id": "2f7b1902d9d94f6e8283ea644d6e1065",
       "version_major": 2,
       "version_minor": 0
      },
      "text/plain": [
       "Validation: 0it [00:00, ?it/s]"
      ]
     },
     "metadata": {},
     "output_type": "display_data"
    },
    {
     "data": {
      "application/vnd.jupyter.widget-view+json": {
       "model_id": "8456f0eb95b04747aafb004bf2cb8515",
       "version_major": 2,
       "version_minor": 0
      },
      "text/plain": [
       "Validation: 0it [00:00, ?it/s]"
      ]
     },
     "metadata": {},
     "output_type": "display_data"
    },
    {
     "data": {
      "application/vnd.jupyter.widget-view+json": {
       "model_id": "de17f01975464a2ab4e2cf61de2d5b1f",
       "version_major": 2,
       "version_minor": 0
      },
      "text/plain": [
       "Validation: 0it [00:00, ?it/s]"
      ]
     },
     "metadata": {},
     "output_type": "display_data"
    },
    {
     "data": {
      "application/vnd.jupyter.widget-view+json": {
       "model_id": "57fc5820a7b44859ab6b5adb6f450a73",
       "version_major": 2,
       "version_minor": 0
      },
      "text/plain": [
       "Validation: 0it [00:00, ?it/s]"
      ]
     },
     "metadata": {},
     "output_type": "display_data"
    },
    {
     "data": {
      "application/vnd.jupyter.widget-view+json": {
       "model_id": "645be4f62af2433f91b2e61c7718617f",
       "version_major": 2,
       "version_minor": 0
      },
      "text/plain": [
       "Validation: 0it [00:00, ?it/s]"
      ]
     },
     "metadata": {},
     "output_type": "display_data"
    },
    {
     "name": "stderr",
     "output_type": "stream",
     "text": [
      "`Trainer.fit` stopped: `max_epochs=5` reached.\n",
      "Restoring states from the checkpoint path at c:\\Users\\w10\\Desktop\\BMA\\UPV\\tia\\algoritmos_geneticos\\notebooks\\lightning_logs\\version_427\\checkpoints\\epoch=4-step=150.ckpt\n",
      "Loaded model weights from the checkpoint at c:\\Users\\w10\\Desktop\\BMA\\UPV\\tia\\algoritmos_geneticos\\notebooks\\lightning_logs\\version_427\\checkpoints\\epoch=4-step=150.ckpt\n"
     ]
    },
    {
     "data": {
      "application/vnd.jupyter.widget-view+json": {
       "model_id": "31a08b589fb64fc2993e64644a74543c",
       "version_major": 2,
       "version_minor": 0
      },
      "text/plain": [
       "Testing: 0it [00:00, ?it/s]"
      ]
     },
     "metadata": {},
     "output_type": "display_data"
    },
    {
     "data": {
      "text/html": [
       "<pre style=\"white-space:pre;overflow-x:auto;line-height:normal;font-family:Menlo,'DejaVu Sans Mono',consolas,'Courier New',monospace\">┏━━━━━━━━━━━━━━━━━━━━━━━━━━━┳━━━━━━━━━━━━━━━━━━━━━━━━━━━┓\n",
       "┃<span style=\"font-weight: bold\">        Test metric        </span>┃<span style=\"font-weight: bold\">       DataLoader 0        </span>┃\n",
       "┡━━━━━━━━━━━━━━━━━━━━━━━━━━━╇━━━━━━━━━━━━━━━━━━━━━━━━━━━┩\n",
       "│<span style=\"color: #008080; text-decoration-color: #008080\">         test_loss         </span>│<span style=\"color: #800080; text-decoration-color: #800080\">   2.722188926910464e+16   </span>│\n",
       "└───────────────────────────┴───────────────────────────┘\n",
       "</pre>\n"
      ],
      "text/plain": [
       "┏━━━━━━━━━━━━━━━━━━━━━━━━━━━┳━━━━━━━━━━━━━━━━━━━━━━━━━━━┓\n",
       "┃\u001b[1m \u001b[0m\u001b[1m       Test metric       \u001b[0m\u001b[1m \u001b[0m┃\u001b[1m \u001b[0m\u001b[1m      DataLoader 0       \u001b[0m\u001b[1m \u001b[0m┃\n",
       "┡━━━━━━━━━━━━━━━━━━━━━━━━━━━╇━━━━━━━━━━━━━━━━━━━━━━━━━━━┩\n",
       "│\u001b[36m \u001b[0m\u001b[36m        test_loss        \u001b[0m\u001b[36m \u001b[0m│\u001b[35m \u001b[0m\u001b[35m  2.722188926910464e+16  \u001b[0m\u001b[35m \u001b[0m│\n",
       "└───────────────────────────┴───────────────────────────┘\n"
      ]
     },
     "metadata": {},
     "output_type": "display_data"
    },
    {
     "name": "stderr",
     "output_type": "stream",
     "text": [
      "GPU available: False, used: False\n",
      "TPU available: False, using: 0 TPU cores\n",
      "IPU available: False, using: 0 IPUs\n",
      "HPU available: False, using: 0 HPUs\n",
      "\n",
      "   | Name                 | Type        | Params\n",
      "------------------------------------------------------\n",
      "0  | model                | MyModel     | 99.7 K\n",
      "1  | pre_layers           | Sequential  | 86.9 K\n",
      "2  | cnn1                 | Conv2d      | 65.5 K\n",
      "3  | batch_norm_a         | BatchNorm2d | 128   \n",
      "4  | dropout_1            | Dropout     | 0     \n",
      "5  | funcion_activacion_a | SELU        | 0     \n",
      "6  | cnn2                 | Conv2d      | 65.6 K\n",
      "7  | batch_norm_b         | BatchNorm2d | 128   \n",
      "8  | dropout_2            | Dropout     | 0     \n",
      "9  | pool2                | MaxPool2d   | 0     \n",
      "10 | fc1                  | Linear      | 10.2 K\n",
      "------------------------------------------------------\n",
      "141 K     Trainable params\n",
      "99.7 K    Non-trainable params\n",
      "241 K     Total params\n",
      "0.965     Total estimated model params size (MB)\n"
     ]
    },
    {
     "data": {
      "application/vnd.jupyter.widget-view+json": {
       "model_id": "37b1e144393e43758781bbef90aec6fc",
       "version_major": 2,
       "version_minor": 0
      },
      "text/plain": [
       "Sanity Checking: 0it [00:00, ?it/s]"
      ]
     },
     "metadata": {},
     "output_type": "display_data"
    },
    {
     "data": {
      "application/vnd.jupyter.widget-view+json": {
       "model_id": "83428bef09b44c69918de2b2b2755cd3",
       "version_major": 2,
       "version_minor": 0
      },
      "text/plain": [
       "Training: 0it [00:00, ?it/s]"
      ]
     },
     "metadata": {},
     "output_type": "display_data"
    },
    {
     "data": {
      "application/vnd.jupyter.widget-view+json": {
       "model_id": "c62ac49e71024cccad95592da987c9d1",
       "version_major": 2,
       "version_minor": 0
      },
      "text/plain": [
       "Validation: 0it [00:00, ?it/s]"
      ]
     },
     "metadata": {},
     "output_type": "display_data"
    },
    {
     "data": {
      "application/vnd.jupyter.widget-view+json": {
       "model_id": "586431657dd44257bc7a18ba9c7912fa",
       "version_major": 2,
       "version_minor": 0
      },
      "text/plain": [
       "Validation: 0it [00:00, ?it/s]"
      ]
     },
     "metadata": {},
     "output_type": "display_data"
    },
    {
     "data": {
      "application/vnd.jupyter.widget-view+json": {
       "model_id": "f7596f90bfa84e1697a470851373d52e",
       "version_major": 2,
       "version_minor": 0
      },
      "text/plain": [
       "Validation: 0it [00:00, ?it/s]"
      ]
     },
     "metadata": {},
     "output_type": "display_data"
    },
    {
     "data": {
      "application/vnd.jupyter.widget-view+json": {
       "model_id": "041869b0f5384414a17171b61fbedb15",
       "version_major": 2,
       "version_minor": 0
      },
      "text/plain": [
       "Validation: 0it [00:00, ?it/s]"
      ]
     },
     "metadata": {},
     "output_type": "display_data"
    },
    {
     "data": {
      "application/vnd.jupyter.widget-view+json": {
       "model_id": "e6d2c8bf02cc42899dddfc8b3bd60656",
       "version_major": 2,
       "version_minor": 0
      },
      "text/plain": [
       "Validation: 0it [00:00, ?it/s]"
      ]
     },
     "metadata": {},
     "output_type": "display_data"
    },
    {
     "name": "stderr",
     "output_type": "stream",
     "text": [
      "`Trainer.fit` stopped: `max_epochs=5` reached.\n",
      "Restoring states from the checkpoint path at c:\\Users\\w10\\Desktop\\BMA\\UPV\\tia\\algoritmos_geneticos\\notebooks\\lightning_logs\\version_428\\checkpoints\\epoch=4-step=150.ckpt\n",
      "Loaded model weights from the checkpoint at c:\\Users\\w10\\Desktop\\BMA\\UPV\\tia\\algoritmos_geneticos\\notebooks\\lightning_logs\\version_428\\checkpoints\\epoch=4-step=150.ckpt\n"
     ]
    },
    {
     "data": {
      "application/vnd.jupyter.widget-view+json": {
       "model_id": "f126c23c7b314affa4d9d85e952ea527",
       "version_major": 2,
       "version_minor": 0
      },
      "text/plain": [
       "Testing: 0it [00:00, ?it/s]"
      ]
     },
     "metadata": {},
     "output_type": "display_data"
    },
    {
     "data": {
      "text/html": [
       "<pre style=\"white-space:pre;overflow-x:auto;line-height:normal;font-family:Menlo,'DejaVu Sans Mono',consolas,'Courier New',monospace\">┏━━━━━━━━━━━━━━━━━━━━━━━━━━━┳━━━━━━━━━━━━━━━━━━━━━━━━━━━┓\n",
       "┃<span style=\"font-weight: bold\">        Test metric        </span>┃<span style=\"font-weight: bold\">       DataLoader 0        </span>┃\n",
       "┡━━━━━━━━━━━━━━━━━━━━━━━━━━━╇━━━━━━━━━━━━━━━━━━━━━━━━━━━┩\n",
       "│<span style=\"color: #008080; text-decoration-color: #008080\">         test_loss         </span>│<span style=\"color: #800080; text-decoration-color: #800080\">    0.7614943385124207     </span>│\n",
       "└───────────────────────────┴───────────────────────────┘\n",
       "</pre>\n"
      ],
      "text/plain": [
       "┏━━━━━━━━━━━━━━━━━━━━━━━━━━━┳━━━━━━━━━━━━━━━━━━━━━━━━━━━┓\n",
       "┃\u001b[1m \u001b[0m\u001b[1m       Test metric       \u001b[0m\u001b[1m \u001b[0m┃\u001b[1m \u001b[0m\u001b[1m      DataLoader 0       \u001b[0m\u001b[1m \u001b[0m┃\n",
       "┡━━━━━━━━━━━━━━━━━━━━━━━━━━━╇━━━━━━━━━━━━━━━━━━━━━━━━━━━┩\n",
       "│\u001b[36m \u001b[0m\u001b[36m        test_loss        \u001b[0m\u001b[36m \u001b[0m│\u001b[35m \u001b[0m\u001b[35m   0.7614943385124207    \u001b[0m\u001b[35m \u001b[0m│\n",
       "└───────────────────────────┴───────────────────────────┘\n"
      ]
     },
     "metadata": {},
     "output_type": "display_data"
    },
    {
     "name": "stderr",
     "output_type": "stream",
     "text": [
      "GPU available: False, used: False\n",
      "TPU available: False, using: 0 TPU cores\n",
      "IPU available: False, using: 0 IPUs\n",
      "HPU available: False, using: 0 HPUs\n",
      "\n",
      "   | Name                 | Type        | Params\n",
      "------------------------------------------------------\n",
      "0  | model                | MyModel     | 99.7 K\n",
      "1  | pre_layers           | Sequential  | 86.9 K\n",
      "2  | cnn1                 | Conv2d      | 65.5 K\n",
      "3  | batch_norm_a         | BatchNorm2d | 128   \n",
      "4  | dropout_1            | Dropout     | 0     \n",
      "5  | funcion_activacion_a | SELU        | 0     \n",
      "6  | cnn2                 | Conv2d      | 65.6 K\n",
      "7  | batch_norm_b         | BatchNorm2d | 128   \n",
      "8  | dropout_2            | Dropout     | 0     \n",
      "9  | pool2                | MaxPool2d   | 0     \n",
      "10 | fc1                  | Linear      | 10.2 K\n",
      "------------------------------------------------------\n",
      "141 K     Trainable params\n",
      "99.7 K    Non-trainable params\n",
      "241 K     Total params\n",
      "0.965     Total estimated model params size (MB)\n"
     ]
    },
    {
     "data": {
      "application/vnd.jupyter.widget-view+json": {
       "model_id": "edd05d8ef0d34e058f2f1f764b12da12",
       "version_major": 2,
       "version_minor": 0
      },
      "text/plain": [
       "Sanity Checking: 0it [00:00, ?it/s]"
      ]
     },
     "metadata": {},
     "output_type": "display_data"
    },
    {
     "data": {
      "application/vnd.jupyter.widget-view+json": {
       "model_id": "906e208e57db464ba6d4e69e7cc829fc",
       "version_major": 2,
       "version_minor": 0
      },
      "text/plain": [
       "Training: 0it [00:00, ?it/s]"
      ]
     },
     "metadata": {},
     "output_type": "display_data"
    },
    {
     "data": {
      "application/vnd.jupyter.widget-view+json": {
       "model_id": "482c69d22b1942d7a1c151f2b9966d8e",
       "version_major": 2,
       "version_minor": 0
      },
      "text/plain": [
       "Validation: 0it [00:00, ?it/s]"
      ]
     },
     "metadata": {},
     "output_type": "display_data"
    },
    {
     "data": {
      "application/vnd.jupyter.widget-view+json": {
       "model_id": "f7496f540cc74424b6284680a8918f18",
       "version_major": 2,
       "version_minor": 0
      },
      "text/plain": [
       "Validation: 0it [00:00, ?it/s]"
      ]
     },
     "metadata": {},
     "output_type": "display_data"
    },
    {
     "data": {
      "application/vnd.jupyter.widget-view+json": {
       "model_id": "d2db268575d941bbbc81234eddc64b44",
       "version_major": 2,
       "version_minor": 0
      },
      "text/plain": [
       "Validation: 0it [00:00, ?it/s]"
      ]
     },
     "metadata": {},
     "output_type": "display_data"
    },
    {
     "data": {
      "application/vnd.jupyter.widget-view+json": {
       "model_id": "e6522e199d084d18ab323d50e4d65f15",
       "version_major": 2,
       "version_minor": 0
      },
      "text/plain": [
       "Validation: 0it [00:00, ?it/s]"
      ]
     },
     "metadata": {},
     "output_type": "display_data"
    },
    {
     "data": {
      "application/vnd.jupyter.widget-view+json": {
       "model_id": "688a2c8492024f0495cba21a0beb97b9",
       "version_major": 2,
       "version_minor": 0
      },
      "text/plain": [
       "Validation: 0it [00:00, ?it/s]"
      ]
     },
     "metadata": {},
     "output_type": "display_data"
    },
    {
     "name": "stderr",
     "output_type": "stream",
     "text": [
      "`Trainer.fit` stopped: `max_epochs=5` reached.\n",
      "Restoring states from the checkpoint path at c:\\Users\\w10\\Desktop\\BMA\\UPV\\tia\\algoritmos_geneticos\\notebooks\\lightning_logs\\version_429\\checkpoints\\epoch=4-step=150.ckpt\n",
      "Loaded model weights from the checkpoint at c:\\Users\\w10\\Desktop\\BMA\\UPV\\tia\\algoritmos_geneticos\\notebooks\\lightning_logs\\version_429\\checkpoints\\epoch=4-step=150.ckpt\n"
     ]
    },
    {
     "data": {
      "application/vnd.jupyter.widget-view+json": {
       "model_id": "946e004ef00c42a8ae186c32e3f46568",
       "version_major": 2,
       "version_minor": 0
      },
      "text/plain": [
       "Testing: 0it [00:00, ?it/s]"
      ]
     },
     "metadata": {},
     "output_type": "display_data"
    },
    {
     "data": {
      "text/html": [
       "<pre style=\"white-space:pre;overflow-x:auto;line-height:normal;font-family:Menlo,'DejaVu Sans Mono',consolas,'Courier New',monospace\">┏━━━━━━━━━━━━━━━━━━━━━━━━━━━┳━━━━━━━━━━━━━━━━━━━━━━━━━━━┓\n",
       "┃<span style=\"font-weight: bold\">        Test metric        </span>┃<span style=\"font-weight: bold\">       DataLoader 0        </span>┃\n",
       "┡━━━━━━━━━━━━━━━━━━━━━━━━━━━╇━━━━━━━━━━━━━━━━━━━━━━━━━━━┩\n",
       "│<span style=\"color: #008080; text-decoration-color: #008080\">         test_loss         </span>│<span style=\"color: #800080; text-decoration-color: #800080\">    1.7717797756195068     </span>│\n",
       "└───────────────────────────┴───────────────────────────┘\n",
       "</pre>\n"
      ],
      "text/plain": [
       "┏━━━━━━━━━━━━━━━━━━━━━━━━━━━┳━━━━━━━━━━━━━━━━━━━━━━━━━━━┓\n",
       "┃\u001b[1m \u001b[0m\u001b[1m       Test metric       \u001b[0m\u001b[1m \u001b[0m┃\u001b[1m \u001b[0m\u001b[1m      DataLoader 0       \u001b[0m\u001b[1m \u001b[0m┃\n",
       "┡━━━━━━━━━━━━━━━━━━━━━━━━━━━╇━━━━━━━━━━━━━━━━━━━━━━━━━━━┩\n",
       "│\u001b[36m \u001b[0m\u001b[36m        test_loss        \u001b[0m\u001b[36m \u001b[0m│\u001b[35m \u001b[0m\u001b[35m   1.7717797756195068    \u001b[0m\u001b[35m \u001b[0m│\n",
       "└───────────────────────────┴───────────────────────────┘\n"
      ]
     },
     "metadata": {},
     "output_type": "display_data"
    },
    {
     "name": "stderr",
     "output_type": "stream",
     "text": [
      "GPU available: False, used: False\n",
      "TPU available: False, using: 0 TPU cores\n",
      "IPU available: False, using: 0 IPUs\n",
      "HPU available: False, using: 0 HPUs\n",
      "\n",
      "   | Name                 | Type        | Params\n",
      "------------------------------------------------------\n",
      "0  | model                | MyModel     | 99.7 K\n",
      "1  | pre_layers           | Sequential  | 86.9 K\n",
      "2  | cnn1                 | Conv2d      | 65.5 K\n",
      "3  | batch_norm_a         | BatchNorm2d | 128   \n",
      "4  | dropout_1            | Dropout     | 0     \n",
      "5  | funcion_activacion_a | SELU        | 0     \n",
      "6  | cnn2                 | Conv2d      | 65.6 K\n",
      "7  | batch_norm_b         | BatchNorm2d | 128   \n",
      "8  | dropout_2            | Dropout     | 0     \n",
      "9  | pool2                | AvgPool2d   | 0     \n",
      "10 | fc1                  | Linear      | 10.2 K\n",
      "------------------------------------------------------\n",
      "141 K     Trainable params\n",
      "99.7 K    Non-trainable params\n",
      "241 K     Total params\n",
      "0.965     Total estimated model params size (MB)\n"
     ]
    },
    {
     "data": {
      "application/vnd.jupyter.widget-view+json": {
       "model_id": "a62f219f5ae74d5a8035baccfb44f546",
       "version_major": 2,
       "version_minor": 0
      },
      "text/plain": [
       "Sanity Checking: 0it [00:00, ?it/s]"
      ]
     },
     "metadata": {},
     "output_type": "display_data"
    },
    {
     "data": {
      "application/vnd.jupyter.widget-view+json": {
       "model_id": "ebaee727c2ee4b3295233b761218953b",
       "version_major": 2,
       "version_minor": 0
      },
      "text/plain": [
       "Training: 0it [00:00, ?it/s]"
      ]
     },
     "metadata": {},
     "output_type": "display_data"
    },
    {
     "data": {
      "application/vnd.jupyter.widget-view+json": {
       "model_id": "853979c19e2047ff9c29d0857d4ab2ad",
       "version_major": 2,
       "version_minor": 0
      },
      "text/plain": [
       "Validation: 0it [00:00, ?it/s]"
      ]
     },
     "metadata": {},
     "output_type": "display_data"
    },
    {
     "data": {
      "application/vnd.jupyter.widget-view+json": {
       "model_id": "cba7aaefdeca4302ad3f458ff22c4c1c",
       "version_major": 2,
       "version_minor": 0
      },
      "text/plain": [
       "Validation: 0it [00:00, ?it/s]"
      ]
     },
     "metadata": {},
     "output_type": "display_data"
    },
    {
     "data": {
      "application/vnd.jupyter.widget-view+json": {
       "model_id": "229b33247f454445861718b7e8d4f141",
       "version_major": 2,
       "version_minor": 0
      },
      "text/plain": [
       "Validation: 0it [00:00, ?it/s]"
      ]
     },
     "metadata": {},
     "output_type": "display_data"
    },
    {
     "data": {
      "application/vnd.jupyter.widget-view+json": {
       "model_id": "2c0599a6771a4f8580fe085aeb37aecb",
       "version_major": 2,
       "version_minor": 0
      },
      "text/plain": [
       "Validation: 0it [00:00, ?it/s]"
      ]
     },
     "metadata": {},
     "output_type": "display_data"
    },
    {
     "data": {
      "application/vnd.jupyter.widget-view+json": {
       "model_id": "ee83ad72253d42829cd5fe9e6842fb13",
       "version_major": 2,
       "version_minor": 0
      },
      "text/plain": [
       "Validation: 0it [00:00, ?it/s]"
      ]
     },
     "metadata": {},
     "output_type": "display_data"
    },
    {
     "name": "stderr",
     "output_type": "stream",
     "text": [
      "`Trainer.fit` stopped: `max_epochs=5` reached.\n",
      "Restoring states from the checkpoint path at c:\\Users\\w10\\Desktop\\BMA\\UPV\\tia\\algoritmos_geneticos\\notebooks\\lightning_logs\\version_430\\checkpoints\\epoch=4-step=150.ckpt\n",
      "Loaded model weights from the checkpoint at c:\\Users\\w10\\Desktop\\BMA\\UPV\\tia\\algoritmos_geneticos\\notebooks\\lightning_logs\\version_430\\checkpoints\\epoch=4-step=150.ckpt\n"
     ]
    },
    {
     "data": {
      "application/vnd.jupyter.widget-view+json": {
       "model_id": "4ea93481fd894c94a745f01e76c5ea36",
       "version_major": 2,
       "version_minor": 0
      },
      "text/plain": [
       "Testing: 0it [00:00, ?it/s]"
      ]
     },
     "metadata": {},
     "output_type": "display_data"
    },
    {
     "data": {
      "text/html": [
       "<pre style=\"white-space:pre;overflow-x:auto;line-height:normal;font-family:Menlo,'DejaVu Sans Mono',consolas,'Courier New',monospace\">┏━━━━━━━━━━━━━━━━━━━━━━━━━━━┳━━━━━━━━━━━━━━━━━━━━━━━━━━━┓\n",
       "┃<span style=\"font-weight: bold\">        Test metric        </span>┃<span style=\"font-weight: bold\">       DataLoader 0        </span>┃\n",
       "┡━━━━━━━━━━━━━━━━━━━━━━━━━━━╇━━━━━━━━━━━━━━━━━━━━━━━━━━━┩\n",
       "│<span style=\"color: #008080; text-decoration-color: #008080\">         test_loss         </span>│<span style=\"color: #800080; text-decoration-color: #800080\">    2.0992929935455322     </span>│\n",
       "└───────────────────────────┴───────────────────────────┘\n",
       "</pre>\n"
      ],
      "text/plain": [
       "┏━━━━━━━━━━━━━━━━━━━━━━━━━━━┳━━━━━━━━━━━━━━━━━━━━━━━━━━━┓\n",
       "┃\u001b[1m \u001b[0m\u001b[1m       Test metric       \u001b[0m\u001b[1m \u001b[0m┃\u001b[1m \u001b[0m\u001b[1m      DataLoader 0       \u001b[0m\u001b[1m \u001b[0m┃\n",
       "┡━━━━━━━━━━━━━━━━━━━━━━━━━━━╇━━━━━━━━━━━━━━━━━━━━━━━━━━━┩\n",
       "│\u001b[36m \u001b[0m\u001b[36m        test_loss        \u001b[0m\u001b[36m \u001b[0m│\u001b[35m \u001b[0m\u001b[35m   2.0992929935455322    \u001b[0m\u001b[35m \u001b[0m│\n",
       "└───────────────────────────┴───────────────────────────┘\n"
      ]
     },
     "metadata": {},
     "output_type": "display_data"
    },
    {
     "name": "stderr",
     "output_type": "stream",
     "text": [
      "GPU available: False, used: False\n",
      "TPU available: False, using: 0 TPU cores\n",
      "IPU available: False, using: 0 IPUs\n",
      "HPU available: False, using: 0 HPUs\n",
      "\n",
      "   | Name                 | Type        | Params\n",
      "------------------------------------------------------\n",
      "0  | model                | MyModel     | 99.7 K\n",
      "1  | pre_layers           | Sequential  | 86.9 K\n",
      "2  | cnn1                 | Conv2d      | 65.5 K\n",
      "3  | batch_norm_a         | BatchNorm2d | 128   \n",
      "4  | dropout_1            | Dropout     | 0     \n",
      "5  | funcion_activacion_a | ReLU        | 0     \n",
      "6  | cnn2                 | Conv2d      | 65.5 K\n",
      "7  | batch_norm_b         | BatchNorm2d | 128   \n",
      "8  | dropout_2            | Dropout     | 0     \n",
      "9  | pool2                | MaxPool2d   | 0     \n",
      "10 | fc1                  | Linear      | 10.2 K\n",
      "------------------------------------------------------\n",
      "141 K     Trainable params\n",
      "99.7 K    Non-trainable params\n",
      "241 K     Total params\n",
      "0.965     Total estimated model params size (MB)\n"
     ]
    },
    {
     "data": {
      "application/vnd.jupyter.widget-view+json": {
       "model_id": "b19767e943ff4ab0a9645f1d494f6f80",
       "version_major": 2,
       "version_minor": 0
      },
      "text/plain": [
       "Sanity Checking: 0it [00:00, ?it/s]"
      ]
     },
     "metadata": {},
     "output_type": "display_data"
    },
    {
     "data": {
      "application/vnd.jupyter.widget-view+json": {
       "model_id": "a6af3db7eea146d1aefb0ae50620ea0e",
       "version_major": 2,
       "version_minor": 0
      },
      "text/plain": [
       "Training: 0it [00:00, ?it/s]"
      ]
     },
     "metadata": {},
     "output_type": "display_data"
    },
    {
     "data": {
      "application/vnd.jupyter.widget-view+json": {
       "model_id": "bdcee24b348a44bc83cd81b20eb847d6",
       "version_major": 2,
       "version_minor": 0
      },
      "text/plain": [
       "Validation: 0it [00:00, ?it/s]"
      ]
     },
     "metadata": {},
     "output_type": "display_data"
    },
    {
     "data": {
      "application/vnd.jupyter.widget-view+json": {
       "model_id": "c9eb6b4dcfb24b168fe4a070b8eede43",
       "version_major": 2,
       "version_minor": 0
      },
      "text/plain": [
       "Validation: 0it [00:00, ?it/s]"
      ]
     },
     "metadata": {},
     "output_type": "display_data"
    },
    {
     "data": {
      "application/vnd.jupyter.widget-view+json": {
       "model_id": "f401790991a04556b67d94c96ac00550",
       "version_major": 2,
       "version_minor": 0
      },
      "text/plain": [
       "Validation: 0it [00:00, ?it/s]"
      ]
     },
     "metadata": {},
     "output_type": "display_data"
    },
    {
     "data": {
      "application/vnd.jupyter.widget-view+json": {
       "model_id": "3cc387a23c554ca28966f4b49ccf1e97",
       "version_major": 2,
       "version_minor": 0
      },
      "text/plain": [
       "Validation: 0it [00:00, ?it/s]"
      ]
     },
     "metadata": {},
     "output_type": "display_data"
    },
    {
     "data": {
      "application/vnd.jupyter.widget-view+json": {
       "model_id": "f3c16a02cf55498ab372f08158f79b7c",
       "version_major": 2,
       "version_minor": 0
      },
      "text/plain": [
       "Validation: 0it [00:00, ?it/s]"
      ]
     },
     "metadata": {},
     "output_type": "display_data"
    },
    {
     "name": "stderr",
     "output_type": "stream",
     "text": [
      "`Trainer.fit` stopped: `max_epochs=5` reached.\n",
      "Restoring states from the checkpoint path at c:\\Users\\w10\\Desktop\\BMA\\UPV\\tia\\algoritmos_geneticos\\notebooks\\lightning_logs\\version_431\\checkpoints\\epoch=4-step=150.ckpt\n",
      "Loaded model weights from the checkpoint at c:\\Users\\w10\\Desktop\\BMA\\UPV\\tia\\algoritmos_geneticos\\notebooks\\lightning_logs\\version_431\\checkpoints\\epoch=4-step=150.ckpt\n"
     ]
    },
    {
     "data": {
      "application/vnd.jupyter.widget-view+json": {
       "model_id": "42a807c7893546e5892c5f001d63be10",
       "version_major": 2,
       "version_minor": 0
      },
      "text/plain": [
       "Testing: 0it [00:00, ?it/s]"
      ]
     },
     "metadata": {},
     "output_type": "display_data"
    },
    {
     "data": {
      "text/html": [
       "<pre style=\"white-space:pre;overflow-x:auto;line-height:normal;font-family:Menlo,'DejaVu Sans Mono',consolas,'Courier New',monospace\">┏━━━━━━━━━━━━━━━━━━━━━━━━━━━┳━━━━━━━━━━━━━━━━━━━━━━━━━━━┓\n",
       "┃<span style=\"font-weight: bold\">        Test metric        </span>┃<span style=\"font-weight: bold\">       DataLoader 0        </span>┃\n",
       "┡━━━━━━━━━━━━━━━━━━━━━━━━━━━╇━━━━━━━━━━━━━━━━━━━━━━━━━━━┩\n",
       "│<span style=\"color: #008080; text-decoration-color: #008080\">         test_loss         </span>│<span style=\"color: #800080; text-decoration-color: #800080\">    2.2864413261413574     </span>│\n",
       "└───────────────────────────┴───────────────────────────┘\n",
       "</pre>\n"
      ],
      "text/plain": [
       "┏━━━━━━━━━━━━━━━━━━━━━━━━━━━┳━━━━━━━━━━━━━━━━━━━━━━━━━━━┓\n",
       "┃\u001b[1m \u001b[0m\u001b[1m       Test metric       \u001b[0m\u001b[1m \u001b[0m┃\u001b[1m \u001b[0m\u001b[1m      DataLoader 0       \u001b[0m\u001b[1m \u001b[0m┃\n",
       "┡━━━━━━━━━━━━━━━━━━━━━━━━━━━╇━━━━━━━━━━━━━━━━━━━━━━━━━━━┩\n",
       "│\u001b[36m \u001b[0m\u001b[36m        test_loss        \u001b[0m\u001b[36m \u001b[0m│\u001b[35m \u001b[0m\u001b[35m   2.2864413261413574    \u001b[0m\u001b[35m \u001b[0m│\n",
       "└───────────────────────────┴───────────────────────────┘\n"
      ]
     },
     "metadata": {},
     "output_type": "display_data"
    },
    {
     "name": "stderr",
     "output_type": "stream",
     "text": [
      "GPU available: False, used: False\n",
      "TPU available: False, using: 0 TPU cores\n",
      "IPU available: False, using: 0 IPUs\n",
      "HPU available: False, using: 0 HPUs\n"
     ]
    },
    {
     "name": "stdout",
     "output_type": "stream",
     "text": [
      "[{'a_include_BN': True, 'a_include_bias': False, 'activation_type': SELU(), 'b_include_BN': False, 'b_include_bias': False, 'pool_type': AvgPool2d(kernel_size=2, stride=2, padding=0), 'learning_rate': 0.1, 'dropout_range_a': 0, 'dropout_range_b': 0.3}, MyModel(\n",
      "  (model): MyModel(\n",
      "    (model): MyModel(\n",
      "      (cnn1): Conv2d(1, 16, kernel_size=(5, 5), stride=(1, 1), bias=False)\n",
      "      (batch_norm_a): BatchNorm2d(16, eps=1e-05, momentum=0.1, affine=True, track_running_stats=True)\n",
      "      (funcion_activacion_a): ELU(alpha=1.0)\n",
      "      (dropout_1): Dropout(p=0.1, inplace=False)\n",
      "      (pool1): MaxPool2d(kernel_size=2, stride=2, padding=0, dilation=1, ceil_mode=False)\n",
      "      (cnn2): Conv2d(16, 16, kernel_size=(4, 4), stride=(1, 1))\n",
      "      (batch_norm_b): BatchNorm2d(16, eps=1e-05, momentum=0.1, affine=True, track_running_stats=True)\n",
      "      (funcion_activacion_b): ELU(alpha=1.0)\n",
      "      (dropout_2): Dropout(p=0.1, inplace=False)\n",
      "      (pool2): MaxPool2d(kernel_size=2, stride=2, padding=0, dilation=1, ceil_mode=False)\n",
      "      (fc1): Linear(in_features=256, out_features=10, bias=True)\n",
      "    )\n",
      "    (pre_layers): Sequential(\n",
      "      (0): Conv2d(1, 16, kernel_size=(5, 5), stride=(1, 1), bias=False)\n",
      "      (1): BatchNorm2d(16, eps=1e-05, momentum=0.1, affine=True, track_running_stats=True)\n",
      "      (2): ELU(alpha=1.0)\n",
      "      (3): Dropout(p=0.1, inplace=False)\n",
      "      (4): MaxPool2d(kernel_size=2, stride=2, padding=0, dilation=1, ceil_mode=False)\n",
      "      (5): Conv2d(16, 16, kernel_size=(4, 4), stride=(1, 1))\n",
      "      (6): BatchNorm2d(16, eps=1e-05, momentum=0.1, affine=True, track_running_stats=True)\n",
      "    )\n",
      "    (cnn1): Conv2d(16, 64, kernel_size=(4, 4), stride=(1, 1), padding=same)\n",
      "    (batch_norm_a): BatchNorm2d(64, eps=1e-05, momentum=0.1, affine=True, track_running_stats=True)\n",
      "    (dropout_1): Dropout(p=0.2, inplace=False)\n",
      "    (funcion_activacion_a): ReLU()\n",
      "    (cnn2): Conv2d(64, 64, kernel_size=(4, 4), stride=(1, 1), padding=same)\n",
      "    (batch_norm_b): BatchNorm2d(64, eps=1e-05, momentum=0.1, affine=True, track_running_stats=True)\n",
      "    (funcion_activacion_b): ReLU()\n",
      "    (dropout_2): Dropout(p=0.3, inplace=False)\n",
      "    (pool2): MaxPool2d(kernel_size=2, stride=2, padding=0, dilation=1, ceil_mode=False)\n",
      "    (fc1): Linear(in_features=1024, out_features=10, bias=True)\n",
      "  )\n",
      "  (pre_layers): Sequential(\n",
      "    (0): Sequential(\n",
      "      (0): Conv2d(1, 16, kernel_size=(5, 5), stride=(1, 1), bias=False)\n",
      "      (1): BatchNorm2d(16, eps=1e-05, momentum=0.1, affine=True, track_running_stats=True)\n",
      "      (2): ELU(alpha=1.0)\n",
      "      (3): Dropout(p=0.1, inplace=False)\n",
      "      (4): MaxPool2d(kernel_size=2, stride=2, padding=0, dilation=1, ceil_mode=False)\n",
      "      (5): Conv2d(16, 16, kernel_size=(4, 4), stride=(1, 1))\n",
      "      (6): BatchNorm2d(16, eps=1e-05, momentum=0.1, affine=True, track_running_stats=True)\n",
      "    )\n",
      "    (1): Conv2d(16, 64, kernel_size=(4, 4), stride=(1, 1), padding=same)\n",
      "    (2): BatchNorm2d(64, eps=1e-05, momentum=0.1, affine=True, track_running_stats=True)\n",
      "    (3): Dropout(p=0.2, inplace=False)\n",
      "    (4): ReLU()\n",
      "    (5): Conv2d(64, 64, kernel_size=(4, 4), stride=(1, 1), padding=same)\n",
      "    (6): BatchNorm2d(64, eps=1e-05, momentum=0.1, affine=True, track_running_stats=True)\n",
      "    (7): Dropout(p=0.3, inplace=False)\n",
      "  )\n",
      "  (cnn1): Conv2d(64, 64, kernel_size=(4, 4), stride=(1, 1), padding=same, bias=False)\n",
      "  (batch_norm_a): BatchNorm2d(64, eps=1e-05, momentum=0.1, affine=True, track_running_stats=True)\n",
      "  (dropout_1): Dropout(p=0, inplace=False)\n",
      "  (funcion_activacion_a): SELU()\n",
      "  (cnn2): Conv2d(64, 64, kernel_size=(4, 4), stride=(1, 1), padding=same, bias=False)\n",
      "  (batch_norm_b): BatchNorm2d(64, eps=1e-05, momentum=0.1, affine=True, track_running_stats=True)\n",
      "  (funcion_activacion_b): SELU()\n",
      "  (dropout_2): Dropout(p=0.3, inplace=False)\n",
      "  (pool2): AvgPool2d(kernel_size=2, stride=2, padding=0)\n",
      "  (fc1): Linear(in_features=1024, out_features=10, bias=True)\n",
      "), nan]\n",
      "4\n",
      "4\n",
      "{'a_include_BN': True, 'a_include_bias': False, 'activation_type': SELU(), 'b_include_BN': False, 'b_include_bias': False, 'pool_type': AvgPool2d(kernel_size=2, stride=2, padding=0), 'learning_rate': 0.1, 'dropout_range_a': 0, 'dropout_range_b': 0.3}\n"
     ]
    },
    {
     "name": "stderr",
     "output_type": "stream",
     "text": [
      "\n",
      "   | Name                 | Type        | Params\n",
      "------------------------------------------------------\n",
      "0  | model                | MyModel     | 99.7 K\n",
      "1  | pre_layers           | Sequential  | 86.9 K\n",
      "2  | cnn1                 | Conv2d      | 65.5 K\n",
      "3  | batch_norm_a         | BatchNorm2d | 128   \n",
      "4  | dropout_1            | Dropout     | 0     \n",
      "5  | funcion_activacion_a | SELU        | 0     \n",
      "6  | cnn2                 | Conv2d      | 65.5 K\n",
      "7  | batch_norm_b         | BatchNorm2d | 128   \n",
      "8  | dropout_2            | Dropout     | 0     \n",
      "9  | pool2                | AvgPool2d   | 0     \n",
      "10 | fc1                  | Linear      | 10.2 K\n",
      "------------------------------------------------------\n",
      "141 K     Trainable params\n",
      "99.7 K    Non-trainable params\n",
      "241 K     Total params\n",
      "0.965     Total estimated model params size (MB)\n"
     ]
    },
    {
     "data": {
      "application/vnd.jupyter.widget-view+json": {
       "model_id": "b3da9a1cf4ee4f498ca6815f24e7e9b4",
       "version_major": 2,
       "version_minor": 0
      },
      "text/plain": [
       "Sanity Checking: 0it [00:00, ?it/s]"
      ]
     },
     "metadata": {},
     "output_type": "display_data"
    },
    {
     "data": {
      "application/vnd.jupyter.widget-view+json": {
       "model_id": "225364451b0c48a1bfbd92f32067f049",
       "version_major": 2,
       "version_minor": 0
      },
      "text/plain": [
       "Training: 0it [00:00, ?it/s]"
      ]
     },
     "metadata": {},
     "output_type": "display_data"
    },
    {
     "data": {
      "application/vnd.jupyter.widget-view+json": {
       "model_id": "bf63100829c94959ada15c8d74a3e3aa",
       "version_major": 2,
       "version_minor": 0
      },
      "text/plain": [
       "Validation: 0it [00:00, ?it/s]"
      ]
     },
     "metadata": {},
     "output_type": "display_data"
    },
    {
     "data": {
      "application/vnd.jupyter.widget-view+json": {
       "model_id": "c0eaa2c0abc0424cacef1efe8c90584e",
       "version_major": 2,
       "version_minor": 0
      },
      "text/plain": [
       "Validation: 0it [00:00, ?it/s]"
      ]
     },
     "metadata": {},
     "output_type": "display_data"
    },
    {
     "data": {
      "application/vnd.jupyter.widget-view+json": {
       "model_id": "d51dccca01894ac182faebb770f47a1e",
       "version_major": 2,
       "version_minor": 0
      },
      "text/plain": [
       "Validation: 0it [00:00, ?it/s]"
      ]
     },
     "metadata": {},
     "output_type": "display_data"
    },
    {
     "data": {
      "application/vnd.jupyter.widget-view+json": {
       "model_id": "8815f6a5ff4e45acab5db72c8a4dce15",
       "version_major": 2,
       "version_minor": 0
      },
      "text/plain": [
       "Validation: 0it [00:00, ?it/s]"
      ]
     },
     "metadata": {},
     "output_type": "display_data"
    },
    {
     "data": {
      "application/vnd.jupyter.widget-view+json": {
       "model_id": "dea276b575d34b139752234393a9bfc4",
       "version_major": 2,
       "version_minor": 0
      },
      "text/plain": [
       "Validation: 0it [00:00, ?it/s]"
      ]
     },
     "metadata": {},
     "output_type": "display_data"
    },
    {
     "name": "stderr",
     "output_type": "stream",
     "text": [
      "`Trainer.fit` stopped: `max_epochs=5` reached.\n",
      "Restoring states from the checkpoint path at c:\\Users\\w10\\Desktop\\BMA\\UPV\\tia\\algoritmos_geneticos\\notebooks\\lightning_logs\\version_432\\checkpoints\\epoch=4-step=150.ckpt\n",
      "Loaded model weights from the checkpoint at c:\\Users\\w10\\Desktop\\BMA\\UPV\\tia\\algoritmos_geneticos\\notebooks\\lightning_logs\\version_432\\checkpoints\\epoch=4-step=150.ckpt\n"
     ]
    },
    {
     "data": {
      "application/vnd.jupyter.widget-view+json": {
       "model_id": "e5bdbad60e7942b2aebc2f5d96a702d9",
       "version_major": 2,
       "version_minor": 0
      },
      "text/plain": [
       "Testing: 0it [00:00, ?it/s]"
      ]
     },
     "metadata": {},
     "output_type": "display_data"
    },
    {
     "data": {
      "text/html": [
       "<pre style=\"white-space:pre;overflow-x:auto;line-height:normal;font-family:Menlo,'DejaVu Sans Mono',consolas,'Courier New',monospace\">┏━━━━━━━━━━━━━━━━━━━━━━━━━━━┳━━━━━━━━━━━━━━━━━━━━━━━━━━━┓\n",
       "┃<span style=\"font-weight: bold\">        Test metric        </span>┃<span style=\"font-weight: bold\">       DataLoader 0        </span>┃\n",
       "┡━━━━━━━━━━━━━━━━━━━━━━━━━━━╇━━━━━━━━━━━━━━━━━━━━━━━━━━━┩\n",
       "│<span style=\"color: #008080; text-decoration-color: #008080\">         test_loss         </span>│<span style=\"color: #800080; text-decoration-color: #800080\">            nan            </span>│\n",
       "└───────────────────────────┴───────────────────────────┘\n",
       "</pre>\n"
      ],
      "text/plain": [
       "┏━━━━━━━━━━━━━━━━━━━━━━━━━━━┳━━━━━━━━━━━━━━━━━━━━━━━━━━━┓\n",
       "┃\u001b[1m \u001b[0m\u001b[1m       Test metric       \u001b[0m\u001b[1m \u001b[0m┃\u001b[1m \u001b[0m\u001b[1m      DataLoader 0       \u001b[0m\u001b[1m \u001b[0m┃\n",
       "┡━━━━━━━━━━━━━━━━━━━━━━━━━━━╇━━━━━━━━━━━━━━━━━━━━━━━━━━━┩\n",
       "│\u001b[36m \u001b[0m\u001b[36m        test_loss        \u001b[0m\u001b[36m \u001b[0m│\u001b[35m \u001b[0m\u001b[35m           nan           \u001b[0m\u001b[35m \u001b[0m│\n",
       "└───────────────────────────┴───────────────────────────┘\n"
      ]
     },
     "metadata": {},
     "output_type": "display_data"
    },
    {
     "name": "stderr",
     "output_type": "stream",
     "text": [
      "GPU available: False, used: False\n",
      "TPU available: False, using: 0 TPU cores\n",
      "IPU available: False, using: 0 IPUs\n",
      "HPU available: False, using: 0 HPUs\n"
     ]
    },
    {
     "name": "stdout",
     "output_type": "stream",
     "text": [
      "{'a_include_BN': False, 'a_include_bias': False, 'activation_type': SELU(), 'b_include_BN': False, 'b_include_bias': True, 'pool_type': MaxPool2d(kernel_size=2, stride=2, padding=0, dilation=1, ceil_mode=False), 'learning_rate': 0.01, 'dropout_range_a': 0, 'dropout_range_b': 0}\n"
     ]
    },
    {
     "name": "stderr",
     "output_type": "stream",
     "text": [
      "\n",
      "   | Name                 | Type        | Params\n",
      "------------------------------------------------------\n",
      "0  | model                | MyModel     | 99.7 K\n",
      "1  | pre_layers           | Sequential  | 86.9 K\n",
      "2  | cnn1                 | Conv2d      | 65.5 K\n",
      "3  | batch_norm_a         | BatchNorm2d | 128   \n",
      "4  | dropout_1            | Dropout     | 0     \n",
      "5  | funcion_activacion_a | SELU        | 0     \n",
      "6  | cnn2                 | Conv2d      | 65.6 K\n",
      "7  | batch_norm_b         | BatchNorm2d | 128   \n",
      "8  | dropout_2            | Dropout     | 0     \n",
      "9  | pool2                | MaxPool2d   | 0     \n",
      "10 | fc1                  | Linear      | 10.2 K\n",
      "------------------------------------------------------\n",
      "141 K     Trainable params\n",
      "99.7 K    Non-trainable params\n",
      "241 K     Total params\n",
      "0.965     Total estimated model params size (MB)\n"
     ]
    },
    {
     "data": {
      "application/vnd.jupyter.widget-view+json": {
       "model_id": "a5f001bb6d63481bacd14fae6248c664",
       "version_major": 2,
       "version_minor": 0
      },
      "text/plain": [
       "Sanity Checking: 0it [00:00, ?it/s]"
      ]
     },
     "metadata": {},
     "output_type": "display_data"
    },
    {
     "data": {
      "application/vnd.jupyter.widget-view+json": {
       "model_id": "c09820f91438412cb726eaecd13f99a2",
       "version_major": 2,
       "version_minor": 0
      },
      "text/plain": [
       "Training: 0it [00:00, ?it/s]"
      ]
     },
     "metadata": {},
     "output_type": "display_data"
    },
    {
     "data": {
      "application/vnd.jupyter.widget-view+json": {
       "model_id": "06ca93c02367433da7b38bd0b10d740f",
       "version_major": 2,
       "version_minor": 0
      },
      "text/plain": [
       "Validation: 0it [00:00, ?it/s]"
      ]
     },
     "metadata": {},
     "output_type": "display_data"
    },
    {
     "data": {
      "application/vnd.jupyter.widget-view+json": {
       "model_id": "31a376760dc04458850ace4239b155b0",
       "version_major": 2,
       "version_minor": 0
      },
      "text/plain": [
       "Validation: 0it [00:00, ?it/s]"
      ]
     },
     "metadata": {},
     "output_type": "display_data"
    },
    {
     "data": {
      "application/vnd.jupyter.widget-view+json": {
       "model_id": "a0713062cc0f46e19ab97fbbb1d1fd5d",
       "version_major": 2,
       "version_minor": 0
      },
      "text/plain": [
       "Validation: 0it [00:00, ?it/s]"
      ]
     },
     "metadata": {},
     "output_type": "display_data"
    },
    {
     "data": {
      "application/vnd.jupyter.widget-view+json": {
       "model_id": "88d5420858dd471587beb31bbc52019e",
       "version_major": 2,
       "version_minor": 0
      },
      "text/plain": [
       "Validation: 0it [00:00, ?it/s]"
      ]
     },
     "metadata": {},
     "output_type": "display_data"
    },
    {
     "data": {
      "application/vnd.jupyter.widget-view+json": {
       "model_id": "e92abedefce94be5b8b2e7230fae62b1",
       "version_major": 2,
       "version_minor": 0
      },
      "text/plain": [
       "Validation: 0it [00:00, ?it/s]"
      ]
     },
     "metadata": {},
     "output_type": "display_data"
    },
    {
     "name": "stderr",
     "output_type": "stream",
     "text": [
      "`Trainer.fit` stopped: `max_epochs=5` reached.\n",
      "Restoring states from the checkpoint path at c:\\Users\\w10\\Desktop\\BMA\\UPV\\tia\\algoritmos_geneticos\\notebooks\\lightning_logs\\version_433\\checkpoints\\epoch=4-step=150.ckpt\n",
      "Loaded model weights from the checkpoint at c:\\Users\\w10\\Desktop\\BMA\\UPV\\tia\\algoritmos_geneticos\\notebooks\\lightning_logs\\version_433\\checkpoints\\epoch=4-step=150.ckpt\n"
     ]
    },
    {
     "data": {
      "application/vnd.jupyter.widget-view+json": {
       "model_id": "d002be7ddd774440b1791491968d47c4",
       "version_major": 2,
       "version_minor": 0
      },
      "text/plain": [
       "Testing: 0it [00:00, ?it/s]"
      ]
     },
     "metadata": {},
     "output_type": "display_data"
    },
    {
     "data": {
      "text/html": [
       "<pre style=\"white-space:pre;overflow-x:auto;line-height:normal;font-family:Menlo,'DejaVu Sans Mono',consolas,'Courier New',monospace\">┏━━━━━━━━━━━━━━━━━━━━━━━━━━━┳━━━━━━━━━━━━━━━━━━━━━━━━━━━┓\n",
       "┃<span style=\"font-weight: bold\">        Test metric        </span>┃<span style=\"font-weight: bold\">       DataLoader 0        </span>┃\n",
       "┡━━━━━━━━━━━━━━━━━━━━━━━━━━━╇━━━━━━━━━━━━━━━━━━━━━━━━━━━┩\n",
       "│<span style=\"color: #008080; text-decoration-color: #008080\">         test_loss         </span>│<span style=\"color: #800080; text-decoration-color: #800080\">     0.748843252658844     </span>│\n",
       "└───────────────────────────┴───────────────────────────┘\n",
       "</pre>\n"
      ],
      "text/plain": [
       "┏━━━━━━━━━━━━━━━━━━━━━━━━━━━┳━━━━━━━━━━━━━━━━━━━━━━━━━━━┓\n",
       "┃\u001b[1m \u001b[0m\u001b[1m       Test metric       \u001b[0m\u001b[1m \u001b[0m┃\u001b[1m \u001b[0m\u001b[1m      DataLoader 0       \u001b[0m\u001b[1m \u001b[0m┃\n",
       "┡━━━━━━━━━━━━━━━━━━━━━━━━━━━╇━━━━━━━━━━━━━━━━━━━━━━━━━━━┩\n",
       "│\u001b[36m \u001b[0m\u001b[36m        test_loss        \u001b[0m\u001b[36m \u001b[0m│\u001b[35m \u001b[0m\u001b[35m    0.748843252658844    \u001b[0m\u001b[35m \u001b[0m│\n",
       "└───────────────────────────┴───────────────────────────┘\n"
      ]
     },
     "metadata": {},
     "output_type": "display_data"
    },
    {
     "name": "stderr",
     "output_type": "stream",
     "text": [
      "GPU available: False, used: False\n",
      "TPU available: False, using: 0 TPU cores\n",
      "IPU available: False, using: 0 IPUs\n",
      "HPU available: False, using: 0 HPUs\n"
     ]
    },
    {
     "name": "stdout",
     "output_type": "stream",
     "text": [
      "{'a_include_BN': False, 'a_include_bias': True, 'activation_type': SELU(), 'b_include_BN': True, 'b_include_bias': True, 'pool_type': MaxPool2d(kernel_size=2, stride=2, padding=0, dilation=1, ceil_mode=False), 'learning_rate': 0.0001, 'dropout_range_a': 0.1, 'dropout_range_b': 0.1}\n"
     ]
    },
    {
     "name": "stderr",
     "output_type": "stream",
     "text": [
      "\n",
      "   | Name                 | Type        | Params\n",
      "------------------------------------------------------\n",
      "0  | model                | MyModel     | 99.7 K\n",
      "1  | pre_layers           | Sequential  | 86.9 K\n",
      "2  | cnn1                 | Conv2d      | 65.6 K\n",
      "3  | batch_norm_a         | BatchNorm2d | 128   \n",
      "4  | dropout_1            | Dropout     | 0     \n",
      "5  | funcion_activacion_a | SELU        | 0     \n",
      "6  | cnn2                 | Conv2d      | 65.6 K\n",
      "7  | batch_norm_b         | BatchNorm2d | 128   \n",
      "8  | dropout_2            | Dropout     | 0     \n",
      "9  | pool2                | MaxPool2d   | 0     \n",
      "10 | fc1                  | Linear      | 10.2 K\n",
      "------------------------------------------------------\n",
      "141 K     Trainable params\n",
      "99.7 K    Non-trainable params\n",
      "241 K     Total params\n",
      "0.966     Total estimated model params size (MB)\n"
     ]
    },
    {
     "data": {
      "application/vnd.jupyter.widget-view+json": {
       "model_id": "e211f54276204cd9a1d46cf70fe713f8",
       "version_major": 2,
       "version_minor": 0
      },
      "text/plain": [
       "Sanity Checking: 0it [00:00, ?it/s]"
      ]
     },
     "metadata": {},
     "output_type": "display_data"
    },
    {
     "data": {
      "application/vnd.jupyter.widget-view+json": {
       "model_id": "86ea68f663f749af9a1d3f0350339f73",
       "version_major": 2,
       "version_minor": 0
      },
      "text/plain": [
       "Training: 0it [00:00, ?it/s]"
      ]
     },
     "metadata": {},
     "output_type": "display_data"
    },
    {
     "data": {
      "application/vnd.jupyter.widget-view+json": {
       "model_id": "d886946a1ab748b99a701a729cc5b85e",
       "version_major": 2,
       "version_minor": 0
      },
      "text/plain": [
       "Validation: 0it [00:00, ?it/s]"
      ]
     },
     "metadata": {},
     "output_type": "display_data"
    },
    {
     "data": {
      "application/vnd.jupyter.widget-view+json": {
       "model_id": "18bea866f19e4489b9d844121004d3b7",
       "version_major": 2,
       "version_minor": 0
      },
      "text/plain": [
       "Validation: 0it [00:00, ?it/s]"
      ]
     },
     "metadata": {},
     "output_type": "display_data"
    },
    {
     "data": {
      "application/vnd.jupyter.widget-view+json": {
       "model_id": "e7d74be4cde641c6b8467d637056a508",
       "version_major": 2,
       "version_minor": 0
      },
      "text/plain": [
       "Validation: 0it [00:00, ?it/s]"
      ]
     },
     "metadata": {},
     "output_type": "display_data"
    },
    {
     "data": {
      "application/vnd.jupyter.widget-view+json": {
       "model_id": "cf0eb1954ee9450c928d8eb47602af6f",
       "version_major": 2,
       "version_minor": 0
      },
      "text/plain": [
       "Validation: 0it [00:00, ?it/s]"
      ]
     },
     "metadata": {},
     "output_type": "display_data"
    },
    {
     "data": {
      "application/vnd.jupyter.widget-view+json": {
       "model_id": "6cffc21b1986444b9a4a30ebd22aae2f",
       "version_major": 2,
       "version_minor": 0
      },
      "text/plain": [
       "Validation: 0it [00:00, ?it/s]"
      ]
     },
     "metadata": {},
     "output_type": "display_data"
    },
    {
     "name": "stderr",
     "output_type": "stream",
     "text": [
      "`Trainer.fit` stopped: `max_epochs=5` reached.\n",
      "Restoring states from the checkpoint path at c:\\Users\\w10\\Desktop\\BMA\\UPV\\tia\\algoritmos_geneticos\\notebooks\\lightning_logs\\version_434\\checkpoints\\epoch=4-step=150.ckpt\n",
      "Loaded model weights from the checkpoint at c:\\Users\\w10\\Desktop\\BMA\\UPV\\tia\\algoritmos_geneticos\\notebooks\\lightning_logs\\version_434\\checkpoints\\epoch=4-step=150.ckpt\n"
     ]
    },
    {
     "data": {
      "application/vnd.jupyter.widget-view+json": {
       "model_id": "d68ff2fd3fe045ac8a9d6c6f7bd681d0",
       "version_major": 2,
       "version_minor": 0
      },
      "text/plain": [
       "Testing: 0it [00:00, ?it/s]"
      ]
     },
     "metadata": {},
     "output_type": "display_data"
    },
    {
     "data": {
      "text/html": [
       "<pre style=\"white-space:pre;overflow-x:auto;line-height:normal;font-family:Menlo,'DejaVu Sans Mono',consolas,'Courier New',monospace\">┏━━━━━━━━━━━━━━━━━━━━━━━━━━━┳━━━━━━━━━━━━━━━━━━━━━━━━━━━┓\n",
       "┃<span style=\"font-weight: bold\">        Test metric        </span>┃<span style=\"font-weight: bold\">       DataLoader 0        </span>┃\n",
       "┡━━━━━━━━━━━━━━━━━━━━━━━━━━━╇━━━━━━━━━━━━━━━━━━━━━━━━━━━┩\n",
       "│<span style=\"color: #008080; text-decoration-color: #008080\">         test_loss         </span>│<span style=\"color: #800080; text-decoration-color: #800080\">    1.8088736534118652     </span>│\n",
       "└───────────────────────────┴───────────────────────────┘\n",
       "</pre>\n"
      ],
      "text/plain": [
       "┏━━━━━━━━━━━━━━━━━━━━━━━━━━━┳━━━━━━━━━━━━━━━━━━━━━━━━━━━┓\n",
       "┃\u001b[1m \u001b[0m\u001b[1m       Test metric       \u001b[0m\u001b[1m \u001b[0m┃\u001b[1m \u001b[0m\u001b[1m      DataLoader 0       \u001b[0m\u001b[1m \u001b[0m┃\n",
       "┡━━━━━━━━━━━━━━━━━━━━━━━━━━━╇━━━━━━━━━━━━━━━━━━━━━━━━━━━┩\n",
       "│\u001b[36m \u001b[0m\u001b[36m        test_loss        \u001b[0m\u001b[36m \u001b[0m│\u001b[35m \u001b[0m\u001b[35m   1.8088736534118652    \u001b[0m\u001b[35m \u001b[0m│\n",
       "└───────────────────────────┴───────────────────────────┘\n"
      ]
     },
     "metadata": {},
     "output_type": "display_data"
    },
    {
     "name": "stderr",
     "output_type": "stream",
     "text": [
      "GPU available: False, used: False\n",
      "TPU available: False, using: 0 TPU cores\n",
      "IPU available: False, using: 0 IPUs\n",
      "HPU available: False, using: 0 HPUs\n"
     ]
    },
    {
     "name": "stdout",
     "output_type": "stream",
     "text": [
      "{'a_include_BN': True, 'a_include_bias': False, 'activation_type': SELU(), 'b_include_BN': False, 'b_include_bias': True, 'pool_type': AvgPool2d(kernel_size=2, stride=2, padding=0), 'learning_rate': 0.0001, 'dropout_range_a': 0.3, 'dropout_range_b': 0.3}\n"
     ]
    },
    {
     "name": "stderr",
     "output_type": "stream",
     "text": [
      "\n",
      "   | Name                 | Type        | Params\n",
      "------------------------------------------------------\n",
      "0  | model                | MyModel     | 99.7 K\n",
      "1  | pre_layers           | Sequential  | 86.9 K\n",
      "2  | cnn1                 | Conv2d      | 65.5 K\n",
      "3  | batch_norm_a         | BatchNorm2d | 128   \n",
      "4  | dropout_1            | Dropout     | 0     \n",
      "5  | funcion_activacion_a | SELU        | 0     \n",
      "6  | cnn2                 | Conv2d      | 65.6 K\n",
      "7  | batch_norm_b         | BatchNorm2d | 128   \n",
      "8  | dropout_2            | Dropout     | 0     \n",
      "9  | pool2                | AvgPool2d   | 0     \n",
      "10 | fc1                  | Linear      | 10.2 K\n",
      "------------------------------------------------------\n",
      "141 K     Trainable params\n",
      "99.7 K    Non-trainable params\n",
      "241 K     Total params\n",
      "0.965     Total estimated model params size (MB)\n"
     ]
    },
    {
     "data": {
      "application/vnd.jupyter.widget-view+json": {
       "model_id": "ee3e1068df354e6ca335c3ade0b703c5",
       "version_major": 2,
       "version_minor": 0
      },
      "text/plain": [
       "Sanity Checking: 0it [00:00, ?it/s]"
      ]
     },
     "metadata": {},
     "output_type": "display_data"
    },
    {
     "data": {
      "application/vnd.jupyter.widget-view+json": {
       "model_id": "d3bb9bf13b5c4c418f4d5ecdaf9be0c7",
       "version_major": 2,
       "version_minor": 0
      },
      "text/plain": [
       "Training: 0it [00:00, ?it/s]"
      ]
     },
     "metadata": {},
     "output_type": "display_data"
    },
    {
     "data": {
      "application/vnd.jupyter.widget-view+json": {
       "model_id": "d9053f87ab48443b9c41af2701cde60e",
       "version_major": 2,
       "version_minor": 0
      },
      "text/plain": [
       "Validation: 0it [00:00, ?it/s]"
      ]
     },
     "metadata": {},
     "output_type": "display_data"
    },
    {
     "data": {
      "application/vnd.jupyter.widget-view+json": {
       "model_id": "0d6e1bd40b264c298b0e3cd92e7327b0",
       "version_major": 2,
       "version_minor": 0
      },
      "text/plain": [
       "Validation: 0it [00:00, ?it/s]"
      ]
     },
     "metadata": {},
     "output_type": "display_data"
    },
    {
     "data": {
      "application/vnd.jupyter.widget-view+json": {
       "model_id": "be913d2a7f87496c8aae4e1f400c87fb",
       "version_major": 2,
       "version_minor": 0
      },
      "text/plain": [
       "Validation: 0it [00:00, ?it/s]"
      ]
     },
     "metadata": {},
     "output_type": "display_data"
    },
    {
     "data": {
      "application/vnd.jupyter.widget-view+json": {
       "model_id": "27b8da9298ef4d94b6ba2f609b5e37e6",
       "version_major": 2,
       "version_minor": 0
      },
      "text/plain": [
       "Validation: 0it [00:00, ?it/s]"
      ]
     },
     "metadata": {},
     "output_type": "display_data"
    },
    {
     "data": {
      "application/vnd.jupyter.widget-view+json": {
       "model_id": "21d55d9cd8354f709bca312ca59d2fde",
       "version_major": 2,
       "version_minor": 0
      },
      "text/plain": [
       "Validation: 0it [00:00, ?it/s]"
      ]
     },
     "metadata": {},
     "output_type": "display_data"
    },
    {
     "name": "stderr",
     "output_type": "stream",
     "text": [
      "`Trainer.fit` stopped: `max_epochs=5` reached.\n",
      "Restoring states from the checkpoint path at c:\\Users\\w10\\Desktop\\BMA\\UPV\\tia\\algoritmos_geneticos\\notebooks\\lightning_logs\\version_435\\checkpoints\\epoch=4-step=150.ckpt\n",
      "Loaded model weights from the checkpoint at c:\\Users\\w10\\Desktop\\BMA\\UPV\\tia\\algoritmos_geneticos\\notebooks\\lightning_logs\\version_435\\checkpoints\\epoch=4-step=150.ckpt\n"
     ]
    },
    {
     "data": {
      "application/vnd.jupyter.widget-view+json": {
       "model_id": "b083048fe8464aab8ce3da182c59e929",
       "version_major": 2,
       "version_minor": 0
      },
      "text/plain": [
       "Testing: 0it [00:00, ?it/s]"
      ]
     },
     "metadata": {},
     "output_type": "display_data"
    },
    {
     "data": {
      "text/html": [
       "<pre style=\"white-space:pre;overflow-x:auto;line-height:normal;font-family:Menlo,'DejaVu Sans Mono',consolas,'Courier New',monospace\">┏━━━━━━━━━━━━━━━━━━━━━━━━━━━┳━━━━━━━━━━━━━━━━━━━━━━━━━━━┓\n",
       "┃<span style=\"font-weight: bold\">        Test metric        </span>┃<span style=\"font-weight: bold\">       DataLoader 0        </span>┃\n",
       "┡━━━━━━━━━━━━━━━━━━━━━━━━━━━╇━━━━━━━━━━━━━━━━━━━━━━━━━━━┩\n",
       "│<span style=\"color: #008080; text-decoration-color: #008080\">         test_loss         </span>│<span style=\"color: #800080; text-decoration-color: #800080\">    2.0711963176727295     </span>│\n",
       "└───────────────────────────┴───────────────────────────┘\n",
       "</pre>\n"
      ],
      "text/plain": [
       "┏━━━━━━━━━━━━━━━━━━━━━━━━━━━┳━━━━━━━━━━━━━━━━━━━━━━━━━━━┓\n",
       "┃\u001b[1m \u001b[0m\u001b[1m       Test metric       \u001b[0m\u001b[1m \u001b[0m┃\u001b[1m \u001b[0m\u001b[1m      DataLoader 0       \u001b[0m\u001b[1m \u001b[0m┃\n",
       "┡━━━━━━━━━━━━━━━━━━━━━━━━━━━╇━━━━━━━━━━━━━━━━━━━━━━━━━━━┩\n",
       "│\u001b[36m \u001b[0m\u001b[36m        test_loss        \u001b[0m\u001b[36m \u001b[0m│\u001b[35m \u001b[0m\u001b[35m   2.0711963176727295    \u001b[0m\u001b[35m \u001b[0m│\n",
       "└───────────────────────────┴───────────────────────────┘\n"
      ]
     },
     "metadata": {},
     "output_type": "display_data"
    },
    {
     "name": "stderr",
     "output_type": "stream",
     "text": [
      "GPU available: False, used: False\n",
      "TPU available: False, using: 0 TPU cores\n",
      "IPU available: False, using: 0 IPUs\n",
      "HPU available: False, using: 0 HPUs\n"
     ]
    },
    {
     "name": "stdout",
     "output_type": "stream",
     "text": [
      "{'a_include_BN': False, 'a_include_bias': True, 'activation_type': SELU(), 'b_include_BN': True, 'b_include_bias': True, 'pool_type': MaxPool2d(kernel_size=2, stride=2, padding=0, dilation=1, ceil_mode=False), 'learning_rate': 0.01, 'dropout_range_a': 0, 'dropout_range_b': 0}\n"
     ]
    },
    {
     "name": "stderr",
     "output_type": "stream",
     "text": [
      "\n",
      "   | Name                 | Type        | Params\n",
      "------------------------------------------------------\n",
      "0  | model                | MyModel     | 99.7 K\n",
      "1  | pre_layers           | Sequential  | 86.9 K\n",
      "2  | cnn1                 | Conv2d      | 65.6 K\n",
      "3  | batch_norm_a         | BatchNorm2d | 128   \n",
      "4  | dropout_1            | Dropout     | 0     \n",
      "5  | funcion_activacion_a | SELU        | 0     \n",
      "6  | cnn2                 | Conv2d      | 65.6 K\n",
      "7  | batch_norm_b         | BatchNorm2d | 128   \n",
      "8  | dropout_2            | Dropout     | 0     \n",
      "9  | pool2                | MaxPool2d   | 0     \n",
      "10 | fc1                  | Linear      | 10.2 K\n",
      "------------------------------------------------------\n",
      "141 K     Trainable params\n",
      "99.7 K    Non-trainable params\n",
      "241 K     Total params\n",
      "0.966     Total estimated model params size (MB)\n"
     ]
    },
    {
     "data": {
      "application/vnd.jupyter.widget-view+json": {
       "model_id": "74c2f55412cb4a549cfdb1d7ae1ed248",
       "version_major": 2,
       "version_minor": 0
      },
      "text/plain": [
       "Sanity Checking: 0it [00:00, ?it/s]"
      ]
     },
     "metadata": {},
     "output_type": "display_data"
    },
    {
     "data": {
      "application/vnd.jupyter.widget-view+json": {
       "model_id": "53b9129151fe4f478aa9c3c96b2e2668",
       "version_major": 2,
       "version_minor": 0
      },
      "text/plain": [
       "Training: 0it [00:00, ?it/s]"
      ]
     },
     "metadata": {},
     "output_type": "display_data"
    },
    {
     "data": {
      "application/vnd.jupyter.widget-view+json": {
       "model_id": "4935728c42aa4c4d80ad44cd8a8e0508",
       "version_major": 2,
       "version_minor": 0
      },
      "text/plain": [
       "Validation: 0it [00:00, ?it/s]"
      ]
     },
     "metadata": {},
     "output_type": "display_data"
    },
    {
     "data": {
      "application/vnd.jupyter.widget-view+json": {
       "model_id": "2778152d44b64c60b1af05b5f0e0ad73",
       "version_major": 2,
       "version_minor": 0
      },
      "text/plain": [
       "Validation: 0it [00:00, ?it/s]"
      ]
     },
     "metadata": {},
     "output_type": "display_data"
    },
    {
     "data": {
      "application/vnd.jupyter.widget-view+json": {
       "model_id": "48daf15c722f41d683ce78e0690bdfa0",
       "version_major": 2,
       "version_minor": 0
      },
      "text/plain": [
       "Validation: 0it [00:00, ?it/s]"
      ]
     },
     "metadata": {},
     "output_type": "display_data"
    },
    {
     "data": {
      "application/vnd.jupyter.widget-view+json": {
       "model_id": "0a674ba8e7f7489b8ec3ee5ed3d547f5",
       "version_major": 2,
       "version_minor": 0
      },
      "text/plain": [
       "Validation: 0it [00:00, ?it/s]"
      ]
     },
     "metadata": {},
     "output_type": "display_data"
    },
    {
     "data": {
      "application/vnd.jupyter.widget-view+json": {
       "model_id": "ea0b64127a774ac39ae31f1839f4727e",
       "version_major": 2,
       "version_minor": 0
      },
      "text/plain": [
       "Validation: 0it [00:00, ?it/s]"
      ]
     },
     "metadata": {},
     "output_type": "display_data"
    },
    {
     "name": "stderr",
     "output_type": "stream",
     "text": [
      "`Trainer.fit` stopped: `max_epochs=5` reached.\n",
      "Restoring states from the checkpoint path at c:\\Users\\w10\\Desktop\\BMA\\UPV\\tia\\algoritmos_geneticos\\notebooks\\lightning_logs\\version_436\\checkpoints\\epoch=4-step=150.ckpt\n",
      "Loaded model weights from the checkpoint at c:\\Users\\w10\\Desktop\\BMA\\UPV\\tia\\algoritmos_geneticos\\notebooks\\lightning_logs\\version_436\\checkpoints\\epoch=4-step=150.ckpt\n"
     ]
    },
    {
     "data": {
      "application/vnd.jupyter.widget-view+json": {
       "model_id": "1087729630e04f02813472bbef22191e",
       "version_major": 2,
       "version_minor": 0
      },
      "text/plain": [
       "Testing: 0it [00:00, ?it/s]"
      ]
     },
     "metadata": {},
     "output_type": "display_data"
    },
    {
     "data": {
      "text/html": [
       "<pre style=\"white-space:pre;overflow-x:auto;line-height:normal;font-family:Menlo,'DejaVu Sans Mono',consolas,'Courier New',monospace\">┏━━━━━━━━━━━━━━━━━━━━━━━━━━━┳━━━━━━━━━━━━━━━━━━━━━━━━━━━┓\n",
       "┃<span style=\"font-weight: bold\">        Test metric        </span>┃<span style=\"font-weight: bold\">       DataLoader 0        </span>┃\n",
       "┡━━━━━━━━━━━━━━━━━━━━━━━━━━━╇━━━━━━━━━━━━━━━━━━━━━━━━━━━┩\n",
       "│<span style=\"color: #008080; text-decoration-color: #008080\">         test_loss         </span>│<span style=\"color: #800080; text-decoration-color: #800080\">    0.6908285617828369     </span>│\n",
       "└───────────────────────────┴───────────────────────────┘\n",
       "</pre>\n"
      ],
      "text/plain": [
       "┏━━━━━━━━━━━━━━━━━━━━━━━━━━━┳━━━━━━━━━━━━━━━━━━━━━━━━━━━┓\n",
       "┃\u001b[1m \u001b[0m\u001b[1m       Test metric       \u001b[0m\u001b[1m \u001b[0m┃\u001b[1m \u001b[0m\u001b[1m      DataLoader 0       \u001b[0m\u001b[1m \u001b[0m┃\n",
       "┡━━━━━━━━━━━━━━━━━━━━━━━━━━━╇━━━━━━━━━━━━━━━━━━━━━━━━━━━┩\n",
       "│\u001b[36m \u001b[0m\u001b[36m        test_loss        \u001b[0m\u001b[36m \u001b[0m│\u001b[35m \u001b[0m\u001b[35m   0.6908285617828369    \u001b[0m\u001b[35m \u001b[0m│\n",
       "└───────────────────────────┴───────────────────────────┘\n"
      ]
     },
     "metadata": {},
     "output_type": "display_data"
    },
    {
     "name": "stderr",
     "output_type": "stream",
     "text": [
      "GPU available: False, used: False\n",
      "TPU available: False, using: 0 TPU cores\n",
      "IPU available: False, using: 0 IPUs\n",
      "HPU available: False, using: 0 HPUs\n"
     ]
    },
    {
     "name": "stdout",
     "output_type": "stream",
     "text": [
      "{'a_include_BN': False, 'a_include_bias': True, 'activation_type': SELU(), 'b_include_BN': True, 'b_include_bias': True, 'pool_type': MaxPool2d(kernel_size=2, stride=2, padding=0, dilation=1, ceil_mode=False), 'learning_rate': 0.0001, 'dropout_range_a': 0.1, 'dropout_range_b': 0.1}\n"
     ]
    },
    {
     "name": "stderr",
     "output_type": "stream",
     "text": [
      "\n",
      "   | Name                 | Type        | Params\n",
      "------------------------------------------------------\n",
      "0  | model                | MyModel     | 99.7 K\n",
      "1  | pre_layers           | Sequential  | 86.9 K\n",
      "2  | cnn1                 | Conv2d      | 65.6 K\n",
      "3  | batch_norm_a         | BatchNorm2d | 128   \n",
      "4  | dropout_1            | Dropout     | 0     \n",
      "5  | funcion_activacion_a | SELU        | 0     \n",
      "6  | cnn2                 | Conv2d      | 65.6 K\n",
      "7  | batch_norm_b         | BatchNorm2d | 128   \n",
      "8  | dropout_2            | Dropout     | 0     \n",
      "9  | pool2                | MaxPool2d   | 0     \n",
      "10 | fc1                  | Linear      | 10.2 K\n",
      "------------------------------------------------------\n",
      "141 K     Trainable params\n",
      "99.7 K    Non-trainable params\n",
      "241 K     Total params\n",
      "0.966     Total estimated model params size (MB)\n"
     ]
    },
    {
     "data": {
      "application/vnd.jupyter.widget-view+json": {
       "model_id": "74c5ac3e6a4b44b0a720b763fc8a93e3",
       "version_major": 2,
       "version_minor": 0
      },
      "text/plain": [
       "Sanity Checking: 0it [00:00, ?it/s]"
      ]
     },
     "metadata": {},
     "output_type": "display_data"
    },
    {
     "data": {
      "application/vnd.jupyter.widget-view+json": {
       "model_id": "3bc34f921fe44a56b428e2a76bcb1e8c",
       "version_major": 2,
       "version_minor": 0
      },
      "text/plain": [
       "Training: 0it [00:00, ?it/s]"
      ]
     },
     "metadata": {},
     "output_type": "display_data"
    },
    {
     "data": {
      "application/vnd.jupyter.widget-view+json": {
       "model_id": "93af01e414cb40cebbbf58ce1d10924b",
       "version_major": 2,
       "version_minor": 0
      },
      "text/plain": [
       "Validation: 0it [00:00, ?it/s]"
      ]
     },
     "metadata": {},
     "output_type": "display_data"
    },
    {
     "data": {
      "application/vnd.jupyter.widget-view+json": {
       "model_id": "c735e83685464972bff661a10bee6a18",
       "version_major": 2,
       "version_minor": 0
      },
      "text/plain": [
       "Validation: 0it [00:00, ?it/s]"
      ]
     },
     "metadata": {},
     "output_type": "display_data"
    },
    {
     "data": {
      "application/vnd.jupyter.widget-view+json": {
       "model_id": "0d734b1548214730aae9dcbfbf943219",
       "version_major": 2,
       "version_minor": 0
      },
      "text/plain": [
       "Validation: 0it [00:00, ?it/s]"
      ]
     },
     "metadata": {},
     "output_type": "display_data"
    },
    {
     "data": {
      "application/vnd.jupyter.widget-view+json": {
       "model_id": "8464150f64094e759b4f26ed0f3b3f29",
       "version_major": 2,
       "version_minor": 0
      },
      "text/plain": [
       "Validation: 0it [00:00, ?it/s]"
      ]
     },
     "metadata": {},
     "output_type": "display_data"
    },
    {
     "data": {
      "application/vnd.jupyter.widget-view+json": {
       "model_id": "dc8b60edbf474f1f811ce2e9e176afc6",
       "version_major": 2,
       "version_minor": 0
      },
      "text/plain": [
       "Validation: 0it [00:00, ?it/s]"
      ]
     },
     "metadata": {},
     "output_type": "display_data"
    },
    {
     "name": "stderr",
     "output_type": "stream",
     "text": [
      "`Trainer.fit` stopped: `max_epochs=5` reached.\n",
      "Restoring states from the checkpoint path at c:\\Users\\w10\\Desktop\\BMA\\UPV\\tia\\algoritmos_geneticos\\notebooks\\lightning_logs\\version_437\\checkpoints\\epoch=4-step=150.ckpt\n",
      "Loaded model weights from the checkpoint at c:\\Users\\w10\\Desktop\\BMA\\UPV\\tia\\algoritmos_geneticos\\notebooks\\lightning_logs\\version_437\\checkpoints\\epoch=4-step=150.ckpt\n"
     ]
    },
    {
     "data": {
      "application/vnd.jupyter.widget-view+json": {
       "model_id": "0e8f1413b1f746bfbf2dfd6ceb624daf",
       "version_major": 2,
       "version_minor": 0
      },
      "text/plain": [
       "Testing: 0it [00:00, ?it/s]"
      ]
     },
     "metadata": {},
     "output_type": "display_data"
    },
    {
     "data": {
      "text/html": [
       "<pre style=\"white-space:pre;overflow-x:auto;line-height:normal;font-family:Menlo,'DejaVu Sans Mono',consolas,'Courier New',monospace\">┏━━━━━━━━━━━━━━━━━━━━━━━━━━━┳━━━━━━━━━━━━━━━━━━━━━━━━━━━┓\n",
       "┃<span style=\"font-weight: bold\">        Test metric        </span>┃<span style=\"font-weight: bold\">       DataLoader 0        </span>┃\n",
       "┡━━━━━━━━━━━━━━━━━━━━━━━━━━━╇━━━━━━━━━━━━━━━━━━━━━━━━━━━┩\n",
       "│<span style=\"color: #008080; text-decoration-color: #008080\">         test_loss         </span>│<span style=\"color: #800080; text-decoration-color: #800080\">    1.7986677885055542     </span>│\n",
       "└───────────────────────────┴───────────────────────────┘\n",
       "</pre>\n"
      ],
      "text/plain": [
       "┏━━━━━━━━━━━━━━━━━━━━━━━━━━━┳━━━━━━━━━━━━━━━━━━━━━━━━━━━┓\n",
       "┃\u001b[1m \u001b[0m\u001b[1m       Test metric       \u001b[0m\u001b[1m \u001b[0m┃\u001b[1m \u001b[0m\u001b[1m      DataLoader 0       \u001b[0m\u001b[1m \u001b[0m┃\n",
       "┡━━━━━━━━━━━━━━━━━━━━━━━━━━━╇━━━━━━━━━━━━━━━━━━━━━━━━━━━┩\n",
       "│\u001b[36m \u001b[0m\u001b[36m        test_loss        \u001b[0m\u001b[36m \u001b[0m│\u001b[35m \u001b[0m\u001b[35m   1.7986677885055542    \u001b[0m\u001b[35m \u001b[0m│\n",
       "└───────────────────────────┴───────────────────────────┘\n"
      ]
     },
     "metadata": {},
     "output_type": "display_data"
    },
    {
     "name": "stderr",
     "output_type": "stream",
     "text": [
      "GPU available: False, used: False\n",
      "TPU available: False, using: 0 TPU cores\n",
      "IPU available: False, using: 0 IPUs\n",
      "HPU available: False, using: 0 HPUs\n"
     ]
    },
    {
     "name": "stdout",
     "output_type": "stream",
     "text": [
      "nan\n",
      "4\n",
      "4\n",
      "{'a_include_BN': True, 'a_include_bias': False, 'activation_type': SELU(), 'b_include_BN': False, 'b_include_bias': False, 'pool_type': AvgPool2d(kernel_size=2, stride=2, padding=0), 'learning_rate': 0.1, 'dropout_range_a': 0, 'dropout_range_b': 0.3}\n"
     ]
    },
    {
     "name": "stderr",
     "output_type": "stream",
     "text": [
      "\n",
      "   | Name                 | Type        | Params\n",
      "------------------------------------------------------\n",
      "0  | model                | MyModel     | 99.7 K\n",
      "1  | pre_layers           | Sequential  | 86.9 K\n",
      "2  | cnn1                 | Conv2d      | 65.5 K\n",
      "3  | batch_norm_a         | BatchNorm2d | 128   \n",
      "4  | dropout_1            | Dropout     | 0     \n",
      "5  | funcion_activacion_a | SELU        | 0     \n",
      "6  | cnn2                 | Conv2d      | 65.5 K\n",
      "7  | batch_norm_b         | BatchNorm2d | 128   \n",
      "8  | dropout_2            | Dropout     | 0     \n",
      "9  | pool2                | AvgPool2d   | 0     \n",
      "10 | fc1                  | Linear      | 10.2 K\n",
      "------------------------------------------------------\n",
      "141 K     Trainable params\n",
      "99.7 K    Non-trainable params\n",
      "241 K     Total params\n",
      "0.965     Total estimated model params size (MB)\n"
     ]
    },
    {
     "data": {
      "application/vnd.jupyter.widget-view+json": {
       "model_id": "68c023538d2948da8be9864ca3af2798",
       "version_major": 2,
       "version_minor": 0
      },
      "text/plain": [
       "Sanity Checking: 0it [00:00, ?it/s]"
      ]
     },
     "metadata": {},
     "output_type": "display_data"
    },
    {
     "data": {
      "application/vnd.jupyter.widget-view+json": {
       "model_id": "e858374d4322443aabbfedfc22d793a9",
       "version_major": 2,
       "version_minor": 0
      },
      "text/plain": [
       "Training: 0it [00:00, ?it/s]"
      ]
     },
     "metadata": {},
     "output_type": "display_data"
    },
    {
     "data": {
      "application/vnd.jupyter.widget-view+json": {
       "model_id": "917b99ab111f4a4bb6aa9d82d01127d8",
       "version_major": 2,
       "version_minor": 0
      },
      "text/plain": [
       "Validation: 0it [00:00, ?it/s]"
      ]
     },
     "metadata": {},
     "output_type": "display_data"
    },
    {
     "data": {
      "application/vnd.jupyter.widget-view+json": {
       "model_id": "68ddd9a58b754afe978707af883160c4",
       "version_major": 2,
       "version_minor": 0
      },
      "text/plain": [
       "Validation: 0it [00:00, ?it/s]"
      ]
     },
     "metadata": {},
     "output_type": "display_data"
    },
    {
     "data": {
      "application/vnd.jupyter.widget-view+json": {
       "model_id": "3112fad9fa7b466abd3de26c54aa2f5e",
       "version_major": 2,
       "version_minor": 0
      },
      "text/plain": [
       "Validation: 0it [00:00, ?it/s]"
      ]
     },
     "metadata": {},
     "output_type": "display_data"
    },
    {
     "data": {
      "application/vnd.jupyter.widget-view+json": {
       "model_id": "f95e0deb46d8430cb4c16d25346f7e33",
       "version_major": 2,
       "version_minor": 0
      },
      "text/plain": [
       "Validation: 0it [00:00, ?it/s]"
      ]
     },
     "metadata": {},
     "output_type": "display_data"
    },
    {
     "data": {
      "application/vnd.jupyter.widget-view+json": {
       "model_id": "cf5facca00ab429fa6d4d314e0937df5",
       "version_major": 2,
       "version_minor": 0
      },
      "text/plain": [
       "Validation: 0it [00:00, ?it/s]"
      ]
     },
     "metadata": {},
     "output_type": "display_data"
    },
    {
     "name": "stderr",
     "output_type": "stream",
     "text": [
      "`Trainer.fit` stopped: `max_epochs=5` reached.\n",
      "Restoring states from the checkpoint path at c:\\Users\\w10\\Desktop\\BMA\\UPV\\tia\\algoritmos_geneticos\\notebooks\\lightning_logs\\version_438\\checkpoints\\epoch=4-step=150.ckpt\n",
      "Loaded model weights from the checkpoint at c:\\Users\\w10\\Desktop\\BMA\\UPV\\tia\\algoritmos_geneticos\\notebooks\\lightning_logs\\version_438\\checkpoints\\epoch=4-step=150.ckpt\n"
     ]
    },
    {
     "data": {
      "application/vnd.jupyter.widget-view+json": {
       "model_id": "c3a6b2e19944406f87ee5d7cc10f5e59",
       "version_major": 2,
       "version_minor": 0
      },
      "text/plain": [
       "Testing: 0it [00:00, ?it/s]"
      ]
     },
     "metadata": {},
     "output_type": "display_data"
    },
    {
     "data": {
      "text/html": [
       "<pre style=\"white-space:pre;overflow-x:auto;line-height:normal;font-family:Menlo,'DejaVu Sans Mono',consolas,'Courier New',monospace\">┏━━━━━━━━━━━━━━━━━━━━━━━━━━━┳━━━━━━━━━━━━━━━━━━━━━━━━━━━┓\n",
       "┃<span style=\"font-weight: bold\">        Test metric        </span>┃<span style=\"font-weight: bold\">       DataLoader 0        </span>┃\n",
       "┡━━━━━━━━━━━━━━━━━━━━━━━━━━━╇━━━━━━━━━━━━━━━━━━━━━━━━━━━┩\n",
       "│<span style=\"color: #008080; text-decoration-color: #008080\">         test_loss         </span>│<span style=\"color: #800080; text-decoration-color: #800080\">   1.318478598789451e+19   </span>│\n",
       "└───────────────────────────┴───────────────────────────┘\n",
       "</pre>\n"
      ],
      "text/plain": [
       "┏━━━━━━━━━━━━━━━━━━━━━━━━━━━┳━━━━━━━━━━━━━━━━━━━━━━━━━━━┓\n",
       "┃\u001b[1m \u001b[0m\u001b[1m       Test metric       \u001b[0m\u001b[1m \u001b[0m┃\u001b[1m \u001b[0m\u001b[1m      DataLoader 0       \u001b[0m\u001b[1m \u001b[0m┃\n",
       "┡━━━━━━━━━━━━━━━━━━━━━━━━━━━╇━━━━━━━━━━━━━━━━━━━━━━━━━━━┩\n",
       "│\u001b[36m \u001b[0m\u001b[36m        test_loss        \u001b[0m\u001b[36m \u001b[0m│\u001b[35m \u001b[0m\u001b[35m  1.318478598789451e+19  \u001b[0m\u001b[35m \u001b[0m│\n",
       "└───────────────────────────┴───────────────────────────┘\n"
      ]
     },
     "metadata": {},
     "output_type": "display_data"
    },
    {
     "name": "stderr",
     "output_type": "stream",
     "text": [
      "GPU available: False, used: False\n",
      "TPU available: False, using: 0 TPU cores\n",
      "IPU available: False, using: 0 IPUs\n",
      "HPU available: False, using: 0 HPUs\n"
     ]
    },
    {
     "name": "stdout",
     "output_type": "stream",
     "text": [
      "{'a_include_BN': False, 'a_include_bias': True, 'activation_type': SELU(), 'b_include_BN': True, 'b_include_bias': True, 'pool_type': MaxPool2d(kernel_size=2, stride=2, padding=0, dilation=1, ceil_mode=False), 'learning_rate': 0.01, 'dropout_range_a': 0, 'dropout_range_b': 0}\n"
     ]
    },
    {
     "name": "stderr",
     "output_type": "stream",
     "text": [
      "\n",
      "   | Name                 | Type        | Params\n",
      "------------------------------------------------------\n",
      "0  | model                | MyModel     | 99.7 K\n",
      "1  | pre_layers           | Sequential  | 86.9 K\n",
      "2  | cnn1                 | Conv2d      | 65.6 K\n",
      "3  | batch_norm_a         | BatchNorm2d | 128   \n",
      "4  | dropout_1            | Dropout     | 0     \n",
      "5  | funcion_activacion_a | SELU        | 0     \n",
      "6  | cnn2                 | Conv2d      | 65.6 K\n",
      "7  | batch_norm_b         | BatchNorm2d | 128   \n",
      "8  | dropout_2            | Dropout     | 0     \n",
      "9  | pool2                | MaxPool2d   | 0     \n",
      "10 | fc1                  | Linear      | 10.2 K\n",
      "------------------------------------------------------\n",
      "141 K     Trainable params\n",
      "99.7 K    Non-trainable params\n",
      "241 K     Total params\n",
      "0.966     Total estimated model params size (MB)\n"
     ]
    },
    {
     "data": {
      "application/vnd.jupyter.widget-view+json": {
       "model_id": "c74ac68d6e1a4afb818f59046473745b",
       "version_major": 2,
       "version_minor": 0
      },
      "text/plain": [
       "Sanity Checking: 0it [00:00, ?it/s]"
      ]
     },
     "metadata": {},
     "output_type": "display_data"
    },
    {
     "data": {
      "application/vnd.jupyter.widget-view+json": {
       "model_id": "581def40bd44441cb0895d3bd9f25aff",
       "version_major": 2,
       "version_minor": 0
      },
      "text/plain": [
       "Training: 0it [00:00, ?it/s]"
      ]
     },
     "metadata": {},
     "output_type": "display_data"
    },
    {
     "data": {
      "application/vnd.jupyter.widget-view+json": {
       "model_id": "388046dcc9df48768f9cb0cab7aa1be7",
       "version_major": 2,
       "version_minor": 0
      },
      "text/plain": [
       "Validation: 0it [00:00, ?it/s]"
      ]
     },
     "metadata": {},
     "output_type": "display_data"
    },
    {
     "data": {
      "application/vnd.jupyter.widget-view+json": {
       "model_id": "d289723a38694b3d977f50d065ee7dac",
       "version_major": 2,
       "version_minor": 0
      },
      "text/plain": [
       "Validation: 0it [00:00, ?it/s]"
      ]
     },
     "metadata": {},
     "output_type": "display_data"
    },
    {
     "data": {
      "application/vnd.jupyter.widget-view+json": {
       "model_id": "80d863d1a3ca4c899ed129975f1912af",
       "version_major": 2,
       "version_minor": 0
      },
      "text/plain": [
       "Validation: 0it [00:00, ?it/s]"
      ]
     },
     "metadata": {},
     "output_type": "display_data"
    },
    {
     "data": {
      "application/vnd.jupyter.widget-view+json": {
       "model_id": "2b29ae98857b4916995437bdeff96e1a",
       "version_major": 2,
       "version_minor": 0
      },
      "text/plain": [
       "Validation: 0it [00:00, ?it/s]"
      ]
     },
     "metadata": {},
     "output_type": "display_data"
    },
    {
     "data": {
      "application/vnd.jupyter.widget-view+json": {
       "model_id": "b287f237128e44f39552f7597d15af3f",
       "version_major": 2,
       "version_minor": 0
      },
      "text/plain": [
       "Validation: 0it [00:00, ?it/s]"
      ]
     },
     "metadata": {},
     "output_type": "display_data"
    },
    {
     "name": "stderr",
     "output_type": "stream",
     "text": [
      "`Trainer.fit` stopped: `max_epochs=5` reached.\n",
      "Restoring states from the checkpoint path at c:\\Users\\w10\\Desktop\\BMA\\UPV\\tia\\algoritmos_geneticos\\notebooks\\lightning_logs\\version_439\\checkpoints\\epoch=4-step=150.ckpt\n",
      "Loaded model weights from the checkpoint at c:\\Users\\w10\\Desktop\\BMA\\UPV\\tia\\algoritmos_geneticos\\notebooks\\lightning_logs\\version_439\\checkpoints\\epoch=4-step=150.ckpt\n"
     ]
    },
    {
     "data": {
      "application/vnd.jupyter.widget-view+json": {
       "model_id": "9a354687f0e34c3e9c8d3b527d4ea428",
       "version_major": 2,
       "version_minor": 0
      },
      "text/plain": [
       "Testing: 0it [00:00, ?it/s]"
      ]
     },
     "metadata": {},
     "output_type": "display_data"
    },
    {
     "data": {
      "text/html": [
       "<pre style=\"white-space:pre;overflow-x:auto;line-height:normal;font-family:Menlo,'DejaVu Sans Mono',consolas,'Courier New',monospace\">┏━━━━━━━━━━━━━━━━━━━━━━━━━━━┳━━━━━━━━━━━━━━━━━━━━━━━━━━━┓\n",
       "┃<span style=\"font-weight: bold\">        Test metric        </span>┃<span style=\"font-weight: bold\">       DataLoader 0        </span>┃\n",
       "┡━━━━━━━━━━━━━━━━━━━━━━━━━━━╇━━━━━━━━━━━━━━━━━━━━━━━━━━━┩\n",
       "│<span style=\"color: #008080; text-decoration-color: #008080\">         test_loss         </span>│<span style=\"color: #800080; text-decoration-color: #800080\">    0.7223055958747864     </span>│\n",
       "└───────────────────────────┴───────────────────────────┘\n",
       "</pre>\n"
      ],
      "text/plain": [
       "┏━━━━━━━━━━━━━━━━━━━━━━━━━━━┳━━━━━━━━━━━━━━━━━━━━━━━━━━━┓\n",
       "┃\u001b[1m \u001b[0m\u001b[1m       Test metric       \u001b[0m\u001b[1m \u001b[0m┃\u001b[1m \u001b[0m\u001b[1m      DataLoader 0       \u001b[0m\u001b[1m \u001b[0m┃\n",
       "┡━━━━━━━━━━━━━━━━━━━━━━━━━━━╇━━━━━━━━━━━━━━━━━━━━━━━━━━━┩\n",
       "│\u001b[36m \u001b[0m\u001b[36m        test_loss        \u001b[0m\u001b[36m \u001b[0m│\u001b[35m \u001b[0m\u001b[35m   0.7223055958747864    \u001b[0m\u001b[35m \u001b[0m│\n",
       "└───────────────────────────┴───────────────────────────┘\n"
      ]
     },
     "metadata": {},
     "output_type": "display_data"
    },
    {
     "name": "stderr",
     "output_type": "stream",
     "text": [
      "GPU available: False, used: False\n",
      "TPU available: False, using: 0 TPU cores\n",
      "IPU available: False, using: 0 IPUs\n",
      "HPU available: False, using: 0 HPUs\n"
     ]
    },
    {
     "name": "stdout",
     "output_type": "stream",
     "text": [
      "{'a_include_BN': False, 'a_include_bias': False, 'activation_type': SELU(), 'b_include_BN': False, 'b_include_bias': True, 'pool_type': MaxPool2d(kernel_size=2, stride=2, padding=0, dilation=1, ceil_mode=False), 'learning_rate': 0.01, 'dropout_range_a': 0, 'dropout_range_b': 0}\n"
     ]
    },
    {
     "name": "stderr",
     "output_type": "stream",
     "text": [
      "\n",
      "   | Name                 | Type        | Params\n",
      "------------------------------------------------------\n",
      "0  | model                | MyModel     | 99.7 K\n",
      "1  | pre_layers           | Sequential  | 86.9 K\n",
      "2  | cnn1                 | Conv2d      | 65.5 K\n",
      "3  | batch_norm_a         | BatchNorm2d | 128   \n",
      "4  | dropout_1            | Dropout     | 0     \n",
      "5  | funcion_activacion_a | SELU        | 0     \n",
      "6  | cnn2                 | Conv2d      | 65.6 K\n",
      "7  | batch_norm_b         | BatchNorm2d | 128   \n",
      "8  | dropout_2            | Dropout     | 0     \n",
      "9  | pool2                | MaxPool2d   | 0     \n",
      "10 | fc1                  | Linear      | 10.2 K\n",
      "------------------------------------------------------\n",
      "141 K     Trainable params\n",
      "99.7 K    Non-trainable params\n",
      "241 K     Total params\n",
      "0.965     Total estimated model params size (MB)\n"
     ]
    },
    {
     "data": {
      "application/vnd.jupyter.widget-view+json": {
       "model_id": "8768a902e6ae4174b904228501749a64",
       "version_major": 2,
       "version_minor": 0
      },
      "text/plain": [
       "Sanity Checking: 0it [00:00, ?it/s]"
      ]
     },
     "metadata": {},
     "output_type": "display_data"
    },
    {
     "data": {
      "application/vnd.jupyter.widget-view+json": {
       "model_id": "95b550b11e444883a5d25531ecb4d82b",
       "version_major": 2,
       "version_minor": 0
      },
      "text/plain": [
       "Training: 0it [00:00, ?it/s]"
      ]
     },
     "metadata": {},
     "output_type": "display_data"
    },
    {
     "data": {
      "application/vnd.jupyter.widget-view+json": {
       "model_id": "cb6655f4868e402da2285bb2815a1e38",
       "version_major": 2,
       "version_minor": 0
      },
      "text/plain": [
       "Validation: 0it [00:00, ?it/s]"
      ]
     },
     "metadata": {},
     "output_type": "display_data"
    },
    {
     "data": {
      "application/vnd.jupyter.widget-view+json": {
       "model_id": "b2f89a91f60849649b5a37ab4dcef686",
       "version_major": 2,
       "version_minor": 0
      },
      "text/plain": [
       "Validation: 0it [00:00, ?it/s]"
      ]
     },
     "metadata": {},
     "output_type": "display_data"
    },
    {
     "data": {
      "application/vnd.jupyter.widget-view+json": {
       "model_id": "61525c30d69345a6a3e795a1eec3ddde",
       "version_major": 2,
       "version_minor": 0
      },
      "text/plain": [
       "Validation: 0it [00:00, ?it/s]"
      ]
     },
     "metadata": {},
     "output_type": "display_data"
    },
    {
     "data": {
      "application/vnd.jupyter.widget-view+json": {
       "model_id": "5a48cd6b54424e3aadc8252b357e52e5",
       "version_major": 2,
       "version_minor": 0
      },
      "text/plain": [
       "Validation: 0it [00:00, ?it/s]"
      ]
     },
     "metadata": {},
     "output_type": "display_data"
    },
    {
     "data": {
      "application/vnd.jupyter.widget-view+json": {
       "model_id": "dc1a09d66f384243b9b44a64c754972a",
       "version_major": 2,
       "version_minor": 0
      },
      "text/plain": [
       "Validation: 0it [00:00, ?it/s]"
      ]
     },
     "metadata": {},
     "output_type": "display_data"
    },
    {
     "name": "stderr",
     "output_type": "stream",
     "text": [
      "`Trainer.fit` stopped: `max_epochs=5` reached.\n",
      "Restoring states from the checkpoint path at c:\\Users\\w10\\Desktop\\BMA\\UPV\\tia\\algoritmos_geneticos\\notebooks\\lightning_logs\\version_440\\checkpoints\\epoch=4-step=150.ckpt\n",
      "Loaded model weights from the checkpoint at c:\\Users\\w10\\Desktop\\BMA\\UPV\\tia\\algoritmos_geneticos\\notebooks\\lightning_logs\\version_440\\checkpoints\\epoch=4-step=150.ckpt\n"
     ]
    },
    {
     "data": {
      "application/vnd.jupyter.widget-view+json": {
       "model_id": "a4233b8fbfc74c42acb3ca68df49eb63",
       "version_major": 2,
       "version_minor": 0
      },
      "text/plain": [
       "Testing: 0it [00:00, ?it/s]"
      ]
     },
     "metadata": {},
     "output_type": "display_data"
    },
    {
     "data": {
      "text/html": [
       "<pre style=\"white-space:pre;overflow-x:auto;line-height:normal;font-family:Menlo,'DejaVu Sans Mono',consolas,'Courier New',monospace\">┏━━━━━━━━━━━━━━━━━━━━━━━━━━━┳━━━━━━━━━━━━━━━━━━━━━━━━━━━┓\n",
       "┃<span style=\"font-weight: bold\">        Test metric        </span>┃<span style=\"font-weight: bold\">       DataLoader 0        </span>┃\n",
       "┡━━━━━━━━━━━━━━━━━━━━━━━━━━━╇━━━━━━━━━━━━━━━━━━━━━━━━━━━┩\n",
       "│<span style=\"color: #008080; text-decoration-color: #008080\">         test_loss         </span>│<span style=\"color: #800080; text-decoration-color: #800080\">    0.7087896466255188     </span>│\n",
       "└───────────────────────────┴───────────────────────────┘\n",
       "</pre>\n"
      ],
      "text/plain": [
       "┏━━━━━━━━━━━━━━━━━━━━━━━━━━━┳━━━━━━━━━━━━━━━━━━━━━━━━━━━┓\n",
       "┃\u001b[1m \u001b[0m\u001b[1m       Test metric       \u001b[0m\u001b[1m \u001b[0m┃\u001b[1m \u001b[0m\u001b[1m      DataLoader 0       \u001b[0m\u001b[1m \u001b[0m┃\n",
       "┡━━━━━━━━━━━━━━━━━━━━━━━━━━━╇━━━━━━━━━━━━━━━━━━━━━━━━━━━┩\n",
       "│\u001b[36m \u001b[0m\u001b[36m        test_loss        \u001b[0m\u001b[36m \u001b[0m│\u001b[35m \u001b[0m\u001b[35m   0.7087896466255188    \u001b[0m\u001b[35m \u001b[0m│\n",
       "└───────────────────────────┴───────────────────────────┘\n"
      ]
     },
     "metadata": {},
     "output_type": "display_data"
    },
    {
     "name": "stderr",
     "output_type": "stream",
     "text": [
      "GPU available: False, used: False\n",
      "TPU available: False, using: 0 TPU cores\n",
      "IPU available: False, using: 0 IPUs\n",
      "HPU available: False, using: 0 HPUs\n"
     ]
    },
    {
     "name": "stdout",
     "output_type": "stream",
     "text": [
      "{'a_include_BN': False, 'a_include_bias': True, 'activation_type': SELU(), 'b_include_BN': True, 'b_include_bias': True, 'pool_type': MaxPool2d(kernel_size=2, stride=2, padding=0, dilation=1, ceil_mode=False), 'learning_rate': 0.0001, 'dropout_range_a': 0.1, 'dropout_range_b': 0.1}\n"
     ]
    },
    {
     "name": "stderr",
     "output_type": "stream",
     "text": [
      "\n",
      "   | Name                 | Type        | Params\n",
      "------------------------------------------------------\n",
      "0  | model                | MyModel     | 99.7 K\n",
      "1  | pre_layers           | Sequential  | 86.9 K\n",
      "2  | cnn1                 | Conv2d      | 65.6 K\n",
      "3  | batch_norm_a         | BatchNorm2d | 128   \n",
      "4  | dropout_1            | Dropout     | 0     \n",
      "5  | funcion_activacion_a | SELU        | 0     \n",
      "6  | cnn2                 | Conv2d      | 65.6 K\n",
      "7  | batch_norm_b         | BatchNorm2d | 128   \n",
      "8  | dropout_2            | Dropout     | 0     \n",
      "9  | pool2                | MaxPool2d   | 0     \n",
      "10 | fc1                  | Linear      | 10.2 K\n",
      "------------------------------------------------------\n",
      "141 K     Trainable params\n",
      "99.7 K    Non-trainable params\n",
      "241 K     Total params\n",
      "0.966     Total estimated model params size (MB)\n"
     ]
    },
    {
     "data": {
      "application/vnd.jupyter.widget-view+json": {
       "model_id": "762e9bf342824c67bc0f5fbc126c89a3",
       "version_major": 2,
       "version_minor": 0
      },
      "text/plain": [
       "Sanity Checking: 0it [00:00, ?it/s]"
      ]
     },
     "metadata": {},
     "output_type": "display_data"
    },
    {
     "data": {
      "application/vnd.jupyter.widget-view+json": {
       "model_id": "051bdda3338145a89444238e2ef859e5",
       "version_major": 2,
       "version_minor": 0
      },
      "text/plain": [
       "Training: 0it [00:00, ?it/s]"
      ]
     },
     "metadata": {},
     "output_type": "display_data"
    },
    {
     "data": {
      "application/vnd.jupyter.widget-view+json": {
       "model_id": "14fa58a7b48a41429e12f73cf23cb412",
       "version_major": 2,
       "version_minor": 0
      },
      "text/plain": [
       "Validation: 0it [00:00, ?it/s]"
      ]
     },
     "metadata": {},
     "output_type": "display_data"
    },
    {
     "data": {
      "application/vnd.jupyter.widget-view+json": {
       "model_id": "bca94fae2b7f41c280d7411d24ce1a54",
       "version_major": 2,
       "version_minor": 0
      },
      "text/plain": [
       "Validation: 0it [00:00, ?it/s]"
      ]
     },
     "metadata": {},
     "output_type": "display_data"
    },
    {
     "data": {
      "application/vnd.jupyter.widget-view+json": {
       "model_id": "7dfc64ab0b0c4bb1bc26c96fb4d6e2c5",
       "version_major": 2,
       "version_minor": 0
      },
      "text/plain": [
       "Validation: 0it [00:00, ?it/s]"
      ]
     },
     "metadata": {},
     "output_type": "display_data"
    },
    {
     "data": {
      "application/vnd.jupyter.widget-view+json": {
       "model_id": "29caf535176c4c53aca6319716d0282e",
       "version_major": 2,
       "version_minor": 0
      },
      "text/plain": [
       "Validation: 0it [00:00, ?it/s]"
      ]
     },
     "metadata": {},
     "output_type": "display_data"
    },
    {
     "data": {
      "application/vnd.jupyter.widget-view+json": {
       "model_id": "aa99691b51a84c4cb704771a1b2083b5",
       "version_major": 2,
       "version_minor": 0
      },
      "text/plain": [
       "Validation: 0it [00:00, ?it/s]"
      ]
     },
     "metadata": {},
     "output_type": "display_data"
    },
    {
     "name": "stderr",
     "output_type": "stream",
     "text": [
      "`Trainer.fit` stopped: `max_epochs=5` reached.\n",
      "Restoring states from the checkpoint path at c:\\Users\\w10\\Desktop\\BMA\\UPV\\tia\\algoritmos_geneticos\\notebooks\\lightning_logs\\version_441\\checkpoints\\epoch=4-step=150.ckpt\n",
      "Loaded model weights from the checkpoint at c:\\Users\\w10\\Desktop\\BMA\\UPV\\tia\\algoritmos_geneticos\\notebooks\\lightning_logs\\version_441\\checkpoints\\epoch=4-step=150.ckpt\n"
     ]
    },
    {
     "data": {
      "application/vnd.jupyter.widget-view+json": {
       "model_id": "b35ddde6a66c4dad9e071052a788a2f8",
       "version_major": 2,
       "version_minor": 0
      },
      "text/plain": [
       "Testing: 0it [00:00, ?it/s]"
      ]
     },
     "metadata": {},
     "output_type": "display_data"
    },
    {
     "data": {
      "text/html": [
       "<pre style=\"white-space:pre;overflow-x:auto;line-height:normal;font-family:Menlo,'DejaVu Sans Mono',consolas,'Courier New',monospace\">┏━━━━━━━━━━━━━━━━━━━━━━━━━━━┳━━━━━━━━━━━━━━━━━━━━━━━━━━━┓\n",
       "┃<span style=\"font-weight: bold\">        Test metric        </span>┃<span style=\"font-weight: bold\">       DataLoader 0        </span>┃\n",
       "┡━━━━━━━━━━━━━━━━━━━━━━━━━━━╇━━━━━━━━━━━━━━━━━━━━━━━━━━━┩\n",
       "│<span style=\"color: #008080; text-decoration-color: #008080\">         test_loss         </span>│<span style=\"color: #800080; text-decoration-color: #800080\">    1.7596744298934937     </span>│\n",
       "└───────────────────────────┴───────────────────────────┘\n",
       "</pre>\n"
      ],
      "text/plain": [
       "┏━━━━━━━━━━━━━━━━━━━━━━━━━━━┳━━━━━━━━━━━━━━━━━━━━━━━━━━━┓\n",
       "┃\u001b[1m \u001b[0m\u001b[1m       Test metric       \u001b[0m\u001b[1m \u001b[0m┃\u001b[1m \u001b[0m\u001b[1m      DataLoader 0       \u001b[0m\u001b[1m \u001b[0m┃\n",
       "┡━━━━━━━━━━━━━━━━━━━━━━━━━━━╇━━━━━━━━━━━━━━━━━━━━━━━━━━━┩\n",
       "│\u001b[36m \u001b[0m\u001b[36m        test_loss        \u001b[0m\u001b[36m \u001b[0m│\u001b[35m \u001b[0m\u001b[35m   1.7596744298934937    \u001b[0m\u001b[35m \u001b[0m│\n",
       "└───────────────────────────┴───────────────────────────┘\n"
      ]
     },
     "metadata": {},
     "output_type": "display_data"
    },
    {
     "name": "stderr",
     "output_type": "stream",
     "text": [
      "GPU available: False, used: False\n",
      "TPU available: False, using: 0 TPU cores\n",
      "IPU available: False, using: 0 IPUs\n",
      "HPU available: False, using: 0 HPUs\n"
     ]
    },
    {
     "name": "stdout",
     "output_type": "stream",
     "text": [
      "{'a_include_BN': True, 'a_include_bias': False, 'activation_type': SELU(), 'b_include_BN': False, 'b_include_bias': False, 'pool_type': MaxPool2d(kernel_size=2, stride=2, padding=0, dilation=1, ceil_mode=False), 'learning_rate': 0.0001, 'dropout_range_a': 0.1, 'dropout_range_b': 0.1}\n"
     ]
    },
    {
     "name": "stderr",
     "output_type": "stream",
     "text": [
      "\n",
      "   | Name                 | Type        | Params\n",
      "------------------------------------------------------\n",
      "0  | model                | MyModel     | 99.7 K\n",
      "1  | pre_layers           | Sequential  | 86.9 K\n",
      "2  | cnn1                 | Conv2d      | 65.5 K\n",
      "3  | batch_norm_a         | BatchNorm2d | 128   \n",
      "4  | dropout_1            | Dropout     | 0     \n",
      "5  | funcion_activacion_a | SELU        | 0     \n",
      "6  | cnn2                 | Conv2d      | 65.5 K\n",
      "7  | batch_norm_b         | BatchNorm2d | 128   \n",
      "8  | dropout_2            | Dropout     | 0     \n",
      "9  | pool2                | MaxPool2d   | 0     \n",
      "10 | fc1                  | Linear      | 10.2 K\n",
      "------------------------------------------------------\n",
      "141 K     Trainable params\n",
      "99.7 K    Non-trainable params\n",
      "241 K     Total params\n",
      "0.965     Total estimated model params size (MB)\n"
     ]
    },
    {
     "data": {
      "application/vnd.jupyter.widget-view+json": {
       "model_id": "eed50bdb43884b18847cef83c62cdf0b",
       "version_major": 2,
       "version_minor": 0
      },
      "text/plain": [
       "Sanity Checking: 0it [00:00, ?it/s]"
      ]
     },
     "metadata": {},
     "output_type": "display_data"
    },
    {
     "data": {
      "application/vnd.jupyter.widget-view+json": {
       "model_id": "48325b3ffef9459ea4d1b0e6dcaaf0cf",
       "version_major": 2,
       "version_minor": 0
      },
      "text/plain": [
       "Training: 0it [00:00, ?it/s]"
      ]
     },
     "metadata": {},
     "output_type": "display_data"
    },
    {
     "data": {
      "application/vnd.jupyter.widget-view+json": {
       "model_id": "77473706755c4f05a381abc807cff38b",
       "version_major": 2,
       "version_minor": 0
      },
      "text/plain": [
       "Validation: 0it [00:00, ?it/s]"
      ]
     },
     "metadata": {},
     "output_type": "display_data"
    },
    {
     "data": {
      "application/vnd.jupyter.widget-view+json": {
       "model_id": "2dc5e4a2a1264934ac70230d6a3812a6",
       "version_major": 2,
       "version_minor": 0
      },
      "text/plain": [
       "Validation: 0it [00:00, ?it/s]"
      ]
     },
     "metadata": {},
     "output_type": "display_data"
    },
    {
     "data": {
      "application/vnd.jupyter.widget-view+json": {
       "model_id": "61a8a2661e084ddb9599f9975eedaf3e",
       "version_major": 2,
       "version_minor": 0
      },
      "text/plain": [
       "Validation: 0it [00:00, ?it/s]"
      ]
     },
     "metadata": {},
     "output_type": "display_data"
    },
    {
     "data": {
      "application/vnd.jupyter.widget-view+json": {
       "model_id": "72ef2b34e0544aabb1c2a00d8b0815d9",
       "version_major": 2,
       "version_minor": 0
      },
      "text/plain": [
       "Validation: 0it [00:00, ?it/s]"
      ]
     },
     "metadata": {},
     "output_type": "display_data"
    },
    {
     "data": {
      "application/vnd.jupyter.widget-view+json": {
       "model_id": "bb6e693f9e964f96b228969c663f7326",
       "version_major": 2,
       "version_minor": 0
      },
      "text/plain": [
       "Validation: 0it [00:00, ?it/s]"
      ]
     },
     "metadata": {},
     "output_type": "display_data"
    },
    {
     "name": "stderr",
     "output_type": "stream",
     "text": [
      "`Trainer.fit` stopped: `max_epochs=5` reached.\n",
      "Restoring states from the checkpoint path at c:\\Users\\w10\\Desktop\\BMA\\UPV\\tia\\algoritmos_geneticos\\notebooks\\lightning_logs\\version_442\\checkpoints\\epoch=4-step=150.ckpt\n",
      "Loaded model weights from the checkpoint at c:\\Users\\w10\\Desktop\\BMA\\UPV\\tia\\algoritmos_geneticos\\notebooks\\lightning_logs\\version_442\\checkpoints\\epoch=4-step=150.ckpt\n"
     ]
    },
    {
     "data": {
      "application/vnd.jupyter.widget-view+json": {
       "model_id": "11227f62dac94fd1aabdda6a8f9194ac",
       "version_major": 2,
       "version_minor": 0
      },
      "text/plain": [
       "Testing: 0it [00:00, ?it/s]"
      ]
     },
     "metadata": {},
     "output_type": "display_data"
    },
    {
     "data": {
      "text/html": [
       "<pre style=\"white-space:pre;overflow-x:auto;line-height:normal;font-family:Menlo,'DejaVu Sans Mono',consolas,'Courier New',monospace\">┏━━━━━━━━━━━━━━━━━━━━━━━━━━━┳━━━━━━━━━━━━━━━━━━━━━━━━━━━┓\n",
       "┃<span style=\"font-weight: bold\">        Test metric        </span>┃<span style=\"font-weight: bold\">       DataLoader 0        </span>┃\n",
       "┡━━━━━━━━━━━━━━━━━━━━━━━━━━━╇━━━━━━━━━━━━━━━━━━━━━━━━━━━┩\n",
       "│<span style=\"color: #008080; text-decoration-color: #008080\">         test_loss         </span>│<span style=\"color: #800080; text-decoration-color: #800080\">    2.0288949012756348     </span>│\n",
       "└───────────────────────────┴───────────────────────────┘\n",
       "</pre>\n"
      ],
      "text/plain": [
       "┏━━━━━━━━━━━━━━━━━━━━━━━━━━━┳━━━━━━━━━━━━━━━━━━━━━━━━━━━┓\n",
       "┃\u001b[1m \u001b[0m\u001b[1m       Test metric       \u001b[0m\u001b[1m \u001b[0m┃\u001b[1m \u001b[0m\u001b[1m      DataLoader 0       \u001b[0m\u001b[1m \u001b[0m┃\n",
       "┡━━━━━━━━━━━━━━━━━━━━━━━━━━━╇━━━━━━━━━━━━━━━━━━━━━━━━━━━┩\n",
       "│\u001b[36m \u001b[0m\u001b[36m        test_loss        \u001b[0m\u001b[36m \u001b[0m│\u001b[35m \u001b[0m\u001b[35m   2.0288949012756348    \u001b[0m\u001b[35m \u001b[0m│\n",
       "└───────────────────────────┴───────────────────────────┘\n"
      ]
     },
     "metadata": {},
     "output_type": "display_data"
    },
    {
     "name": "stderr",
     "output_type": "stream",
     "text": [
      "GPU available: False, used: False\n",
      "TPU available: False, using: 0 TPU cores\n",
      "IPU available: False, using: 0 IPUs\n",
      "HPU available: False, using: 0 HPUs\n"
     ]
    },
    {
     "name": "stdout",
     "output_type": "stream",
     "text": [
      "{'a_include_BN': False, 'a_include_bias': True, 'activation_type': SELU(), 'b_include_BN': True, 'b_include_bias': True, 'pool_type': MaxPool2d(kernel_size=2, stride=2, padding=0, dilation=1, ceil_mode=False), 'learning_rate': 0.01, 'dropout_range_a': 0, 'dropout_range_b': 0}\n"
     ]
    },
    {
     "name": "stderr",
     "output_type": "stream",
     "text": [
      "\n",
      "   | Name                 | Type        | Params\n",
      "------------------------------------------------------\n",
      "0  | model                | MyModel     | 99.7 K\n",
      "1  | pre_layers           | Sequential  | 86.9 K\n",
      "2  | cnn1                 | Conv2d      | 65.6 K\n",
      "3  | batch_norm_a         | BatchNorm2d | 128   \n",
      "4  | dropout_1            | Dropout     | 0     \n",
      "5  | funcion_activacion_a | SELU        | 0     \n",
      "6  | cnn2                 | Conv2d      | 65.6 K\n",
      "7  | batch_norm_b         | BatchNorm2d | 128   \n",
      "8  | dropout_2            | Dropout     | 0     \n",
      "9  | pool2                | MaxPool2d   | 0     \n",
      "10 | fc1                  | Linear      | 10.2 K\n",
      "------------------------------------------------------\n",
      "141 K     Trainable params\n",
      "99.7 K    Non-trainable params\n",
      "241 K     Total params\n",
      "0.966     Total estimated model params size (MB)\n"
     ]
    },
    {
     "data": {
      "application/vnd.jupyter.widget-view+json": {
       "model_id": "4c0372c3b1604f15b1d16188ff34302e",
       "version_major": 2,
       "version_minor": 0
      },
      "text/plain": [
       "Sanity Checking: 0it [00:00, ?it/s]"
      ]
     },
     "metadata": {},
     "output_type": "display_data"
    },
    {
     "data": {
      "application/vnd.jupyter.widget-view+json": {
       "model_id": "3b38219777f8476ca2d6ba0343dfaaa4",
       "version_major": 2,
       "version_minor": 0
      },
      "text/plain": [
       "Training: 0it [00:00, ?it/s]"
      ]
     },
     "metadata": {},
     "output_type": "display_data"
    },
    {
     "data": {
      "application/vnd.jupyter.widget-view+json": {
       "model_id": "1d1f99c7b17e47a99754fc38d4b9f4f9",
       "version_major": 2,
       "version_minor": 0
      },
      "text/plain": [
       "Validation: 0it [00:00, ?it/s]"
      ]
     },
     "metadata": {},
     "output_type": "display_data"
    },
    {
     "data": {
      "application/vnd.jupyter.widget-view+json": {
       "model_id": "f20ec9a29c724b6c87856cd6b2a8a03a",
       "version_major": 2,
       "version_minor": 0
      },
      "text/plain": [
       "Validation: 0it [00:00, ?it/s]"
      ]
     },
     "metadata": {},
     "output_type": "display_data"
    },
    {
     "data": {
      "application/vnd.jupyter.widget-view+json": {
       "model_id": "0c109ec11a3244bfa46f2184d3176ebb",
       "version_major": 2,
       "version_minor": 0
      },
      "text/plain": [
       "Validation: 0it [00:00, ?it/s]"
      ]
     },
     "metadata": {},
     "output_type": "display_data"
    },
    {
     "data": {
      "application/vnd.jupyter.widget-view+json": {
       "model_id": "301ab7332c1740359f98d5bc6f8401e8",
       "version_major": 2,
       "version_minor": 0
      },
      "text/plain": [
       "Validation: 0it [00:00, ?it/s]"
      ]
     },
     "metadata": {},
     "output_type": "display_data"
    },
    {
     "data": {
      "application/vnd.jupyter.widget-view+json": {
       "model_id": "3b3dc236927b450ba9a7faa6a4238dc0",
       "version_major": 2,
       "version_minor": 0
      },
      "text/plain": [
       "Validation: 0it [00:00, ?it/s]"
      ]
     },
     "metadata": {},
     "output_type": "display_data"
    },
    {
     "name": "stderr",
     "output_type": "stream",
     "text": [
      "`Trainer.fit` stopped: `max_epochs=5` reached.\n",
      "Restoring states from the checkpoint path at c:\\Users\\w10\\Desktop\\BMA\\UPV\\tia\\algoritmos_geneticos\\notebooks\\lightning_logs\\version_443\\checkpoints\\epoch=4-step=150.ckpt\n",
      "Loaded model weights from the checkpoint at c:\\Users\\w10\\Desktop\\BMA\\UPV\\tia\\algoritmos_geneticos\\notebooks\\lightning_logs\\version_443\\checkpoints\\epoch=4-step=150.ckpt\n"
     ]
    },
    {
     "data": {
      "application/vnd.jupyter.widget-view+json": {
       "model_id": "c45efd0b23654118b846eca83fb814e0",
       "version_major": 2,
       "version_minor": 0
      },
      "text/plain": [
       "Testing: 0it [00:00, ?it/s]"
      ]
     },
     "metadata": {},
     "output_type": "display_data"
    },
    {
     "data": {
      "text/html": [
       "<pre style=\"white-space:pre;overflow-x:auto;line-height:normal;font-family:Menlo,'DejaVu Sans Mono',consolas,'Courier New',monospace\">┏━━━━━━━━━━━━━━━━━━━━━━━━━━━┳━━━━━━━━━━━━━━━━━━━━━━━━━━━┓\n",
       "┃<span style=\"font-weight: bold\">        Test metric        </span>┃<span style=\"font-weight: bold\">       DataLoader 0        </span>┃\n",
       "┡━━━━━━━━━━━━━━━━━━━━━━━━━━━╇━━━━━━━━━━━━━━━━━━━━━━━━━━━┩\n",
       "│<span style=\"color: #008080; text-decoration-color: #008080\">         test_loss         </span>│<span style=\"color: #800080; text-decoration-color: #800080\">    0.7417902946472168     </span>│\n",
       "└───────────────────────────┴───────────────────────────┘\n",
       "</pre>\n"
      ],
      "text/plain": [
       "┏━━━━━━━━━━━━━━━━━━━━━━━━━━━┳━━━━━━━━━━━━━━━━━━━━━━━━━━━┓\n",
       "┃\u001b[1m \u001b[0m\u001b[1m       Test metric       \u001b[0m\u001b[1m \u001b[0m┃\u001b[1m \u001b[0m\u001b[1m      DataLoader 0       \u001b[0m\u001b[1m \u001b[0m┃\n",
       "┡━━━━━━━━━━━━━━━━━━━━━━━━━━━╇━━━━━━━━━━━━━━━━━━━━━━━━━━━┩\n",
       "│\u001b[36m \u001b[0m\u001b[36m        test_loss        \u001b[0m\u001b[36m \u001b[0m│\u001b[35m \u001b[0m\u001b[35m   0.7417902946472168    \u001b[0m\u001b[35m \u001b[0m│\n",
       "└───────────────────────────┴───────────────────────────┘\n"
      ]
     },
     "metadata": {},
     "output_type": "display_data"
    },
    {
     "name": "stderr",
     "output_type": "stream",
     "text": [
      "GPU available: False, used: False\n",
      "TPU available: False, using: 0 TPU cores\n",
      "IPU available: False, using: 0 IPUs\n",
      "HPU available: False, using: 0 HPUs\n"
     ]
    },
    {
     "name": "stdout",
     "output_type": "stream",
     "text": [
      "0.7087896466255188\n",
      "3\n",
      "3\n",
      "3\n",
      "{'a_include_BN': False, 'a_include_bias': False, 'activation_type': SELU(), 'b_include_BN': False, 'b_include_bias': True, 'pool_type': MaxPool2d(kernel_size=2, stride=2, padding=0, dilation=1, ceil_mode=False), 'learning_rate': 0.01, 'dropout_range_a': 0, 'dropout_range_b': 0}\n"
     ]
    },
    {
     "name": "stderr",
     "output_type": "stream",
     "text": [
      "\n",
      "   | Name                 | Type        | Params\n",
      "------------------------------------------------------\n",
      "0  | model                | MyModel     | 99.7 K\n",
      "1  | pre_layers           | Sequential  | 86.9 K\n",
      "2  | cnn1                 | Conv2d      | 65.5 K\n",
      "3  | batch_norm_a         | BatchNorm2d | 128   \n",
      "4  | dropout_1            | Dropout     | 0     \n",
      "5  | funcion_activacion_a | SELU        | 0     \n",
      "6  | cnn2                 | Conv2d      | 65.6 K\n",
      "7  | batch_norm_b         | BatchNorm2d | 128   \n",
      "8  | dropout_2            | Dropout     | 0     \n",
      "9  | pool2                | MaxPool2d   | 0     \n",
      "10 | fc1                  | Linear      | 10.2 K\n",
      "------------------------------------------------------\n",
      "141 K     Trainable params\n",
      "99.7 K    Non-trainable params\n",
      "241 K     Total params\n",
      "0.965     Total estimated model params size (MB)\n"
     ]
    },
    {
     "data": {
      "application/vnd.jupyter.widget-view+json": {
       "model_id": "a7fe47ec716b4821890596fff326eb84",
       "version_major": 2,
       "version_minor": 0
      },
      "text/plain": [
       "Sanity Checking: 0it [00:00, ?it/s]"
      ]
     },
     "metadata": {},
     "output_type": "display_data"
    },
    {
     "data": {
      "application/vnd.jupyter.widget-view+json": {
       "model_id": "75448b4f51c2469484b976da4dce7a0c",
       "version_major": 2,
       "version_minor": 0
      },
      "text/plain": [
       "Training: 0it [00:00, ?it/s]"
      ]
     },
     "metadata": {},
     "output_type": "display_data"
    },
    {
     "data": {
      "application/vnd.jupyter.widget-view+json": {
       "model_id": "6cd1a1903a07432982ac447b264ad032",
       "version_major": 2,
       "version_minor": 0
      },
      "text/plain": [
       "Validation: 0it [00:00, ?it/s]"
      ]
     },
     "metadata": {},
     "output_type": "display_data"
    },
    {
     "data": {
      "application/vnd.jupyter.widget-view+json": {
       "model_id": "30bc7c5d5f6246bf9fd76e67763dc6bb",
       "version_major": 2,
       "version_minor": 0
      },
      "text/plain": [
       "Validation: 0it [00:00, ?it/s]"
      ]
     },
     "metadata": {},
     "output_type": "display_data"
    },
    {
     "data": {
      "application/vnd.jupyter.widget-view+json": {
       "model_id": "d5b98bf6b9774345a941bcb7caa462b3",
       "version_major": 2,
       "version_minor": 0
      },
      "text/plain": [
       "Validation: 0it [00:00, ?it/s]"
      ]
     },
     "metadata": {},
     "output_type": "display_data"
    },
    {
     "data": {
      "application/vnd.jupyter.widget-view+json": {
       "model_id": "205deefe521c4a698dcdb97e6d6bdc32",
       "version_major": 2,
       "version_minor": 0
      },
      "text/plain": [
       "Validation: 0it [00:00, ?it/s]"
      ]
     },
     "metadata": {},
     "output_type": "display_data"
    },
    {
     "data": {
      "application/vnd.jupyter.widget-view+json": {
       "model_id": "e3ef520aba0b4610bdbef59a60f16924",
       "version_major": 2,
       "version_minor": 0
      },
      "text/plain": [
       "Validation: 0it [00:00, ?it/s]"
      ]
     },
     "metadata": {},
     "output_type": "display_data"
    },
    {
     "name": "stderr",
     "output_type": "stream",
     "text": [
      "`Trainer.fit` stopped: `max_epochs=5` reached.\n",
      "Restoring states from the checkpoint path at c:\\Users\\w10\\Desktop\\BMA\\UPV\\tia\\algoritmos_geneticos\\notebooks\\lightning_logs\\version_444\\checkpoints\\epoch=4-step=150.ckpt\n",
      "Loaded model weights from the checkpoint at c:\\Users\\w10\\Desktop\\BMA\\UPV\\tia\\algoritmos_geneticos\\notebooks\\lightning_logs\\version_444\\checkpoints\\epoch=4-step=150.ckpt\n"
     ]
    },
    {
     "data": {
      "application/vnd.jupyter.widget-view+json": {
       "model_id": "0c9f932f2b4a468e8da5f3b534e25377",
       "version_major": 2,
       "version_minor": 0
      },
      "text/plain": [
       "Testing: 0it [00:00, ?it/s]"
      ]
     },
     "metadata": {},
     "output_type": "display_data"
    },
    {
     "data": {
      "text/html": [
       "<pre style=\"white-space:pre;overflow-x:auto;line-height:normal;font-family:Menlo,'DejaVu Sans Mono',consolas,'Courier New',monospace\">┏━━━━━━━━━━━━━━━━━━━━━━━━━━━┳━━━━━━━━━━━━━━━━━━━━━━━━━━━┓\n",
       "┃<span style=\"font-weight: bold\">        Test metric        </span>┃<span style=\"font-weight: bold\">       DataLoader 0        </span>┃\n",
       "┡━━━━━━━━━━━━━━━━━━━━━━━━━━━╇━━━━━━━━━━━━━━━━━━━━━━━━━━━┩\n",
       "│<span style=\"color: #008080; text-decoration-color: #008080\">         test_loss         </span>│<span style=\"color: #800080; text-decoration-color: #800080\">    0.7436654567718506     </span>│\n",
       "└───────────────────────────┴───────────────────────────┘\n",
       "</pre>\n"
      ],
      "text/plain": [
       "┏━━━━━━━━━━━━━━━━━━━━━━━━━━━┳━━━━━━━━━━━━━━━━━━━━━━━━━━━┓\n",
       "┃\u001b[1m \u001b[0m\u001b[1m       Test metric       \u001b[0m\u001b[1m \u001b[0m┃\u001b[1m \u001b[0m\u001b[1m      DataLoader 0       \u001b[0m\u001b[1m \u001b[0m┃\n",
       "┡━━━━━━━━━━━━━━━━━━━━━━━━━━━╇━━━━━━━━━━━━━━━━━━━━━━━━━━━┩\n",
       "│\u001b[36m \u001b[0m\u001b[36m        test_loss        \u001b[0m\u001b[36m \u001b[0m│\u001b[35m \u001b[0m\u001b[35m   0.7436654567718506    \u001b[0m\u001b[35m \u001b[0m│\n",
       "└───────────────────────────┴───────────────────────────┘\n"
      ]
     },
     "metadata": {},
     "output_type": "display_data"
    },
    {
     "name": "stderr",
     "output_type": "stream",
     "text": [
      "GPU available: False, used: False\n",
      "TPU available: False, using: 0 TPU cores\n",
      "IPU available: False, using: 0 IPUs\n",
      "HPU available: False, using: 0 HPUs\n"
     ]
    },
    {
     "name": "stdout",
     "output_type": "stream",
     "text": [
      "{'a_include_BN': False, 'a_include_bias': True, 'activation_type': SELU(), 'b_include_BN': True, 'b_include_bias': True, 'pool_type': MaxPool2d(kernel_size=2, stride=2, padding=0, dilation=1, ceil_mode=False), 'learning_rate': 0.01, 'dropout_range_a': 0, 'dropout_range_b': 0}\n"
     ]
    },
    {
     "name": "stderr",
     "output_type": "stream",
     "text": [
      "\n",
      "   | Name                 | Type        | Params\n",
      "------------------------------------------------------\n",
      "0  | model                | MyModel     | 99.7 K\n",
      "1  | pre_layers           | Sequential  | 86.9 K\n",
      "2  | cnn1                 | Conv2d      | 65.6 K\n",
      "3  | batch_norm_a         | BatchNorm2d | 128   \n",
      "4  | dropout_1            | Dropout     | 0     \n",
      "5  | funcion_activacion_a | SELU        | 0     \n",
      "6  | cnn2                 | Conv2d      | 65.6 K\n",
      "7  | batch_norm_b         | BatchNorm2d | 128   \n",
      "8  | dropout_2            | Dropout     | 0     \n",
      "9  | pool2                | MaxPool2d   | 0     \n",
      "10 | fc1                  | Linear      | 10.2 K\n",
      "------------------------------------------------------\n",
      "141 K     Trainable params\n",
      "99.7 K    Non-trainable params\n",
      "241 K     Total params\n",
      "0.966     Total estimated model params size (MB)\n"
     ]
    },
    {
     "data": {
      "application/vnd.jupyter.widget-view+json": {
       "model_id": "3fdcfbecb1194ef3af2b44cf5673fa5e",
       "version_major": 2,
       "version_minor": 0
      },
      "text/plain": [
       "Sanity Checking: 0it [00:00, ?it/s]"
      ]
     },
     "metadata": {},
     "output_type": "display_data"
    },
    {
     "data": {
      "application/vnd.jupyter.widget-view+json": {
       "model_id": "d7f8ba5299c64dfd88b9c610eeb9b8d5",
       "version_major": 2,
       "version_minor": 0
      },
      "text/plain": [
       "Training: 0it [00:00, ?it/s]"
      ]
     },
     "metadata": {},
     "output_type": "display_data"
    },
    {
     "data": {
      "application/vnd.jupyter.widget-view+json": {
       "model_id": "3f025fc92e8d44dd9e3cfd96543e44a9",
       "version_major": 2,
       "version_minor": 0
      },
      "text/plain": [
       "Validation: 0it [00:00, ?it/s]"
      ]
     },
     "metadata": {},
     "output_type": "display_data"
    },
    {
     "data": {
      "application/vnd.jupyter.widget-view+json": {
       "model_id": "372781f5d6484e6c9eab3e82c4bea5ec",
       "version_major": 2,
       "version_minor": 0
      },
      "text/plain": [
       "Validation: 0it [00:00, ?it/s]"
      ]
     },
     "metadata": {},
     "output_type": "display_data"
    },
    {
     "data": {
      "application/vnd.jupyter.widget-view+json": {
       "model_id": "be2634904dcd462e8600792f291e937e",
       "version_major": 2,
       "version_minor": 0
      },
      "text/plain": [
       "Validation: 0it [00:00, ?it/s]"
      ]
     },
     "metadata": {},
     "output_type": "display_data"
    },
    {
     "data": {
      "application/vnd.jupyter.widget-view+json": {
       "model_id": "15ed7186757f40198bcb2230f7fec21a",
       "version_major": 2,
       "version_minor": 0
      },
      "text/plain": [
       "Validation: 0it [00:00, ?it/s]"
      ]
     },
     "metadata": {},
     "output_type": "display_data"
    },
    {
     "data": {
      "application/vnd.jupyter.widget-view+json": {
       "model_id": "815a7f88aee74be488235564b8a7436b",
       "version_major": 2,
       "version_minor": 0
      },
      "text/plain": [
       "Validation: 0it [00:00, ?it/s]"
      ]
     },
     "metadata": {},
     "output_type": "display_data"
    },
    {
     "name": "stderr",
     "output_type": "stream",
     "text": [
      "`Trainer.fit` stopped: `max_epochs=5` reached.\n",
      "Restoring states from the checkpoint path at c:\\Users\\w10\\Desktop\\BMA\\UPV\\tia\\algoritmos_geneticos\\notebooks\\lightning_logs\\version_445\\checkpoints\\epoch=4-step=150.ckpt\n",
      "Loaded model weights from the checkpoint at c:\\Users\\w10\\Desktop\\BMA\\UPV\\tia\\algoritmos_geneticos\\notebooks\\lightning_logs\\version_445\\checkpoints\\epoch=4-step=150.ckpt\n"
     ]
    },
    {
     "data": {
      "application/vnd.jupyter.widget-view+json": {
       "model_id": "19511e91fd6949a59ecd5a78d7420b21",
       "version_major": 2,
       "version_minor": 0
      },
      "text/plain": [
       "Testing: 0it [00:00, ?it/s]"
      ]
     },
     "metadata": {},
     "output_type": "display_data"
    },
    {
     "data": {
      "text/html": [
       "<pre style=\"white-space:pre;overflow-x:auto;line-height:normal;font-family:Menlo,'DejaVu Sans Mono',consolas,'Courier New',monospace\">┏━━━━━━━━━━━━━━━━━━━━━━━━━━━┳━━━━━━━━━━━━━━━━━━━━━━━━━━━┓\n",
       "┃<span style=\"font-weight: bold\">        Test metric        </span>┃<span style=\"font-weight: bold\">       DataLoader 0        </span>┃\n",
       "┡━━━━━━━━━━━━━━━━━━━━━━━━━━━╇━━━━━━━━━━━━━━━━━━━━━━━━━━━┩\n",
       "│<span style=\"color: #008080; text-decoration-color: #008080\">         test_loss         </span>│<span style=\"color: #800080; text-decoration-color: #800080\">    0.7373378872871399     </span>│\n",
       "└───────────────────────────┴───────────────────────────┘\n",
       "</pre>\n"
      ],
      "text/plain": [
       "┏━━━━━━━━━━━━━━━━━━━━━━━━━━━┳━━━━━━━━━━━━━━━━━━━━━━━━━━━┓\n",
       "┃\u001b[1m \u001b[0m\u001b[1m       Test metric       \u001b[0m\u001b[1m \u001b[0m┃\u001b[1m \u001b[0m\u001b[1m      DataLoader 0       \u001b[0m\u001b[1m \u001b[0m┃\n",
       "┡━━━━━━━━━━━━━━━━━━━━━━━━━━━╇━━━━━━━━━━━━━━━━━━━━━━━━━━━┩\n",
       "│\u001b[36m \u001b[0m\u001b[36m        test_loss        \u001b[0m\u001b[36m \u001b[0m│\u001b[35m \u001b[0m\u001b[35m   0.7373378872871399    \u001b[0m\u001b[35m \u001b[0m│\n",
       "└───────────────────────────┴───────────────────────────┘\n"
      ]
     },
     "metadata": {},
     "output_type": "display_data"
    },
    {
     "name": "stderr",
     "output_type": "stream",
     "text": [
      "GPU available: False, used: False\n",
      "TPU available: False, using: 0 TPU cores\n",
      "IPU available: False, using: 0 IPUs\n",
      "HPU available: False, using: 0 HPUs\n"
     ]
    },
    {
     "name": "stdout",
     "output_type": "stream",
     "text": [
      "{'a_include_BN': False, 'a_include_bias': True, 'activation_type': SELU(), 'b_include_BN': True, 'b_include_bias': True, 'pool_type': MaxPool2d(kernel_size=2, stride=2, padding=0, dilation=1, ceil_mode=False), 'learning_rate': 0.01, 'dropout_range_a': 0, 'dropout_range_b': 0}\n"
     ]
    },
    {
     "name": "stderr",
     "output_type": "stream",
     "text": [
      "\n",
      "   | Name                 | Type        | Params\n",
      "------------------------------------------------------\n",
      "0  | model                | MyModel     | 99.7 K\n",
      "1  | pre_layers           | Sequential  | 86.9 K\n",
      "2  | cnn1                 | Conv2d      | 65.6 K\n",
      "3  | batch_norm_a         | BatchNorm2d | 128   \n",
      "4  | dropout_1            | Dropout     | 0     \n",
      "5  | funcion_activacion_a | SELU        | 0     \n",
      "6  | cnn2                 | Conv2d      | 65.6 K\n",
      "7  | batch_norm_b         | BatchNorm2d | 128   \n",
      "8  | dropout_2            | Dropout     | 0     \n",
      "9  | pool2                | MaxPool2d   | 0     \n",
      "10 | fc1                  | Linear      | 10.2 K\n",
      "------------------------------------------------------\n",
      "141 K     Trainable params\n",
      "99.7 K    Non-trainable params\n",
      "241 K     Total params\n",
      "0.966     Total estimated model params size (MB)\n"
     ]
    },
    {
     "data": {
      "application/vnd.jupyter.widget-view+json": {
       "model_id": "fc88c9f3cd3d4eb09d14380685eddfad",
       "version_major": 2,
       "version_minor": 0
      },
      "text/plain": [
       "Sanity Checking: 0it [00:00, ?it/s]"
      ]
     },
     "metadata": {},
     "output_type": "display_data"
    },
    {
     "data": {
      "application/vnd.jupyter.widget-view+json": {
       "model_id": "fa309d1c5f7140479c3a6e2f6f528f3a",
       "version_major": 2,
       "version_minor": 0
      },
      "text/plain": [
       "Training: 0it [00:00, ?it/s]"
      ]
     },
     "metadata": {},
     "output_type": "display_data"
    },
    {
     "data": {
      "application/vnd.jupyter.widget-view+json": {
       "model_id": "2d83fcb8e3474316ac8b35e8cfd8e042",
       "version_major": 2,
       "version_minor": 0
      },
      "text/plain": [
       "Validation: 0it [00:00, ?it/s]"
      ]
     },
     "metadata": {},
     "output_type": "display_data"
    },
    {
     "data": {
      "application/vnd.jupyter.widget-view+json": {
       "model_id": "4f89b5e2ab964bcd9b4b40e3fba0a063",
       "version_major": 2,
       "version_minor": 0
      },
      "text/plain": [
       "Validation: 0it [00:00, ?it/s]"
      ]
     },
     "metadata": {},
     "output_type": "display_data"
    },
    {
     "data": {
      "application/vnd.jupyter.widget-view+json": {
       "model_id": "2801c8cd3a354718a0438383b5e6f8c4",
       "version_major": 2,
       "version_minor": 0
      },
      "text/plain": [
       "Validation: 0it [00:00, ?it/s]"
      ]
     },
     "metadata": {},
     "output_type": "display_data"
    },
    {
     "data": {
      "application/vnd.jupyter.widget-view+json": {
       "model_id": "4cce076fd1d94cbba6847f6dc5fb3aa6",
       "version_major": 2,
       "version_minor": 0
      },
      "text/plain": [
       "Validation: 0it [00:00, ?it/s]"
      ]
     },
     "metadata": {},
     "output_type": "display_data"
    },
    {
     "data": {
      "application/vnd.jupyter.widget-view+json": {
       "model_id": "cbfce3ca13e94001bdbc5a7b8325a609",
       "version_major": 2,
       "version_minor": 0
      },
      "text/plain": [
       "Validation: 0it [00:00, ?it/s]"
      ]
     },
     "metadata": {},
     "output_type": "display_data"
    },
    {
     "name": "stderr",
     "output_type": "stream",
     "text": [
      "`Trainer.fit` stopped: `max_epochs=5` reached.\n",
      "Restoring states from the checkpoint path at c:\\Users\\w10\\Desktop\\BMA\\UPV\\tia\\algoritmos_geneticos\\notebooks\\lightning_logs\\version_446\\checkpoints\\epoch=4-step=150.ckpt\n",
      "Loaded model weights from the checkpoint at c:\\Users\\w10\\Desktop\\BMA\\UPV\\tia\\algoritmos_geneticos\\notebooks\\lightning_logs\\version_446\\checkpoints\\epoch=4-step=150.ckpt\n"
     ]
    },
    {
     "data": {
      "application/vnd.jupyter.widget-view+json": {
       "model_id": "a5e73577d88c4fe383f8d536306336de",
       "version_major": 2,
       "version_minor": 0
      },
      "text/plain": [
       "Testing: 0it [00:00, ?it/s]"
      ]
     },
     "metadata": {},
     "output_type": "display_data"
    },
    {
     "data": {
      "text/html": [
       "<pre style=\"white-space:pre;overflow-x:auto;line-height:normal;font-family:Menlo,'DejaVu Sans Mono',consolas,'Courier New',monospace\">┏━━━━━━━━━━━━━━━━━━━━━━━━━━━┳━━━━━━━━━━━━━━━━━━━━━━━━━━━┓\n",
       "┃<span style=\"font-weight: bold\">        Test metric        </span>┃<span style=\"font-weight: bold\">       DataLoader 0        </span>┃\n",
       "┡━━━━━━━━━━━━━━━━━━━━━━━━━━━╇━━━━━━━━━━━━━━━━━━━━━━━━━━━┩\n",
       "│<span style=\"color: #008080; text-decoration-color: #008080\">         test_loss         </span>│<span style=\"color: #800080; text-decoration-color: #800080\">    0.7665854096412659     </span>│\n",
       "└───────────────────────────┴───────────────────────────┘\n",
       "</pre>\n"
      ],
      "text/plain": [
       "┏━━━━━━━━━━━━━━━━━━━━━━━━━━━┳━━━━━━━━━━━━━━━━━━━━━━━━━━━┓\n",
       "┃\u001b[1m \u001b[0m\u001b[1m       Test metric       \u001b[0m\u001b[1m \u001b[0m┃\u001b[1m \u001b[0m\u001b[1m      DataLoader 0       \u001b[0m\u001b[1m \u001b[0m┃\n",
       "┡━━━━━━━━━━━━━━━━━━━━━━━━━━━╇━━━━━━━━━━━━━━━━━━━━━━━━━━━┩\n",
       "│\u001b[36m \u001b[0m\u001b[36m        test_loss        \u001b[0m\u001b[36m \u001b[0m│\u001b[35m \u001b[0m\u001b[35m   0.7665854096412659    \u001b[0m\u001b[35m \u001b[0m│\n",
       "└───────────────────────────┴───────────────────────────┘\n"
      ]
     },
     "metadata": {},
     "output_type": "display_data"
    },
    {
     "name": "stderr",
     "output_type": "stream",
     "text": [
      "GPU available: False, used: False\n",
      "TPU available: False, using: 0 TPU cores\n",
      "IPU available: False, using: 0 IPUs\n",
      "HPU available: False, using: 0 HPUs\n"
     ]
    },
    {
     "name": "stdout",
     "output_type": "stream",
     "text": [
      "{'a_include_BN': False, 'a_include_bias': False, 'activation_type': SELU(), 'b_include_BN': False, 'b_include_bias': True, 'pool_type': MaxPool2d(kernel_size=2, stride=2, padding=0, dilation=1, ceil_mode=False), 'learning_rate': 0.01, 'dropout_range_a': 0, 'dropout_range_b': 0}\n"
     ]
    },
    {
     "name": "stderr",
     "output_type": "stream",
     "text": [
      "\n",
      "   | Name                 | Type        | Params\n",
      "------------------------------------------------------\n",
      "0  | model                | MyModel     | 99.7 K\n",
      "1  | pre_layers           | Sequential  | 86.9 K\n",
      "2  | cnn1                 | Conv2d      | 65.5 K\n",
      "3  | batch_norm_a         | BatchNorm2d | 128   \n",
      "4  | dropout_1            | Dropout     | 0     \n",
      "5  | funcion_activacion_a | SELU        | 0     \n",
      "6  | cnn2                 | Conv2d      | 65.6 K\n",
      "7  | batch_norm_b         | BatchNorm2d | 128   \n",
      "8  | dropout_2            | Dropout     | 0     \n",
      "9  | pool2                | MaxPool2d   | 0     \n",
      "10 | fc1                  | Linear      | 10.2 K\n",
      "------------------------------------------------------\n",
      "141 K     Trainable params\n",
      "99.7 K    Non-trainable params\n",
      "241 K     Total params\n",
      "0.965     Total estimated model params size (MB)\n"
     ]
    },
    {
     "data": {
      "application/vnd.jupyter.widget-view+json": {
       "model_id": "3b2fd25de7a74efb81a28d97ed93f3cd",
       "version_major": 2,
       "version_minor": 0
      },
      "text/plain": [
       "Sanity Checking: 0it [00:00, ?it/s]"
      ]
     },
     "metadata": {},
     "output_type": "display_data"
    },
    {
     "data": {
      "application/vnd.jupyter.widget-view+json": {
       "model_id": "42e53e6ada364f139a2586872b7cc4de",
       "version_major": 2,
       "version_minor": 0
      },
      "text/plain": [
       "Training: 0it [00:00, ?it/s]"
      ]
     },
     "metadata": {},
     "output_type": "display_data"
    },
    {
     "data": {
      "application/vnd.jupyter.widget-view+json": {
       "model_id": "d9228adccc1440cab5f46e7064d87dfc",
       "version_major": 2,
       "version_minor": 0
      },
      "text/plain": [
       "Validation: 0it [00:00, ?it/s]"
      ]
     },
     "metadata": {},
     "output_type": "display_data"
    },
    {
     "data": {
      "application/vnd.jupyter.widget-view+json": {
       "model_id": "56d692b79ffb4415851b51769a7f9dfd",
       "version_major": 2,
       "version_minor": 0
      },
      "text/plain": [
       "Validation: 0it [00:00, ?it/s]"
      ]
     },
     "metadata": {},
     "output_type": "display_data"
    },
    {
     "data": {
      "application/vnd.jupyter.widget-view+json": {
       "model_id": "c2d31273c5844bf3a094f9549591c156",
       "version_major": 2,
       "version_minor": 0
      },
      "text/plain": [
       "Validation: 0it [00:00, ?it/s]"
      ]
     },
     "metadata": {},
     "output_type": "display_data"
    },
    {
     "data": {
      "application/vnd.jupyter.widget-view+json": {
       "model_id": "b2679728bfe840b6b813172758bdf041",
       "version_major": 2,
       "version_minor": 0
      },
      "text/plain": [
       "Validation: 0it [00:00, ?it/s]"
      ]
     },
     "metadata": {},
     "output_type": "display_data"
    },
    {
     "data": {
      "application/vnd.jupyter.widget-view+json": {
       "model_id": "a65b2850aa214cb58a42b77e18dbef8d",
       "version_major": 2,
       "version_minor": 0
      },
      "text/plain": [
       "Validation: 0it [00:00, ?it/s]"
      ]
     },
     "metadata": {},
     "output_type": "display_data"
    },
    {
     "name": "stderr",
     "output_type": "stream",
     "text": [
      "`Trainer.fit` stopped: `max_epochs=5` reached.\n",
      "Restoring states from the checkpoint path at c:\\Users\\w10\\Desktop\\BMA\\UPV\\tia\\algoritmos_geneticos\\notebooks\\lightning_logs\\version_447\\checkpoints\\epoch=4-step=150.ckpt\n",
      "Loaded model weights from the checkpoint at c:\\Users\\w10\\Desktop\\BMA\\UPV\\tia\\algoritmos_geneticos\\notebooks\\lightning_logs\\version_447\\checkpoints\\epoch=4-step=150.ckpt\n"
     ]
    },
    {
     "data": {
      "application/vnd.jupyter.widget-view+json": {
       "model_id": "55cc1cc625c34c7ba184631d2f6506df",
       "version_major": 2,
       "version_minor": 0
      },
      "text/plain": [
       "Testing: 0it [00:00, ?it/s]"
      ]
     },
     "metadata": {},
     "output_type": "display_data"
    },
    {
     "data": {
      "text/html": [
       "<pre style=\"white-space:pre;overflow-x:auto;line-height:normal;font-family:Menlo,'DejaVu Sans Mono',consolas,'Courier New',monospace\">┏━━━━━━━━━━━━━━━━━━━━━━━━━━━┳━━━━━━━━━━━━━━━━━━━━━━━━━━━┓\n",
       "┃<span style=\"font-weight: bold\">        Test metric        </span>┃<span style=\"font-weight: bold\">       DataLoader 0        </span>┃\n",
       "┡━━━━━━━━━━━━━━━━━━━━━━━━━━━╇━━━━━━━━━━━━━━━━━━━━━━━━━━━┩\n",
       "│<span style=\"color: #008080; text-decoration-color: #008080\">         test_loss         </span>│<span style=\"color: #800080; text-decoration-color: #800080\">    0.7322579622268677     </span>│\n",
       "└───────────────────────────┴───────────────────────────┘\n",
       "</pre>\n"
      ],
      "text/plain": [
       "┏━━━━━━━━━━━━━━━━━━━━━━━━━━━┳━━━━━━━━━━━━━━━━━━━━━━━━━━━┓\n",
       "┃\u001b[1m \u001b[0m\u001b[1m       Test metric       \u001b[0m\u001b[1m \u001b[0m┃\u001b[1m \u001b[0m\u001b[1m      DataLoader 0       \u001b[0m\u001b[1m \u001b[0m┃\n",
       "┡━━━━━━━━━━━━━━━━━━━━━━━━━━━╇━━━━━━━━━━━━━━━━━━━━━━━━━━━┩\n",
       "│\u001b[36m \u001b[0m\u001b[36m        test_loss        \u001b[0m\u001b[36m \u001b[0m│\u001b[35m \u001b[0m\u001b[35m   0.7322579622268677    \u001b[0m\u001b[35m \u001b[0m│\n",
       "└───────────────────────────┴───────────────────────────┘\n"
      ]
     },
     "metadata": {},
     "output_type": "display_data"
    },
    {
     "name": "stderr",
     "output_type": "stream",
     "text": [
      "GPU available: False, used: False\n",
      "TPU available: False, using: 0 TPU cores\n",
      "IPU available: False, using: 0 IPUs\n",
      "HPU available: False, using: 0 HPUs\n"
     ]
    },
    {
     "name": "stdout",
     "output_type": "stream",
     "text": [
      "{'a_include_BN': False, 'a_include_bias': True, 'activation_type': SELU(), 'b_include_BN': True, 'b_include_bias': True, 'pool_type': MaxPool2d(kernel_size=2, stride=2, padding=0, dilation=1, ceil_mode=False), 'learning_rate': 0.01, 'dropout_range_a': 0, 'dropout_range_b': 0}\n"
     ]
    },
    {
     "name": "stderr",
     "output_type": "stream",
     "text": [
      "\n",
      "   | Name                 | Type        | Params\n",
      "------------------------------------------------------\n",
      "0  | model                | MyModel     | 99.7 K\n",
      "1  | pre_layers           | Sequential  | 86.9 K\n",
      "2  | cnn1                 | Conv2d      | 65.6 K\n",
      "3  | batch_norm_a         | BatchNorm2d | 128   \n",
      "4  | dropout_1            | Dropout     | 0     \n",
      "5  | funcion_activacion_a | SELU        | 0     \n",
      "6  | cnn2                 | Conv2d      | 65.6 K\n",
      "7  | batch_norm_b         | BatchNorm2d | 128   \n",
      "8  | dropout_2            | Dropout     | 0     \n",
      "9  | pool2                | MaxPool2d   | 0     \n",
      "10 | fc1                  | Linear      | 10.2 K\n",
      "------------------------------------------------------\n",
      "141 K     Trainable params\n",
      "99.7 K    Non-trainable params\n",
      "241 K     Total params\n",
      "0.966     Total estimated model params size (MB)\n"
     ]
    },
    {
     "data": {
      "application/vnd.jupyter.widget-view+json": {
       "model_id": "da604dc8caa64bc895230a5c0bb4ca40",
       "version_major": 2,
       "version_minor": 0
      },
      "text/plain": [
       "Sanity Checking: 0it [00:00, ?it/s]"
      ]
     },
     "metadata": {},
     "output_type": "display_data"
    },
    {
     "data": {
      "application/vnd.jupyter.widget-view+json": {
       "model_id": "19800a77292d405b831624f2654d0612",
       "version_major": 2,
       "version_minor": 0
      },
      "text/plain": [
       "Training: 0it [00:00, ?it/s]"
      ]
     },
     "metadata": {},
     "output_type": "display_data"
    },
    {
     "data": {
      "application/vnd.jupyter.widget-view+json": {
       "model_id": "cf1ef8f62dcc4809a0211f082133b1d3",
       "version_major": 2,
       "version_minor": 0
      },
      "text/plain": [
       "Validation: 0it [00:00, ?it/s]"
      ]
     },
     "metadata": {},
     "output_type": "display_data"
    },
    {
     "data": {
      "application/vnd.jupyter.widget-view+json": {
       "model_id": "d62e7af4eb8a4b108c92fb8b9cf44fab",
       "version_major": 2,
       "version_minor": 0
      },
      "text/plain": [
       "Validation: 0it [00:00, ?it/s]"
      ]
     },
     "metadata": {},
     "output_type": "display_data"
    },
    {
     "data": {
      "application/vnd.jupyter.widget-view+json": {
       "model_id": "4cddad72c7c0479fbcd3fee2fc72f983",
       "version_major": 2,
       "version_minor": 0
      },
      "text/plain": [
       "Validation: 0it [00:00, ?it/s]"
      ]
     },
     "metadata": {},
     "output_type": "display_data"
    },
    {
     "data": {
      "application/vnd.jupyter.widget-view+json": {
       "model_id": "da3b8217417d4268b30be3ffd1d7d8f3",
       "version_major": 2,
       "version_minor": 0
      },
      "text/plain": [
       "Validation: 0it [00:00, ?it/s]"
      ]
     },
     "metadata": {},
     "output_type": "display_data"
    },
    {
     "data": {
      "application/vnd.jupyter.widget-view+json": {
       "model_id": "a27fbd5848bb40bc9913dc0559efc1cb",
       "version_major": 2,
       "version_minor": 0
      },
      "text/plain": [
       "Validation: 0it [00:00, ?it/s]"
      ]
     },
     "metadata": {},
     "output_type": "display_data"
    },
    {
     "name": "stderr",
     "output_type": "stream",
     "text": [
      "`Trainer.fit` stopped: `max_epochs=5` reached.\n",
      "Restoring states from the checkpoint path at c:\\Users\\w10\\Desktop\\BMA\\UPV\\tia\\algoritmos_geneticos\\notebooks\\lightning_logs\\version_448\\checkpoints\\epoch=4-step=150.ckpt\n",
      "Loaded model weights from the checkpoint at c:\\Users\\w10\\Desktop\\BMA\\UPV\\tia\\algoritmos_geneticos\\notebooks\\lightning_logs\\version_448\\checkpoints\\epoch=4-step=150.ckpt\n"
     ]
    },
    {
     "data": {
      "application/vnd.jupyter.widget-view+json": {
       "model_id": "92ac3306c40a44b8b5c8d7297f59b2dd",
       "version_major": 2,
       "version_minor": 0
      },
      "text/plain": [
       "Testing: 0it [00:00, ?it/s]"
      ]
     },
     "metadata": {},
     "output_type": "display_data"
    },
    {
     "data": {
      "text/html": [
       "<pre style=\"white-space:pre;overflow-x:auto;line-height:normal;font-family:Menlo,'DejaVu Sans Mono',consolas,'Courier New',monospace\">┏━━━━━━━━━━━━━━━━━━━━━━━━━━━┳━━━━━━━━━━━━━━━━━━━━━━━━━━━┓\n",
       "┃<span style=\"font-weight: bold\">        Test metric        </span>┃<span style=\"font-weight: bold\">       DataLoader 0        </span>┃\n",
       "┡━━━━━━━━━━━━━━━━━━━━━━━━━━━╇━━━━━━━━━━━━━━━━━━━━━━━━━━━┩\n",
       "│<span style=\"color: #008080; text-decoration-color: #008080\">         test_loss         </span>│<span style=\"color: #800080; text-decoration-color: #800080\">     0.72016841173172      </span>│\n",
       "└───────────────────────────┴───────────────────────────┘\n",
       "</pre>\n"
      ],
      "text/plain": [
       "┏━━━━━━━━━━━━━━━━━━━━━━━━━━━┳━━━━━━━━━━━━━━━━━━━━━━━━━━━┓\n",
       "┃\u001b[1m \u001b[0m\u001b[1m       Test metric       \u001b[0m\u001b[1m \u001b[0m┃\u001b[1m \u001b[0m\u001b[1m      DataLoader 0       \u001b[0m\u001b[1m \u001b[0m┃\n",
       "┡━━━━━━━━━━━━━━━━━━━━━━━━━━━╇━━━━━━━━━━━━━━━━━━━━━━━━━━━┩\n",
       "│\u001b[36m \u001b[0m\u001b[36m        test_loss        \u001b[0m\u001b[36m \u001b[0m│\u001b[35m \u001b[0m\u001b[35m    0.72016841173172     \u001b[0m\u001b[35m \u001b[0m│\n",
       "└───────────────────────────┴───────────────────────────┘\n"
      ]
     },
     "metadata": {},
     "output_type": "display_data"
    },
    {
     "name": "stderr",
     "output_type": "stream",
     "text": [
      "GPU available: False, used: False\n",
      "TPU available: False, using: 0 TPU cores\n",
      "IPU available: False, using: 0 IPUs\n",
      "HPU available: False, using: 0 HPUs\n"
     ]
    },
    {
     "name": "stdout",
     "output_type": "stream",
     "text": [
      "{'a_include_BN': False, 'a_include_bias': False, 'activation_type': SELU(), 'b_include_BN': False, 'b_include_bias': True, 'pool_type': MaxPool2d(kernel_size=2, stride=2, padding=0, dilation=1, ceil_mode=False), 'learning_rate': 0.01, 'dropout_range_a': 0, 'dropout_range_b': 0}\n"
     ]
    },
    {
     "name": "stderr",
     "output_type": "stream",
     "text": [
      "\n",
      "   | Name                 | Type        | Params\n",
      "------------------------------------------------------\n",
      "0  | model                | MyModel     | 99.7 K\n",
      "1  | pre_layers           | Sequential  | 86.9 K\n",
      "2  | cnn1                 | Conv2d      | 65.5 K\n",
      "3  | batch_norm_a         | BatchNorm2d | 128   \n",
      "4  | dropout_1            | Dropout     | 0     \n",
      "5  | funcion_activacion_a | SELU        | 0     \n",
      "6  | cnn2                 | Conv2d      | 65.6 K\n",
      "7  | batch_norm_b         | BatchNorm2d | 128   \n",
      "8  | dropout_2            | Dropout     | 0     \n",
      "9  | pool2                | MaxPool2d   | 0     \n",
      "10 | fc1                  | Linear      | 10.2 K\n",
      "------------------------------------------------------\n",
      "141 K     Trainable params\n",
      "99.7 K    Non-trainable params\n",
      "241 K     Total params\n",
      "0.965     Total estimated model params size (MB)\n"
     ]
    },
    {
     "data": {
      "application/vnd.jupyter.widget-view+json": {
       "model_id": "d948a4286e204939affa8ada4b9da3c1",
       "version_major": 2,
       "version_minor": 0
      },
      "text/plain": [
       "Sanity Checking: 0it [00:00, ?it/s]"
      ]
     },
     "metadata": {},
     "output_type": "display_data"
    },
    {
     "data": {
      "application/vnd.jupyter.widget-view+json": {
       "model_id": "88935bcd8c2d45319fb3d918758f321c",
       "version_major": 2,
       "version_minor": 0
      },
      "text/plain": [
       "Training: 0it [00:00, ?it/s]"
      ]
     },
     "metadata": {},
     "output_type": "display_data"
    },
    {
     "data": {
      "application/vnd.jupyter.widget-view+json": {
       "model_id": "5d5893a596f34a678070567078c213c8",
       "version_major": 2,
       "version_minor": 0
      },
      "text/plain": [
       "Validation: 0it [00:00, ?it/s]"
      ]
     },
     "metadata": {},
     "output_type": "display_data"
    },
    {
     "data": {
      "application/vnd.jupyter.widget-view+json": {
       "model_id": "0c7ee096076e4c6d9d56ed482247669b",
       "version_major": 2,
       "version_minor": 0
      },
      "text/plain": [
       "Validation: 0it [00:00, ?it/s]"
      ]
     },
     "metadata": {},
     "output_type": "display_data"
    },
    {
     "data": {
      "application/vnd.jupyter.widget-view+json": {
       "model_id": "e5d9f3729ac74f5f84ed6bd988854c71",
       "version_major": 2,
       "version_minor": 0
      },
      "text/plain": [
       "Validation: 0it [00:00, ?it/s]"
      ]
     },
     "metadata": {},
     "output_type": "display_data"
    },
    {
     "data": {
      "application/vnd.jupyter.widget-view+json": {
       "model_id": "7f4d61a3b50d47caa5c1bc236d1d5c7b",
       "version_major": 2,
       "version_minor": 0
      },
      "text/plain": [
       "Validation: 0it [00:00, ?it/s]"
      ]
     },
     "metadata": {},
     "output_type": "display_data"
    },
    {
     "data": {
      "application/vnd.jupyter.widget-view+json": {
       "model_id": "35464d2bf48949fc9fbe4e993bcded12",
       "version_major": 2,
       "version_minor": 0
      },
      "text/plain": [
       "Validation: 0it [00:00, ?it/s]"
      ]
     },
     "metadata": {},
     "output_type": "display_data"
    },
    {
     "name": "stderr",
     "output_type": "stream",
     "text": [
      "`Trainer.fit` stopped: `max_epochs=5` reached.\n",
      "Restoring states from the checkpoint path at c:\\Users\\w10\\Desktop\\BMA\\UPV\\tia\\algoritmos_geneticos\\notebooks\\lightning_logs\\version_449\\checkpoints\\epoch=4-step=150.ckpt\n",
      "Loaded model weights from the checkpoint at c:\\Users\\w10\\Desktop\\BMA\\UPV\\tia\\algoritmos_geneticos\\notebooks\\lightning_logs\\version_449\\checkpoints\\epoch=4-step=150.ckpt\n"
     ]
    },
    {
     "data": {
      "application/vnd.jupyter.widget-view+json": {
       "model_id": "5db083ab6b3242f9a3d5eb222291f243",
       "version_major": 2,
       "version_minor": 0
      },
      "text/plain": [
       "Testing: 0it [00:00, ?it/s]"
      ]
     },
     "metadata": {},
     "output_type": "display_data"
    },
    {
     "data": {
      "text/html": [
       "<pre style=\"white-space:pre;overflow-x:auto;line-height:normal;font-family:Menlo,'DejaVu Sans Mono',consolas,'Courier New',monospace\">┏━━━━━━━━━━━━━━━━━━━━━━━━━━━┳━━━━━━━━━━━━━━━━━━━━━━━━━━━┓\n",
       "┃<span style=\"font-weight: bold\">        Test metric        </span>┃<span style=\"font-weight: bold\">       DataLoader 0        </span>┃\n",
       "┡━━━━━━━━━━━━━━━━━━━━━━━━━━━╇━━━━━━━━━━━━━━━━━━━━━━━━━━━┩\n",
       "│<span style=\"color: #008080; text-decoration-color: #008080\">         test_loss         </span>│<span style=\"color: #800080; text-decoration-color: #800080\">    0.7246913313865662     </span>│\n",
       "└───────────────────────────┴───────────────────────────┘\n",
       "</pre>\n"
      ],
      "text/plain": [
       "┏━━━━━━━━━━━━━━━━━━━━━━━━━━━┳━━━━━━━━━━━━━━━━━━━━━━━━━━━┓\n",
       "┃\u001b[1m \u001b[0m\u001b[1m       Test metric       \u001b[0m\u001b[1m \u001b[0m┃\u001b[1m \u001b[0m\u001b[1m      DataLoader 0       \u001b[0m\u001b[1m \u001b[0m┃\n",
       "┡━━━━━━━━━━━━━━━━━━━━━━━━━━━╇━━━━━━━━━━━━━━━━━━━━━━━━━━━┩\n",
       "│\u001b[36m \u001b[0m\u001b[36m        test_loss        \u001b[0m\u001b[36m \u001b[0m│\u001b[35m \u001b[0m\u001b[35m   0.7246913313865662    \u001b[0m\u001b[35m \u001b[0m│\n",
       "└───────────────────────────┴───────────────────────────┘\n"
      ]
     },
     "metadata": {},
     "output_type": "display_data"
    },
    {
     "name": "stderr",
     "output_type": "stream",
     "text": [
      "GPU available: False, used: False\n",
      "TPU available: False, using: 0 TPU cores\n",
      "IPU available: False, using: 0 IPUs\n",
      "HPU available: False, using: 0 HPUs\n"
     ]
    },
    {
     "name": "stdout",
     "output_type": "stream",
     "text": [
      "0.72016841173172\n",
      "3\n",
      "3\n",
      "3\n",
      "{'a_include_BN': False, 'a_include_bias': True, 'activation_type': SELU(), 'b_include_BN': True, 'b_include_bias': True, 'pool_type': MaxPool2d(kernel_size=2, stride=2, padding=0, dilation=1, ceil_mode=False), 'learning_rate': 0.01, 'dropout_range_a': 0, 'dropout_range_b': 0}\n"
     ]
    },
    {
     "name": "stderr",
     "output_type": "stream",
     "text": [
      "\n",
      "   | Name                 | Type        | Params\n",
      "------------------------------------------------------\n",
      "0  | model                | MyModel     | 99.7 K\n",
      "1  | pre_layers           | Sequential  | 86.9 K\n",
      "2  | cnn1                 | Conv2d      | 65.6 K\n",
      "3  | batch_norm_a         | BatchNorm2d | 128   \n",
      "4  | dropout_1            | Dropout     | 0     \n",
      "5  | funcion_activacion_a | SELU        | 0     \n",
      "6  | cnn2                 | Conv2d      | 65.6 K\n",
      "7  | batch_norm_b         | BatchNorm2d | 128   \n",
      "8  | dropout_2            | Dropout     | 0     \n",
      "9  | pool2                | MaxPool2d   | 0     \n",
      "10 | fc1                  | Linear      | 10.2 K\n",
      "------------------------------------------------------\n",
      "141 K     Trainable params\n",
      "99.7 K    Non-trainable params\n",
      "241 K     Total params\n",
      "0.966     Total estimated model params size (MB)\n"
     ]
    },
    {
     "data": {
      "application/vnd.jupyter.widget-view+json": {
       "model_id": "038d6fd670134378a6c96b9e39861081",
       "version_major": 2,
       "version_minor": 0
      },
      "text/plain": [
       "Sanity Checking: 0it [00:00, ?it/s]"
      ]
     },
     "metadata": {},
     "output_type": "display_data"
    },
    {
     "data": {
      "application/vnd.jupyter.widget-view+json": {
       "model_id": "05345ee91b3840619781775fa27da21e",
       "version_major": 2,
       "version_minor": 0
      },
      "text/plain": [
       "Training: 0it [00:00, ?it/s]"
      ]
     },
     "metadata": {},
     "output_type": "display_data"
    },
    {
     "data": {
      "application/vnd.jupyter.widget-view+json": {
       "model_id": "0a8bb1c139444f558f1b9743842796c4",
       "version_major": 2,
       "version_minor": 0
      },
      "text/plain": [
       "Validation: 0it [00:00, ?it/s]"
      ]
     },
     "metadata": {},
     "output_type": "display_data"
    },
    {
     "data": {
      "application/vnd.jupyter.widget-view+json": {
       "model_id": "a627951aa10c49e9a17e63fe7d754635",
       "version_major": 2,
       "version_minor": 0
      },
      "text/plain": [
       "Validation: 0it [00:00, ?it/s]"
      ]
     },
     "metadata": {},
     "output_type": "display_data"
    },
    {
     "data": {
      "application/vnd.jupyter.widget-view+json": {
       "model_id": "4a456758d6f34865b008ea7416d32c71",
       "version_major": 2,
       "version_minor": 0
      },
      "text/plain": [
       "Validation: 0it [00:00, ?it/s]"
      ]
     },
     "metadata": {},
     "output_type": "display_data"
    },
    {
     "data": {
      "application/vnd.jupyter.widget-view+json": {
       "model_id": "71915d7d262247c4a3928fe231ec7047",
       "version_major": 2,
       "version_minor": 0
      },
      "text/plain": [
       "Validation: 0it [00:00, ?it/s]"
      ]
     },
     "metadata": {},
     "output_type": "display_data"
    },
    {
     "data": {
      "application/vnd.jupyter.widget-view+json": {
       "model_id": "2a1be77b2cab4ede97bf138a98047c37",
       "version_major": 2,
       "version_minor": 0
      },
      "text/plain": [
       "Validation: 0it [00:00, ?it/s]"
      ]
     },
     "metadata": {},
     "output_type": "display_data"
    },
    {
     "name": "stderr",
     "output_type": "stream",
     "text": [
      "`Trainer.fit` stopped: `max_epochs=5` reached.\n",
      "Restoring states from the checkpoint path at c:\\Users\\w10\\Desktop\\BMA\\UPV\\tia\\algoritmos_geneticos\\notebooks\\lightning_logs\\version_450\\checkpoints\\epoch=4-step=150.ckpt\n",
      "Loaded model weights from the checkpoint at c:\\Users\\w10\\Desktop\\BMA\\UPV\\tia\\algoritmos_geneticos\\notebooks\\lightning_logs\\version_450\\checkpoints\\epoch=4-step=150.ckpt\n"
     ]
    },
    {
     "data": {
      "application/vnd.jupyter.widget-view+json": {
       "model_id": "7603a8beabcd4ef19e9f000fcb4fd606",
       "version_major": 2,
       "version_minor": 0
      },
      "text/plain": [
       "Testing: 0it [00:00, ?it/s]"
      ]
     },
     "metadata": {},
     "output_type": "display_data"
    },
    {
     "data": {
      "text/html": [
       "<pre style=\"white-space:pre;overflow-x:auto;line-height:normal;font-family:Menlo,'DejaVu Sans Mono',consolas,'Courier New',monospace\">┏━━━━━━━━━━━━━━━━━━━━━━━━━━━┳━━━━━━━━━━━━━━━━━━━━━━━━━━━┓\n",
       "┃<span style=\"font-weight: bold\">        Test metric        </span>┃<span style=\"font-weight: bold\">       DataLoader 0        </span>┃\n",
       "┡━━━━━━━━━━━━━━━━━━━━━━━━━━━╇━━━━━━━━━━━━━━━━━━━━━━━━━━━┩\n",
       "│<span style=\"color: #008080; text-decoration-color: #008080\">         test_loss         </span>│<span style=\"color: #800080; text-decoration-color: #800080\">    0.7933173775672913     </span>│\n",
       "└───────────────────────────┴───────────────────────────┘\n",
       "</pre>\n"
      ],
      "text/plain": [
       "┏━━━━━━━━━━━━━━━━━━━━━━━━━━━┳━━━━━━━━━━━━━━━━━━━━━━━━━━━┓\n",
       "┃\u001b[1m \u001b[0m\u001b[1m       Test metric       \u001b[0m\u001b[1m \u001b[0m┃\u001b[1m \u001b[0m\u001b[1m      DataLoader 0       \u001b[0m\u001b[1m \u001b[0m┃\n",
       "┡━━━━━━━━━━━━━━━━━━━━━━━━━━━╇━━━━━━━━━━━━━━━━━━━━━━━━━━━┩\n",
       "│\u001b[36m \u001b[0m\u001b[36m        test_loss        \u001b[0m\u001b[36m \u001b[0m│\u001b[35m \u001b[0m\u001b[35m   0.7933173775672913    \u001b[0m\u001b[35m \u001b[0m│\n",
       "└───────────────────────────┴───────────────────────────┘\n"
      ]
     },
     "metadata": {},
     "output_type": "display_data"
    },
    {
     "name": "stderr",
     "output_type": "stream",
     "text": [
      "GPU available: False, used: False\n",
      "TPU available: False, using: 0 TPU cores\n",
      "IPU available: False, using: 0 IPUs\n",
      "HPU available: False, using: 0 HPUs\n"
     ]
    },
    {
     "name": "stdout",
     "output_type": "stream",
     "text": [
      "{'a_include_BN': False, 'a_include_bias': False, 'activation_type': SELU(), 'b_include_BN': False, 'b_include_bias': True, 'pool_type': MaxPool2d(kernel_size=2, stride=2, padding=0, dilation=1, ceil_mode=False), 'learning_rate': 0.01, 'dropout_range_a': 0, 'dropout_range_b': 0}\n"
     ]
    },
    {
     "name": "stderr",
     "output_type": "stream",
     "text": [
      "\n",
      "   | Name                 | Type        | Params\n",
      "------------------------------------------------------\n",
      "0  | model                | MyModel     | 99.7 K\n",
      "1  | pre_layers           | Sequential  | 86.9 K\n",
      "2  | cnn1                 | Conv2d      | 65.5 K\n",
      "3  | batch_norm_a         | BatchNorm2d | 128   \n",
      "4  | dropout_1            | Dropout     | 0     \n",
      "5  | funcion_activacion_a | SELU        | 0     \n",
      "6  | cnn2                 | Conv2d      | 65.6 K\n",
      "7  | batch_norm_b         | BatchNorm2d | 128   \n",
      "8  | dropout_2            | Dropout     | 0     \n",
      "9  | pool2                | MaxPool2d   | 0     \n",
      "10 | fc1                  | Linear      | 10.2 K\n",
      "------------------------------------------------------\n",
      "141 K     Trainable params\n",
      "99.7 K    Non-trainable params\n",
      "241 K     Total params\n",
      "0.965     Total estimated model params size (MB)\n"
     ]
    },
    {
     "data": {
      "application/vnd.jupyter.widget-view+json": {
       "model_id": "7d60c3bc0bbc4ccab6385089f02bc978",
       "version_major": 2,
       "version_minor": 0
      },
      "text/plain": [
       "Sanity Checking: 0it [00:00, ?it/s]"
      ]
     },
     "metadata": {},
     "output_type": "display_data"
    },
    {
     "data": {
      "application/vnd.jupyter.widget-view+json": {
       "model_id": "087cce148bbc456082b655f708f30873",
       "version_major": 2,
       "version_minor": 0
      },
      "text/plain": [
       "Training: 0it [00:00, ?it/s]"
      ]
     },
     "metadata": {},
     "output_type": "display_data"
    },
    {
     "data": {
      "application/vnd.jupyter.widget-view+json": {
       "model_id": "f83a47e7ed3a4b63b7155e4d723a3cbf",
       "version_major": 2,
       "version_minor": 0
      },
      "text/plain": [
       "Validation: 0it [00:00, ?it/s]"
      ]
     },
     "metadata": {},
     "output_type": "display_data"
    },
    {
     "data": {
      "application/vnd.jupyter.widget-view+json": {
       "model_id": "00ff627ba94d449596f24329bbe1650c",
       "version_major": 2,
       "version_minor": 0
      },
      "text/plain": [
       "Validation: 0it [00:00, ?it/s]"
      ]
     },
     "metadata": {},
     "output_type": "display_data"
    },
    {
     "data": {
      "application/vnd.jupyter.widget-view+json": {
       "model_id": "a96ef741a74547a89c7de6ec76bf4f4b",
       "version_major": 2,
       "version_minor": 0
      },
      "text/plain": [
       "Validation: 0it [00:00, ?it/s]"
      ]
     },
     "metadata": {},
     "output_type": "display_data"
    },
    {
     "data": {
      "application/vnd.jupyter.widget-view+json": {
       "model_id": "ef4732b4d286434ca9fd1c0448415cba",
       "version_major": 2,
       "version_minor": 0
      },
      "text/plain": [
       "Validation: 0it [00:00, ?it/s]"
      ]
     },
     "metadata": {},
     "output_type": "display_data"
    },
    {
     "data": {
      "application/vnd.jupyter.widget-view+json": {
       "model_id": "db1d46651a93445f887c4d650faefd04",
       "version_major": 2,
       "version_minor": 0
      },
      "text/plain": [
       "Validation: 0it [00:00, ?it/s]"
      ]
     },
     "metadata": {},
     "output_type": "display_data"
    },
    {
     "name": "stderr",
     "output_type": "stream",
     "text": [
      "`Trainer.fit` stopped: `max_epochs=5` reached.\n",
      "Restoring states from the checkpoint path at c:\\Users\\w10\\Desktop\\BMA\\UPV\\tia\\algoritmos_geneticos\\notebooks\\lightning_logs\\version_451\\checkpoints\\epoch=4-step=150.ckpt\n",
      "Loaded model weights from the checkpoint at c:\\Users\\w10\\Desktop\\BMA\\UPV\\tia\\algoritmos_geneticos\\notebooks\\lightning_logs\\version_451\\checkpoints\\epoch=4-step=150.ckpt\n"
     ]
    },
    {
     "data": {
      "application/vnd.jupyter.widget-view+json": {
       "model_id": "1ec89c621ef7489587ff6b2db187508a",
       "version_major": 2,
       "version_minor": 0
      },
      "text/plain": [
       "Testing: 0it [00:00, ?it/s]"
      ]
     },
     "metadata": {},
     "output_type": "display_data"
    },
    {
     "data": {
      "text/html": [
       "<pre style=\"white-space:pre;overflow-x:auto;line-height:normal;font-family:Menlo,'DejaVu Sans Mono',consolas,'Courier New',monospace\">┏━━━━━━━━━━━━━━━━━━━━━━━━━━━┳━━━━━━━━━━━━━━━━━━━━━━━━━━━┓\n",
       "┃<span style=\"font-weight: bold\">        Test metric        </span>┃<span style=\"font-weight: bold\">       DataLoader 0        </span>┃\n",
       "┡━━━━━━━━━━━━━━━━━━━━━━━━━━━╇━━━━━━━━━━━━━━━━━━━━━━━━━━━┩\n",
       "│<span style=\"color: #008080; text-decoration-color: #008080\">         test_loss         </span>│<span style=\"color: #800080; text-decoration-color: #800080\">     0.754927396774292     </span>│\n",
       "└───────────────────────────┴───────────────────────────┘\n",
       "</pre>\n"
      ],
      "text/plain": [
       "┏━━━━━━━━━━━━━━━━━━━━━━━━━━━┳━━━━━━━━━━━━━━━━━━━━━━━━━━━┓\n",
       "┃\u001b[1m \u001b[0m\u001b[1m       Test metric       \u001b[0m\u001b[1m \u001b[0m┃\u001b[1m \u001b[0m\u001b[1m      DataLoader 0       \u001b[0m\u001b[1m \u001b[0m┃\n",
       "┡━━━━━━━━━━━━━━━━━━━━━━━━━━━╇━━━━━━━━━━━━━━━━━━━━━━━━━━━┩\n",
       "│\u001b[36m \u001b[0m\u001b[36m        test_loss        \u001b[0m\u001b[36m \u001b[0m│\u001b[35m \u001b[0m\u001b[35m    0.754927396774292    \u001b[0m\u001b[35m \u001b[0m│\n",
       "└───────────────────────────┴───────────────────────────┘\n"
      ]
     },
     "metadata": {},
     "output_type": "display_data"
    },
    {
     "name": "stderr",
     "output_type": "stream",
     "text": [
      "GPU available: False, used: False\n",
      "TPU available: False, using: 0 TPU cores\n",
      "IPU available: False, using: 0 IPUs\n",
      "HPU available: False, using: 0 HPUs\n"
     ]
    },
    {
     "name": "stdout",
     "output_type": "stream",
     "text": [
      "{'a_include_BN': False, 'a_include_bias': False, 'activation_type': SELU(), 'b_include_BN': False, 'b_include_bias': True, 'pool_type': MaxPool2d(kernel_size=2, stride=2, padding=0, dilation=1, ceil_mode=False), 'learning_rate': 0.01, 'dropout_range_a': 0, 'dropout_range_b': 0}\n"
     ]
    },
    {
     "name": "stderr",
     "output_type": "stream",
     "text": [
      "\n",
      "   | Name                 | Type        | Params\n",
      "------------------------------------------------------\n",
      "0  | model                | MyModel     | 99.7 K\n",
      "1  | pre_layers           | Sequential  | 86.9 K\n",
      "2  | cnn1                 | Conv2d      | 65.5 K\n",
      "3  | batch_norm_a         | BatchNorm2d | 128   \n",
      "4  | dropout_1            | Dropout     | 0     \n",
      "5  | funcion_activacion_a | SELU        | 0     \n",
      "6  | cnn2                 | Conv2d      | 65.6 K\n",
      "7  | batch_norm_b         | BatchNorm2d | 128   \n",
      "8  | dropout_2            | Dropout     | 0     \n",
      "9  | pool2                | MaxPool2d   | 0     \n",
      "10 | fc1                  | Linear      | 10.2 K\n",
      "------------------------------------------------------\n",
      "141 K     Trainable params\n",
      "99.7 K    Non-trainable params\n",
      "241 K     Total params\n",
      "0.965     Total estimated model params size (MB)\n"
     ]
    },
    {
     "data": {
      "application/vnd.jupyter.widget-view+json": {
       "model_id": "7f11ddffab614cb7aec246fb446194f1",
       "version_major": 2,
       "version_minor": 0
      },
      "text/plain": [
       "Sanity Checking: 0it [00:00, ?it/s]"
      ]
     },
     "metadata": {},
     "output_type": "display_data"
    },
    {
     "data": {
      "application/vnd.jupyter.widget-view+json": {
       "model_id": "11636571d22a4b8da4a5b48b17d3f093",
       "version_major": 2,
       "version_minor": 0
      },
      "text/plain": [
       "Training: 0it [00:00, ?it/s]"
      ]
     },
     "metadata": {},
     "output_type": "display_data"
    },
    {
     "data": {
      "application/vnd.jupyter.widget-view+json": {
       "model_id": "680efae67f864e78ab0a6836bed62bf7",
       "version_major": 2,
       "version_minor": 0
      },
      "text/plain": [
       "Validation: 0it [00:00, ?it/s]"
      ]
     },
     "metadata": {},
     "output_type": "display_data"
    },
    {
     "data": {
      "application/vnd.jupyter.widget-view+json": {
       "model_id": "4ba9d783376f443bbc86daea27e593f3",
       "version_major": 2,
       "version_minor": 0
      },
      "text/plain": [
       "Validation: 0it [00:00, ?it/s]"
      ]
     },
     "metadata": {},
     "output_type": "display_data"
    },
    {
     "data": {
      "application/vnd.jupyter.widget-view+json": {
       "model_id": "c952cc873e3043f09034036a17f54f7e",
       "version_major": 2,
       "version_minor": 0
      },
      "text/plain": [
       "Validation: 0it [00:00, ?it/s]"
      ]
     },
     "metadata": {},
     "output_type": "display_data"
    },
    {
     "data": {
      "application/vnd.jupyter.widget-view+json": {
       "model_id": "cdd6e26b33794a82aa88397ab6902f22",
       "version_major": 2,
       "version_minor": 0
      },
      "text/plain": [
       "Validation: 0it [00:00, ?it/s]"
      ]
     },
     "metadata": {},
     "output_type": "display_data"
    },
    {
     "data": {
      "application/vnd.jupyter.widget-view+json": {
       "model_id": "0fd10c1d663b446aa19c87aad9acc3ba",
       "version_major": 2,
       "version_minor": 0
      },
      "text/plain": [
       "Validation: 0it [00:00, ?it/s]"
      ]
     },
     "metadata": {},
     "output_type": "display_data"
    },
    {
     "name": "stderr",
     "output_type": "stream",
     "text": [
      "`Trainer.fit` stopped: `max_epochs=5` reached.\n",
      "Restoring states from the checkpoint path at c:\\Users\\w10\\Desktop\\BMA\\UPV\\tia\\algoritmos_geneticos\\notebooks\\lightning_logs\\version_452\\checkpoints\\epoch=4-step=150.ckpt\n",
      "Loaded model weights from the checkpoint at c:\\Users\\w10\\Desktop\\BMA\\UPV\\tia\\algoritmos_geneticos\\notebooks\\lightning_logs\\version_452\\checkpoints\\epoch=4-step=150.ckpt\n"
     ]
    },
    {
     "data": {
      "application/vnd.jupyter.widget-view+json": {
       "model_id": "8c5979ce5fbe4cf8aebc6a43e0392499",
       "version_major": 2,
       "version_minor": 0
      },
      "text/plain": [
       "Testing: 0it [00:00, ?it/s]"
      ]
     },
     "metadata": {},
     "output_type": "display_data"
    },
    {
     "data": {
      "text/html": [
       "<pre style=\"white-space:pre;overflow-x:auto;line-height:normal;font-family:Menlo,'DejaVu Sans Mono',consolas,'Courier New',monospace\">┏━━━━━━━━━━━━━━━━━━━━━━━━━━━┳━━━━━━━━━━━━━━━━━━━━━━━━━━━┓\n",
       "┃<span style=\"font-weight: bold\">        Test metric        </span>┃<span style=\"font-weight: bold\">       DataLoader 0        </span>┃\n",
       "┡━━━━━━━━━━━━━━━━━━━━━━━━━━━╇━━━━━━━━━━━━━━━━━━━━━━━━━━━┩\n",
       "│<span style=\"color: #008080; text-decoration-color: #008080\">         test_loss         </span>│<span style=\"color: #800080; text-decoration-color: #800080\">    0.7383527755737305     </span>│\n",
       "└───────────────────────────┴───────────────────────────┘\n",
       "</pre>\n"
      ],
      "text/plain": [
       "┏━━━━━━━━━━━━━━━━━━━━━━━━━━━┳━━━━━━━━━━━━━━━━━━━━━━━━━━━┓\n",
       "┃\u001b[1m \u001b[0m\u001b[1m       Test metric       \u001b[0m\u001b[1m \u001b[0m┃\u001b[1m \u001b[0m\u001b[1m      DataLoader 0       \u001b[0m\u001b[1m \u001b[0m┃\n",
       "┡━━━━━━━━━━━━━━━━━━━━━━━━━━━╇━━━━━━━━━━━━━━━━━━━━━━━━━━━┩\n",
       "│\u001b[36m \u001b[0m\u001b[36m        test_loss        \u001b[0m\u001b[36m \u001b[0m│\u001b[35m \u001b[0m\u001b[35m   0.7383527755737305    \u001b[0m\u001b[35m \u001b[0m│\n",
       "└───────────────────────────┴───────────────────────────┘\n"
      ]
     },
     "metadata": {},
     "output_type": "display_data"
    },
    {
     "name": "stderr",
     "output_type": "stream",
     "text": [
      "GPU available: False, used: False\n",
      "TPU available: False, using: 0 TPU cores\n",
      "IPU available: False, using: 0 IPUs\n",
      "HPU available: False, using: 0 HPUs\n"
     ]
    },
    {
     "name": "stdout",
     "output_type": "stream",
     "text": [
      "{'a_include_BN': False, 'a_include_bias': True, 'activation_type': SELU(), 'b_include_BN': True, 'b_include_bias': True, 'pool_type': MaxPool2d(kernel_size=2, stride=2, padding=0, dilation=1, ceil_mode=False), 'learning_rate': 0.01, 'dropout_range_a': 0, 'dropout_range_b': 0}\n"
     ]
    },
    {
     "name": "stderr",
     "output_type": "stream",
     "text": [
      "\n",
      "   | Name                 | Type        | Params\n",
      "------------------------------------------------------\n",
      "0  | model                | MyModel     | 99.7 K\n",
      "1  | pre_layers           | Sequential  | 86.9 K\n",
      "2  | cnn1                 | Conv2d      | 65.6 K\n",
      "3  | batch_norm_a         | BatchNorm2d | 128   \n",
      "4  | dropout_1            | Dropout     | 0     \n",
      "5  | funcion_activacion_a | SELU        | 0     \n",
      "6  | cnn2                 | Conv2d      | 65.6 K\n",
      "7  | batch_norm_b         | BatchNorm2d | 128   \n",
      "8  | dropout_2            | Dropout     | 0     \n",
      "9  | pool2                | MaxPool2d   | 0     \n",
      "10 | fc1                  | Linear      | 10.2 K\n",
      "------------------------------------------------------\n",
      "141 K     Trainable params\n",
      "99.7 K    Non-trainable params\n",
      "241 K     Total params\n",
      "0.966     Total estimated model params size (MB)\n"
     ]
    },
    {
     "data": {
      "application/vnd.jupyter.widget-view+json": {
       "model_id": "ca840a4229cc40579daf4753f8cbb6c8",
       "version_major": 2,
       "version_minor": 0
      },
      "text/plain": [
       "Sanity Checking: 0it [00:00, ?it/s]"
      ]
     },
     "metadata": {},
     "output_type": "display_data"
    },
    {
     "data": {
      "application/vnd.jupyter.widget-view+json": {
       "model_id": "ae5388d7cd5c4bf1bf1cdbff9d2a08ef",
       "version_major": 2,
       "version_minor": 0
      },
      "text/plain": [
       "Training: 0it [00:00, ?it/s]"
      ]
     },
     "metadata": {},
     "output_type": "display_data"
    },
    {
     "data": {
      "application/vnd.jupyter.widget-view+json": {
       "model_id": "efac4bbe3e024d0fa6ee7b776808c520",
       "version_major": 2,
       "version_minor": 0
      },
      "text/plain": [
       "Validation: 0it [00:00, ?it/s]"
      ]
     },
     "metadata": {},
     "output_type": "display_data"
    },
    {
     "data": {
      "application/vnd.jupyter.widget-view+json": {
       "model_id": "62c14fe6eb61404bb9a7fb1a89d5ebc2",
       "version_major": 2,
       "version_minor": 0
      },
      "text/plain": [
       "Validation: 0it [00:00, ?it/s]"
      ]
     },
     "metadata": {},
     "output_type": "display_data"
    },
    {
     "data": {
      "application/vnd.jupyter.widget-view+json": {
       "model_id": "a3c6071f0ae541dfa55ac4e14548b5dd",
       "version_major": 2,
       "version_minor": 0
      },
      "text/plain": [
       "Validation: 0it [00:00, ?it/s]"
      ]
     },
     "metadata": {},
     "output_type": "display_data"
    },
    {
     "data": {
      "application/vnd.jupyter.widget-view+json": {
       "model_id": "dd263802eb8c402493f5dc8dc843a8b0",
       "version_major": 2,
       "version_minor": 0
      },
      "text/plain": [
       "Validation: 0it [00:00, ?it/s]"
      ]
     },
     "metadata": {},
     "output_type": "display_data"
    },
    {
     "data": {
      "application/vnd.jupyter.widget-view+json": {
       "model_id": "82d299f6ef0d4269bb7a9b873bd43ec8",
       "version_major": 2,
       "version_minor": 0
      },
      "text/plain": [
       "Validation: 0it [00:00, ?it/s]"
      ]
     },
     "metadata": {},
     "output_type": "display_data"
    },
    {
     "name": "stderr",
     "output_type": "stream",
     "text": [
      "`Trainer.fit` stopped: `max_epochs=5` reached.\n",
      "Restoring states from the checkpoint path at c:\\Users\\w10\\Desktop\\BMA\\UPV\\tia\\algoritmos_geneticos\\notebooks\\lightning_logs\\version_453\\checkpoints\\epoch=4-step=150.ckpt\n",
      "Loaded model weights from the checkpoint at c:\\Users\\w10\\Desktop\\BMA\\UPV\\tia\\algoritmos_geneticos\\notebooks\\lightning_logs\\version_453\\checkpoints\\epoch=4-step=150.ckpt\n"
     ]
    },
    {
     "data": {
      "application/vnd.jupyter.widget-view+json": {
       "model_id": "d4e9666cf4b24e4d964ba1bfeedf8b47",
       "version_major": 2,
       "version_minor": 0
      },
      "text/plain": [
       "Testing: 0it [00:00, ?it/s]"
      ]
     },
     "metadata": {},
     "output_type": "display_data"
    },
    {
     "data": {
      "text/html": [
       "<pre style=\"white-space:pre;overflow-x:auto;line-height:normal;font-family:Menlo,'DejaVu Sans Mono',consolas,'Courier New',monospace\">┏━━━━━━━━━━━━━━━━━━━━━━━━━━━┳━━━━━━━━━━━━━━━━━━━━━━━━━━━┓\n",
       "┃<span style=\"font-weight: bold\">        Test metric        </span>┃<span style=\"font-weight: bold\">       DataLoader 0        </span>┃\n",
       "┡━━━━━━━━━━━━━━━━━━━━━━━━━━━╇━━━━━━━━━━━━━━━━━━━━━━━━━━━┩\n",
       "│<span style=\"color: #008080; text-decoration-color: #008080\">         test_loss         </span>│<span style=\"color: #800080; text-decoration-color: #800080\">    0.7381947636604309     </span>│\n",
       "└───────────────────────────┴───────────────────────────┘\n",
       "</pre>\n"
      ],
      "text/plain": [
       "┏━━━━━━━━━━━━━━━━━━━━━━━━━━━┳━━━━━━━━━━━━━━━━━━━━━━━━━━━┓\n",
       "┃\u001b[1m \u001b[0m\u001b[1m       Test metric       \u001b[0m\u001b[1m \u001b[0m┃\u001b[1m \u001b[0m\u001b[1m      DataLoader 0       \u001b[0m\u001b[1m \u001b[0m┃\n",
       "┡━━━━━━━━━━━━━━━━━━━━━━━━━━━╇━━━━━━━━━━━━━━━━━━━━━━━━━━━┩\n",
       "│\u001b[36m \u001b[0m\u001b[36m        test_loss        \u001b[0m\u001b[36m \u001b[0m│\u001b[35m \u001b[0m\u001b[35m   0.7381947636604309    \u001b[0m\u001b[35m \u001b[0m│\n",
       "└───────────────────────────┴───────────────────────────┘\n"
      ]
     },
     "metadata": {},
     "output_type": "display_data"
    },
    {
     "name": "stderr",
     "output_type": "stream",
     "text": [
      "GPU available: False, used: False\n",
      "TPU available: False, using: 0 TPU cores\n",
      "IPU available: False, using: 0 IPUs\n",
      "HPU available: False, using: 0 HPUs\n"
     ]
    },
    {
     "name": "stdout",
     "output_type": "stream",
     "text": [
      "{'a_include_BN': False, 'a_include_bias': True, 'activation_type': SELU(), 'b_include_BN': True, 'b_include_bias': True, 'pool_type': MaxPool2d(kernel_size=2, stride=2, padding=0, dilation=1, ceil_mode=False), 'learning_rate': 0.01, 'dropout_range_a': 0, 'dropout_range_b': 0}\n"
     ]
    },
    {
     "name": "stderr",
     "output_type": "stream",
     "text": [
      "\n",
      "   | Name                 | Type        | Params\n",
      "------------------------------------------------------\n",
      "0  | model                | MyModel     | 99.7 K\n",
      "1  | pre_layers           | Sequential  | 86.9 K\n",
      "2  | cnn1                 | Conv2d      | 65.6 K\n",
      "3  | batch_norm_a         | BatchNorm2d | 128   \n",
      "4  | dropout_1            | Dropout     | 0     \n",
      "5  | funcion_activacion_a | SELU        | 0     \n",
      "6  | cnn2                 | Conv2d      | 65.6 K\n",
      "7  | batch_norm_b         | BatchNorm2d | 128   \n",
      "8  | dropout_2            | Dropout     | 0     \n",
      "9  | pool2                | MaxPool2d   | 0     \n",
      "10 | fc1                  | Linear      | 10.2 K\n",
      "------------------------------------------------------\n",
      "141 K     Trainable params\n",
      "99.7 K    Non-trainable params\n",
      "241 K     Total params\n",
      "0.966     Total estimated model params size (MB)\n"
     ]
    },
    {
     "data": {
      "application/vnd.jupyter.widget-view+json": {
       "model_id": "41645e61fcc847b698e06db8d107be9e",
       "version_major": 2,
       "version_minor": 0
      },
      "text/plain": [
       "Sanity Checking: 0it [00:00, ?it/s]"
      ]
     },
     "metadata": {},
     "output_type": "display_data"
    },
    {
     "data": {
      "application/vnd.jupyter.widget-view+json": {
       "model_id": "050aa50f1f654163bb4e58f8ba2dc914",
       "version_major": 2,
       "version_minor": 0
      },
      "text/plain": [
       "Training: 0it [00:00, ?it/s]"
      ]
     },
     "metadata": {},
     "output_type": "display_data"
    },
    {
     "data": {
      "application/vnd.jupyter.widget-view+json": {
       "model_id": "8620cf94fc3749259f8f415c36bd7e13",
       "version_major": 2,
       "version_minor": 0
      },
      "text/plain": [
       "Validation: 0it [00:00, ?it/s]"
      ]
     },
     "metadata": {},
     "output_type": "display_data"
    },
    {
     "data": {
      "application/vnd.jupyter.widget-view+json": {
       "model_id": "66cce602f9154b42b80b42b56df8885c",
       "version_major": 2,
       "version_minor": 0
      },
      "text/plain": [
       "Validation: 0it [00:00, ?it/s]"
      ]
     },
     "metadata": {},
     "output_type": "display_data"
    },
    {
     "data": {
      "application/vnd.jupyter.widget-view+json": {
       "model_id": "68c3860c074044149f9bd35a6d3f339d",
       "version_major": 2,
       "version_minor": 0
      },
      "text/plain": [
       "Validation: 0it [00:00, ?it/s]"
      ]
     },
     "metadata": {},
     "output_type": "display_data"
    },
    {
     "data": {
      "application/vnd.jupyter.widget-view+json": {
       "model_id": "62ed14794e354b6d9e0b9f78d0943a4a",
       "version_major": 2,
       "version_minor": 0
      },
      "text/plain": [
       "Validation: 0it [00:00, ?it/s]"
      ]
     },
     "metadata": {},
     "output_type": "display_data"
    },
    {
     "data": {
      "application/vnd.jupyter.widget-view+json": {
       "model_id": "3d89f9caa7e7452bb39df628823e3c88",
       "version_major": 2,
       "version_minor": 0
      },
      "text/plain": [
       "Validation: 0it [00:00, ?it/s]"
      ]
     },
     "metadata": {},
     "output_type": "display_data"
    },
    {
     "name": "stderr",
     "output_type": "stream",
     "text": [
      "`Trainer.fit` stopped: `max_epochs=5` reached.\n",
      "Restoring states from the checkpoint path at c:\\Users\\w10\\Desktop\\BMA\\UPV\\tia\\algoritmos_geneticos\\notebooks\\lightning_logs\\version_454\\checkpoints\\epoch=4-step=150.ckpt\n",
      "Loaded model weights from the checkpoint at c:\\Users\\w10\\Desktop\\BMA\\UPV\\tia\\algoritmos_geneticos\\notebooks\\lightning_logs\\version_454\\checkpoints\\epoch=4-step=150.ckpt\n"
     ]
    },
    {
     "data": {
      "application/vnd.jupyter.widget-view+json": {
       "model_id": "1878009f581b46108bba827fd28cc49d",
       "version_major": 2,
       "version_minor": 0
      },
      "text/plain": [
       "Testing: 0it [00:00, ?it/s]"
      ]
     },
     "metadata": {},
     "output_type": "display_data"
    },
    {
     "data": {
      "text/html": [
       "<pre style=\"white-space:pre;overflow-x:auto;line-height:normal;font-family:Menlo,'DejaVu Sans Mono',consolas,'Courier New',monospace\">┏━━━━━━━━━━━━━━━━━━━━━━━━━━━┳━━━━━━━━━━━━━━━━━━━━━━━━━━━┓\n",
       "┃<span style=\"font-weight: bold\">        Test metric        </span>┃<span style=\"font-weight: bold\">       DataLoader 0        </span>┃\n",
       "┡━━━━━━━━━━━━━━━━━━━━━━━━━━━╇━━━━━━━━━━━━━━━━━━━━━━━━━━━┩\n",
       "│<span style=\"color: #008080; text-decoration-color: #008080\">         test_loss         </span>│<span style=\"color: #800080; text-decoration-color: #800080\">    0.7677676677703857     </span>│\n",
       "└───────────────────────────┴───────────────────────────┘\n",
       "</pre>\n"
      ],
      "text/plain": [
       "┏━━━━━━━━━━━━━━━━━━━━━━━━━━━┳━━━━━━━━━━━━━━━━━━━━━━━━━━━┓\n",
       "┃\u001b[1m \u001b[0m\u001b[1m       Test metric       \u001b[0m\u001b[1m \u001b[0m┃\u001b[1m \u001b[0m\u001b[1m      DataLoader 0       \u001b[0m\u001b[1m \u001b[0m┃\n",
       "┡━━━━━━━━━━━━━━━━━━━━━━━━━━━╇━━━━━━━━━━━━━━━━━━━━━━━━━━━┩\n",
       "│\u001b[36m \u001b[0m\u001b[36m        test_loss        \u001b[0m\u001b[36m \u001b[0m│\u001b[35m \u001b[0m\u001b[35m   0.7677676677703857    \u001b[0m\u001b[35m \u001b[0m│\n",
       "└───────────────────────────┴───────────────────────────┘\n"
      ]
     },
     "metadata": {},
     "output_type": "display_data"
    },
    {
     "name": "stderr",
     "output_type": "stream",
     "text": [
      "GPU available: False, used: False\n",
      "TPU available: False, using: 0 TPU cores\n",
      "IPU available: False, using: 0 IPUs\n",
      "HPU available: False, using: 0 HPUs\n"
     ]
    },
    {
     "name": "stdout",
     "output_type": "stream",
     "text": [
      "{'a_include_BN': False, 'a_include_bias': False, 'activation_type': SELU(), 'b_include_BN': False, 'b_include_bias': True, 'pool_type': MaxPool2d(kernel_size=2, stride=2, padding=0, dilation=1, ceil_mode=False), 'learning_rate': 0.01, 'dropout_range_a': 0, 'dropout_range_b': 0}\n"
     ]
    },
    {
     "name": "stderr",
     "output_type": "stream",
     "text": [
      "\n",
      "   | Name                 | Type        | Params\n",
      "------------------------------------------------------\n",
      "0  | model                | MyModel     | 99.7 K\n",
      "1  | pre_layers           | Sequential  | 86.9 K\n",
      "2  | cnn1                 | Conv2d      | 65.5 K\n",
      "3  | batch_norm_a         | BatchNorm2d | 128   \n",
      "4  | dropout_1            | Dropout     | 0     \n",
      "5  | funcion_activacion_a | SELU        | 0     \n",
      "6  | cnn2                 | Conv2d      | 65.6 K\n",
      "7  | batch_norm_b         | BatchNorm2d | 128   \n",
      "8  | dropout_2            | Dropout     | 0     \n",
      "9  | pool2                | MaxPool2d   | 0     \n",
      "10 | fc1                  | Linear      | 10.2 K\n",
      "------------------------------------------------------\n",
      "141 K     Trainable params\n",
      "99.7 K    Non-trainable params\n",
      "241 K     Total params\n",
      "0.965     Total estimated model params size (MB)\n"
     ]
    },
    {
     "data": {
      "application/vnd.jupyter.widget-view+json": {
       "model_id": "1b15762753fd4dabbff17cfadf20c231",
       "version_major": 2,
       "version_minor": 0
      },
      "text/plain": [
       "Sanity Checking: 0it [00:00, ?it/s]"
      ]
     },
     "metadata": {},
     "output_type": "display_data"
    },
    {
     "data": {
      "application/vnd.jupyter.widget-view+json": {
       "model_id": "9e69b78e40c04757bc65fe7aa80e34f8",
       "version_major": 2,
       "version_minor": 0
      },
      "text/plain": [
       "Training: 0it [00:00, ?it/s]"
      ]
     },
     "metadata": {},
     "output_type": "display_data"
    },
    {
     "data": {
      "application/vnd.jupyter.widget-view+json": {
       "model_id": "2cb47bc4c46e4f1a8691a046e37ee3ac",
       "version_major": 2,
       "version_minor": 0
      },
      "text/plain": [
       "Validation: 0it [00:00, ?it/s]"
      ]
     },
     "metadata": {},
     "output_type": "display_data"
    },
    {
     "data": {
      "application/vnd.jupyter.widget-view+json": {
       "model_id": "accf53d8599140c6bfa3b09c5202b87f",
       "version_major": 2,
       "version_minor": 0
      },
      "text/plain": [
       "Validation: 0it [00:00, ?it/s]"
      ]
     },
     "metadata": {},
     "output_type": "display_data"
    },
    {
     "data": {
      "application/vnd.jupyter.widget-view+json": {
       "model_id": "d9e62f9f68e2440e984b5cf1ee99bec9",
       "version_major": 2,
       "version_minor": 0
      },
      "text/plain": [
       "Validation: 0it [00:00, ?it/s]"
      ]
     },
     "metadata": {},
     "output_type": "display_data"
    },
    {
     "data": {
      "application/vnd.jupyter.widget-view+json": {
       "model_id": "943bccd0965343c19ef1af0310043477",
       "version_major": 2,
       "version_minor": 0
      },
      "text/plain": [
       "Validation: 0it [00:00, ?it/s]"
      ]
     },
     "metadata": {},
     "output_type": "display_data"
    },
    {
     "data": {
      "application/vnd.jupyter.widget-view+json": {
       "model_id": "9621449c1103495fb0a82bbabf9bb7b2",
       "version_major": 2,
       "version_minor": 0
      },
      "text/plain": [
       "Validation: 0it [00:00, ?it/s]"
      ]
     },
     "metadata": {},
     "output_type": "display_data"
    },
    {
     "name": "stderr",
     "output_type": "stream",
     "text": [
      "`Trainer.fit` stopped: `max_epochs=5` reached.\n",
      "Restoring states from the checkpoint path at c:\\Users\\w10\\Desktop\\BMA\\UPV\\tia\\algoritmos_geneticos\\notebooks\\lightning_logs\\version_455\\checkpoints\\epoch=4-step=150.ckpt\n",
      "Loaded model weights from the checkpoint at c:\\Users\\w10\\Desktop\\BMA\\UPV\\tia\\algoritmos_geneticos\\notebooks\\lightning_logs\\version_455\\checkpoints\\epoch=4-step=150.ckpt\n"
     ]
    },
    {
     "data": {
      "application/vnd.jupyter.widget-view+json": {
       "model_id": "f240988d742a4adc8971814c804fb59a",
       "version_major": 2,
       "version_minor": 0
      },
      "text/plain": [
       "Testing: 0it [00:00, ?it/s]"
      ]
     },
     "metadata": {},
     "output_type": "display_data"
    },
    {
     "data": {
      "text/html": [
       "<pre style=\"white-space:pre;overflow-x:auto;line-height:normal;font-family:Menlo,'DejaVu Sans Mono',consolas,'Courier New',monospace\">┏━━━━━━━━━━━━━━━━━━━━━━━━━━━┳━━━━━━━━━━━━━━━━━━━━━━━━━━━┓\n",
       "┃<span style=\"font-weight: bold\">        Test metric        </span>┃<span style=\"font-weight: bold\">       DataLoader 0        </span>┃\n",
       "┡━━━━━━━━━━━━━━━━━━━━━━━━━━━╇━━━━━━━━━━━━━━━━━━━━━━━━━━━┩\n",
       "│<span style=\"color: #008080; text-decoration-color: #008080\">         test_loss         </span>│<span style=\"color: #800080; text-decoration-color: #800080\">    0.7785189747810364     </span>│\n",
       "└───────────────────────────┴───────────────────────────┘\n",
       "</pre>\n"
      ],
      "text/plain": [
       "┏━━━━━━━━━━━━━━━━━━━━━━━━━━━┳━━━━━━━━━━━━━━━━━━━━━━━━━━━┓\n",
       "┃\u001b[1m \u001b[0m\u001b[1m       Test metric       \u001b[0m\u001b[1m \u001b[0m┃\u001b[1m \u001b[0m\u001b[1m      DataLoader 0       \u001b[0m\u001b[1m \u001b[0m┃\n",
       "┡━━━━━━━━━━━━━━━━━━━━━━━━━━━╇━━━━━━━━━━━━━━━━━━━━━━━━━━━┩\n",
       "│\u001b[36m \u001b[0m\u001b[36m        test_loss        \u001b[0m\u001b[36m \u001b[0m│\u001b[35m \u001b[0m\u001b[35m   0.7785189747810364    \u001b[0m\u001b[35m \u001b[0m│\n",
       "└───────────────────────────┴───────────────────────────┘\n"
      ]
     },
     "metadata": {},
     "output_type": "display_data"
    },
    {
     "name": "stdout",
     "output_type": "stream",
     "text": [
      "0.7381947636604309\n"
     ]
    }
   ],
   "source": [
    "tamano_poblacion = 6\n",
    "numero_generaciones = 5\n",
    "\n",
    "rango_superviviencia = 0.5\n",
    "unfitSurvivalProb = 0.2\n",
    "numero_mutaciones = 2\n",
    "mutationRate = 0.1\n",
    "number_of_phases = 5\n",
    "\n",
    "prevBestOrganism = None\n",
    "numero_fases = 3\n",
    "epochs = 5\n",
    "\n",
    "for fase in range(numero_fases):\n",
    "    print(fase)\n",
    "    if fase == 0:\n",
    "\n",
    "        generation = Generation(rango_superviviencia=rango_superviviencia,\n",
    "                                unfitSurvivalProb=unfitSurvivalProb,\n",
    "                                mutationRate=mutationRate,\n",
    "                                epochs = epochs,\n",
    "                                numero_mutaciones=numero_mutaciones,\n",
    "                                tamano_poblacion=tamano_poblacion,\n",
    "                                fase=fase)\n",
    "        while generation.generation_number < numero_generaciones:\n",
    "            generation.generate()\n",
    "            # Last generation is the phase\n",
    "            # print('I AM THE BEST IN THE PHASE')\n",
    "            mejor_candidato = generation.ultima_generacion()\n",
    "    if fase == 1:\n",
    "        generation_2 = Generation(rango_superviviencia=rango_superviviencia,\n",
    "                unfitSurvivalProb=unfitSurvivalProb,\n",
    "                mutationRate=mutationRate,\n",
    "                epochs = epochs,\n",
    "                input_channels=16,\n",
    "                model=mejor_candidato[0][1],\n",
    "                numero_mutaciones=numero_mutaciones,\n",
    "                tamano_poblacion=tamano_poblacion,\n",
    "                fase=fase)\n",
    "        \n",
    "        while generation_2.generation_number < numero_generaciones:\n",
    "            generation_2.generate()\n",
    "            # Last generation is the phase\n",
    "            # print('I AM THE BEST IN THE PHASE')\n",
    "            mejor_candidato_2 = generation_2.ultima_generacion() \n",
    "    \n",
    "    if fase >1:\n",
    "        generation_3 = Generation(rango_superviviencia=rango_superviviencia,\n",
    "                        unfitSurvivalProb=unfitSurvivalProb,\n",
    "                        mutationRate=mutationRate,\n",
    "                        epochs = epochs,\n",
    "                        model=mejor_candidato_2[0][1],\n",
    "                        input_channels = 64,\n",
    "                        numero_mutaciones=numero_mutaciones,\n",
    "                        tamano_poblacion=tamano_poblacion,\n",
    "                        fase=fase)\n",
    "        \n",
    "        while generation_3.generation_number < numero_generaciones:\n",
    "            generation_3.generate()\n",
    "            # Last generation is the phase\n",
    "            # print('I AM THE BEST IN THE PHASE')\n",
    "            mejor_candidato_3 = generation_3.ultima_generacion() \n",
    "\n"
   ]
  },
  {
   "cell_type": "code",
   "execution_count": 25,
   "metadata": {},
   "outputs": [
    {
     "data": {
      "text/plain": [
       "[[{'a_include_BN': True,\n",
       "   'a_include_bias': False,\n",
       "   'activation_type': ELU(alpha=1.0),\n",
       "   'b_include_BN': False,\n",
       "   'b_include_bias': True,\n",
       "   'pool_type': MaxPool2d(kernel_size=2, stride=2, padding=0, dilation=1, ceil_mode=False),\n",
       "   'learning_rate': 0.1,\n",
       "   'dropout_range_a': 0.1,\n",
       "   'dropout_range_b': 0},\n",
       "  MyModel(\n",
       "    (cnn1): Conv2d(1, 16, kernel_size=(5, 5), stride=(1, 1), bias=False)\n",
       "    (batch_norm_a): BatchNorm2d(16, eps=1e-05, momentum=0.1, affine=True, track_running_stats=True)\n",
       "    (funcion_activacion_a): ELU(alpha=1.0)\n",
       "    (dropout_1): Dropout(p=0.1, inplace=False)\n",
       "    (pool1): MaxPool2d(kernel_size=2, stride=2, padding=0, dilation=1, ceil_mode=False)\n",
       "    (cnn2): Conv2d(16, 16, kernel_size=(4, 4), stride=(1, 1))\n",
       "    (batch_norm_b): BatchNorm2d(16, eps=1e-05, momentum=0.1, affine=True, track_running_stats=True)\n",
       "    (funcion_activacion_b): ELU(alpha=1.0)\n",
       "    (dropout_2): Dropout(p=0.1, inplace=False)\n",
       "    (pool2): MaxPool2d(kernel_size=2, stride=2, padding=0, dilation=1, ceil_mode=False)\n",
       "    (fc1): Linear(in_features=256, out_features=10, bias=True)\n",
       "  ),\n",
       "  0.6979213356971741]]"
      ]
     },
     "execution_count": 25,
     "metadata": {},
     "output_type": "execute_result"
    }
   ],
   "source": [
    "mejor_candidato"
   ]
  },
  {
   "cell_type": "code",
   "execution_count": 26,
   "metadata": {},
   "outputs": [
    {
     "data": {
      "text/plain": [
       "[[{'a_include_BN': False,\n",
       "   'a_include_bias': True,\n",
       "   'activation_type': ReLU(),\n",
       "   'b_include_BN': True,\n",
       "   'b_include_bias': True,\n",
       "   'pool_type': MaxPool2d(kernel_size=2, stride=2, padding=0, dilation=1, ceil_mode=False),\n",
       "   'learning_rate': 0.1,\n",
       "   'dropout_range_a': 0.2,\n",
       "   'dropout_range_b': 0.3},\n",
       "  MyModel(\n",
       "    (model): MyModel(\n",
       "      (cnn1): Conv2d(1, 16, kernel_size=(5, 5), stride=(1, 1), bias=False)\n",
       "      (batch_norm_a): BatchNorm2d(16, eps=1e-05, momentum=0.1, affine=True, track_running_stats=True)\n",
       "      (funcion_activacion_a): ELU(alpha=1.0)\n",
       "      (dropout_1): Dropout(p=0.1, inplace=False)\n",
       "      (pool1): MaxPool2d(kernel_size=2, stride=2, padding=0, dilation=1, ceil_mode=False)\n",
       "      (cnn2): Conv2d(16, 16, kernel_size=(4, 4), stride=(1, 1))\n",
       "      (batch_norm_b): BatchNorm2d(16, eps=1e-05, momentum=0.1, affine=True, track_running_stats=True)\n",
       "      (funcion_activacion_b): ELU(alpha=1.0)\n",
       "      (dropout_2): Dropout(p=0.1, inplace=False)\n",
       "      (pool2): MaxPool2d(kernel_size=2, stride=2, padding=0, dilation=1, ceil_mode=False)\n",
       "      (fc1): Linear(in_features=256, out_features=10, bias=True)\n",
       "    )\n",
       "    (pre_layers): Sequential(\n",
       "      (0): Conv2d(1, 16, kernel_size=(5, 5), stride=(1, 1), bias=False)\n",
       "      (1): BatchNorm2d(16, eps=1e-05, momentum=0.1, affine=True, track_running_stats=True)\n",
       "      (2): ELU(alpha=1.0)\n",
       "      (3): Dropout(p=0.1, inplace=False)\n",
       "      (4): MaxPool2d(kernel_size=2, stride=2, padding=0, dilation=1, ceil_mode=False)\n",
       "      (5): Conv2d(16, 16, kernel_size=(4, 4), stride=(1, 1))\n",
       "      (6): BatchNorm2d(16, eps=1e-05, momentum=0.1, affine=True, track_running_stats=True)\n",
       "    )\n",
       "    (cnn1): Conv2d(16, 64, kernel_size=(4, 4), stride=(1, 1), padding=same)\n",
       "    (batch_norm_a): BatchNorm2d(64, eps=1e-05, momentum=0.1, affine=True, track_running_stats=True)\n",
       "    (dropout_1): Dropout(p=0.2, inplace=False)\n",
       "    (funcion_activacion_a): ReLU()\n",
       "    (cnn2): Conv2d(64, 64, kernel_size=(4, 4), stride=(1, 1), padding=same)\n",
       "    (batch_norm_b): BatchNorm2d(64, eps=1e-05, momentum=0.1, affine=True, track_running_stats=True)\n",
       "    (funcion_activacion_b): ReLU()\n",
       "    (dropout_2): Dropout(p=0.3, inplace=False)\n",
       "    (pool2): MaxPool2d(kernel_size=2, stride=2, padding=0, dilation=1, ceil_mode=False)\n",
       "    (fc1): Linear(in_features=1024, out_features=10, bias=True)\n",
       "  ),\n",
       "  0.6972478628158569],\n",
       " [{'a_include_BN': False,\n",
       "   'a_include_bias': True,\n",
       "   'activation_type': ReLU(),\n",
       "   'b_include_BN': True,\n",
       "   'b_include_bias': True,\n",
       "   'pool_type': MaxPool2d(kernel_size=2, stride=2, padding=0, dilation=1, ceil_mode=False),\n",
       "   'learning_rate': 0.1,\n",
       "   'dropout_range_a': 0.3,\n",
       "   'dropout_range_b': 0.3},\n",
       "  MyModel(\n",
       "    (model): MyModel(\n",
       "      (cnn1): Conv2d(1, 16, kernel_size=(5, 5), stride=(1, 1), bias=False)\n",
       "      (batch_norm_a): BatchNorm2d(16, eps=1e-05, momentum=0.1, affine=True, track_running_stats=True)\n",
       "      (funcion_activacion_a): ELU(alpha=1.0)\n",
       "      (dropout_1): Dropout(p=0.1, inplace=False)\n",
       "      (pool1): MaxPool2d(kernel_size=2, stride=2, padding=0, dilation=1, ceil_mode=False)\n",
       "      (cnn2): Conv2d(16, 16, kernel_size=(4, 4), stride=(1, 1))\n",
       "      (batch_norm_b): BatchNorm2d(16, eps=1e-05, momentum=0.1, affine=True, track_running_stats=True)\n",
       "      (funcion_activacion_b): ELU(alpha=1.0)\n",
       "      (dropout_2): Dropout(p=0.1, inplace=False)\n",
       "      (pool2): MaxPool2d(kernel_size=2, stride=2, padding=0, dilation=1, ceil_mode=False)\n",
       "      (fc1): Linear(in_features=256, out_features=10, bias=True)\n",
       "    )\n",
       "    (pre_layers): Sequential(\n",
       "      (0): Conv2d(1, 16, kernel_size=(5, 5), stride=(1, 1), bias=False)\n",
       "      (1): BatchNorm2d(16, eps=1e-05, momentum=0.1, affine=True, track_running_stats=True)\n",
       "      (2): ELU(alpha=1.0)\n",
       "      (3): Dropout(p=0.1, inplace=False)\n",
       "      (4): MaxPool2d(kernel_size=2, stride=2, padding=0, dilation=1, ceil_mode=False)\n",
       "      (5): Conv2d(16, 16, kernel_size=(4, 4), stride=(1, 1))\n",
       "      (6): BatchNorm2d(16, eps=1e-05, momentum=0.1, affine=True, track_running_stats=True)\n",
       "    )\n",
       "    (cnn1): Conv2d(16, 64, kernel_size=(4, 4), stride=(1, 1), padding=same)\n",
       "    (batch_norm_a): BatchNorm2d(64, eps=1e-05, momentum=0.1, affine=True, track_running_stats=True)\n",
       "    (dropout_1): Dropout(p=0.2, inplace=False)\n",
       "    (funcion_activacion_a): ReLU()\n",
       "    (cnn2): Conv2d(64, 64, kernel_size=(4, 4), stride=(1, 1), padding=same)\n",
       "    (batch_norm_b): BatchNorm2d(64, eps=1e-05, momentum=0.1, affine=True, track_running_stats=True)\n",
       "    (funcion_activacion_b): ReLU()\n",
       "    (dropout_2): Dropout(p=0.3, inplace=False)\n",
       "    (pool2): MaxPool2d(kernel_size=2, stride=2, padding=0, dilation=1, ceil_mode=False)\n",
       "    (fc1): Linear(in_features=1024, out_features=10, bias=True)\n",
       "  ),\n",
       "  0.6894945502281189]]"
      ]
     },
     "execution_count": 26,
     "metadata": {},
     "output_type": "execute_result"
    }
   ],
   "source": [
    "mejor_candidato_2"
   ]
  },
  {
   "cell_type": "code",
   "execution_count": 28,
   "metadata": {},
   "outputs": [],
   "source": [
    "list_loss_function = [0.6979213356971741,0.6972478628158569,0.6894945502281189]"
   ]
  },
  {
   "cell_type": "code",
   "execution_count": 37,
   "metadata": {},
   "outputs": [
    {
     "data": {
      "text/plain": [
       "[<matplotlib.lines.Line2D at 0x1a353873370>]"
      ]
     },
     "execution_count": 37,
     "metadata": {},
     "output_type": "execute_result"
    },
    {
     "data": {
      "image/png": "[encoded data removed]",
      "text/plain": [
       "<Figure size 640x480 with 1 Axes>"
      ]
     },
     "metadata": {},
     "output_type": "display_data"
    }
   ],
   "source": [
    "x = [x+1 for x in range(len(list_loss_function))]\n",
    "plt.title(\"loss_function\")\n",
    "plt.xticks(x)\n",
    "plt.ylabel(\"loss function\")\n",
    "plt.xlabel(\"numero de mejor candidato encontrado\")\n",
    "plt.scatter(x,list_loss_function)\n",
    "plt.plot(x,list_loss_function)"
   ]
  },
  {
   "cell_type": "code",
   "execution_count": 32,
   "metadata": {},
   "outputs": [
    {
     "data": {
      "text/plain": [
       "[0, 1, 2]"
      ]
     },
     "execution_count": 32,
     "metadata": {},
     "output_type": "execute_result"
    }
   ],
   "source": [
    "x"
   ]
  },
  {
   "cell_type": "code",
   "execution_count": null,
   "metadata": {},
   "outputs": [],
   "source": []
  }
 ],
 "metadata": {
  "kernelspec": {
   "display_name": "dynamic_forecast",
   "language": "python",
   "name": "python3"
  },
  "language_info": {
   "codemirror_mode": {
    "name": "ipython",
    "version": 3
   },
   "file_extension": ".py",
   "mimetype": "text/x-python",
   "name": "python",
   "nbconvert_exporter": "python",
   "pygments_lexer": "ipython3",
   "version": "3.8.17"
  },
  "orig_nbformat": 4
 },
 "nbformat": 4,
 "nbformat_minor": 2
}
