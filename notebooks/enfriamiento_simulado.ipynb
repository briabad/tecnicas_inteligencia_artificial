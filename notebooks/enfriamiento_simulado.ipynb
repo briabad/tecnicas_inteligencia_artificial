{
 "cells": [
  {
   "cell_type": "code",
   "execution_count": 1,
   "metadata": {},
   "outputs": [],
   "source": [
    "import torch\n",
    "import pytorch_lightning as pl\n",
    "import torch.nn as nn\n",
    "from torch.utils.data import DataLoader, random_split,Dataset\n",
    "from torchvision import datasets\n",
    "from torchvision.transforms import ToTensor\n",
    "import torchvision\n",
    "import torchvision.transforms as transforms\n",
    "import matplotlib.pyplot as plt\n",
    "import pandas as pd\n",
    "from torch.nn import functional as F\n",
    "import numpy as np\n",
    "import math\n",
    "import random"
   ]
  },
  {
   "cell_type": "code",
   "execution_count": 2,
   "metadata": {},
   "outputs": [],
   "source": [
    "class DataModule(pl.LightningDataModule):\n",
    "    \n",
    "    def __init__(self, batch_size=16):\n",
    "        super().__init__()\n",
    "        self.batch_size = batch_size\n",
    "    \n",
    "    def prepare_data(self):\n",
    "        self.train = pd.read_csv(r\"C:\\Users\\w10\\Desktop\\BMA\\UPV\\tia\\algoritmos_geneticos\\notebooks\\data\\fashion-mnist_train.csv\", dtype=np.float32)\n",
    "        self.train['label'] = self.train['label'].astype(int)\n",
    "        self.train = self.train.head(600)\n",
    "        self.test = pd.read_csv(r\"C:\\Users\\w10\\Desktop\\BMA\\UPV\\tia\\algoritmos_geneticos\\notebooks\\data\\fashion-mnist_test.csv\", dtype=np.float32)\n",
    "        self.test['label'] = self.test['label'].astype(int)\n",
    "        self.test = self.test.head(600)\n",
    "\n",
    "    def setup(self, stage):\n",
    "        trainY = self.train.label.values\n",
    "        trainX = self.train.loc[:,self.train.columns != \"label\"].values/255 \n",
    "        testY = self.test.label.values\n",
    "        testX = self.test.loc[:,self.test.columns != \"label\"].values/255 \n",
    "        \n",
    "        if stage == 'fit' or stage is None:\n",
    "            train_data = torch.utils.data.TensorDataset(torch.from_numpy(trainX).reshape(-1, 1, 28, 28), torch.from_numpy(trainY).type(torch.LongTensor))\n",
    "            # cada que modifiques la longitud del dataset de entrenamineto modificar el split\n",
    "            self.train_data, self.val_data = random_split(train_data, [480, 120])\n",
    "            \n",
    "        if stage == 'test' or stage is None:\n",
    "            self.test_data = torch.utils.data.TensorDataset(torch.from_numpy(testX).reshape(-1, 1, 28, 28), torch.from_numpy(testY).type(torch.LongTensor))\n",
    "\n",
    "    def train_dataloader(self):\n",
    "        return DataLoader(self.train_data, batch_size=self.batch_size, shuffle=True, num_workers=4)\n",
    "\n",
    "    def val_dataloader(self):\n",
    "        return DataLoader(self.val_data, batch_size=self.batch_size, shuffle=False, num_workers=4)\n",
    "\n",
    "    def test_dataloader(self):\n",
    "        return DataLoader(self.test_data, batch_size=self.batch_size, shuffle=False, num_workers=4)"
   ]
  },
  {
   "cell_type": "code",
   "execution_count": 3,
   "metadata": {},
   "outputs": [],
   "source": [
    "\n",
    "\n",
    "options_phase0 = {\n",
    "    'a_include_BN': [True, False],\n",
    "    'a_include_bias': [True, False],\n",
    "    'a_activation_type': [nn.ReLU(), nn.ELU(), nn.LeakyReLU(),nn.SELU()],\n",
    "    'a_dropout_range': [0,0.1,0.2,0.3],\n",
    "    'a_pool_type': [nn.MaxPool2d(2), nn.AvgPool2d(2)],\n",
    "\n",
    "    'b_include_BN': [True, False],\n",
    "    'b_include_bias': [True, False],\n",
    "    'b_activation_type': [nn.ReLU(), nn.ELU(), nn.LeakyReLU(),nn.SELU()],\n",
    "    'b_dropout_range': [0,0.1,0.2,0.3],\n",
    "\n",
    "    'c_include_BN': [True, False],\n",
    "    'c_include_bias': [True, False],\n",
    "    'c_activation_type': [nn.ReLU(), nn.ELU(), nn.LeakyReLU(),nn.SELU()],\n",
    "    'c_dropout_range': [0,0.1,0.2,0.3],\n",
    "\n",
    "    'd_include_BN': [True, False],\n",
    "    'd_include_bias': [True, False],\n",
    "    'd_activation_type': [nn.ReLU(), nn.ELU(), nn.LeakyReLU(),nn.SELU()],\n",
    "    'd_dropout_range': [0,0.1,0.2,0.3],\n",
    "\n",
    "    'b_pool_type': [nn.MaxPool2d(1), nn.AvgPool2d(1)],\n",
    "\n",
    "\n",
    "    'learning_rate': [0.001,0.0001,0.1,0.01],\n",
    "\n",
    "    }"
   ]
  },
  {
   "cell_type": "code",
   "execution_count": 4,
   "metadata": {},
   "outputs": [],
   "source": [
    "def random_hyper():\n",
    "\n",
    "    return {\n",
    "    'a_include_BN': options_phase0['a_include_BN'][np.random.randint(len(options_phase0['a_include_BN']))],\n",
    "    'a_include_bias': options_phase0['a_include_bias'][np.random.randint(len(options_phase0['a_include_bias']))],\n",
    "    'a_activation_type': options_phase0['a_activation_type'][np.random.randint(len(options_phase0['a_activation_type']))],\n",
    "    'a_dropout_range': options_phase0['a_dropout_range'][np.random.randint(len(options_phase0['a_dropout_range']))],\n",
    "    'a_pool_type': options_phase0['a_pool_type'][np.random.randint(len(options_phase0['a_pool_type']))],\n",
    "\n",
    "    'b_include_BN': options_phase0['a_include_BN'][np.random.randint(len(options_phase0['a_include_BN']))],\n",
    "    'b_include_bias': options_phase0['a_include_bias'][np.random.randint(len(options_phase0['a_include_bias']))],\n",
    "    'b_activation_type': options_phase0['a_activation_type'][np.random.randint(len(options_phase0['a_activation_type']))],\n",
    "    'b_dropout_range': options_phase0['a_dropout_range'][np.random.randint(len(options_phase0['a_dropout_range']))],\n",
    "\n",
    "    'c_include_BN': options_phase0['a_include_BN'][np.random.randint(len(options_phase0['a_include_BN']))],\n",
    "    'c_include_bias': options_phase0['a_include_bias'][np.random.randint(len(options_phase0['a_include_bias']))],\n",
    "    'c_activation_type': options_phase0['a_activation_type'][np.random.randint(len(options_phase0['a_activation_type']))],\n",
    "    'c_dropout_range': options_phase0['a_dropout_range'][np.random.randint(len(options_phase0['a_dropout_range']))],\n",
    "\n",
    "\n",
    "    'd_include_BN': options_phase0['a_include_BN'][np.random.randint(len(options_phase0['a_include_BN']))],\n",
    "    'd_include_bias': options_phase0['a_include_bias'][np.random.randint(len(options_phase0['a_include_bias']))],\n",
    "    'd_activation_type': options_phase0['a_activation_type'][np.random.randint(len(options_phase0['a_activation_type']))],\n",
    "    'd_dropout_range': options_phase0['a_dropout_range'][np.random.randint(len(options_phase0['a_dropout_range']))],\n",
    "    'b_pool_type': options_phase0['b_pool_type'][np.random.randint(len(options_phase0['b_pool_type']))],\n",
    "    'learning_rate': options_phase0['learning_rate'][np.random.randint(len(options_phase0['learning_rate']))],\n",
    "\n",
    "    }\n"
   ]
  },
  {
   "cell_type": "code",
   "execution_count": 5,
   "metadata": {},
   "outputs": [],
   "source": [
    "class MyModel(pl.LightningModule):\n",
    "    \"\"\"_summary_\n",
    "\n",
    "\n",
    "    \"\"\"\n",
    "    \n",
    "    def __init__(self,output_channels=64,input_channels=16,model=None,fase=0,cromosoma={}):\n",
    "        super().__init__()\n",
    "        self.cromosoma = cromosoma\n",
    "        self.fase = fase\n",
    "        self.model = model\n",
    "        self.output_channels = output_channels\n",
    "        self.input_channels = input_channels\n",
    "\n",
    "\n",
    "        #primera capa convolucional\n",
    "        self.cnn1 = nn.Conv2d(in_channels=1, out_channels=16, kernel_size=5, padding=0,bias=self.cromosoma['a_include_bias'])\n",
    "        # primera capa de normalizacion\n",
    "        self.batch_norm_a = nn.BatchNorm2d(16)\n",
    "        #primera capa de activacion      \n",
    "        self.funcion_activacion_a = self.cromosoma['a_activation_type']\n",
    "        #primera capa dropout\n",
    "        self.dropout_a = nn.Dropout(p=self.cromosoma['a_dropout_range'])\n",
    "        # primera capa pooling\n",
    "        self.pool1 = self.cromosoma['a_pool_type']\n",
    "\n",
    "\n",
    "        #segunda capa convolucional\n",
    "        self.cnn2 = nn.Conv2d(in_channels=16, out_channels=16, kernel_size=5, padding=0,bias=self.cromosoma['b_include_bias'])\n",
    "        # primera capa de normalizacion\n",
    "        self.batch_norm_b = nn.BatchNorm2d(16)\n",
    "        #primera capa de activacion      \n",
    "        self.funcion_activacion_b = self.cromosoma['b_activation_type']\n",
    "        #primera capa dropout\n",
    "        self.dropout_b = nn.Dropout(p=self.cromosoma['b_dropout_range'])\n",
    "\n",
    "        \n",
    "        #tercera capa convolucional\n",
    "        self.cnn3 = nn.Conv2d(in_channels=16, out_channels=32, kernel_size=3, padding=0,bias=self.cromosoma['c_include_bias'])\n",
    "        # primera capa de normalizacion\n",
    "        self.batch_norm_c = nn.BatchNorm2d(32)\n",
    "        #primera capa de activacion      \n",
    "        self.funcion_activacion_c = self.cromosoma['c_activation_type']\n",
    "        #primera capa dropout\n",
    "        self.dropout_c = nn.Dropout(p=self.cromosoma['c_dropout_range'])\n",
    "\n",
    "\n",
    "        #cuarta capa convolucional\n",
    "        self.cnn4 = nn.Conv2d(in_channels=32, out_channels=32, kernel_size=3, padding=0,bias=self.cromosoma['d_include_bias'])\n",
    "        #segunda capa normalizacion\n",
    "        self.batch_norm_d = nn.BatchNorm2d(32)\n",
    "        #segunda capa de activacion    \n",
    "        self.funcion_activacion_d = self.cromosoma['d_activation_type']\n",
    "        #capa dropout\n",
    "        self.dropout_d = nn.Dropout(p=self.cromosoma['d_dropout_range'])\n",
    "        #segunda capa pooling\n",
    "        self.pool2 =self.cromosoma['b_pool_type']\n",
    "\n",
    "        #capa de salida\n",
    "        self.fc1 = nn.Linear(32 * 4 * 4, 10)                \n",
    "\n",
    "\n",
    "    def forward(self, x):\n",
    "\n",
    "        #primera capa convolucional\n",
    "        x = self.cnn1(x)\n",
    "        #hiperparametro cromosoma \"incluir batch normalization\"\n",
    "        if self.cromosoma['a_include_BN']:\n",
    "            x = self.batch_norm_a(x)\n",
    "        #capa de activacion\n",
    "        x = self.funcion_activacion_a(x)\n",
    "        #capa dropout\n",
    "        x = self.dropout_a(x)\n",
    "        #capa de activacion\n",
    "        x = self.pool1(x)\n",
    "\n",
    "        #segunda capa convolucional\n",
    "        x = self.cnn2(x)\n",
    "        #hiperparametro cromosoma \"incluir batch normalization\"\n",
    "        if self.cromosoma['b_include_BN']:\n",
    "            x = self.batch_norm_b(x)\n",
    "        #capa de activacion\n",
    "        x = self.funcion_activacion_b(x)\n",
    "        #capa dropout\n",
    "        x = self.dropout_b(x)\n",
    "\n",
    "        #tercera capa convolucional\n",
    "        x = self.cnn3(x)\n",
    "        #hiperparametro cromosoma \"incluir batch normalization\"\n",
    "        if self.cromosoma['c_include_BN']:\n",
    "            x = self.batch_norm_c(x)\n",
    "        #capa de activacion\n",
    "        x = self.funcion_activacion_c(x)\n",
    "        #capa dropout\n",
    "        x = self.dropout_c(x)\n",
    "\n",
    "        #cuarta capa convolucional\n",
    "        x = self.cnn4(x)\n",
    "        #hiperparametro cromosoma \"incluir batch normalization\"\n",
    "        if self.cromosoma['d_include_BN']:\n",
    "            x = self.batch_norm_d(x)\n",
    "        #segunda funcion de activacion\n",
    "        x = self.funcion_activacion_d(x)\n",
    "        #segunda capa dropout \n",
    "        x = self.dropout_d(x)\n",
    "        #segunda capa de pooling\n",
    "\n",
    "        x = self.pool2(x)\n",
    "\n",
    "\n",
    "        #flatten\n",
    "        x = x.view(x.size(0), -1)\n",
    "\n",
    "        #capa de salida\n",
    "        x = self.fc1(x)\n",
    "\n",
    "\n",
    "        return x\n",
    "\n",
    "\n",
    "    #metodo de entrenamiento\n",
    "    def training_step(self, batch, batch_idx):\n",
    "        x, y = batch\n",
    "        y_hat = self.forward(x)\n",
    "        loss = F.cross_entropy(y_hat, y)\n",
    "        self.log('train_loss', loss, prog_bar=True)\n",
    "        return loss\n",
    "\n",
    "    #metodo de validacion\n",
    "    def validation_step(self, batch, batch_idx):\n",
    "        x, y = batch\n",
    "        y_hat = self.forward(x)\n",
    "        loss = F.cross_entropy(y_hat, y)\n",
    "        self.log('val_loss', loss, prog_bar=True)\n",
    "        return loss\n",
    "\n",
    "\n",
    "    #metodo de test\n",
    "    def test_step(self, batch, batch_idx):\n",
    "        x, y = batch\n",
    "        y_hat = self.forward(x)\n",
    "        loss = F.cross_entropy(y_hat, y)\n",
    "        self.log('test_loss', loss, prog_bar=True)\n",
    "        return loss\n",
    "\n",
    "    #metodo de optimizacion de hiperparametros    \n",
    "    def configure_optimizers(self):\n",
    "        if self.fase == 0:\n",
    "            optimizer = torch.optim.SGD(self.parameters(), lr=self.cromosoma['learning_rate'])\n",
    "        else:\n",
    "            optimizer = torch.optim.SGD(filter(lambda p: p.requires_grad, self.parameters()), lr=self.cromosoma['learning_rate'])\n",
    "        return optimizer\n",
    "\n"
   ]
  },
  {
   "cell_type": "code",
   "execution_count": 6,
   "metadata": {},
   "outputs": [],
   "source": [
    "crom = random_hyper()"
   ]
  },
  {
   "cell_type": "code",
   "execution_count": 7,
   "metadata": {},
   "outputs": [
    {
     "data": {
      "text/plain": [
       "{'a_include_BN': False,\n",
       " 'a_include_bias': True,\n",
       " 'a_activation_type': ELU(alpha=1.0),\n",
       " 'a_dropout_range': 0.1,\n",
       " 'a_pool_type': MaxPool2d(kernel_size=2, stride=2, padding=0, dilation=1, ceil_mode=False),\n",
       " 'b_include_BN': False,\n",
       " 'b_include_bias': True,\n",
       " 'b_activation_type': ReLU(),\n",
       " 'b_dropout_range': 0.1,\n",
       " 'c_include_BN': False,\n",
       " 'c_include_bias': True,\n",
       " 'c_activation_type': SELU(),\n",
       " 'c_dropout_range': 0,\n",
       " 'd_include_BN': False,\n",
       " 'd_include_bias': False,\n",
       " 'd_activation_type': SELU(),\n",
       " 'd_dropout_range': 0.3,\n",
       " 'b_pool_type': AvgPool2d(kernel_size=1, stride=1, padding=0),\n",
       " 'learning_rate': 0.1}"
      ]
     },
     "execution_count": 7,
     "metadata": {},
     "output_type": "execute_result"
    }
   ],
   "source": [
    "crom"
   ]
  },
  {
   "cell_type": "code",
   "execution_count": 8,
   "metadata": {},
   "outputs": [],
   "source": [
    "# datamodule = DataModule()\n",
    "# model = MyModel(cromosoma=crom)\n",
    "\n",
    "# trainer = pl.Trainer(max_epochs=1)\n",
    "# trainer.fit(model, datamodule)\n",
    "# datamodule.setup(stage='test')\n",
    "# test_loader = datamodule.test_dataloader()\n",
    "# loss = trainer.test(dataloaders=test_loader)"
   ]
  },
  {
   "cell_type": "code",
   "execution_count": 60,
   "metadata": {},
   "outputs": [
    {
     "data": {
      "text/plain": [
       "(0.21267929504742622, 0.9417645335842487)"
      ]
     },
     "execution_count": 60,
     "metadata": {},
     "output_type": "execute_result"
    }
   ],
   "source": [
    "random.random(),math.exp(-0.3 / 5)"
   ]
  },
  {
   "cell_type": "code",
   "execution_count": 115,
   "metadata": {},
   "outputs": [
    {
     "data": {
      "text/plain": [
       "0.1353352832366127"
      ]
     },
     "execution_count": 115,
     "metadata": {},
     "output_type": "execute_result"
    }
   ],
   "source": [
    "math.exp(-60 /30 )"
   ]
  },
  {
   "cell_type": "code",
   "execution_count": null,
   "metadata": {},
   "outputs": [],
   "source": []
  },
  {
   "cell_type": "code",
   "execution_count": 116,
   "metadata": {},
   "outputs": [],
   "source": [
    "\n",
    "class Generation:\n",
    "    def __init__(self,\n",
    "                 rango_superviviencia,\n",
    "                 unfitSurvivalProb,\n",
    "                 mutationRate,\n",
    "                 numero_mutaciones,\n",
    "                 factor_enfriamiento,\n",
    "                 temperatura,\n",
    "                 individuo,\n",
    "                 epochs,\n",
    "                 input_channels=16,\n",
    "                 endpoint = None,):\n",
    "        \n",
    "        #inicializacion de variables\n",
    "        self.input_channels = input_channels\n",
    "        self.individuo = individuo\n",
    "        self.endpoint = endpoint\n",
    "        self.poblacion = []\n",
    "        self.poblacion_historia = []\n",
    "        self.mejores_candidatos = []\n",
    "        self.generation_number = 0\n",
    "        self.numero_mutaciones = numero_mutaciones\n",
    "        self.mutationRate = mutationRate\n",
    "        self.rango_supervivencia = rango_superviviencia\n",
    "        self.unfitSurvivalProb = unfitSurvivalProb\n",
    "        self.epochs = epochs\n",
    "        self.temperatura = temperatura\n",
    "        self.factor_enfriamiento = factor_enfriamiento\n",
    "\n",
    "\n",
    "        #inicializar la clase que carga los datos del modelo\n",
    "        datamodule = DataModule()\n",
    "        organismo = MyModel(cromosoma=self.individuo)\n",
    "\n",
    "        #Configuracion del entrenamiento\n",
    "        trainer = pl.Trainer(max_epochs=self.epochs)\n",
    "        #entrenamiento del modelo\n",
    "        trainer.fit(organismo, datamodule)\n",
    "\n",
    "        #configuracion del test del modelo\n",
    "        datamodule.setup(stage='test')\n",
    "        #carga de los datos test\n",
    "        test_loader = datamodule.test_dataloader()\n",
    "\n",
    "        #test del modelo\n",
    "        loss = trainer.test(dataloaders=test_loader)\n",
    "        \n",
    "        self.mejores_candidatos.append([self.individuo,organismo,loss[0]['test_loss']])\n",
    "\n",
    "    def generate(self):\n",
    "        '''\n",
    "        Generate a new generation in the same phase\n",
    "        '''\n",
    "\n",
    "\n",
    "        #Mutacion\n",
    "        self.mutation(individuo=self.individuo)\n",
    "\n",
    "        organismo = MyModel(cromosoma=self.individuo_candidato)\n",
    "        trainer = pl.Trainer(max_epochs=self.epochs)\n",
    "        datamodule = DataModule()\n",
    "        trainer.fit(organismo, datamodule)\n",
    "        datamodule.setup(stage='test')\n",
    "        test_loader = datamodule.test_dataloader()\n",
    "        loss = trainer.test(dataloaders=test_loader)\n",
    "\n",
    "        print(self.mejores_candidatos[-1])\n",
    "        print(loss[0],self.mejores_candidatos[-1][2])\n",
    "        delta = loss[0][\"test_loss\"]- self.mejores_candidatos[-1][2]\n",
    "\n",
    "        #insertar aqui condicional para solo agregar un candidato que tenga una loss function mejor que el candidato previo\n",
    "        if ((delta) < 0) or (random.random() < math.exp(-60  / self.temperatura)):\n",
    "\n",
    "            self.mejores_candidatos.append([self.individuo_candidato,organismo,loss[0]['test_loss']])\n",
    "            self.individuo = self.individuo_candidato\n",
    "        \n",
    "        self.generation_number+=1\n",
    "        \n",
    "        self.temperatura = self.temperatura*self.factor_enfriamiento\n",
    "        print(self.temperatura)\n",
    "\n",
    "    \n",
    "\n",
    "    def ultima_generacion(self):\n",
    "        return self.mejores_candidatos\n",
    "\n",
    "    \n",
    "    def mutation(self,individuo):\n",
    "        '''\n",
    "        One of the gene is to be mutated.\n",
    "        '''\n",
    "        self.individuo_candidato = individuo\n",
    "        for _ in range(self.numero_mutaciones):\n",
    "            if np.random.rand() <= self.mutationRate:\n",
    "                indice = np.random.randint(0, len(individuo))\n",
    "                key = list(self.individuo)[indice]\n",
    "                self.individuo_candidato[key] = options_phase0[key][np.random.randint(len(options_phase0[key]))]\n"
   ]
  },
  {
   "cell_type": "code",
   "execution_count": 117,
   "metadata": {},
   "outputs": [
    {
     "name": "stderr",
     "output_type": "stream",
     "text": [
      "GPU available: False, used: False\n",
      "TPU available: False, using: 0 TPU cores\n",
      "IPU available: False, using: 0 IPUs\n",
      "HPU available: False, using: 0 HPUs\n",
      "\n",
      "   | Name                 | Type        | Params\n",
      "------------------------------------------------------\n",
      "0  | cnn1                 | Conv2d      | 416   \n",
      "1  | batch_norm_a         | BatchNorm2d | 32    \n",
      "2  | funcion_activacion_a | ELU         | 0     \n",
      "3  | dropout_a            | Dropout     | 0     \n",
      "4  | pool1                | MaxPool2d   | 0     \n",
      "5  | cnn2                 | Conv2d      | 6.4 K \n",
      "6  | batch_norm_b         | BatchNorm2d | 32    \n",
      "7  | funcion_activacion_b | ReLU        | 0     \n",
      "8  | dropout_b            | Dropout     | 0     \n",
      "9  | cnn3                 | Conv2d      | 4.6 K \n",
      "10 | batch_norm_c         | BatchNorm2d | 64    \n",
      "11 | funcion_activacion_c | SELU        | 0     \n",
      "12 | dropout_c            | Dropout     | 0     \n",
      "13 | cnn4                 | Conv2d      | 9.2 K \n",
      "14 | batch_norm_d         | BatchNorm2d | 64    \n",
      "15 | funcion_activacion_d | ReLU        | 0     \n",
      "16 | dropout_d            | Dropout     | 0     \n",
      "17 | pool2                | AvgPool2d   | 0     \n",
      "18 | fc1                  | Linear      | 5.1 K \n",
      "------------------------------------------------------\n",
      "26.0 K    Trainable params\n",
      "0         Non-trainable params\n",
      "26.0 K    Total params\n",
      "0.104     Total estimated model params size (MB)\n"
     ]
    },
    {
     "data": {
      "application/vnd.jupyter.widget-view+json": {
       "model_id": "675ce4b2f6fd4fbcac09d80a98ad56c4",
       "version_major": 2,
       "version_minor": 0
      },
      "text/plain": [
       "Sanity Checking: 0it [00:00, ?it/s]"
      ]
     },
     "metadata": {},
     "output_type": "display_data"
    },
    {
     "name": "stderr",
     "output_type": "stream",
     "text": [
      "c:\\Users\\w10\\anaconda3\\envs\\dynamic_forecast\\lib\\site-packages\\pytorch_lightning\\loops\\fit_loop.py:281: PossibleUserWarning: The number of training batches (30) is smaller than the logging interval Trainer(log_every_n_steps=50). Set a lower value for log_every_n_steps if you want to see logs for the training epoch.\n",
      "  rank_zero_warn(\n"
     ]
    },
    {
     "data": {
      "application/vnd.jupyter.widget-view+json": {
       "model_id": "a6b17cb972114c14bda718be4a1b0624",
       "version_major": 2,
       "version_minor": 0
      },
      "text/plain": [
       "Training: 0it [00:00, ?it/s]"
      ]
     },
     "metadata": {},
     "output_type": "display_data"
    },
    {
     "data": {
      "application/vnd.jupyter.widget-view+json": {
       "model_id": "450351e0446f470a964e5fcca05c092d",
       "version_major": 2,
       "version_minor": 0
      },
      "text/plain": [
       "Validation: 0it [00:00, ?it/s]"
      ]
     },
     "metadata": {},
     "output_type": "display_data"
    },
    {
     "data": {
      "application/vnd.jupyter.widget-view+json": {
       "model_id": "95ccc6155fbe4486b809a9cfc8d24131",
       "version_major": 2,
       "version_minor": 0
      },
      "text/plain": [
       "Validation: 0it [00:00, ?it/s]"
      ]
     },
     "metadata": {},
     "output_type": "display_data"
    },
    {
     "data": {
      "application/vnd.jupyter.widget-view+json": {
       "model_id": "2bc36ead2daa4fa1ac842060d7be5d21",
       "version_major": 2,
       "version_minor": 0
      },
      "text/plain": [
       "Validation: 0it [00:00, ?it/s]"
      ]
     },
     "metadata": {},
     "output_type": "display_data"
    },
    {
     "data": {
      "application/vnd.jupyter.widget-view+json": {
       "model_id": "97281ad689214b499c44f34126c59fe3",
       "version_major": 2,
       "version_minor": 0
      },
      "text/plain": [
       "Validation: 0it [00:00, ?it/s]"
      ]
     },
     "metadata": {},
     "output_type": "display_data"
    },
    {
     "data": {
      "application/vnd.jupyter.widget-view+json": {
       "model_id": "5150a9c82e0244cb93f27980d1105f6d",
       "version_major": 2,
       "version_minor": 0
      },
      "text/plain": [
       "Validation: 0it [00:00, ?it/s]"
      ]
     },
     "metadata": {},
     "output_type": "display_data"
    },
    {
     "name": "stderr",
     "output_type": "stream",
     "text": [
      "`Trainer.fit` stopped: `max_epochs=5` reached.\n",
      "c:\\Users\\w10\\anaconda3\\envs\\dynamic_forecast\\lib\\site-packages\\pytorch_lightning\\trainer\\connectors\\checkpoint_connector.py:149: UserWarning: `.test(ckpt_path=None)` was called without a model. The best model of the previous `fit` call will be used. You can pass `.test(ckpt_path='best')` to use the best model or `.test(ckpt_path='last')` to use the last model. If you pass a value, this warning will be silenced.\n",
      "  rank_zero_warn(\n",
      "Restoring states from the checkpoint path at c:\\Users\\w10\\Desktop\\BMA\\UPV\\tia\\algoritmos_geneticos\\notebooks\\lightning_logs\\version_630\\checkpoints\\epoch=4-step=150.ckpt\n",
      "Loaded model weights from the checkpoint at c:\\Users\\w10\\Desktop\\BMA\\UPV\\tia\\algoritmos_geneticos\\notebooks\\lightning_logs\\version_630\\checkpoints\\epoch=4-step=150.ckpt\n"
     ]
    },
    {
     "data": {
      "application/vnd.jupyter.widget-view+json": {
       "model_id": "f9dcb38176e94d49bf249a67781ce29c",
       "version_major": 2,
       "version_minor": 0
      },
      "text/plain": [
       "Testing: 0it [00:00, ?it/s]"
      ]
     },
     "metadata": {},
     "output_type": "display_data"
    },
    {
     "data": {
      "text/html": [
       "<pre style=\"white-space:pre;overflow-x:auto;line-height:normal;font-family:Menlo,'DejaVu Sans Mono',consolas,'Courier New',monospace\">┏━━━━━━━━━━━━━━━━━━━━━━━━━━━┳━━━━━━━━━━━━━━━━━━━━━━━━━━━┓\n",
       "┃<span style=\"font-weight: bold\">        Test metric        </span>┃<span style=\"font-weight: bold\">       DataLoader 0        </span>┃\n",
       "┡━━━━━━━━━━━━━━━━━━━━━━━━━━━╇━━━━━━━━━━━━━━━━━━━━━━━━━━━┩\n",
       "│<span style=\"color: #008080; text-decoration-color: #008080\">         test_loss         </span>│<span style=\"color: #800080; text-decoration-color: #800080\">    1.1192677021026611     </span>│\n",
       "└───────────────────────────┴───────────────────────────┘\n",
       "</pre>\n"
      ],
      "text/plain": [
       "┏━━━━━━━━━━━━━━━━━━━━━━━━━━━┳━━━━━━━━━━━━━━━━━━━━━━━━━━━┓\n",
       "┃\u001b[1m \u001b[0m\u001b[1m       Test metric       \u001b[0m\u001b[1m \u001b[0m┃\u001b[1m \u001b[0m\u001b[1m      DataLoader 0       \u001b[0m\u001b[1m \u001b[0m┃\n",
       "┡━━━━━━━━━━━━━━━━━━━━━━━━━━━╇━━━━━━━━━━━━━━━━━━━━━━━━━━━┩\n",
       "│\u001b[36m \u001b[0m\u001b[36m        test_loss        \u001b[0m\u001b[36m \u001b[0m│\u001b[35m \u001b[0m\u001b[35m   1.1192677021026611    \u001b[0m\u001b[35m \u001b[0m│\n",
       "└───────────────────────────┴───────────────────────────┘\n"
      ]
     },
     "metadata": {},
     "output_type": "display_data"
    },
    {
     "name": "stderr",
     "output_type": "stream",
     "text": [
      "GPU available: False, used: False\n",
      "TPU available: False, using: 0 TPU cores\n",
      "IPU available: False, using: 0 IPUs\n",
      "HPU available: False, using: 0 HPUs\n",
      "\n",
      "   | Name                 | Type        | Params\n",
      "------------------------------------------------------\n",
      "0  | cnn1                 | Conv2d      | 416   \n",
      "1  | batch_norm_a         | BatchNorm2d | 32    \n",
      "2  | funcion_activacion_a | ELU         | 0     \n",
      "3  | dropout_a            | Dropout     | 0     \n",
      "4  | pool1                | MaxPool2d   | 0     \n",
      "5  | cnn2                 | Conv2d      | 6.4 K \n",
      "6  | batch_norm_b         | BatchNorm2d | 32    \n",
      "7  | funcion_activacion_b | ReLU        | 0     \n",
      "8  | dropout_b            | Dropout     | 0     \n",
      "9  | cnn3                 | Conv2d      | 4.6 K \n",
      "10 | batch_norm_c         | BatchNorm2d | 64    \n",
      "11 | funcion_activacion_c | SELU        | 0     \n",
      "12 | dropout_c            | Dropout     | 0     \n",
      "13 | cnn4                 | Conv2d      | 9.2 K \n",
      "14 | batch_norm_d         | BatchNorm2d | 64    \n",
      "15 | funcion_activacion_d | ReLU        | 0     \n",
      "16 | dropout_d            | Dropout     | 0     \n",
      "17 | pool2                | AvgPool2d   | 0     \n",
      "18 | fc1                  | Linear      | 5.1 K \n",
      "------------------------------------------------------\n",
      "26.0 K    Trainable params\n",
      "0         Non-trainable params\n",
      "26.0 K    Total params\n",
      "0.104     Total estimated model params size (MB)\n"
     ]
    },
    {
     "data": {
      "application/vnd.jupyter.widget-view+json": {
       "model_id": "713d8b43161f4a0caacaddb185aaf4ea",
       "version_major": 2,
       "version_minor": 0
      },
      "text/plain": [
       "Sanity Checking: 0it [00:00, ?it/s]"
      ]
     },
     "metadata": {},
     "output_type": "display_data"
    },
    {
     "data": {
      "application/vnd.jupyter.widget-view+json": {
       "model_id": "3bb2baf2a52f4317be3f982c3d7fc5ae",
       "version_major": 2,
       "version_minor": 0
      },
      "text/plain": [
       "Training: 0it [00:00, ?it/s]"
      ]
     },
     "metadata": {},
     "output_type": "display_data"
    },
    {
     "data": {
      "application/vnd.jupyter.widget-view+json": {
       "model_id": "e021ff1bdc1445bda5964e7481619a34",
       "version_major": 2,
       "version_minor": 0
      },
      "text/plain": [
       "Validation: 0it [00:00, ?it/s]"
      ]
     },
     "metadata": {},
     "output_type": "display_data"
    },
    {
     "data": {
      "application/vnd.jupyter.widget-view+json": {
       "model_id": "a93e710e19934a5287e0cfda361292a2",
       "version_major": 2,
       "version_minor": 0
      },
      "text/plain": [
       "Validation: 0it [00:00, ?it/s]"
      ]
     },
     "metadata": {},
     "output_type": "display_data"
    },
    {
     "data": {
      "application/vnd.jupyter.widget-view+json": {
       "model_id": "b2af4ac1e003476fbde03facc5d379bb",
       "version_major": 2,
       "version_minor": 0
      },
      "text/plain": [
       "Validation: 0it [00:00, ?it/s]"
      ]
     },
     "metadata": {},
     "output_type": "display_data"
    },
    {
     "data": {
      "application/vnd.jupyter.widget-view+json": {
       "model_id": "ec1cbea92ef0492395756b8ecfe2d492",
       "version_major": 2,
       "version_minor": 0
      },
      "text/plain": [
       "Validation: 0it [00:00, ?it/s]"
      ]
     },
     "metadata": {},
     "output_type": "display_data"
    },
    {
     "data": {
      "application/vnd.jupyter.widget-view+json": {
       "model_id": "7c0fee2b04044c7895965a1e56dccc2a",
       "version_major": 2,
       "version_minor": 0
      },
      "text/plain": [
       "Validation: 0it [00:00, ?it/s]"
      ]
     },
     "metadata": {},
     "output_type": "display_data"
    },
    {
     "name": "stderr",
     "output_type": "stream",
     "text": [
      "`Trainer.fit` stopped: `max_epochs=5` reached.\n",
      "Restoring states from the checkpoint path at c:\\Users\\w10\\Desktop\\BMA\\UPV\\tia\\algoritmos_geneticos\\notebooks\\lightning_logs\\version_631\\checkpoints\\epoch=4-step=150.ckpt\n",
      "Loaded model weights from the checkpoint at c:\\Users\\w10\\Desktop\\BMA\\UPV\\tia\\algoritmos_geneticos\\notebooks\\lightning_logs\\version_631\\checkpoints\\epoch=4-step=150.ckpt\n"
     ]
    },
    {
     "data": {
      "application/vnd.jupyter.widget-view+json": {
       "model_id": "a1eed1a98ef445769cd9589b061b0819",
       "version_major": 2,
       "version_minor": 0
      },
      "text/plain": [
       "Testing: 0it [00:00, ?it/s]"
      ]
     },
     "metadata": {},
     "output_type": "display_data"
    },
    {
     "data": {
      "text/html": [
       "<pre style=\"white-space:pre;overflow-x:auto;line-height:normal;font-family:Menlo,'DejaVu Sans Mono',consolas,'Courier New',monospace\">┏━━━━━━━━━━━━━━━━━━━━━━━━━━━┳━━━━━━━━━━━━━━━━━━━━━━━━━━━┓\n",
       "┃<span style=\"font-weight: bold\">        Test metric        </span>┃<span style=\"font-weight: bold\">       DataLoader 0        </span>┃\n",
       "┡━━━━━━━━━━━━━━━━━━━━━━━━━━━╇━━━━━━━━━━━━━━━━━━━━━━━━━━━┩\n",
       "│<span style=\"color: #008080; text-decoration-color: #008080\">         test_loss         </span>│<span style=\"color: #800080; text-decoration-color: #800080\">    1.4498015642166138     </span>│\n",
       "└───────────────────────────┴───────────────────────────┘\n",
       "</pre>\n"
      ],
      "text/plain": [
       "┏━━━━━━━━━━━━━━━━━━━━━━━━━━━┳━━━━━━━━━━━━━━━━━━━━━━━━━━━┓\n",
       "┃\u001b[1m \u001b[0m\u001b[1m       Test metric       \u001b[0m\u001b[1m \u001b[0m┃\u001b[1m \u001b[0m\u001b[1m      DataLoader 0       \u001b[0m\u001b[1m \u001b[0m┃\n",
       "┡━━━━━━━━━━━━━━━━━━━━━━━━━━━╇━━━━━━━━━━━━━━━━━━━━━━━━━━━┩\n",
       "│\u001b[36m \u001b[0m\u001b[36m        test_loss        \u001b[0m\u001b[36m \u001b[0m│\u001b[35m \u001b[0m\u001b[35m   1.4498015642166138    \u001b[0m\u001b[35m \u001b[0m│\n",
       "└───────────────────────────┴───────────────────────────┘\n"
      ]
     },
     "metadata": {},
     "output_type": "display_data"
    },
    {
     "name": "stderr",
     "output_type": "stream",
     "text": [
      "GPU available: False, used: False\n",
      "TPU available: False, using: 0 TPU cores\n",
      "IPU available: False, using: 0 IPUs\n",
      "HPU available: False, using: 0 HPUs\n"
     ]
    },
    {
     "name": "stdout",
     "output_type": "stream",
     "text": [
      "[{'a_include_BN': False, 'a_include_bias': True, 'a_activation_type': ELU(alpha=1.0), 'a_dropout_range': 0.1, 'a_pool_type': MaxPool2d(kernel_size=2, stride=2, padding=0, dilation=1, ceil_mode=False), 'b_include_BN': False, 'b_include_bias': True, 'b_activation_type': ReLU(), 'b_dropout_range': 0.1, 'c_include_BN': False, 'c_include_bias': True, 'c_activation_type': SELU(), 'c_dropout_range': 0.2, 'd_include_BN': False, 'd_include_bias': False, 'd_activation_type': ReLU(), 'd_dropout_range': 0.2, 'b_pool_type': AvgPool2d(kernel_size=1, stride=1, padding=0), 'learning_rate': 0.1}, MyModel(\n",
      "  (cnn1): Conv2d(1, 16, kernel_size=(5, 5), stride=(1, 1))\n",
      "  (batch_norm_a): BatchNorm2d(16, eps=1e-05, momentum=0.1, affine=True, track_running_stats=True)\n",
      "  (funcion_activacion_a): ELU(alpha=1.0)\n",
      "  (dropout_a): Dropout(p=0.1, inplace=False)\n",
      "  (pool1): MaxPool2d(kernel_size=2, stride=2, padding=0, dilation=1, ceil_mode=False)\n",
      "  (cnn2): Conv2d(16, 16, kernel_size=(5, 5), stride=(1, 1))\n",
      "  (batch_norm_b): BatchNorm2d(16, eps=1e-05, momentum=0.1, affine=True, track_running_stats=True)\n",
      "  (funcion_activacion_b): ReLU()\n",
      "  (dropout_b): Dropout(p=0.1, inplace=False)\n",
      "  (cnn3): Conv2d(16, 32, kernel_size=(3, 3), stride=(1, 1))\n",
      "  (batch_norm_c): BatchNorm2d(32, eps=1e-05, momentum=0.1, affine=True, track_running_stats=True)\n",
      "  (funcion_activacion_c): SELU()\n",
      "  (dropout_c): Dropout(p=0.2, inplace=False)\n",
      "  (cnn4): Conv2d(32, 32, kernel_size=(3, 3), stride=(1, 1), bias=False)\n",
      "  (batch_norm_d): BatchNorm2d(32, eps=1e-05, momentum=0.1, affine=True, track_running_stats=True)\n",
      "  (funcion_activacion_d): ReLU()\n",
      "  (dropout_d): Dropout(p=0.2, inplace=False)\n",
      "  (pool2): AvgPool2d(kernel_size=1, stride=1, padding=0)\n",
      "  (fc1): Linear(in_features=512, out_features=10, bias=True)\n",
      "), 1.1192677021026611]\n",
      "{'test_loss': 1.4498015642166138} 1.1192677021026611\n",
      "95.0\n"
     ]
    },
    {
     "name": "stderr",
     "output_type": "stream",
     "text": [
      "\n",
      "   | Name                 | Type        | Params\n",
      "------------------------------------------------------\n",
      "0  | cnn1                 | Conv2d      | 416   \n",
      "1  | batch_norm_a         | BatchNorm2d | 32    \n",
      "2  | funcion_activacion_a | ELU         | 0     \n",
      "3  | dropout_a            | Dropout     | 0     \n",
      "4  | pool1                | MaxPool2d   | 0     \n",
      "5  | cnn2                 | Conv2d      | 6.4 K \n",
      "6  | batch_norm_b         | BatchNorm2d | 32    \n",
      "7  | funcion_activacion_b | ReLU        | 0     \n",
      "8  | dropout_b            | Dropout     | 0     \n",
      "9  | cnn3                 | Conv2d      | 4.6 K \n",
      "10 | batch_norm_c         | BatchNorm2d | 64    \n",
      "11 | funcion_activacion_c | SELU        | 0     \n",
      "12 | dropout_c            | Dropout     | 0     \n",
      "13 | cnn4                 | Conv2d      | 9.2 K \n",
      "14 | batch_norm_d         | BatchNorm2d | 64    \n",
      "15 | funcion_activacion_d | ReLU        | 0     \n",
      "16 | dropout_d            | Dropout     | 0     \n",
      "17 | pool2                | AvgPool2d   | 0     \n",
      "18 | fc1                  | Linear      | 5.1 K \n",
      "------------------------------------------------------\n",
      "26.0 K    Trainable params\n",
      "0         Non-trainable params\n",
      "26.0 K    Total params\n",
      "0.104     Total estimated model params size (MB)\n"
     ]
    },
    {
     "data": {
      "application/vnd.jupyter.widget-view+json": {
       "model_id": "f015797fae804b93896329b637eda4bc",
       "version_major": 2,
       "version_minor": 0
      },
      "text/plain": [
       "Sanity Checking: 0it [00:00, ?it/s]"
      ]
     },
     "metadata": {},
     "output_type": "display_data"
    },
    {
     "data": {
      "application/vnd.jupyter.widget-view+json": {
       "model_id": "e4754b3b41654778b6285e78548f1c1e",
       "version_major": 2,
       "version_minor": 0
      },
      "text/plain": [
       "Training: 0it [00:00, ?it/s]"
      ]
     },
     "metadata": {},
     "output_type": "display_data"
    },
    {
     "data": {
      "application/vnd.jupyter.widget-view+json": {
       "model_id": "4aea0eeb37314b788e5c58eac15277b7",
       "version_major": 2,
       "version_minor": 0
      },
      "text/plain": [
       "Validation: 0it [00:00, ?it/s]"
      ]
     },
     "metadata": {},
     "output_type": "display_data"
    },
    {
     "data": {
      "application/vnd.jupyter.widget-view+json": {
       "model_id": "2608c3d8061b41e0b27fbdd3e87499c5",
       "version_major": 2,
       "version_minor": 0
      },
      "text/plain": [
       "Validation: 0it [00:00, ?it/s]"
      ]
     },
     "metadata": {},
     "output_type": "display_data"
    },
    {
     "data": {
      "application/vnd.jupyter.widget-view+json": {
       "model_id": "b86a9887ba0446b0bb3d51e67f49a970",
       "version_major": 2,
       "version_minor": 0
      },
      "text/plain": [
       "Validation: 0it [00:00, ?it/s]"
      ]
     },
     "metadata": {},
     "output_type": "display_data"
    },
    {
     "data": {
      "application/vnd.jupyter.widget-view+json": {
       "model_id": "a41b18e147fc4b1ba295009f1e9313c4",
       "version_major": 2,
       "version_minor": 0
      },
      "text/plain": [
       "Validation: 0it [00:00, ?it/s]"
      ]
     },
     "metadata": {},
     "output_type": "display_data"
    },
    {
     "data": {
      "application/vnd.jupyter.widget-view+json": {
       "model_id": "9b2a7bb0542e4920bfc0412d6fa89eba",
       "version_major": 2,
       "version_minor": 0
      },
      "text/plain": [
       "Validation: 0it [00:00, ?it/s]"
      ]
     },
     "metadata": {},
     "output_type": "display_data"
    },
    {
     "name": "stderr",
     "output_type": "stream",
     "text": [
      "`Trainer.fit` stopped: `max_epochs=5` reached.\n",
      "Restoring states from the checkpoint path at c:\\Users\\w10\\Desktop\\BMA\\UPV\\tia\\algoritmos_geneticos\\notebooks\\lightning_logs\\version_632\\checkpoints\\epoch=4-step=150.ckpt\n",
      "Loaded model weights from the checkpoint at c:\\Users\\w10\\Desktop\\BMA\\UPV\\tia\\algoritmos_geneticos\\notebooks\\lightning_logs\\version_632\\checkpoints\\epoch=4-step=150.ckpt\n"
     ]
    },
    {
     "data": {
      "application/vnd.jupyter.widget-view+json": {
       "model_id": "042a3a65c6094599ad6c084b141d3b64",
       "version_major": 2,
       "version_minor": 0
      },
      "text/plain": [
       "Testing: 0it [00:00, ?it/s]"
      ]
     },
     "metadata": {},
     "output_type": "display_data"
    },
    {
     "data": {
      "text/html": [
       "<pre style=\"white-space:pre;overflow-x:auto;line-height:normal;font-family:Menlo,'DejaVu Sans Mono',consolas,'Courier New',monospace\">┏━━━━━━━━━━━━━━━━━━━━━━━━━━━┳━━━━━━━━━━━━━━━━━━━━━━━━━━━┓\n",
       "┃<span style=\"font-weight: bold\">        Test metric        </span>┃<span style=\"font-weight: bold\">       DataLoader 0        </span>┃\n",
       "┡━━━━━━━━━━━━━━━━━━━━━━━━━━━╇━━━━━━━━━━━━━━━━━━━━━━━━━━━┩\n",
       "│<span style=\"color: #008080; text-decoration-color: #008080\">         test_loss         </span>│<span style=\"color: #800080; text-decoration-color: #800080\">     1.230272889137268     </span>│\n",
       "└───────────────────────────┴───────────────────────────┘\n",
       "</pre>\n"
      ],
      "text/plain": [
       "┏━━━━━━━━━━━━━━━━━━━━━━━━━━━┳━━━━━━━━━━━━━━━━━━━━━━━━━━━┓\n",
       "┃\u001b[1m \u001b[0m\u001b[1m       Test metric       \u001b[0m\u001b[1m \u001b[0m┃\u001b[1m \u001b[0m\u001b[1m      DataLoader 0       \u001b[0m\u001b[1m \u001b[0m┃\n",
       "┡━━━━━━━━━━━━━━━━━━━━━━━━━━━╇━━━━━━━━━━━━━━━━━━━━━━━━━━━┩\n",
       "│\u001b[36m \u001b[0m\u001b[36m        test_loss        \u001b[0m\u001b[36m \u001b[0m│\u001b[35m \u001b[0m\u001b[35m    1.230272889137268    \u001b[0m\u001b[35m \u001b[0m│\n",
       "└───────────────────────────┴───────────────────────────┘\n"
      ]
     },
     "metadata": {},
     "output_type": "display_data"
    },
    {
     "name": "stderr",
     "output_type": "stream",
     "text": [
      "GPU available: False, used: False\n",
      "TPU available: False, using: 0 TPU cores\n",
      "IPU available: False, using: 0 IPUs\n",
      "HPU available: False, using: 0 HPUs\n"
     ]
    },
    {
     "name": "stdout",
     "output_type": "stream",
     "text": [
      "[{'a_include_BN': False, 'a_include_bias': True, 'a_activation_type': ELU(alpha=1.0), 'a_dropout_range': 0.1, 'a_pool_type': MaxPool2d(kernel_size=2, stride=2, padding=0, dilation=1, ceil_mode=False), 'b_include_BN': False, 'b_include_bias': True, 'b_activation_type': ReLU(), 'b_dropout_range': 0.1, 'c_include_BN': False, 'c_include_bias': True, 'c_activation_type': SELU(), 'c_dropout_range': 0.2, 'd_include_BN': False, 'd_include_bias': False, 'd_activation_type': ReLU(), 'd_dropout_range': 0.2, 'b_pool_type': AvgPool2d(kernel_size=1, stride=1, padding=0), 'learning_rate': 0.1}, MyModel(\n",
      "  (cnn1): Conv2d(1, 16, kernel_size=(5, 5), stride=(1, 1))\n",
      "  (batch_norm_a): BatchNorm2d(16, eps=1e-05, momentum=0.1, affine=True, track_running_stats=True)\n",
      "  (funcion_activacion_a): ELU(alpha=1.0)\n",
      "  (dropout_a): Dropout(p=0.1, inplace=False)\n",
      "  (pool1): MaxPool2d(kernel_size=2, stride=2, padding=0, dilation=1, ceil_mode=False)\n",
      "  (cnn2): Conv2d(16, 16, kernel_size=(5, 5), stride=(1, 1))\n",
      "  (batch_norm_b): BatchNorm2d(16, eps=1e-05, momentum=0.1, affine=True, track_running_stats=True)\n",
      "  (funcion_activacion_b): ReLU()\n",
      "  (dropout_b): Dropout(p=0.1, inplace=False)\n",
      "  (cnn3): Conv2d(16, 32, kernel_size=(3, 3), stride=(1, 1))\n",
      "  (batch_norm_c): BatchNorm2d(32, eps=1e-05, momentum=0.1, affine=True, track_running_stats=True)\n",
      "  (funcion_activacion_c): SELU()\n",
      "  (dropout_c): Dropout(p=0.2, inplace=False)\n",
      "  (cnn4): Conv2d(32, 32, kernel_size=(3, 3), stride=(1, 1), bias=False)\n",
      "  (batch_norm_d): BatchNorm2d(32, eps=1e-05, momentum=0.1, affine=True, track_running_stats=True)\n",
      "  (funcion_activacion_d): ReLU()\n",
      "  (dropout_d): Dropout(p=0.2, inplace=False)\n",
      "  (pool2): AvgPool2d(kernel_size=1, stride=1, padding=0)\n",
      "  (fc1): Linear(in_features=512, out_features=10, bias=True)\n",
      "), 1.1192677021026611]\n",
      "{'test_loss': 1.230272889137268} 1.1192677021026611\n",
      "90.25\n"
     ]
    },
    {
     "name": "stderr",
     "output_type": "stream",
     "text": [
      "\n",
      "   | Name                 | Type        | Params\n",
      "------------------------------------------------------\n",
      "0  | cnn1                 | Conv2d      | 416   \n",
      "1  | batch_norm_a         | BatchNorm2d | 32    \n",
      "2  | funcion_activacion_a | ELU         | 0     \n",
      "3  | dropout_a            | Dropout     | 0     \n",
      "4  | pool1                | MaxPool2d   | 0     \n",
      "5  | cnn2                 | Conv2d      | 6.4 K \n",
      "6  | batch_norm_b         | BatchNorm2d | 32    \n",
      "7  | funcion_activacion_b | ReLU        | 0     \n",
      "8  | dropout_b            | Dropout     | 0     \n",
      "9  | cnn3                 | Conv2d      | 4.6 K \n",
      "10 | batch_norm_c         | BatchNorm2d | 64    \n",
      "11 | funcion_activacion_c | SELU        | 0     \n",
      "12 | dropout_c            | Dropout     | 0     \n",
      "13 | cnn4                 | Conv2d      | 9.2 K \n",
      "14 | batch_norm_d         | BatchNorm2d | 64    \n",
      "15 | funcion_activacion_d | ReLU        | 0     \n",
      "16 | dropout_d            | Dropout     | 0     \n",
      "17 | pool2                | AvgPool2d   | 0     \n",
      "18 | fc1                  | Linear      | 5.1 K \n",
      "------------------------------------------------------\n",
      "26.0 K    Trainable params\n",
      "0         Non-trainable params\n",
      "26.0 K    Total params\n",
      "0.104     Total estimated model params size (MB)\n"
     ]
    },
    {
     "data": {
      "application/vnd.jupyter.widget-view+json": {
       "model_id": "a5c6ecc7da9040c48553cf516e54075d",
       "version_major": 2,
       "version_minor": 0
      },
      "text/plain": [
       "Sanity Checking: 0it [00:00, ?it/s]"
      ]
     },
     "metadata": {},
     "output_type": "display_data"
    },
    {
     "data": {
      "application/vnd.jupyter.widget-view+json": {
       "model_id": "3587b27d20cb40ee844ab72481cd529f",
       "version_major": 2,
       "version_minor": 0
      },
      "text/plain": [
       "Training: 0it [00:00, ?it/s]"
      ]
     },
     "metadata": {},
     "output_type": "display_data"
    },
    {
     "data": {
      "application/vnd.jupyter.widget-view+json": {
       "model_id": "afab3d2234964f32bfd54b350f897760",
       "version_major": 2,
       "version_minor": 0
      },
      "text/plain": [
       "Validation: 0it [00:00, ?it/s]"
      ]
     },
     "metadata": {},
     "output_type": "display_data"
    },
    {
     "data": {
      "application/vnd.jupyter.widget-view+json": {
       "model_id": "093b2fa4b1474766b1c0c2a8c913451b",
       "version_major": 2,
       "version_minor": 0
      },
      "text/plain": [
       "Validation: 0it [00:00, ?it/s]"
      ]
     },
     "metadata": {},
     "output_type": "display_data"
    },
    {
     "data": {
      "application/vnd.jupyter.widget-view+json": {
       "model_id": "d958954b9edc4561987b8a7ad3176fd9",
       "version_major": 2,
       "version_minor": 0
      },
      "text/plain": [
       "Validation: 0it [00:00, ?it/s]"
      ]
     },
     "metadata": {},
     "output_type": "display_data"
    },
    {
     "data": {
      "application/vnd.jupyter.widget-view+json": {
       "model_id": "1e866735a68b42a99d2b3a9f7955f573",
       "version_major": 2,
       "version_minor": 0
      },
      "text/plain": [
       "Validation: 0it [00:00, ?it/s]"
      ]
     },
     "metadata": {},
     "output_type": "display_data"
    },
    {
     "data": {
      "application/vnd.jupyter.widget-view+json": {
       "model_id": "d7981d8cb7064298b3dd763597c071dd",
       "version_major": 2,
       "version_minor": 0
      },
      "text/plain": [
       "Validation: 0it [00:00, ?it/s]"
      ]
     },
     "metadata": {},
     "output_type": "display_data"
    },
    {
     "name": "stderr",
     "output_type": "stream",
     "text": [
      "`Trainer.fit` stopped: `max_epochs=5` reached.\n",
      "Restoring states from the checkpoint path at c:\\Users\\w10\\Desktop\\BMA\\UPV\\tia\\algoritmos_geneticos\\notebooks\\lightning_logs\\version_633\\checkpoints\\epoch=4-step=150.ckpt\n",
      "Loaded model weights from the checkpoint at c:\\Users\\w10\\Desktop\\BMA\\UPV\\tia\\algoritmos_geneticos\\notebooks\\lightning_logs\\version_633\\checkpoints\\epoch=4-step=150.ckpt\n"
     ]
    },
    {
     "data": {
      "application/vnd.jupyter.widget-view+json": {
       "model_id": "68e826e615cd4281ab2bb29e8405ac29",
       "version_major": 2,
       "version_minor": 0
      },
      "text/plain": [
       "Testing: 0it [00:00, ?it/s]"
      ]
     },
     "metadata": {},
     "output_type": "display_data"
    },
    {
     "data": {
      "text/html": [
       "<pre style=\"white-space:pre;overflow-x:auto;line-height:normal;font-family:Menlo,'DejaVu Sans Mono',consolas,'Courier New',monospace\">┏━━━━━━━━━━━━━━━━━━━━━━━━━━━┳━━━━━━━━━━━━━━━━━━━━━━━━━━━┓\n",
       "┃<span style=\"font-weight: bold\">        Test metric        </span>┃<span style=\"font-weight: bold\">       DataLoader 0        </span>┃\n",
       "┡━━━━━━━━━━━━━━━━━━━━━━━━━━━╇━━━━━━━━━━━━━━━━━━━━━━━━━━━┩\n",
       "│<span style=\"color: #008080; text-decoration-color: #008080\">         test_loss         </span>│<span style=\"color: #800080; text-decoration-color: #800080\">    0.9459488987922668     </span>│\n",
       "└───────────────────────────┴───────────────────────────┘\n",
       "</pre>\n"
      ],
      "text/plain": [
       "┏━━━━━━━━━━━━━━━━━━━━━━━━━━━┳━━━━━━━━━━━━━━━━━━━━━━━━━━━┓\n",
       "┃\u001b[1m \u001b[0m\u001b[1m       Test metric       \u001b[0m\u001b[1m \u001b[0m┃\u001b[1m \u001b[0m\u001b[1m      DataLoader 0       \u001b[0m\u001b[1m \u001b[0m┃\n",
       "┡━━━━━━━━━━━━━━━━━━━━━━━━━━━╇━━━━━━━━━━━━━━━━━━━━━━━━━━━┩\n",
       "│\u001b[36m \u001b[0m\u001b[36m        test_loss        \u001b[0m\u001b[36m \u001b[0m│\u001b[35m \u001b[0m\u001b[35m   0.9459488987922668    \u001b[0m\u001b[35m \u001b[0m│\n",
       "└───────────────────────────┴───────────────────────────┘\n"
      ]
     },
     "metadata": {},
     "output_type": "display_data"
    },
    {
     "name": "stderr",
     "output_type": "stream",
     "text": [
      "GPU available: False, used: False\n",
      "TPU available: False, using: 0 TPU cores\n",
      "IPU available: False, using: 0 IPUs\n",
      "HPU available: False, using: 0 HPUs\n"
     ]
    },
    {
     "name": "stdout",
     "output_type": "stream",
     "text": [
      "[{'a_include_BN': False, 'a_include_bias': True, 'a_activation_type': ELU(alpha=1.0), 'a_dropout_range': 0.1, 'a_pool_type': MaxPool2d(kernel_size=2, stride=2, padding=0, dilation=1, ceil_mode=False), 'b_include_BN': False, 'b_include_bias': True, 'b_activation_type': ReLU(), 'b_dropout_range': 0.1, 'c_include_BN': False, 'c_include_bias': True, 'c_activation_type': SELU(), 'c_dropout_range': 0.2, 'd_include_BN': False, 'd_include_bias': False, 'd_activation_type': ReLU(), 'd_dropout_range': 0.2, 'b_pool_type': AvgPool2d(kernel_size=1, stride=1, padding=0), 'learning_rate': 0.1}, MyModel(\n",
      "  (cnn1): Conv2d(1, 16, kernel_size=(5, 5), stride=(1, 1))\n",
      "  (batch_norm_a): BatchNorm2d(16, eps=1e-05, momentum=0.1, affine=True, track_running_stats=True)\n",
      "  (funcion_activacion_a): ELU(alpha=1.0)\n",
      "  (dropout_a): Dropout(p=0.1, inplace=False)\n",
      "  (pool1): MaxPool2d(kernel_size=2, stride=2, padding=0, dilation=1, ceil_mode=False)\n",
      "  (cnn2): Conv2d(16, 16, kernel_size=(5, 5), stride=(1, 1))\n",
      "  (batch_norm_b): BatchNorm2d(16, eps=1e-05, momentum=0.1, affine=True, track_running_stats=True)\n",
      "  (funcion_activacion_b): ReLU()\n",
      "  (dropout_b): Dropout(p=0.1, inplace=False)\n",
      "  (cnn3): Conv2d(16, 32, kernel_size=(3, 3), stride=(1, 1))\n",
      "  (batch_norm_c): BatchNorm2d(32, eps=1e-05, momentum=0.1, affine=True, track_running_stats=True)\n",
      "  (funcion_activacion_c): SELU()\n",
      "  (dropout_c): Dropout(p=0.2, inplace=False)\n",
      "  (cnn4): Conv2d(32, 32, kernel_size=(3, 3), stride=(1, 1), bias=False)\n",
      "  (batch_norm_d): BatchNorm2d(32, eps=1e-05, momentum=0.1, affine=True, track_running_stats=True)\n",
      "  (funcion_activacion_d): ReLU()\n",
      "  (dropout_d): Dropout(p=0.2, inplace=False)\n",
      "  (pool2): AvgPool2d(kernel_size=1, stride=1, padding=0)\n",
      "  (fc1): Linear(in_features=512, out_features=10, bias=True)\n",
      "), 1.230272889137268]\n",
      "{'test_loss': 0.9459488987922668} 1.230272889137268\n",
      "85.7375\n"
     ]
    },
    {
     "name": "stderr",
     "output_type": "stream",
     "text": [
      "\n",
      "   | Name                 | Type        | Params\n",
      "------------------------------------------------------\n",
      "0  | cnn1                 | Conv2d      | 416   \n",
      "1  | batch_norm_a         | BatchNorm2d | 32    \n",
      "2  | funcion_activacion_a | ELU         | 0     \n",
      "3  | dropout_a            | Dropout     | 0     \n",
      "4  | pool1                | MaxPool2d   | 0     \n",
      "5  | cnn2                 | Conv2d      | 6.4 K \n",
      "6  | batch_norm_b         | BatchNorm2d | 32    \n",
      "7  | funcion_activacion_b | ReLU        | 0     \n",
      "8  | dropout_b            | Dropout     | 0     \n",
      "9  | cnn3                 | Conv2d      | 4.6 K \n",
      "10 | batch_norm_c         | BatchNorm2d | 64    \n",
      "11 | funcion_activacion_c | SELU        | 0     \n",
      "12 | dropout_c            | Dropout     | 0     \n",
      "13 | cnn4                 | Conv2d      | 9.2 K \n",
      "14 | batch_norm_d         | BatchNorm2d | 64    \n",
      "15 | funcion_activacion_d | ReLU        | 0     \n",
      "16 | dropout_d            | Dropout     | 0     \n",
      "17 | pool2                | AvgPool2d   | 0     \n",
      "18 | fc1                  | Linear      | 5.1 K \n",
      "------------------------------------------------------\n",
      "26.0 K    Trainable params\n",
      "0         Non-trainable params\n",
      "26.0 K    Total params\n",
      "0.104     Total estimated model params size (MB)\n"
     ]
    },
    {
     "data": {
      "application/vnd.jupyter.widget-view+json": {
       "model_id": "1a31ded3a6ca458a9c44e3641dc39c16",
       "version_major": 2,
       "version_minor": 0
      },
      "text/plain": [
       "Sanity Checking: 0it [00:00, ?it/s]"
      ]
     },
     "metadata": {},
     "output_type": "display_data"
    },
    {
     "data": {
      "application/vnd.jupyter.widget-view+json": {
       "model_id": "0a5e3474fb514249a56939a6deaa71b7",
       "version_major": 2,
       "version_minor": 0
      },
      "text/plain": [
       "Training: 0it [00:00, ?it/s]"
      ]
     },
     "metadata": {},
     "output_type": "display_data"
    },
    {
     "data": {
      "application/vnd.jupyter.widget-view+json": {
       "model_id": "5c1e42bcd832484aa0a14360c37c212a",
       "version_major": 2,
       "version_minor": 0
      },
      "text/plain": [
       "Validation: 0it [00:00, ?it/s]"
      ]
     },
     "metadata": {},
     "output_type": "display_data"
    },
    {
     "data": {
      "application/vnd.jupyter.widget-view+json": {
       "model_id": "b1425168e07d41f0b1c1eff9d1b58c43",
       "version_major": 2,
       "version_minor": 0
      },
      "text/plain": [
       "Validation: 0it [00:00, ?it/s]"
      ]
     },
     "metadata": {},
     "output_type": "display_data"
    },
    {
     "data": {
      "application/vnd.jupyter.widget-view+json": {
       "model_id": "c946b820a14242b796925ba6dd57847f",
       "version_major": 2,
       "version_minor": 0
      },
      "text/plain": [
       "Validation: 0it [00:00, ?it/s]"
      ]
     },
     "metadata": {},
     "output_type": "display_data"
    },
    {
     "data": {
      "application/vnd.jupyter.widget-view+json": {
       "model_id": "c5115a6fff3c4eb8958c41e30c2c48ac",
       "version_major": 2,
       "version_minor": 0
      },
      "text/plain": [
       "Validation: 0it [00:00, ?it/s]"
      ]
     },
     "metadata": {},
     "output_type": "display_data"
    },
    {
     "data": {
      "application/vnd.jupyter.widget-view+json": {
       "model_id": "95ae5439b6fd476d9944c95039204f40",
       "version_major": 2,
       "version_minor": 0
      },
      "text/plain": [
       "Validation: 0it [00:00, ?it/s]"
      ]
     },
     "metadata": {},
     "output_type": "display_data"
    },
    {
     "name": "stderr",
     "output_type": "stream",
     "text": [
      "`Trainer.fit` stopped: `max_epochs=5` reached.\n",
      "Restoring states from the checkpoint path at c:\\Users\\w10\\Desktop\\BMA\\UPV\\tia\\algoritmos_geneticos\\notebooks\\lightning_logs\\version_634\\checkpoints\\epoch=4-step=150.ckpt\n",
      "Loaded model weights from the checkpoint at c:\\Users\\w10\\Desktop\\BMA\\UPV\\tia\\algoritmos_geneticos\\notebooks\\lightning_logs\\version_634\\checkpoints\\epoch=4-step=150.ckpt\n"
     ]
    },
    {
     "data": {
      "application/vnd.jupyter.widget-view+json": {
       "model_id": "9d609c83848448e6ace378ec74fe6d1f",
       "version_major": 2,
       "version_minor": 0
      },
      "text/plain": [
       "Testing: 0it [00:00, ?it/s]"
      ]
     },
     "metadata": {},
     "output_type": "display_data"
    },
    {
     "data": {
      "text/html": [
       "<pre style=\"white-space:pre;overflow-x:auto;line-height:normal;font-family:Menlo,'DejaVu Sans Mono',consolas,'Courier New',monospace\">┏━━━━━━━━━━━━━━━━━━━━━━━━━━━┳━━━━━━━━━━━━━━━━━━━━━━━━━━━┓\n",
       "┃<span style=\"font-weight: bold\">        Test metric        </span>┃<span style=\"font-weight: bold\">       DataLoader 0        </span>┃\n",
       "┡━━━━━━━━━━━━━━━━━━━━━━━━━━━╇━━━━━━━━━━━━━━━━━━━━━━━━━━━┩\n",
       "│<span style=\"color: #008080; text-decoration-color: #008080\">         test_loss         </span>│<span style=\"color: #800080; text-decoration-color: #800080\">    0.9282578825950623     </span>│\n",
       "└───────────────────────────┴───────────────────────────┘\n",
       "</pre>\n"
      ],
      "text/plain": [
       "┏━━━━━━━━━━━━━━━━━━━━━━━━━━━┳━━━━━━━━━━━━━━━━━━━━━━━━━━━┓\n",
       "┃\u001b[1m \u001b[0m\u001b[1m       Test metric       \u001b[0m\u001b[1m \u001b[0m┃\u001b[1m \u001b[0m\u001b[1m      DataLoader 0       \u001b[0m\u001b[1m \u001b[0m┃\n",
       "┡━━━━━━━━━━━━━━━━━━━━━━━━━━━╇━━━━━━━━━━━━━━━━━━━━━━━━━━━┩\n",
       "│\u001b[36m \u001b[0m\u001b[36m        test_loss        \u001b[0m\u001b[36m \u001b[0m│\u001b[35m \u001b[0m\u001b[35m   0.9282578825950623    \u001b[0m\u001b[35m \u001b[0m│\n",
       "└───────────────────────────┴───────────────────────────┘\n"
      ]
     },
     "metadata": {},
     "output_type": "display_data"
    },
    {
     "name": "stderr",
     "output_type": "stream",
     "text": [
      "GPU available: False, used: False\n",
      "TPU available: False, using: 0 TPU cores\n",
      "IPU available: False, using: 0 IPUs\n",
      "HPU available: False, using: 0 HPUs\n"
     ]
    },
    {
     "name": "stdout",
     "output_type": "stream",
     "text": [
      "[{'a_include_BN': False, 'a_include_bias': True, 'a_activation_type': ELU(alpha=1.0), 'a_dropout_range': 0.1, 'a_pool_type': MaxPool2d(kernel_size=2, stride=2, padding=0, dilation=1, ceil_mode=False), 'b_include_BN': False, 'b_include_bias': True, 'b_activation_type': ReLU(), 'b_dropout_range': 0.1, 'c_include_BN': False, 'c_include_bias': True, 'c_activation_type': SELU(), 'c_dropout_range': 0.2, 'd_include_BN': False, 'd_include_bias': False, 'd_activation_type': ReLU(), 'd_dropout_range': 0.2, 'b_pool_type': AvgPool2d(kernel_size=1, stride=1, padding=0), 'learning_rate': 0.1}, MyModel(\n",
      "  (cnn1): Conv2d(1, 16, kernel_size=(5, 5), stride=(1, 1))\n",
      "  (batch_norm_a): BatchNorm2d(16, eps=1e-05, momentum=0.1, affine=True, track_running_stats=True)\n",
      "  (funcion_activacion_a): ELU(alpha=1.0)\n",
      "  (dropout_a): Dropout(p=0.1, inplace=False)\n",
      "  (pool1): MaxPool2d(kernel_size=2, stride=2, padding=0, dilation=1, ceil_mode=False)\n",
      "  (cnn2): Conv2d(16, 16, kernel_size=(5, 5), stride=(1, 1))\n",
      "  (batch_norm_b): BatchNorm2d(16, eps=1e-05, momentum=0.1, affine=True, track_running_stats=True)\n",
      "  (funcion_activacion_b): ReLU()\n",
      "  (dropout_b): Dropout(p=0.1, inplace=False)\n",
      "  (cnn3): Conv2d(16, 32, kernel_size=(3, 3), stride=(1, 1))\n",
      "  (batch_norm_c): BatchNorm2d(32, eps=1e-05, momentum=0.1, affine=True, track_running_stats=True)\n",
      "  (funcion_activacion_c): SELU()\n",
      "  (dropout_c): Dropout(p=0.2, inplace=False)\n",
      "  (cnn4): Conv2d(32, 32, kernel_size=(3, 3), stride=(1, 1), bias=False)\n",
      "  (batch_norm_d): BatchNorm2d(32, eps=1e-05, momentum=0.1, affine=True, track_running_stats=True)\n",
      "  (funcion_activacion_d): ReLU()\n",
      "  (dropout_d): Dropout(p=0.2, inplace=False)\n",
      "  (pool2): AvgPool2d(kernel_size=1, stride=1, padding=0)\n",
      "  (fc1): Linear(in_features=512, out_features=10, bias=True)\n",
      "), 0.9459488987922668]\n",
      "{'test_loss': 0.9282578825950623} 0.9459488987922668\n",
      "81.45062499999999\n"
     ]
    },
    {
     "name": "stderr",
     "output_type": "stream",
     "text": [
      "\n",
      "   | Name                 | Type        | Params\n",
      "------------------------------------------------------\n",
      "0  | cnn1                 | Conv2d      | 416   \n",
      "1  | batch_norm_a         | BatchNorm2d | 32    \n",
      "2  | funcion_activacion_a | ELU         | 0     \n",
      "3  | dropout_a            | Dropout     | 0     \n",
      "4  | pool1                | MaxPool2d   | 0     \n",
      "5  | cnn2                 | Conv2d      | 6.4 K \n",
      "6  | batch_norm_b         | BatchNorm2d | 32    \n",
      "7  | funcion_activacion_b | ReLU        | 0     \n",
      "8  | dropout_b            | Dropout     | 0     \n",
      "9  | cnn3                 | Conv2d      | 4.6 K \n",
      "10 | batch_norm_c         | BatchNorm2d | 64    \n",
      "11 | funcion_activacion_c | SELU        | 0     \n",
      "12 | dropout_c            | Dropout     | 0     \n",
      "13 | cnn4                 | Conv2d      | 9.2 K \n",
      "14 | batch_norm_d         | BatchNorm2d | 64    \n",
      "15 | funcion_activacion_d | ReLU        | 0     \n",
      "16 | dropout_d            | Dropout     | 0     \n",
      "17 | pool2                | AvgPool2d   | 0     \n",
      "18 | fc1                  | Linear      | 5.1 K \n",
      "------------------------------------------------------\n",
      "26.0 K    Trainable params\n",
      "0         Non-trainable params\n",
      "26.0 K    Total params\n",
      "0.104     Total estimated model params size (MB)\n"
     ]
    },
    {
     "data": {
      "application/vnd.jupyter.widget-view+json": {
       "model_id": "11b1fb6fe9de44b7a3d83f86ffff6239",
       "version_major": 2,
       "version_minor": 0
      },
      "text/plain": [
       "Sanity Checking: 0it [00:00, ?it/s]"
      ]
     },
     "metadata": {},
     "output_type": "display_data"
    },
    {
     "data": {
      "application/vnd.jupyter.widget-view+json": {
       "model_id": "1b7063d484c3489c873d5c9b79d16565",
       "version_major": 2,
       "version_minor": 0
      },
      "text/plain": [
       "Training: 0it [00:00, ?it/s]"
      ]
     },
     "metadata": {},
     "output_type": "display_data"
    },
    {
     "data": {
      "application/vnd.jupyter.widget-view+json": {
       "model_id": "e9b97c24ae76433cab6ccb5e378dcbfa",
       "version_major": 2,
       "version_minor": 0
      },
      "text/plain": [
       "Validation: 0it [00:00, ?it/s]"
      ]
     },
     "metadata": {},
     "output_type": "display_data"
    },
    {
     "data": {
      "application/vnd.jupyter.widget-view+json": {
       "model_id": "4799007137c241c089333f1c9979b1ee",
       "version_major": 2,
       "version_minor": 0
      },
      "text/plain": [
       "Validation: 0it [00:00, ?it/s]"
      ]
     },
     "metadata": {},
     "output_type": "display_data"
    },
    {
     "data": {
      "application/vnd.jupyter.widget-view+json": {
       "model_id": "fcce9b00f9b5449c9c1cf3f3a34bf3eb",
       "version_major": 2,
       "version_minor": 0
      },
      "text/plain": [
       "Validation: 0it [00:00, ?it/s]"
      ]
     },
     "metadata": {},
     "output_type": "display_data"
    },
    {
     "data": {
      "application/vnd.jupyter.widget-view+json": {
       "model_id": "f7ac011373c146bf8fed800f48fe467e",
       "version_major": 2,
       "version_minor": 0
      },
      "text/plain": [
       "Validation: 0it [00:00, ?it/s]"
      ]
     },
     "metadata": {},
     "output_type": "display_data"
    },
    {
     "data": {
      "application/vnd.jupyter.widget-view+json": {
       "model_id": "a432aa65874b44d1a42b880b9dd0b18a",
       "version_major": 2,
       "version_minor": 0
      },
      "text/plain": [
       "Validation: 0it [00:00, ?it/s]"
      ]
     },
     "metadata": {},
     "output_type": "display_data"
    },
    {
     "name": "stderr",
     "output_type": "stream",
     "text": [
      "`Trainer.fit` stopped: `max_epochs=5` reached.\n",
      "Restoring states from the checkpoint path at c:\\Users\\w10\\Desktop\\BMA\\UPV\\tia\\algoritmos_geneticos\\notebooks\\lightning_logs\\version_635\\checkpoints\\epoch=4-step=150.ckpt\n",
      "Loaded model weights from the checkpoint at c:\\Users\\w10\\Desktop\\BMA\\UPV\\tia\\algoritmos_geneticos\\notebooks\\lightning_logs\\version_635\\checkpoints\\epoch=4-step=150.ckpt\n"
     ]
    },
    {
     "data": {
      "application/vnd.jupyter.widget-view+json": {
       "model_id": "e276cf5cf29e462ca69dc9b85a6e383f",
       "version_major": 2,
       "version_minor": 0
      },
      "text/plain": [
       "Testing: 0it [00:00, ?it/s]"
      ]
     },
     "metadata": {},
     "output_type": "display_data"
    },
    {
     "data": {
      "text/html": [
       "<pre style=\"white-space:pre;overflow-x:auto;line-height:normal;font-family:Menlo,'DejaVu Sans Mono',consolas,'Courier New',monospace\">┏━━━━━━━━━━━━━━━━━━━━━━━━━━━┳━━━━━━━━━━━━━━━━━━━━━━━━━━━┓\n",
       "┃<span style=\"font-weight: bold\">        Test metric        </span>┃<span style=\"font-weight: bold\">       DataLoader 0        </span>┃\n",
       "┡━━━━━━━━━━━━━━━━━━━━━━━━━━━╇━━━━━━━━━━━━━━━━━━━━━━━━━━━┩\n",
       "│<span style=\"color: #008080; text-decoration-color: #008080\">         test_loss         </span>│<span style=\"color: #800080; text-decoration-color: #800080\">    0.9531006813049316     </span>│\n",
       "└───────────────────────────┴───────────────────────────┘\n",
       "</pre>\n"
      ],
      "text/plain": [
       "┏━━━━━━━━━━━━━━━━━━━━━━━━━━━┳━━━━━━━━━━━━━━━━━━━━━━━━━━━┓\n",
       "┃\u001b[1m \u001b[0m\u001b[1m       Test metric       \u001b[0m\u001b[1m \u001b[0m┃\u001b[1m \u001b[0m\u001b[1m      DataLoader 0       \u001b[0m\u001b[1m \u001b[0m┃\n",
       "┡━━━━━━━━━━━━━━━━━━━━━━━━━━━╇━━━━━━━━━━━━━━━━━━━━━━━━━━━┩\n",
       "│\u001b[36m \u001b[0m\u001b[36m        test_loss        \u001b[0m\u001b[36m \u001b[0m│\u001b[35m \u001b[0m\u001b[35m   0.9531006813049316    \u001b[0m\u001b[35m \u001b[0m│\n",
       "└───────────────────────────┴───────────────────────────┘\n"
      ]
     },
     "metadata": {},
     "output_type": "display_data"
    },
    {
     "name": "stderr",
     "output_type": "stream",
     "text": [
      "GPU available: False, used: False\n",
      "TPU available: False, using: 0 TPU cores\n",
      "IPU available: False, using: 0 IPUs\n",
      "HPU available: False, using: 0 HPUs\n"
     ]
    },
    {
     "name": "stdout",
     "output_type": "stream",
     "text": [
      "[{'a_include_BN': False, 'a_include_bias': True, 'a_activation_type': ELU(alpha=1.0), 'a_dropout_range': 0.1, 'a_pool_type': MaxPool2d(kernel_size=2, stride=2, padding=0, dilation=1, ceil_mode=False), 'b_include_BN': False, 'b_include_bias': True, 'b_activation_type': ReLU(), 'b_dropout_range': 0.1, 'c_include_BN': False, 'c_include_bias': True, 'c_activation_type': SELU(), 'c_dropout_range': 0.2, 'd_include_BN': False, 'd_include_bias': False, 'd_activation_type': ReLU(), 'd_dropout_range': 0.2, 'b_pool_type': AvgPool2d(kernel_size=1, stride=1, padding=0), 'learning_rate': 0.1}, MyModel(\n",
      "  (cnn1): Conv2d(1, 16, kernel_size=(5, 5), stride=(1, 1))\n",
      "  (batch_norm_a): BatchNorm2d(16, eps=1e-05, momentum=0.1, affine=True, track_running_stats=True)\n",
      "  (funcion_activacion_a): ELU(alpha=1.0)\n",
      "  (dropout_a): Dropout(p=0.1, inplace=False)\n",
      "  (pool1): MaxPool2d(kernel_size=2, stride=2, padding=0, dilation=1, ceil_mode=False)\n",
      "  (cnn2): Conv2d(16, 16, kernel_size=(5, 5), stride=(1, 1))\n",
      "  (batch_norm_b): BatchNorm2d(16, eps=1e-05, momentum=0.1, affine=True, track_running_stats=True)\n",
      "  (funcion_activacion_b): ReLU()\n",
      "  (dropout_b): Dropout(p=0.1, inplace=False)\n",
      "  (cnn3): Conv2d(16, 32, kernel_size=(3, 3), stride=(1, 1))\n",
      "  (batch_norm_c): BatchNorm2d(32, eps=1e-05, momentum=0.1, affine=True, track_running_stats=True)\n",
      "  (funcion_activacion_c): SELU()\n",
      "  (dropout_c): Dropout(p=0.2, inplace=False)\n",
      "  (cnn4): Conv2d(32, 32, kernel_size=(3, 3), stride=(1, 1), bias=False)\n",
      "  (batch_norm_d): BatchNorm2d(32, eps=1e-05, momentum=0.1, affine=True, track_running_stats=True)\n",
      "  (funcion_activacion_d): ReLU()\n",
      "  (dropout_d): Dropout(p=0.2, inplace=False)\n",
      "  (pool2): AvgPool2d(kernel_size=1, stride=1, padding=0)\n",
      "  (fc1): Linear(in_features=512, out_features=10, bias=True)\n",
      "), 0.9282578825950623]\n",
      "{'test_loss': 0.9531006813049316} 0.9282578825950623\n",
      "77.37809374999999\n"
     ]
    },
    {
     "name": "stderr",
     "output_type": "stream",
     "text": [
      "\n",
      "   | Name                 | Type        | Params\n",
      "------------------------------------------------------\n",
      "0  | cnn1                 | Conv2d      | 416   \n",
      "1  | batch_norm_a         | BatchNorm2d | 32    \n",
      "2  | funcion_activacion_a | ELU         | 0     \n",
      "3  | dropout_a            | Dropout     | 0     \n",
      "4  | pool1                | MaxPool2d   | 0     \n",
      "5  | cnn2                 | Conv2d      | 6.4 K \n",
      "6  | batch_norm_b         | BatchNorm2d | 32    \n",
      "7  | funcion_activacion_b | ReLU        | 0     \n",
      "8  | dropout_b            | Dropout     | 0     \n",
      "9  | cnn3                 | Conv2d      | 4.6 K \n",
      "10 | batch_norm_c         | BatchNorm2d | 64    \n",
      "11 | funcion_activacion_c | SELU        | 0     \n",
      "12 | dropout_c            | Dropout     | 0     \n",
      "13 | cnn4                 | Conv2d      | 9.2 K \n",
      "14 | batch_norm_d         | BatchNorm2d | 64    \n",
      "15 | funcion_activacion_d | ReLU        | 0     \n",
      "16 | dropout_d            | Dropout     | 0     \n",
      "17 | pool2                | AvgPool2d   | 0     \n",
      "18 | fc1                  | Linear      | 5.1 K \n",
      "------------------------------------------------------\n",
      "26.0 K    Trainable params\n",
      "0         Non-trainable params\n",
      "26.0 K    Total params\n",
      "0.104     Total estimated model params size (MB)\n"
     ]
    },
    {
     "data": {
      "application/vnd.jupyter.widget-view+json": {
       "model_id": "76da890c652d45d88e70593f02af43b2",
       "version_major": 2,
       "version_minor": 0
      },
      "text/plain": [
       "Sanity Checking: 0it [00:00, ?it/s]"
      ]
     },
     "metadata": {},
     "output_type": "display_data"
    },
    {
     "data": {
      "application/vnd.jupyter.widget-view+json": {
       "model_id": "30f7a13fd8da4144ad459514e5971dca",
       "version_major": 2,
       "version_minor": 0
      },
      "text/plain": [
       "Training: 0it [00:00, ?it/s]"
      ]
     },
     "metadata": {},
     "output_type": "display_data"
    },
    {
     "data": {
      "application/vnd.jupyter.widget-view+json": {
       "model_id": "39c5ff1f69e74eddb39f7021bf60f8c2",
       "version_major": 2,
       "version_minor": 0
      },
      "text/plain": [
       "Validation: 0it [00:00, ?it/s]"
      ]
     },
     "metadata": {},
     "output_type": "display_data"
    },
    {
     "data": {
      "application/vnd.jupyter.widget-view+json": {
       "model_id": "3aa3e0a4d94b49238fcee1ec56aa9d20",
       "version_major": 2,
       "version_minor": 0
      },
      "text/plain": [
       "Validation: 0it [00:00, ?it/s]"
      ]
     },
     "metadata": {},
     "output_type": "display_data"
    },
    {
     "data": {
      "application/vnd.jupyter.widget-view+json": {
       "model_id": "bb65c992778a44a2a124bea973748d9d",
       "version_major": 2,
       "version_minor": 0
      },
      "text/plain": [
       "Validation: 0it [00:00, ?it/s]"
      ]
     },
     "metadata": {},
     "output_type": "display_data"
    },
    {
     "data": {
      "application/vnd.jupyter.widget-view+json": {
       "model_id": "e41bc578dc6a4bb58822858a0f96e6e0",
       "version_major": 2,
       "version_minor": 0
      },
      "text/plain": [
       "Validation: 0it [00:00, ?it/s]"
      ]
     },
     "metadata": {},
     "output_type": "display_data"
    },
    {
     "data": {
      "application/vnd.jupyter.widget-view+json": {
       "model_id": "80f4e5cefe8a403eb0cb27055f0fa332",
       "version_major": 2,
       "version_minor": 0
      },
      "text/plain": [
       "Validation: 0it [00:00, ?it/s]"
      ]
     },
     "metadata": {},
     "output_type": "display_data"
    },
    {
     "name": "stderr",
     "output_type": "stream",
     "text": [
      "`Trainer.fit` stopped: `max_epochs=5` reached.\n",
      "Restoring states from the checkpoint path at c:\\Users\\w10\\Desktop\\BMA\\UPV\\tia\\algoritmos_geneticos\\notebooks\\lightning_logs\\version_636\\checkpoints\\epoch=4-step=150.ckpt\n",
      "Loaded model weights from the checkpoint at c:\\Users\\w10\\Desktop\\BMA\\UPV\\tia\\algoritmos_geneticos\\notebooks\\lightning_logs\\version_636\\checkpoints\\epoch=4-step=150.ckpt\n"
     ]
    },
    {
     "data": {
      "application/vnd.jupyter.widget-view+json": {
       "model_id": "ed33ad17478d4c2291265c8d378649fc",
       "version_major": 2,
       "version_minor": 0
      },
      "text/plain": [
       "Testing: 0it [00:00, ?it/s]"
      ]
     },
     "metadata": {},
     "output_type": "display_data"
    },
    {
     "data": {
      "text/html": [
       "<pre style=\"white-space:pre;overflow-x:auto;line-height:normal;font-family:Menlo,'DejaVu Sans Mono',consolas,'Courier New',monospace\">┏━━━━━━━━━━━━━━━━━━━━━━━━━━━┳━━━━━━━━━━━━━━━━━━━━━━━━━━━┓\n",
       "┃<span style=\"font-weight: bold\">        Test metric        </span>┃<span style=\"font-weight: bold\">       DataLoader 0        </span>┃\n",
       "┡━━━━━━━━━━━━━━━━━━━━━━━━━━━╇━━━━━━━━━━━━━━━━━━━━━━━━━━━┩\n",
       "│<span style=\"color: #008080; text-decoration-color: #008080\">         test_loss         </span>│<span style=\"color: #800080; text-decoration-color: #800080\">    0.9637718796730042     </span>│\n",
       "└───────────────────────────┴───────────────────────────┘\n",
       "</pre>\n"
      ],
      "text/plain": [
       "┏━━━━━━━━━━━━━━━━━━━━━━━━━━━┳━━━━━━━━━━━━━━━━━━━━━━━━━━━┓\n",
       "┃\u001b[1m \u001b[0m\u001b[1m       Test metric       \u001b[0m\u001b[1m \u001b[0m┃\u001b[1m \u001b[0m\u001b[1m      DataLoader 0       \u001b[0m\u001b[1m \u001b[0m┃\n",
       "┡━━━━━━━━━━━━━━━━━━━━━━━━━━━╇━━━━━━━━━━━━━━━━━━━━━━━━━━━┩\n",
       "│\u001b[36m \u001b[0m\u001b[36m        test_loss        \u001b[0m\u001b[36m \u001b[0m│\u001b[35m \u001b[0m\u001b[35m   0.9637718796730042    \u001b[0m\u001b[35m \u001b[0m│\n",
       "└───────────────────────────┴───────────────────────────┘\n"
      ]
     },
     "metadata": {},
     "output_type": "display_data"
    },
    {
     "name": "stderr",
     "output_type": "stream",
     "text": [
      "GPU available: False, used: False\n",
      "TPU available: False, using: 0 TPU cores\n",
      "IPU available: False, using: 0 IPUs\n",
      "HPU available: False, using: 0 HPUs\n"
     ]
    },
    {
     "name": "stdout",
     "output_type": "stream",
     "text": [
      "[{'a_include_BN': False, 'a_include_bias': True, 'a_activation_type': ELU(alpha=1.0), 'a_dropout_range': 0.1, 'a_pool_type': MaxPool2d(kernel_size=2, stride=2, padding=0, dilation=1, ceil_mode=False), 'b_include_BN': False, 'b_include_bias': True, 'b_activation_type': ReLU(), 'b_dropout_range': 0.1, 'c_include_BN': False, 'c_include_bias': True, 'c_activation_type': SELU(), 'c_dropout_range': 0.2, 'd_include_BN': False, 'd_include_bias': False, 'd_activation_type': ReLU(), 'd_dropout_range': 0.2, 'b_pool_type': AvgPool2d(kernel_size=1, stride=1, padding=0), 'learning_rate': 0.1}, MyModel(\n",
      "  (cnn1): Conv2d(1, 16, kernel_size=(5, 5), stride=(1, 1))\n",
      "  (batch_norm_a): BatchNorm2d(16, eps=1e-05, momentum=0.1, affine=True, track_running_stats=True)\n",
      "  (funcion_activacion_a): ELU(alpha=1.0)\n",
      "  (dropout_a): Dropout(p=0.1, inplace=False)\n",
      "  (pool1): MaxPool2d(kernel_size=2, stride=2, padding=0, dilation=1, ceil_mode=False)\n",
      "  (cnn2): Conv2d(16, 16, kernel_size=(5, 5), stride=(1, 1))\n",
      "  (batch_norm_b): BatchNorm2d(16, eps=1e-05, momentum=0.1, affine=True, track_running_stats=True)\n",
      "  (funcion_activacion_b): ReLU()\n",
      "  (dropout_b): Dropout(p=0.1, inplace=False)\n",
      "  (cnn3): Conv2d(16, 32, kernel_size=(3, 3), stride=(1, 1))\n",
      "  (batch_norm_c): BatchNorm2d(32, eps=1e-05, momentum=0.1, affine=True, track_running_stats=True)\n",
      "  (funcion_activacion_c): SELU()\n",
      "  (dropout_c): Dropout(p=0.2, inplace=False)\n",
      "  (cnn4): Conv2d(32, 32, kernel_size=(3, 3), stride=(1, 1), bias=False)\n",
      "  (batch_norm_d): BatchNorm2d(32, eps=1e-05, momentum=0.1, affine=True, track_running_stats=True)\n",
      "  (funcion_activacion_d): ReLU()\n",
      "  (dropout_d): Dropout(p=0.2, inplace=False)\n",
      "  (pool2): AvgPool2d(kernel_size=1, stride=1, padding=0)\n",
      "  (fc1): Linear(in_features=512, out_features=10, bias=True)\n",
      "), 0.9531006813049316]\n",
      "{'test_loss': 0.9637718796730042} 0.9531006813049316\n",
      "73.50918906249998\n"
     ]
    },
    {
     "name": "stderr",
     "output_type": "stream",
     "text": [
      "\n",
      "   | Name                 | Type        | Params\n",
      "------------------------------------------------------\n",
      "0  | cnn1                 | Conv2d      | 416   \n",
      "1  | batch_norm_a         | BatchNorm2d | 32    \n",
      "2  | funcion_activacion_a | ELU         | 0     \n",
      "3  | dropout_a            | Dropout     | 0     \n",
      "4  | pool1                | MaxPool2d   | 0     \n",
      "5  | cnn2                 | Conv2d      | 6.4 K \n",
      "6  | batch_norm_b         | BatchNorm2d | 32    \n",
      "7  | funcion_activacion_b | ReLU        | 0     \n",
      "8  | dropout_b            | Dropout     | 0     \n",
      "9  | cnn3                 | Conv2d      | 4.6 K \n",
      "10 | batch_norm_c         | BatchNorm2d | 64    \n",
      "11 | funcion_activacion_c | SELU        | 0     \n",
      "12 | dropout_c            | Dropout     | 0     \n",
      "13 | cnn4                 | Conv2d      | 9.2 K \n",
      "14 | batch_norm_d         | BatchNorm2d | 64    \n",
      "15 | funcion_activacion_d | ReLU        | 0     \n",
      "16 | dropout_d            | Dropout     | 0     \n",
      "17 | pool2                | AvgPool2d   | 0     \n",
      "18 | fc1                  | Linear      | 5.1 K \n",
      "------------------------------------------------------\n",
      "26.0 K    Trainable params\n",
      "0         Non-trainable params\n",
      "26.0 K    Total params\n",
      "0.104     Total estimated model params size (MB)\n"
     ]
    },
    {
     "data": {
      "application/vnd.jupyter.widget-view+json": {
       "model_id": "ced4da868e7b4cc781811d8ef1b9b389",
       "version_major": 2,
       "version_minor": 0
      },
      "text/plain": [
       "Sanity Checking: 0it [00:00, ?it/s]"
      ]
     },
     "metadata": {},
     "output_type": "display_data"
    },
    {
     "data": {
      "application/vnd.jupyter.widget-view+json": {
       "model_id": "9dc65e268b4141f689e78d318bae8ee0",
       "version_major": 2,
       "version_minor": 0
      },
      "text/plain": [
       "Training: 0it [00:00, ?it/s]"
      ]
     },
     "metadata": {},
     "output_type": "display_data"
    },
    {
     "data": {
      "application/vnd.jupyter.widget-view+json": {
       "model_id": "61c1807615794dc384083cf5a56c5394",
       "version_major": 2,
       "version_minor": 0
      },
      "text/plain": [
       "Validation: 0it [00:00, ?it/s]"
      ]
     },
     "metadata": {},
     "output_type": "display_data"
    },
    {
     "data": {
      "application/vnd.jupyter.widget-view+json": {
       "model_id": "deb66a6153284653951a1a0ae39de693",
       "version_major": 2,
       "version_minor": 0
      },
      "text/plain": [
       "Validation: 0it [00:00, ?it/s]"
      ]
     },
     "metadata": {},
     "output_type": "display_data"
    },
    {
     "data": {
      "application/vnd.jupyter.widget-view+json": {
       "model_id": "d8513398606b478bb690d74407f57d45",
       "version_major": 2,
       "version_minor": 0
      },
      "text/plain": [
       "Validation: 0it [00:00, ?it/s]"
      ]
     },
     "metadata": {},
     "output_type": "display_data"
    },
    {
     "data": {
      "application/vnd.jupyter.widget-view+json": {
       "model_id": "debecf32080d46cd81cee425e1fd622d",
       "version_major": 2,
       "version_minor": 0
      },
      "text/plain": [
       "Validation: 0it [00:00, ?it/s]"
      ]
     },
     "metadata": {},
     "output_type": "display_data"
    },
    {
     "data": {
      "application/vnd.jupyter.widget-view+json": {
       "model_id": "2dfdfaf805b34614bbb14ba9230ff9ac",
       "version_major": 2,
       "version_minor": 0
      },
      "text/plain": [
       "Validation: 0it [00:00, ?it/s]"
      ]
     },
     "metadata": {},
     "output_type": "display_data"
    },
    {
     "name": "stderr",
     "output_type": "stream",
     "text": [
      "`Trainer.fit` stopped: `max_epochs=5` reached.\n",
      "Restoring states from the checkpoint path at c:\\Users\\w10\\Desktop\\BMA\\UPV\\tia\\algoritmos_geneticos\\notebooks\\lightning_logs\\version_637\\checkpoints\\epoch=4-step=150.ckpt\n",
      "Loaded model weights from the checkpoint at c:\\Users\\w10\\Desktop\\BMA\\UPV\\tia\\algoritmos_geneticos\\notebooks\\lightning_logs\\version_637\\checkpoints\\epoch=4-step=150.ckpt\n"
     ]
    },
    {
     "data": {
      "application/vnd.jupyter.widget-view+json": {
       "model_id": "e9742bbd531047a39c01087cd3452f9a",
       "version_major": 2,
       "version_minor": 0
      },
      "text/plain": [
       "Testing: 0it [00:00, ?it/s]"
      ]
     },
     "metadata": {},
     "output_type": "display_data"
    },
    {
     "data": {
      "text/html": [
       "<pre style=\"white-space:pre;overflow-x:auto;line-height:normal;font-family:Menlo,'DejaVu Sans Mono',consolas,'Courier New',monospace\">┏━━━━━━━━━━━━━━━━━━━━━━━━━━━┳━━━━━━━━━━━━━━━━━━━━━━━━━━━┓\n",
       "┃<span style=\"font-weight: bold\">        Test metric        </span>┃<span style=\"font-weight: bold\">       DataLoader 0        </span>┃\n",
       "┡━━━━━━━━━━━━━━━━━━━━━━━━━━━╇━━━━━━━━━━━━━━━━━━━━━━━━━━━┩\n",
       "│<span style=\"color: #008080; text-decoration-color: #008080\">         test_loss         </span>│<span style=\"color: #800080; text-decoration-color: #800080\">    1.0318902730941772     </span>│\n",
       "└───────────────────────────┴───────────────────────────┘\n",
       "</pre>\n"
      ],
      "text/plain": [
       "┏━━━━━━━━━━━━━━━━━━━━━━━━━━━┳━━━━━━━━━━━━━━━━━━━━━━━━━━━┓\n",
       "┃\u001b[1m \u001b[0m\u001b[1m       Test metric       \u001b[0m\u001b[1m \u001b[0m┃\u001b[1m \u001b[0m\u001b[1m      DataLoader 0       \u001b[0m\u001b[1m \u001b[0m┃\n",
       "┡━━━━━━━━━━━━━━━━━━━━━━━━━━━╇━━━━━━━━━━━━━━━━━━━━━━━━━━━┩\n",
       "│\u001b[36m \u001b[0m\u001b[36m        test_loss        \u001b[0m\u001b[36m \u001b[0m│\u001b[35m \u001b[0m\u001b[35m   1.0318902730941772    \u001b[0m\u001b[35m \u001b[0m│\n",
       "└───────────────────────────┴───────────────────────────┘\n"
      ]
     },
     "metadata": {},
     "output_type": "display_data"
    },
    {
     "name": "stderr",
     "output_type": "stream",
     "text": [
      "GPU available: False, used: False\n",
      "TPU available: False, using: 0 TPU cores\n",
      "IPU available: False, using: 0 IPUs\n",
      "HPU available: False, using: 0 HPUs\n"
     ]
    },
    {
     "name": "stdout",
     "output_type": "stream",
     "text": [
      "[{'a_include_BN': False, 'a_include_bias': True, 'a_activation_type': ELU(alpha=1.0), 'a_dropout_range': 0.1, 'a_pool_type': MaxPool2d(kernel_size=2, stride=2, padding=0, dilation=1, ceil_mode=False), 'b_include_BN': False, 'b_include_bias': True, 'b_activation_type': ReLU(), 'b_dropout_range': 0.1, 'c_include_BN': True, 'c_include_bias': True, 'c_activation_type': SELU(), 'c_dropout_range': 0.2, 'd_include_BN': False, 'd_include_bias': False, 'd_activation_type': ReLU(), 'd_dropout_range': 0.2, 'b_pool_type': AvgPool2d(kernel_size=1, stride=1, padding=0), 'learning_rate': 0.1}, MyModel(\n",
      "  (cnn1): Conv2d(1, 16, kernel_size=(5, 5), stride=(1, 1))\n",
      "  (batch_norm_a): BatchNorm2d(16, eps=1e-05, momentum=0.1, affine=True, track_running_stats=True)\n",
      "  (funcion_activacion_a): ELU(alpha=1.0)\n",
      "  (dropout_a): Dropout(p=0.1, inplace=False)\n",
      "  (pool1): MaxPool2d(kernel_size=2, stride=2, padding=0, dilation=1, ceil_mode=False)\n",
      "  (cnn2): Conv2d(16, 16, kernel_size=(5, 5), stride=(1, 1))\n",
      "  (batch_norm_b): BatchNorm2d(16, eps=1e-05, momentum=0.1, affine=True, track_running_stats=True)\n",
      "  (funcion_activacion_b): ReLU()\n",
      "  (dropout_b): Dropout(p=0.1, inplace=False)\n",
      "  (cnn3): Conv2d(16, 32, kernel_size=(3, 3), stride=(1, 1))\n",
      "  (batch_norm_c): BatchNorm2d(32, eps=1e-05, momentum=0.1, affine=True, track_running_stats=True)\n",
      "  (funcion_activacion_c): SELU()\n",
      "  (dropout_c): Dropout(p=0.2, inplace=False)\n",
      "  (cnn4): Conv2d(32, 32, kernel_size=(3, 3), stride=(1, 1), bias=False)\n",
      "  (batch_norm_d): BatchNorm2d(32, eps=1e-05, momentum=0.1, affine=True, track_running_stats=True)\n",
      "  (funcion_activacion_d): ReLU()\n",
      "  (dropout_d): Dropout(p=0.2, inplace=False)\n",
      "  (pool2): AvgPool2d(kernel_size=1, stride=1, padding=0)\n",
      "  (fc1): Linear(in_features=512, out_features=10, bias=True)\n",
      "), 0.9531006813049316]\n",
      "{'test_loss': 1.0318902730941772} 0.9531006813049316\n",
      "69.83372960937498\n"
     ]
    },
    {
     "name": "stderr",
     "output_type": "stream",
     "text": [
      "\n",
      "   | Name                 | Type        | Params\n",
      "------------------------------------------------------\n",
      "0  | cnn1                 | Conv2d      | 416   \n",
      "1  | batch_norm_a         | BatchNorm2d | 32    \n",
      "2  | funcion_activacion_a | ELU         | 0     \n",
      "3  | dropout_a            | Dropout     | 0     \n",
      "4  | pool1                | MaxPool2d   | 0     \n",
      "5  | cnn2                 | Conv2d      | 6.4 K \n",
      "6  | batch_norm_b         | BatchNorm2d | 32    \n",
      "7  | funcion_activacion_b | ReLU        | 0     \n",
      "8  | dropout_b            | Dropout     | 0     \n",
      "9  | cnn3                 | Conv2d      | 4.6 K \n",
      "10 | batch_norm_c         | BatchNorm2d | 64    \n",
      "11 | funcion_activacion_c | SELU        | 0     \n",
      "12 | dropout_c            | Dropout     | 0     \n",
      "13 | cnn4                 | Conv2d      | 9.2 K \n",
      "14 | batch_norm_d         | BatchNorm2d | 64    \n",
      "15 | funcion_activacion_d | ReLU        | 0     \n",
      "16 | dropout_d            | Dropout     | 0     \n",
      "17 | pool2                | AvgPool2d   | 0     \n",
      "18 | fc1                  | Linear      | 5.1 K \n",
      "------------------------------------------------------\n",
      "26.0 K    Trainable params\n",
      "0         Non-trainable params\n",
      "26.0 K    Total params\n",
      "0.104     Total estimated model params size (MB)\n"
     ]
    },
    {
     "data": {
      "application/vnd.jupyter.widget-view+json": {
       "model_id": "4c3c6d42155d436bb3ceb33f4672cd91",
       "version_major": 2,
       "version_minor": 0
      },
      "text/plain": [
       "Sanity Checking: 0it [00:00, ?it/s]"
      ]
     },
     "metadata": {},
     "output_type": "display_data"
    },
    {
     "data": {
      "application/vnd.jupyter.widget-view+json": {
       "model_id": "10643c95e3b649e8aec49d0da8f1a0f6",
       "version_major": 2,
       "version_minor": 0
      },
      "text/plain": [
       "Training: 0it [00:00, ?it/s]"
      ]
     },
     "metadata": {},
     "output_type": "display_data"
    },
    {
     "data": {
      "application/vnd.jupyter.widget-view+json": {
       "model_id": "d93382bee5db490ba28bdb3b53b3fe8f",
       "version_major": 2,
       "version_minor": 0
      },
      "text/plain": [
       "Validation: 0it [00:00, ?it/s]"
      ]
     },
     "metadata": {},
     "output_type": "display_data"
    },
    {
     "data": {
      "application/vnd.jupyter.widget-view+json": {
       "model_id": "a2c2305af1114a5d9e4a00d781a1bf61",
       "version_major": 2,
       "version_minor": 0
      },
      "text/plain": [
       "Validation: 0it [00:00, ?it/s]"
      ]
     },
     "metadata": {},
     "output_type": "display_data"
    },
    {
     "data": {
      "application/vnd.jupyter.widget-view+json": {
       "model_id": "272a50e5786c4226b08a39266390046d",
       "version_major": 2,
       "version_minor": 0
      },
      "text/plain": [
       "Validation: 0it [00:00, ?it/s]"
      ]
     },
     "metadata": {},
     "output_type": "display_data"
    },
    {
     "data": {
      "application/vnd.jupyter.widget-view+json": {
       "model_id": "8fc937dd72c34788baf9364697227dd7",
       "version_major": 2,
       "version_minor": 0
      },
      "text/plain": [
       "Validation: 0it [00:00, ?it/s]"
      ]
     },
     "metadata": {},
     "output_type": "display_data"
    },
    {
     "data": {
      "application/vnd.jupyter.widget-view+json": {
       "model_id": "4e3b737ff10f47329e4599519d7cde65",
       "version_major": 2,
       "version_minor": 0
      },
      "text/plain": [
       "Validation: 0it [00:00, ?it/s]"
      ]
     },
     "metadata": {},
     "output_type": "display_data"
    },
    {
     "name": "stderr",
     "output_type": "stream",
     "text": [
      "`Trainer.fit` stopped: `max_epochs=5` reached.\n",
      "Restoring states from the checkpoint path at c:\\Users\\w10\\Desktop\\BMA\\UPV\\tia\\algoritmos_geneticos\\notebooks\\lightning_logs\\version_638\\checkpoints\\epoch=4-step=150.ckpt\n",
      "Loaded model weights from the checkpoint at c:\\Users\\w10\\Desktop\\BMA\\UPV\\tia\\algoritmos_geneticos\\notebooks\\lightning_logs\\version_638\\checkpoints\\epoch=4-step=150.ckpt\n"
     ]
    },
    {
     "data": {
      "application/vnd.jupyter.widget-view+json": {
       "model_id": "d5886a311ddc4e11a958215cc911d6d1",
       "version_major": 2,
       "version_minor": 0
      },
      "text/plain": [
       "Testing: 0it [00:00, ?it/s]"
      ]
     },
     "metadata": {},
     "output_type": "display_data"
    },
    {
     "data": {
      "text/html": [
       "<pre style=\"white-space:pre;overflow-x:auto;line-height:normal;font-family:Menlo,'DejaVu Sans Mono',consolas,'Courier New',monospace\">┏━━━━━━━━━━━━━━━━━━━━━━━━━━━┳━━━━━━━━━━━━━━━━━━━━━━━━━━━┓\n",
       "┃<span style=\"font-weight: bold\">        Test metric        </span>┃<span style=\"font-weight: bold\">       DataLoader 0        </span>┃\n",
       "┡━━━━━━━━━━━━━━━━━━━━━━━━━━━╇━━━━━━━━━━━━━━━━━━━━━━━━━━━┩\n",
       "│<span style=\"color: #008080; text-decoration-color: #008080\">         test_loss         </span>│<span style=\"color: #800080; text-decoration-color: #800080\">    1.0960655212402344     </span>│\n",
       "└───────────────────────────┴───────────────────────────┘\n",
       "</pre>\n"
      ],
      "text/plain": [
       "┏━━━━━━━━━━━━━━━━━━━━━━━━━━━┳━━━━━━━━━━━━━━━━━━━━━━━━━━━┓\n",
       "┃\u001b[1m \u001b[0m\u001b[1m       Test metric       \u001b[0m\u001b[1m \u001b[0m┃\u001b[1m \u001b[0m\u001b[1m      DataLoader 0       \u001b[0m\u001b[1m \u001b[0m┃\n",
       "┡━━━━━━━━━━━━━━━━━━━━━━━━━━━╇━━━━━━━━━━━━━━━━━━━━━━━━━━━┩\n",
       "│\u001b[36m \u001b[0m\u001b[36m        test_loss        \u001b[0m\u001b[36m \u001b[0m│\u001b[35m \u001b[0m\u001b[35m   1.0960655212402344    \u001b[0m\u001b[35m \u001b[0m│\n",
       "└───────────────────────────┴───────────────────────────┘\n"
      ]
     },
     "metadata": {},
     "output_type": "display_data"
    },
    {
     "name": "stderr",
     "output_type": "stream",
     "text": [
      "GPU available: False, used: False\n",
      "TPU available: False, using: 0 TPU cores\n",
      "IPU available: False, using: 0 IPUs\n",
      "HPU available: False, using: 0 HPUs\n"
     ]
    },
    {
     "name": "stdout",
     "output_type": "stream",
     "text": [
      "[{'a_include_BN': False, 'a_include_bias': True, 'a_activation_type': ELU(alpha=1.0), 'a_dropout_range': 0.1, 'a_pool_type': MaxPool2d(kernel_size=2, stride=2, padding=0, dilation=1, ceil_mode=False), 'b_include_BN': False, 'b_include_bias': True, 'b_activation_type': ReLU(), 'b_dropout_range': 0.1, 'c_include_BN': True, 'c_include_bias': True, 'c_activation_type': SELU(), 'c_dropout_range': 0.2, 'd_include_BN': False, 'd_include_bias': False, 'd_activation_type': ReLU(), 'd_dropout_range': 0.2, 'b_pool_type': AvgPool2d(kernel_size=1, stride=1, padding=0), 'learning_rate': 0.1}, MyModel(\n",
      "  (cnn1): Conv2d(1, 16, kernel_size=(5, 5), stride=(1, 1))\n",
      "  (batch_norm_a): BatchNorm2d(16, eps=1e-05, momentum=0.1, affine=True, track_running_stats=True)\n",
      "  (funcion_activacion_a): ELU(alpha=1.0)\n",
      "  (dropout_a): Dropout(p=0.1, inplace=False)\n",
      "  (pool1): MaxPool2d(kernel_size=2, stride=2, padding=0, dilation=1, ceil_mode=False)\n",
      "  (cnn2): Conv2d(16, 16, kernel_size=(5, 5), stride=(1, 1))\n",
      "  (batch_norm_b): BatchNorm2d(16, eps=1e-05, momentum=0.1, affine=True, track_running_stats=True)\n",
      "  (funcion_activacion_b): ReLU()\n",
      "  (dropout_b): Dropout(p=0.1, inplace=False)\n",
      "  (cnn3): Conv2d(16, 32, kernel_size=(3, 3), stride=(1, 1))\n",
      "  (batch_norm_c): BatchNorm2d(32, eps=1e-05, momentum=0.1, affine=True, track_running_stats=True)\n",
      "  (funcion_activacion_c): SELU()\n",
      "  (dropout_c): Dropout(p=0.2, inplace=False)\n",
      "  (cnn4): Conv2d(32, 32, kernel_size=(3, 3), stride=(1, 1), bias=False)\n",
      "  (batch_norm_d): BatchNorm2d(32, eps=1e-05, momentum=0.1, affine=True, track_running_stats=True)\n",
      "  (funcion_activacion_d): ReLU()\n",
      "  (dropout_d): Dropout(p=0.2, inplace=False)\n",
      "  (pool2): AvgPool2d(kernel_size=1, stride=1, padding=0)\n",
      "  (fc1): Linear(in_features=512, out_features=10, bias=True)\n",
      "), 1.0318902730941772]\n",
      "{'test_loss': 1.0960655212402344} 1.0318902730941772\n",
      "66.34204312890623\n"
     ]
    },
    {
     "name": "stderr",
     "output_type": "stream",
     "text": [
      "\n",
      "   | Name                 | Type        | Params\n",
      "------------------------------------------------------\n",
      "0  | cnn1                 | Conv2d      | 416   \n",
      "1  | batch_norm_a         | BatchNorm2d | 32    \n",
      "2  | funcion_activacion_a | ELU         | 0     \n",
      "3  | dropout_a            | Dropout     | 0     \n",
      "4  | pool1                | MaxPool2d   | 0     \n",
      "5  | cnn2                 | Conv2d      | 6.4 K \n",
      "6  | batch_norm_b         | BatchNorm2d | 32    \n",
      "7  | funcion_activacion_b | ReLU        | 0     \n",
      "8  | dropout_b            | Dropout     | 0     \n",
      "9  | cnn3                 | Conv2d      | 4.6 K \n",
      "10 | batch_norm_c         | BatchNorm2d | 64    \n",
      "11 | funcion_activacion_c | SELU        | 0     \n",
      "12 | dropout_c            | Dropout     | 0     \n",
      "13 | cnn4                 | Conv2d      | 9.2 K \n",
      "14 | batch_norm_d         | BatchNorm2d | 64    \n",
      "15 | funcion_activacion_d | ReLU        | 0     \n",
      "16 | dropout_d            | Dropout     | 0     \n",
      "17 | pool2                | AvgPool2d   | 0     \n",
      "18 | fc1                  | Linear      | 5.1 K \n",
      "------------------------------------------------------\n",
      "26.0 K    Trainable params\n",
      "0         Non-trainable params\n",
      "26.0 K    Total params\n",
      "0.104     Total estimated model params size (MB)\n"
     ]
    },
    {
     "data": {
      "application/vnd.jupyter.widget-view+json": {
       "model_id": "37c70e848093406da307882c0f7ee884",
       "version_major": 2,
       "version_minor": 0
      },
      "text/plain": [
       "Sanity Checking: 0it [00:00, ?it/s]"
      ]
     },
     "metadata": {},
     "output_type": "display_data"
    },
    {
     "data": {
      "application/vnd.jupyter.widget-view+json": {
       "model_id": "7c8dfe4c33a1404d9e289fde28a0ff04",
       "version_major": 2,
       "version_minor": 0
      },
      "text/plain": [
       "Training: 0it [00:00, ?it/s]"
      ]
     },
     "metadata": {},
     "output_type": "display_data"
    },
    {
     "data": {
      "application/vnd.jupyter.widget-view+json": {
       "model_id": "ecb6c84d14b24ac2ba46e49e9877d5c8",
       "version_major": 2,
       "version_minor": 0
      },
      "text/plain": [
       "Validation: 0it [00:00, ?it/s]"
      ]
     },
     "metadata": {},
     "output_type": "display_data"
    },
    {
     "data": {
      "application/vnd.jupyter.widget-view+json": {
       "model_id": "a8838b1574794c4fa2ecb844a9134362",
       "version_major": 2,
       "version_minor": 0
      },
      "text/plain": [
       "Validation: 0it [00:00, ?it/s]"
      ]
     },
     "metadata": {},
     "output_type": "display_data"
    },
    {
     "data": {
      "application/vnd.jupyter.widget-view+json": {
       "model_id": "78ca1631a5e342af8c4a94964df7a194",
       "version_major": 2,
       "version_minor": 0
      },
      "text/plain": [
       "Validation: 0it [00:00, ?it/s]"
      ]
     },
     "metadata": {},
     "output_type": "display_data"
    },
    {
     "data": {
      "application/vnd.jupyter.widget-view+json": {
       "model_id": "a1c28b4c303f433cafba4089fe15aace",
       "version_major": 2,
       "version_minor": 0
      },
      "text/plain": [
       "Validation: 0it [00:00, ?it/s]"
      ]
     },
     "metadata": {},
     "output_type": "display_data"
    },
    {
     "data": {
      "application/vnd.jupyter.widget-view+json": {
       "model_id": "019b3908604348ffa234708fabb11faa",
       "version_major": 2,
       "version_minor": 0
      },
      "text/plain": [
       "Validation: 0it [00:00, ?it/s]"
      ]
     },
     "metadata": {},
     "output_type": "display_data"
    },
    {
     "name": "stderr",
     "output_type": "stream",
     "text": [
      "`Trainer.fit` stopped: `max_epochs=5` reached.\n",
      "Restoring states from the checkpoint path at c:\\Users\\w10\\Desktop\\BMA\\UPV\\tia\\algoritmos_geneticos\\notebooks\\lightning_logs\\version_639\\checkpoints\\epoch=4-step=150.ckpt\n",
      "Loaded model weights from the checkpoint at c:\\Users\\w10\\Desktop\\BMA\\UPV\\tia\\algoritmos_geneticos\\notebooks\\lightning_logs\\version_639\\checkpoints\\epoch=4-step=150.ckpt\n"
     ]
    },
    {
     "data": {
      "application/vnd.jupyter.widget-view+json": {
       "model_id": "bb98f75034b2461e85e851daa9e23678",
       "version_major": 2,
       "version_minor": 0
      },
      "text/plain": [
       "Testing: 0it [00:00, ?it/s]"
      ]
     },
     "metadata": {},
     "output_type": "display_data"
    },
    {
     "data": {
      "text/html": [
       "<pre style=\"white-space:pre;overflow-x:auto;line-height:normal;font-family:Menlo,'DejaVu Sans Mono',consolas,'Courier New',monospace\">┏━━━━━━━━━━━━━━━━━━━━━━━━━━━┳━━━━━━━━━━━━━━━━━━━━━━━━━━━┓\n",
       "┃<span style=\"font-weight: bold\">        Test metric        </span>┃<span style=\"font-weight: bold\">       DataLoader 0        </span>┃\n",
       "┡━━━━━━━━━━━━━━━━━━━━━━━━━━━╇━━━━━━━━━━━━━━━━━━━━━━━━━━━┩\n",
       "│<span style=\"color: #008080; text-decoration-color: #008080\">         test_loss         </span>│<span style=\"color: #800080; text-decoration-color: #800080\">     1.341272234916687     </span>│\n",
       "└───────────────────────────┴───────────────────────────┘\n",
       "</pre>\n"
      ],
      "text/plain": [
       "┏━━━━━━━━━━━━━━━━━━━━━━━━━━━┳━━━━━━━━━━━━━━━━━━━━━━━━━━━┓\n",
       "┃\u001b[1m \u001b[0m\u001b[1m       Test metric       \u001b[0m\u001b[1m \u001b[0m┃\u001b[1m \u001b[0m\u001b[1m      DataLoader 0       \u001b[0m\u001b[1m \u001b[0m┃\n",
       "┡━━━━━━━━━━━━━━━━━━━━━━━━━━━╇━━━━━━━━━━━━━━━━━━━━━━━━━━━┩\n",
       "│\u001b[36m \u001b[0m\u001b[36m        test_loss        \u001b[0m\u001b[36m \u001b[0m│\u001b[35m \u001b[0m\u001b[35m    1.341272234916687    \u001b[0m\u001b[35m \u001b[0m│\n",
       "└───────────────────────────┴───────────────────────────┘\n"
      ]
     },
     "metadata": {},
     "output_type": "display_data"
    },
    {
     "name": "stderr",
     "output_type": "stream",
     "text": [
      "GPU available: False, used: False\n",
      "TPU available: False, using: 0 TPU cores\n",
      "IPU available: False, using: 0 IPUs\n",
      "HPU available: False, using: 0 HPUs\n"
     ]
    },
    {
     "name": "stdout",
     "output_type": "stream",
     "text": [
      "[{'a_include_BN': False, 'a_include_bias': True, 'a_activation_type': ELU(alpha=1.0), 'a_dropout_range': 0.1, 'a_pool_type': MaxPool2d(kernel_size=2, stride=2, padding=0, dilation=1, ceil_mode=False), 'b_include_BN': False, 'b_include_bias': True, 'b_activation_type': ReLU(), 'b_dropout_range': 0.1, 'c_include_BN': True, 'c_include_bias': True, 'c_activation_type': SELU(), 'c_dropout_range': 0.2, 'd_include_BN': False, 'd_include_bias': False, 'd_activation_type': ReLU(), 'd_dropout_range': 0.2, 'b_pool_type': AvgPool2d(kernel_size=1, stride=1, padding=0), 'learning_rate': 0.1}, MyModel(\n",
      "  (cnn1): Conv2d(1, 16, kernel_size=(5, 5), stride=(1, 1))\n",
      "  (batch_norm_a): BatchNorm2d(16, eps=1e-05, momentum=0.1, affine=True, track_running_stats=True)\n",
      "  (funcion_activacion_a): ELU(alpha=1.0)\n",
      "  (dropout_a): Dropout(p=0.1, inplace=False)\n",
      "  (pool1): MaxPool2d(kernel_size=2, stride=2, padding=0, dilation=1, ceil_mode=False)\n",
      "  (cnn2): Conv2d(16, 16, kernel_size=(5, 5), stride=(1, 1))\n",
      "  (batch_norm_b): BatchNorm2d(16, eps=1e-05, momentum=0.1, affine=True, track_running_stats=True)\n",
      "  (funcion_activacion_b): ReLU()\n",
      "  (dropout_b): Dropout(p=0.1, inplace=False)\n",
      "  (cnn3): Conv2d(16, 32, kernel_size=(3, 3), stride=(1, 1))\n",
      "  (batch_norm_c): BatchNorm2d(32, eps=1e-05, momentum=0.1, affine=True, track_running_stats=True)\n",
      "  (funcion_activacion_c): SELU()\n",
      "  (dropout_c): Dropout(p=0.2, inplace=False)\n",
      "  (cnn4): Conv2d(32, 32, kernel_size=(3, 3), stride=(1, 1), bias=False)\n",
      "  (batch_norm_d): BatchNorm2d(32, eps=1e-05, momentum=0.1, affine=True, track_running_stats=True)\n",
      "  (funcion_activacion_d): ReLU()\n",
      "  (dropout_d): Dropout(p=0.2, inplace=False)\n",
      "  (pool2): AvgPool2d(kernel_size=1, stride=1, padding=0)\n",
      "  (fc1): Linear(in_features=512, out_features=10, bias=True)\n",
      "), 1.0318902730941772]\n",
      "{'test_loss': 1.341272234916687} 1.0318902730941772\n",
      "63.02494097246091\n"
     ]
    },
    {
     "name": "stderr",
     "output_type": "stream",
     "text": [
      "\n",
      "   | Name                 | Type        | Params\n",
      "------------------------------------------------------\n",
      "0  | cnn1                 | Conv2d      | 416   \n",
      "1  | batch_norm_a         | BatchNorm2d | 32    \n",
      "2  | funcion_activacion_a | ELU         | 0     \n",
      "3  | dropout_a            | Dropout     | 0     \n",
      "4  | pool1                | MaxPool2d   | 0     \n",
      "5  | cnn2                 | Conv2d      | 6.4 K \n",
      "6  | batch_norm_b         | BatchNorm2d | 32    \n",
      "7  | funcion_activacion_b | ReLU        | 0     \n",
      "8  | dropout_b            | Dropout     | 0     \n",
      "9  | cnn3                 | Conv2d      | 4.6 K \n",
      "10 | batch_norm_c         | BatchNorm2d | 64    \n",
      "11 | funcion_activacion_c | SELU        | 0     \n",
      "12 | dropout_c            | Dropout     | 0     \n",
      "13 | cnn4                 | Conv2d      | 9.2 K \n",
      "14 | batch_norm_d         | BatchNorm2d | 64    \n",
      "15 | funcion_activacion_d | ReLU        | 0     \n",
      "16 | dropout_d            | Dropout     | 0     \n",
      "17 | pool2                | AvgPool2d   | 0     \n",
      "18 | fc1                  | Linear      | 5.1 K \n",
      "------------------------------------------------------\n",
      "26.0 K    Trainable params\n",
      "0         Non-trainable params\n",
      "26.0 K    Total params\n",
      "0.104     Total estimated model params size (MB)\n"
     ]
    },
    {
     "data": {
      "application/vnd.jupyter.widget-view+json": {
       "model_id": "eb950af7c58a4d1da07a5da95acc23ec",
       "version_major": 2,
       "version_minor": 0
      },
      "text/plain": [
       "Sanity Checking: 0it [00:00, ?it/s]"
      ]
     },
     "metadata": {},
     "output_type": "display_data"
    },
    {
     "data": {
      "application/vnd.jupyter.widget-view+json": {
       "model_id": "ee41f8ce8ed948ce9c4956a437e0ed20",
       "version_major": 2,
       "version_minor": 0
      },
      "text/plain": [
       "Training: 0it [00:00, ?it/s]"
      ]
     },
     "metadata": {},
     "output_type": "display_data"
    },
    {
     "data": {
      "application/vnd.jupyter.widget-view+json": {
       "model_id": "b65c715f88dd488db57936385645da35",
       "version_major": 2,
       "version_minor": 0
      },
      "text/plain": [
       "Validation: 0it [00:00, ?it/s]"
      ]
     },
     "metadata": {},
     "output_type": "display_data"
    },
    {
     "data": {
      "application/vnd.jupyter.widget-view+json": {
       "model_id": "50e73629d301422d82f3f7c7125a313b",
       "version_major": 2,
       "version_minor": 0
      },
      "text/plain": [
       "Validation: 0it [00:00, ?it/s]"
      ]
     },
     "metadata": {},
     "output_type": "display_data"
    },
    {
     "data": {
      "application/vnd.jupyter.widget-view+json": {
       "model_id": "9fe1c237e15549ac93e39c62ca384434",
       "version_major": 2,
       "version_minor": 0
      },
      "text/plain": [
       "Validation: 0it [00:00, ?it/s]"
      ]
     },
     "metadata": {},
     "output_type": "display_data"
    },
    {
     "data": {
      "application/vnd.jupyter.widget-view+json": {
       "model_id": "28219487ea654b3d88f84b5dc45a20b9",
       "version_major": 2,
       "version_minor": 0
      },
      "text/plain": [
       "Validation: 0it [00:00, ?it/s]"
      ]
     },
     "metadata": {},
     "output_type": "display_data"
    },
    {
     "data": {
      "application/vnd.jupyter.widget-view+json": {
       "model_id": "1eb098a6052f499da1f2f311557f0959",
       "version_major": 2,
       "version_minor": 0
      },
      "text/plain": [
       "Validation: 0it [00:00, ?it/s]"
      ]
     },
     "metadata": {},
     "output_type": "display_data"
    },
    {
     "name": "stderr",
     "output_type": "stream",
     "text": [
      "`Trainer.fit` stopped: `max_epochs=5` reached.\n",
      "Restoring states from the checkpoint path at c:\\Users\\w10\\Desktop\\BMA\\UPV\\tia\\algoritmos_geneticos\\notebooks\\lightning_logs\\version_640\\checkpoints\\epoch=4-step=150.ckpt\n",
      "Loaded model weights from the checkpoint at c:\\Users\\w10\\Desktop\\BMA\\UPV\\tia\\algoritmos_geneticos\\notebooks\\lightning_logs\\version_640\\checkpoints\\epoch=4-step=150.ckpt\n"
     ]
    },
    {
     "data": {
      "application/vnd.jupyter.widget-view+json": {
       "model_id": "802d0eb871a048648e182ee3838aefab",
       "version_major": 2,
       "version_minor": 0
      },
      "text/plain": [
       "Testing: 0it [00:00, ?it/s]"
      ]
     },
     "metadata": {},
     "output_type": "display_data"
    },
    {
     "data": {
      "text/html": [
       "<pre style=\"white-space:pre;overflow-x:auto;line-height:normal;font-family:Menlo,'DejaVu Sans Mono',consolas,'Courier New',monospace\">┏━━━━━━━━━━━━━━━━━━━━━━━━━━━┳━━━━━━━━━━━━━━━━━━━━━━━━━━━┓\n",
       "┃<span style=\"font-weight: bold\">        Test metric        </span>┃<span style=\"font-weight: bold\">       DataLoader 0        </span>┃\n",
       "┡━━━━━━━━━━━━━━━━━━━━━━━━━━━╇━━━━━━━━━━━━━━━━━━━━━━━━━━━┩\n",
       "│<span style=\"color: #008080; text-decoration-color: #008080\">         test_loss         </span>│<span style=\"color: #800080; text-decoration-color: #800080\">    0.9898402690887451     </span>│\n",
       "└───────────────────────────┴───────────────────────────┘\n",
       "</pre>\n"
      ],
      "text/plain": [
       "┏━━━━━━━━━━━━━━━━━━━━━━━━━━━┳━━━━━━━━━━━━━━━━━━━━━━━━━━━┓\n",
       "┃\u001b[1m \u001b[0m\u001b[1m       Test metric       \u001b[0m\u001b[1m \u001b[0m┃\u001b[1m \u001b[0m\u001b[1m      DataLoader 0       \u001b[0m\u001b[1m \u001b[0m┃\n",
       "┡━━━━━━━━━━━━━━━━━━━━━━━━━━━╇━━━━━━━━━━━━━━━━━━━━━━━━━━━┩\n",
       "│\u001b[36m \u001b[0m\u001b[36m        test_loss        \u001b[0m\u001b[36m \u001b[0m│\u001b[35m \u001b[0m\u001b[35m   0.9898402690887451    \u001b[0m\u001b[35m \u001b[0m│\n",
       "└───────────────────────────┴───────────────────────────┘\n"
      ]
     },
     "metadata": {},
     "output_type": "display_data"
    },
    {
     "name": "stderr",
     "output_type": "stream",
     "text": [
      "GPU available: False, used: False\n",
      "TPU available: False, using: 0 TPU cores\n",
      "IPU available: False, using: 0 IPUs\n",
      "HPU available: False, using: 0 HPUs\n"
     ]
    },
    {
     "name": "stdout",
     "output_type": "stream",
     "text": [
      "[{'a_include_BN': False, 'a_include_bias': True, 'a_activation_type': ELU(alpha=1.0), 'a_dropout_range': 0.1, 'a_pool_type': MaxPool2d(kernel_size=2, stride=2, padding=0, dilation=1, ceil_mode=False), 'b_include_BN': False, 'b_include_bias': True, 'b_activation_type': ReLU(), 'b_dropout_range': 0.1, 'c_include_BN': True, 'c_include_bias': True, 'c_activation_type': SELU(), 'c_dropout_range': 0.2, 'd_include_BN': False, 'd_include_bias': False, 'd_activation_type': ReLU(), 'd_dropout_range': 0.2, 'b_pool_type': AvgPool2d(kernel_size=1, stride=1, padding=0), 'learning_rate': 0.1}, MyModel(\n",
      "  (cnn1): Conv2d(1, 16, kernel_size=(5, 5), stride=(1, 1))\n",
      "  (batch_norm_a): BatchNorm2d(16, eps=1e-05, momentum=0.1, affine=True, track_running_stats=True)\n",
      "  (funcion_activacion_a): ELU(alpha=1.0)\n",
      "  (dropout_a): Dropout(p=0.1, inplace=False)\n",
      "  (pool1): MaxPool2d(kernel_size=2, stride=2, padding=0, dilation=1, ceil_mode=False)\n",
      "  (cnn2): Conv2d(16, 16, kernel_size=(5, 5), stride=(1, 1))\n",
      "  (batch_norm_b): BatchNorm2d(16, eps=1e-05, momentum=0.1, affine=True, track_running_stats=True)\n",
      "  (funcion_activacion_b): ReLU()\n",
      "  (dropout_b): Dropout(p=0.1, inplace=False)\n",
      "  (cnn3): Conv2d(16, 32, kernel_size=(3, 3), stride=(1, 1))\n",
      "  (batch_norm_c): BatchNorm2d(32, eps=1e-05, momentum=0.1, affine=True, track_running_stats=True)\n",
      "  (funcion_activacion_c): SELU()\n",
      "  (dropout_c): Dropout(p=0.2, inplace=False)\n",
      "  (cnn4): Conv2d(32, 32, kernel_size=(3, 3), stride=(1, 1), bias=False)\n",
      "  (batch_norm_d): BatchNorm2d(32, eps=1e-05, momentum=0.1, affine=True, track_running_stats=True)\n",
      "  (funcion_activacion_d): ReLU()\n",
      "  (dropout_d): Dropout(p=0.2, inplace=False)\n",
      "  (pool2): AvgPool2d(kernel_size=1, stride=1, padding=0)\n",
      "  (fc1): Linear(in_features=512, out_features=10, bias=True)\n",
      "), 1.341272234916687]\n",
      "{'test_loss': 0.9898402690887451} 1.341272234916687\n",
      "59.87369392383786\n"
     ]
    },
    {
     "name": "stderr",
     "output_type": "stream",
     "text": [
      "\n",
      "   | Name                 | Type        | Params\n",
      "------------------------------------------------------\n",
      "0  | cnn1                 | Conv2d      | 416   \n",
      "1  | batch_norm_a         | BatchNorm2d | 32    \n",
      "2  | funcion_activacion_a | ELU         | 0     \n",
      "3  | dropout_a            | Dropout     | 0     \n",
      "4  | pool1                | MaxPool2d   | 0     \n",
      "5  | cnn2                 | Conv2d      | 6.4 K \n",
      "6  | batch_norm_b         | BatchNorm2d | 32    \n",
      "7  | funcion_activacion_b | ReLU        | 0     \n",
      "8  | dropout_b            | Dropout     | 0     \n",
      "9  | cnn3                 | Conv2d      | 4.6 K \n",
      "10 | batch_norm_c         | BatchNorm2d | 64    \n",
      "11 | funcion_activacion_c | SELU        | 0     \n",
      "12 | dropout_c            | Dropout     | 0     \n",
      "13 | cnn4                 | Conv2d      | 9.2 K \n",
      "14 | batch_norm_d         | BatchNorm2d | 64    \n",
      "15 | funcion_activacion_d | ReLU        | 0     \n",
      "16 | dropout_d            | Dropout     | 0     \n",
      "17 | pool2                | AvgPool2d   | 0     \n",
      "18 | fc1                  | Linear      | 5.1 K \n",
      "------------------------------------------------------\n",
      "26.0 K    Trainable params\n",
      "0         Non-trainable params\n",
      "26.0 K    Total params\n",
      "0.104     Total estimated model params size (MB)\n"
     ]
    },
    {
     "data": {
      "application/vnd.jupyter.widget-view+json": {
       "model_id": "78fdae57cba34761a080b77b9dda90d4",
       "version_major": 2,
       "version_minor": 0
      },
      "text/plain": [
       "Sanity Checking: 0it [00:00, ?it/s]"
      ]
     },
     "metadata": {},
     "output_type": "display_data"
    },
    {
     "data": {
      "application/vnd.jupyter.widget-view+json": {
       "model_id": "a194b3a5101f4abdaab106d1bdccf397",
       "version_major": 2,
       "version_minor": 0
      },
      "text/plain": [
       "Training: 0it [00:00, ?it/s]"
      ]
     },
     "metadata": {},
     "output_type": "display_data"
    },
    {
     "data": {
      "application/vnd.jupyter.widget-view+json": {
       "model_id": "adc988c476154ae7b0e49a3e9d301be1",
       "version_major": 2,
       "version_minor": 0
      },
      "text/plain": [
       "Validation: 0it [00:00, ?it/s]"
      ]
     },
     "metadata": {},
     "output_type": "display_data"
    },
    {
     "data": {
      "application/vnd.jupyter.widget-view+json": {
       "model_id": "1302bffaea28433d8b33545fea95ecf5",
       "version_major": 2,
       "version_minor": 0
      },
      "text/plain": [
       "Validation: 0it [00:00, ?it/s]"
      ]
     },
     "metadata": {},
     "output_type": "display_data"
    },
    {
     "data": {
      "application/vnd.jupyter.widget-view+json": {
       "model_id": "cbccd1ad35394099974bc07d0300d374",
       "version_major": 2,
       "version_minor": 0
      },
      "text/plain": [
       "Validation: 0it [00:00, ?it/s]"
      ]
     },
     "metadata": {},
     "output_type": "display_data"
    },
    {
     "data": {
      "application/vnd.jupyter.widget-view+json": {
       "model_id": "f4a39b8857b04c37b57a68657fb34282",
       "version_major": 2,
       "version_minor": 0
      },
      "text/plain": [
       "Validation: 0it [00:00, ?it/s]"
      ]
     },
     "metadata": {},
     "output_type": "display_data"
    },
    {
     "data": {
      "application/vnd.jupyter.widget-view+json": {
       "model_id": "9a2d48b70563425d98c65f8b0d32a7f9",
       "version_major": 2,
       "version_minor": 0
      },
      "text/plain": [
       "Validation: 0it [00:00, ?it/s]"
      ]
     },
     "metadata": {},
     "output_type": "display_data"
    },
    {
     "name": "stderr",
     "output_type": "stream",
     "text": [
      "`Trainer.fit` stopped: `max_epochs=5` reached.\n",
      "Restoring states from the checkpoint path at c:\\Users\\w10\\Desktop\\BMA\\UPV\\tia\\algoritmos_geneticos\\notebooks\\lightning_logs\\version_641\\checkpoints\\epoch=4-step=150.ckpt\n",
      "Loaded model weights from the checkpoint at c:\\Users\\w10\\Desktop\\BMA\\UPV\\tia\\algoritmos_geneticos\\notebooks\\lightning_logs\\version_641\\checkpoints\\epoch=4-step=150.ckpt\n"
     ]
    },
    {
     "data": {
      "application/vnd.jupyter.widget-view+json": {
       "model_id": "f17aae579c8b49e7884ca47f4b105ce7",
       "version_major": 2,
       "version_minor": 0
      },
      "text/plain": [
       "Testing: 0it [00:00, ?it/s]"
      ]
     },
     "metadata": {},
     "output_type": "display_data"
    },
    {
     "data": {
      "text/html": [
       "<pre style=\"white-space:pre;overflow-x:auto;line-height:normal;font-family:Menlo,'DejaVu Sans Mono',consolas,'Courier New',monospace\">┏━━━━━━━━━━━━━━━━━━━━━━━━━━━┳━━━━━━━━━━━━━━━━━━━━━━━━━━━┓\n",
       "┃<span style=\"font-weight: bold\">        Test metric        </span>┃<span style=\"font-weight: bold\">       DataLoader 0        </span>┃\n",
       "┡━━━━━━━━━━━━━━━━━━━━━━━━━━━╇━━━━━━━━━━━━━━━━━━━━━━━━━━━┩\n",
       "│<span style=\"color: #008080; text-decoration-color: #008080\">         test_loss         </span>│<span style=\"color: #800080; text-decoration-color: #800080\">    0.9086706638336182     </span>│\n",
       "└───────────────────────────┴───────────────────────────┘\n",
       "</pre>\n"
      ],
      "text/plain": [
       "┏━━━━━━━━━━━━━━━━━━━━━━━━━━━┳━━━━━━━━━━━━━━━━━━━━━━━━━━━┓\n",
       "┃\u001b[1m \u001b[0m\u001b[1m       Test metric       \u001b[0m\u001b[1m \u001b[0m┃\u001b[1m \u001b[0m\u001b[1m      DataLoader 0       \u001b[0m\u001b[1m \u001b[0m┃\n",
       "┡━━━━━━━━━━━━━━━━━━━━━━━━━━━╇━━━━━━━━━━━━━━━━━━━━━━━━━━━┩\n",
       "│\u001b[36m \u001b[0m\u001b[36m        test_loss        \u001b[0m\u001b[36m \u001b[0m│\u001b[35m \u001b[0m\u001b[35m   0.9086706638336182    \u001b[0m\u001b[35m \u001b[0m│\n",
       "└───────────────────────────┴───────────────────────────┘\n"
      ]
     },
     "metadata": {},
     "output_type": "display_data"
    },
    {
     "name": "stderr",
     "output_type": "stream",
     "text": [
      "GPU available: False, used: False\n",
      "TPU available: False, using: 0 TPU cores\n",
      "IPU available: False, using: 0 IPUs\n",
      "HPU available: False, using: 0 HPUs\n"
     ]
    },
    {
     "name": "stdout",
     "output_type": "stream",
     "text": [
      "[{'a_include_BN': False, 'a_include_bias': True, 'a_activation_type': ELU(alpha=1.0), 'a_dropout_range': 0.1, 'a_pool_type': MaxPool2d(kernel_size=2, stride=2, padding=0, dilation=1, ceil_mode=False), 'b_include_BN': False, 'b_include_bias': True, 'b_activation_type': ReLU(), 'b_dropout_range': 0.1, 'c_include_BN': True, 'c_include_bias': True, 'c_activation_type': SELU(), 'c_dropout_range': 0.2, 'd_include_BN': False, 'd_include_bias': False, 'd_activation_type': ReLU(), 'd_dropout_range': 0.2, 'b_pool_type': AvgPool2d(kernel_size=1, stride=1, padding=0), 'learning_rate': 0.1}, MyModel(\n",
      "  (cnn1): Conv2d(1, 16, kernel_size=(5, 5), stride=(1, 1))\n",
      "  (batch_norm_a): BatchNorm2d(16, eps=1e-05, momentum=0.1, affine=True, track_running_stats=True)\n",
      "  (funcion_activacion_a): ELU(alpha=1.0)\n",
      "  (dropout_a): Dropout(p=0.1, inplace=False)\n",
      "  (pool1): MaxPool2d(kernel_size=2, stride=2, padding=0, dilation=1, ceil_mode=False)\n",
      "  (cnn2): Conv2d(16, 16, kernel_size=(5, 5), stride=(1, 1))\n",
      "  (batch_norm_b): BatchNorm2d(16, eps=1e-05, momentum=0.1, affine=True, track_running_stats=True)\n",
      "  (funcion_activacion_b): ReLU()\n",
      "  (dropout_b): Dropout(p=0.1, inplace=False)\n",
      "  (cnn3): Conv2d(16, 32, kernel_size=(3, 3), stride=(1, 1))\n",
      "  (batch_norm_c): BatchNorm2d(32, eps=1e-05, momentum=0.1, affine=True, track_running_stats=True)\n",
      "  (funcion_activacion_c): SELU()\n",
      "  (dropout_c): Dropout(p=0.2, inplace=False)\n",
      "  (cnn4): Conv2d(32, 32, kernel_size=(3, 3), stride=(1, 1), bias=False)\n",
      "  (batch_norm_d): BatchNorm2d(32, eps=1e-05, momentum=0.1, affine=True, track_running_stats=True)\n",
      "  (funcion_activacion_d): ReLU()\n",
      "  (dropout_d): Dropout(p=0.2, inplace=False)\n",
      "  (pool2): AvgPool2d(kernel_size=1, stride=1, padding=0)\n",
      "  (fc1): Linear(in_features=512, out_features=10, bias=True)\n",
      "), 0.9898402690887451]\n",
      "{'test_loss': 0.9086706638336182} 0.9898402690887451\n",
      "56.880009227645964\n"
     ]
    },
    {
     "name": "stderr",
     "output_type": "stream",
     "text": [
      "\n",
      "   | Name                 | Type        | Params\n",
      "------------------------------------------------------\n",
      "0  | cnn1                 | Conv2d      | 416   \n",
      "1  | batch_norm_a         | BatchNorm2d | 32    \n",
      "2  | funcion_activacion_a | ELU         | 0     \n",
      "3  | dropout_a            | Dropout     | 0     \n",
      "4  | pool1                | MaxPool2d   | 0     \n",
      "5  | cnn2                 | Conv2d      | 6.4 K \n",
      "6  | batch_norm_b         | BatchNorm2d | 32    \n",
      "7  | funcion_activacion_b | ReLU        | 0     \n",
      "8  | dropout_b            | Dropout     | 0     \n",
      "9  | cnn3                 | Conv2d      | 4.6 K \n",
      "10 | batch_norm_c         | BatchNorm2d | 64    \n",
      "11 | funcion_activacion_c | SELU        | 0     \n",
      "12 | dropout_c            | Dropout     | 0     \n",
      "13 | cnn4                 | Conv2d      | 9.2 K \n",
      "14 | batch_norm_d         | BatchNorm2d | 64    \n",
      "15 | funcion_activacion_d | ReLU        | 0     \n",
      "16 | dropout_d            | Dropout     | 0     \n",
      "17 | pool2                | AvgPool2d   | 0     \n",
      "18 | fc1                  | Linear      | 5.1 K \n",
      "------------------------------------------------------\n",
      "26.0 K    Trainable params\n",
      "0         Non-trainable params\n",
      "26.0 K    Total params\n",
      "0.104     Total estimated model params size (MB)\n"
     ]
    },
    {
     "data": {
      "application/vnd.jupyter.widget-view+json": {
       "model_id": "d46e50156264484ebe25c709fb065f28",
       "version_major": 2,
       "version_minor": 0
      },
      "text/plain": [
       "Sanity Checking: 0it [00:00, ?it/s]"
      ]
     },
     "metadata": {},
     "output_type": "display_data"
    },
    {
     "data": {
      "application/vnd.jupyter.widget-view+json": {
       "model_id": "2f0562316be648c4acc74fcb7691871f",
       "version_major": 2,
       "version_minor": 0
      },
      "text/plain": [
       "Training: 0it [00:00, ?it/s]"
      ]
     },
     "metadata": {},
     "output_type": "display_data"
    },
    {
     "data": {
      "application/vnd.jupyter.widget-view+json": {
       "model_id": "8fa3170a659a4e988f1634ccb6e280d1",
       "version_major": 2,
       "version_minor": 0
      },
      "text/plain": [
       "Validation: 0it [00:00, ?it/s]"
      ]
     },
     "metadata": {},
     "output_type": "display_data"
    },
    {
     "data": {
      "application/vnd.jupyter.widget-view+json": {
       "model_id": "bb1d6e9cb4134bf6acc8e4b2980187d8",
       "version_major": 2,
       "version_minor": 0
      },
      "text/plain": [
       "Validation: 0it [00:00, ?it/s]"
      ]
     },
     "metadata": {},
     "output_type": "display_data"
    },
    {
     "data": {
      "application/vnd.jupyter.widget-view+json": {
       "model_id": "882bb0fa82bd415cbb3d07bc09ab7b8c",
       "version_major": 2,
       "version_minor": 0
      },
      "text/plain": [
       "Validation: 0it [00:00, ?it/s]"
      ]
     },
     "metadata": {},
     "output_type": "display_data"
    },
    {
     "data": {
      "application/vnd.jupyter.widget-view+json": {
       "model_id": "35e5a3207f804115b7a9ac73312c2145",
       "version_major": 2,
       "version_minor": 0
      },
      "text/plain": [
       "Validation: 0it [00:00, ?it/s]"
      ]
     },
     "metadata": {},
     "output_type": "display_data"
    },
    {
     "data": {
      "application/vnd.jupyter.widget-view+json": {
       "model_id": "05581f35a06d4260a89d4247a38fee69",
       "version_major": 2,
       "version_minor": 0
      },
      "text/plain": [
       "Validation: 0it [00:00, ?it/s]"
      ]
     },
     "metadata": {},
     "output_type": "display_data"
    },
    {
     "name": "stderr",
     "output_type": "stream",
     "text": [
      "`Trainer.fit` stopped: `max_epochs=5` reached.\n",
      "Restoring states from the checkpoint path at c:\\Users\\w10\\Desktop\\BMA\\UPV\\tia\\algoritmos_geneticos\\notebooks\\lightning_logs\\version_642\\checkpoints\\epoch=4-step=150.ckpt\n",
      "Loaded model weights from the checkpoint at c:\\Users\\w10\\Desktop\\BMA\\UPV\\tia\\algoritmos_geneticos\\notebooks\\lightning_logs\\version_642\\checkpoints\\epoch=4-step=150.ckpt\n"
     ]
    },
    {
     "data": {
      "application/vnd.jupyter.widget-view+json": {
       "model_id": "3dbb8d6448cd429788ca824f2dcdf7ba",
       "version_major": 2,
       "version_minor": 0
      },
      "text/plain": [
       "Testing: 0it [00:00, ?it/s]"
      ]
     },
     "metadata": {},
     "output_type": "display_data"
    },
    {
     "data": {
      "text/html": [
       "<pre style=\"white-space:pre;overflow-x:auto;line-height:normal;font-family:Menlo,'DejaVu Sans Mono',consolas,'Courier New',monospace\">┏━━━━━━━━━━━━━━━━━━━━━━━━━━━┳━━━━━━━━━━━━━━━━━━━━━━━━━━━┓\n",
       "┃<span style=\"font-weight: bold\">        Test metric        </span>┃<span style=\"font-weight: bold\">       DataLoader 0        </span>┃\n",
       "┡━━━━━━━━━━━━━━━━━━━━━━━━━━━╇━━━━━━━━━━━━━━━━━━━━━━━━━━━┩\n",
       "│<span style=\"color: #008080; text-decoration-color: #008080\">         test_loss         </span>│<span style=\"color: #800080; text-decoration-color: #800080\">    1.0033600330352783     </span>│\n",
       "└───────────────────────────┴───────────────────────────┘\n",
       "</pre>\n"
      ],
      "text/plain": [
       "┏━━━━━━━━━━━━━━━━━━━━━━━━━━━┳━━━━━━━━━━━━━━━━━━━━━━━━━━━┓\n",
       "┃\u001b[1m \u001b[0m\u001b[1m       Test metric       \u001b[0m\u001b[1m \u001b[0m┃\u001b[1m \u001b[0m\u001b[1m      DataLoader 0       \u001b[0m\u001b[1m \u001b[0m┃\n",
       "┡━━━━━━━━━━━━━━━━━━━━━━━━━━━╇━━━━━━━━━━━━━━━━━━━━━━━━━━━┩\n",
       "│\u001b[36m \u001b[0m\u001b[36m        test_loss        \u001b[0m\u001b[36m \u001b[0m│\u001b[35m \u001b[0m\u001b[35m   1.0033600330352783    \u001b[0m\u001b[35m \u001b[0m│\n",
       "└───────────────────────────┴───────────────────────────┘\n"
      ]
     },
     "metadata": {},
     "output_type": "display_data"
    },
    {
     "name": "stderr",
     "output_type": "stream",
     "text": [
      "GPU available: False, used: False\n",
      "TPU available: False, using: 0 TPU cores\n",
      "IPU available: False, using: 0 IPUs\n",
      "HPU available: False, using: 0 HPUs\n"
     ]
    },
    {
     "name": "stdout",
     "output_type": "stream",
     "text": [
      "[{'a_include_BN': False, 'a_include_bias': True, 'a_activation_type': ELU(alpha=1.0), 'a_dropout_range': 0.1, 'a_pool_type': MaxPool2d(kernel_size=2, stride=2, padding=0, dilation=1, ceil_mode=False), 'b_include_BN': False, 'b_include_bias': True, 'b_activation_type': ReLU(), 'b_dropout_range': 0.1, 'c_include_BN': True, 'c_include_bias': True, 'c_activation_type': SELU(), 'c_dropout_range': 0.2, 'd_include_BN': False, 'd_include_bias': False, 'd_activation_type': ReLU(), 'd_dropout_range': 0.2, 'b_pool_type': AvgPool2d(kernel_size=1, stride=1, padding=0), 'learning_rate': 0.1}, MyModel(\n",
      "  (cnn1): Conv2d(1, 16, kernel_size=(5, 5), stride=(1, 1))\n",
      "  (batch_norm_a): BatchNorm2d(16, eps=1e-05, momentum=0.1, affine=True, track_running_stats=True)\n",
      "  (funcion_activacion_a): ELU(alpha=1.0)\n",
      "  (dropout_a): Dropout(p=0.1, inplace=False)\n",
      "  (pool1): MaxPool2d(kernel_size=2, stride=2, padding=0, dilation=1, ceil_mode=False)\n",
      "  (cnn2): Conv2d(16, 16, kernel_size=(5, 5), stride=(1, 1))\n",
      "  (batch_norm_b): BatchNorm2d(16, eps=1e-05, momentum=0.1, affine=True, track_running_stats=True)\n",
      "  (funcion_activacion_b): ReLU()\n",
      "  (dropout_b): Dropout(p=0.1, inplace=False)\n",
      "  (cnn3): Conv2d(16, 32, kernel_size=(3, 3), stride=(1, 1))\n",
      "  (batch_norm_c): BatchNorm2d(32, eps=1e-05, momentum=0.1, affine=True, track_running_stats=True)\n",
      "  (funcion_activacion_c): SELU()\n",
      "  (dropout_c): Dropout(p=0.2, inplace=False)\n",
      "  (cnn4): Conv2d(32, 32, kernel_size=(3, 3), stride=(1, 1), bias=False)\n",
      "  (batch_norm_d): BatchNorm2d(32, eps=1e-05, momentum=0.1, affine=True, track_running_stats=True)\n",
      "  (funcion_activacion_d): ReLU()\n",
      "  (dropout_d): Dropout(p=0.2, inplace=False)\n",
      "  (pool2): AvgPool2d(kernel_size=1, stride=1, padding=0)\n",
      "  (fc1): Linear(in_features=512, out_features=10, bias=True)\n",
      "), 0.9086706638336182]\n",
      "{'test_loss': 1.0033600330352783} 0.9086706638336182\n",
      "54.03600876626366\n"
     ]
    },
    {
     "name": "stderr",
     "output_type": "stream",
     "text": [
      "\n",
      "   | Name                 | Type        | Params\n",
      "------------------------------------------------------\n",
      "0  | cnn1                 | Conv2d      | 416   \n",
      "1  | batch_norm_a         | BatchNorm2d | 32    \n",
      "2  | funcion_activacion_a | ELU         | 0     \n",
      "3  | dropout_a            | Dropout     | 0     \n",
      "4  | pool1                | MaxPool2d   | 0     \n",
      "5  | cnn2                 | Conv2d      | 6.4 K \n",
      "6  | batch_norm_b         | BatchNorm2d | 32    \n",
      "7  | funcion_activacion_b | ReLU        | 0     \n",
      "8  | dropout_b            | Dropout     | 0     \n",
      "9  | cnn3                 | Conv2d      | 4.6 K \n",
      "10 | batch_norm_c         | BatchNorm2d | 64    \n",
      "11 | funcion_activacion_c | SELU        | 0     \n",
      "12 | dropout_c            | Dropout     | 0     \n",
      "13 | cnn4                 | Conv2d      | 9.2 K \n",
      "14 | batch_norm_d         | BatchNorm2d | 64    \n",
      "15 | funcion_activacion_d | ReLU        | 0     \n",
      "16 | dropout_d            | Dropout     | 0     \n",
      "17 | pool2                | AvgPool2d   | 0     \n",
      "18 | fc1                  | Linear      | 5.1 K \n",
      "------------------------------------------------------\n",
      "26.0 K    Trainable params\n",
      "0         Non-trainable params\n",
      "26.0 K    Total params\n",
      "0.104     Total estimated model params size (MB)\n"
     ]
    },
    {
     "data": {
      "application/vnd.jupyter.widget-view+json": {
       "model_id": "5fde21088aff4241af7b950fa3177826",
       "version_major": 2,
       "version_minor": 0
      },
      "text/plain": [
       "Sanity Checking: 0it [00:00, ?it/s]"
      ]
     },
     "metadata": {},
     "output_type": "display_data"
    },
    {
     "data": {
      "application/vnd.jupyter.widget-view+json": {
       "model_id": "a57e8387c3c147f291f6434109f730c1",
       "version_major": 2,
       "version_minor": 0
      },
      "text/plain": [
       "Training: 0it [00:00, ?it/s]"
      ]
     },
     "metadata": {},
     "output_type": "display_data"
    },
    {
     "data": {
      "application/vnd.jupyter.widget-view+json": {
       "model_id": "80b011245275432a87b695b3027beff0",
       "version_major": 2,
       "version_minor": 0
      },
      "text/plain": [
       "Validation: 0it [00:00, ?it/s]"
      ]
     },
     "metadata": {},
     "output_type": "display_data"
    },
    {
     "data": {
      "application/vnd.jupyter.widget-view+json": {
       "model_id": "c6d9fa3e4e154aeeaa4a791d96582cd3",
       "version_major": 2,
       "version_minor": 0
      },
      "text/plain": [
       "Validation: 0it [00:00, ?it/s]"
      ]
     },
     "metadata": {},
     "output_type": "display_data"
    },
    {
     "data": {
      "application/vnd.jupyter.widget-view+json": {
       "model_id": "8dab10527f934612a02087042e381913",
       "version_major": 2,
       "version_minor": 0
      },
      "text/plain": [
       "Validation: 0it [00:00, ?it/s]"
      ]
     },
     "metadata": {},
     "output_type": "display_data"
    },
    {
     "data": {
      "application/vnd.jupyter.widget-view+json": {
       "model_id": "4f5418c66a5b44f6b14dc08844d35d7a",
       "version_major": 2,
       "version_minor": 0
      },
      "text/plain": [
       "Validation: 0it [00:00, ?it/s]"
      ]
     },
     "metadata": {},
     "output_type": "display_data"
    },
    {
     "data": {
      "application/vnd.jupyter.widget-view+json": {
       "model_id": "3eaf04703b8740ac9ab6fba9525261bb",
       "version_major": 2,
       "version_minor": 0
      },
      "text/plain": [
       "Validation: 0it [00:00, ?it/s]"
      ]
     },
     "metadata": {},
     "output_type": "display_data"
    },
    {
     "name": "stderr",
     "output_type": "stream",
     "text": [
      "`Trainer.fit` stopped: `max_epochs=5` reached.\n",
      "Restoring states from the checkpoint path at c:\\Users\\w10\\Desktop\\BMA\\UPV\\tia\\algoritmos_geneticos\\notebooks\\lightning_logs\\version_643\\checkpoints\\epoch=4-step=150.ckpt\n",
      "Loaded model weights from the checkpoint at c:\\Users\\w10\\Desktop\\BMA\\UPV\\tia\\algoritmos_geneticos\\notebooks\\lightning_logs\\version_643\\checkpoints\\epoch=4-step=150.ckpt\n"
     ]
    },
    {
     "data": {
      "application/vnd.jupyter.widget-view+json": {
       "model_id": "ca40726e558441409e08ff0db6384409",
       "version_major": 2,
       "version_minor": 0
      },
      "text/plain": [
       "Testing: 0it [00:00, ?it/s]"
      ]
     },
     "metadata": {},
     "output_type": "display_data"
    },
    {
     "data": {
      "text/html": [
       "<pre style=\"white-space:pre;overflow-x:auto;line-height:normal;font-family:Menlo,'DejaVu Sans Mono',consolas,'Courier New',monospace\">┏━━━━━━━━━━━━━━━━━━━━━━━━━━━┳━━━━━━━━━━━━━━━━━━━━━━━━━━━┓\n",
       "┃<span style=\"font-weight: bold\">        Test metric        </span>┃<span style=\"font-weight: bold\">       DataLoader 0        </span>┃\n",
       "┡━━━━━━━━━━━━━━━━━━━━━━━━━━━╇━━━━━━━━━━━━━━━━━━━━━━━━━━━┩\n",
       "│<span style=\"color: #008080; text-decoration-color: #008080\">         test_loss         </span>│<span style=\"color: #800080; text-decoration-color: #800080\">     1.035775065422058     </span>│\n",
       "└───────────────────────────┴───────────────────────────┘\n",
       "</pre>\n"
      ],
      "text/plain": [
       "┏━━━━━━━━━━━━━━━━━━━━━━━━━━━┳━━━━━━━━━━━━━━━━━━━━━━━━━━━┓\n",
       "┃\u001b[1m \u001b[0m\u001b[1m       Test metric       \u001b[0m\u001b[1m \u001b[0m┃\u001b[1m \u001b[0m\u001b[1m      DataLoader 0       \u001b[0m\u001b[1m \u001b[0m┃\n",
       "┡━━━━━━━━━━━━━━━━━━━━━━━━━━━╇━━━━━━━━━━━━━━━━━━━━━━━━━━━┩\n",
       "│\u001b[36m \u001b[0m\u001b[36m        test_loss        \u001b[0m\u001b[36m \u001b[0m│\u001b[35m \u001b[0m\u001b[35m    1.035775065422058    \u001b[0m\u001b[35m \u001b[0m│\n",
       "└───────────────────────────┴───────────────────────────┘\n"
      ]
     },
     "metadata": {},
     "output_type": "display_data"
    },
    {
     "name": "stderr",
     "output_type": "stream",
     "text": [
      "GPU available: False, used: False\n",
      "TPU available: False, using: 0 TPU cores\n",
      "IPU available: False, using: 0 IPUs\n",
      "HPU available: False, using: 0 HPUs\n"
     ]
    },
    {
     "name": "stdout",
     "output_type": "stream",
     "text": [
      "[{'a_include_BN': False, 'a_include_bias': True, 'a_activation_type': ELU(alpha=1.0), 'a_dropout_range': 0.1, 'a_pool_type': MaxPool2d(kernel_size=2, stride=2, padding=0, dilation=1, ceil_mode=False), 'b_include_BN': False, 'b_include_bias': True, 'b_activation_type': ReLU(), 'b_dropout_range': 0.1, 'c_include_BN': True, 'c_include_bias': True, 'c_activation_type': SELU(), 'c_dropout_range': 0.2, 'd_include_BN': False, 'd_include_bias': False, 'd_activation_type': ReLU(), 'd_dropout_range': 0.2, 'b_pool_type': AvgPool2d(kernel_size=1, stride=1, padding=0), 'learning_rate': 0.1}, MyModel(\n",
      "  (cnn1): Conv2d(1, 16, kernel_size=(5, 5), stride=(1, 1))\n",
      "  (batch_norm_a): BatchNorm2d(16, eps=1e-05, momentum=0.1, affine=True, track_running_stats=True)\n",
      "  (funcion_activacion_a): ELU(alpha=1.0)\n",
      "  (dropout_a): Dropout(p=0.1, inplace=False)\n",
      "  (pool1): MaxPool2d(kernel_size=2, stride=2, padding=0, dilation=1, ceil_mode=False)\n",
      "  (cnn2): Conv2d(16, 16, kernel_size=(5, 5), stride=(1, 1))\n",
      "  (batch_norm_b): BatchNorm2d(16, eps=1e-05, momentum=0.1, affine=True, track_running_stats=True)\n",
      "  (funcion_activacion_b): ReLU()\n",
      "  (dropout_b): Dropout(p=0.1, inplace=False)\n",
      "  (cnn3): Conv2d(16, 32, kernel_size=(3, 3), stride=(1, 1))\n",
      "  (batch_norm_c): BatchNorm2d(32, eps=1e-05, momentum=0.1, affine=True, track_running_stats=True)\n",
      "  (funcion_activacion_c): SELU()\n",
      "  (dropout_c): Dropout(p=0.2, inplace=False)\n",
      "  (cnn4): Conv2d(32, 32, kernel_size=(3, 3), stride=(1, 1), bias=False)\n",
      "  (batch_norm_d): BatchNorm2d(32, eps=1e-05, momentum=0.1, affine=True, track_running_stats=True)\n",
      "  (funcion_activacion_d): ReLU()\n",
      "  (dropout_d): Dropout(p=0.2, inplace=False)\n",
      "  (pool2): AvgPool2d(kernel_size=1, stride=1, padding=0)\n",
      "  (fc1): Linear(in_features=512, out_features=10, bias=True)\n",
      "), 1.0033600330352783]\n",
      "{'test_loss': 1.035775065422058} 1.0033600330352783\n",
      "51.33420832795048\n"
     ]
    },
    {
     "name": "stderr",
     "output_type": "stream",
     "text": [
      "\n",
      "   | Name                 | Type        | Params\n",
      "------------------------------------------------------\n",
      "0  | cnn1                 | Conv2d      | 416   \n",
      "1  | batch_norm_a         | BatchNorm2d | 32    \n",
      "2  | funcion_activacion_a | ELU         | 0     \n",
      "3  | dropout_a            | Dropout     | 0     \n",
      "4  | pool1                | MaxPool2d   | 0     \n",
      "5  | cnn2                 | Conv2d      | 6.4 K \n",
      "6  | batch_norm_b         | BatchNorm2d | 32    \n",
      "7  | funcion_activacion_b | ReLU        | 0     \n",
      "8  | dropout_b            | Dropout     | 0     \n",
      "9  | cnn3                 | Conv2d      | 4.6 K \n",
      "10 | batch_norm_c         | BatchNorm2d | 64    \n",
      "11 | funcion_activacion_c | SELU        | 0     \n",
      "12 | dropout_c            | Dropout     | 0     \n",
      "13 | cnn4                 | Conv2d      | 9.2 K \n",
      "14 | batch_norm_d         | BatchNorm2d | 64    \n",
      "15 | funcion_activacion_d | ReLU        | 0     \n",
      "16 | dropout_d            | Dropout     | 0     \n",
      "17 | pool2                | AvgPool2d   | 0     \n",
      "18 | fc1                  | Linear      | 5.1 K \n",
      "------------------------------------------------------\n",
      "26.0 K    Trainable params\n",
      "0         Non-trainable params\n",
      "26.0 K    Total params\n",
      "0.104     Total estimated model params size (MB)\n"
     ]
    },
    {
     "data": {
      "application/vnd.jupyter.widget-view+json": {
       "model_id": "3aa8e500c7d448f1a8b1d4883963293a",
       "version_major": 2,
       "version_minor": 0
      },
      "text/plain": [
       "Sanity Checking: 0it [00:00, ?it/s]"
      ]
     },
     "metadata": {},
     "output_type": "display_data"
    },
    {
     "data": {
      "application/vnd.jupyter.widget-view+json": {
       "model_id": "bdc9e73251bd44a7b63e6e2eee66e905",
       "version_major": 2,
       "version_minor": 0
      },
      "text/plain": [
       "Training: 0it [00:00, ?it/s]"
      ]
     },
     "metadata": {},
     "output_type": "display_data"
    },
    {
     "data": {
      "application/vnd.jupyter.widget-view+json": {
       "model_id": "7c78bd9a8e1445b6898c694c2f3c9dfb",
       "version_major": 2,
       "version_minor": 0
      },
      "text/plain": [
       "Validation: 0it [00:00, ?it/s]"
      ]
     },
     "metadata": {},
     "output_type": "display_data"
    },
    {
     "data": {
      "application/vnd.jupyter.widget-view+json": {
       "model_id": "cabfac7780cb414da19648d0ed943d9f",
       "version_major": 2,
       "version_minor": 0
      },
      "text/plain": [
       "Validation: 0it [00:00, ?it/s]"
      ]
     },
     "metadata": {},
     "output_type": "display_data"
    },
    {
     "data": {
      "application/vnd.jupyter.widget-view+json": {
       "model_id": "2d89f42633924cfdbb69684690fd6a54",
       "version_major": 2,
       "version_minor": 0
      },
      "text/plain": [
       "Validation: 0it [00:00, ?it/s]"
      ]
     },
     "metadata": {},
     "output_type": "display_data"
    },
    {
     "data": {
      "application/vnd.jupyter.widget-view+json": {
       "model_id": "7b93c7b1f92d412dae48be6b1eab9006",
       "version_major": 2,
       "version_minor": 0
      },
      "text/plain": [
       "Validation: 0it [00:00, ?it/s]"
      ]
     },
     "metadata": {},
     "output_type": "display_data"
    },
    {
     "data": {
      "application/vnd.jupyter.widget-view+json": {
       "model_id": "a7773b24b84549d9a549b5fa21513915",
       "version_major": 2,
       "version_minor": 0
      },
      "text/plain": [
       "Validation: 0it [00:00, ?it/s]"
      ]
     },
     "metadata": {},
     "output_type": "display_data"
    },
    {
     "name": "stderr",
     "output_type": "stream",
     "text": [
      "`Trainer.fit` stopped: `max_epochs=5` reached.\n",
      "Restoring states from the checkpoint path at c:\\Users\\w10\\Desktop\\BMA\\UPV\\tia\\algoritmos_geneticos\\notebooks\\lightning_logs\\version_644\\checkpoints\\epoch=4-step=150.ckpt\n",
      "Loaded model weights from the checkpoint at c:\\Users\\w10\\Desktop\\BMA\\UPV\\tia\\algoritmos_geneticos\\notebooks\\lightning_logs\\version_644\\checkpoints\\epoch=4-step=150.ckpt\n"
     ]
    },
    {
     "data": {
      "application/vnd.jupyter.widget-view+json": {
       "model_id": "c49c39955785417db20e6416c71b818c",
       "version_major": 2,
       "version_minor": 0
      },
      "text/plain": [
       "Testing: 0it [00:00, ?it/s]"
      ]
     },
     "metadata": {},
     "output_type": "display_data"
    },
    {
     "data": {
      "text/html": [
       "<pre style=\"white-space:pre;overflow-x:auto;line-height:normal;font-family:Menlo,'DejaVu Sans Mono',consolas,'Courier New',monospace\">┏━━━━━━━━━━━━━━━━━━━━━━━━━━━┳━━━━━━━━━━━━━━━━━━━━━━━━━━━┓\n",
       "┃<span style=\"font-weight: bold\">        Test metric        </span>┃<span style=\"font-weight: bold\">       DataLoader 0        </span>┃\n",
       "┡━━━━━━━━━━━━━━━━━━━━━━━━━━━╇━━━━━━━━━━━━━━━━━━━━━━━━━━━┩\n",
       "│<span style=\"color: #008080; text-decoration-color: #008080\">         test_loss         </span>│<span style=\"color: #800080; text-decoration-color: #800080\">    1.2386913299560547     </span>│\n",
       "└───────────────────────────┴───────────────────────────┘\n",
       "</pre>\n"
      ],
      "text/plain": [
       "┏━━━━━━━━━━━━━━━━━━━━━━━━━━━┳━━━━━━━━━━━━━━━━━━━━━━━━━━━┓\n",
       "┃\u001b[1m \u001b[0m\u001b[1m       Test metric       \u001b[0m\u001b[1m \u001b[0m┃\u001b[1m \u001b[0m\u001b[1m      DataLoader 0       \u001b[0m\u001b[1m \u001b[0m┃\n",
       "┡━━━━━━━━━━━━━━━━━━━━━━━━━━━╇━━━━━━━━━━━━━━━━━━━━━━━━━━━┩\n",
       "│\u001b[36m \u001b[0m\u001b[36m        test_loss        \u001b[0m\u001b[36m \u001b[0m│\u001b[35m \u001b[0m\u001b[35m   1.2386913299560547    \u001b[0m\u001b[35m \u001b[0m│\n",
       "└───────────────────────────┴───────────────────────────┘\n"
      ]
     },
     "metadata": {},
     "output_type": "display_data"
    },
    {
     "name": "stderr",
     "output_type": "stream",
     "text": [
      "GPU available: False, used: False\n",
      "TPU available: False, using: 0 TPU cores\n",
      "IPU available: False, using: 0 IPUs\n",
      "HPU available: False, using: 0 HPUs\n"
     ]
    },
    {
     "name": "stdout",
     "output_type": "stream",
     "text": [
      "[{'a_include_BN': False, 'a_include_bias': True, 'a_activation_type': ELU(alpha=1.0), 'a_dropout_range': 0.1, 'a_pool_type': MaxPool2d(kernel_size=2, stride=2, padding=0, dilation=1, ceil_mode=False), 'b_include_BN': False, 'b_include_bias': True, 'b_activation_type': ReLU(), 'b_dropout_range': 0.1, 'c_include_BN': True, 'c_include_bias': True, 'c_activation_type': SELU(), 'c_dropout_range': 0.2, 'd_include_BN': False, 'd_include_bias': False, 'd_activation_type': ReLU(), 'd_dropout_range': 0.2, 'b_pool_type': AvgPool2d(kernel_size=1, stride=1, padding=0), 'learning_rate': 0.1}, MyModel(\n",
      "  (cnn1): Conv2d(1, 16, kernel_size=(5, 5), stride=(1, 1))\n",
      "  (batch_norm_a): BatchNorm2d(16, eps=1e-05, momentum=0.1, affine=True, track_running_stats=True)\n",
      "  (funcion_activacion_a): ELU(alpha=1.0)\n",
      "  (dropout_a): Dropout(p=0.1, inplace=False)\n",
      "  (pool1): MaxPool2d(kernel_size=2, stride=2, padding=0, dilation=1, ceil_mode=False)\n",
      "  (cnn2): Conv2d(16, 16, kernel_size=(5, 5), stride=(1, 1))\n",
      "  (batch_norm_b): BatchNorm2d(16, eps=1e-05, momentum=0.1, affine=True, track_running_stats=True)\n",
      "  (funcion_activacion_b): ReLU()\n",
      "  (dropout_b): Dropout(p=0.1, inplace=False)\n",
      "  (cnn3): Conv2d(16, 32, kernel_size=(3, 3), stride=(1, 1))\n",
      "  (batch_norm_c): BatchNorm2d(32, eps=1e-05, momentum=0.1, affine=True, track_running_stats=True)\n",
      "  (funcion_activacion_c): SELU()\n",
      "  (dropout_c): Dropout(p=0.2, inplace=False)\n",
      "  (cnn4): Conv2d(32, 32, kernel_size=(3, 3), stride=(1, 1), bias=False)\n",
      "  (batch_norm_d): BatchNorm2d(32, eps=1e-05, momentum=0.1, affine=True, track_running_stats=True)\n",
      "  (funcion_activacion_d): ReLU()\n",
      "  (dropout_d): Dropout(p=0.2, inplace=False)\n",
      "  (pool2): AvgPool2d(kernel_size=1, stride=1, padding=0)\n",
      "  (fc1): Linear(in_features=512, out_features=10, bias=True)\n",
      "), 1.0033600330352783]\n",
      "{'test_loss': 1.2386913299560547} 1.0033600330352783\n",
      "48.76749791155295\n"
     ]
    },
    {
     "name": "stderr",
     "output_type": "stream",
     "text": [
      "\n",
      "   | Name                 | Type        | Params\n",
      "------------------------------------------------------\n",
      "0  | cnn1                 | Conv2d      | 416   \n",
      "1  | batch_norm_a         | BatchNorm2d | 32    \n",
      "2  | funcion_activacion_a | ELU         | 0     \n",
      "3  | dropout_a            | Dropout     | 0     \n",
      "4  | pool1                | MaxPool2d   | 0     \n",
      "5  | cnn2                 | Conv2d      | 6.4 K \n",
      "6  | batch_norm_b         | BatchNorm2d | 32    \n",
      "7  | funcion_activacion_b | ReLU        | 0     \n",
      "8  | dropout_b            | Dropout     | 0     \n",
      "9  | cnn3                 | Conv2d      | 4.6 K \n",
      "10 | batch_norm_c         | BatchNorm2d | 64    \n",
      "11 | funcion_activacion_c | SELU        | 0     \n",
      "12 | dropout_c            | Dropout     | 0     \n",
      "13 | cnn4                 | Conv2d      | 9.2 K \n",
      "14 | batch_norm_d         | BatchNorm2d | 64    \n",
      "15 | funcion_activacion_d | ReLU        | 0     \n",
      "16 | dropout_d            | Dropout     | 0     \n",
      "17 | pool2                | AvgPool2d   | 0     \n",
      "18 | fc1                  | Linear      | 5.1 K \n",
      "------------------------------------------------------\n",
      "26.0 K    Trainable params\n",
      "0         Non-trainable params\n",
      "26.0 K    Total params\n",
      "0.104     Total estimated model params size (MB)\n"
     ]
    },
    {
     "data": {
      "application/vnd.jupyter.widget-view+json": {
       "model_id": "29a4180f755644e68c88e7bb5280e339",
       "version_major": 2,
       "version_minor": 0
      },
      "text/plain": [
       "Sanity Checking: 0it [00:00, ?it/s]"
      ]
     },
     "metadata": {},
     "output_type": "display_data"
    },
    {
     "data": {
      "application/vnd.jupyter.widget-view+json": {
       "model_id": "62d66330aca54f86af4a800dd52e6b2e",
       "version_major": 2,
       "version_minor": 0
      },
      "text/plain": [
       "Training: 0it [00:00, ?it/s]"
      ]
     },
     "metadata": {},
     "output_type": "display_data"
    },
    {
     "data": {
      "application/vnd.jupyter.widget-view+json": {
       "model_id": "d1d05c0ac2704963b548061a02d6c376",
       "version_major": 2,
       "version_minor": 0
      },
      "text/plain": [
       "Validation: 0it [00:00, ?it/s]"
      ]
     },
     "metadata": {},
     "output_type": "display_data"
    },
    {
     "data": {
      "application/vnd.jupyter.widget-view+json": {
       "model_id": "b46e42ab8dd54d59aec4ee37a0c6e7ee",
       "version_major": 2,
       "version_minor": 0
      },
      "text/plain": [
       "Validation: 0it [00:00, ?it/s]"
      ]
     },
     "metadata": {},
     "output_type": "display_data"
    },
    {
     "data": {
      "application/vnd.jupyter.widget-view+json": {
       "model_id": "c3250bbc217b407db11b3cd0c4347e90",
       "version_major": 2,
       "version_minor": 0
      },
      "text/plain": [
       "Validation: 0it [00:00, ?it/s]"
      ]
     },
     "metadata": {},
     "output_type": "display_data"
    },
    {
     "data": {
      "application/vnd.jupyter.widget-view+json": {
       "model_id": "51e9884469484c988008cabd9f69f323",
       "version_major": 2,
       "version_minor": 0
      },
      "text/plain": [
       "Validation: 0it [00:00, ?it/s]"
      ]
     },
     "metadata": {},
     "output_type": "display_data"
    },
    {
     "data": {
      "application/vnd.jupyter.widget-view+json": {
       "model_id": "943520bb6c8548628f198c252a9a4170",
       "version_major": 2,
       "version_minor": 0
      },
      "text/plain": [
       "Validation: 0it [00:00, ?it/s]"
      ]
     },
     "metadata": {},
     "output_type": "display_data"
    },
    {
     "name": "stderr",
     "output_type": "stream",
     "text": [
      "`Trainer.fit` stopped: `max_epochs=5` reached.\n",
      "Restoring states from the checkpoint path at c:\\Users\\w10\\Desktop\\BMA\\UPV\\tia\\algoritmos_geneticos\\notebooks\\lightning_logs\\version_645\\checkpoints\\epoch=4-step=150.ckpt\n",
      "Loaded model weights from the checkpoint at c:\\Users\\w10\\Desktop\\BMA\\UPV\\tia\\algoritmos_geneticos\\notebooks\\lightning_logs\\version_645\\checkpoints\\epoch=4-step=150.ckpt\n"
     ]
    },
    {
     "data": {
      "application/vnd.jupyter.widget-view+json": {
       "model_id": "889b5f222b734f8aa19b1a731cf55853",
       "version_major": 2,
       "version_minor": 0
      },
      "text/plain": [
       "Testing: 0it [00:00, ?it/s]"
      ]
     },
     "metadata": {},
     "output_type": "display_data"
    },
    {
     "data": {
      "text/html": [
       "<pre style=\"white-space:pre;overflow-x:auto;line-height:normal;font-family:Menlo,'DejaVu Sans Mono',consolas,'Courier New',monospace\">┏━━━━━━━━━━━━━━━━━━━━━━━━━━━┳━━━━━━━━━━━━━━━━━━━━━━━━━━━┓\n",
       "┃<span style=\"font-weight: bold\">        Test metric        </span>┃<span style=\"font-weight: bold\">       DataLoader 0        </span>┃\n",
       "┡━━━━━━━━━━━━━━━━━━━━━━━━━━━╇━━━━━━━━━━━━━━━━━━━━━━━━━━━┩\n",
       "│<span style=\"color: #008080; text-decoration-color: #008080\">         test_loss         </span>│<span style=\"color: #800080; text-decoration-color: #800080\">    1.0465319156646729     </span>│\n",
       "└───────────────────────────┴───────────────────────────┘\n",
       "</pre>\n"
      ],
      "text/plain": [
       "┏━━━━━━━━━━━━━━━━━━━━━━━━━━━┳━━━━━━━━━━━━━━━━━━━━━━━━━━━┓\n",
       "┃\u001b[1m \u001b[0m\u001b[1m       Test metric       \u001b[0m\u001b[1m \u001b[0m┃\u001b[1m \u001b[0m\u001b[1m      DataLoader 0       \u001b[0m\u001b[1m \u001b[0m┃\n",
       "┡━━━━━━━━━━━━━━━━━━━━━━━━━━━╇━━━━━━━━━━━━━━━━━━━━━━━━━━━┩\n",
       "│\u001b[36m \u001b[0m\u001b[36m        test_loss        \u001b[0m\u001b[36m \u001b[0m│\u001b[35m \u001b[0m\u001b[35m   1.0465319156646729    \u001b[0m\u001b[35m \u001b[0m│\n",
       "└───────────────────────────┴───────────────────────────┘\n"
      ]
     },
     "metadata": {},
     "output_type": "display_data"
    },
    {
     "name": "stderr",
     "output_type": "stream",
     "text": [
      "GPU available: False, used: False\n",
      "TPU available: False, using: 0 TPU cores\n",
      "IPU available: False, using: 0 IPUs\n",
      "HPU available: False, using: 0 HPUs\n"
     ]
    },
    {
     "name": "stdout",
     "output_type": "stream",
     "text": [
      "[{'a_include_BN': False, 'a_include_bias': True, 'a_activation_type': ELU(alpha=1.0), 'a_dropout_range': 0.1, 'a_pool_type': MaxPool2d(kernel_size=2, stride=2, padding=0, dilation=1, ceil_mode=False), 'b_include_BN': False, 'b_include_bias': True, 'b_activation_type': ReLU(), 'b_dropout_range': 0.1, 'c_include_BN': True, 'c_include_bias': True, 'c_activation_type': SELU(), 'c_dropout_range': 0.2, 'd_include_BN': False, 'd_include_bias': False, 'd_activation_type': ReLU(), 'd_dropout_range': 0.2, 'b_pool_type': AvgPool2d(kernel_size=1, stride=1, padding=0), 'learning_rate': 0.1}, MyModel(\n",
      "  (cnn1): Conv2d(1, 16, kernel_size=(5, 5), stride=(1, 1))\n",
      "  (batch_norm_a): BatchNorm2d(16, eps=1e-05, momentum=0.1, affine=True, track_running_stats=True)\n",
      "  (funcion_activacion_a): ELU(alpha=1.0)\n",
      "  (dropout_a): Dropout(p=0.1, inplace=False)\n",
      "  (pool1): MaxPool2d(kernel_size=2, stride=2, padding=0, dilation=1, ceil_mode=False)\n",
      "  (cnn2): Conv2d(16, 16, kernel_size=(5, 5), stride=(1, 1))\n",
      "  (batch_norm_b): BatchNorm2d(16, eps=1e-05, momentum=0.1, affine=True, track_running_stats=True)\n",
      "  (funcion_activacion_b): ReLU()\n",
      "  (dropout_b): Dropout(p=0.1, inplace=False)\n",
      "  (cnn3): Conv2d(16, 32, kernel_size=(3, 3), stride=(1, 1))\n",
      "  (batch_norm_c): BatchNorm2d(32, eps=1e-05, momentum=0.1, affine=True, track_running_stats=True)\n",
      "  (funcion_activacion_c): SELU()\n",
      "  (dropout_c): Dropout(p=0.2, inplace=False)\n",
      "  (cnn4): Conv2d(32, 32, kernel_size=(3, 3), stride=(1, 1), bias=False)\n",
      "  (batch_norm_d): BatchNorm2d(32, eps=1e-05, momentum=0.1, affine=True, track_running_stats=True)\n",
      "  (funcion_activacion_d): ReLU()\n",
      "  (dropout_d): Dropout(p=0.2, inplace=False)\n",
      "  (pool2): AvgPool2d(kernel_size=1, stride=1, padding=0)\n",
      "  (fc1): Linear(in_features=512, out_features=10, bias=True)\n",
      "), 1.0033600330352783]\n",
      "{'test_loss': 1.0465319156646729} 1.0033600330352783\n",
      "46.3291230159753\n"
     ]
    },
    {
     "name": "stderr",
     "output_type": "stream",
     "text": [
      "\n",
      "   | Name                 | Type        | Params\n",
      "------------------------------------------------------\n",
      "0  | cnn1                 | Conv2d      | 416   \n",
      "1  | batch_norm_a         | BatchNorm2d | 32    \n",
      "2  | funcion_activacion_a | ELU         | 0     \n",
      "3  | dropout_a            | Dropout     | 0     \n",
      "4  | pool1                | MaxPool2d   | 0     \n",
      "5  | cnn2                 | Conv2d      | 6.4 K \n",
      "6  | batch_norm_b         | BatchNorm2d | 32    \n",
      "7  | funcion_activacion_b | ReLU        | 0     \n",
      "8  | dropout_b            | Dropout     | 0     \n",
      "9  | cnn3                 | Conv2d      | 4.6 K \n",
      "10 | batch_norm_c         | BatchNorm2d | 64    \n",
      "11 | funcion_activacion_c | SELU        | 0     \n",
      "12 | dropout_c            | Dropout     | 0     \n",
      "13 | cnn4                 | Conv2d      | 9.2 K \n",
      "14 | batch_norm_d         | BatchNorm2d | 64    \n",
      "15 | funcion_activacion_d | ReLU        | 0     \n",
      "16 | dropout_d            | Dropout     | 0     \n",
      "17 | pool2                | AvgPool2d   | 0     \n",
      "18 | fc1                  | Linear      | 5.1 K \n",
      "------------------------------------------------------\n",
      "26.0 K    Trainable params\n",
      "0         Non-trainable params\n",
      "26.0 K    Total params\n",
      "0.104     Total estimated model params size (MB)\n"
     ]
    },
    {
     "data": {
      "application/vnd.jupyter.widget-view+json": {
       "model_id": "ec1b6c27536141239861efdc262f27e2",
       "version_major": 2,
       "version_minor": 0
      },
      "text/plain": [
       "Sanity Checking: 0it [00:00, ?it/s]"
      ]
     },
     "metadata": {},
     "output_type": "display_data"
    },
    {
     "data": {
      "application/vnd.jupyter.widget-view+json": {
       "model_id": "28da47b83e774a87832854f86302f2a1",
       "version_major": 2,
       "version_minor": 0
      },
      "text/plain": [
       "Training: 0it [00:00, ?it/s]"
      ]
     },
     "metadata": {},
     "output_type": "display_data"
    },
    {
     "data": {
      "application/vnd.jupyter.widget-view+json": {
       "model_id": "bb898c24ed7445929a852d18a894532e",
       "version_major": 2,
       "version_minor": 0
      },
      "text/plain": [
       "Validation: 0it [00:00, ?it/s]"
      ]
     },
     "metadata": {},
     "output_type": "display_data"
    },
    {
     "data": {
      "application/vnd.jupyter.widget-view+json": {
       "model_id": "beb74ddd16ba4db389d493fe5867c4f0",
       "version_major": 2,
       "version_minor": 0
      },
      "text/plain": [
       "Validation: 0it [00:00, ?it/s]"
      ]
     },
     "metadata": {},
     "output_type": "display_data"
    },
    {
     "data": {
      "application/vnd.jupyter.widget-view+json": {
       "model_id": "cb46c9c57d5b4ceb9f76a568f89e22f4",
       "version_major": 2,
       "version_minor": 0
      },
      "text/plain": [
       "Validation: 0it [00:00, ?it/s]"
      ]
     },
     "metadata": {},
     "output_type": "display_data"
    },
    {
     "data": {
      "application/vnd.jupyter.widget-view+json": {
       "model_id": "3879304a42ec47d49ac4b4f7765a5966",
       "version_major": 2,
       "version_minor": 0
      },
      "text/plain": [
       "Validation: 0it [00:00, ?it/s]"
      ]
     },
     "metadata": {},
     "output_type": "display_data"
    },
    {
     "data": {
      "application/vnd.jupyter.widget-view+json": {
       "model_id": "7ce67c3ca5c84ce69504dff7091d62a6",
       "version_major": 2,
       "version_minor": 0
      },
      "text/plain": [
       "Validation: 0it [00:00, ?it/s]"
      ]
     },
     "metadata": {},
     "output_type": "display_data"
    },
    {
     "name": "stderr",
     "output_type": "stream",
     "text": [
      "`Trainer.fit` stopped: `max_epochs=5` reached.\n",
      "Restoring states from the checkpoint path at c:\\Users\\w10\\Desktop\\BMA\\UPV\\tia\\algoritmos_geneticos\\notebooks\\lightning_logs\\version_646\\checkpoints\\epoch=4-step=150.ckpt\n",
      "Loaded model weights from the checkpoint at c:\\Users\\w10\\Desktop\\BMA\\UPV\\tia\\algoritmos_geneticos\\notebooks\\lightning_logs\\version_646\\checkpoints\\epoch=4-step=150.ckpt\n"
     ]
    },
    {
     "data": {
      "application/vnd.jupyter.widget-view+json": {
       "model_id": "4e4a4577aee54c0dbaedaeb0ca3ba2d9",
       "version_major": 2,
       "version_minor": 0
      },
      "text/plain": [
       "Testing: 0it [00:00, ?it/s]"
      ]
     },
     "metadata": {},
     "output_type": "display_data"
    },
    {
     "data": {
      "text/html": [
       "<pre style=\"white-space:pre;overflow-x:auto;line-height:normal;font-family:Menlo,'DejaVu Sans Mono',consolas,'Courier New',monospace\">┏━━━━━━━━━━━━━━━━━━━━━━━━━━━┳━━━━━━━━━━━━━━━━━━━━━━━━━━━┓\n",
       "┃<span style=\"font-weight: bold\">        Test metric        </span>┃<span style=\"font-weight: bold\">       DataLoader 0        </span>┃\n",
       "┡━━━━━━━━━━━━━━━━━━━━━━━━━━━╇━━━━━━━━━━━━━━━━━━━━━━━━━━━┩\n",
       "│<span style=\"color: #008080; text-decoration-color: #008080\">         test_loss         </span>│<span style=\"color: #800080; text-decoration-color: #800080\">    0.8824914693832397     </span>│\n",
       "└───────────────────────────┴───────────────────────────┘\n",
       "</pre>\n"
      ],
      "text/plain": [
       "┏━━━━━━━━━━━━━━━━━━━━━━━━━━━┳━━━━━━━━━━━━━━━━━━━━━━━━━━━┓\n",
       "┃\u001b[1m \u001b[0m\u001b[1m       Test metric       \u001b[0m\u001b[1m \u001b[0m┃\u001b[1m \u001b[0m\u001b[1m      DataLoader 0       \u001b[0m\u001b[1m \u001b[0m┃\n",
       "┡━━━━━━━━━━━━━━━━━━━━━━━━━━━╇━━━━━━━━━━━━━━━━━━━━━━━━━━━┩\n",
       "│\u001b[36m \u001b[0m\u001b[36m        test_loss        \u001b[0m\u001b[36m \u001b[0m│\u001b[35m \u001b[0m\u001b[35m   0.8824914693832397    \u001b[0m\u001b[35m \u001b[0m│\n",
       "└───────────────────────────┴───────────────────────────┘\n"
      ]
     },
     "metadata": {},
     "output_type": "display_data"
    },
    {
     "name": "stderr",
     "output_type": "stream",
     "text": [
      "GPU available: False, used: False\n",
      "TPU available: False, using: 0 TPU cores\n",
      "IPU available: False, using: 0 IPUs\n",
      "HPU available: False, using: 0 HPUs\n"
     ]
    },
    {
     "name": "stdout",
     "output_type": "stream",
     "text": [
      "[{'a_include_BN': False, 'a_include_bias': True, 'a_activation_type': ELU(alpha=1.0), 'a_dropout_range': 0.1, 'a_pool_type': MaxPool2d(kernel_size=2, stride=2, padding=0, dilation=1, ceil_mode=False), 'b_include_BN': False, 'b_include_bias': True, 'b_activation_type': ReLU(), 'b_dropout_range': 0.1, 'c_include_BN': True, 'c_include_bias': True, 'c_activation_type': SELU(), 'c_dropout_range': 0.2, 'd_include_BN': False, 'd_include_bias': False, 'd_activation_type': ReLU(), 'd_dropout_range': 0.2, 'b_pool_type': AvgPool2d(kernel_size=1, stride=1, padding=0), 'learning_rate': 0.1}, MyModel(\n",
      "  (cnn1): Conv2d(1, 16, kernel_size=(5, 5), stride=(1, 1))\n",
      "  (batch_norm_a): BatchNorm2d(16, eps=1e-05, momentum=0.1, affine=True, track_running_stats=True)\n",
      "  (funcion_activacion_a): ELU(alpha=1.0)\n",
      "  (dropout_a): Dropout(p=0.1, inplace=False)\n",
      "  (pool1): MaxPool2d(kernel_size=2, stride=2, padding=0, dilation=1, ceil_mode=False)\n",
      "  (cnn2): Conv2d(16, 16, kernel_size=(5, 5), stride=(1, 1))\n",
      "  (batch_norm_b): BatchNorm2d(16, eps=1e-05, momentum=0.1, affine=True, track_running_stats=True)\n",
      "  (funcion_activacion_b): ReLU()\n",
      "  (dropout_b): Dropout(p=0.1, inplace=False)\n",
      "  (cnn3): Conv2d(16, 32, kernel_size=(3, 3), stride=(1, 1))\n",
      "  (batch_norm_c): BatchNorm2d(32, eps=1e-05, momentum=0.1, affine=True, track_running_stats=True)\n",
      "  (funcion_activacion_c): SELU()\n",
      "  (dropout_c): Dropout(p=0.2, inplace=False)\n",
      "  (cnn4): Conv2d(32, 32, kernel_size=(3, 3), stride=(1, 1), bias=False)\n",
      "  (batch_norm_d): BatchNorm2d(32, eps=1e-05, momentum=0.1, affine=True, track_running_stats=True)\n",
      "  (funcion_activacion_d): ReLU()\n",
      "  (dropout_d): Dropout(p=0.2, inplace=False)\n",
      "  (pool2): AvgPool2d(kernel_size=1, stride=1, padding=0)\n",
      "  (fc1): Linear(in_features=512, out_features=10, bias=True)\n",
      "), 1.0033600330352783]\n",
      "{'test_loss': 0.8824914693832397} 1.0033600330352783\n",
      "44.012666865176534\n"
     ]
    },
    {
     "name": "stderr",
     "output_type": "stream",
     "text": [
      "\n",
      "   | Name                 | Type        | Params\n",
      "------------------------------------------------------\n",
      "0  | cnn1                 | Conv2d      | 416   \n",
      "1  | batch_norm_a         | BatchNorm2d | 32    \n",
      "2  | funcion_activacion_a | ELU         | 0     \n",
      "3  | dropout_a            | Dropout     | 0     \n",
      "4  | pool1                | MaxPool2d   | 0     \n",
      "5  | cnn2                 | Conv2d      | 6.4 K \n",
      "6  | batch_norm_b         | BatchNorm2d | 32    \n",
      "7  | funcion_activacion_b | ReLU        | 0     \n",
      "8  | dropout_b            | Dropout     | 0     \n",
      "9  | cnn3                 | Conv2d      | 4.6 K \n",
      "10 | batch_norm_c         | BatchNorm2d | 64    \n",
      "11 | funcion_activacion_c | SELU        | 0     \n",
      "12 | dropout_c            | Dropout     | 0     \n",
      "13 | cnn4                 | Conv2d      | 9.2 K \n",
      "14 | batch_norm_d         | BatchNorm2d | 64    \n",
      "15 | funcion_activacion_d | ReLU        | 0     \n",
      "16 | dropout_d            | Dropout     | 0     \n",
      "17 | pool2                | AvgPool2d   | 0     \n",
      "18 | fc1                  | Linear      | 5.1 K \n",
      "------------------------------------------------------\n",
      "26.0 K    Trainable params\n",
      "0         Non-trainable params\n",
      "26.0 K    Total params\n",
      "0.104     Total estimated model params size (MB)\n"
     ]
    },
    {
     "data": {
      "application/vnd.jupyter.widget-view+json": {
       "model_id": "136992e3ddb14e7f983e23067d8f6005",
       "version_major": 2,
       "version_minor": 0
      },
      "text/plain": [
       "Sanity Checking: 0it [00:00, ?it/s]"
      ]
     },
     "metadata": {},
     "output_type": "display_data"
    },
    {
     "data": {
      "application/vnd.jupyter.widget-view+json": {
       "model_id": "f99eed00891f41058e863126df59119d",
       "version_major": 2,
       "version_minor": 0
      },
      "text/plain": [
       "Training: 0it [00:00, ?it/s]"
      ]
     },
     "metadata": {},
     "output_type": "display_data"
    },
    {
     "data": {
      "application/vnd.jupyter.widget-view+json": {
       "model_id": "7b0cf75e7e2f4a43a87dd4f92f93e5ca",
       "version_major": 2,
       "version_minor": 0
      },
      "text/plain": [
       "Validation: 0it [00:00, ?it/s]"
      ]
     },
     "metadata": {},
     "output_type": "display_data"
    },
    {
     "data": {
      "application/vnd.jupyter.widget-view+json": {
       "model_id": "29c98593882d453ea2ed1ac3e2a48881",
       "version_major": 2,
       "version_minor": 0
      },
      "text/plain": [
       "Validation: 0it [00:00, ?it/s]"
      ]
     },
     "metadata": {},
     "output_type": "display_data"
    },
    {
     "data": {
      "application/vnd.jupyter.widget-view+json": {
       "model_id": "fc2de4f7238f43479defa25498de20a1",
       "version_major": 2,
       "version_minor": 0
      },
      "text/plain": [
       "Validation: 0it [00:00, ?it/s]"
      ]
     },
     "metadata": {},
     "output_type": "display_data"
    },
    {
     "data": {
      "application/vnd.jupyter.widget-view+json": {
       "model_id": "87a44c6ea7f0424b8f5c5fdc5af88bce",
       "version_major": 2,
       "version_minor": 0
      },
      "text/plain": [
       "Validation: 0it [00:00, ?it/s]"
      ]
     },
     "metadata": {},
     "output_type": "display_data"
    },
    {
     "data": {
      "application/vnd.jupyter.widget-view+json": {
       "model_id": "7efb6812f1a0429783c48bd7ab8859d8",
       "version_major": 2,
       "version_minor": 0
      },
      "text/plain": [
       "Validation: 0it [00:00, ?it/s]"
      ]
     },
     "metadata": {},
     "output_type": "display_data"
    },
    {
     "name": "stderr",
     "output_type": "stream",
     "text": [
      "`Trainer.fit` stopped: `max_epochs=5` reached.\n",
      "Restoring states from the checkpoint path at c:\\Users\\w10\\Desktop\\BMA\\UPV\\tia\\algoritmos_geneticos\\notebooks\\lightning_logs\\version_647\\checkpoints\\epoch=4-step=150.ckpt\n",
      "Loaded model weights from the checkpoint at c:\\Users\\w10\\Desktop\\BMA\\UPV\\tia\\algoritmos_geneticos\\notebooks\\lightning_logs\\version_647\\checkpoints\\epoch=4-step=150.ckpt\n"
     ]
    },
    {
     "data": {
      "application/vnd.jupyter.widget-view+json": {
       "model_id": "ce557596c47f491abaf6fb254b303d47",
       "version_major": 2,
       "version_minor": 0
      },
      "text/plain": [
       "Testing: 0it [00:00, ?it/s]"
      ]
     },
     "metadata": {},
     "output_type": "display_data"
    },
    {
     "data": {
      "text/html": [
       "<pre style=\"white-space:pre;overflow-x:auto;line-height:normal;font-family:Menlo,'DejaVu Sans Mono',consolas,'Courier New',monospace\">┏━━━━━━━━━━━━━━━━━━━━━━━━━━━┳━━━━━━━━━━━━━━━━━━━━━━━━━━━┓\n",
       "┃<span style=\"font-weight: bold\">        Test metric        </span>┃<span style=\"font-weight: bold\">       DataLoader 0        </span>┃\n",
       "┡━━━━━━━━━━━━━━━━━━━━━━━━━━━╇━━━━━━━━━━━━━━━━━━━━━━━━━━━┩\n",
       "│<span style=\"color: #008080; text-decoration-color: #008080\">         test_loss         </span>│<span style=\"color: #800080; text-decoration-color: #800080\">     0.913860559463501     </span>│\n",
       "└───────────────────────────┴───────────────────────────┘\n",
       "</pre>\n"
      ],
      "text/plain": [
       "┏━━━━━━━━━━━━━━━━━━━━━━━━━━━┳━━━━━━━━━━━━━━━━━━━━━━━━━━━┓\n",
       "┃\u001b[1m \u001b[0m\u001b[1m       Test metric       \u001b[0m\u001b[1m \u001b[0m┃\u001b[1m \u001b[0m\u001b[1m      DataLoader 0       \u001b[0m\u001b[1m \u001b[0m┃\n",
       "┡━━━━━━━━━━━━━━━━━━━━━━━━━━━╇━━━━━━━━━━━━━━━━━━━━━━━━━━━┩\n",
       "│\u001b[36m \u001b[0m\u001b[36m        test_loss        \u001b[0m\u001b[36m \u001b[0m│\u001b[35m \u001b[0m\u001b[35m    0.913860559463501    \u001b[0m\u001b[35m \u001b[0m│\n",
       "└───────────────────────────┴───────────────────────────┘\n"
      ]
     },
     "metadata": {},
     "output_type": "display_data"
    },
    {
     "name": "stderr",
     "output_type": "stream",
     "text": [
      "GPU available: False, used: False\n",
      "TPU available: False, using: 0 TPU cores\n",
      "IPU available: False, using: 0 IPUs\n",
      "HPU available: False, using: 0 HPUs\n"
     ]
    },
    {
     "name": "stdout",
     "output_type": "stream",
     "text": [
      "[{'a_include_BN': False, 'a_include_bias': True, 'a_activation_type': ELU(alpha=1.0), 'a_dropout_range': 0.1, 'a_pool_type': MaxPool2d(kernel_size=2, stride=2, padding=0, dilation=1, ceil_mode=False), 'b_include_BN': False, 'b_include_bias': True, 'b_activation_type': ReLU(), 'b_dropout_range': 0.1, 'c_include_BN': True, 'c_include_bias': True, 'c_activation_type': SELU(), 'c_dropout_range': 0.2, 'd_include_BN': False, 'd_include_bias': False, 'd_activation_type': ReLU(), 'd_dropout_range': 0.2, 'b_pool_type': AvgPool2d(kernel_size=1, stride=1, padding=0), 'learning_rate': 0.1}, MyModel(\n",
      "  (cnn1): Conv2d(1, 16, kernel_size=(5, 5), stride=(1, 1))\n",
      "  (batch_norm_a): BatchNorm2d(16, eps=1e-05, momentum=0.1, affine=True, track_running_stats=True)\n",
      "  (funcion_activacion_a): ELU(alpha=1.0)\n",
      "  (dropout_a): Dropout(p=0.1, inplace=False)\n",
      "  (pool1): MaxPool2d(kernel_size=2, stride=2, padding=0, dilation=1, ceil_mode=False)\n",
      "  (cnn2): Conv2d(16, 16, kernel_size=(5, 5), stride=(1, 1))\n",
      "  (batch_norm_b): BatchNorm2d(16, eps=1e-05, momentum=0.1, affine=True, track_running_stats=True)\n",
      "  (funcion_activacion_b): ReLU()\n",
      "  (dropout_b): Dropout(p=0.1, inplace=False)\n",
      "  (cnn3): Conv2d(16, 32, kernel_size=(3, 3), stride=(1, 1))\n",
      "  (batch_norm_c): BatchNorm2d(32, eps=1e-05, momentum=0.1, affine=True, track_running_stats=True)\n",
      "  (funcion_activacion_c): SELU()\n",
      "  (dropout_c): Dropout(p=0.2, inplace=False)\n",
      "  (cnn4): Conv2d(32, 32, kernel_size=(3, 3), stride=(1, 1), bias=False)\n",
      "  (batch_norm_d): BatchNorm2d(32, eps=1e-05, momentum=0.1, affine=True, track_running_stats=True)\n",
      "  (funcion_activacion_d): ReLU()\n",
      "  (dropout_d): Dropout(p=0.2, inplace=False)\n",
      "  (pool2): AvgPool2d(kernel_size=1, stride=1, padding=0)\n",
      "  (fc1): Linear(in_features=512, out_features=10, bias=True)\n",
      "), 0.8824914693832397]\n",
      "{'test_loss': 0.913860559463501} 0.8824914693832397\n",
      "41.812033521917705\n"
     ]
    },
    {
     "name": "stderr",
     "output_type": "stream",
     "text": [
      "\n",
      "   | Name                 | Type        | Params\n",
      "------------------------------------------------------\n",
      "0  | cnn1                 | Conv2d      | 416   \n",
      "1  | batch_norm_a         | BatchNorm2d | 32    \n",
      "2  | funcion_activacion_a | ELU         | 0     \n",
      "3  | dropout_a            | Dropout     | 0     \n",
      "4  | pool1                | MaxPool2d   | 0     \n",
      "5  | cnn2                 | Conv2d      | 6.4 K \n",
      "6  | batch_norm_b         | BatchNorm2d | 32    \n",
      "7  | funcion_activacion_b | ReLU        | 0     \n",
      "8  | dropout_b            | Dropout     | 0     \n",
      "9  | cnn3                 | Conv2d      | 4.6 K \n",
      "10 | batch_norm_c         | BatchNorm2d | 64    \n",
      "11 | funcion_activacion_c | SELU        | 0     \n",
      "12 | dropout_c            | Dropout     | 0     \n",
      "13 | cnn4                 | Conv2d      | 9.2 K \n",
      "14 | batch_norm_d         | BatchNorm2d | 64    \n",
      "15 | funcion_activacion_d | ReLU        | 0     \n",
      "16 | dropout_d            | Dropout     | 0     \n",
      "17 | pool2                | AvgPool2d   | 0     \n",
      "18 | fc1                  | Linear      | 5.1 K \n",
      "------------------------------------------------------\n",
      "26.0 K    Trainable params\n",
      "0         Non-trainable params\n",
      "26.0 K    Total params\n",
      "0.104     Total estimated model params size (MB)\n"
     ]
    },
    {
     "data": {
      "application/vnd.jupyter.widget-view+json": {
       "model_id": "da05ccbc172341ce85d2f8dfbfc9fc0a",
       "version_major": 2,
       "version_minor": 0
      },
      "text/plain": [
       "Sanity Checking: 0it [00:00, ?it/s]"
      ]
     },
     "metadata": {},
     "output_type": "display_data"
    },
    {
     "data": {
      "application/vnd.jupyter.widget-view+json": {
       "model_id": "9c730887024c460b91b5cd27c3e2b7cc",
       "version_major": 2,
       "version_minor": 0
      },
      "text/plain": [
       "Training: 0it [00:00, ?it/s]"
      ]
     },
     "metadata": {},
     "output_type": "display_data"
    },
    {
     "data": {
      "application/vnd.jupyter.widget-view+json": {
       "model_id": "bf7d6b7f4e99442b813b5ff02fbf2ee5",
       "version_major": 2,
       "version_minor": 0
      },
      "text/plain": [
       "Validation: 0it [00:00, ?it/s]"
      ]
     },
     "metadata": {},
     "output_type": "display_data"
    },
    {
     "data": {
      "application/vnd.jupyter.widget-view+json": {
       "model_id": "bdad7e7f970a426eb7e76d0a6c31609b",
       "version_major": 2,
       "version_minor": 0
      },
      "text/plain": [
       "Validation: 0it [00:00, ?it/s]"
      ]
     },
     "metadata": {},
     "output_type": "display_data"
    },
    {
     "data": {
      "application/vnd.jupyter.widget-view+json": {
       "model_id": "265aed0f0ea949d69ffafe32cfcf34d9",
       "version_major": 2,
       "version_minor": 0
      },
      "text/plain": [
       "Validation: 0it [00:00, ?it/s]"
      ]
     },
     "metadata": {},
     "output_type": "display_data"
    },
    {
     "data": {
      "application/vnd.jupyter.widget-view+json": {
       "model_id": "ca1d1e25b2f04236acc4e0676219f757",
       "version_major": 2,
       "version_minor": 0
      },
      "text/plain": [
       "Validation: 0it [00:00, ?it/s]"
      ]
     },
     "metadata": {},
     "output_type": "display_data"
    },
    {
     "data": {
      "application/vnd.jupyter.widget-view+json": {
       "model_id": "b4c934a6c38d47aa881ef14abd7dbdd9",
       "version_major": 2,
       "version_minor": 0
      },
      "text/plain": [
       "Validation: 0it [00:00, ?it/s]"
      ]
     },
     "metadata": {},
     "output_type": "display_data"
    },
    {
     "name": "stderr",
     "output_type": "stream",
     "text": [
      "`Trainer.fit` stopped: `max_epochs=5` reached.\n",
      "Restoring states from the checkpoint path at c:\\Users\\w10\\Desktop\\BMA\\UPV\\tia\\algoritmos_geneticos\\notebooks\\lightning_logs\\version_648\\checkpoints\\epoch=4-step=150.ckpt\n",
      "Loaded model weights from the checkpoint at c:\\Users\\w10\\Desktop\\BMA\\UPV\\tia\\algoritmos_geneticos\\notebooks\\lightning_logs\\version_648\\checkpoints\\epoch=4-step=150.ckpt\n"
     ]
    },
    {
     "data": {
      "application/vnd.jupyter.widget-view+json": {
       "model_id": "79b61571ae004429aef746c69475164f",
       "version_major": 2,
       "version_minor": 0
      },
      "text/plain": [
       "Testing: 0it [00:00, ?it/s]"
      ]
     },
     "metadata": {},
     "output_type": "display_data"
    },
    {
     "data": {
      "text/html": [
       "<pre style=\"white-space:pre;overflow-x:auto;line-height:normal;font-family:Menlo,'DejaVu Sans Mono',consolas,'Courier New',monospace\">┏━━━━━━━━━━━━━━━━━━━━━━━━━━━┳━━━━━━━━━━━━━━━━━━━━━━━━━━━┓\n",
       "┃<span style=\"font-weight: bold\">        Test metric        </span>┃<span style=\"font-weight: bold\">       DataLoader 0        </span>┃\n",
       "┡━━━━━━━━━━━━━━━━━━━━━━━━━━━╇━━━━━━━━━━━━━━━━━━━━━━━━━━━┩\n",
       "│<span style=\"color: #008080; text-decoration-color: #008080\">         test_loss         </span>│<span style=\"color: #800080; text-decoration-color: #800080\">     1.02871572971344      </span>│\n",
       "└───────────────────────────┴───────────────────────────┘\n",
       "</pre>\n"
      ],
      "text/plain": [
       "┏━━━━━━━━━━━━━━━━━━━━━━━━━━━┳━━━━━━━━━━━━━━━━━━━━━━━━━━━┓\n",
       "┃\u001b[1m \u001b[0m\u001b[1m       Test metric       \u001b[0m\u001b[1m \u001b[0m┃\u001b[1m \u001b[0m\u001b[1m      DataLoader 0       \u001b[0m\u001b[1m \u001b[0m┃\n",
       "┡━━━━━━━━━━━━━━━━━━━━━━━━━━━╇━━━━━━━━━━━━━━━━━━━━━━━━━━━┩\n",
       "│\u001b[36m \u001b[0m\u001b[36m        test_loss        \u001b[0m\u001b[36m \u001b[0m│\u001b[35m \u001b[0m\u001b[35m    1.02871572971344     \u001b[0m\u001b[35m \u001b[0m│\n",
       "└───────────────────────────┴───────────────────────────┘\n"
      ]
     },
     "metadata": {},
     "output_type": "display_data"
    },
    {
     "name": "stderr",
     "output_type": "stream",
     "text": [
      "GPU available: False, used: False\n",
      "TPU available: False, using: 0 TPU cores\n",
      "IPU available: False, using: 0 IPUs\n",
      "HPU available: False, using: 0 HPUs\n"
     ]
    },
    {
     "name": "stdout",
     "output_type": "stream",
     "text": [
      "[{'a_include_BN': False, 'a_include_bias': True, 'a_activation_type': ELU(alpha=1.0), 'a_dropout_range': 0.1, 'a_pool_type': MaxPool2d(kernel_size=2, stride=2, padding=0, dilation=1, ceil_mode=False), 'b_include_BN': False, 'b_include_bias': True, 'b_activation_type': ReLU(), 'b_dropout_range': 0.1, 'c_include_BN': True, 'c_include_bias': True, 'c_activation_type': SELU(), 'c_dropout_range': 0.2, 'd_include_BN': False, 'd_include_bias': False, 'd_activation_type': ReLU(), 'd_dropout_range': 0.2, 'b_pool_type': AvgPool2d(kernel_size=1, stride=1, padding=0), 'learning_rate': 0.1}, MyModel(\n",
      "  (cnn1): Conv2d(1, 16, kernel_size=(5, 5), stride=(1, 1))\n",
      "  (batch_norm_a): BatchNorm2d(16, eps=1e-05, momentum=0.1, affine=True, track_running_stats=True)\n",
      "  (funcion_activacion_a): ELU(alpha=1.0)\n",
      "  (dropout_a): Dropout(p=0.1, inplace=False)\n",
      "  (pool1): MaxPool2d(kernel_size=2, stride=2, padding=0, dilation=1, ceil_mode=False)\n",
      "  (cnn2): Conv2d(16, 16, kernel_size=(5, 5), stride=(1, 1))\n",
      "  (batch_norm_b): BatchNorm2d(16, eps=1e-05, momentum=0.1, affine=True, track_running_stats=True)\n",
      "  (funcion_activacion_b): ReLU()\n",
      "  (dropout_b): Dropout(p=0.1, inplace=False)\n",
      "  (cnn3): Conv2d(16, 32, kernel_size=(3, 3), stride=(1, 1))\n",
      "  (batch_norm_c): BatchNorm2d(32, eps=1e-05, momentum=0.1, affine=True, track_running_stats=True)\n",
      "  (funcion_activacion_c): SELU()\n",
      "  (dropout_c): Dropout(p=0.2, inplace=False)\n",
      "  (cnn4): Conv2d(32, 32, kernel_size=(3, 3), stride=(1, 1), bias=False)\n",
      "  (batch_norm_d): BatchNorm2d(32, eps=1e-05, momentum=0.1, affine=True, track_running_stats=True)\n",
      "  (funcion_activacion_d): ReLU()\n",
      "  (dropout_d): Dropout(p=0.2, inplace=False)\n",
      "  (pool2): AvgPool2d(kernel_size=1, stride=1, padding=0)\n",
      "  (fc1): Linear(in_features=512, out_features=10, bias=True)\n",
      "), 0.8824914693832397]\n",
      "{'test_loss': 1.02871572971344} 0.8824914693832397\n",
      "39.72143184582182\n"
     ]
    },
    {
     "name": "stderr",
     "output_type": "stream",
     "text": [
      "\n",
      "   | Name                 | Type        | Params\n",
      "------------------------------------------------------\n",
      "0  | cnn1                 | Conv2d      | 416   \n",
      "1  | batch_norm_a         | BatchNorm2d | 32    \n",
      "2  | funcion_activacion_a | ELU         | 0     \n",
      "3  | dropout_a            | Dropout     | 0     \n",
      "4  | pool1                | MaxPool2d   | 0     \n",
      "5  | cnn2                 | Conv2d      | 6.4 K \n",
      "6  | batch_norm_b         | BatchNorm2d | 32    \n",
      "7  | funcion_activacion_b | ReLU        | 0     \n",
      "8  | dropout_b            | Dropout     | 0     \n",
      "9  | cnn3                 | Conv2d      | 4.6 K \n",
      "10 | batch_norm_c         | BatchNorm2d | 64    \n",
      "11 | funcion_activacion_c | SELU        | 0     \n",
      "12 | dropout_c            | Dropout     | 0     \n",
      "13 | cnn4                 | Conv2d      | 9.2 K \n",
      "14 | batch_norm_d         | BatchNorm2d | 64    \n",
      "15 | funcion_activacion_d | ReLU        | 0     \n",
      "16 | dropout_d            | Dropout     | 0     \n",
      "17 | pool2                | AvgPool2d   | 0     \n",
      "18 | fc1                  | Linear      | 5.1 K \n",
      "------------------------------------------------------\n",
      "26.0 K    Trainable params\n",
      "0         Non-trainable params\n",
      "26.0 K    Total params\n",
      "0.104     Total estimated model params size (MB)\n"
     ]
    },
    {
     "data": {
      "application/vnd.jupyter.widget-view+json": {
       "model_id": "ce8e87f5d7384ffa8143511defe9c425",
       "version_major": 2,
       "version_minor": 0
      },
      "text/plain": [
       "Sanity Checking: 0it [00:00, ?it/s]"
      ]
     },
     "metadata": {},
     "output_type": "display_data"
    },
    {
     "data": {
      "application/vnd.jupyter.widget-view+json": {
       "model_id": "8739e06a975f48b4939fd80660f7bcbb",
       "version_major": 2,
       "version_minor": 0
      },
      "text/plain": [
       "Training: 0it [00:00, ?it/s]"
      ]
     },
     "metadata": {},
     "output_type": "display_data"
    },
    {
     "data": {
      "application/vnd.jupyter.widget-view+json": {
       "model_id": "9342c1f41d01483a9e6472210fc11d72",
       "version_major": 2,
       "version_minor": 0
      },
      "text/plain": [
       "Validation: 0it [00:00, ?it/s]"
      ]
     },
     "metadata": {},
     "output_type": "display_data"
    },
    {
     "data": {
      "application/vnd.jupyter.widget-view+json": {
       "model_id": "e68b63191e9f429385e7b491d2bb545e",
       "version_major": 2,
       "version_minor": 0
      },
      "text/plain": [
       "Validation: 0it [00:00, ?it/s]"
      ]
     },
     "metadata": {},
     "output_type": "display_data"
    },
    {
     "data": {
      "application/vnd.jupyter.widget-view+json": {
       "model_id": "276c5d01d5244a0cad46be0f2f33ae31",
       "version_major": 2,
       "version_minor": 0
      },
      "text/plain": [
       "Validation: 0it [00:00, ?it/s]"
      ]
     },
     "metadata": {},
     "output_type": "display_data"
    },
    {
     "data": {
      "application/vnd.jupyter.widget-view+json": {
       "model_id": "6b6c0c8e2e6640e8bd453de955368485",
       "version_major": 2,
       "version_minor": 0
      },
      "text/plain": [
       "Validation: 0it [00:00, ?it/s]"
      ]
     },
     "metadata": {},
     "output_type": "display_data"
    },
    {
     "data": {
      "application/vnd.jupyter.widget-view+json": {
       "model_id": "5e2a362f85c74d1d8dcfe627fe39b0b4",
       "version_major": 2,
       "version_minor": 0
      },
      "text/plain": [
       "Validation: 0it [00:00, ?it/s]"
      ]
     },
     "metadata": {},
     "output_type": "display_data"
    },
    {
     "name": "stderr",
     "output_type": "stream",
     "text": [
      "`Trainer.fit` stopped: `max_epochs=5` reached.\n",
      "Restoring states from the checkpoint path at c:\\Users\\w10\\Desktop\\BMA\\UPV\\tia\\algoritmos_geneticos\\notebooks\\lightning_logs\\version_649\\checkpoints\\epoch=4-step=150.ckpt\n",
      "Loaded model weights from the checkpoint at c:\\Users\\w10\\Desktop\\BMA\\UPV\\tia\\algoritmos_geneticos\\notebooks\\lightning_logs\\version_649\\checkpoints\\epoch=4-step=150.ckpt\n"
     ]
    },
    {
     "data": {
      "application/vnd.jupyter.widget-view+json": {
       "model_id": "24a91429eb6644329af49ce06a76303a",
       "version_major": 2,
       "version_minor": 0
      },
      "text/plain": [
       "Testing: 0it [00:00, ?it/s]"
      ]
     },
     "metadata": {},
     "output_type": "display_data"
    },
    {
     "data": {
      "text/html": [
       "<pre style=\"white-space:pre;overflow-x:auto;line-height:normal;font-family:Menlo,'DejaVu Sans Mono',consolas,'Courier New',monospace\">┏━━━━━━━━━━━━━━━━━━━━━━━━━━━┳━━━━━━━━━━━━━━━━━━━━━━━━━━━┓\n",
       "┃<span style=\"font-weight: bold\">        Test metric        </span>┃<span style=\"font-weight: bold\">       DataLoader 0        </span>┃\n",
       "┡━━━━━━━━━━━━━━━━━━━━━━━━━━━╇━━━━━━━━━━━━━━━━━━━━━━━━━━━┩\n",
       "│<span style=\"color: #008080; text-decoration-color: #008080\">         test_loss         </span>│<span style=\"color: #800080; text-decoration-color: #800080\">    1.1874525547027588     </span>│\n",
       "└───────────────────────────┴───────────────────────────┘\n",
       "</pre>\n"
      ],
      "text/plain": [
       "┏━━━━━━━━━━━━━━━━━━━━━━━━━━━┳━━━━━━━━━━━━━━━━━━━━━━━━━━━┓\n",
       "┃\u001b[1m \u001b[0m\u001b[1m       Test metric       \u001b[0m\u001b[1m \u001b[0m┃\u001b[1m \u001b[0m\u001b[1m      DataLoader 0       \u001b[0m\u001b[1m \u001b[0m┃\n",
       "┡━━━━━━━━━━━━━━━━━━━━━━━━━━━╇━━━━━━━━━━━━━━━━━━━━━━━━━━━┩\n",
       "│\u001b[36m \u001b[0m\u001b[36m        test_loss        \u001b[0m\u001b[36m \u001b[0m│\u001b[35m \u001b[0m\u001b[35m   1.1874525547027588    \u001b[0m\u001b[35m \u001b[0m│\n",
       "└───────────────────────────┴───────────────────────────┘\n"
      ]
     },
     "metadata": {},
     "output_type": "display_data"
    },
    {
     "name": "stderr",
     "output_type": "stream",
     "text": [
      "GPU available: False, used: False\n",
      "TPU available: False, using: 0 TPU cores\n",
      "IPU available: False, using: 0 IPUs\n",
      "HPU available: False, using: 0 HPUs\n"
     ]
    },
    {
     "name": "stdout",
     "output_type": "stream",
     "text": [
      "[{'a_include_BN': False, 'a_include_bias': True, 'a_activation_type': ELU(alpha=1.0), 'a_dropout_range': 0.1, 'a_pool_type': MaxPool2d(kernel_size=2, stride=2, padding=0, dilation=1, ceil_mode=False), 'b_include_BN': False, 'b_include_bias': True, 'b_activation_type': ReLU(), 'b_dropout_range': 0.1, 'c_include_BN': True, 'c_include_bias': True, 'c_activation_type': SELU(), 'c_dropout_range': 0.2, 'd_include_BN': False, 'd_include_bias': False, 'd_activation_type': ReLU(), 'd_dropout_range': 0.2, 'b_pool_type': AvgPool2d(kernel_size=1, stride=1, padding=0), 'learning_rate': 0.1}, MyModel(\n",
      "  (cnn1): Conv2d(1, 16, kernel_size=(5, 5), stride=(1, 1))\n",
      "  (batch_norm_a): BatchNorm2d(16, eps=1e-05, momentum=0.1, affine=True, track_running_stats=True)\n",
      "  (funcion_activacion_a): ELU(alpha=1.0)\n",
      "  (dropout_a): Dropout(p=0.1, inplace=False)\n",
      "  (pool1): MaxPool2d(kernel_size=2, stride=2, padding=0, dilation=1, ceil_mode=False)\n",
      "  (cnn2): Conv2d(16, 16, kernel_size=(5, 5), stride=(1, 1))\n",
      "  (batch_norm_b): BatchNorm2d(16, eps=1e-05, momentum=0.1, affine=True, track_running_stats=True)\n",
      "  (funcion_activacion_b): ReLU()\n",
      "  (dropout_b): Dropout(p=0.1, inplace=False)\n",
      "  (cnn3): Conv2d(16, 32, kernel_size=(3, 3), stride=(1, 1))\n",
      "  (batch_norm_c): BatchNorm2d(32, eps=1e-05, momentum=0.1, affine=True, track_running_stats=True)\n",
      "  (funcion_activacion_c): SELU()\n",
      "  (dropout_c): Dropout(p=0.2, inplace=False)\n",
      "  (cnn4): Conv2d(32, 32, kernel_size=(3, 3), stride=(1, 1), bias=False)\n",
      "  (batch_norm_d): BatchNorm2d(32, eps=1e-05, momentum=0.1, affine=True, track_running_stats=True)\n",
      "  (funcion_activacion_d): ReLU()\n",
      "  (dropout_d): Dropout(p=0.2, inplace=False)\n",
      "  (pool2): AvgPool2d(kernel_size=1, stride=1, padding=0)\n",
      "  (fc1): Linear(in_features=512, out_features=10, bias=True)\n",
      "), 1.02871572971344]\n",
      "{'test_loss': 1.1874525547027588} 1.02871572971344\n",
      "37.73536025353073\n"
     ]
    },
    {
     "name": "stderr",
     "output_type": "stream",
     "text": [
      "\n",
      "   | Name                 | Type        | Params\n",
      "------------------------------------------------------\n",
      "0  | cnn1                 | Conv2d      | 416   \n",
      "1  | batch_norm_a         | BatchNorm2d | 32    \n",
      "2  | funcion_activacion_a | ELU         | 0     \n",
      "3  | dropout_a            | Dropout     | 0     \n",
      "4  | pool1                | MaxPool2d   | 0     \n",
      "5  | cnn2                 | Conv2d      | 6.4 K \n",
      "6  | batch_norm_b         | BatchNorm2d | 32    \n",
      "7  | funcion_activacion_b | ReLU        | 0     \n",
      "8  | dropout_b            | Dropout     | 0     \n",
      "9  | cnn3                 | Conv2d      | 4.6 K \n",
      "10 | batch_norm_c         | BatchNorm2d | 64    \n",
      "11 | funcion_activacion_c | SELU        | 0     \n",
      "12 | dropout_c            | Dropout     | 0     \n",
      "13 | cnn4                 | Conv2d      | 9.2 K \n",
      "14 | batch_norm_d         | BatchNorm2d | 64    \n",
      "15 | funcion_activacion_d | ReLU        | 0     \n",
      "16 | dropout_d            | Dropout     | 0     \n",
      "17 | pool2                | AvgPool2d   | 0     \n",
      "18 | fc1                  | Linear      | 5.1 K \n",
      "------------------------------------------------------\n",
      "26.0 K    Trainable params\n",
      "0         Non-trainable params\n",
      "26.0 K    Total params\n",
      "0.104     Total estimated model params size (MB)\n"
     ]
    },
    {
     "data": {
      "application/vnd.jupyter.widget-view+json": {
       "model_id": "fe84cd2b5501475ba31fceb8c7149300",
       "version_major": 2,
       "version_minor": 0
      },
      "text/plain": [
       "Sanity Checking: 0it [00:00, ?it/s]"
      ]
     },
     "metadata": {},
     "output_type": "display_data"
    },
    {
     "data": {
      "application/vnd.jupyter.widget-view+json": {
       "model_id": "2352d049a03e40beb294b25059cb89a4",
       "version_major": 2,
       "version_minor": 0
      },
      "text/plain": [
       "Training: 0it [00:00, ?it/s]"
      ]
     },
     "metadata": {},
     "output_type": "display_data"
    },
    {
     "data": {
      "application/vnd.jupyter.widget-view+json": {
       "model_id": "ac0e2ec5f5b141cd94bcf36dd5cd376c",
       "version_major": 2,
       "version_minor": 0
      },
      "text/plain": [
       "Validation: 0it [00:00, ?it/s]"
      ]
     },
     "metadata": {},
     "output_type": "display_data"
    },
    {
     "data": {
      "application/vnd.jupyter.widget-view+json": {
       "model_id": "0f6125d7a7a3456e8aa25efad186ba4a",
       "version_major": 2,
       "version_minor": 0
      },
      "text/plain": [
       "Validation: 0it [00:00, ?it/s]"
      ]
     },
     "metadata": {},
     "output_type": "display_data"
    },
    {
     "data": {
      "application/vnd.jupyter.widget-view+json": {
       "model_id": "26c810fe5b7847839f7f0d1de54bcee5",
       "version_major": 2,
       "version_minor": 0
      },
      "text/plain": [
       "Validation: 0it [00:00, ?it/s]"
      ]
     },
     "metadata": {},
     "output_type": "display_data"
    },
    {
     "data": {
      "application/vnd.jupyter.widget-view+json": {
       "model_id": "cbb9a813fe8349728952fe87b80db67a",
       "version_major": 2,
       "version_minor": 0
      },
      "text/plain": [
       "Validation: 0it [00:00, ?it/s]"
      ]
     },
     "metadata": {},
     "output_type": "display_data"
    },
    {
     "data": {
      "application/vnd.jupyter.widget-view+json": {
       "model_id": "1b641cd957094bb7bea9558f6e4adcbf",
       "version_major": 2,
       "version_minor": 0
      },
      "text/plain": [
       "Validation: 0it [00:00, ?it/s]"
      ]
     },
     "metadata": {},
     "output_type": "display_data"
    },
    {
     "name": "stderr",
     "output_type": "stream",
     "text": [
      "`Trainer.fit` stopped: `max_epochs=5` reached.\n",
      "Restoring states from the checkpoint path at c:\\Users\\w10\\Desktop\\BMA\\UPV\\tia\\algoritmos_geneticos\\notebooks\\lightning_logs\\version_650\\checkpoints\\epoch=4-step=150.ckpt\n",
      "Loaded model weights from the checkpoint at c:\\Users\\w10\\Desktop\\BMA\\UPV\\tia\\algoritmos_geneticos\\notebooks\\lightning_logs\\version_650\\checkpoints\\epoch=4-step=150.ckpt\n"
     ]
    },
    {
     "data": {
      "application/vnd.jupyter.widget-view+json": {
       "model_id": "cc97a670034e428b841e6c0dc69ca9c2",
       "version_major": 2,
       "version_minor": 0
      },
      "text/plain": [
       "Testing: 0it [00:00, ?it/s]"
      ]
     },
     "metadata": {},
     "output_type": "display_data"
    },
    {
     "data": {
      "text/html": [
       "<pre style=\"white-space:pre;overflow-x:auto;line-height:normal;font-family:Menlo,'DejaVu Sans Mono',consolas,'Courier New',monospace\">┏━━━━━━━━━━━━━━━━━━━━━━━━━━━┳━━━━━━━━━━━━━━━━━━━━━━━━━━━┓\n",
       "┃<span style=\"font-weight: bold\">        Test metric        </span>┃<span style=\"font-weight: bold\">       DataLoader 0        </span>┃\n",
       "┡━━━━━━━━━━━━━━━━━━━━━━━━━━━╇━━━━━━━━━━━━━━━━━━━━━━━━━━━┩\n",
       "│<span style=\"color: #008080; text-decoration-color: #008080\">         test_loss         </span>│<span style=\"color: #800080; text-decoration-color: #800080\">    0.9875438213348389     </span>│\n",
       "└───────────────────────────┴───────────────────────────┘\n",
       "</pre>\n"
      ],
      "text/plain": [
       "┏━━━━━━━━━━━━━━━━━━━━━━━━━━━┳━━━━━━━━━━━━━━━━━━━━━━━━━━━┓\n",
       "┃\u001b[1m \u001b[0m\u001b[1m       Test metric       \u001b[0m\u001b[1m \u001b[0m┃\u001b[1m \u001b[0m\u001b[1m      DataLoader 0       \u001b[0m\u001b[1m \u001b[0m┃\n",
       "┡━━━━━━━━━━━━━━━━━━━━━━━━━━━╇━━━━━━━━━━━━━━━━━━━━━━━━━━━┩\n",
       "│\u001b[36m \u001b[0m\u001b[36m        test_loss        \u001b[0m\u001b[36m \u001b[0m│\u001b[35m \u001b[0m\u001b[35m   0.9875438213348389    \u001b[0m\u001b[35m \u001b[0m│\n",
       "└───────────────────────────┴───────────────────────────┘\n"
      ]
     },
     "metadata": {},
     "output_type": "display_data"
    },
    {
     "name": "stderr",
     "output_type": "stream",
     "text": [
      "GPU available: False, used: False\n",
      "TPU available: False, using: 0 TPU cores\n",
      "IPU available: False, using: 0 IPUs\n",
      "HPU available: False, using: 0 HPUs\n"
     ]
    },
    {
     "name": "stdout",
     "output_type": "stream",
     "text": [
      "[{'a_include_BN': False, 'a_include_bias': True, 'a_activation_type': ELU(alpha=1.0), 'a_dropout_range': 0.1, 'a_pool_type': MaxPool2d(kernel_size=2, stride=2, padding=0, dilation=1, ceil_mode=False), 'b_include_BN': False, 'b_include_bias': True, 'b_activation_type': ReLU(), 'b_dropout_range': 0.1, 'c_include_BN': True, 'c_include_bias': True, 'c_activation_type': SELU(), 'c_dropout_range': 0.2, 'd_include_BN': False, 'd_include_bias': False, 'd_activation_type': ReLU(), 'd_dropout_range': 0.2, 'b_pool_type': AvgPool2d(kernel_size=1, stride=1, padding=0), 'learning_rate': 0.1}, MyModel(\n",
      "  (cnn1): Conv2d(1, 16, kernel_size=(5, 5), stride=(1, 1))\n",
      "  (batch_norm_a): BatchNorm2d(16, eps=1e-05, momentum=0.1, affine=True, track_running_stats=True)\n",
      "  (funcion_activacion_a): ELU(alpha=1.0)\n",
      "  (dropout_a): Dropout(p=0.1, inplace=False)\n",
      "  (pool1): MaxPool2d(kernel_size=2, stride=2, padding=0, dilation=1, ceil_mode=False)\n",
      "  (cnn2): Conv2d(16, 16, kernel_size=(5, 5), stride=(1, 1))\n",
      "  (batch_norm_b): BatchNorm2d(16, eps=1e-05, momentum=0.1, affine=True, track_running_stats=True)\n",
      "  (funcion_activacion_b): ReLU()\n",
      "  (dropout_b): Dropout(p=0.1, inplace=False)\n",
      "  (cnn3): Conv2d(16, 32, kernel_size=(3, 3), stride=(1, 1))\n",
      "  (batch_norm_c): BatchNorm2d(32, eps=1e-05, momentum=0.1, affine=True, track_running_stats=True)\n",
      "  (funcion_activacion_c): SELU()\n",
      "  (dropout_c): Dropout(p=0.2, inplace=False)\n",
      "  (cnn4): Conv2d(32, 32, kernel_size=(3, 3), stride=(1, 1), bias=False)\n",
      "  (batch_norm_d): BatchNorm2d(32, eps=1e-05, momentum=0.1, affine=True, track_running_stats=True)\n",
      "  (funcion_activacion_d): ReLU()\n",
      "  (dropout_d): Dropout(p=0.2, inplace=False)\n",
      "  (pool2): AvgPool2d(kernel_size=1, stride=1, padding=0)\n",
      "  (fc1): Linear(in_features=512, out_features=10, bias=True)\n",
      "), 1.1874525547027588]\n",
      "{'test_loss': 0.9875438213348389} 1.1874525547027588\n",
      "35.84859224085419\n"
     ]
    },
    {
     "name": "stderr",
     "output_type": "stream",
     "text": [
      "\n",
      "   | Name                 | Type        | Params\n",
      "------------------------------------------------------\n",
      "0  | cnn1                 | Conv2d      | 416   \n",
      "1  | batch_norm_a         | BatchNorm2d | 32    \n",
      "2  | funcion_activacion_a | ELU         | 0     \n",
      "3  | dropout_a            | Dropout     | 0     \n",
      "4  | pool1                | MaxPool2d   | 0     \n",
      "5  | cnn2                 | Conv2d      | 6.4 K \n",
      "6  | batch_norm_b         | BatchNorm2d | 32    \n",
      "7  | funcion_activacion_b | ReLU        | 0     \n",
      "8  | dropout_b            | Dropout     | 0     \n",
      "9  | cnn3                 | Conv2d      | 4.6 K \n",
      "10 | batch_norm_c         | BatchNorm2d | 64    \n",
      "11 | funcion_activacion_c | SELU        | 0     \n",
      "12 | dropout_c            | Dropout     | 0     \n",
      "13 | cnn4                 | Conv2d      | 9.2 K \n",
      "14 | batch_norm_d         | BatchNorm2d | 64    \n",
      "15 | funcion_activacion_d | ReLU        | 0     \n",
      "16 | dropout_d            | Dropout     | 0     \n",
      "17 | pool2                | AvgPool2d   | 0     \n",
      "18 | fc1                  | Linear      | 5.1 K \n",
      "------------------------------------------------------\n",
      "26.0 K    Trainable params\n",
      "0         Non-trainable params\n",
      "26.0 K    Total params\n",
      "0.104     Total estimated model params size (MB)\n"
     ]
    },
    {
     "data": {
      "application/vnd.jupyter.widget-view+json": {
       "model_id": "b7ec070862a74672a1d9065238fd397f",
       "version_major": 2,
       "version_minor": 0
      },
      "text/plain": [
       "Sanity Checking: 0it [00:00, ?it/s]"
      ]
     },
     "metadata": {},
     "output_type": "display_data"
    },
    {
     "data": {
      "application/vnd.jupyter.widget-view+json": {
       "model_id": "b6ed5283a70b4e32930271cec1b6ddf7",
       "version_major": 2,
       "version_minor": 0
      },
      "text/plain": [
       "Training: 0it [00:00, ?it/s]"
      ]
     },
     "metadata": {},
     "output_type": "display_data"
    },
    {
     "data": {
      "application/vnd.jupyter.widget-view+json": {
       "model_id": "92a0911229124c548912c67824b29a16",
       "version_major": 2,
       "version_minor": 0
      },
      "text/plain": [
       "Validation: 0it [00:00, ?it/s]"
      ]
     },
     "metadata": {},
     "output_type": "display_data"
    },
    {
     "data": {
      "application/vnd.jupyter.widget-view+json": {
       "model_id": "5425d66fc821446cad186472c8ea0ba7",
       "version_major": 2,
       "version_minor": 0
      },
      "text/plain": [
       "Validation: 0it [00:00, ?it/s]"
      ]
     },
     "metadata": {},
     "output_type": "display_data"
    },
    {
     "data": {
      "application/vnd.jupyter.widget-view+json": {
       "model_id": "9cd2814bbbef4d0e89a55cacca850d54",
       "version_major": 2,
       "version_minor": 0
      },
      "text/plain": [
       "Validation: 0it [00:00, ?it/s]"
      ]
     },
     "metadata": {},
     "output_type": "display_data"
    },
    {
     "data": {
      "application/vnd.jupyter.widget-view+json": {
       "model_id": "85a74e54fb5d48d2983b5af36440f3c1",
       "version_major": 2,
       "version_minor": 0
      },
      "text/plain": [
       "Validation: 0it [00:00, ?it/s]"
      ]
     },
     "metadata": {},
     "output_type": "display_data"
    },
    {
     "data": {
      "application/vnd.jupyter.widget-view+json": {
       "model_id": "82bda5909f2847a8b99a6b0036fa5d37",
       "version_major": 2,
       "version_minor": 0
      },
      "text/plain": [
       "Validation: 0it [00:00, ?it/s]"
      ]
     },
     "metadata": {},
     "output_type": "display_data"
    },
    {
     "name": "stderr",
     "output_type": "stream",
     "text": [
      "`Trainer.fit` stopped: `max_epochs=5` reached.\n",
      "Restoring states from the checkpoint path at c:\\Users\\w10\\Desktop\\BMA\\UPV\\tia\\algoritmos_geneticos\\notebooks\\lightning_logs\\version_651\\checkpoints\\epoch=4-step=150.ckpt\n",
      "Loaded model weights from the checkpoint at c:\\Users\\w10\\Desktop\\BMA\\UPV\\tia\\algoritmos_geneticos\\notebooks\\lightning_logs\\version_651\\checkpoints\\epoch=4-step=150.ckpt\n"
     ]
    },
    {
     "data": {
      "application/vnd.jupyter.widget-view+json": {
       "model_id": "6545f1feb7864afd8a0ffacb4a858908",
       "version_major": 2,
       "version_minor": 0
      },
      "text/plain": [
       "Testing: 0it [00:00, ?it/s]"
      ]
     },
     "metadata": {},
     "output_type": "display_data"
    },
    {
     "data": {
      "text/html": [
       "<pre style=\"white-space:pre;overflow-x:auto;line-height:normal;font-family:Menlo,'DejaVu Sans Mono',consolas,'Courier New',monospace\">┏━━━━━━━━━━━━━━━━━━━━━━━━━━━┳━━━━━━━━━━━━━━━━━━━━━━━━━━━┓\n",
       "┃<span style=\"font-weight: bold\">        Test metric        </span>┃<span style=\"font-weight: bold\">       DataLoader 0        </span>┃\n",
       "┡━━━━━━━━━━━━━━━━━━━━━━━━━━━╇━━━━━━━━━━━━━━━━━━━━━━━━━━━┩\n",
       "│<span style=\"color: #008080; text-decoration-color: #008080\">         test_loss         </span>│<span style=\"color: #800080; text-decoration-color: #800080\">    1.0697059631347656     </span>│\n",
       "└───────────────────────────┴───────────────────────────┘\n",
       "</pre>\n"
      ],
      "text/plain": [
       "┏━━━━━━━━━━━━━━━━━━━━━━━━━━━┳━━━━━━━━━━━━━━━━━━━━━━━━━━━┓\n",
       "┃\u001b[1m \u001b[0m\u001b[1m       Test metric       \u001b[0m\u001b[1m \u001b[0m┃\u001b[1m \u001b[0m\u001b[1m      DataLoader 0       \u001b[0m\u001b[1m \u001b[0m┃\n",
       "┡━━━━━━━━━━━━━━━━━━━━━━━━━━━╇━━━━━━━━━━━━━━━━━━━━━━━━━━━┩\n",
       "│\u001b[36m \u001b[0m\u001b[36m        test_loss        \u001b[0m\u001b[36m \u001b[0m│\u001b[35m \u001b[0m\u001b[35m   1.0697059631347656    \u001b[0m\u001b[35m \u001b[0m│\n",
       "└───────────────────────────┴───────────────────────────┘\n"
      ]
     },
     "metadata": {},
     "output_type": "display_data"
    },
    {
     "name": "stderr",
     "output_type": "stream",
     "text": [
      "GPU available: False, used: False\n",
      "TPU available: False, using: 0 TPU cores\n",
      "IPU available: False, using: 0 IPUs\n",
      "HPU available: False, using: 0 HPUs\n"
     ]
    },
    {
     "name": "stdout",
     "output_type": "stream",
     "text": [
      "[{'a_include_BN': False, 'a_include_bias': True, 'a_activation_type': ELU(alpha=1.0), 'a_dropout_range': 0.1, 'a_pool_type': MaxPool2d(kernel_size=2, stride=2, padding=0, dilation=1, ceil_mode=False), 'b_include_BN': False, 'b_include_bias': True, 'b_activation_type': ReLU(), 'b_dropout_range': 0.1, 'c_include_BN': True, 'c_include_bias': True, 'c_activation_type': SELU(), 'c_dropout_range': 0.2, 'd_include_BN': False, 'd_include_bias': False, 'd_activation_type': ReLU(), 'd_dropout_range': 0.2, 'b_pool_type': AvgPool2d(kernel_size=1, stride=1, padding=0), 'learning_rate': 0.1}, MyModel(\n",
      "  (cnn1): Conv2d(1, 16, kernel_size=(5, 5), stride=(1, 1))\n",
      "  (batch_norm_a): BatchNorm2d(16, eps=1e-05, momentum=0.1, affine=True, track_running_stats=True)\n",
      "  (funcion_activacion_a): ELU(alpha=1.0)\n",
      "  (dropout_a): Dropout(p=0.1, inplace=False)\n",
      "  (pool1): MaxPool2d(kernel_size=2, stride=2, padding=0, dilation=1, ceil_mode=False)\n",
      "  (cnn2): Conv2d(16, 16, kernel_size=(5, 5), stride=(1, 1))\n",
      "  (batch_norm_b): BatchNorm2d(16, eps=1e-05, momentum=0.1, affine=True, track_running_stats=True)\n",
      "  (funcion_activacion_b): ReLU()\n",
      "  (dropout_b): Dropout(p=0.1, inplace=False)\n",
      "  (cnn3): Conv2d(16, 32, kernel_size=(3, 3), stride=(1, 1))\n",
      "  (batch_norm_c): BatchNorm2d(32, eps=1e-05, momentum=0.1, affine=True, track_running_stats=True)\n",
      "  (funcion_activacion_c): SELU()\n",
      "  (dropout_c): Dropout(p=0.2, inplace=False)\n",
      "  (cnn4): Conv2d(32, 32, kernel_size=(3, 3), stride=(1, 1), bias=False)\n",
      "  (batch_norm_d): BatchNorm2d(32, eps=1e-05, momentum=0.1, affine=True, track_running_stats=True)\n",
      "  (funcion_activacion_d): ReLU()\n",
      "  (dropout_d): Dropout(p=0.2, inplace=False)\n",
      "  (pool2): AvgPool2d(kernel_size=1, stride=1, padding=0)\n",
      "  (fc1): Linear(in_features=512, out_features=10, bias=True)\n",
      "), 0.9875438213348389]\n",
      "{'test_loss': 1.0697059631347656} 0.9875438213348389\n",
      "34.05616262881148\n"
     ]
    },
    {
     "name": "stderr",
     "output_type": "stream",
     "text": [
      "\n",
      "   | Name                 | Type        | Params\n",
      "------------------------------------------------------\n",
      "0  | cnn1                 | Conv2d      | 416   \n",
      "1  | batch_norm_a         | BatchNorm2d | 32    \n",
      "2  | funcion_activacion_a | ELU         | 0     \n",
      "3  | dropout_a            | Dropout     | 0     \n",
      "4  | pool1                | MaxPool2d   | 0     \n",
      "5  | cnn2                 | Conv2d      | 6.4 K \n",
      "6  | batch_norm_b         | BatchNorm2d | 32    \n",
      "7  | funcion_activacion_b | ReLU        | 0     \n",
      "8  | dropout_b            | Dropout     | 0     \n",
      "9  | cnn3                 | Conv2d      | 4.6 K \n",
      "10 | batch_norm_c         | BatchNorm2d | 64    \n",
      "11 | funcion_activacion_c | SELU        | 0     \n",
      "12 | dropout_c            | Dropout     | 0     \n",
      "13 | cnn4                 | Conv2d      | 9.2 K \n",
      "14 | batch_norm_d         | BatchNorm2d | 64    \n",
      "15 | funcion_activacion_d | ReLU        | 0     \n",
      "16 | dropout_d            | Dropout     | 0     \n",
      "17 | pool2                | AvgPool2d   | 0     \n",
      "18 | fc1                  | Linear      | 5.1 K \n",
      "------------------------------------------------------\n",
      "26.0 K    Trainable params\n",
      "0         Non-trainable params\n",
      "26.0 K    Total params\n",
      "0.104     Total estimated model params size (MB)\n"
     ]
    },
    {
     "data": {
      "application/vnd.jupyter.widget-view+json": {
       "model_id": "7c71c7e030e543c996fbb10e43b8b4fb",
       "version_major": 2,
       "version_minor": 0
      },
      "text/plain": [
       "Sanity Checking: 0it [00:00, ?it/s]"
      ]
     },
     "metadata": {},
     "output_type": "display_data"
    },
    {
     "data": {
      "application/vnd.jupyter.widget-view+json": {
       "model_id": "3f58dfcf2f9d4d75ad99417adf408885",
       "version_major": 2,
       "version_minor": 0
      },
      "text/plain": [
       "Training: 0it [00:00, ?it/s]"
      ]
     },
     "metadata": {},
     "output_type": "display_data"
    },
    {
     "data": {
      "application/vnd.jupyter.widget-view+json": {
       "model_id": "fab95cb9bb03468e82ae58abc4f6eb04",
       "version_major": 2,
       "version_minor": 0
      },
      "text/plain": [
       "Validation: 0it [00:00, ?it/s]"
      ]
     },
     "metadata": {},
     "output_type": "display_data"
    },
    {
     "data": {
      "application/vnd.jupyter.widget-view+json": {
       "model_id": "0405a3c9f7c046ae92ab07015e9f4f61",
       "version_major": 2,
       "version_minor": 0
      },
      "text/plain": [
       "Validation: 0it [00:00, ?it/s]"
      ]
     },
     "metadata": {},
     "output_type": "display_data"
    },
    {
     "data": {
      "application/vnd.jupyter.widget-view+json": {
       "model_id": "5950e2ec6b394569ac83a44d2f0dd6e2",
       "version_major": 2,
       "version_minor": 0
      },
      "text/plain": [
       "Validation: 0it [00:00, ?it/s]"
      ]
     },
     "metadata": {},
     "output_type": "display_data"
    },
    {
     "data": {
      "application/vnd.jupyter.widget-view+json": {
       "model_id": "518edab41b34468e9c1ac22447187c05",
       "version_major": 2,
       "version_minor": 0
      },
      "text/plain": [
       "Validation: 0it [00:00, ?it/s]"
      ]
     },
     "metadata": {},
     "output_type": "display_data"
    },
    {
     "data": {
      "application/vnd.jupyter.widget-view+json": {
       "model_id": "28ca408ff4a44ae1a0da4d88bf9b2b6c",
       "version_major": 2,
       "version_minor": 0
      },
      "text/plain": [
       "Validation: 0it [00:00, ?it/s]"
      ]
     },
     "metadata": {},
     "output_type": "display_data"
    },
    {
     "name": "stderr",
     "output_type": "stream",
     "text": [
      "`Trainer.fit` stopped: `max_epochs=5` reached.\n",
      "Restoring states from the checkpoint path at c:\\Users\\w10\\Desktop\\BMA\\UPV\\tia\\algoritmos_geneticos\\notebooks\\lightning_logs\\version_652\\checkpoints\\epoch=4-step=150.ckpt\n",
      "Loaded model weights from the checkpoint at c:\\Users\\w10\\Desktop\\BMA\\UPV\\tia\\algoritmos_geneticos\\notebooks\\lightning_logs\\version_652\\checkpoints\\epoch=4-step=150.ckpt\n"
     ]
    },
    {
     "data": {
      "application/vnd.jupyter.widget-view+json": {
       "model_id": "606a2598a1cc43f3b5225dce108397b5",
       "version_major": 2,
       "version_minor": 0
      },
      "text/plain": [
       "Testing: 0it [00:00, ?it/s]"
      ]
     },
     "metadata": {},
     "output_type": "display_data"
    },
    {
     "data": {
      "text/html": [
       "<pre style=\"white-space:pre;overflow-x:auto;line-height:normal;font-family:Menlo,'DejaVu Sans Mono',consolas,'Courier New',monospace\">┏━━━━━━━━━━━━━━━━━━━━━━━━━━━┳━━━━━━━━━━━━━━━━━━━━━━━━━━━┓\n",
       "┃<span style=\"font-weight: bold\">        Test metric        </span>┃<span style=\"font-weight: bold\">       DataLoader 0        </span>┃\n",
       "┡━━━━━━━━━━━━━━━━━━━━━━━━━━━╇━━━━━━━━━━━━━━━━━━━━━━━━━━━┩\n",
       "│<span style=\"color: #008080; text-decoration-color: #008080\">         test_loss         </span>│<span style=\"color: #800080; text-decoration-color: #800080\">    1.3993374109268188     </span>│\n",
       "└───────────────────────────┴───────────────────────────┘\n",
       "</pre>\n"
      ],
      "text/plain": [
       "┏━━━━━━━━━━━━━━━━━━━━━━━━━━━┳━━━━━━━━━━━━━━━━━━━━━━━━━━━┓\n",
       "┃\u001b[1m \u001b[0m\u001b[1m       Test metric       \u001b[0m\u001b[1m \u001b[0m┃\u001b[1m \u001b[0m\u001b[1m      DataLoader 0       \u001b[0m\u001b[1m \u001b[0m┃\n",
       "┡━━━━━━━━━━━━━━━━━━━━━━━━━━━╇━━━━━━━━━━━━━━━━━━━━━━━━━━━┩\n",
       "│\u001b[36m \u001b[0m\u001b[36m        test_loss        \u001b[0m\u001b[36m \u001b[0m│\u001b[35m \u001b[0m\u001b[35m   1.3993374109268188    \u001b[0m\u001b[35m \u001b[0m│\n",
       "└───────────────────────────┴───────────────────────────┘\n"
      ]
     },
     "metadata": {},
     "output_type": "display_data"
    },
    {
     "name": "stderr",
     "output_type": "stream",
     "text": [
      "GPU available: False, used: False\n",
      "TPU available: False, using: 0 TPU cores\n",
      "IPU available: False, using: 0 IPUs\n",
      "HPU available: False, using: 0 HPUs\n"
     ]
    },
    {
     "name": "stdout",
     "output_type": "stream",
     "text": [
      "[{'a_include_BN': False, 'a_include_bias': True, 'a_activation_type': ELU(alpha=1.0), 'a_dropout_range': 0.1, 'a_pool_type': MaxPool2d(kernel_size=2, stride=2, padding=0, dilation=1, ceil_mode=False), 'b_include_BN': False, 'b_include_bias': True, 'b_activation_type': ReLU(), 'b_dropout_range': 0.1, 'c_include_BN': True, 'c_include_bias': True, 'c_activation_type': SELU(), 'c_dropout_range': 0.2, 'd_include_BN': False, 'd_include_bias': False, 'd_activation_type': ReLU(), 'd_dropout_range': 0.2, 'b_pool_type': AvgPool2d(kernel_size=1, stride=1, padding=0), 'learning_rate': 0.1}, MyModel(\n",
      "  (cnn1): Conv2d(1, 16, kernel_size=(5, 5), stride=(1, 1))\n",
      "  (batch_norm_a): BatchNorm2d(16, eps=1e-05, momentum=0.1, affine=True, track_running_stats=True)\n",
      "  (funcion_activacion_a): ELU(alpha=1.0)\n",
      "  (dropout_a): Dropout(p=0.1, inplace=False)\n",
      "  (pool1): MaxPool2d(kernel_size=2, stride=2, padding=0, dilation=1, ceil_mode=False)\n",
      "  (cnn2): Conv2d(16, 16, kernel_size=(5, 5), stride=(1, 1))\n",
      "  (batch_norm_b): BatchNorm2d(16, eps=1e-05, momentum=0.1, affine=True, track_running_stats=True)\n",
      "  (funcion_activacion_b): ReLU()\n",
      "  (dropout_b): Dropout(p=0.1, inplace=False)\n",
      "  (cnn3): Conv2d(16, 32, kernel_size=(3, 3), stride=(1, 1))\n",
      "  (batch_norm_c): BatchNorm2d(32, eps=1e-05, momentum=0.1, affine=True, track_running_stats=True)\n",
      "  (funcion_activacion_c): SELU()\n",
      "  (dropout_c): Dropout(p=0.2, inplace=False)\n",
      "  (cnn4): Conv2d(32, 32, kernel_size=(3, 3), stride=(1, 1), bias=False)\n",
      "  (batch_norm_d): BatchNorm2d(32, eps=1e-05, momentum=0.1, affine=True, track_running_stats=True)\n",
      "  (funcion_activacion_d): ReLU()\n",
      "  (dropout_d): Dropout(p=0.2, inplace=False)\n",
      "  (pool2): AvgPool2d(kernel_size=1, stride=1, padding=0)\n",
      "  (fc1): Linear(in_features=512, out_features=10, bias=True)\n",
      "), 0.9875438213348389]\n",
      "{'test_loss': 1.3993374109268188} 0.9875438213348389\n",
      "32.3533544973709\n"
     ]
    },
    {
     "name": "stderr",
     "output_type": "stream",
     "text": [
      "\n",
      "   | Name                 | Type        | Params\n",
      "------------------------------------------------------\n",
      "0  | cnn1                 | Conv2d      | 416   \n",
      "1  | batch_norm_a         | BatchNorm2d | 32    \n",
      "2  | funcion_activacion_a | ELU         | 0     \n",
      "3  | dropout_a            | Dropout     | 0     \n",
      "4  | pool1                | MaxPool2d   | 0     \n",
      "5  | cnn2                 | Conv2d      | 6.4 K \n",
      "6  | batch_norm_b         | BatchNorm2d | 32    \n",
      "7  | funcion_activacion_b | ReLU        | 0     \n",
      "8  | dropout_b            | Dropout     | 0     \n",
      "9  | cnn3                 | Conv2d      | 4.6 K \n",
      "10 | batch_norm_c         | BatchNorm2d | 64    \n",
      "11 | funcion_activacion_c | SELU        | 0     \n",
      "12 | dropout_c            | Dropout     | 0     \n",
      "13 | cnn4                 | Conv2d      | 9.2 K \n",
      "14 | batch_norm_d         | BatchNorm2d | 64    \n",
      "15 | funcion_activacion_d | ReLU        | 0     \n",
      "16 | dropout_d            | Dropout     | 0     \n",
      "17 | pool2                | AvgPool2d   | 0     \n",
      "18 | fc1                  | Linear      | 5.1 K \n",
      "------------------------------------------------------\n",
      "26.0 K    Trainable params\n",
      "0         Non-trainable params\n",
      "26.0 K    Total params\n",
      "0.104     Total estimated model params size (MB)\n"
     ]
    },
    {
     "data": {
      "application/vnd.jupyter.widget-view+json": {
       "model_id": "2ec2e33f64f64591a0989993eba859e2",
       "version_major": 2,
       "version_minor": 0
      },
      "text/plain": [
       "Sanity Checking: 0it [00:00, ?it/s]"
      ]
     },
     "metadata": {},
     "output_type": "display_data"
    },
    {
     "data": {
      "application/vnd.jupyter.widget-view+json": {
       "model_id": "563761e751aa4a898c1b0aaa6fafcb69",
       "version_major": 2,
       "version_minor": 0
      },
      "text/plain": [
       "Training: 0it [00:00, ?it/s]"
      ]
     },
     "metadata": {},
     "output_type": "display_data"
    },
    {
     "data": {
      "application/vnd.jupyter.widget-view+json": {
       "model_id": "b0b3e71adfd54078845a748427e0f32d",
       "version_major": 2,
       "version_minor": 0
      },
      "text/plain": [
       "Validation: 0it [00:00, ?it/s]"
      ]
     },
     "metadata": {},
     "output_type": "display_data"
    },
    {
     "data": {
      "application/vnd.jupyter.widget-view+json": {
       "model_id": "1d10b01c16b04ad6a86b9b03e7b8ada3",
       "version_major": 2,
       "version_minor": 0
      },
      "text/plain": [
       "Validation: 0it [00:00, ?it/s]"
      ]
     },
     "metadata": {},
     "output_type": "display_data"
    },
    {
     "data": {
      "application/vnd.jupyter.widget-view+json": {
       "model_id": "692703980bf2481f9b2b1f517e4a9f90",
       "version_major": 2,
       "version_minor": 0
      },
      "text/plain": [
       "Validation: 0it [00:00, ?it/s]"
      ]
     },
     "metadata": {},
     "output_type": "display_data"
    },
    {
     "data": {
      "application/vnd.jupyter.widget-view+json": {
       "model_id": "a30b836ae3bc465bb356d89407b0d897",
       "version_major": 2,
       "version_minor": 0
      },
      "text/plain": [
       "Validation: 0it [00:00, ?it/s]"
      ]
     },
     "metadata": {},
     "output_type": "display_data"
    },
    {
     "data": {
      "application/vnd.jupyter.widget-view+json": {
       "model_id": "9cb44ed7eddb47119797265bc8a91e2c",
       "version_major": 2,
       "version_minor": 0
      },
      "text/plain": [
       "Validation: 0it [00:00, ?it/s]"
      ]
     },
     "metadata": {},
     "output_type": "display_data"
    },
    {
     "name": "stderr",
     "output_type": "stream",
     "text": [
      "`Trainer.fit` stopped: `max_epochs=5` reached.\n",
      "Restoring states from the checkpoint path at c:\\Users\\w10\\Desktop\\BMA\\UPV\\tia\\algoritmos_geneticos\\notebooks\\lightning_logs\\version_653\\checkpoints\\epoch=4-step=150.ckpt\n",
      "Loaded model weights from the checkpoint at c:\\Users\\w10\\Desktop\\BMA\\UPV\\tia\\algoritmos_geneticos\\notebooks\\lightning_logs\\version_653\\checkpoints\\epoch=4-step=150.ckpt\n"
     ]
    },
    {
     "data": {
      "application/vnd.jupyter.widget-view+json": {
       "model_id": "f3aa1b2ce61f42e99f26112f4afdc04d",
       "version_major": 2,
       "version_minor": 0
      },
      "text/plain": [
       "Testing: 0it [00:00, ?it/s]"
      ]
     },
     "metadata": {},
     "output_type": "display_data"
    },
    {
     "data": {
      "text/html": [
       "<pre style=\"white-space:pre;overflow-x:auto;line-height:normal;font-family:Menlo,'DejaVu Sans Mono',consolas,'Courier New',monospace\">┏━━━━━━━━━━━━━━━━━━━━━━━━━━━┳━━━━━━━━━━━━━━━━━━━━━━━━━━━┓\n",
       "┃<span style=\"font-weight: bold\">        Test metric        </span>┃<span style=\"font-weight: bold\">       DataLoader 0        </span>┃\n",
       "┡━━━━━━━━━━━━━━━━━━━━━━━━━━━╇━━━━━━━━━━━━━━━━━━━━━━━━━━━┩\n",
       "│<span style=\"color: #008080; text-decoration-color: #008080\">         test_loss         </span>│<span style=\"color: #800080; text-decoration-color: #800080\">     1.135550856590271     </span>│\n",
       "└───────────────────────────┴───────────────────────────┘\n",
       "</pre>\n"
      ],
      "text/plain": [
       "┏━━━━━━━━━━━━━━━━━━━━━━━━━━━┳━━━━━━━━━━━━━━━━━━━━━━━━━━━┓\n",
       "┃\u001b[1m \u001b[0m\u001b[1m       Test metric       \u001b[0m\u001b[1m \u001b[0m┃\u001b[1m \u001b[0m\u001b[1m      DataLoader 0       \u001b[0m\u001b[1m \u001b[0m┃\n",
       "┡━━━━━━━━━━━━━━━━━━━━━━━━━━━╇━━━━━━━━━━━━━━━━━━━━━━━━━━━┩\n",
       "│\u001b[36m \u001b[0m\u001b[36m        test_loss        \u001b[0m\u001b[36m \u001b[0m│\u001b[35m \u001b[0m\u001b[35m    1.135550856590271    \u001b[0m\u001b[35m \u001b[0m│\n",
       "└───────────────────────────┴───────────────────────────┘\n"
      ]
     },
     "metadata": {},
     "output_type": "display_data"
    },
    {
     "name": "stdout",
     "output_type": "stream",
     "text": [
      "[{'a_include_BN': False, 'a_include_bias': True, 'a_activation_type': ELU(alpha=1.0), 'a_dropout_range': 0.1, 'a_pool_type': MaxPool2d(kernel_size=2, stride=2, padding=0, dilation=1, ceil_mode=False), 'b_include_BN': False, 'b_include_bias': True, 'b_activation_type': ReLU(), 'b_dropout_range': 0.1, 'c_include_BN': True, 'c_include_bias': True, 'c_activation_type': SELU(), 'c_dropout_range': 0.2, 'd_include_BN': False, 'd_include_bias': False, 'd_activation_type': ReLU(), 'd_dropout_range': 0.2, 'b_pool_type': AvgPool2d(kernel_size=1, stride=1, padding=0), 'learning_rate': 0.1}, MyModel(\n",
      "  (cnn1): Conv2d(1, 16, kernel_size=(5, 5), stride=(1, 1))\n",
      "  (batch_norm_a): BatchNorm2d(16, eps=1e-05, momentum=0.1, affine=True, track_running_stats=True)\n",
      "  (funcion_activacion_a): ELU(alpha=1.0)\n",
      "  (dropout_a): Dropout(p=0.1, inplace=False)\n",
      "  (pool1): MaxPool2d(kernel_size=2, stride=2, padding=0, dilation=1, ceil_mode=False)\n",
      "  (cnn2): Conv2d(16, 16, kernel_size=(5, 5), stride=(1, 1))\n",
      "  (batch_norm_b): BatchNorm2d(16, eps=1e-05, momentum=0.1, affine=True, track_running_stats=True)\n",
      "  (funcion_activacion_b): ReLU()\n",
      "  (dropout_b): Dropout(p=0.1, inplace=False)\n",
      "  (cnn3): Conv2d(16, 32, kernel_size=(3, 3), stride=(1, 1))\n",
      "  (batch_norm_c): BatchNorm2d(32, eps=1e-05, momentum=0.1, affine=True, track_running_stats=True)\n",
      "  (funcion_activacion_c): SELU()\n",
      "  (dropout_c): Dropout(p=0.2, inplace=False)\n",
      "  (cnn4): Conv2d(32, 32, kernel_size=(3, 3), stride=(1, 1), bias=False)\n",
      "  (batch_norm_d): BatchNorm2d(32, eps=1e-05, momentum=0.1, affine=True, track_running_stats=True)\n",
      "  (funcion_activacion_d): ReLU()\n",
      "  (dropout_d): Dropout(p=0.2, inplace=False)\n",
      "  (pool2): AvgPool2d(kernel_size=1, stride=1, padding=0)\n",
      "  (fc1): Linear(in_features=512, out_features=10, bias=True)\n",
      "), 0.9875438213348389]\n",
      "{'test_loss': 1.135550856590271} 0.9875438213348389\n",
      "30.735686772502355\n"
     ]
    },
    {
     "name": "stderr",
     "output_type": "stream",
     "text": [
      "GPU available: False, used: False\n",
      "TPU available: False, using: 0 TPU cores\n",
      "IPU available: False, using: 0 IPUs\n",
      "HPU available: False, using: 0 HPUs\n",
      "\n",
      "   | Name                 | Type        | Params\n",
      "------------------------------------------------------\n",
      "0  | cnn1                 | Conv2d      | 416   \n",
      "1  | batch_norm_a         | BatchNorm2d | 32    \n",
      "2  | funcion_activacion_a | ELU         | 0     \n",
      "3  | dropout_a            | Dropout     | 0     \n",
      "4  | pool1                | MaxPool2d   | 0     \n",
      "5  | cnn2                 | Conv2d      | 6.4 K \n",
      "6  | batch_norm_b         | BatchNorm2d | 32    \n",
      "7  | funcion_activacion_b | ReLU        | 0     \n",
      "8  | dropout_b            | Dropout     | 0     \n",
      "9  | cnn3                 | Conv2d      | 4.6 K \n",
      "10 | batch_norm_c         | BatchNorm2d | 64    \n",
      "11 | funcion_activacion_c | SELU        | 0     \n",
      "12 | dropout_c            | Dropout     | 0     \n",
      "13 | cnn4                 | Conv2d      | 9.2 K \n",
      "14 | batch_norm_d         | BatchNorm2d | 64    \n",
      "15 | funcion_activacion_d | ReLU        | 0     \n",
      "16 | dropout_d            | Dropout     | 0     \n",
      "17 | pool2                | AvgPool2d   | 0     \n",
      "18 | fc1                  | Linear      | 5.1 K \n",
      "------------------------------------------------------\n",
      "26.0 K    Trainable params\n",
      "0         Non-trainable params\n",
      "26.0 K    Total params\n",
      "0.104     Total estimated model params size (MB)\n"
     ]
    },
    {
     "data": {
      "application/vnd.jupyter.widget-view+json": {
       "model_id": "d2168e154f8748c583c9d774bbe0a9fc",
       "version_major": 2,
       "version_minor": 0
      },
      "text/plain": [
       "Sanity Checking: 0it [00:00, ?it/s]"
      ]
     },
     "metadata": {},
     "output_type": "display_data"
    },
    {
     "data": {
      "application/vnd.jupyter.widget-view+json": {
       "model_id": "217c46da9b524c36b2250fdff6d22af6",
       "version_major": 2,
       "version_minor": 0
      },
      "text/plain": [
       "Training: 0it [00:00, ?it/s]"
      ]
     },
     "metadata": {},
     "output_type": "display_data"
    },
    {
     "data": {
      "application/vnd.jupyter.widget-view+json": {
       "model_id": "d20b156e51dd4f13bf5b09250ba9d146",
       "version_major": 2,
       "version_minor": 0
      },
      "text/plain": [
       "Validation: 0it [00:00, ?it/s]"
      ]
     },
     "metadata": {},
     "output_type": "display_data"
    },
    {
     "data": {
      "application/vnd.jupyter.widget-view+json": {
       "model_id": "936c7e374d234373bc83b70dbe61dfbc",
       "version_major": 2,
       "version_minor": 0
      },
      "text/plain": [
       "Validation: 0it [00:00, ?it/s]"
      ]
     },
     "metadata": {},
     "output_type": "display_data"
    },
    {
     "data": {
      "application/vnd.jupyter.widget-view+json": {
       "model_id": "c56b48bf4c1748ab9b923a3bbf9a805e",
       "version_major": 2,
       "version_minor": 0
      },
      "text/plain": [
       "Validation: 0it [00:00, ?it/s]"
      ]
     },
     "metadata": {},
     "output_type": "display_data"
    },
    {
     "data": {
      "application/vnd.jupyter.widget-view+json": {
       "model_id": "afb5d32c120740ff833790924f3a6b46",
       "version_major": 2,
       "version_minor": 0
      },
      "text/plain": [
       "Validation: 0it [00:00, ?it/s]"
      ]
     },
     "metadata": {},
     "output_type": "display_data"
    },
    {
     "data": {
      "application/vnd.jupyter.widget-view+json": {
       "model_id": "7cca1ed9bf9b4f3fb50b464039a2a6fd",
       "version_major": 2,
       "version_minor": 0
      },
      "text/plain": [
       "Validation: 0it [00:00, ?it/s]"
      ]
     },
     "metadata": {},
     "output_type": "display_data"
    },
    {
     "name": "stderr",
     "output_type": "stream",
     "text": [
      "`Trainer.fit` stopped: `max_epochs=5` reached.\n",
      "Restoring states from the checkpoint path at c:\\Users\\w10\\Desktop\\BMA\\UPV\\tia\\algoritmos_geneticos\\notebooks\\lightning_logs\\version_654\\checkpoints\\epoch=4-step=150.ckpt\n",
      "Loaded model weights from the checkpoint at c:\\Users\\w10\\Desktop\\BMA\\UPV\\tia\\algoritmos_geneticos\\notebooks\\lightning_logs\\version_654\\checkpoints\\epoch=4-step=150.ckpt\n"
     ]
    },
    {
     "data": {
      "application/vnd.jupyter.widget-view+json": {
       "model_id": "715573618fde40e6ad2b3a9258baa009",
       "version_major": 2,
       "version_minor": 0
      },
      "text/plain": [
       "Testing: 0it [00:00, ?it/s]"
      ]
     },
     "metadata": {},
     "output_type": "display_data"
    },
    {
     "data": {
      "text/html": [
       "<pre style=\"white-space:pre;overflow-x:auto;line-height:normal;font-family:Menlo,'DejaVu Sans Mono',consolas,'Courier New',monospace\">┏━━━━━━━━━━━━━━━━━━━━━━━━━━━┳━━━━━━━━━━━━━━━━━━━━━━━━━━━┓\n",
       "┃<span style=\"font-weight: bold\">        Test metric        </span>┃<span style=\"font-weight: bold\">       DataLoader 0        </span>┃\n",
       "┡━━━━━━━━━━━━━━━━━━━━━━━━━━━╇━━━━━━━━━━━━━━━━━━━━━━━━━━━┩\n",
       "│<span style=\"color: #008080; text-decoration-color: #008080\">         test_loss         </span>│<span style=\"color: #800080; text-decoration-color: #800080\">    1.0026899576187134     </span>│\n",
       "└───────────────────────────┴───────────────────────────┘\n",
       "</pre>\n"
      ],
      "text/plain": [
       "┏━━━━━━━━━━━━━━━━━━━━━━━━━━━┳━━━━━━━━━━━━━━━━━━━━━━━━━━━┓\n",
       "┃\u001b[1m \u001b[0m\u001b[1m       Test metric       \u001b[0m\u001b[1m \u001b[0m┃\u001b[1m \u001b[0m\u001b[1m      DataLoader 0       \u001b[0m\u001b[1m \u001b[0m┃\n",
       "┡━━━━━━━━━━━━━━━━━━━━━━━━━━━╇━━━━━━━━━━━━━━━━━━━━━━━━━━━┩\n",
       "│\u001b[36m \u001b[0m\u001b[36m        test_loss        \u001b[0m\u001b[36m \u001b[0m│\u001b[35m \u001b[0m\u001b[35m   1.0026899576187134    \u001b[0m\u001b[35m \u001b[0m│\n",
       "└───────────────────────────┴───────────────────────────┘\n"
      ]
     },
     "metadata": {},
     "output_type": "display_data"
    },
    {
     "name": "stderr",
     "output_type": "stream",
     "text": [
      "GPU available: False, used: False\n",
      "TPU available: False, using: 0 TPU cores\n",
      "IPU available: False, using: 0 IPUs\n",
      "HPU available: False, using: 0 HPUs\n"
     ]
    },
    {
     "name": "stdout",
     "output_type": "stream",
     "text": [
      "[{'a_include_BN': False, 'a_include_bias': True, 'a_activation_type': ELU(alpha=1.0), 'a_dropout_range': 0.1, 'a_pool_type': MaxPool2d(kernel_size=2, stride=2, padding=0, dilation=1, ceil_mode=False), 'b_include_BN': False, 'b_include_bias': True, 'b_activation_type': ReLU(), 'b_dropout_range': 0.1, 'c_include_BN': True, 'c_include_bias': True, 'c_activation_type': SELU(), 'c_dropout_range': 0.2, 'd_include_BN': False, 'd_include_bias': False, 'd_activation_type': ReLU(), 'd_dropout_range': 0.2, 'b_pool_type': AvgPool2d(kernel_size=1, stride=1, padding=0), 'learning_rate': 0.1}, MyModel(\n",
      "  (cnn1): Conv2d(1, 16, kernel_size=(5, 5), stride=(1, 1))\n",
      "  (batch_norm_a): BatchNorm2d(16, eps=1e-05, momentum=0.1, affine=True, track_running_stats=True)\n",
      "  (funcion_activacion_a): ELU(alpha=1.0)\n",
      "  (dropout_a): Dropout(p=0.1, inplace=False)\n",
      "  (pool1): MaxPool2d(kernel_size=2, stride=2, padding=0, dilation=1, ceil_mode=False)\n",
      "  (cnn2): Conv2d(16, 16, kernel_size=(5, 5), stride=(1, 1))\n",
      "  (batch_norm_b): BatchNorm2d(16, eps=1e-05, momentum=0.1, affine=True, track_running_stats=True)\n",
      "  (funcion_activacion_b): ReLU()\n",
      "  (dropout_b): Dropout(p=0.1, inplace=False)\n",
      "  (cnn3): Conv2d(16, 32, kernel_size=(3, 3), stride=(1, 1))\n",
      "  (batch_norm_c): BatchNorm2d(32, eps=1e-05, momentum=0.1, affine=True, track_running_stats=True)\n",
      "  (funcion_activacion_c): SELU()\n",
      "  (dropout_c): Dropout(p=0.2, inplace=False)\n",
      "  (cnn4): Conv2d(32, 32, kernel_size=(3, 3), stride=(1, 1), bias=False)\n",
      "  (batch_norm_d): BatchNorm2d(32, eps=1e-05, momentum=0.1, affine=True, track_running_stats=True)\n",
      "  (funcion_activacion_d): ReLU()\n",
      "  (dropout_d): Dropout(p=0.2, inplace=False)\n",
      "  (pool2): AvgPool2d(kernel_size=1, stride=1, padding=0)\n",
      "  (fc1): Linear(in_features=512, out_features=10, bias=True)\n",
      "), 1.135550856590271]\n",
      "{'test_loss': 1.0026899576187134} 1.135550856590271\n",
      "29.198902433877237\n"
     ]
    },
    {
     "name": "stderr",
     "output_type": "stream",
     "text": [
      "\n",
      "   | Name                 | Type        | Params\n",
      "------------------------------------------------------\n",
      "0  | cnn1                 | Conv2d      | 416   \n",
      "1  | batch_norm_a         | BatchNorm2d | 32    \n",
      "2  | funcion_activacion_a | ELU         | 0     \n",
      "3  | dropout_a            | Dropout     | 0     \n",
      "4  | pool1                | MaxPool2d   | 0     \n",
      "5  | cnn2                 | Conv2d      | 6.4 K \n",
      "6  | batch_norm_b         | BatchNorm2d | 32    \n",
      "7  | funcion_activacion_b | ReLU        | 0     \n",
      "8  | dropout_b            | Dropout     | 0     \n",
      "9  | cnn3                 | Conv2d      | 4.6 K \n",
      "10 | batch_norm_c         | BatchNorm2d | 64    \n",
      "11 | funcion_activacion_c | SELU        | 0     \n",
      "12 | dropout_c            | Dropout     | 0     \n",
      "13 | cnn4                 | Conv2d      | 9.2 K \n",
      "14 | batch_norm_d         | BatchNorm2d | 64    \n",
      "15 | funcion_activacion_d | ReLU        | 0     \n",
      "16 | dropout_d            | Dropout     | 0     \n",
      "17 | pool2                | AvgPool2d   | 0     \n",
      "18 | fc1                  | Linear      | 5.1 K \n",
      "------------------------------------------------------\n",
      "26.0 K    Trainable params\n",
      "0         Non-trainable params\n",
      "26.0 K    Total params\n",
      "0.104     Total estimated model params size (MB)\n"
     ]
    },
    {
     "data": {
      "application/vnd.jupyter.widget-view+json": {
       "model_id": "1559f837eb0349468b9f094e3f213e96",
       "version_major": 2,
       "version_minor": 0
      },
      "text/plain": [
       "Sanity Checking: 0it [00:00, ?it/s]"
      ]
     },
     "metadata": {},
     "output_type": "display_data"
    },
    {
     "data": {
      "application/vnd.jupyter.widget-view+json": {
       "model_id": "921a08be4ce6484284c8a41c949c469c",
       "version_major": 2,
       "version_minor": 0
      },
      "text/plain": [
       "Training: 0it [00:00, ?it/s]"
      ]
     },
     "metadata": {},
     "output_type": "display_data"
    },
    {
     "data": {
      "application/vnd.jupyter.widget-view+json": {
       "model_id": "2a53b041279c4719881916178d5e7b99",
       "version_major": 2,
       "version_minor": 0
      },
      "text/plain": [
       "Validation: 0it [00:00, ?it/s]"
      ]
     },
     "metadata": {},
     "output_type": "display_data"
    },
    {
     "data": {
      "application/vnd.jupyter.widget-view+json": {
       "model_id": "798dfe25030e4fdab5522d803ae3d99d",
       "version_major": 2,
       "version_minor": 0
      },
      "text/plain": [
       "Validation: 0it [00:00, ?it/s]"
      ]
     },
     "metadata": {},
     "output_type": "display_data"
    },
    {
     "data": {
      "application/vnd.jupyter.widget-view+json": {
       "model_id": "b1d46ec140e64d778965f3ca61d035ec",
       "version_major": 2,
       "version_minor": 0
      },
      "text/plain": [
       "Validation: 0it [00:00, ?it/s]"
      ]
     },
     "metadata": {},
     "output_type": "display_data"
    },
    {
     "data": {
      "application/vnd.jupyter.widget-view+json": {
       "model_id": "88aa0c684ee24175b43ffa0964682936",
       "version_major": 2,
       "version_minor": 0
      },
      "text/plain": [
       "Validation: 0it [00:00, ?it/s]"
      ]
     },
     "metadata": {},
     "output_type": "display_data"
    },
    {
     "data": {
      "application/vnd.jupyter.widget-view+json": {
       "model_id": "824ec704b4d84193b77dfe79dba020eb",
       "version_major": 2,
       "version_minor": 0
      },
      "text/plain": [
       "Validation: 0it [00:00, ?it/s]"
      ]
     },
     "metadata": {},
     "output_type": "display_data"
    },
    {
     "name": "stderr",
     "output_type": "stream",
     "text": [
      "`Trainer.fit` stopped: `max_epochs=5` reached.\n",
      "Restoring states from the checkpoint path at c:\\Users\\w10\\Desktop\\BMA\\UPV\\tia\\algoritmos_geneticos\\notebooks\\lightning_logs\\version_655\\checkpoints\\epoch=4-step=150.ckpt\n",
      "Loaded model weights from the checkpoint at c:\\Users\\w10\\Desktop\\BMA\\UPV\\tia\\algoritmos_geneticos\\notebooks\\lightning_logs\\version_655\\checkpoints\\epoch=4-step=150.ckpt\n"
     ]
    },
    {
     "data": {
      "application/vnd.jupyter.widget-view+json": {
       "model_id": "58ebb4f741f544f186ddfa9997bc5d4b",
       "version_major": 2,
       "version_minor": 0
      },
      "text/plain": [
       "Testing: 0it [00:00, ?it/s]"
      ]
     },
     "metadata": {},
     "output_type": "display_data"
    },
    {
     "data": {
      "text/html": [
       "<pre style=\"white-space:pre;overflow-x:auto;line-height:normal;font-family:Menlo,'DejaVu Sans Mono',consolas,'Courier New',monospace\">┏━━━━━━━━━━━━━━━━━━━━━━━━━━━┳━━━━━━━━━━━━━━━━━━━━━━━━━━━┓\n",
       "┃<span style=\"font-weight: bold\">        Test metric        </span>┃<span style=\"font-weight: bold\">       DataLoader 0        </span>┃\n",
       "┡━━━━━━━━━━━━━━━━━━━━━━━━━━━╇━━━━━━━━━━━━━━━━━━━━━━━━━━━┩\n",
       "│<span style=\"color: #008080; text-decoration-color: #008080\">         test_loss         </span>│<span style=\"color: #800080; text-decoration-color: #800080\">    1.1848037242889404     </span>│\n",
       "└───────────────────────────┴───────────────────────────┘\n",
       "</pre>\n"
      ],
      "text/plain": [
       "┏━━━━━━━━━━━━━━━━━━━━━━━━━━━┳━━━━━━━━━━━━━━━━━━━━━━━━━━━┓\n",
       "┃\u001b[1m \u001b[0m\u001b[1m       Test metric       \u001b[0m\u001b[1m \u001b[0m┃\u001b[1m \u001b[0m\u001b[1m      DataLoader 0       \u001b[0m\u001b[1m \u001b[0m┃\n",
       "┡━━━━━━━━━━━━━━━━━━━━━━━━━━━╇━━━━━━━━━━━━━━━━━━━━━━━━━━━┩\n",
       "│\u001b[36m \u001b[0m\u001b[36m        test_loss        \u001b[0m\u001b[36m \u001b[0m│\u001b[35m \u001b[0m\u001b[35m   1.1848037242889404    \u001b[0m\u001b[35m \u001b[0m│\n",
       "└───────────────────────────┴───────────────────────────┘\n"
      ]
     },
     "metadata": {},
     "output_type": "display_data"
    },
    {
     "name": "stderr",
     "output_type": "stream",
     "text": [
      "GPU available: False, used: False\n",
      "TPU available: False, using: 0 TPU cores\n",
      "IPU available: False, using: 0 IPUs\n",
      "HPU available: False, using: 0 HPUs\n"
     ]
    },
    {
     "name": "stdout",
     "output_type": "stream",
     "text": [
      "[{'a_include_BN': False, 'a_include_bias': True, 'a_activation_type': ELU(alpha=1.0), 'a_dropout_range': 0.1, 'a_pool_type': MaxPool2d(kernel_size=2, stride=2, padding=0, dilation=1, ceil_mode=False), 'b_include_BN': False, 'b_include_bias': True, 'b_activation_type': ReLU(), 'b_dropout_range': 0.1, 'c_include_BN': True, 'c_include_bias': True, 'c_activation_type': SELU(), 'c_dropout_range': 0.2, 'd_include_BN': False, 'd_include_bias': False, 'd_activation_type': ReLU(), 'd_dropout_range': 0.2, 'b_pool_type': AvgPool2d(kernel_size=1, stride=1, padding=0), 'learning_rate': 0.1}, MyModel(\n",
      "  (cnn1): Conv2d(1, 16, kernel_size=(5, 5), stride=(1, 1))\n",
      "  (batch_norm_a): BatchNorm2d(16, eps=1e-05, momentum=0.1, affine=True, track_running_stats=True)\n",
      "  (funcion_activacion_a): ELU(alpha=1.0)\n",
      "  (dropout_a): Dropout(p=0.1, inplace=False)\n",
      "  (pool1): MaxPool2d(kernel_size=2, stride=2, padding=0, dilation=1, ceil_mode=False)\n",
      "  (cnn2): Conv2d(16, 16, kernel_size=(5, 5), stride=(1, 1))\n",
      "  (batch_norm_b): BatchNorm2d(16, eps=1e-05, momentum=0.1, affine=True, track_running_stats=True)\n",
      "  (funcion_activacion_b): ReLU()\n",
      "  (dropout_b): Dropout(p=0.1, inplace=False)\n",
      "  (cnn3): Conv2d(16, 32, kernel_size=(3, 3), stride=(1, 1))\n",
      "  (batch_norm_c): BatchNorm2d(32, eps=1e-05, momentum=0.1, affine=True, track_running_stats=True)\n",
      "  (funcion_activacion_c): SELU()\n",
      "  (dropout_c): Dropout(p=0.2, inplace=False)\n",
      "  (cnn4): Conv2d(32, 32, kernel_size=(3, 3), stride=(1, 1), bias=False)\n",
      "  (batch_norm_d): BatchNorm2d(32, eps=1e-05, momentum=0.1, affine=True, track_running_stats=True)\n",
      "  (funcion_activacion_d): ReLU()\n",
      "  (dropout_d): Dropout(p=0.2, inplace=False)\n",
      "  (pool2): AvgPool2d(kernel_size=1, stride=1, padding=0)\n",
      "  (fc1): Linear(in_features=512, out_features=10, bias=True)\n",
      "), 1.0026899576187134]\n",
      "{'test_loss': 1.1848037242889404} 1.0026899576187134\n",
      "27.738957312183373\n"
     ]
    },
    {
     "name": "stderr",
     "output_type": "stream",
     "text": [
      "\n",
      "   | Name                 | Type        | Params\n",
      "------------------------------------------------------\n",
      "0  | cnn1                 | Conv2d      | 416   \n",
      "1  | batch_norm_a         | BatchNorm2d | 32    \n",
      "2  | funcion_activacion_a | ELU         | 0     \n",
      "3  | dropout_a            | Dropout     | 0     \n",
      "4  | pool1                | MaxPool2d   | 0     \n",
      "5  | cnn2                 | Conv2d      | 6.4 K \n",
      "6  | batch_norm_b         | BatchNorm2d | 32    \n",
      "7  | funcion_activacion_b | ReLU        | 0     \n",
      "8  | dropout_b            | Dropout     | 0     \n",
      "9  | cnn3                 | Conv2d      | 4.6 K \n",
      "10 | batch_norm_c         | BatchNorm2d | 64    \n",
      "11 | funcion_activacion_c | SELU        | 0     \n",
      "12 | dropout_c            | Dropout     | 0     \n",
      "13 | cnn4                 | Conv2d      | 9.2 K \n",
      "14 | batch_norm_d         | BatchNorm2d | 64    \n",
      "15 | funcion_activacion_d | ReLU        | 0     \n",
      "16 | dropout_d            | Dropout     | 0     \n",
      "17 | pool2                | AvgPool2d   | 0     \n",
      "18 | fc1                  | Linear      | 5.1 K \n",
      "------------------------------------------------------\n",
      "26.0 K    Trainable params\n",
      "0         Non-trainable params\n",
      "26.0 K    Total params\n",
      "0.104     Total estimated model params size (MB)\n"
     ]
    },
    {
     "data": {
      "application/vnd.jupyter.widget-view+json": {
       "model_id": "ee1bb2a66e1f48c6b94e3f8253199da7",
       "version_major": 2,
       "version_minor": 0
      },
      "text/plain": [
       "Sanity Checking: 0it [00:00, ?it/s]"
      ]
     },
     "metadata": {},
     "output_type": "display_data"
    },
    {
     "data": {
      "application/vnd.jupyter.widget-view+json": {
       "model_id": "3b3582a2fc274a019f820ccae870e01f",
       "version_major": 2,
       "version_minor": 0
      },
      "text/plain": [
       "Training: 0it [00:00, ?it/s]"
      ]
     },
     "metadata": {},
     "output_type": "display_data"
    },
    {
     "data": {
      "application/vnd.jupyter.widget-view+json": {
       "model_id": "d3956878766d43cabec988a18090f39f",
       "version_major": 2,
       "version_minor": 0
      },
      "text/plain": [
       "Validation: 0it [00:00, ?it/s]"
      ]
     },
     "metadata": {},
     "output_type": "display_data"
    },
    {
     "data": {
      "application/vnd.jupyter.widget-view+json": {
       "model_id": "58a06979aa59433d88c613639674fb31",
       "version_major": 2,
       "version_minor": 0
      },
      "text/plain": [
       "Validation: 0it [00:00, ?it/s]"
      ]
     },
     "metadata": {},
     "output_type": "display_data"
    },
    {
     "data": {
      "application/vnd.jupyter.widget-view+json": {
       "model_id": "ead51ecead5c41368c06dedd365673f8",
       "version_major": 2,
       "version_minor": 0
      },
      "text/plain": [
       "Validation: 0it [00:00, ?it/s]"
      ]
     },
     "metadata": {},
     "output_type": "display_data"
    },
    {
     "data": {
      "application/vnd.jupyter.widget-view+json": {
       "model_id": "8a2b9a15816044d49f9fa1b7443266b0",
       "version_major": 2,
       "version_minor": 0
      },
      "text/plain": [
       "Validation: 0it [00:00, ?it/s]"
      ]
     },
     "metadata": {},
     "output_type": "display_data"
    },
    {
     "data": {
      "application/vnd.jupyter.widget-view+json": {
       "model_id": "543bcdaf07ef4758976da77f809111af",
       "version_major": 2,
       "version_minor": 0
      },
      "text/plain": [
       "Validation: 0it [00:00, ?it/s]"
      ]
     },
     "metadata": {},
     "output_type": "display_data"
    },
    {
     "name": "stderr",
     "output_type": "stream",
     "text": [
      "`Trainer.fit` stopped: `max_epochs=5` reached.\n",
      "Restoring states from the checkpoint path at c:\\Users\\w10\\Desktop\\BMA\\UPV\\tia\\algoritmos_geneticos\\notebooks\\lightning_logs\\version_656\\checkpoints\\epoch=4-step=150.ckpt\n",
      "Loaded model weights from the checkpoint at c:\\Users\\w10\\Desktop\\BMA\\UPV\\tia\\algoritmos_geneticos\\notebooks\\lightning_logs\\version_656\\checkpoints\\epoch=4-step=150.ckpt\n"
     ]
    },
    {
     "data": {
      "application/vnd.jupyter.widget-view+json": {
       "model_id": "fed51566896b41fdb4304261586f9266",
       "version_major": 2,
       "version_minor": 0
      },
      "text/plain": [
       "Testing: 0it [00:00, ?it/s]"
      ]
     },
     "metadata": {},
     "output_type": "display_data"
    },
    {
     "data": {
      "text/html": [
       "<pre style=\"white-space:pre;overflow-x:auto;line-height:normal;font-family:Menlo,'DejaVu Sans Mono',consolas,'Courier New',monospace\">┏━━━━━━━━━━━━━━━━━━━━━━━━━━━┳━━━━━━━━━━━━━━━━━━━━━━━━━━━┓\n",
       "┃<span style=\"font-weight: bold\">        Test metric        </span>┃<span style=\"font-weight: bold\">       DataLoader 0        </span>┃\n",
       "┡━━━━━━━━━━━━━━━━━━━━━━━━━━━╇━━━━━━━━━━━━━━━━━━━━━━━━━━━┩\n",
       "│<span style=\"color: #008080; text-decoration-color: #008080\">         test_loss         </span>│<span style=\"color: #800080; text-decoration-color: #800080\">     1.030042290687561     </span>│\n",
       "└───────────────────────────┴───────────────────────────┘\n",
       "</pre>\n"
      ],
      "text/plain": [
       "┏━━━━━━━━━━━━━━━━━━━━━━━━━━━┳━━━━━━━━━━━━━━━━━━━━━━━━━━━┓\n",
       "┃\u001b[1m \u001b[0m\u001b[1m       Test metric       \u001b[0m\u001b[1m \u001b[0m┃\u001b[1m \u001b[0m\u001b[1m      DataLoader 0       \u001b[0m\u001b[1m \u001b[0m┃\n",
       "┡━━━━━━━━━━━━━━━━━━━━━━━━━━━╇━━━━━━━━━━━━━━━━━━━━━━━━━━━┩\n",
       "│\u001b[36m \u001b[0m\u001b[36m        test_loss        \u001b[0m\u001b[36m \u001b[0m│\u001b[35m \u001b[0m\u001b[35m    1.030042290687561    \u001b[0m\u001b[35m \u001b[0m│\n",
       "└───────────────────────────┴───────────────────────────┘\n"
      ]
     },
     "metadata": {},
     "output_type": "display_data"
    },
    {
     "name": "stderr",
     "output_type": "stream",
     "text": [
      "GPU available: False, used: False\n",
      "TPU available: False, using: 0 TPU cores\n",
      "IPU available: False, using: 0 IPUs\n",
      "HPU available: False, using: 0 HPUs\n"
     ]
    },
    {
     "name": "stdout",
     "output_type": "stream",
     "text": [
      "[{'a_include_BN': False, 'a_include_bias': True, 'a_activation_type': ELU(alpha=1.0), 'a_dropout_range': 0.1, 'a_pool_type': MaxPool2d(kernel_size=2, stride=2, padding=0, dilation=1, ceil_mode=False), 'b_include_BN': False, 'b_include_bias': True, 'b_activation_type': ReLU(), 'b_dropout_range': 0.1, 'c_include_BN': True, 'c_include_bias': True, 'c_activation_type': SELU(), 'c_dropout_range': 0.2, 'd_include_BN': False, 'd_include_bias': False, 'd_activation_type': ReLU(), 'd_dropout_range': 0.2, 'b_pool_type': AvgPool2d(kernel_size=1, stride=1, padding=0), 'learning_rate': 0.1}, MyModel(\n",
      "  (cnn1): Conv2d(1, 16, kernel_size=(5, 5), stride=(1, 1))\n",
      "  (batch_norm_a): BatchNorm2d(16, eps=1e-05, momentum=0.1, affine=True, track_running_stats=True)\n",
      "  (funcion_activacion_a): ELU(alpha=1.0)\n",
      "  (dropout_a): Dropout(p=0.1, inplace=False)\n",
      "  (pool1): MaxPool2d(kernel_size=2, stride=2, padding=0, dilation=1, ceil_mode=False)\n",
      "  (cnn2): Conv2d(16, 16, kernel_size=(5, 5), stride=(1, 1))\n",
      "  (batch_norm_b): BatchNorm2d(16, eps=1e-05, momentum=0.1, affine=True, track_running_stats=True)\n",
      "  (funcion_activacion_b): ReLU()\n",
      "  (dropout_b): Dropout(p=0.1, inplace=False)\n",
      "  (cnn3): Conv2d(16, 32, kernel_size=(3, 3), stride=(1, 1))\n",
      "  (batch_norm_c): BatchNorm2d(32, eps=1e-05, momentum=0.1, affine=True, track_running_stats=True)\n",
      "  (funcion_activacion_c): SELU()\n",
      "  (dropout_c): Dropout(p=0.2, inplace=False)\n",
      "  (cnn4): Conv2d(32, 32, kernel_size=(3, 3), stride=(1, 1), bias=False)\n",
      "  (batch_norm_d): BatchNorm2d(32, eps=1e-05, momentum=0.1, affine=True, track_running_stats=True)\n",
      "  (funcion_activacion_d): ReLU()\n",
      "  (dropout_d): Dropout(p=0.2, inplace=False)\n",
      "  (pool2): AvgPool2d(kernel_size=1, stride=1, padding=0)\n",
      "  (fc1): Linear(in_features=512, out_features=10, bias=True)\n",
      "), 1.0026899576187134]\n",
      "{'test_loss': 1.030042290687561} 1.0026899576187134\n",
      "26.352009446574204\n"
     ]
    },
    {
     "name": "stderr",
     "output_type": "stream",
     "text": [
      "\n",
      "   | Name                 | Type        | Params\n",
      "------------------------------------------------------\n",
      "0  | cnn1                 | Conv2d      | 416   \n",
      "1  | batch_norm_a         | BatchNorm2d | 32    \n",
      "2  | funcion_activacion_a | ELU         | 0     \n",
      "3  | dropout_a            | Dropout     | 0     \n",
      "4  | pool1                | MaxPool2d   | 0     \n",
      "5  | cnn2                 | Conv2d      | 6.4 K \n",
      "6  | batch_norm_b         | BatchNorm2d | 32    \n",
      "7  | funcion_activacion_b | ReLU        | 0     \n",
      "8  | dropout_b            | Dropout     | 0     \n",
      "9  | cnn3                 | Conv2d      | 4.6 K \n",
      "10 | batch_norm_c         | BatchNorm2d | 64    \n",
      "11 | funcion_activacion_c | SELU        | 0     \n",
      "12 | dropout_c            | Dropout     | 0     \n",
      "13 | cnn4                 | Conv2d      | 9.2 K \n",
      "14 | batch_norm_d         | BatchNorm2d | 64    \n",
      "15 | funcion_activacion_d | ReLU        | 0     \n",
      "16 | dropout_d            | Dropout     | 0     \n",
      "17 | pool2                | AvgPool2d   | 0     \n",
      "18 | fc1                  | Linear      | 5.1 K \n",
      "------------------------------------------------------\n",
      "26.0 K    Trainable params\n",
      "0         Non-trainable params\n",
      "26.0 K    Total params\n",
      "0.104     Total estimated model params size (MB)\n"
     ]
    },
    {
     "data": {
      "application/vnd.jupyter.widget-view+json": {
       "model_id": "e3b604829a0e4136bb44bf5f08ac2892",
       "version_major": 2,
       "version_minor": 0
      },
      "text/plain": [
       "Sanity Checking: 0it [00:00, ?it/s]"
      ]
     },
     "metadata": {},
     "output_type": "display_data"
    },
    {
     "data": {
      "application/vnd.jupyter.widget-view+json": {
       "model_id": "2a44f30ad83642e79937826440d1ad6d",
       "version_major": 2,
       "version_minor": 0
      },
      "text/plain": [
       "Training: 0it [00:00, ?it/s]"
      ]
     },
     "metadata": {},
     "output_type": "display_data"
    },
    {
     "data": {
      "application/vnd.jupyter.widget-view+json": {
       "model_id": "3bb595c5a4d942b39ef04ff8a376fb81",
       "version_major": 2,
       "version_minor": 0
      },
      "text/plain": [
       "Validation: 0it [00:00, ?it/s]"
      ]
     },
     "metadata": {},
     "output_type": "display_data"
    },
    {
     "data": {
      "application/vnd.jupyter.widget-view+json": {
       "model_id": "bc2a3b0f0ec541509a4f735bb6dfef1f",
       "version_major": 2,
       "version_minor": 0
      },
      "text/plain": [
       "Validation: 0it [00:00, ?it/s]"
      ]
     },
     "metadata": {},
     "output_type": "display_data"
    },
    {
     "data": {
      "application/vnd.jupyter.widget-view+json": {
       "model_id": "012fe4b31eff4b66b05c1915530bd8f9",
       "version_major": 2,
       "version_minor": 0
      },
      "text/plain": [
       "Validation: 0it [00:00, ?it/s]"
      ]
     },
     "metadata": {},
     "output_type": "display_data"
    },
    {
     "data": {
      "application/vnd.jupyter.widget-view+json": {
       "model_id": "d16923c336d64c55b5d3ea383db9504d",
       "version_major": 2,
       "version_minor": 0
      },
      "text/plain": [
       "Validation: 0it [00:00, ?it/s]"
      ]
     },
     "metadata": {},
     "output_type": "display_data"
    },
    {
     "data": {
      "application/vnd.jupyter.widget-view+json": {
       "model_id": "67c7323ec2c44a2da10e2dd74e6100ac",
       "version_major": 2,
       "version_minor": 0
      },
      "text/plain": [
       "Validation: 0it [00:00, ?it/s]"
      ]
     },
     "metadata": {},
     "output_type": "display_data"
    },
    {
     "name": "stderr",
     "output_type": "stream",
     "text": [
      "`Trainer.fit` stopped: `max_epochs=5` reached.\n",
      "Restoring states from the checkpoint path at c:\\Users\\w10\\Desktop\\BMA\\UPV\\tia\\algoritmos_geneticos\\notebooks\\lightning_logs\\version_657\\checkpoints\\epoch=4-step=150.ckpt\n",
      "Loaded model weights from the checkpoint at c:\\Users\\w10\\Desktop\\BMA\\UPV\\tia\\algoritmos_geneticos\\notebooks\\lightning_logs\\version_657\\checkpoints\\epoch=4-step=150.ckpt\n"
     ]
    },
    {
     "data": {
      "application/vnd.jupyter.widget-view+json": {
       "model_id": "f076dbe7eb8c4cd7946cd785e276ccf8",
       "version_major": 2,
       "version_minor": 0
      },
      "text/plain": [
       "Testing: 0it [00:00, ?it/s]"
      ]
     },
     "metadata": {},
     "output_type": "display_data"
    },
    {
     "data": {
      "text/html": [
       "<pre style=\"white-space:pre;overflow-x:auto;line-height:normal;font-family:Menlo,'DejaVu Sans Mono',consolas,'Courier New',monospace\">┏━━━━━━━━━━━━━━━━━━━━━━━━━━━┳━━━━━━━━━━━━━━━━━━━━━━━━━━━┓\n",
       "┃<span style=\"font-weight: bold\">        Test metric        </span>┃<span style=\"font-weight: bold\">       DataLoader 0        </span>┃\n",
       "┡━━━━━━━━━━━━━━━━━━━━━━━━━━━╇━━━━━━━━━━━━━━━━━━━━━━━━━━━┩\n",
       "│<span style=\"color: #008080; text-decoration-color: #008080\">         test_loss         </span>│<span style=\"color: #800080; text-decoration-color: #800080\">    0.9021910429000854     </span>│\n",
       "└───────────────────────────┴───────────────────────────┘\n",
       "</pre>\n"
      ],
      "text/plain": [
       "┏━━━━━━━━━━━━━━━━━━━━━━━━━━━┳━━━━━━━━━━━━━━━━━━━━━━━━━━━┓\n",
       "┃\u001b[1m \u001b[0m\u001b[1m       Test metric       \u001b[0m\u001b[1m \u001b[0m┃\u001b[1m \u001b[0m\u001b[1m      DataLoader 0       \u001b[0m\u001b[1m \u001b[0m┃\n",
       "┡━━━━━━━━━━━━━━━━━━━━━━━━━━━╇━━━━━━━━━━━━━━━━━━━━━━━━━━━┩\n",
       "│\u001b[36m \u001b[0m\u001b[36m        test_loss        \u001b[0m\u001b[36m \u001b[0m│\u001b[35m \u001b[0m\u001b[35m   0.9021910429000854    \u001b[0m\u001b[35m \u001b[0m│\n",
       "└───────────────────────────┴───────────────────────────┘\n"
      ]
     },
     "metadata": {},
     "output_type": "display_data"
    },
    {
     "name": "stderr",
     "output_type": "stream",
     "text": [
      "GPU available: False, used: False\n",
      "TPU available: False, using: 0 TPU cores\n",
      "IPU available: False, using: 0 IPUs\n",
      "HPU available: False, using: 0 HPUs\n"
     ]
    },
    {
     "name": "stdout",
     "output_type": "stream",
     "text": [
      "[{'a_include_BN': False, 'a_include_bias': True, 'a_activation_type': ELU(alpha=1.0), 'a_dropout_range': 0, 'a_pool_type': MaxPool2d(kernel_size=2, stride=2, padding=0, dilation=1, ceil_mode=False), 'b_include_BN': False, 'b_include_bias': True, 'b_activation_type': ReLU(), 'b_dropout_range': 0.1, 'c_include_BN': True, 'c_include_bias': True, 'c_activation_type': SELU(), 'c_dropout_range': 0.2, 'd_include_BN': False, 'd_include_bias': False, 'd_activation_type': ReLU(), 'd_dropout_range': 0.2, 'b_pool_type': AvgPool2d(kernel_size=1, stride=1, padding=0), 'learning_rate': 0.1}, MyModel(\n",
      "  (cnn1): Conv2d(1, 16, kernel_size=(5, 5), stride=(1, 1))\n",
      "  (batch_norm_a): BatchNorm2d(16, eps=1e-05, momentum=0.1, affine=True, track_running_stats=True)\n",
      "  (funcion_activacion_a): ELU(alpha=1.0)\n",
      "  (dropout_a): Dropout(p=0.1, inplace=False)\n",
      "  (pool1): MaxPool2d(kernel_size=2, stride=2, padding=0, dilation=1, ceil_mode=False)\n",
      "  (cnn2): Conv2d(16, 16, kernel_size=(5, 5), stride=(1, 1))\n",
      "  (batch_norm_b): BatchNorm2d(16, eps=1e-05, momentum=0.1, affine=True, track_running_stats=True)\n",
      "  (funcion_activacion_b): ReLU()\n",
      "  (dropout_b): Dropout(p=0.1, inplace=False)\n",
      "  (cnn3): Conv2d(16, 32, kernel_size=(3, 3), stride=(1, 1))\n",
      "  (batch_norm_c): BatchNorm2d(32, eps=1e-05, momentum=0.1, affine=True, track_running_stats=True)\n",
      "  (funcion_activacion_c): SELU()\n",
      "  (dropout_c): Dropout(p=0.2, inplace=False)\n",
      "  (cnn4): Conv2d(32, 32, kernel_size=(3, 3), stride=(1, 1), bias=False)\n",
      "  (batch_norm_d): BatchNorm2d(32, eps=1e-05, momentum=0.1, affine=True, track_running_stats=True)\n",
      "  (funcion_activacion_d): ReLU()\n",
      "  (dropout_d): Dropout(p=0.2, inplace=False)\n",
      "  (pool2): AvgPool2d(kernel_size=1, stride=1, padding=0)\n",
      "  (fc1): Linear(in_features=512, out_features=10, bias=True)\n",
      "), 1.030042290687561]\n",
      "{'test_loss': 0.9021910429000854} 1.030042290687561\n",
      "25.034408974245494\n"
     ]
    },
    {
     "name": "stderr",
     "output_type": "stream",
     "text": [
      "\n",
      "   | Name                 | Type        | Params\n",
      "------------------------------------------------------\n",
      "0  | cnn1                 | Conv2d      | 416   \n",
      "1  | batch_norm_a         | BatchNorm2d | 32    \n",
      "2  | funcion_activacion_a | ELU         | 0     \n",
      "3  | dropout_a            | Dropout     | 0     \n",
      "4  | pool1                | MaxPool2d   | 0     \n",
      "5  | cnn2                 | Conv2d      | 6.4 K \n",
      "6  | batch_norm_b         | BatchNorm2d | 32    \n",
      "7  | funcion_activacion_b | ReLU        | 0     \n",
      "8  | dropout_b            | Dropout     | 0     \n",
      "9  | cnn3                 | Conv2d      | 4.6 K \n",
      "10 | batch_norm_c         | BatchNorm2d | 64    \n",
      "11 | funcion_activacion_c | SELU        | 0     \n",
      "12 | dropout_c            | Dropout     | 0     \n",
      "13 | cnn4                 | Conv2d      | 9.2 K \n",
      "14 | batch_norm_d         | BatchNorm2d | 64    \n",
      "15 | funcion_activacion_d | ReLU        | 0     \n",
      "16 | dropout_d            | Dropout     | 0     \n",
      "17 | pool2                | AvgPool2d   | 0     \n",
      "18 | fc1                  | Linear      | 5.1 K \n",
      "------------------------------------------------------\n",
      "26.0 K    Trainable params\n",
      "0         Non-trainable params\n",
      "26.0 K    Total params\n",
      "0.104     Total estimated model params size (MB)\n"
     ]
    },
    {
     "data": {
      "application/vnd.jupyter.widget-view+json": {
       "model_id": "98185ac55fa64a7881b7b3a91ba4415b",
       "version_major": 2,
       "version_minor": 0
      },
      "text/plain": [
       "Sanity Checking: 0it [00:00, ?it/s]"
      ]
     },
     "metadata": {},
     "output_type": "display_data"
    },
    {
     "data": {
      "application/vnd.jupyter.widget-view+json": {
       "model_id": "bb54225d56384a8dba13a04f0aaf2290",
       "version_major": 2,
       "version_minor": 0
      },
      "text/plain": [
       "Training: 0it [00:00, ?it/s]"
      ]
     },
     "metadata": {},
     "output_type": "display_data"
    },
    {
     "data": {
      "application/vnd.jupyter.widget-view+json": {
       "model_id": "d0e14ca0d9a24c72b70bbdd50bd1a296",
       "version_major": 2,
       "version_minor": 0
      },
      "text/plain": [
       "Validation: 0it [00:00, ?it/s]"
      ]
     },
     "metadata": {},
     "output_type": "display_data"
    },
    {
     "data": {
      "application/vnd.jupyter.widget-view+json": {
       "model_id": "d813333fb3824ce1b9b810ee4b61ddc5",
       "version_major": 2,
       "version_minor": 0
      },
      "text/plain": [
       "Validation: 0it [00:00, ?it/s]"
      ]
     },
     "metadata": {},
     "output_type": "display_data"
    },
    {
     "data": {
      "application/vnd.jupyter.widget-view+json": {
       "model_id": "4596aa181d23496aa763cd103523a368",
       "version_major": 2,
       "version_minor": 0
      },
      "text/plain": [
       "Validation: 0it [00:00, ?it/s]"
      ]
     },
     "metadata": {},
     "output_type": "display_data"
    },
    {
     "data": {
      "application/vnd.jupyter.widget-view+json": {
       "model_id": "0fe5a64634384d4190791c0a0f589aab",
       "version_major": 2,
       "version_minor": 0
      },
      "text/plain": [
       "Validation: 0it [00:00, ?it/s]"
      ]
     },
     "metadata": {},
     "output_type": "display_data"
    },
    {
     "data": {
      "application/vnd.jupyter.widget-view+json": {
       "model_id": "933aadd0eb204e81ae54320d7de921a6",
       "version_major": 2,
       "version_minor": 0
      },
      "text/plain": [
       "Validation: 0it [00:00, ?it/s]"
      ]
     },
     "metadata": {},
     "output_type": "display_data"
    },
    {
     "name": "stderr",
     "output_type": "stream",
     "text": [
      "`Trainer.fit` stopped: `max_epochs=5` reached.\n",
      "Restoring states from the checkpoint path at c:\\Users\\w10\\Desktop\\BMA\\UPV\\tia\\algoritmos_geneticos\\notebooks\\lightning_logs\\version_658\\checkpoints\\epoch=4-step=150.ckpt\n",
      "Loaded model weights from the checkpoint at c:\\Users\\w10\\Desktop\\BMA\\UPV\\tia\\algoritmos_geneticos\\notebooks\\lightning_logs\\version_658\\checkpoints\\epoch=4-step=150.ckpt\n"
     ]
    },
    {
     "data": {
      "application/vnd.jupyter.widget-view+json": {
       "model_id": "f1b5b8a521804987a6d705946f9225d8",
       "version_major": 2,
       "version_minor": 0
      },
      "text/plain": [
       "Testing: 0it [00:00, ?it/s]"
      ]
     },
     "metadata": {},
     "output_type": "display_data"
    },
    {
     "data": {
      "text/html": [
       "<pre style=\"white-space:pre;overflow-x:auto;line-height:normal;font-family:Menlo,'DejaVu Sans Mono',consolas,'Courier New',monospace\">┏━━━━━━━━━━━━━━━━━━━━━━━━━━━┳━━━━━━━━━━━━━━━━━━━━━━━━━━━┓\n",
       "┃<span style=\"font-weight: bold\">        Test metric        </span>┃<span style=\"font-weight: bold\">       DataLoader 0        </span>┃\n",
       "┡━━━━━━━━━━━━━━━━━━━━━━━━━━━╇━━━━━━━━━━━━━━━━━━━━━━━━━━━┩\n",
       "│<span style=\"color: #008080; text-decoration-color: #008080\">         test_loss         </span>│<span style=\"color: #800080; text-decoration-color: #800080\">    0.8938656449317932     </span>│\n",
       "└───────────────────────────┴───────────────────────────┘\n",
       "</pre>\n"
      ],
      "text/plain": [
       "┏━━━━━━━━━━━━━━━━━━━━━━━━━━━┳━━━━━━━━━━━━━━━━━━━━━━━━━━━┓\n",
       "┃\u001b[1m \u001b[0m\u001b[1m       Test metric       \u001b[0m\u001b[1m \u001b[0m┃\u001b[1m \u001b[0m\u001b[1m      DataLoader 0       \u001b[0m\u001b[1m \u001b[0m┃\n",
       "┡━━━━━━━━━━━━━━━━━━━━━━━━━━━╇━━━━━━━━━━━━━━━━━━━━━━━━━━━┩\n",
       "│\u001b[36m \u001b[0m\u001b[36m        test_loss        \u001b[0m\u001b[36m \u001b[0m│\u001b[35m \u001b[0m\u001b[35m   0.8938656449317932    \u001b[0m\u001b[35m \u001b[0m│\n",
       "└───────────────────────────┴───────────────────────────┘\n"
      ]
     },
     "metadata": {},
     "output_type": "display_data"
    },
    {
     "name": "stderr",
     "output_type": "stream",
     "text": [
      "GPU available: False, used: False\n",
      "TPU available: False, using: 0 TPU cores\n",
      "IPU available: False, using: 0 IPUs\n",
      "HPU available: False, using: 0 HPUs\n"
     ]
    },
    {
     "name": "stdout",
     "output_type": "stream",
     "text": [
      "[{'a_include_BN': False, 'a_include_bias': True, 'a_activation_type': ELU(alpha=1.0), 'a_dropout_range': 0, 'a_pool_type': MaxPool2d(kernel_size=2, stride=2, padding=0, dilation=1, ceil_mode=False), 'b_include_BN': False, 'b_include_bias': True, 'b_activation_type': ReLU(), 'b_dropout_range': 0.1, 'c_include_BN': True, 'c_include_bias': True, 'c_activation_type': SELU(), 'c_dropout_range': 0.2, 'd_include_BN': False, 'd_include_bias': False, 'd_activation_type': ReLU(), 'd_dropout_range': 0.2, 'b_pool_type': AvgPool2d(kernel_size=1, stride=1, padding=0), 'learning_rate': 0.1}, MyModel(\n",
      "  (cnn1): Conv2d(1, 16, kernel_size=(5, 5), stride=(1, 1))\n",
      "  (batch_norm_a): BatchNorm2d(16, eps=1e-05, momentum=0.1, affine=True, track_running_stats=True)\n",
      "  (funcion_activacion_a): ELU(alpha=1.0)\n",
      "  (dropout_a): Dropout(p=0, inplace=False)\n",
      "  (pool1): MaxPool2d(kernel_size=2, stride=2, padding=0, dilation=1, ceil_mode=False)\n",
      "  (cnn2): Conv2d(16, 16, kernel_size=(5, 5), stride=(1, 1))\n",
      "  (batch_norm_b): BatchNorm2d(16, eps=1e-05, momentum=0.1, affine=True, track_running_stats=True)\n",
      "  (funcion_activacion_b): ReLU()\n",
      "  (dropout_b): Dropout(p=0.1, inplace=False)\n",
      "  (cnn3): Conv2d(16, 32, kernel_size=(3, 3), stride=(1, 1))\n",
      "  (batch_norm_c): BatchNorm2d(32, eps=1e-05, momentum=0.1, affine=True, track_running_stats=True)\n",
      "  (funcion_activacion_c): SELU()\n",
      "  (dropout_c): Dropout(p=0.2, inplace=False)\n",
      "  (cnn4): Conv2d(32, 32, kernel_size=(3, 3), stride=(1, 1), bias=False)\n",
      "  (batch_norm_d): BatchNorm2d(32, eps=1e-05, momentum=0.1, affine=True, track_running_stats=True)\n",
      "  (funcion_activacion_d): ReLU()\n",
      "  (dropout_d): Dropout(p=0.2, inplace=False)\n",
      "  (pool2): AvgPool2d(kernel_size=1, stride=1, padding=0)\n",
      "  (fc1): Linear(in_features=512, out_features=10, bias=True)\n",
      "), 0.9021910429000854]\n",
      "{'test_loss': 0.8938656449317932} 0.9021910429000854\n",
      "23.782688525533217\n"
     ]
    },
    {
     "name": "stderr",
     "output_type": "stream",
     "text": [
      "\n",
      "   | Name                 | Type        | Params\n",
      "------------------------------------------------------\n",
      "0  | cnn1                 | Conv2d      | 416   \n",
      "1  | batch_norm_a         | BatchNorm2d | 32    \n",
      "2  | funcion_activacion_a | ELU         | 0     \n",
      "3  | dropout_a            | Dropout     | 0     \n",
      "4  | pool1                | MaxPool2d   | 0     \n",
      "5  | cnn2                 | Conv2d      | 6.4 K \n",
      "6  | batch_norm_b         | BatchNorm2d | 32    \n",
      "7  | funcion_activacion_b | ReLU        | 0     \n",
      "8  | dropout_b            | Dropout     | 0     \n",
      "9  | cnn3                 | Conv2d      | 4.6 K \n",
      "10 | batch_norm_c         | BatchNorm2d | 64    \n",
      "11 | funcion_activacion_c | SELU        | 0     \n",
      "12 | dropout_c            | Dropout     | 0     \n",
      "13 | cnn4                 | Conv2d      | 9.2 K \n",
      "14 | batch_norm_d         | BatchNorm2d | 64    \n",
      "15 | funcion_activacion_d | ReLU        | 0     \n",
      "16 | dropout_d            | Dropout     | 0     \n",
      "17 | pool2                | AvgPool2d   | 0     \n",
      "18 | fc1                  | Linear      | 5.1 K \n",
      "------------------------------------------------------\n",
      "26.0 K    Trainable params\n",
      "0         Non-trainable params\n",
      "26.0 K    Total params\n",
      "0.104     Total estimated model params size (MB)\n"
     ]
    },
    {
     "data": {
      "application/vnd.jupyter.widget-view+json": {
       "model_id": "90138019a90f42dd84ae4e8f74208660",
       "version_major": 2,
       "version_minor": 0
      },
      "text/plain": [
       "Sanity Checking: 0it [00:00, ?it/s]"
      ]
     },
     "metadata": {},
     "output_type": "display_data"
    },
    {
     "data": {
      "application/vnd.jupyter.widget-view+json": {
       "model_id": "e2d8b07f26be4e60ba4e5aec98d87377",
       "version_major": 2,
       "version_minor": 0
      },
      "text/plain": [
       "Training: 0it [00:00, ?it/s]"
      ]
     },
     "metadata": {},
     "output_type": "display_data"
    },
    {
     "data": {
      "application/vnd.jupyter.widget-view+json": {
       "model_id": "a2555cc31f9d46969d3b1c8daf47030d",
       "version_major": 2,
       "version_minor": 0
      },
      "text/plain": [
       "Validation: 0it [00:00, ?it/s]"
      ]
     },
     "metadata": {},
     "output_type": "display_data"
    },
    {
     "data": {
      "application/vnd.jupyter.widget-view+json": {
       "model_id": "e8c408698afd46e1ac35f5d4ba5b7ca3",
       "version_major": 2,
       "version_minor": 0
      },
      "text/plain": [
       "Validation: 0it [00:00, ?it/s]"
      ]
     },
     "metadata": {},
     "output_type": "display_data"
    },
    {
     "data": {
      "application/vnd.jupyter.widget-view+json": {
       "model_id": "4b09e3016c0b4308b8fadb8ea5f47436",
       "version_major": 2,
       "version_minor": 0
      },
      "text/plain": [
       "Validation: 0it [00:00, ?it/s]"
      ]
     },
     "metadata": {},
     "output_type": "display_data"
    },
    {
     "data": {
      "application/vnd.jupyter.widget-view+json": {
       "model_id": "3fa6027f127b4f2a802cc96c9c3705f8",
       "version_major": 2,
       "version_minor": 0
      },
      "text/plain": [
       "Validation: 0it [00:00, ?it/s]"
      ]
     },
     "metadata": {},
     "output_type": "display_data"
    },
    {
     "data": {
      "application/vnd.jupyter.widget-view+json": {
       "model_id": "7215c26afbae402d9ebab74041d60f14",
       "version_major": 2,
       "version_minor": 0
      },
      "text/plain": [
       "Validation: 0it [00:00, ?it/s]"
      ]
     },
     "metadata": {},
     "output_type": "display_data"
    },
    {
     "name": "stderr",
     "output_type": "stream",
     "text": [
      "`Trainer.fit` stopped: `max_epochs=5` reached.\n",
      "Restoring states from the checkpoint path at c:\\Users\\w10\\Desktop\\BMA\\UPV\\tia\\algoritmos_geneticos\\notebooks\\lightning_logs\\version_659\\checkpoints\\epoch=4-step=150.ckpt\n",
      "Loaded model weights from the checkpoint at c:\\Users\\w10\\Desktop\\BMA\\UPV\\tia\\algoritmos_geneticos\\notebooks\\lightning_logs\\version_659\\checkpoints\\epoch=4-step=150.ckpt\n"
     ]
    },
    {
     "data": {
      "application/vnd.jupyter.widget-view+json": {
       "model_id": "051b5e03c73d4760be79cf93a7dc192d",
       "version_major": 2,
       "version_minor": 0
      },
      "text/plain": [
       "Testing: 0it [00:00, ?it/s]"
      ]
     },
     "metadata": {},
     "output_type": "display_data"
    },
    {
     "data": {
      "text/html": [
       "<pre style=\"white-space:pre;overflow-x:auto;line-height:normal;font-family:Menlo,'DejaVu Sans Mono',consolas,'Courier New',monospace\">┏━━━━━━━━━━━━━━━━━━━━━━━━━━━┳━━━━━━━━━━━━━━━━━━━━━━━━━━━┓\n",
       "┃<span style=\"font-weight: bold\">        Test metric        </span>┃<span style=\"font-weight: bold\">       DataLoader 0        </span>┃\n",
       "┡━━━━━━━━━━━━━━━━━━━━━━━━━━━╇━━━━━━━━━━━━━━━━━━━━━━━━━━━┩\n",
       "│<span style=\"color: #008080; text-decoration-color: #008080\">         test_loss         </span>│<span style=\"color: #800080; text-decoration-color: #800080\">    0.9307750463485718     </span>│\n",
       "└───────────────────────────┴───────────────────────────┘\n",
       "</pre>\n"
      ],
      "text/plain": [
       "┏━━━━━━━━━━━━━━━━━━━━━━━━━━━┳━━━━━━━━━━━━━━━━━━━━━━━━━━━┓\n",
       "┃\u001b[1m \u001b[0m\u001b[1m       Test metric       \u001b[0m\u001b[1m \u001b[0m┃\u001b[1m \u001b[0m\u001b[1m      DataLoader 0       \u001b[0m\u001b[1m \u001b[0m┃\n",
       "┡━━━━━━━━━━━━━━━━━━━━━━━━━━━╇━━━━━━━━━━━━━━━━━━━━━━━━━━━┩\n",
       "│\u001b[36m \u001b[0m\u001b[36m        test_loss        \u001b[0m\u001b[36m \u001b[0m│\u001b[35m \u001b[0m\u001b[35m   0.9307750463485718    \u001b[0m\u001b[35m \u001b[0m│\n",
       "└───────────────────────────┴───────────────────────────┘\n"
      ]
     },
     "metadata": {},
     "output_type": "display_data"
    },
    {
     "name": "stderr",
     "output_type": "stream",
     "text": [
      "GPU available: False, used: False\n",
      "TPU available: False, using: 0 TPU cores\n",
      "IPU available: False, using: 0 IPUs\n",
      "HPU available: False, using: 0 HPUs\n"
     ]
    },
    {
     "name": "stdout",
     "output_type": "stream",
     "text": [
      "[{'a_include_BN': False, 'a_include_bias': True, 'a_activation_type': ELU(alpha=1.0), 'a_dropout_range': 0, 'a_pool_type': MaxPool2d(kernel_size=2, stride=2, padding=0, dilation=1, ceil_mode=False), 'b_include_BN': False, 'b_include_bias': True, 'b_activation_type': ReLU(), 'b_dropout_range': 0.1, 'c_include_BN': True, 'c_include_bias': True, 'c_activation_type': SELU(), 'c_dropout_range': 0.2, 'd_include_BN': False, 'd_include_bias': False, 'd_activation_type': ReLU(), 'd_dropout_range': 0.2, 'b_pool_type': AvgPool2d(kernel_size=1, stride=1, padding=0), 'learning_rate': 0.1}, MyModel(\n",
      "  (cnn1): Conv2d(1, 16, kernel_size=(5, 5), stride=(1, 1))\n",
      "  (batch_norm_a): BatchNorm2d(16, eps=1e-05, momentum=0.1, affine=True, track_running_stats=True)\n",
      "  (funcion_activacion_a): ELU(alpha=1.0)\n",
      "  (dropout_a): Dropout(p=0, inplace=False)\n",
      "  (pool1): MaxPool2d(kernel_size=2, stride=2, padding=0, dilation=1, ceil_mode=False)\n",
      "  (cnn2): Conv2d(16, 16, kernel_size=(5, 5), stride=(1, 1))\n",
      "  (batch_norm_b): BatchNorm2d(16, eps=1e-05, momentum=0.1, affine=True, track_running_stats=True)\n",
      "  (funcion_activacion_b): ReLU()\n",
      "  (dropout_b): Dropout(p=0.1, inplace=False)\n",
      "  (cnn3): Conv2d(16, 32, kernel_size=(3, 3), stride=(1, 1))\n",
      "  (batch_norm_c): BatchNorm2d(32, eps=1e-05, momentum=0.1, affine=True, track_running_stats=True)\n",
      "  (funcion_activacion_c): SELU()\n",
      "  (dropout_c): Dropout(p=0.2, inplace=False)\n",
      "  (cnn4): Conv2d(32, 32, kernel_size=(3, 3), stride=(1, 1), bias=False)\n",
      "  (batch_norm_d): BatchNorm2d(32, eps=1e-05, momentum=0.1, affine=True, track_running_stats=True)\n",
      "  (funcion_activacion_d): ReLU()\n",
      "  (dropout_d): Dropout(p=0.2, inplace=False)\n",
      "  (pool2): AvgPool2d(kernel_size=1, stride=1, padding=0)\n",
      "  (fc1): Linear(in_features=512, out_features=10, bias=True)\n",
      "), 0.8938656449317932]\n",
      "{'test_loss': 0.9307750463485718} 0.8938656449317932\n",
      "22.593554099256554\n"
     ]
    },
    {
     "name": "stderr",
     "output_type": "stream",
     "text": [
      "\n",
      "   | Name                 | Type        | Params\n",
      "------------------------------------------------------\n",
      "0  | cnn1                 | Conv2d      | 416   \n",
      "1  | batch_norm_a         | BatchNorm2d | 32    \n",
      "2  | funcion_activacion_a | ELU         | 0     \n",
      "3  | dropout_a            | Dropout     | 0     \n",
      "4  | pool1                | MaxPool2d   | 0     \n",
      "5  | cnn2                 | Conv2d      | 6.4 K \n",
      "6  | batch_norm_b         | BatchNorm2d | 32    \n",
      "7  | funcion_activacion_b | ReLU        | 0     \n",
      "8  | dropout_b            | Dropout     | 0     \n",
      "9  | cnn3                 | Conv2d      | 4.6 K \n",
      "10 | batch_norm_c         | BatchNorm2d | 64    \n",
      "11 | funcion_activacion_c | SELU        | 0     \n",
      "12 | dropout_c            | Dropout     | 0     \n",
      "13 | cnn4                 | Conv2d      | 9.2 K \n",
      "14 | batch_norm_d         | BatchNorm2d | 64    \n",
      "15 | funcion_activacion_d | ReLU        | 0     \n",
      "16 | dropout_d            | Dropout     | 0     \n",
      "17 | pool2                | AvgPool2d   | 0     \n",
      "18 | fc1                  | Linear      | 5.1 K \n",
      "------------------------------------------------------\n",
      "26.0 K    Trainable params\n",
      "0         Non-trainable params\n",
      "26.0 K    Total params\n",
      "0.104     Total estimated model params size (MB)\n"
     ]
    },
    {
     "data": {
      "application/vnd.jupyter.widget-view+json": {
       "model_id": "0b001a54ef614793b59309fa9fa56823",
       "version_major": 2,
       "version_minor": 0
      },
      "text/plain": [
       "Sanity Checking: 0it [00:00, ?it/s]"
      ]
     },
     "metadata": {},
     "output_type": "display_data"
    },
    {
     "data": {
      "application/vnd.jupyter.widget-view+json": {
       "model_id": "e3c7830bd47441d798a677c849126b3e",
       "version_major": 2,
       "version_minor": 0
      },
      "text/plain": [
       "Training: 0it [00:00, ?it/s]"
      ]
     },
     "metadata": {},
     "output_type": "display_data"
    },
    {
     "data": {
      "application/vnd.jupyter.widget-view+json": {
       "model_id": "c935fce8220748959babaf573912dec6",
       "version_major": 2,
       "version_minor": 0
      },
      "text/plain": [
       "Validation: 0it [00:00, ?it/s]"
      ]
     },
     "metadata": {},
     "output_type": "display_data"
    },
    {
     "data": {
      "application/vnd.jupyter.widget-view+json": {
       "model_id": "e124b4391ad54b94ab95983cad626521",
       "version_major": 2,
       "version_minor": 0
      },
      "text/plain": [
       "Validation: 0it [00:00, ?it/s]"
      ]
     },
     "metadata": {},
     "output_type": "display_data"
    },
    {
     "data": {
      "application/vnd.jupyter.widget-view+json": {
       "model_id": "972e58b325ac4a49ae3f251eb876b58a",
       "version_major": 2,
       "version_minor": 0
      },
      "text/plain": [
       "Validation: 0it [00:00, ?it/s]"
      ]
     },
     "metadata": {},
     "output_type": "display_data"
    },
    {
     "data": {
      "application/vnd.jupyter.widget-view+json": {
       "model_id": "d500c356023244ab98a32a91199c9a69",
       "version_major": 2,
       "version_minor": 0
      },
      "text/plain": [
       "Validation: 0it [00:00, ?it/s]"
      ]
     },
     "metadata": {},
     "output_type": "display_data"
    },
    {
     "data": {
      "application/vnd.jupyter.widget-view+json": {
       "model_id": "5ea88e15ea10457199631d16bee26bb9",
       "version_major": 2,
       "version_minor": 0
      },
      "text/plain": [
       "Validation: 0it [00:00, ?it/s]"
      ]
     },
     "metadata": {},
     "output_type": "display_data"
    },
    {
     "name": "stderr",
     "output_type": "stream",
     "text": [
      "`Trainer.fit` stopped: `max_epochs=5` reached.\n",
      "Restoring states from the checkpoint path at c:\\Users\\w10\\Desktop\\BMA\\UPV\\tia\\algoritmos_geneticos\\notebooks\\lightning_logs\\version_660\\checkpoints\\epoch=4-step=150.ckpt\n",
      "Loaded model weights from the checkpoint at c:\\Users\\w10\\Desktop\\BMA\\UPV\\tia\\algoritmos_geneticos\\notebooks\\lightning_logs\\version_660\\checkpoints\\epoch=4-step=150.ckpt\n"
     ]
    },
    {
     "data": {
      "application/vnd.jupyter.widget-view+json": {
       "model_id": "801e5f4195d14d93bfc8077c20e3d4c0",
       "version_major": 2,
       "version_minor": 0
      },
      "text/plain": [
       "Testing: 0it [00:00, ?it/s]"
      ]
     },
     "metadata": {},
     "output_type": "display_data"
    },
    {
     "data": {
      "text/html": [
       "<pre style=\"white-space:pre;overflow-x:auto;line-height:normal;font-family:Menlo,'DejaVu Sans Mono',consolas,'Courier New',monospace\">┏━━━━━━━━━━━━━━━━━━━━━━━━━━━┳━━━━━━━━━━━━━━━━━━━━━━━━━━━┓\n",
       "┃<span style=\"font-weight: bold\">        Test metric        </span>┃<span style=\"font-weight: bold\">       DataLoader 0        </span>┃\n",
       "┡━━━━━━━━━━━━━━━━━━━━━━━━━━━╇━━━━━━━━━━━━━━━━━━━━━━━━━━━┩\n",
       "│<span style=\"color: #008080; text-decoration-color: #008080\">         test_loss         </span>│<span style=\"color: #800080; text-decoration-color: #800080\">    0.9636641144752502     </span>│\n",
       "└───────────────────────────┴───────────────────────────┘\n",
       "</pre>\n"
      ],
      "text/plain": [
       "┏━━━━━━━━━━━━━━━━━━━━━━━━━━━┳━━━━━━━━━━━━━━━━━━━━━━━━━━━┓\n",
       "┃\u001b[1m \u001b[0m\u001b[1m       Test metric       \u001b[0m\u001b[1m \u001b[0m┃\u001b[1m \u001b[0m\u001b[1m      DataLoader 0       \u001b[0m\u001b[1m \u001b[0m┃\n",
       "┡━━━━━━━━━━━━━━━━━━━━━━━━━━━╇━━━━━━━━━━━━━━━━━━━━━━━━━━━┩\n",
       "│\u001b[36m \u001b[0m\u001b[36m        test_loss        \u001b[0m\u001b[36m \u001b[0m│\u001b[35m \u001b[0m\u001b[35m   0.9636641144752502    \u001b[0m\u001b[35m \u001b[0m│\n",
       "└───────────────────────────┴───────────────────────────┘\n"
      ]
     },
     "metadata": {},
     "output_type": "display_data"
    },
    {
     "name": "stderr",
     "output_type": "stream",
     "text": [
      "GPU available: False, used: False\n",
      "TPU available: False, using: 0 TPU cores\n",
      "IPU available: False, using: 0 IPUs\n",
      "HPU available: False, using: 0 HPUs\n"
     ]
    },
    {
     "name": "stdout",
     "output_type": "stream",
     "text": [
      "[{'a_include_BN': False, 'a_include_bias': True, 'a_activation_type': ELU(alpha=1.0), 'a_dropout_range': 0, 'a_pool_type': MaxPool2d(kernel_size=2, stride=2, padding=0, dilation=1, ceil_mode=False), 'b_include_BN': False, 'b_include_bias': True, 'b_activation_type': ReLU(), 'b_dropout_range': 0.1, 'c_include_BN': True, 'c_include_bias': True, 'c_activation_type': SELU(), 'c_dropout_range': 0.2, 'd_include_BN': False, 'd_include_bias': False, 'd_activation_type': ReLU(), 'd_dropout_range': 0.1, 'b_pool_type': AvgPool2d(kernel_size=1, stride=1, padding=0), 'learning_rate': 0.1}, MyModel(\n",
      "  (cnn1): Conv2d(1, 16, kernel_size=(5, 5), stride=(1, 1))\n",
      "  (batch_norm_a): BatchNorm2d(16, eps=1e-05, momentum=0.1, affine=True, track_running_stats=True)\n",
      "  (funcion_activacion_a): ELU(alpha=1.0)\n",
      "  (dropout_a): Dropout(p=0, inplace=False)\n",
      "  (pool1): MaxPool2d(kernel_size=2, stride=2, padding=0, dilation=1, ceil_mode=False)\n",
      "  (cnn2): Conv2d(16, 16, kernel_size=(5, 5), stride=(1, 1))\n",
      "  (batch_norm_b): BatchNorm2d(16, eps=1e-05, momentum=0.1, affine=True, track_running_stats=True)\n",
      "  (funcion_activacion_b): ReLU()\n",
      "  (dropout_b): Dropout(p=0.1, inplace=False)\n",
      "  (cnn3): Conv2d(16, 32, kernel_size=(3, 3), stride=(1, 1))\n",
      "  (batch_norm_c): BatchNorm2d(32, eps=1e-05, momentum=0.1, affine=True, track_running_stats=True)\n",
      "  (funcion_activacion_c): SELU()\n",
      "  (dropout_c): Dropout(p=0.2, inplace=False)\n",
      "  (cnn4): Conv2d(32, 32, kernel_size=(3, 3), stride=(1, 1), bias=False)\n",
      "  (batch_norm_d): BatchNorm2d(32, eps=1e-05, momentum=0.1, affine=True, track_running_stats=True)\n",
      "  (funcion_activacion_d): ReLU()\n",
      "  (dropout_d): Dropout(p=0.2, inplace=False)\n",
      "  (pool2): AvgPool2d(kernel_size=1, stride=1, padding=0)\n",
      "  (fc1): Linear(in_features=512, out_features=10, bias=True)\n",
      "), 0.8938656449317932]\n",
      "{'test_loss': 0.9636641144752502} 0.8938656449317932\n",
      "21.463876394293724\n"
     ]
    },
    {
     "name": "stderr",
     "output_type": "stream",
     "text": [
      "\n",
      "   | Name                 | Type        | Params\n",
      "------------------------------------------------------\n",
      "0  | cnn1                 | Conv2d      | 416   \n",
      "1  | batch_norm_a         | BatchNorm2d | 32    \n",
      "2  | funcion_activacion_a | ELU         | 0     \n",
      "3  | dropout_a            | Dropout     | 0     \n",
      "4  | pool1                | MaxPool2d   | 0     \n",
      "5  | cnn2                 | Conv2d      | 6.4 K \n",
      "6  | batch_norm_b         | BatchNorm2d | 32    \n",
      "7  | funcion_activacion_b | ReLU        | 0     \n",
      "8  | dropout_b            | Dropout     | 0     \n",
      "9  | cnn3                 | Conv2d      | 4.6 K \n",
      "10 | batch_norm_c         | BatchNorm2d | 64    \n",
      "11 | funcion_activacion_c | SELU        | 0     \n",
      "12 | dropout_c            | Dropout     | 0     \n",
      "13 | cnn4                 | Conv2d      | 9.2 K \n",
      "14 | batch_norm_d         | BatchNorm2d | 64    \n",
      "15 | funcion_activacion_d | ReLU        | 0     \n",
      "16 | dropout_d            | Dropout     | 0     \n",
      "17 | pool2                | AvgPool2d   | 0     \n",
      "18 | fc1                  | Linear      | 5.1 K \n",
      "------------------------------------------------------\n",
      "26.0 K    Trainable params\n",
      "0         Non-trainable params\n",
      "26.0 K    Total params\n",
      "0.104     Total estimated model params size (MB)\n"
     ]
    },
    {
     "data": {
      "application/vnd.jupyter.widget-view+json": {
       "model_id": "8457125013b543cf87b66e2597ed2d39",
       "version_major": 2,
       "version_minor": 0
      },
      "text/plain": [
       "Sanity Checking: 0it [00:00, ?it/s]"
      ]
     },
     "metadata": {},
     "output_type": "display_data"
    },
    {
     "data": {
      "application/vnd.jupyter.widget-view+json": {
       "model_id": "5b05e36204f646248ad6fee983f09540",
       "version_major": 2,
       "version_minor": 0
      },
      "text/plain": [
       "Training: 0it [00:00, ?it/s]"
      ]
     },
     "metadata": {},
     "output_type": "display_data"
    },
    {
     "data": {
      "application/vnd.jupyter.widget-view+json": {
       "model_id": "f30deb9ca488416c861feb4ff253f8c4",
       "version_major": 2,
       "version_minor": 0
      },
      "text/plain": [
       "Validation: 0it [00:00, ?it/s]"
      ]
     },
     "metadata": {},
     "output_type": "display_data"
    },
    {
     "data": {
      "application/vnd.jupyter.widget-view+json": {
       "model_id": "f34fab45c4bd42888f94c7694216719b",
       "version_major": 2,
       "version_minor": 0
      },
      "text/plain": [
       "Validation: 0it [00:00, ?it/s]"
      ]
     },
     "metadata": {},
     "output_type": "display_data"
    },
    {
     "data": {
      "application/vnd.jupyter.widget-view+json": {
       "model_id": "d985aeba216148b7beeb18c3baefe3a5",
       "version_major": 2,
       "version_minor": 0
      },
      "text/plain": [
       "Validation: 0it [00:00, ?it/s]"
      ]
     },
     "metadata": {},
     "output_type": "display_data"
    },
    {
     "data": {
      "application/vnd.jupyter.widget-view+json": {
       "model_id": "72e4d276049e4b04bff98fb641d17450",
       "version_major": 2,
       "version_minor": 0
      },
      "text/plain": [
       "Validation: 0it [00:00, ?it/s]"
      ]
     },
     "metadata": {},
     "output_type": "display_data"
    },
    {
     "data": {
      "application/vnd.jupyter.widget-view+json": {
       "model_id": "6b0b105046b94266977e9d5a5301cc77",
       "version_major": 2,
       "version_minor": 0
      },
      "text/plain": [
       "Validation: 0it [00:00, ?it/s]"
      ]
     },
     "metadata": {},
     "output_type": "display_data"
    },
    {
     "name": "stderr",
     "output_type": "stream",
     "text": [
      "`Trainer.fit` stopped: `max_epochs=5` reached.\n",
      "Restoring states from the checkpoint path at c:\\Users\\w10\\Desktop\\BMA\\UPV\\tia\\algoritmos_geneticos\\notebooks\\lightning_logs\\version_661\\checkpoints\\epoch=4-step=150.ckpt\n",
      "Loaded model weights from the checkpoint at c:\\Users\\w10\\Desktop\\BMA\\UPV\\tia\\algoritmos_geneticos\\notebooks\\lightning_logs\\version_661\\checkpoints\\epoch=4-step=150.ckpt\n"
     ]
    },
    {
     "data": {
      "application/vnd.jupyter.widget-view+json": {
       "model_id": "86d094728b43459baa0742993361b19f",
       "version_major": 2,
       "version_minor": 0
      },
      "text/plain": [
       "Testing: 0it [00:00, ?it/s]"
      ]
     },
     "metadata": {},
     "output_type": "display_data"
    },
    {
     "data": {
      "text/html": [
       "<pre style=\"white-space:pre;overflow-x:auto;line-height:normal;font-family:Menlo,'DejaVu Sans Mono',consolas,'Courier New',monospace\">┏━━━━━━━━━━━━━━━━━━━━━━━━━━━┳━━━━━━━━━━━━━━━━━━━━━━━━━━━┓\n",
       "┃<span style=\"font-weight: bold\">        Test metric        </span>┃<span style=\"font-weight: bold\">       DataLoader 0        </span>┃\n",
       "┡━━━━━━━━━━━━━━━━━━━━━━━━━━━╇━━━━━━━━━━━━━━━━━━━━━━━━━━━┩\n",
       "│<span style=\"color: #008080; text-decoration-color: #008080\">         test_loss         </span>│<span style=\"color: #800080; text-decoration-color: #800080\">    0.8363136053085327     </span>│\n",
       "└───────────────────────────┴───────────────────────────┘\n",
       "</pre>\n"
      ],
      "text/plain": [
       "┏━━━━━━━━━━━━━━━━━━━━━━━━━━━┳━━━━━━━━━━━━━━━━━━━━━━━━━━━┓\n",
       "┃\u001b[1m \u001b[0m\u001b[1m       Test metric       \u001b[0m\u001b[1m \u001b[0m┃\u001b[1m \u001b[0m\u001b[1m      DataLoader 0       \u001b[0m\u001b[1m \u001b[0m┃\n",
       "┡━━━━━━━━━━━━━━━━━━━━━━━━━━━╇━━━━━━━━━━━━━━━━━━━━━━━━━━━┩\n",
       "│\u001b[36m \u001b[0m\u001b[36m        test_loss        \u001b[0m\u001b[36m \u001b[0m│\u001b[35m \u001b[0m\u001b[35m   0.8363136053085327    \u001b[0m\u001b[35m \u001b[0m│\n",
       "└───────────────────────────┴───────────────────────────┘\n"
      ]
     },
     "metadata": {},
     "output_type": "display_data"
    },
    {
     "name": "stdout",
     "output_type": "stream",
     "text": [
      "[{'a_include_BN': False, 'a_include_bias': True, 'a_activation_type': ELU(alpha=1.0), 'a_dropout_range': 0, 'a_pool_type': MaxPool2d(kernel_size=2, stride=2, padding=0, dilation=1, ceil_mode=False), 'b_include_BN': False, 'b_include_bias': True, 'b_activation_type': ReLU(), 'b_dropout_range': 0.1, 'c_include_BN': True, 'c_include_bias': True, 'c_activation_type': SELU(), 'c_dropout_range': 0.2, 'd_include_BN': False, 'd_include_bias': False, 'd_activation_type': ReLU(), 'd_dropout_range': 0.1, 'b_pool_type': AvgPool2d(kernel_size=1, stride=1, padding=0), 'learning_rate': 0.1}, MyModel(\n",
      "  (cnn1): Conv2d(1, 16, kernel_size=(5, 5), stride=(1, 1))\n",
      "  (batch_norm_a): BatchNorm2d(16, eps=1e-05, momentum=0.1, affine=True, track_running_stats=True)\n",
      "  (funcion_activacion_a): ELU(alpha=1.0)\n",
      "  (dropout_a): Dropout(p=0, inplace=False)\n",
      "  (pool1): MaxPool2d(kernel_size=2, stride=2, padding=0, dilation=1, ceil_mode=False)\n",
      "  (cnn2): Conv2d(16, 16, kernel_size=(5, 5), stride=(1, 1))\n",
      "  (batch_norm_b): BatchNorm2d(16, eps=1e-05, momentum=0.1, affine=True, track_running_stats=True)\n",
      "  (funcion_activacion_b): ReLU()\n",
      "  (dropout_b): Dropout(p=0.1, inplace=False)\n",
      "  (cnn3): Conv2d(16, 32, kernel_size=(3, 3), stride=(1, 1))\n",
      "  (batch_norm_c): BatchNorm2d(32, eps=1e-05, momentum=0.1, affine=True, track_running_stats=True)\n",
      "  (funcion_activacion_c): SELU()\n",
      "  (dropout_c): Dropout(p=0.2, inplace=False)\n",
      "  (cnn4): Conv2d(32, 32, kernel_size=(3, 3), stride=(1, 1), bias=False)\n",
      "  (batch_norm_d): BatchNorm2d(32, eps=1e-05, momentum=0.1, affine=True, track_running_stats=True)\n",
      "  (funcion_activacion_d): ReLU()\n",
      "  (dropout_d): Dropout(p=0.2, inplace=False)\n",
      "  (pool2): AvgPool2d(kernel_size=1, stride=1, padding=0)\n",
      "  (fc1): Linear(in_features=512, out_features=10, bias=True)\n",
      "), 0.8938656449317932]\n",
      "{'test_loss': 0.8363136053085327} 0.8938656449317932\n",
      "20.390682574579035\n"
     ]
    },
    {
     "name": "stderr",
     "output_type": "stream",
     "text": [
      "GPU available: False, used: False\n",
      "TPU available: False, using: 0 TPU cores\n",
      "IPU available: False, using: 0 IPUs\n",
      "HPU available: False, using: 0 HPUs\n",
      "\n",
      "   | Name                 | Type        | Params\n",
      "------------------------------------------------------\n",
      "0  | cnn1                 | Conv2d      | 416   \n",
      "1  | batch_norm_a         | BatchNorm2d | 32    \n",
      "2  | funcion_activacion_a | ELU         | 0     \n",
      "3  | dropout_a            | Dropout     | 0     \n",
      "4  | pool1                | MaxPool2d   | 0     \n",
      "5  | cnn2                 | Conv2d      | 6.4 K \n",
      "6  | batch_norm_b         | BatchNorm2d | 32    \n",
      "7  | funcion_activacion_b | ReLU        | 0     \n",
      "8  | dropout_b            | Dropout     | 0     \n",
      "9  | cnn3                 | Conv2d      | 4.6 K \n",
      "10 | batch_norm_c         | BatchNorm2d | 64    \n",
      "11 | funcion_activacion_c | SELU        | 0     \n",
      "12 | dropout_c            | Dropout     | 0     \n",
      "13 | cnn4                 | Conv2d      | 9.2 K \n",
      "14 | batch_norm_d         | BatchNorm2d | 64    \n",
      "15 | funcion_activacion_d | ReLU        | 0     \n",
      "16 | dropout_d            | Dropout     | 0     \n",
      "17 | pool2                | AvgPool2d   | 0     \n",
      "18 | fc1                  | Linear      | 5.1 K \n",
      "------------------------------------------------------\n",
      "26.0 K    Trainable params\n",
      "0         Non-trainable params\n",
      "26.0 K    Total params\n",
      "0.104     Total estimated model params size (MB)\n"
     ]
    },
    {
     "data": {
      "application/vnd.jupyter.widget-view+json": {
       "model_id": "98f54161cc504f5cb1998a4eb95b4e95",
       "version_major": 2,
       "version_minor": 0
      },
      "text/plain": [
       "Sanity Checking: 0it [00:00, ?it/s]"
      ]
     },
     "metadata": {},
     "output_type": "display_data"
    },
    {
     "data": {
      "application/vnd.jupyter.widget-view+json": {
       "model_id": "e9e8ab22e942469498df2aac817644c4",
       "version_major": 2,
       "version_minor": 0
      },
      "text/plain": [
       "Training: 0it [00:00, ?it/s]"
      ]
     },
     "metadata": {},
     "output_type": "display_data"
    },
    {
     "data": {
      "application/vnd.jupyter.widget-view+json": {
       "model_id": "fd1930e9ae61453fba1f01f56e340b41",
       "version_major": 2,
       "version_minor": 0
      },
      "text/plain": [
       "Validation: 0it [00:00, ?it/s]"
      ]
     },
     "metadata": {},
     "output_type": "display_data"
    },
    {
     "data": {
      "application/vnd.jupyter.widget-view+json": {
       "model_id": "b2431a8ef4924ad4bd43902c9a91d202",
       "version_major": 2,
       "version_minor": 0
      },
      "text/plain": [
       "Validation: 0it [00:00, ?it/s]"
      ]
     },
     "metadata": {},
     "output_type": "display_data"
    },
    {
     "data": {
      "application/vnd.jupyter.widget-view+json": {
       "model_id": "a1e18ecebab946fe8fe52ea912fb509f",
       "version_major": 2,
       "version_minor": 0
      },
      "text/plain": [
       "Validation: 0it [00:00, ?it/s]"
      ]
     },
     "metadata": {},
     "output_type": "display_data"
    },
    {
     "data": {
      "application/vnd.jupyter.widget-view+json": {
       "model_id": "345bc544f2f14ba886eab549f5371ead",
       "version_major": 2,
       "version_minor": 0
      },
      "text/plain": [
       "Validation: 0it [00:00, ?it/s]"
      ]
     },
     "metadata": {},
     "output_type": "display_data"
    },
    {
     "data": {
      "application/vnd.jupyter.widget-view+json": {
       "model_id": "e818c676f4ff416c97026fd21ecb1ccc",
       "version_major": 2,
       "version_minor": 0
      },
      "text/plain": [
       "Validation: 0it [00:00, ?it/s]"
      ]
     },
     "metadata": {},
     "output_type": "display_data"
    },
    {
     "name": "stderr",
     "output_type": "stream",
     "text": [
      "`Trainer.fit` stopped: `max_epochs=5` reached.\n",
      "Restoring states from the checkpoint path at c:\\Users\\w10\\Desktop\\BMA\\UPV\\tia\\algoritmos_geneticos\\notebooks\\lightning_logs\\version_662\\checkpoints\\epoch=4-step=150.ckpt\n",
      "Loaded model weights from the checkpoint at c:\\Users\\w10\\Desktop\\BMA\\UPV\\tia\\algoritmos_geneticos\\notebooks\\lightning_logs\\version_662\\checkpoints\\epoch=4-step=150.ckpt\n"
     ]
    },
    {
     "data": {
      "application/vnd.jupyter.widget-view+json": {
       "model_id": "42abe8c03fbe46ad94e2f6c5b0e904e7",
       "version_major": 2,
       "version_minor": 0
      },
      "text/plain": [
       "Testing: 0it [00:00, ?it/s]"
      ]
     },
     "metadata": {},
     "output_type": "display_data"
    },
    {
     "data": {
      "text/html": [
       "<pre style=\"white-space:pre;overflow-x:auto;line-height:normal;font-family:Menlo,'DejaVu Sans Mono',consolas,'Courier New',monospace\">┏━━━━━━━━━━━━━━━━━━━━━━━━━━━┳━━━━━━━━━━━━━━━━━━━━━━━━━━━┓\n",
       "┃<span style=\"font-weight: bold\">        Test metric        </span>┃<span style=\"font-weight: bold\">       DataLoader 0        </span>┃\n",
       "┡━━━━━━━━━━━━━━━━━━━━━━━━━━━╇━━━━━━━━━━━━━━━━━━━━━━━━━━━┩\n",
       "│<span style=\"color: #008080; text-decoration-color: #008080\">         test_loss         </span>│<span style=\"color: #800080; text-decoration-color: #800080\">    0.8790326714515686     </span>│\n",
       "└───────────────────────────┴───────────────────────────┘\n",
       "</pre>\n"
      ],
      "text/plain": [
       "┏━━━━━━━━━━━━━━━━━━━━━━━━━━━┳━━━━━━━━━━━━━━━━━━━━━━━━━━━┓\n",
       "┃\u001b[1m \u001b[0m\u001b[1m       Test metric       \u001b[0m\u001b[1m \u001b[0m┃\u001b[1m \u001b[0m\u001b[1m      DataLoader 0       \u001b[0m\u001b[1m \u001b[0m┃\n",
       "┡━━━━━━━━━━━━━━━━━━━━━━━━━━━╇━━━━━━━━━━━━━━━━━━━━━━━━━━━┩\n",
       "│\u001b[36m \u001b[0m\u001b[36m        test_loss        \u001b[0m\u001b[36m \u001b[0m│\u001b[35m \u001b[0m\u001b[35m   0.8790326714515686    \u001b[0m\u001b[35m \u001b[0m│\n",
       "└───────────────────────────┴───────────────────────────┘\n"
      ]
     },
     "metadata": {},
     "output_type": "display_data"
    },
    {
     "name": "stderr",
     "output_type": "stream",
     "text": [
      "GPU available: False, used: False\n",
      "TPU available: False, using: 0 TPU cores\n",
      "IPU available: False, using: 0 IPUs\n",
      "HPU available: False, using: 0 HPUs\n"
     ]
    },
    {
     "name": "stdout",
     "output_type": "stream",
     "text": [
      "[{'a_include_BN': False, 'a_include_bias': True, 'a_activation_type': ELU(alpha=1.0), 'a_dropout_range': 0, 'a_pool_type': MaxPool2d(kernel_size=2, stride=2, padding=0, dilation=1, ceil_mode=False), 'b_include_BN': False, 'b_include_bias': True, 'b_activation_type': ReLU(), 'b_dropout_range': 0.1, 'c_include_BN': True, 'c_include_bias': True, 'c_activation_type': SELU(), 'c_dropout_range': 0.2, 'd_include_BN': False, 'd_include_bias': False, 'd_activation_type': ReLU(), 'd_dropout_range': 0.1, 'b_pool_type': AvgPool2d(kernel_size=1, stride=1, padding=0), 'learning_rate': 0.1}, MyModel(\n",
      "  (cnn1): Conv2d(1, 16, kernel_size=(5, 5), stride=(1, 1))\n",
      "  (batch_norm_a): BatchNorm2d(16, eps=1e-05, momentum=0.1, affine=True, track_running_stats=True)\n",
      "  (funcion_activacion_a): ELU(alpha=1.0)\n",
      "  (dropout_a): Dropout(p=0, inplace=False)\n",
      "  (pool1): MaxPool2d(kernel_size=2, stride=2, padding=0, dilation=1, ceil_mode=False)\n",
      "  (cnn2): Conv2d(16, 16, kernel_size=(5, 5), stride=(1, 1))\n",
      "  (batch_norm_b): BatchNorm2d(16, eps=1e-05, momentum=0.1, affine=True, track_running_stats=True)\n",
      "  (funcion_activacion_b): ReLU()\n",
      "  (dropout_b): Dropout(p=0.1, inplace=False)\n",
      "  (cnn3): Conv2d(16, 32, kernel_size=(3, 3), stride=(1, 1))\n",
      "  (batch_norm_c): BatchNorm2d(32, eps=1e-05, momentum=0.1, affine=True, track_running_stats=True)\n",
      "  (funcion_activacion_c): SELU()\n",
      "  (dropout_c): Dropout(p=0.2, inplace=False)\n",
      "  (cnn4): Conv2d(32, 32, kernel_size=(3, 3), stride=(1, 1), bias=False)\n",
      "  (batch_norm_d): BatchNorm2d(32, eps=1e-05, momentum=0.1, affine=True, track_running_stats=True)\n",
      "  (funcion_activacion_d): ReLU()\n",
      "  (dropout_d): Dropout(p=0.1, inplace=False)\n",
      "  (pool2): AvgPool2d(kernel_size=1, stride=1, padding=0)\n",
      "  (fc1): Linear(in_features=512, out_features=10, bias=True)\n",
      "), 0.8363136053085327]\n",
      "{'test_loss': 0.8790326714515686} 0.8363136053085327\n",
      "19.371148445850082\n"
     ]
    },
    {
     "name": "stderr",
     "output_type": "stream",
     "text": [
      "\n",
      "   | Name                 | Type        | Params\n",
      "------------------------------------------------------\n",
      "0  | cnn1                 | Conv2d      | 416   \n",
      "1  | batch_norm_a         | BatchNorm2d | 32    \n",
      "2  | funcion_activacion_a | ELU         | 0     \n",
      "3  | dropout_a            | Dropout     | 0     \n",
      "4  | pool1                | MaxPool2d   | 0     \n",
      "5  | cnn2                 | Conv2d      | 6.4 K \n",
      "6  | batch_norm_b         | BatchNorm2d | 32    \n",
      "7  | funcion_activacion_b | ReLU        | 0     \n",
      "8  | dropout_b            | Dropout     | 0     \n",
      "9  | cnn3                 | Conv2d      | 4.6 K \n",
      "10 | batch_norm_c         | BatchNorm2d | 64    \n",
      "11 | funcion_activacion_c | SELU        | 0     \n",
      "12 | dropout_c            | Dropout     | 0     \n",
      "13 | cnn4                 | Conv2d      | 9.2 K \n",
      "14 | batch_norm_d         | BatchNorm2d | 64    \n",
      "15 | funcion_activacion_d | ReLU        | 0     \n",
      "16 | dropout_d            | Dropout     | 0     \n",
      "17 | pool2                | AvgPool2d   | 0     \n",
      "18 | fc1                  | Linear      | 5.1 K \n",
      "------------------------------------------------------\n",
      "26.0 K    Trainable params\n",
      "0         Non-trainable params\n",
      "26.0 K    Total params\n",
      "0.104     Total estimated model params size (MB)\n"
     ]
    },
    {
     "data": {
      "application/vnd.jupyter.widget-view+json": {
       "model_id": "8da01de5089f40ad882a4eb9e007d053",
       "version_major": 2,
       "version_minor": 0
      },
      "text/plain": [
       "Sanity Checking: 0it [00:00, ?it/s]"
      ]
     },
     "metadata": {},
     "output_type": "display_data"
    },
    {
     "data": {
      "application/vnd.jupyter.widget-view+json": {
       "model_id": "c96f7ad9b3ed4144af804177a61725f1",
       "version_major": 2,
       "version_minor": 0
      },
      "text/plain": [
       "Training: 0it [00:00, ?it/s]"
      ]
     },
     "metadata": {},
     "output_type": "display_data"
    },
    {
     "data": {
      "application/vnd.jupyter.widget-view+json": {
       "model_id": "2b6f7d8ae9cd4207bb639ac0f7196881",
       "version_major": 2,
       "version_minor": 0
      },
      "text/plain": [
       "Validation: 0it [00:00, ?it/s]"
      ]
     },
     "metadata": {},
     "output_type": "display_data"
    },
    {
     "data": {
      "application/vnd.jupyter.widget-view+json": {
       "model_id": "4e061b700d5140bc844529056a3805f6",
       "version_major": 2,
       "version_minor": 0
      },
      "text/plain": [
       "Validation: 0it [00:00, ?it/s]"
      ]
     },
     "metadata": {},
     "output_type": "display_data"
    },
    {
     "data": {
      "application/vnd.jupyter.widget-view+json": {
       "model_id": "162ce34e546c4d56a0e762b2d9aa1980",
       "version_major": 2,
       "version_minor": 0
      },
      "text/plain": [
       "Validation: 0it [00:00, ?it/s]"
      ]
     },
     "metadata": {},
     "output_type": "display_data"
    },
    {
     "data": {
      "application/vnd.jupyter.widget-view+json": {
       "model_id": "9f047637082749d1a4b4c0fa40c09973",
       "version_major": 2,
       "version_minor": 0
      },
      "text/plain": [
       "Validation: 0it [00:00, ?it/s]"
      ]
     },
     "metadata": {},
     "output_type": "display_data"
    },
    {
     "data": {
      "application/vnd.jupyter.widget-view+json": {
       "model_id": "f8aa47a3bd8e48669db1160effe2c996",
       "version_major": 2,
       "version_minor": 0
      },
      "text/plain": [
       "Validation: 0it [00:00, ?it/s]"
      ]
     },
     "metadata": {},
     "output_type": "display_data"
    },
    {
     "name": "stderr",
     "output_type": "stream",
     "text": [
      "`Trainer.fit` stopped: `max_epochs=5` reached.\n",
      "Restoring states from the checkpoint path at c:\\Users\\w10\\Desktop\\BMA\\UPV\\tia\\algoritmos_geneticos\\notebooks\\lightning_logs\\version_663\\checkpoints\\epoch=4-step=150.ckpt\n",
      "Loaded model weights from the checkpoint at c:\\Users\\w10\\Desktop\\BMA\\UPV\\tia\\algoritmos_geneticos\\notebooks\\lightning_logs\\version_663\\checkpoints\\epoch=4-step=150.ckpt\n"
     ]
    },
    {
     "data": {
      "application/vnd.jupyter.widget-view+json": {
       "model_id": "8f81dcea39484503ab56ea088d911fea",
       "version_major": 2,
       "version_minor": 0
      },
      "text/plain": [
       "Testing: 0it [00:00, ?it/s]"
      ]
     },
     "metadata": {},
     "output_type": "display_data"
    },
    {
     "data": {
      "text/html": [
       "<pre style=\"white-space:pre;overflow-x:auto;line-height:normal;font-family:Menlo,'DejaVu Sans Mono',consolas,'Courier New',monospace\">┏━━━━━━━━━━━━━━━━━━━━━━━━━━━┳━━━━━━━━━━━━━━━━━━━━━━━━━━━┓\n",
       "┃<span style=\"font-weight: bold\">        Test metric        </span>┃<span style=\"font-weight: bold\">       DataLoader 0        </span>┃\n",
       "┡━━━━━━━━━━━━━━━━━━━━━━━━━━━╇━━━━━━━━━━━━━━━━━━━━━━━━━━━┩\n",
       "│<span style=\"color: #008080; text-decoration-color: #008080\">         test_loss         </span>│<span style=\"color: #800080; text-decoration-color: #800080\">    0.9220892190933228     </span>│\n",
       "└───────────────────────────┴───────────────────────────┘\n",
       "</pre>\n"
      ],
      "text/plain": [
       "┏━━━━━━━━━━━━━━━━━━━━━━━━━━━┳━━━━━━━━━━━━━━━━━━━━━━━━━━━┓\n",
       "┃\u001b[1m \u001b[0m\u001b[1m       Test metric       \u001b[0m\u001b[1m \u001b[0m┃\u001b[1m \u001b[0m\u001b[1m      DataLoader 0       \u001b[0m\u001b[1m \u001b[0m┃\n",
       "┡━━━━━━━━━━━━━━━━━━━━━━━━━━━╇━━━━━━━━━━━━━━━━━━━━━━━━━━━┩\n",
       "│\u001b[36m \u001b[0m\u001b[36m        test_loss        \u001b[0m\u001b[36m \u001b[0m│\u001b[35m \u001b[0m\u001b[35m   0.9220892190933228    \u001b[0m\u001b[35m \u001b[0m│\n",
       "└───────────────────────────┴───────────────────────────┘\n"
      ]
     },
     "metadata": {},
     "output_type": "display_data"
    },
    {
     "name": "stderr",
     "output_type": "stream",
     "text": [
      "GPU available: False, used: False\n",
      "TPU available: False, using: 0 TPU cores\n",
      "IPU available: False, using: 0 IPUs\n",
      "HPU available: False, using: 0 HPUs\n"
     ]
    },
    {
     "name": "stdout",
     "output_type": "stream",
     "text": [
      "[{'a_include_BN': True, 'a_include_bias': True, 'a_activation_type': ELU(alpha=1.0), 'a_dropout_range': 0, 'a_pool_type': MaxPool2d(kernel_size=2, stride=2, padding=0, dilation=1, ceil_mode=False), 'b_include_BN': False, 'b_include_bias': True, 'b_activation_type': ReLU(), 'b_dropout_range': 0.1, 'c_include_BN': True, 'c_include_bias': True, 'c_activation_type': SELU(), 'c_dropout_range': 0.2, 'd_include_BN': False, 'd_include_bias': False, 'd_activation_type': ReLU(), 'd_dropout_range': 0.1, 'b_pool_type': AvgPool2d(kernel_size=1, stride=1, padding=0), 'learning_rate': 0.1}, MyModel(\n",
      "  (cnn1): Conv2d(1, 16, kernel_size=(5, 5), stride=(1, 1))\n",
      "  (batch_norm_a): BatchNorm2d(16, eps=1e-05, momentum=0.1, affine=True, track_running_stats=True)\n",
      "  (funcion_activacion_a): ELU(alpha=1.0)\n",
      "  (dropout_a): Dropout(p=0, inplace=False)\n",
      "  (pool1): MaxPool2d(kernel_size=2, stride=2, padding=0, dilation=1, ceil_mode=False)\n",
      "  (cnn2): Conv2d(16, 16, kernel_size=(5, 5), stride=(1, 1))\n",
      "  (batch_norm_b): BatchNorm2d(16, eps=1e-05, momentum=0.1, affine=True, track_running_stats=True)\n",
      "  (funcion_activacion_b): ReLU()\n",
      "  (dropout_b): Dropout(p=0.1, inplace=False)\n",
      "  (cnn3): Conv2d(16, 32, kernel_size=(3, 3), stride=(1, 1))\n",
      "  (batch_norm_c): BatchNorm2d(32, eps=1e-05, momentum=0.1, affine=True, track_running_stats=True)\n",
      "  (funcion_activacion_c): SELU()\n",
      "  (dropout_c): Dropout(p=0.2, inplace=False)\n",
      "  (cnn4): Conv2d(32, 32, kernel_size=(3, 3), stride=(1, 1), bias=False)\n",
      "  (batch_norm_d): BatchNorm2d(32, eps=1e-05, momentum=0.1, affine=True, track_running_stats=True)\n",
      "  (funcion_activacion_d): ReLU()\n",
      "  (dropout_d): Dropout(p=0.1, inplace=False)\n",
      "  (pool2): AvgPool2d(kernel_size=1, stride=1, padding=0)\n",
      "  (fc1): Linear(in_features=512, out_features=10, bias=True)\n",
      "), 0.8363136053085327]\n",
      "{'test_loss': 0.9220892190933228} 0.8363136053085327\n",
      "18.402591023557576\n"
     ]
    },
    {
     "name": "stderr",
     "output_type": "stream",
     "text": [
      "\n",
      "   | Name                 | Type        | Params\n",
      "------------------------------------------------------\n",
      "0  | cnn1                 | Conv2d      | 416   \n",
      "1  | batch_norm_a         | BatchNorm2d | 32    \n",
      "2  | funcion_activacion_a | ELU         | 0     \n",
      "3  | dropout_a            | Dropout     | 0     \n",
      "4  | pool1                | MaxPool2d   | 0     \n",
      "5  | cnn2                 | Conv2d      | 6.4 K \n",
      "6  | batch_norm_b         | BatchNorm2d | 32    \n",
      "7  | funcion_activacion_b | ReLU        | 0     \n",
      "8  | dropout_b            | Dropout     | 0     \n",
      "9  | cnn3                 | Conv2d      | 4.6 K \n",
      "10 | batch_norm_c         | BatchNorm2d | 64    \n",
      "11 | funcion_activacion_c | SELU        | 0     \n",
      "12 | dropout_c            | Dropout     | 0     \n",
      "13 | cnn4                 | Conv2d      | 9.2 K \n",
      "14 | batch_norm_d         | BatchNorm2d | 64    \n",
      "15 | funcion_activacion_d | ReLU        | 0     \n",
      "16 | dropout_d            | Dropout     | 0     \n",
      "17 | pool2                | AvgPool2d   | 0     \n",
      "18 | fc1                  | Linear      | 5.1 K \n",
      "------------------------------------------------------\n",
      "26.0 K    Trainable params\n",
      "0         Non-trainable params\n",
      "26.0 K    Total params\n",
      "0.104     Total estimated model params size (MB)\n"
     ]
    },
    {
     "data": {
      "application/vnd.jupyter.widget-view+json": {
       "model_id": "1353397c31924557a52c0871cd3f4141",
       "version_major": 2,
       "version_minor": 0
      },
      "text/plain": [
       "Sanity Checking: 0it [00:00, ?it/s]"
      ]
     },
     "metadata": {},
     "output_type": "display_data"
    },
    {
     "data": {
      "application/vnd.jupyter.widget-view+json": {
       "model_id": "f6d50593e4c64dfe8bbfcf17d0c72a90",
       "version_major": 2,
       "version_minor": 0
      },
      "text/plain": [
       "Training: 0it [00:00, ?it/s]"
      ]
     },
     "metadata": {},
     "output_type": "display_data"
    },
    {
     "data": {
      "application/vnd.jupyter.widget-view+json": {
       "model_id": "b40bd6cb22bc4722bd5d535f6475a912",
       "version_major": 2,
       "version_minor": 0
      },
      "text/plain": [
       "Validation: 0it [00:00, ?it/s]"
      ]
     },
     "metadata": {},
     "output_type": "display_data"
    },
    {
     "data": {
      "application/vnd.jupyter.widget-view+json": {
       "model_id": "27987ba9bde14be8bebfccdb6a195ffc",
       "version_major": 2,
       "version_minor": 0
      },
      "text/plain": [
       "Validation: 0it [00:00, ?it/s]"
      ]
     },
     "metadata": {},
     "output_type": "display_data"
    },
    {
     "data": {
      "application/vnd.jupyter.widget-view+json": {
       "model_id": "14a94d58e12a4a58af031c7992d018fd",
       "version_major": 2,
       "version_minor": 0
      },
      "text/plain": [
       "Validation: 0it [00:00, ?it/s]"
      ]
     },
     "metadata": {},
     "output_type": "display_data"
    },
    {
     "data": {
      "application/vnd.jupyter.widget-view+json": {
       "model_id": "0fb18887fc224ace97971b0f079b3d0a",
       "version_major": 2,
       "version_minor": 0
      },
      "text/plain": [
       "Validation: 0it [00:00, ?it/s]"
      ]
     },
     "metadata": {},
     "output_type": "display_data"
    },
    {
     "data": {
      "application/vnd.jupyter.widget-view+json": {
       "model_id": "08f2cc2f4f4148168d59c50568cb2a6b",
       "version_major": 2,
       "version_minor": 0
      },
      "text/plain": [
       "Validation: 0it [00:00, ?it/s]"
      ]
     },
     "metadata": {},
     "output_type": "display_data"
    },
    {
     "name": "stderr",
     "output_type": "stream",
     "text": [
      "`Trainer.fit` stopped: `max_epochs=5` reached.\n",
      "Restoring states from the checkpoint path at c:\\Users\\w10\\Desktop\\BMA\\UPV\\tia\\algoritmos_geneticos\\notebooks\\lightning_logs\\version_664\\checkpoints\\epoch=4-step=150.ckpt\n",
      "Loaded model weights from the checkpoint at c:\\Users\\w10\\Desktop\\BMA\\UPV\\tia\\algoritmos_geneticos\\notebooks\\lightning_logs\\version_664\\checkpoints\\epoch=4-step=150.ckpt\n"
     ]
    },
    {
     "data": {
      "application/vnd.jupyter.widget-view+json": {
       "model_id": "4b5523fb94784b67af2866b8ce685897",
       "version_major": 2,
       "version_minor": 0
      },
      "text/plain": [
       "Testing: 0it [00:00, ?it/s]"
      ]
     },
     "metadata": {},
     "output_type": "display_data"
    },
    {
     "data": {
      "text/html": [
       "<pre style=\"white-space:pre;overflow-x:auto;line-height:normal;font-family:Menlo,'DejaVu Sans Mono',consolas,'Courier New',monospace\">┏━━━━━━━━━━━━━━━━━━━━━━━━━━━┳━━━━━━━━━━━━━━━━━━━━━━━━━━━┓\n",
       "┃<span style=\"font-weight: bold\">        Test metric        </span>┃<span style=\"font-weight: bold\">       DataLoader 0        </span>┃\n",
       "┡━━━━━━━━━━━━━━━━━━━━━━━━━━━╇━━━━━━━━━━━━━━━━━━━━━━━━━━━┩\n",
       "│<span style=\"color: #008080; text-decoration-color: #008080\">         test_loss         </span>│<span style=\"color: #800080; text-decoration-color: #800080\">    0.7746359705924988     </span>│\n",
       "└───────────────────────────┴───────────────────────────┘\n",
       "</pre>\n"
      ],
      "text/plain": [
       "┏━━━━━━━━━━━━━━━━━━━━━━━━━━━┳━━━━━━━━━━━━━━━━━━━━━━━━━━━┓\n",
       "┃\u001b[1m \u001b[0m\u001b[1m       Test metric       \u001b[0m\u001b[1m \u001b[0m┃\u001b[1m \u001b[0m\u001b[1m      DataLoader 0       \u001b[0m\u001b[1m \u001b[0m┃\n",
       "┡━━━━━━━━━━━━━━━━━━━━━━━━━━━╇━━━━━━━━━━━━━━━━━━━━━━━━━━━┩\n",
       "│\u001b[36m \u001b[0m\u001b[36m        test_loss        \u001b[0m\u001b[36m \u001b[0m│\u001b[35m \u001b[0m\u001b[35m   0.7746359705924988    \u001b[0m\u001b[35m \u001b[0m│\n",
       "└───────────────────────────┴───────────────────────────┘\n"
      ]
     },
     "metadata": {},
     "output_type": "display_data"
    },
    {
     "name": "stderr",
     "output_type": "stream",
     "text": [
      "GPU available: False, used: False\n",
      "TPU available: False, using: 0 TPU cores\n",
      "IPU available: False, using: 0 IPUs\n",
      "HPU available: False, using: 0 HPUs\n"
     ]
    },
    {
     "name": "stdout",
     "output_type": "stream",
     "text": [
      "[{'a_include_BN': True, 'a_include_bias': True, 'a_activation_type': ELU(alpha=1.0), 'a_dropout_range': 0, 'a_pool_type': MaxPool2d(kernel_size=2, stride=2, padding=0, dilation=1, ceil_mode=False), 'b_include_BN': False, 'b_include_bias': True, 'b_activation_type': ReLU(), 'b_dropout_range': 0.1, 'c_include_BN': True, 'c_include_bias': True, 'c_activation_type': SELU(), 'c_dropout_range': 0.2, 'd_include_BN': False, 'd_include_bias': False, 'd_activation_type': ReLU(), 'd_dropout_range': 0.1, 'b_pool_type': AvgPool2d(kernel_size=1, stride=1, padding=0), 'learning_rate': 0.1}, MyModel(\n",
      "  (cnn1): Conv2d(1, 16, kernel_size=(5, 5), stride=(1, 1))\n",
      "  (batch_norm_a): BatchNorm2d(16, eps=1e-05, momentum=0.1, affine=True, track_running_stats=True)\n",
      "  (funcion_activacion_a): ELU(alpha=1.0)\n",
      "  (dropout_a): Dropout(p=0, inplace=False)\n",
      "  (pool1): MaxPool2d(kernel_size=2, stride=2, padding=0, dilation=1, ceil_mode=False)\n",
      "  (cnn2): Conv2d(16, 16, kernel_size=(5, 5), stride=(1, 1))\n",
      "  (batch_norm_b): BatchNorm2d(16, eps=1e-05, momentum=0.1, affine=True, track_running_stats=True)\n",
      "  (funcion_activacion_b): ReLU()\n",
      "  (dropout_b): Dropout(p=0.1, inplace=False)\n",
      "  (cnn3): Conv2d(16, 32, kernel_size=(3, 3), stride=(1, 1))\n",
      "  (batch_norm_c): BatchNorm2d(32, eps=1e-05, momentum=0.1, affine=True, track_running_stats=True)\n",
      "  (funcion_activacion_c): SELU()\n",
      "  (dropout_c): Dropout(p=0.2, inplace=False)\n",
      "  (cnn4): Conv2d(32, 32, kernel_size=(3, 3), stride=(1, 1), bias=False)\n",
      "  (batch_norm_d): BatchNorm2d(32, eps=1e-05, momentum=0.1, affine=True, track_running_stats=True)\n",
      "  (funcion_activacion_d): ReLU()\n",
      "  (dropout_d): Dropout(p=0.1, inplace=False)\n",
      "  (pool2): AvgPool2d(kernel_size=1, stride=1, padding=0)\n",
      "  (fc1): Linear(in_features=512, out_features=10, bias=True)\n",
      "), 0.8363136053085327]\n",
      "{'test_loss': 0.7746359705924988} 0.8363136053085327\n",
      "17.482461472379697\n"
     ]
    },
    {
     "name": "stderr",
     "output_type": "stream",
     "text": [
      "\n",
      "   | Name                 | Type        | Params\n",
      "------------------------------------------------------\n",
      "0  | cnn1                 | Conv2d      | 416   \n",
      "1  | batch_norm_a         | BatchNorm2d | 32    \n",
      "2  | funcion_activacion_a | ELU         | 0     \n",
      "3  | dropout_a            | Dropout     | 0     \n",
      "4  | pool1                | MaxPool2d   | 0     \n",
      "5  | cnn2                 | Conv2d      | 6.4 K \n",
      "6  | batch_norm_b         | BatchNorm2d | 32    \n",
      "7  | funcion_activacion_b | ReLU        | 0     \n",
      "8  | dropout_b            | Dropout     | 0     \n",
      "9  | cnn3                 | Conv2d      | 4.6 K \n",
      "10 | batch_norm_c         | BatchNorm2d | 64    \n",
      "11 | funcion_activacion_c | SELU        | 0     \n",
      "12 | dropout_c            | Dropout     | 0     \n",
      "13 | cnn4                 | Conv2d      | 9.2 K \n",
      "14 | batch_norm_d         | BatchNorm2d | 64    \n",
      "15 | funcion_activacion_d | ReLU        | 0     \n",
      "16 | dropout_d            | Dropout     | 0     \n",
      "17 | pool2                | AvgPool2d   | 0     \n",
      "18 | fc1                  | Linear      | 5.1 K \n",
      "------------------------------------------------------\n",
      "26.0 K    Trainable params\n",
      "0         Non-trainable params\n",
      "26.0 K    Total params\n",
      "0.104     Total estimated model params size (MB)\n"
     ]
    },
    {
     "data": {
      "application/vnd.jupyter.widget-view+json": {
       "model_id": "91d5c63c2bdb4cbba0a71fd5c09f6e1d",
       "version_major": 2,
       "version_minor": 0
      },
      "text/plain": [
       "Sanity Checking: 0it [00:00, ?it/s]"
      ]
     },
     "metadata": {},
     "output_type": "display_data"
    },
    {
     "data": {
      "application/vnd.jupyter.widget-view+json": {
       "model_id": "1109f4aa6d04412c82f818809fb701c3",
       "version_major": 2,
       "version_minor": 0
      },
      "text/plain": [
       "Training: 0it [00:00, ?it/s]"
      ]
     },
     "metadata": {},
     "output_type": "display_data"
    },
    {
     "data": {
      "application/vnd.jupyter.widget-view+json": {
       "model_id": "a40670ae39564e079cc8084ed7abf67e",
       "version_major": 2,
       "version_minor": 0
      },
      "text/plain": [
       "Validation: 0it [00:00, ?it/s]"
      ]
     },
     "metadata": {},
     "output_type": "display_data"
    },
    {
     "data": {
      "application/vnd.jupyter.widget-view+json": {
       "model_id": "5167b50d69df408a93f8b71c7475b0b8",
       "version_major": 2,
       "version_minor": 0
      },
      "text/plain": [
       "Validation: 0it [00:00, ?it/s]"
      ]
     },
     "metadata": {},
     "output_type": "display_data"
    },
    {
     "data": {
      "application/vnd.jupyter.widget-view+json": {
       "model_id": "20ead53958e345819175fc36c9d58986",
       "version_major": 2,
       "version_minor": 0
      },
      "text/plain": [
       "Validation: 0it [00:00, ?it/s]"
      ]
     },
     "metadata": {},
     "output_type": "display_data"
    },
    {
     "data": {
      "application/vnd.jupyter.widget-view+json": {
       "model_id": "5c6d8bbd797149068f38120ff1f6e852",
       "version_major": 2,
       "version_minor": 0
      },
      "text/plain": [
       "Validation: 0it [00:00, ?it/s]"
      ]
     },
     "metadata": {},
     "output_type": "display_data"
    },
    {
     "data": {
      "application/vnd.jupyter.widget-view+json": {
       "model_id": "a62de96853da4df697e2539c74807d61",
       "version_major": 2,
       "version_minor": 0
      },
      "text/plain": [
       "Validation: 0it [00:00, ?it/s]"
      ]
     },
     "metadata": {},
     "output_type": "display_data"
    },
    {
     "name": "stderr",
     "output_type": "stream",
     "text": [
      "`Trainer.fit` stopped: `max_epochs=5` reached.\n",
      "Restoring states from the checkpoint path at c:\\Users\\w10\\Desktop\\BMA\\UPV\\tia\\algoritmos_geneticos\\notebooks\\lightning_logs\\version_665\\checkpoints\\epoch=4-step=150.ckpt\n",
      "Loaded model weights from the checkpoint at c:\\Users\\w10\\Desktop\\BMA\\UPV\\tia\\algoritmos_geneticos\\notebooks\\lightning_logs\\version_665\\checkpoints\\epoch=4-step=150.ckpt\n"
     ]
    },
    {
     "data": {
      "application/vnd.jupyter.widget-view+json": {
       "model_id": "f624155ad962412eae5bac0112faf063",
       "version_major": 2,
       "version_minor": 0
      },
      "text/plain": [
       "Testing: 0it [00:00, ?it/s]"
      ]
     },
     "metadata": {},
     "output_type": "display_data"
    },
    {
     "data": {
      "text/html": [
       "<pre style=\"white-space:pre;overflow-x:auto;line-height:normal;font-family:Menlo,'DejaVu Sans Mono',consolas,'Courier New',monospace\">┏━━━━━━━━━━━━━━━━━━━━━━━━━━━┳━━━━━━━━━━━━━━━━━━━━━━━━━━━┓\n",
       "┃<span style=\"font-weight: bold\">        Test metric        </span>┃<span style=\"font-weight: bold\">       DataLoader 0        </span>┃\n",
       "┡━━━━━━━━━━━━━━━━━━━━━━━━━━━╇━━━━━━━━━━━━━━━━━━━━━━━━━━━┩\n",
       "│<span style=\"color: #008080; text-decoration-color: #008080\">         test_loss         </span>│<span style=\"color: #800080; text-decoration-color: #800080\">    0.8467652201652527     </span>│\n",
       "└───────────────────────────┴───────────────────────────┘\n",
       "</pre>\n"
      ],
      "text/plain": [
       "┏━━━━━━━━━━━━━━━━━━━━━━━━━━━┳━━━━━━━━━━━━━━━━━━━━━━━━━━━┓\n",
       "┃\u001b[1m \u001b[0m\u001b[1m       Test metric       \u001b[0m\u001b[1m \u001b[0m┃\u001b[1m \u001b[0m\u001b[1m      DataLoader 0       \u001b[0m\u001b[1m \u001b[0m┃\n",
       "┡━━━━━━━━━━━━━━━━━━━━━━━━━━━╇━━━━━━━━━━━━━━━━━━━━━━━━━━━┩\n",
       "│\u001b[36m \u001b[0m\u001b[36m        test_loss        \u001b[0m\u001b[36m \u001b[0m│\u001b[35m \u001b[0m\u001b[35m   0.8467652201652527    \u001b[0m\u001b[35m \u001b[0m│\n",
       "└───────────────────────────┴───────────────────────────┘\n"
      ]
     },
     "metadata": {},
     "output_type": "display_data"
    },
    {
     "name": "stderr",
     "output_type": "stream",
     "text": [
      "GPU available: False, used: False\n",
      "TPU available: False, using: 0 TPU cores\n",
      "IPU available: False, using: 0 IPUs\n",
      "HPU available: False, using: 0 HPUs\n"
     ]
    },
    {
     "name": "stdout",
     "output_type": "stream",
     "text": [
      "[{'a_include_BN': True, 'a_include_bias': True, 'a_activation_type': ELU(alpha=1.0), 'a_dropout_range': 0, 'a_pool_type': MaxPool2d(kernel_size=2, stride=2, padding=0, dilation=1, ceil_mode=False), 'b_include_BN': False, 'b_include_bias': True, 'b_activation_type': ReLU(), 'b_dropout_range': 0.1, 'c_include_BN': True, 'c_include_bias': True, 'c_activation_type': SELU(), 'c_dropout_range': 0.2, 'd_include_BN': False, 'd_include_bias': False, 'd_activation_type': ReLU(), 'd_dropout_range': 0.1, 'b_pool_type': AvgPool2d(kernel_size=1, stride=1, padding=0), 'learning_rate': 0.1}, MyModel(\n",
      "  (cnn1): Conv2d(1, 16, kernel_size=(5, 5), stride=(1, 1))\n",
      "  (batch_norm_a): BatchNorm2d(16, eps=1e-05, momentum=0.1, affine=True, track_running_stats=True)\n",
      "  (funcion_activacion_a): ELU(alpha=1.0)\n",
      "  (dropout_a): Dropout(p=0, inplace=False)\n",
      "  (pool1): MaxPool2d(kernel_size=2, stride=2, padding=0, dilation=1, ceil_mode=False)\n",
      "  (cnn2): Conv2d(16, 16, kernel_size=(5, 5), stride=(1, 1))\n",
      "  (batch_norm_b): BatchNorm2d(16, eps=1e-05, momentum=0.1, affine=True, track_running_stats=True)\n",
      "  (funcion_activacion_b): ReLU()\n",
      "  (dropout_b): Dropout(p=0.1, inplace=False)\n",
      "  (cnn3): Conv2d(16, 32, kernel_size=(3, 3), stride=(1, 1))\n",
      "  (batch_norm_c): BatchNorm2d(32, eps=1e-05, momentum=0.1, affine=True, track_running_stats=True)\n",
      "  (funcion_activacion_c): SELU()\n",
      "  (dropout_c): Dropout(p=0.2, inplace=False)\n",
      "  (cnn4): Conv2d(32, 32, kernel_size=(3, 3), stride=(1, 1), bias=False)\n",
      "  (batch_norm_d): BatchNorm2d(32, eps=1e-05, momentum=0.1, affine=True, track_running_stats=True)\n",
      "  (funcion_activacion_d): ReLU()\n",
      "  (dropout_d): Dropout(p=0.1, inplace=False)\n",
      "  (pool2): AvgPool2d(kernel_size=1, stride=1, padding=0)\n",
      "  (fc1): Linear(in_features=512, out_features=10, bias=True)\n",
      "), 0.7746359705924988]\n",
      "{'test_loss': 0.8467652201652527} 0.7746359705924988\n",
      "16.60833839876071\n"
     ]
    },
    {
     "name": "stderr",
     "output_type": "stream",
     "text": [
      "\n",
      "   | Name                 | Type        | Params\n",
      "------------------------------------------------------\n",
      "0  | cnn1                 | Conv2d      | 416   \n",
      "1  | batch_norm_a         | BatchNorm2d | 32    \n",
      "2  | funcion_activacion_a | ELU         | 0     \n",
      "3  | dropout_a            | Dropout     | 0     \n",
      "4  | pool1                | MaxPool2d   | 0     \n",
      "5  | cnn2                 | Conv2d      | 6.4 K \n",
      "6  | batch_norm_b         | BatchNorm2d | 32    \n",
      "7  | funcion_activacion_b | ReLU        | 0     \n",
      "8  | dropout_b            | Dropout     | 0     \n",
      "9  | cnn3                 | Conv2d      | 4.6 K \n",
      "10 | batch_norm_c         | BatchNorm2d | 64    \n",
      "11 | funcion_activacion_c | SELU        | 0     \n",
      "12 | dropout_c            | Dropout     | 0     \n",
      "13 | cnn4                 | Conv2d      | 9.2 K \n",
      "14 | batch_norm_d         | BatchNorm2d | 64    \n",
      "15 | funcion_activacion_d | ReLU        | 0     \n",
      "16 | dropout_d            | Dropout     | 0     \n",
      "17 | pool2                | AvgPool2d   | 0     \n",
      "18 | fc1                  | Linear      | 5.1 K \n",
      "------------------------------------------------------\n",
      "26.0 K    Trainable params\n",
      "0         Non-trainable params\n",
      "26.0 K    Total params\n",
      "0.104     Total estimated model params size (MB)\n"
     ]
    },
    {
     "data": {
      "application/vnd.jupyter.widget-view+json": {
       "model_id": "36156be7f4a04308bdfc3769cf2b89b1",
       "version_major": 2,
       "version_minor": 0
      },
      "text/plain": [
       "Sanity Checking: 0it [00:00, ?it/s]"
      ]
     },
     "metadata": {},
     "output_type": "display_data"
    },
    {
     "data": {
      "application/vnd.jupyter.widget-view+json": {
       "model_id": "3aaa992e8cef46f59c8050bada680a8e",
       "version_major": 2,
       "version_minor": 0
      },
      "text/plain": [
       "Training: 0it [00:00, ?it/s]"
      ]
     },
     "metadata": {},
     "output_type": "display_data"
    },
    {
     "data": {
      "application/vnd.jupyter.widget-view+json": {
       "model_id": "87a6e3e02bf44035a2647779ed719737",
       "version_major": 2,
       "version_minor": 0
      },
      "text/plain": [
       "Validation: 0it [00:00, ?it/s]"
      ]
     },
     "metadata": {},
     "output_type": "display_data"
    },
    {
     "data": {
      "application/vnd.jupyter.widget-view+json": {
       "model_id": "dc6919da5d484e9f9aef455457d3fcfd",
       "version_major": 2,
       "version_minor": 0
      },
      "text/plain": [
       "Validation: 0it [00:00, ?it/s]"
      ]
     },
     "metadata": {},
     "output_type": "display_data"
    },
    {
     "data": {
      "application/vnd.jupyter.widget-view+json": {
       "model_id": "5c683d2b63cf4658a3dd03e815da5738",
       "version_major": 2,
       "version_minor": 0
      },
      "text/plain": [
       "Validation: 0it [00:00, ?it/s]"
      ]
     },
     "metadata": {},
     "output_type": "display_data"
    },
    {
     "data": {
      "application/vnd.jupyter.widget-view+json": {
       "model_id": "300cee6fec7149f9ae046ae3b528ea1b",
       "version_major": 2,
       "version_minor": 0
      },
      "text/plain": [
       "Validation: 0it [00:00, ?it/s]"
      ]
     },
     "metadata": {},
     "output_type": "display_data"
    },
    {
     "data": {
      "application/vnd.jupyter.widget-view+json": {
       "model_id": "540a50a2cb9a4b60ba11250d1dd29b61",
       "version_major": 2,
       "version_minor": 0
      },
      "text/plain": [
       "Validation: 0it [00:00, ?it/s]"
      ]
     },
     "metadata": {},
     "output_type": "display_data"
    },
    {
     "name": "stderr",
     "output_type": "stream",
     "text": [
      "`Trainer.fit` stopped: `max_epochs=5` reached.\n",
      "Restoring states from the checkpoint path at c:\\Users\\w10\\Desktop\\BMA\\UPV\\tia\\algoritmos_geneticos\\notebooks\\lightning_logs\\version_666\\checkpoints\\epoch=4-step=150.ckpt\n",
      "Loaded model weights from the checkpoint at c:\\Users\\w10\\Desktop\\BMA\\UPV\\tia\\algoritmos_geneticos\\notebooks\\lightning_logs\\version_666\\checkpoints\\epoch=4-step=150.ckpt\n"
     ]
    },
    {
     "data": {
      "application/vnd.jupyter.widget-view+json": {
       "model_id": "32cedadef1d04dc6b17b3210e731288e",
       "version_major": 2,
       "version_minor": 0
      },
      "text/plain": [
       "Testing: 0it [00:00, ?it/s]"
      ]
     },
     "metadata": {},
     "output_type": "display_data"
    },
    {
     "data": {
      "text/html": [
       "<pre style=\"white-space:pre;overflow-x:auto;line-height:normal;font-family:Menlo,'DejaVu Sans Mono',consolas,'Courier New',monospace\">┏━━━━━━━━━━━━━━━━━━━━━━━━━━━┳━━━━━━━━━━━━━━━━━━━━━━━━━━━┓\n",
       "┃<span style=\"font-weight: bold\">        Test metric        </span>┃<span style=\"font-weight: bold\">       DataLoader 0        </span>┃\n",
       "┡━━━━━━━━━━━━━━━━━━━━━━━━━━━╇━━━━━━━━━━━━━━━━━━━━━━━━━━━┩\n",
       "│<span style=\"color: #008080; text-decoration-color: #008080\">         test_loss         </span>│<span style=\"color: #800080; text-decoration-color: #800080\">    0.8459460139274597     </span>│\n",
       "└───────────────────────────┴───────────────────────────┘\n",
       "</pre>\n"
      ],
      "text/plain": [
       "┏━━━━━━━━━━━━━━━━━━━━━━━━━━━┳━━━━━━━━━━━━━━━━━━━━━━━━━━━┓\n",
       "┃\u001b[1m \u001b[0m\u001b[1m       Test metric       \u001b[0m\u001b[1m \u001b[0m┃\u001b[1m \u001b[0m\u001b[1m      DataLoader 0       \u001b[0m\u001b[1m \u001b[0m┃\n",
       "┡━━━━━━━━━━━━━━━━━━━━━━━━━━━╇━━━━━━━━━━━━━━━━━━━━━━━━━━━┩\n",
       "│\u001b[36m \u001b[0m\u001b[36m        test_loss        \u001b[0m\u001b[36m \u001b[0m│\u001b[35m \u001b[0m\u001b[35m   0.8459460139274597    \u001b[0m\u001b[35m \u001b[0m│\n",
       "└───────────────────────────┴───────────────────────────┘\n"
      ]
     },
     "metadata": {},
     "output_type": "display_data"
    },
    {
     "name": "stderr",
     "output_type": "stream",
     "text": [
      "GPU available: False, used: False\n",
      "TPU available: False, using: 0 TPU cores\n",
      "IPU available: False, using: 0 IPUs\n",
      "HPU available: False, using: 0 HPUs\n"
     ]
    },
    {
     "name": "stdout",
     "output_type": "stream",
     "text": [
      "[{'a_include_BN': True, 'a_include_bias': True, 'a_activation_type': ELU(alpha=1.0), 'a_dropout_range': 0, 'a_pool_type': MaxPool2d(kernel_size=2, stride=2, padding=0, dilation=1, ceil_mode=False), 'b_include_BN': False, 'b_include_bias': True, 'b_activation_type': ReLU(), 'b_dropout_range': 0.1, 'c_include_BN': True, 'c_include_bias': True, 'c_activation_type': SELU(), 'c_dropout_range': 0.2, 'd_include_BN': False, 'd_include_bias': False, 'd_activation_type': ReLU(), 'd_dropout_range': 0.1, 'b_pool_type': AvgPool2d(kernel_size=1, stride=1, padding=0), 'learning_rate': 0.1}, MyModel(\n",
      "  (cnn1): Conv2d(1, 16, kernel_size=(5, 5), stride=(1, 1))\n",
      "  (batch_norm_a): BatchNorm2d(16, eps=1e-05, momentum=0.1, affine=True, track_running_stats=True)\n",
      "  (funcion_activacion_a): ELU(alpha=1.0)\n",
      "  (dropout_a): Dropout(p=0, inplace=False)\n",
      "  (pool1): MaxPool2d(kernel_size=2, stride=2, padding=0, dilation=1, ceil_mode=False)\n",
      "  (cnn2): Conv2d(16, 16, kernel_size=(5, 5), stride=(1, 1))\n",
      "  (batch_norm_b): BatchNorm2d(16, eps=1e-05, momentum=0.1, affine=True, track_running_stats=True)\n",
      "  (funcion_activacion_b): ReLU()\n",
      "  (dropout_b): Dropout(p=0.1, inplace=False)\n",
      "  (cnn3): Conv2d(16, 32, kernel_size=(3, 3), stride=(1, 1))\n",
      "  (batch_norm_c): BatchNorm2d(32, eps=1e-05, momentum=0.1, affine=True, track_running_stats=True)\n",
      "  (funcion_activacion_c): SELU()\n",
      "  (dropout_c): Dropout(p=0.2, inplace=False)\n",
      "  (cnn4): Conv2d(32, 32, kernel_size=(3, 3), stride=(1, 1), bias=False)\n",
      "  (batch_norm_d): BatchNorm2d(32, eps=1e-05, momentum=0.1, affine=True, track_running_stats=True)\n",
      "  (funcion_activacion_d): ReLU()\n",
      "  (dropout_d): Dropout(p=0.1, inplace=False)\n",
      "  (pool2): AvgPool2d(kernel_size=1, stride=1, padding=0)\n",
      "  (fc1): Linear(in_features=512, out_features=10, bias=True)\n",
      "), 0.7746359705924988]\n",
      "{'test_loss': 0.8459460139274597} 0.7746359705924988\n",
      "15.777921478822675\n"
     ]
    },
    {
     "name": "stderr",
     "output_type": "stream",
     "text": [
      "\n",
      "   | Name                 | Type        | Params\n",
      "------------------------------------------------------\n",
      "0  | cnn1                 | Conv2d      | 416   \n",
      "1  | batch_norm_a         | BatchNorm2d | 32    \n",
      "2  | funcion_activacion_a | ELU         | 0     \n",
      "3  | dropout_a            | Dropout     | 0     \n",
      "4  | pool1                | MaxPool2d   | 0     \n",
      "5  | cnn2                 | Conv2d      | 6.4 K \n",
      "6  | batch_norm_b         | BatchNorm2d | 32    \n",
      "7  | funcion_activacion_b | ReLU        | 0     \n",
      "8  | dropout_b            | Dropout     | 0     \n",
      "9  | cnn3                 | Conv2d      | 4.6 K \n",
      "10 | batch_norm_c         | BatchNorm2d | 64    \n",
      "11 | funcion_activacion_c | SELU        | 0     \n",
      "12 | dropout_c            | Dropout     | 0     \n",
      "13 | cnn4                 | Conv2d      | 9.2 K \n",
      "14 | batch_norm_d         | BatchNorm2d | 64    \n",
      "15 | funcion_activacion_d | ReLU        | 0     \n",
      "16 | dropout_d            | Dropout     | 0     \n",
      "17 | pool2                | AvgPool2d   | 0     \n",
      "18 | fc1                  | Linear      | 5.1 K \n",
      "------------------------------------------------------\n",
      "26.0 K    Trainable params\n",
      "0         Non-trainable params\n",
      "26.0 K    Total params\n",
      "0.104     Total estimated model params size (MB)\n"
     ]
    },
    {
     "data": {
      "application/vnd.jupyter.widget-view+json": {
       "model_id": "8d1a635a7d3749948299772e7a1778d1",
       "version_major": 2,
       "version_minor": 0
      },
      "text/plain": [
       "Sanity Checking: 0it [00:00, ?it/s]"
      ]
     },
     "metadata": {},
     "output_type": "display_data"
    },
    {
     "data": {
      "application/vnd.jupyter.widget-view+json": {
       "model_id": "d6416485766d4f7082c42867e624a99c",
       "version_major": 2,
       "version_minor": 0
      },
      "text/plain": [
       "Training: 0it [00:00, ?it/s]"
      ]
     },
     "metadata": {},
     "output_type": "display_data"
    },
    {
     "data": {
      "application/vnd.jupyter.widget-view+json": {
       "model_id": "230855df9e4e4c7f9f52cb4d4004e415",
       "version_major": 2,
       "version_minor": 0
      },
      "text/plain": [
       "Validation: 0it [00:00, ?it/s]"
      ]
     },
     "metadata": {},
     "output_type": "display_data"
    },
    {
     "data": {
      "application/vnd.jupyter.widget-view+json": {
       "model_id": "1f47b8f108a34b0b83d19e941be47fd4",
       "version_major": 2,
       "version_minor": 0
      },
      "text/plain": [
       "Validation: 0it [00:00, ?it/s]"
      ]
     },
     "metadata": {},
     "output_type": "display_data"
    },
    {
     "data": {
      "application/vnd.jupyter.widget-view+json": {
       "model_id": "892f455dfe2340baa795f3acf85b0276",
       "version_major": 2,
       "version_minor": 0
      },
      "text/plain": [
       "Validation: 0it [00:00, ?it/s]"
      ]
     },
     "metadata": {},
     "output_type": "display_data"
    },
    {
     "data": {
      "application/vnd.jupyter.widget-view+json": {
       "model_id": "43745a3f9f6a4fdd9ff03ec1f563c1d2",
       "version_major": 2,
       "version_minor": 0
      },
      "text/plain": [
       "Validation: 0it [00:00, ?it/s]"
      ]
     },
     "metadata": {},
     "output_type": "display_data"
    },
    {
     "data": {
      "application/vnd.jupyter.widget-view+json": {
       "model_id": "87bfe1c0c567428599b8ce1b186b232b",
       "version_major": 2,
       "version_minor": 0
      },
      "text/plain": [
       "Validation: 0it [00:00, ?it/s]"
      ]
     },
     "metadata": {},
     "output_type": "display_data"
    },
    {
     "name": "stderr",
     "output_type": "stream",
     "text": [
      "`Trainer.fit` stopped: `max_epochs=5` reached.\n",
      "Restoring states from the checkpoint path at c:\\Users\\w10\\Desktop\\BMA\\UPV\\tia\\algoritmos_geneticos\\notebooks\\lightning_logs\\version_667\\checkpoints\\epoch=4-step=150.ckpt\n",
      "Loaded model weights from the checkpoint at c:\\Users\\w10\\Desktop\\BMA\\UPV\\tia\\algoritmos_geneticos\\notebooks\\lightning_logs\\version_667\\checkpoints\\epoch=4-step=150.ckpt\n"
     ]
    },
    {
     "data": {
      "application/vnd.jupyter.widget-view+json": {
       "model_id": "4303d8fa96584b2abb960ee941db2786",
       "version_major": 2,
       "version_minor": 0
      },
      "text/plain": [
       "Testing: 0it [00:00, ?it/s]"
      ]
     },
     "metadata": {},
     "output_type": "display_data"
    },
    {
     "data": {
      "text/html": [
       "<pre style=\"white-space:pre;overflow-x:auto;line-height:normal;font-family:Menlo,'DejaVu Sans Mono',consolas,'Courier New',monospace\">┏━━━━━━━━━━━━━━━━━━━━━━━━━━━┳━━━━━━━━━━━━━━━━━━━━━━━━━━━┓\n",
       "┃<span style=\"font-weight: bold\">        Test metric        </span>┃<span style=\"font-weight: bold\">       DataLoader 0        </span>┃\n",
       "┡━━━━━━━━━━━━━━━━━━━━━━━━━━━╇━━━━━━━━━━━━━━━━━━━━━━━━━━━┩\n",
       "│<span style=\"color: #008080; text-decoration-color: #008080\">         test_loss         </span>│<span style=\"color: #800080; text-decoration-color: #800080\">    1.0690274238586426     </span>│\n",
       "└───────────────────────────┴───────────────────────────┘\n",
       "</pre>\n"
      ],
      "text/plain": [
       "┏━━━━━━━━━━━━━━━━━━━━━━━━━━━┳━━━━━━━━━━━━━━━━━━━━━━━━━━━┓\n",
       "┃\u001b[1m \u001b[0m\u001b[1m       Test metric       \u001b[0m\u001b[1m \u001b[0m┃\u001b[1m \u001b[0m\u001b[1m      DataLoader 0       \u001b[0m\u001b[1m \u001b[0m┃\n",
       "┡━━━━━━━━━━━━━━━━━━━━━━━━━━━╇━━━━━━━━━━━━━━━━━━━━━━━━━━━┩\n",
       "│\u001b[36m \u001b[0m\u001b[36m        test_loss        \u001b[0m\u001b[36m \u001b[0m│\u001b[35m \u001b[0m\u001b[35m   1.0690274238586426    \u001b[0m\u001b[35m \u001b[0m│\n",
       "└───────────────────────────┴───────────────────────────┘\n"
      ]
     },
     "metadata": {},
     "output_type": "display_data"
    },
    {
     "name": "stderr",
     "output_type": "stream",
     "text": [
      "GPU available: False, used: False\n",
      "TPU available: False, using: 0 TPU cores\n",
      "IPU available: False, using: 0 IPUs\n",
      "HPU available: False, using: 0 HPUs\n"
     ]
    },
    {
     "name": "stdout",
     "output_type": "stream",
     "text": [
      "[{'a_include_BN': True, 'a_include_bias': True, 'a_activation_type': ELU(alpha=1.0), 'a_dropout_range': 0, 'a_pool_type': MaxPool2d(kernel_size=2, stride=2, padding=0, dilation=1, ceil_mode=False), 'b_include_BN': False, 'b_include_bias': True, 'b_activation_type': ReLU(), 'b_dropout_range': 0.1, 'c_include_BN': True, 'c_include_bias': True, 'c_activation_type': SELU(), 'c_dropout_range': 0.2, 'd_include_BN': False, 'd_include_bias': False, 'd_activation_type': ReLU(), 'd_dropout_range': 0.1, 'b_pool_type': AvgPool2d(kernel_size=1, stride=1, padding=0), 'learning_rate': 0.1}, MyModel(\n",
      "  (cnn1): Conv2d(1, 16, kernel_size=(5, 5), stride=(1, 1))\n",
      "  (batch_norm_a): BatchNorm2d(16, eps=1e-05, momentum=0.1, affine=True, track_running_stats=True)\n",
      "  (funcion_activacion_a): ELU(alpha=1.0)\n",
      "  (dropout_a): Dropout(p=0, inplace=False)\n",
      "  (pool1): MaxPool2d(kernel_size=2, stride=2, padding=0, dilation=1, ceil_mode=False)\n",
      "  (cnn2): Conv2d(16, 16, kernel_size=(5, 5), stride=(1, 1))\n",
      "  (batch_norm_b): BatchNorm2d(16, eps=1e-05, momentum=0.1, affine=True, track_running_stats=True)\n",
      "  (funcion_activacion_b): ReLU()\n",
      "  (dropout_b): Dropout(p=0.1, inplace=False)\n",
      "  (cnn3): Conv2d(16, 32, kernel_size=(3, 3), stride=(1, 1))\n",
      "  (batch_norm_c): BatchNorm2d(32, eps=1e-05, momentum=0.1, affine=True, track_running_stats=True)\n",
      "  (funcion_activacion_c): SELU()\n",
      "  (dropout_c): Dropout(p=0.2, inplace=False)\n",
      "  (cnn4): Conv2d(32, 32, kernel_size=(3, 3), stride=(1, 1), bias=False)\n",
      "  (batch_norm_d): BatchNorm2d(32, eps=1e-05, momentum=0.1, affine=True, track_running_stats=True)\n",
      "  (funcion_activacion_d): ReLU()\n",
      "  (dropout_d): Dropout(p=0.1, inplace=False)\n",
      "  (pool2): AvgPool2d(kernel_size=1, stride=1, padding=0)\n",
      "  (fc1): Linear(in_features=512, out_features=10, bias=True)\n",
      "), 0.7746359705924988]\n",
      "{'test_loss': 1.0690274238586426} 0.7746359705924988\n",
      "14.98902540488154\n"
     ]
    },
    {
     "name": "stderr",
     "output_type": "stream",
     "text": [
      "\n",
      "   | Name                 | Type        | Params\n",
      "------------------------------------------------------\n",
      "0  | cnn1                 | Conv2d      | 416   \n",
      "1  | batch_norm_a         | BatchNorm2d | 32    \n",
      "2  | funcion_activacion_a | ELU         | 0     \n",
      "3  | dropout_a            | Dropout     | 0     \n",
      "4  | pool1                | MaxPool2d   | 0     \n",
      "5  | cnn2                 | Conv2d      | 6.4 K \n",
      "6  | batch_norm_b         | BatchNorm2d | 32    \n",
      "7  | funcion_activacion_b | ReLU        | 0     \n",
      "8  | dropout_b            | Dropout     | 0     \n",
      "9  | cnn3                 | Conv2d      | 4.6 K \n",
      "10 | batch_norm_c         | BatchNorm2d | 64    \n",
      "11 | funcion_activacion_c | SELU        | 0     \n",
      "12 | dropout_c            | Dropout     | 0     \n",
      "13 | cnn4                 | Conv2d      | 9.2 K \n",
      "14 | batch_norm_d         | BatchNorm2d | 64    \n",
      "15 | funcion_activacion_d | ReLU        | 0     \n",
      "16 | dropout_d            | Dropout     | 0     \n",
      "17 | pool2                | AvgPool2d   | 0     \n",
      "18 | fc1                  | Linear      | 5.1 K \n",
      "------------------------------------------------------\n",
      "26.0 K    Trainable params\n",
      "0         Non-trainable params\n",
      "26.0 K    Total params\n",
      "0.104     Total estimated model params size (MB)\n"
     ]
    },
    {
     "data": {
      "application/vnd.jupyter.widget-view+json": {
       "model_id": "f884a254e487477b98aee9b9d10e9042",
       "version_major": 2,
       "version_minor": 0
      },
      "text/plain": [
       "Sanity Checking: 0it [00:00, ?it/s]"
      ]
     },
     "metadata": {},
     "output_type": "display_data"
    },
    {
     "data": {
      "application/vnd.jupyter.widget-view+json": {
       "model_id": "66bd889894c94040a3f67d5837dcda55",
       "version_major": 2,
       "version_minor": 0
      },
      "text/plain": [
       "Training: 0it [00:00, ?it/s]"
      ]
     },
     "metadata": {},
     "output_type": "display_data"
    },
    {
     "data": {
      "application/vnd.jupyter.widget-view+json": {
       "model_id": "2f2bf9f3d7814fa394650182cdc72261",
       "version_major": 2,
       "version_minor": 0
      },
      "text/plain": [
       "Validation: 0it [00:00, ?it/s]"
      ]
     },
     "metadata": {},
     "output_type": "display_data"
    },
    {
     "data": {
      "application/vnd.jupyter.widget-view+json": {
       "model_id": "01d2a6c6080d458ebdbd18cd543b72d2",
       "version_major": 2,
       "version_minor": 0
      },
      "text/plain": [
       "Validation: 0it [00:00, ?it/s]"
      ]
     },
     "metadata": {},
     "output_type": "display_data"
    },
    {
     "data": {
      "application/vnd.jupyter.widget-view+json": {
       "model_id": "8520fa2969ef43c88d67236109d15f71",
       "version_major": 2,
       "version_minor": 0
      },
      "text/plain": [
       "Validation: 0it [00:00, ?it/s]"
      ]
     },
     "metadata": {},
     "output_type": "display_data"
    },
    {
     "data": {
      "application/vnd.jupyter.widget-view+json": {
       "model_id": "9f3b907da9a144dab5cea1e33b51d865",
       "version_major": 2,
       "version_minor": 0
      },
      "text/plain": [
       "Validation: 0it [00:00, ?it/s]"
      ]
     },
     "metadata": {},
     "output_type": "display_data"
    },
    {
     "data": {
      "application/vnd.jupyter.widget-view+json": {
       "model_id": "22b43006527f46e089a329d46599b351",
       "version_major": 2,
       "version_minor": 0
      },
      "text/plain": [
       "Validation: 0it [00:00, ?it/s]"
      ]
     },
     "metadata": {},
     "output_type": "display_data"
    },
    {
     "name": "stderr",
     "output_type": "stream",
     "text": [
      "`Trainer.fit` stopped: `max_epochs=5` reached.\n",
      "Restoring states from the checkpoint path at c:\\Users\\w10\\Desktop\\BMA\\UPV\\tia\\algoritmos_geneticos\\notebooks\\lightning_logs\\version_668\\checkpoints\\epoch=4-step=150.ckpt\n",
      "Loaded model weights from the checkpoint at c:\\Users\\w10\\Desktop\\BMA\\UPV\\tia\\algoritmos_geneticos\\notebooks\\lightning_logs\\version_668\\checkpoints\\epoch=4-step=150.ckpt\n"
     ]
    },
    {
     "data": {
      "application/vnd.jupyter.widget-view+json": {
       "model_id": "7ecc15820aa34fbe9f00da62a7f04b26",
       "version_major": 2,
       "version_minor": 0
      },
      "text/plain": [
       "Testing: 0it [00:00, ?it/s]"
      ]
     },
     "metadata": {},
     "output_type": "display_data"
    },
    {
     "data": {
      "text/html": [
       "<pre style=\"white-space:pre;overflow-x:auto;line-height:normal;font-family:Menlo,'DejaVu Sans Mono',consolas,'Courier New',monospace\">┏━━━━━━━━━━━━━━━━━━━━━━━━━━━┳━━━━━━━━━━━━━━━━━━━━━━━━━━━┓\n",
       "┃<span style=\"font-weight: bold\">        Test metric        </span>┃<span style=\"font-weight: bold\">       DataLoader 0        </span>┃\n",
       "┡━━━━━━━━━━━━━━━━━━━━━━━━━━━╇━━━━━━━━━━━━━━━━━━━━━━━━━━━┩\n",
       "│<span style=\"color: #008080; text-decoration-color: #008080\">         test_loss         </span>│<span style=\"color: #800080; text-decoration-color: #800080\">     1.066078543663025     </span>│\n",
       "└───────────────────────────┴───────────────────────────┘\n",
       "</pre>\n"
      ],
      "text/plain": [
       "┏━━━━━━━━━━━━━━━━━━━━━━━━━━━┳━━━━━━━━━━━━━━━━━━━━━━━━━━━┓\n",
       "┃\u001b[1m \u001b[0m\u001b[1m       Test metric       \u001b[0m\u001b[1m \u001b[0m┃\u001b[1m \u001b[0m\u001b[1m      DataLoader 0       \u001b[0m\u001b[1m \u001b[0m┃\n",
       "┡━━━━━━━━━━━━━━━━━━━━━━━━━━━╇━━━━━━━━━━━━━━━━━━━━━━━━━━━┩\n",
       "│\u001b[36m \u001b[0m\u001b[36m        test_loss        \u001b[0m\u001b[36m \u001b[0m│\u001b[35m \u001b[0m\u001b[35m    1.066078543663025    \u001b[0m\u001b[35m \u001b[0m│\n",
       "└───────────────────────────┴───────────────────────────┘\n"
      ]
     },
     "metadata": {},
     "output_type": "display_data"
    },
    {
     "name": "stderr",
     "output_type": "stream",
     "text": [
      "GPU available: False, used: False\n",
      "TPU available: False, using: 0 TPU cores\n",
      "IPU available: False, using: 0 IPUs\n",
      "HPU available: False, using: 0 HPUs\n"
     ]
    },
    {
     "name": "stdout",
     "output_type": "stream",
     "text": [
      "[{'a_include_BN': True, 'a_include_bias': True, 'a_activation_type': ELU(alpha=1.0), 'a_dropout_range': 0, 'a_pool_type': MaxPool2d(kernel_size=2, stride=2, padding=0, dilation=1, ceil_mode=False), 'b_include_BN': False, 'b_include_bias': True, 'b_activation_type': ReLU(), 'b_dropout_range': 0.1, 'c_include_BN': True, 'c_include_bias': True, 'c_activation_type': SELU(), 'c_dropout_range': 0.2, 'd_include_BN': False, 'd_include_bias': False, 'd_activation_type': ReLU(), 'd_dropout_range': 0.1, 'b_pool_type': AvgPool2d(kernel_size=1, stride=1, padding=0), 'learning_rate': 0.1}, MyModel(\n",
      "  (cnn1): Conv2d(1, 16, kernel_size=(5, 5), stride=(1, 1))\n",
      "  (batch_norm_a): BatchNorm2d(16, eps=1e-05, momentum=0.1, affine=True, track_running_stats=True)\n",
      "  (funcion_activacion_a): ELU(alpha=1.0)\n",
      "  (dropout_a): Dropout(p=0, inplace=False)\n",
      "  (pool1): MaxPool2d(kernel_size=2, stride=2, padding=0, dilation=1, ceil_mode=False)\n",
      "  (cnn2): Conv2d(16, 16, kernel_size=(5, 5), stride=(1, 1))\n",
      "  (batch_norm_b): BatchNorm2d(16, eps=1e-05, momentum=0.1, affine=True, track_running_stats=True)\n",
      "  (funcion_activacion_b): ReLU()\n",
      "  (dropout_b): Dropout(p=0.1, inplace=False)\n",
      "  (cnn3): Conv2d(16, 32, kernel_size=(3, 3), stride=(1, 1))\n",
      "  (batch_norm_c): BatchNorm2d(32, eps=1e-05, momentum=0.1, affine=True, track_running_stats=True)\n",
      "  (funcion_activacion_c): SELU()\n",
      "  (dropout_c): Dropout(p=0.2, inplace=False)\n",
      "  (cnn4): Conv2d(32, 32, kernel_size=(3, 3), stride=(1, 1), bias=False)\n",
      "  (batch_norm_d): BatchNorm2d(32, eps=1e-05, momentum=0.1, affine=True, track_running_stats=True)\n",
      "  (funcion_activacion_d): ReLU()\n",
      "  (dropout_d): Dropout(p=0.1, inplace=False)\n",
      "  (pool2): AvgPool2d(kernel_size=1, stride=1, padding=0)\n",
      "  (fc1): Linear(in_features=512, out_features=10, bias=True)\n",
      "), 0.7746359705924988]\n",
      "{'test_loss': 1.066078543663025} 0.7746359705924988\n",
      "14.239574134637461\n"
     ]
    },
    {
     "name": "stderr",
     "output_type": "stream",
     "text": [
      "\n",
      "   | Name                 | Type        | Params\n",
      "------------------------------------------------------\n",
      "0  | cnn1                 | Conv2d      | 416   \n",
      "1  | batch_norm_a         | BatchNorm2d | 32    \n",
      "2  | funcion_activacion_a | ELU         | 0     \n",
      "3  | dropout_a            | Dropout     | 0     \n",
      "4  | pool1                | MaxPool2d   | 0     \n",
      "5  | cnn2                 | Conv2d      | 6.4 K \n",
      "6  | batch_norm_b         | BatchNorm2d | 32    \n",
      "7  | funcion_activacion_b | ReLU        | 0     \n",
      "8  | dropout_b            | Dropout     | 0     \n",
      "9  | cnn3                 | Conv2d      | 4.6 K \n",
      "10 | batch_norm_c         | BatchNorm2d | 64    \n",
      "11 | funcion_activacion_c | SELU        | 0     \n",
      "12 | dropout_c            | Dropout     | 0     \n",
      "13 | cnn4                 | Conv2d      | 9.2 K \n",
      "14 | batch_norm_d         | BatchNorm2d | 64    \n",
      "15 | funcion_activacion_d | ReLU        | 0     \n",
      "16 | dropout_d            | Dropout     | 0     \n",
      "17 | pool2                | AvgPool2d   | 0     \n",
      "18 | fc1                  | Linear      | 5.1 K \n",
      "------------------------------------------------------\n",
      "26.0 K    Trainable params\n",
      "0         Non-trainable params\n",
      "26.0 K    Total params\n",
      "0.104     Total estimated model params size (MB)\n"
     ]
    },
    {
     "data": {
      "application/vnd.jupyter.widget-view+json": {
       "model_id": "f1c4db124a5e4be88cb38acc88a2db8a",
       "version_major": 2,
       "version_minor": 0
      },
      "text/plain": [
       "Sanity Checking: 0it [00:00, ?it/s]"
      ]
     },
     "metadata": {},
     "output_type": "display_data"
    },
    {
     "data": {
      "application/vnd.jupyter.widget-view+json": {
       "model_id": "8c74fe5a45754a0abb081475dee54eef",
       "version_major": 2,
       "version_minor": 0
      },
      "text/plain": [
       "Training: 0it [00:00, ?it/s]"
      ]
     },
     "metadata": {},
     "output_type": "display_data"
    },
    {
     "data": {
      "application/vnd.jupyter.widget-view+json": {
       "model_id": "dbf84d92847a48beae3bb43568ad5808",
       "version_major": 2,
       "version_minor": 0
      },
      "text/plain": [
       "Validation: 0it [00:00, ?it/s]"
      ]
     },
     "metadata": {},
     "output_type": "display_data"
    },
    {
     "data": {
      "application/vnd.jupyter.widget-view+json": {
       "model_id": "515b17f6b8a043d6ab53c0bccdd91dcb",
       "version_major": 2,
       "version_minor": 0
      },
      "text/plain": [
       "Validation: 0it [00:00, ?it/s]"
      ]
     },
     "metadata": {},
     "output_type": "display_data"
    },
    {
     "data": {
      "application/vnd.jupyter.widget-view+json": {
       "model_id": "d2587d8c392946ca9eb6d634def6d1a8",
       "version_major": 2,
       "version_minor": 0
      },
      "text/plain": [
       "Validation: 0it [00:00, ?it/s]"
      ]
     },
     "metadata": {},
     "output_type": "display_data"
    },
    {
     "data": {
      "application/vnd.jupyter.widget-view+json": {
       "model_id": "8cb5c4e9645349d7848c028fad17e33c",
       "version_major": 2,
       "version_minor": 0
      },
      "text/plain": [
       "Validation: 0it [00:00, ?it/s]"
      ]
     },
     "metadata": {},
     "output_type": "display_data"
    },
    {
     "data": {
      "application/vnd.jupyter.widget-view+json": {
       "model_id": "80eee6175e7d48b9acafcae4430f4ef5",
       "version_major": 2,
       "version_minor": 0
      },
      "text/plain": [
       "Validation: 0it [00:00, ?it/s]"
      ]
     },
     "metadata": {},
     "output_type": "display_data"
    },
    {
     "name": "stderr",
     "output_type": "stream",
     "text": [
      "`Trainer.fit` stopped: `max_epochs=5` reached.\n",
      "Restoring states from the checkpoint path at c:\\Users\\w10\\Desktop\\BMA\\UPV\\tia\\algoritmos_geneticos\\notebooks\\lightning_logs\\version_669\\checkpoints\\epoch=4-step=150.ckpt\n",
      "Loaded model weights from the checkpoint at c:\\Users\\w10\\Desktop\\BMA\\UPV\\tia\\algoritmos_geneticos\\notebooks\\lightning_logs\\version_669\\checkpoints\\epoch=4-step=150.ckpt\n"
     ]
    },
    {
     "data": {
      "application/vnd.jupyter.widget-view+json": {
       "model_id": "bf33b706aae445f88fe211012fddddf5",
       "version_major": 2,
       "version_minor": 0
      },
      "text/plain": [
       "Testing: 0it [00:00, ?it/s]"
      ]
     },
     "metadata": {},
     "output_type": "display_data"
    },
    {
     "data": {
      "text/html": [
       "<pre style=\"white-space:pre;overflow-x:auto;line-height:normal;font-family:Menlo,'DejaVu Sans Mono',consolas,'Courier New',monospace\">┏━━━━━━━━━━━━━━━━━━━━━━━━━━━┳━━━━━━━━━━━━━━━━━━━━━━━━━━━┓\n",
       "┃<span style=\"font-weight: bold\">        Test metric        </span>┃<span style=\"font-weight: bold\">       DataLoader 0        </span>┃\n",
       "┡━━━━━━━━━━━━━━━━━━━━━━━━━━━╇━━━━━━━━━━━━━━━━━━━━━━━━━━━┩\n",
       "│<span style=\"color: #008080; text-decoration-color: #008080\">         test_loss         </span>│<span style=\"color: #800080; text-decoration-color: #800080\">     0.863572895526886     </span>│\n",
       "└───────────────────────────┴───────────────────────────┘\n",
       "</pre>\n"
      ],
      "text/plain": [
       "┏━━━━━━━━━━━━━━━━━━━━━━━━━━━┳━━━━━━━━━━━━━━━━━━━━━━━━━━━┓\n",
       "┃\u001b[1m \u001b[0m\u001b[1m       Test metric       \u001b[0m\u001b[1m \u001b[0m┃\u001b[1m \u001b[0m\u001b[1m      DataLoader 0       \u001b[0m\u001b[1m \u001b[0m┃\n",
       "┡━━━━━━━━━━━━━━━━━━━━━━━━━━━╇━━━━━━━━━━━━━━━━━━━━━━━━━━━┩\n",
       "│\u001b[36m \u001b[0m\u001b[36m        test_loss        \u001b[0m\u001b[36m \u001b[0m│\u001b[35m \u001b[0m\u001b[35m    0.863572895526886    \u001b[0m\u001b[35m \u001b[0m│\n",
       "└───────────────────────────┴───────────────────────────┘\n"
      ]
     },
     "metadata": {},
     "output_type": "display_data"
    },
    {
     "name": "stdout",
     "output_type": "stream",
     "text": [
      "[{'a_include_BN': True, 'a_include_bias': True, 'a_activation_type': ELU(alpha=1.0), 'a_dropout_range': 0, 'a_pool_type': MaxPool2d(kernel_size=2, stride=2, padding=0, dilation=1, ceil_mode=False), 'b_include_BN': False, 'b_include_bias': True, 'b_activation_type': ReLU(), 'b_dropout_range': 0.1, 'c_include_BN': True, 'c_include_bias': True, 'c_activation_type': SELU(), 'c_dropout_range': 0.2, 'd_include_BN': False, 'd_include_bias': False, 'd_activation_type': ReLU(), 'd_dropout_range': 0.1, 'b_pool_type': AvgPool2d(kernel_size=1, stride=1, padding=0), 'learning_rate': 0.1}, MyModel(\n",
      "  (cnn1): Conv2d(1, 16, kernel_size=(5, 5), stride=(1, 1))\n",
      "  (batch_norm_a): BatchNorm2d(16, eps=1e-05, momentum=0.1, affine=True, track_running_stats=True)\n",
      "  (funcion_activacion_a): ELU(alpha=1.0)\n",
      "  (dropout_a): Dropout(p=0, inplace=False)\n",
      "  (pool1): MaxPool2d(kernel_size=2, stride=2, padding=0, dilation=1, ceil_mode=False)\n",
      "  (cnn2): Conv2d(16, 16, kernel_size=(5, 5), stride=(1, 1))\n",
      "  (batch_norm_b): BatchNorm2d(16, eps=1e-05, momentum=0.1, affine=True, track_running_stats=True)\n",
      "  (funcion_activacion_b): ReLU()\n",
      "  (dropout_b): Dropout(p=0.1, inplace=False)\n",
      "  (cnn3): Conv2d(16, 32, kernel_size=(3, 3), stride=(1, 1))\n",
      "  (batch_norm_c): BatchNorm2d(32, eps=1e-05, momentum=0.1, affine=True, track_running_stats=True)\n",
      "  (funcion_activacion_c): SELU()\n",
      "  (dropout_c): Dropout(p=0.2, inplace=False)\n",
      "  (cnn4): Conv2d(32, 32, kernel_size=(3, 3), stride=(1, 1), bias=False)\n",
      "  (batch_norm_d): BatchNorm2d(32, eps=1e-05, momentum=0.1, affine=True, track_running_stats=True)\n",
      "  (funcion_activacion_d): ReLU()\n",
      "  (dropout_d): Dropout(p=0.1, inplace=False)\n",
      "  (pool2): AvgPool2d(kernel_size=1, stride=1, padding=0)\n",
      "  (fc1): Linear(in_features=512, out_features=10, bias=True)\n",
      "), 0.7746359705924988]\n",
      "{'test_loss': 0.863572895526886} 0.7746359705924988\n",
      "13.527595427905588\n"
     ]
    },
    {
     "name": "stderr",
     "output_type": "stream",
     "text": [
      "GPU available: False, used: False\n",
      "TPU available: False, using: 0 TPU cores\n",
      "IPU available: False, using: 0 IPUs\n",
      "HPU available: False, using: 0 HPUs\n",
      "\n",
      "   | Name                 | Type        | Params\n",
      "------------------------------------------------------\n",
      "0  | cnn1                 | Conv2d      | 416   \n",
      "1  | batch_norm_a         | BatchNorm2d | 32    \n",
      "2  | funcion_activacion_a | ELU         | 0     \n",
      "3  | dropout_a            | Dropout     | 0     \n",
      "4  | pool1                | MaxPool2d   | 0     \n",
      "5  | cnn2                 | Conv2d      | 6.4 K \n",
      "6  | batch_norm_b         | BatchNorm2d | 32    \n",
      "7  | funcion_activacion_b | ReLU        | 0     \n",
      "8  | dropout_b            | Dropout     | 0     \n",
      "9  | cnn3                 | Conv2d      | 4.6 K \n",
      "10 | batch_norm_c         | BatchNorm2d | 64    \n",
      "11 | funcion_activacion_c | SELU        | 0     \n",
      "12 | dropout_c            | Dropout     | 0     \n",
      "13 | cnn4                 | Conv2d      | 9.2 K \n",
      "14 | batch_norm_d         | BatchNorm2d | 64    \n",
      "15 | funcion_activacion_d | ReLU        | 0     \n",
      "16 | dropout_d            | Dropout     | 0     \n",
      "17 | pool2                | AvgPool2d   | 0     \n",
      "18 | fc1                  | Linear      | 5.1 K \n",
      "------------------------------------------------------\n",
      "26.0 K    Trainable params\n",
      "0         Non-trainable params\n",
      "26.0 K    Total params\n",
      "0.104     Total estimated model params size (MB)\n"
     ]
    },
    {
     "data": {
      "application/vnd.jupyter.widget-view+json": {
       "model_id": "cfa14089748b4fe9aad6e7affa79a056",
       "version_major": 2,
       "version_minor": 0
      },
      "text/plain": [
       "Sanity Checking: 0it [00:00, ?it/s]"
      ]
     },
     "metadata": {},
     "output_type": "display_data"
    },
    {
     "data": {
      "application/vnd.jupyter.widget-view+json": {
       "model_id": "9965f21aab9249c9af0afd150e6e246d",
       "version_major": 2,
       "version_minor": 0
      },
      "text/plain": [
       "Training: 0it [00:00, ?it/s]"
      ]
     },
     "metadata": {},
     "output_type": "display_data"
    },
    {
     "data": {
      "application/vnd.jupyter.widget-view+json": {
       "model_id": "a4e81ddf2d3f44c2918d622a31651b29",
       "version_major": 2,
       "version_minor": 0
      },
      "text/plain": [
       "Validation: 0it [00:00, ?it/s]"
      ]
     },
     "metadata": {},
     "output_type": "display_data"
    },
    {
     "data": {
      "application/vnd.jupyter.widget-view+json": {
       "model_id": "348b577767de415bb53bc4d107432d68",
       "version_major": 2,
       "version_minor": 0
      },
      "text/plain": [
       "Validation: 0it [00:00, ?it/s]"
      ]
     },
     "metadata": {},
     "output_type": "display_data"
    },
    {
     "data": {
      "application/vnd.jupyter.widget-view+json": {
       "model_id": "cb07fb2764a548cda79f253995097800",
       "version_major": 2,
       "version_minor": 0
      },
      "text/plain": [
       "Validation: 0it [00:00, ?it/s]"
      ]
     },
     "metadata": {},
     "output_type": "display_data"
    },
    {
     "data": {
      "application/vnd.jupyter.widget-view+json": {
       "model_id": "9b9f56f19fd344e49b4f92e7f910b692",
       "version_major": 2,
       "version_minor": 0
      },
      "text/plain": [
       "Validation: 0it [00:00, ?it/s]"
      ]
     },
     "metadata": {},
     "output_type": "display_data"
    },
    {
     "data": {
      "application/vnd.jupyter.widget-view+json": {
       "model_id": "d2728ad06c214329a4c4e643afd41bc3",
       "version_major": 2,
       "version_minor": 0
      },
      "text/plain": [
       "Validation: 0it [00:00, ?it/s]"
      ]
     },
     "metadata": {},
     "output_type": "display_data"
    },
    {
     "name": "stderr",
     "output_type": "stream",
     "text": [
      "`Trainer.fit` stopped: `max_epochs=5` reached.\n",
      "Restoring states from the checkpoint path at c:\\Users\\w10\\Desktop\\BMA\\UPV\\tia\\algoritmos_geneticos\\notebooks\\lightning_logs\\version_670\\checkpoints\\epoch=4-step=150.ckpt\n",
      "Loaded model weights from the checkpoint at c:\\Users\\w10\\Desktop\\BMA\\UPV\\tia\\algoritmos_geneticos\\notebooks\\lightning_logs\\version_670\\checkpoints\\epoch=4-step=150.ckpt\n"
     ]
    },
    {
     "data": {
      "application/vnd.jupyter.widget-view+json": {
       "model_id": "720767be1066469596ced96d0bd93c0d",
       "version_major": 2,
       "version_minor": 0
      },
      "text/plain": [
       "Testing: 0it [00:00, ?it/s]"
      ]
     },
     "metadata": {},
     "output_type": "display_data"
    },
    {
     "data": {
      "text/html": [
       "<pre style=\"white-space:pre;overflow-x:auto;line-height:normal;font-family:Menlo,'DejaVu Sans Mono',consolas,'Courier New',monospace\">┏━━━━━━━━━━━━━━━━━━━━━━━━━━━┳━━━━━━━━━━━━━━━━━━━━━━━━━━━┓\n",
       "┃<span style=\"font-weight: bold\">        Test metric        </span>┃<span style=\"font-weight: bold\">       DataLoader 0        </span>┃\n",
       "┡━━━━━━━━━━━━━━━━━━━━━━━━━━━╇━━━━━━━━━━━━━━━━━━━━━━━━━━━┩\n",
       "│<span style=\"color: #008080; text-decoration-color: #008080\">         test_loss         </span>│<span style=\"color: #800080; text-decoration-color: #800080\">     1.177398443222046     </span>│\n",
       "└───────────────────────────┴───────────────────────────┘\n",
       "</pre>\n"
      ],
      "text/plain": [
       "┏━━━━━━━━━━━━━━━━━━━━━━━━━━━┳━━━━━━━━━━━━━━━━━━━━━━━━━━━┓\n",
       "┃\u001b[1m \u001b[0m\u001b[1m       Test metric       \u001b[0m\u001b[1m \u001b[0m┃\u001b[1m \u001b[0m\u001b[1m      DataLoader 0       \u001b[0m\u001b[1m \u001b[0m┃\n",
       "┡━━━━━━━━━━━━━━━━━━━━━━━━━━━╇━━━━━━━━━━━━━━━━━━━━━━━━━━━┩\n",
       "│\u001b[36m \u001b[0m\u001b[36m        test_loss        \u001b[0m\u001b[36m \u001b[0m│\u001b[35m \u001b[0m\u001b[35m    1.177398443222046    \u001b[0m\u001b[35m \u001b[0m│\n",
       "└───────────────────────────┴───────────────────────────┘\n"
      ]
     },
     "metadata": {},
     "output_type": "display_data"
    },
    {
     "name": "stdout",
     "output_type": "stream",
     "text": [
      "[{'a_include_BN': True, 'a_include_bias': True, 'a_activation_type': ELU(alpha=1.0), 'a_dropout_range': 0, 'a_pool_type': MaxPool2d(kernel_size=2, stride=2, padding=0, dilation=1, ceil_mode=False), 'b_include_BN': False, 'b_include_bias': True, 'b_activation_type': ReLU(), 'b_dropout_range': 0.1, 'c_include_BN': True, 'c_include_bias': True, 'c_activation_type': SELU(), 'c_dropout_range': 0.2, 'd_include_BN': False, 'd_include_bias': False, 'd_activation_type': ReLU(), 'd_dropout_range': 0.1, 'b_pool_type': AvgPool2d(kernel_size=1, stride=1, padding=0), 'learning_rate': 0.1}, MyModel(\n",
      "  (cnn1): Conv2d(1, 16, kernel_size=(5, 5), stride=(1, 1))\n",
      "  (batch_norm_a): BatchNorm2d(16, eps=1e-05, momentum=0.1, affine=True, track_running_stats=True)\n",
      "  (funcion_activacion_a): ELU(alpha=1.0)\n",
      "  (dropout_a): Dropout(p=0, inplace=False)\n",
      "  (pool1): MaxPool2d(kernel_size=2, stride=2, padding=0, dilation=1, ceil_mode=False)\n",
      "  (cnn2): Conv2d(16, 16, kernel_size=(5, 5), stride=(1, 1))\n",
      "  (batch_norm_b): BatchNorm2d(16, eps=1e-05, momentum=0.1, affine=True, track_running_stats=True)\n",
      "  (funcion_activacion_b): ReLU()\n",
      "  (dropout_b): Dropout(p=0.1, inplace=False)\n",
      "  (cnn3): Conv2d(16, 32, kernel_size=(3, 3), stride=(1, 1))\n",
      "  (batch_norm_c): BatchNorm2d(32, eps=1e-05, momentum=0.1, affine=True, track_running_stats=True)\n",
      "  (funcion_activacion_c): SELU()\n",
      "  (dropout_c): Dropout(p=0.2, inplace=False)\n",
      "  (cnn4): Conv2d(32, 32, kernel_size=(3, 3), stride=(1, 1), bias=False)\n",
      "  (batch_norm_d): BatchNorm2d(32, eps=1e-05, momentum=0.1, affine=True, track_running_stats=True)\n",
      "  (funcion_activacion_d): ReLU()\n",
      "  (dropout_d): Dropout(p=0.1, inplace=False)\n",
      "  (pool2): AvgPool2d(kernel_size=1, stride=1, padding=0)\n",
      "  (fc1): Linear(in_features=512, out_features=10, bias=True)\n",
      "), 0.7746359705924988]\n",
      "{'test_loss': 1.177398443222046} 0.7746359705924988\n",
      "12.851215656510307\n"
     ]
    },
    {
     "name": "stderr",
     "output_type": "stream",
     "text": [
      "GPU available: False, used: False\n",
      "TPU available: False, using: 0 TPU cores\n",
      "IPU available: False, using: 0 IPUs\n",
      "HPU available: False, using: 0 HPUs\n",
      "\n",
      "   | Name                 | Type        | Params\n",
      "------------------------------------------------------\n",
      "0  | cnn1                 | Conv2d      | 416   \n",
      "1  | batch_norm_a         | BatchNorm2d | 32    \n",
      "2  | funcion_activacion_a | ELU         | 0     \n",
      "3  | dropout_a            | Dropout     | 0     \n",
      "4  | pool1                | MaxPool2d   | 0     \n",
      "5  | cnn2                 | Conv2d      | 6.4 K \n",
      "6  | batch_norm_b         | BatchNorm2d | 32    \n",
      "7  | funcion_activacion_b | ReLU        | 0     \n",
      "8  | dropout_b            | Dropout     | 0     \n",
      "9  | cnn3                 | Conv2d      | 4.6 K \n",
      "10 | batch_norm_c         | BatchNorm2d | 64    \n",
      "11 | funcion_activacion_c | SELU        | 0     \n",
      "12 | dropout_c            | Dropout     | 0     \n",
      "13 | cnn4                 | Conv2d      | 9.2 K \n",
      "14 | batch_norm_d         | BatchNorm2d | 64    \n",
      "15 | funcion_activacion_d | ReLU        | 0     \n",
      "16 | dropout_d            | Dropout     | 0     \n",
      "17 | pool2                | AvgPool2d   | 0     \n",
      "18 | fc1                  | Linear      | 5.1 K \n",
      "------------------------------------------------------\n",
      "26.0 K    Trainable params\n",
      "0         Non-trainable params\n",
      "26.0 K    Total params\n",
      "0.104     Total estimated model params size (MB)\n"
     ]
    },
    {
     "data": {
      "application/vnd.jupyter.widget-view+json": {
       "model_id": "da06d0f748b5473e81355cfcbce15e2b",
       "version_major": 2,
       "version_minor": 0
      },
      "text/plain": [
       "Sanity Checking: 0it [00:00, ?it/s]"
      ]
     },
     "metadata": {},
     "output_type": "display_data"
    },
    {
     "data": {
      "application/vnd.jupyter.widget-view+json": {
       "model_id": "76e741b1a30540f39309f2b24de37e91",
       "version_major": 2,
       "version_minor": 0
      },
      "text/plain": [
       "Training: 0it [00:00, ?it/s]"
      ]
     },
     "metadata": {},
     "output_type": "display_data"
    },
    {
     "data": {
      "application/vnd.jupyter.widget-view+json": {
       "model_id": "44640b8d0635498da800fb756c2cdc69",
       "version_major": 2,
       "version_minor": 0
      },
      "text/plain": [
       "Validation: 0it [00:00, ?it/s]"
      ]
     },
     "metadata": {},
     "output_type": "display_data"
    },
    {
     "data": {
      "application/vnd.jupyter.widget-view+json": {
       "model_id": "5299b75641d941f0aeed4d5a6658f4ad",
       "version_major": 2,
       "version_minor": 0
      },
      "text/plain": [
       "Validation: 0it [00:00, ?it/s]"
      ]
     },
     "metadata": {},
     "output_type": "display_data"
    },
    {
     "data": {
      "application/vnd.jupyter.widget-view+json": {
       "model_id": "ee9960ee93ea4cf59fe8dc994f3799b1",
       "version_major": 2,
       "version_minor": 0
      },
      "text/plain": [
       "Validation: 0it [00:00, ?it/s]"
      ]
     },
     "metadata": {},
     "output_type": "display_data"
    },
    {
     "data": {
      "application/vnd.jupyter.widget-view+json": {
       "model_id": "40ec4f36df2d458b8ce59322f2f29e99",
       "version_major": 2,
       "version_minor": 0
      },
      "text/plain": [
       "Validation: 0it [00:00, ?it/s]"
      ]
     },
     "metadata": {},
     "output_type": "display_data"
    },
    {
     "data": {
      "application/vnd.jupyter.widget-view+json": {
       "model_id": "4eafb6a442ae4cd29c7523ed078517e1",
       "version_major": 2,
       "version_minor": 0
      },
      "text/plain": [
       "Validation: 0it [00:00, ?it/s]"
      ]
     },
     "metadata": {},
     "output_type": "display_data"
    },
    {
     "name": "stderr",
     "output_type": "stream",
     "text": [
      "`Trainer.fit` stopped: `max_epochs=5` reached.\n",
      "Restoring states from the checkpoint path at c:\\Users\\w10\\Desktop\\BMA\\UPV\\tia\\algoritmos_geneticos\\notebooks\\lightning_logs\\version_671\\checkpoints\\epoch=4-step=150.ckpt\n",
      "Loaded model weights from the checkpoint at c:\\Users\\w10\\Desktop\\BMA\\UPV\\tia\\algoritmos_geneticos\\notebooks\\lightning_logs\\version_671\\checkpoints\\epoch=4-step=150.ckpt\n"
     ]
    },
    {
     "data": {
      "application/vnd.jupyter.widget-view+json": {
       "model_id": "14ef60150abd4d549372592e5a22f3ba",
       "version_major": 2,
       "version_minor": 0
      },
      "text/plain": [
       "Testing: 0it [00:00, ?it/s]"
      ]
     },
     "metadata": {},
     "output_type": "display_data"
    },
    {
     "data": {
      "text/html": [
       "<pre style=\"white-space:pre;overflow-x:auto;line-height:normal;font-family:Menlo,'DejaVu Sans Mono',consolas,'Courier New',monospace\">┏━━━━━━━━━━━━━━━━━━━━━━━━━━━┳━━━━━━━━━━━━━━━━━━━━━━━━━━━┓\n",
       "┃<span style=\"font-weight: bold\">        Test metric        </span>┃<span style=\"font-weight: bold\">       DataLoader 0        </span>┃\n",
       "┡━━━━━━━━━━━━━━━━━━━━━━━━━━━╇━━━━━━━━━━━━━━━━━━━━━━━━━━━┩\n",
       "│<span style=\"color: #008080; text-decoration-color: #008080\">         test_loss         </span>│<span style=\"color: #800080; text-decoration-color: #800080\">     0.799261212348938     </span>│\n",
       "└───────────────────────────┴───────────────────────────┘\n",
       "</pre>\n"
      ],
      "text/plain": [
       "┏━━━━━━━━━━━━━━━━━━━━━━━━━━━┳━━━━━━━━━━━━━━━━━━━━━━━━━━━┓\n",
       "┃\u001b[1m \u001b[0m\u001b[1m       Test metric       \u001b[0m\u001b[1m \u001b[0m┃\u001b[1m \u001b[0m\u001b[1m      DataLoader 0       \u001b[0m\u001b[1m \u001b[0m┃\n",
       "┡━━━━━━━━━━━━━━━━━━━━━━━━━━━╇━━━━━━━━━━━━━━━━━━━━━━━━━━━┩\n",
       "│\u001b[36m \u001b[0m\u001b[36m        test_loss        \u001b[0m\u001b[36m \u001b[0m│\u001b[35m \u001b[0m\u001b[35m    0.799261212348938    \u001b[0m\u001b[35m \u001b[0m│\n",
       "└───────────────────────────┴───────────────────────────┘\n"
      ]
     },
     "metadata": {},
     "output_type": "display_data"
    },
    {
     "name": "stderr",
     "output_type": "stream",
     "text": [
      "GPU available: False, used: False\n",
      "TPU available: False, using: 0 TPU cores\n",
      "IPU available: False, using: 0 IPUs\n",
      "HPU available: False, using: 0 HPUs\n"
     ]
    },
    {
     "name": "stdout",
     "output_type": "stream",
     "text": [
      "[{'a_include_BN': True, 'a_include_bias': True, 'a_activation_type': ELU(alpha=1.0), 'a_dropout_range': 0, 'a_pool_type': MaxPool2d(kernel_size=2, stride=2, padding=0, dilation=1, ceil_mode=False), 'b_include_BN': False, 'b_include_bias': True, 'b_activation_type': ReLU(), 'b_dropout_range': 0.1, 'c_include_BN': True, 'c_include_bias': True, 'c_activation_type': SELU(), 'c_dropout_range': 0.2, 'd_include_BN': False, 'd_include_bias': False, 'd_activation_type': ReLU(), 'd_dropout_range': 0.1, 'b_pool_type': AvgPool2d(kernel_size=1, stride=1, padding=0), 'learning_rate': 0.1}, MyModel(\n",
      "  (cnn1): Conv2d(1, 16, kernel_size=(5, 5), stride=(1, 1))\n",
      "  (batch_norm_a): BatchNorm2d(16, eps=1e-05, momentum=0.1, affine=True, track_running_stats=True)\n",
      "  (funcion_activacion_a): ELU(alpha=1.0)\n",
      "  (dropout_a): Dropout(p=0, inplace=False)\n",
      "  (pool1): MaxPool2d(kernel_size=2, stride=2, padding=0, dilation=1, ceil_mode=False)\n",
      "  (cnn2): Conv2d(16, 16, kernel_size=(5, 5), stride=(1, 1))\n",
      "  (batch_norm_b): BatchNorm2d(16, eps=1e-05, momentum=0.1, affine=True, track_running_stats=True)\n",
      "  (funcion_activacion_b): ReLU()\n",
      "  (dropout_b): Dropout(p=0.1, inplace=False)\n",
      "  (cnn3): Conv2d(16, 32, kernel_size=(3, 3), stride=(1, 1))\n",
      "  (batch_norm_c): BatchNorm2d(32, eps=1e-05, momentum=0.1, affine=True, track_running_stats=True)\n",
      "  (funcion_activacion_c): SELU()\n",
      "  (dropout_c): Dropout(p=0.2, inplace=False)\n",
      "  (cnn4): Conv2d(32, 32, kernel_size=(3, 3), stride=(1, 1), bias=False)\n",
      "  (batch_norm_d): BatchNorm2d(32, eps=1e-05, momentum=0.1, affine=True, track_running_stats=True)\n",
      "  (funcion_activacion_d): ReLU()\n",
      "  (dropout_d): Dropout(p=0.1, inplace=False)\n",
      "  (pool2): AvgPool2d(kernel_size=1, stride=1, padding=0)\n",
      "  (fc1): Linear(in_features=512, out_features=10, bias=True)\n",
      "), 0.7746359705924988]\n",
      "{'test_loss': 0.799261212348938} 0.7746359705924988\n",
      "12.208654873684791\n"
     ]
    },
    {
     "name": "stderr",
     "output_type": "stream",
     "text": [
      "\n",
      "   | Name                 | Type        | Params\n",
      "------------------------------------------------------\n",
      "0  | cnn1                 | Conv2d      | 416   \n",
      "1  | batch_norm_a         | BatchNorm2d | 32    \n",
      "2  | funcion_activacion_a | ELU         | 0     \n",
      "3  | dropout_a            | Dropout     | 0     \n",
      "4  | pool1                | MaxPool2d   | 0     \n",
      "5  | cnn2                 | Conv2d      | 6.4 K \n",
      "6  | batch_norm_b         | BatchNorm2d | 32    \n",
      "7  | funcion_activacion_b | ReLU        | 0     \n",
      "8  | dropout_b            | Dropout     | 0     \n",
      "9  | cnn3                 | Conv2d      | 4.6 K \n",
      "10 | batch_norm_c         | BatchNorm2d | 64    \n",
      "11 | funcion_activacion_c | SELU        | 0     \n",
      "12 | dropout_c            | Dropout     | 0     \n",
      "13 | cnn4                 | Conv2d      | 9.2 K \n",
      "14 | batch_norm_d         | BatchNorm2d | 64    \n",
      "15 | funcion_activacion_d | ReLU        | 0     \n",
      "16 | dropout_d            | Dropout     | 0     \n",
      "17 | pool2                | AvgPool2d   | 0     \n",
      "18 | fc1                  | Linear      | 5.1 K \n",
      "------------------------------------------------------\n",
      "26.0 K    Trainable params\n",
      "0         Non-trainable params\n",
      "26.0 K    Total params\n",
      "0.104     Total estimated model params size (MB)\n"
     ]
    },
    {
     "data": {
      "application/vnd.jupyter.widget-view+json": {
       "model_id": "acedca6ac8d64f339d7952473392e7e4",
       "version_major": 2,
       "version_minor": 0
      },
      "text/plain": [
       "Sanity Checking: 0it [00:00, ?it/s]"
      ]
     },
     "metadata": {},
     "output_type": "display_data"
    },
    {
     "data": {
      "application/vnd.jupyter.widget-view+json": {
       "model_id": "48723cdc40e34663a47a18ba2c6491fc",
       "version_major": 2,
       "version_minor": 0
      },
      "text/plain": [
       "Training: 0it [00:00, ?it/s]"
      ]
     },
     "metadata": {},
     "output_type": "display_data"
    },
    {
     "data": {
      "application/vnd.jupyter.widget-view+json": {
       "model_id": "bee55314c10643fe898202befd0c8e61",
       "version_major": 2,
       "version_minor": 0
      },
      "text/plain": [
       "Validation: 0it [00:00, ?it/s]"
      ]
     },
     "metadata": {},
     "output_type": "display_data"
    },
    {
     "data": {
      "application/vnd.jupyter.widget-view+json": {
       "model_id": "0c8637c07ba34e6bb739051a91017971",
       "version_major": 2,
       "version_minor": 0
      },
      "text/plain": [
       "Validation: 0it [00:00, ?it/s]"
      ]
     },
     "metadata": {},
     "output_type": "display_data"
    },
    {
     "data": {
      "application/vnd.jupyter.widget-view+json": {
       "model_id": "7a396e8bee144618be3fa125e11d3aee",
       "version_major": 2,
       "version_minor": 0
      },
      "text/plain": [
       "Validation: 0it [00:00, ?it/s]"
      ]
     },
     "metadata": {},
     "output_type": "display_data"
    },
    {
     "data": {
      "application/vnd.jupyter.widget-view+json": {
       "model_id": "93daebfd4bca4ee580ffb6f2e07fc647",
       "version_major": 2,
       "version_minor": 0
      },
      "text/plain": [
       "Validation: 0it [00:00, ?it/s]"
      ]
     },
     "metadata": {},
     "output_type": "display_data"
    },
    {
     "data": {
      "application/vnd.jupyter.widget-view+json": {
       "model_id": "0802d7f8057d465dbeeb8878b1dd1746",
       "version_major": 2,
       "version_minor": 0
      },
      "text/plain": [
       "Validation: 0it [00:00, ?it/s]"
      ]
     },
     "metadata": {},
     "output_type": "display_data"
    },
    {
     "name": "stderr",
     "output_type": "stream",
     "text": [
      "`Trainer.fit` stopped: `max_epochs=5` reached.\n",
      "Restoring states from the checkpoint path at c:\\Users\\w10\\Desktop\\BMA\\UPV\\tia\\algoritmos_geneticos\\notebooks\\lightning_logs\\version_672\\checkpoints\\epoch=4-step=150.ckpt\n",
      "Loaded model weights from the checkpoint at c:\\Users\\w10\\Desktop\\BMA\\UPV\\tia\\algoritmos_geneticos\\notebooks\\lightning_logs\\version_672\\checkpoints\\epoch=4-step=150.ckpt\n"
     ]
    },
    {
     "data": {
      "application/vnd.jupyter.widget-view+json": {
       "model_id": "083b73bc9ab545f3a812d4c19d2bcc39",
       "version_major": 2,
       "version_minor": 0
      },
      "text/plain": [
       "Testing: 0it [00:00, ?it/s]"
      ]
     },
     "metadata": {},
     "output_type": "display_data"
    },
    {
     "data": {
      "text/html": [
       "<pre style=\"white-space:pre;overflow-x:auto;line-height:normal;font-family:Menlo,'DejaVu Sans Mono',consolas,'Courier New',monospace\">┏━━━━━━━━━━━━━━━━━━━━━━━━━━━┳━━━━━━━━━━━━━━━━━━━━━━━━━━━┓\n",
       "┃<span style=\"font-weight: bold\">        Test metric        </span>┃<span style=\"font-weight: bold\">       DataLoader 0        </span>┃\n",
       "┡━━━━━━━━━━━━━━━━━━━━━━━━━━━╇━━━━━━━━━━━━━━━━━━━━━━━━━━━┩\n",
       "│<span style=\"color: #008080; text-decoration-color: #008080\">         test_loss         </span>│<span style=\"color: #800080; text-decoration-color: #800080\">    1.0346394777297974     </span>│\n",
       "└───────────────────────────┴───────────────────────────┘\n",
       "</pre>\n"
      ],
      "text/plain": [
       "┏━━━━━━━━━━━━━━━━━━━━━━━━━━━┳━━━━━━━━━━━━━━━━━━━━━━━━━━━┓\n",
       "┃\u001b[1m \u001b[0m\u001b[1m       Test metric       \u001b[0m\u001b[1m \u001b[0m┃\u001b[1m \u001b[0m\u001b[1m      DataLoader 0       \u001b[0m\u001b[1m \u001b[0m┃\n",
       "┡━━━━━━━━━━━━━━━━━━━━━━━━━━━╇━━━━━━━━━━━━━━━━━━━━━━━━━━━┩\n",
       "│\u001b[36m \u001b[0m\u001b[36m        test_loss        \u001b[0m\u001b[36m \u001b[0m│\u001b[35m \u001b[0m\u001b[35m   1.0346394777297974    \u001b[0m\u001b[35m \u001b[0m│\n",
       "└───────────────────────────┴───────────────────────────┘\n"
      ]
     },
     "metadata": {},
     "output_type": "display_data"
    },
    {
     "name": "stderr",
     "output_type": "stream",
     "text": [
      "GPU available: False, used: False\n",
      "TPU available: False, using: 0 TPU cores\n",
      "IPU available: False, using: 0 IPUs\n",
      "HPU available: False, using: 0 HPUs\n"
     ]
    },
    {
     "name": "stdout",
     "output_type": "stream",
     "text": [
      "[{'a_include_BN': True, 'a_include_bias': True, 'a_activation_type': ELU(alpha=1.0), 'a_dropout_range': 0, 'a_pool_type': MaxPool2d(kernel_size=2, stride=2, padding=0, dilation=1, ceil_mode=False), 'b_include_BN': False, 'b_include_bias': True, 'b_activation_type': ReLU(), 'b_dropout_range': 0.1, 'c_include_BN': True, 'c_include_bias': True, 'c_activation_type': SELU(), 'c_dropout_range': 0.2, 'd_include_BN': False, 'd_include_bias': False, 'd_activation_type': ReLU(), 'd_dropout_range': 0.1, 'b_pool_type': AvgPool2d(kernel_size=1, stride=1, padding=0), 'learning_rate': 0.1}, MyModel(\n",
      "  (cnn1): Conv2d(1, 16, kernel_size=(5, 5), stride=(1, 1))\n",
      "  (batch_norm_a): BatchNorm2d(16, eps=1e-05, momentum=0.1, affine=True, track_running_stats=True)\n",
      "  (funcion_activacion_a): ELU(alpha=1.0)\n",
      "  (dropout_a): Dropout(p=0, inplace=False)\n",
      "  (pool1): MaxPool2d(kernel_size=2, stride=2, padding=0, dilation=1, ceil_mode=False)\n",
      "  (cnn2): Conv2d(16, 16, kernel_size=(5, 5), stride=(1, 1))\n",
      "  (batch_norm_b): BatchNorm2d(16, eps=1e-05, momentum=0.1, affine=True, track_running_stats=True)\n",
      "  (funcion_activacion_b): ReLU()\n",
      "  (dropout_b): Dropout(p=0.1, inplace=False)\n",
      "  (cnn3): Conv2d(16, 32, kernel_size=(3, 3), stride=(1, 1))\n",
      "  (batch_norm_c): BatchNorm2d(32, eps=1e-05, momentum=0.1, affine=True, track_running_stats=True)\n",
      "  (funcion_activacion_c): SELU()\n",
      "  (dropout_c): Dropout(p=0.2, inplace=False)\n",
      "  (cnn4): Conv2d(32, 32, kernel_size=(3, 3), stride=(1, 1), bias=False)\n",
      "  (batch_norm_d): BatchNorm2d(32, eps=1e-05, momentum=0.1, affine=True, track_running_stats=True)\n",
      "  (funcion_activacion_d): ReLU()\n",
      "  (dropout_d): Dropout(p=0.1, inplace=False)\n",
      "  (pool2): AvgPool2d(kernel_size=1, stride=1, padding=0)\n",
      "  (fc1): Linear(in_features=512, out_features=10, bias=True)\n",
      "), 0.7746359705924988]\n",
      "{'test_loss': 1.0346394777297974} 0.7746359705924988\n",
      "11.59822213000055\n"
     ]
    },
    {
     "name": "stderr",
     "output_type": "stream",
     "text": [
      "\n",
      "   | Name                 | Type        | Params\n",
      "------------------------------------------------------\n",
      "0  | cnn1                 | Conv2d      | 416   \n",
      "1  | batch_norm_a         | BatchNorm2d | 32    \n",
      "2  | funcion_activacion_a | ELU         | 0     \n",
      "3  | dropout_a            | Dropout     | 0     \n",
      "4  | pool1                | MaxPool2d   | 0     \n",
      "5  | cnn2                 | Conv2d      | 6.4 K \n",
      "6  | batch_norm_b         | BatchNorm2d | 32    \n",
      "7  | funcion_activacion_b | ReLU        | 0     \n",
      "8  | dropout_b            | Dropout     | 0     \n",
      "9  | cnn3                 | Conv2d      | 4.6 K \n",
      "10 | batch_norm_c         | BatchNorm2d | 64    \n",
      "11 | funcion_activacion_c | SELU        | 0     \n",
      "12 | dropout_c            | Dropout     | 0     \n",
      "13 | cnn4                 | Conv2d      | 9.2 K \n",
      "14 | batch_norm_d         | BatchNorm2d | 64    \n",
      "15 | funcion_activacion_d | ReLU        | 0     \n",
      "16 | dropout_d            | Dropout     | 0     \n",
      "17 | pool2                | AvgPool2d   | 0     \n",
      "18 | fc1                  | Linear      | 5.1 K \n",
      "------------------------------------------------------\n",
      "26.0 K    Trainable params\n",
      "0         Non-trainable params\n",
      "26.0 K    Total params\n",
      "0.104     Total estimated model params size (MB)\n"
     ]
    },
    {
     "data": {
      "application/vnd.jupyter.widget-view+json": {
       "model_id": "647808200b9f4680b584e104d3c84594",
       "version_major": 2,
       "version_minor": 0
      },
      "text/plain": [
       "Sanity Checking: 0it [00:00, ?it/s]"
      ]
     },
     "metadata": {},
     "output_type": "display_data"
    },
    {
     "data": {
      "application/vnd.jupyter.widget-view+json": {
       "model_id": "ef31082bda8242deb17899f58d8d0bc4",
       "version_major": 2,
       "version_minor": 0
      },
      "text/plain": [
       "Training: 0it [00:00, ?it/s]"
      ]
     },
     "metadata": {},
     "output_type": "display_data"
    },
    {
     "data": {
      "application/vnd.jupyter.widget-view+json": {
       "model_id": "fd91b5ef2f05489bb2cfce3ef4b81e6b",
       "version_major": 2,
       "version_minor": 0
      },
      "text/plain": [
       "Validation: 0it [00:00, ?it/s]"
      ]
     },
     "metadata": {},
     "output_type": "display_data"
    },
    {
     "data": {
      "application/vnd.jupyter.widget-view+json": {
       "model_id": "eb3fcf500d8a4e84bee2c4085b93e98a",
       "version_major": 2,
       "version_minor": 0
      },
      "text/plain": [
       "Validation: 0it [00:00, ?it/s]"
      ]
     },
     "metadata": {},
     "output_type": "display_data"
    },
    {
     "data": {
      "application/vnd.jupyter.widget-view+json": {
       "model_id": "f62f18f13e9c45cdbd1917d5ca9c3563",
       "version_major": 2,
       "version_minor": 0
      },
      "text/plain": [
       "Validation: 0it [00:00, ?it/s]"
      ]
     },
     "metadata": {},
     "output_type": "display_data"
    },
    {
     "data": {
      "application/vnd.jupyter.widget-view+json": {
       "model_id": "d36bdfdf13e340709a71eddb1f15e636",
       "version_major": 2,
       "version_minor": 0
      },
      "text/plain": [
       "Validation: 0it [00:00, ?it/s]"
      ]
     },
     "metadata": {},
     "output_type": "display_data"
    },
    {
     "data": {
      "application/vnd.jupyter.widget-view+json": {
       "model_id": "03dc2e7af90945a69d636c345184e36b",
       "version_major": 2,
       "version_minor": 0
      },
      "text/plain": [
       "Validation: 0it [00:00, ?it/s]"
      ]
     },
     "metadata": {},
     "output_type": "display_data"
    },
    {
     "name": "stderr",
     "output_type": "stream",
     "text": [
      "`Trainer.fit` stopped: `max_epochs=5` reached.\n",
      "Restoring states from the checkpoint path at c:\\Users\\w10\\Desktop\\BMA\\UPV\\tia\\algoritmos_geneticos\\notebooks\\lightning_logs\\version_673\\checkpoints\\epoch=4-step=150.ckpt\n",
      "Loaded model weights from the checkpoint at c:\\Users\\w10\\Desktop\\BMA\\UPV\\tia\\algoritmos_geneticos\\notebooks\\lightning_logs\\version_673\\checkpoints\\epoch=4-step=150.ckpt\n"
     ]
    },
    {
     "data": {
      "application/vnd.jupyter.widget-view+json": {
       "model_id": "5d2808a5a42341f6a53353fb9e3b8d36",
       "version_major": 2,
       "version_minor": 0
      },
      "text/plain": [
       "Testing: 0it [00:00, ?it/s]"
      ]
     },
     "metadata": {},
     "output_type": "display_data"
    },
    {
     "data": {
      "text/html": [
       "<pre style=\"white-space:pre;overflow-x:auto;line-height:normal;font-family:Menlo,'DejaVu Sans Mono',consolas,'Courier New',monospace\">┏━━━━━━━━━━━━━━━━━━━━━━━━━━━┳━━━━━━━━━━━━━━━━━━━━━━━━━━━┓\n",
       "┃<span style=\"font-weight: bold\">        Test metric        </span>┃<span style=\"font-weight: bold\">       DataLoader 0        </span>┃\n",
       "┡━━━━━━━━━━━━━━━━━━━━━━━━━━━╇━━━━━━━━━━━━━━━━━━━━━━━━━━━┩\n",
       "│<span style=\"color: #008080; text-decoration-color: #008080\">         test_loss         </span>│<span style=\"color: #800080; text-decoration-color: #800080\">    0.8364054560661316     </span>│\n",
       "└───────────────────────────┴───────────────────────────┘\n",
       "</pre>\n"
      ],
      "text/plain": [
       "┏━━━━━━━━━━━━━━━━━━━━━━━━━━━┳━━━━━━━━━━━━━━━━━━━━━━━━━━━┓\n",
       "┃\u001b[1m \u001b[0m\u001b[1m       Test metric       \u001b[0m\u001b[1m \u001b[0m┃\u001b[1m \u001b[0m\u001b[1m      DataLoader 0       \u001b[0m\u001b[1m \u001b[0m┃\n",
       "┡━━━━━━━━━━━━━━━━━━━━━━━━━━━╇━━━━━━━━━━━━━━━━━━━━━━━━━━━┩\n",
       "│\u001b[36m \u001b[0m\u001b[36m        test_loss        \u001b[0m\u001b[36m \u001b[0m│\u001b[35m \u001b[0m\u001b[35m   0.8364054560661316    \u001b[0m\u001b[35m \u001b[0m│\n",
       "└───────────────────────────┴───────────────────────────┘\n"
      ]
     },
     "metadata": {},
     "output_type": "display_data"
    },
    {
     "name": "stderr",
     "output_type": "stream",
     "text": [
      "GPU available: False, used: False\n",
      "TPU available: False, using: 0 TPU cores\n",
      "IPU available: False, using: 0 IPUs\n",
      "HPU available: False, using: 0 HPUs\n"
     ]
    },
    {
     "name": "stdout",
     "output_type": "stream",
     "text": [
      "[{'a_include_BN': True, 'a_include_bias': True, 'a_activation_type': ELU(alpha=1.0), 'a_dropout_range': 0, 'a_pool_type': MaxPool2d(kernel_size=2, stride=2, padding=0, dilation=1, ceil_mode=False), 'b_include_BN': False, 'b_include_bias': True, 'b_activation_type': ReLU(), 'b_dropout_range': 0.1, 'c_include_BN': True, 'c_include_bias': True, 'c_activation_type': SELU(), 'c_dropout_range': 0.2, 'd_include_BN': False, 'd_include_bias': False, 'd_activation_type': ReLU(), 'd_dropout_range': 0.1, 'b_pool_type': AvgPool2d(kernel_size=1, stride=1, padding=0), 'learning_rate': 0.1}, MyModel(\n",
      "  (cnn1): Conv2d(1, 16, kernel_size=(5, 5), stride=(1, 1))\n",
      "  (batch_norm_a): BatchNorm2d(16, eps=1e-05, momentum=0.1, affine=True, track_running_stats=True)\n",
      "  (funcion_activacion_a): ELU(alpha=1.0)\n",
      "  (dropout_a): Dropout(p=0, inplace=False)\n",
      "  (pool1): MaxPool2d(kernel_size=2, stride=2, padding=0, dilation=1, ceil_mode=False)\n",
      "  (cnn2): Conv2d(16, 16, kernel_size=(5, 5), stride=(1, 1))\n",
      "  (batch_norm_b): BatchNorm2d(16, eps=1e-05, momentum=0.1, affine=True, track_running_stats=True)\n",
      "  (funcion_activacion_b): ReLU()\n",
      "  (dropout_b): Dropout(p=0.1, inplace=False)\n",
      "  (cnn3): Conv2d(16, 32, kernel_size=(3, 3), stride=(1, 1))\n",
      "  (batch_norm_c): BatchNorm2d(32, eps=1e-05, momentum=0.1, affine=True, track_running_stats=True)\n",
      "  (funcion_activacion_c): SELU()\n",
      "  (dropout_c): Dropout(p=0.2, inplace=False)\n",
      "  (cnn4): Conv2d(32, 32, kernel_size=(3, 3), stride=(1, 1), bias=False)\n",
      "  (batch_norm_d): BatchNorm2d(32, eps=1e-05, momentum=0.1, affine=True, track_running_stats=True)\n",
      "  (funcion_activacion_d): ReLU()\n",
      "  (dropout_d): Dropout(p=0.1, inplace=False)\n",
      "  (pool2): AvgPool2d(kernel_size=1, stride=1, padding=0)\n",
      "  (fc1): Linear(in_features=512, out_features=10, bias=True)\n",
      "), 0.7746359705924988]\n",
      "{'test_loss': 0.8364054560661316} 0.7746359705924988\n",
      "11.018311023500523\n"
     ]
    },
    {
     "name": "stderr",
     "output_type": "stream",
     "text": [
      "\n",
      "   | Name                 | Type        | Params\n",
      "------------------------------------------------------\n",
      "0  | cnn1                 | Conv2d      | 416   \n",
      "1  | batch_norm_a         | BatchNorm2d | 32    \n",
      "2  | funcion_activacion_a | ELU         | 0     \n",
      "3  | dropout_a            | Dropout     | 0     \n",
      "4  | pool1                | MaxPool2d   | 0     \n",
      "5  | cnn2                 | Conv2d      | 6.4 K \n",
      "6  | batch_norm_b         | BatchNorm2d | 32    \n",
      "7  | funcion_activacion_b | ReLU        | 0     \n",
      "8  | dropout_b            | Dropout     | 0     \n",
      "9  | cnn3                 | Conv2d      | 4.6 K \n",
      "10 | batch_norm_c         | BatchNorm2d | 64    \n",
      "11 | funcion_activacion_c | SELU        | 0     \n",
      "12 | dropout_c            | Dropout     | 0     \n",
      "13 | cnn4                 | Conv2d      | 9.2 K \n",
      "14 | batch_norm_d         | BatchNorm2d | 64    \n",
      "15 | funcion_activacion_d | ReLU        | 0     \n",
      "16 | dropout_d            | Dropout     | 0     \n",
      "17 | pool2                | AvgPool2d   | 0     \n",
      "18 | fc1                  | Linear      | 5.1 K \n",
      "------------------------------------------------------\n",
      "26.0 K    Trainable params\n",
      "0         Non-trainable params\n",
      "26.0 K    Total params\n",
      "0.104     Total estimated model params size (MB)\n"
     ]
    },
    {
     "data": {
      "application/vnd.jupyter.widget-view+json": {
       "model_id": "766b1228111a4186a088e049bdbd902d",
       "version_major": 2,
       "version_minor": 0
      },
      "text/plain": [
       "Sanity Checking: 0it [00:00, ?it/s]"
      ]
     },
     "metadata": {},
     "output_type": "display_data"
    },
    {
     "data": {
      "application/vnd.jupyter.widget-view+json": {
       "model_id": "4da0f7a341b64f5bb2411ae503fff0e9",
       "version_major": 2,
       "version_minor": 0
      },
      "text/plain": [
       "Training: 0it [00:00, ?it/s]"
      ]
     },
     "metadata": {},
     "output_type": "display_data"
    },
    {
     "data": {
      "application/vnd.jupyter.widget-view+json": {
       "model_id": "5826961f17a04bdea9c59af893ee87e0",
       "version_major": 2,
       "version_minor": 0
      },
      "text/plain": [
       "Validation: 0it [00:00, ?it/s]"
      ]
     },
     "metadata": {},
     "output_type": "display_data"
    },
    {
     "data": {
      "application/vnd.jupyter.widget-view+json": {
       "model_id": "947bedb9a2ad4280ba39a99209e4e525",
       "version_major": 2,
       "version_minor": 0
      },
      "text/plain": [
       "Validation: 0it [00:00, ?it/s]"
      ]
     },
     "metadata": {},
     "output_type": "display_data"
    },
    {
     "data": {
      "application/vnd.jupyter.widget-view+json": {
       "model_id": "3f113fa4458d444d881310b78e05697a",
       "version_major": 2,
       "version_minor": 0
      },
      "text/plain": [
       "Validation: 0it [00:00, ?it/s]"
      ]
     },
     "metadata": {},
     "output_type": "display_data"
    },
    {
     "data": {
      "application/vnd.jupyter.widget-view+json": {
       "model_id": "19bcac329e594cfcaba64f417962f10b",
       "version_major": 2,
       "version_minor": 0
      },
      "text/plain": [
       "Validation: 0it [00:00, ?it/s]"
      ]
     },
     "metadata": {},
     "output_type": "display_data"
    },
    {
     "data": {
      "application/vnd.jupyter.widget-view+json": {
       "model_id": "33b994773e224592af38e288ef19af02",
       "version_major": 2,
       "version_minor": 0
      },
      "text/plain": [
       "Validation: 0it [00:00, ?it/s]"
      ]
     },
     "metadata": {},
     "output_type": "display_data"
    },
    {
     "name": "stderr",
     "output_type": "stream",
     "text": [
      "`Trainer.fit` stopped: `max_epochs=5` reached.\n",
      "Restoring states from the checkpoint path at c:\\Users\\w10\\Desktop\\BMA\\UPV\\tia\\algoritmos_geneticos\\notebooks\\lightning_logs\\version_674\\checkpoints\\epoch=4-step=150.ckpt\n",
      "Loaded model weights from the checkpoint at c:\\Users\\w10\\Desktop\\BMA\\UPV\\tia\\algoritmos_geneticos\\notebooks\\lightning_logs\\version_674\\checkpoints\\epoch=4-step=150.ckpt\n"
     ]
    },
    {
     "data": {
      "application/vnd.jupyter.widget-view+json": {
       "model_id": "6e1b076a9770491c8b465ba4c403bc4f",
       "version_major": 2,
       "version_minor": 0
      },
      "text/plain": [
       "Testing: 0it [00:00, ?it/s]"
      ]
     },
     "metadata": {},
     "output_type": "display_data"
    },
    {
     "data": {
      "text/html": [
       "<pre style=\"white-space:pre;overflow-x:auto;line-height:normal;font-family:Menlo,'DejaVu Sans Mono',consolas,'Courier New',monospace\">┏━━━━━━━━━━━━━━━━━━━━━━━━━━━┳━━━━━━━━━━━━━━━━━━━━━━━━━━━┓\n",
       "┃<span style=\"font-weight: bold\">        Test metric        </span>┃<span style=\"font-weight: bold\">       DataLoader 0        </span>┃\n",
       "┡━━━━━━━━━━━━━━━━━━━━━━━━━━━╇━━━━━━━━━━━━━━━━━━━━━━━━━━━┩\n",
       "│<span style=\"color: #008080; text-decoration-color: #008080\">         test_loss         </span>│<span style=\"color: #800080; text-decoration-color: #800080\">    0.7612309455871582     </span>│\n",
       "└───────────────────────────┴───────────────────────────┘\n",
       "</pre>\n"
      ],
      "text/plain": [
       "┏━━━━━━━━━━━━━━━━━━━━━━━━━━━┳━━━━━━━━━━━━━━━━━━━━━━━━━━━┓\n",
       "┃\u001b[1m \u001b[0m\u001b[1m       Test metric       \u001b[0m\u001b[1m \u001b[0m┃\u001b[1m \u001b[0m\u001b[1m      DataLoader 0       \u001b[0m\u001b[1m \u001b[0m┃\n",
       "┡━━━━━━━━━━━━━━━━━━━━━━━━━━━╇━━━━━━━━━━━━━━━━━━━━━━━━━━━┩\n",
       "│\u001b[36m \u001b[0m\u001b[36m        test_loss        \u001b[0m\u001b[36m \u001b[0m│\u001b[35m \u001b[0m\u001b[35m   0.7612309455871582    \u001b[0m\u001b[35m \u001b[0m│\n",
       "└───────────────────────────┴───────────────────────────┘\n"
      ]
     },
     "metadata": {},
     "output_type": "display_data"
    },
    {
     "name": "stderr",
     "output_type": "stream",
     "text": [
      "GPU available: False, used: False\n",
      "TPU available: False, using: 0 TPU cores\n",
      "IPU available: False, using: 0 IPUs\n",
      "HPU available: False, using: 0 HPUs\n"
     ]
    },
    {
     "name": "stdout",
     "output_type": "stream",
     "text": [
      "[{'a_include_BN': True, 'a_include_bias': True, 'a_activation_type': ELU(alpha=1.0), 'a_dropout_range': 0, 'a_pool_type': MaxPool2d(kernel_size=2, stride=2, padding=0, dilation=1, ceil_mode=False), 'b_include_BN': False, 'b_include_bias': True, 'b_activation_type': ReLU(), 'b_dropout_range': 0.1, 'c_include_BN': True, 'c_include_bias': True, 'c_activation_type': SELU(), 'c_dropout_range': 0.2, 'd_include_BN': False, 'd_include_bias': False, 'd_activation_type': ReLU(), 'd_dropout_range': 0.1, 'b_pool_type': AvgPool2d(kernel_size=1, stride=1, padding=0), 'learning_rate': 0.1}, MyModel(\n",
      "  (cnn1): Conv2d(1, 16, kernel_size=(5, 5), stride=(1, 1))\n",
      "  (batch_norm_a): BatchNorm2d(16, eps=1e-05, momentum=0.1, affine=True, track_running_stats=True)\n",
      "  (funcion_activacion_a): ELU(alpha=1.0)\n",
      "  (dropout_a): Dropout(p=0, inplace=False)\n",
      "  (pool1): MaxPool2d(kernel_size=2, stride=2, padding=0, dilation=1, ceil_mode=False)\n",
      "  (cnn2): Conv2d(16, 16, kernel_size=(5, 5), stride=(1, 1))\n",
      "  (batch_norm_b): BatchNorm2d(16, eps=1e-05, momentum=0.1, affine=True, track_running_stats=True)\n",
      "  (funcion_activacion_b): ReLU()\n",
      "  (dropout_b): Dropout(p=0.1, inplace=False)\n",
      "  (cnn3): Conv2d(16, 32, kernel_size=(3, 3), stride=(1, 1))\n",
      "  (batch_norm_c): BatchNorm2d(32, eps=1e-05, momentum=0.1, affine=True, track_running_stats=True)\n",
      "  (funcion_activacion_c): SELU()\n",
      "  (dropout_c): Dropout(p=0.2, inplace=False)\n",
      "  (cnn4): Conv2d(32, 32, kernel_size=(3, 3), stride=(1, 1), bias=False)\n",
      "  (batch_norm_d): BatchNorm2d(32, eps=1e-05, momentum=0.1, affine=True, track_running_stats=True)\n",
      "  (funcion_activacion_d): ReLU()\n",
      "  (dropout_d): Dropout(p=0.1, inplace=False)\n",
      "  (pool2): AvgPool2d(kernel_size=1, stride=1, padding=0)\n",
      "  (fc1): Linear(in_features=512, out_features=10, bias=True)\n",
      "), 0.7746359705924988]\n",
      "{'test_loss': 0.7612309455871582} 0.7746359705924988\n",
      "10.467395472325496\n"
     ]
    },
    {
     "name": "stderr",
     "output_type": "stream",
     "text": [
      "\n",
      "   | Name                 | Type        | Params\n",
      "------------------------------------------------------\n",
      "0  | cnn1                 | Conv2d      | 416   \n",
      "1  | batch_norm_a         | BatchNorm2d | 32    \n",
      "2  | funcion_activacion_a | ELU         | 0     \n",
      "3  | dropout_a            | Dropout     | 0     \n",
      "4  | pool1                | MaxPool2d   | 0     \n",
      "5  | cnn2                 | Conv2d      | 6.4 K \n",
      "6  | batch_norm_b         | BatchNorm2d | 32    \n",
      "7  | funcion_activacion_b | ReLU        | 0     \n",
      "8  | dropout_b            | Dropout     | 0     \n",
      "9  | cnn3                 | Conv2d      | 4.6 K \n",
      "10 | batch_norm_c         | BatchNorm2d | 64    \n",
      "11 | funcion_activacion_c | SELU        | 0     \n",
      "12 | dropout_c            | Dropout     | 0     \n",
      "13 | cnn4                 | Conv2d      | 9.2 K \n",
      "14 | batch_norm_d         | BatchNorm2d | 64    \n",
      "15 | funcion_activacion_d | ReLU        | 0     \n",
      "16 | dropout_d            | Dropout     | 0     \n",
      "17 | pool2                | AvgPool2d   | 0     \n",
      "18 | fc1                  | Linear      | 5.1 K \n",
      "------------------------------------------------------\n",
      "26.0 K    Trainable params\n",
      "0         Non-trainable params\n",
      "26.0 K    Total params\n",
      "0.104     Total estimated model params size (MB)\n"
     ]
    },
    {
     "data": {
      "application/vnd.jupyter.widget-view+json": {
       "model_id": "9f153243169c4682b50473633d192239",
       "version_major": 2,
       "version_minor": 0
      },
      "text/plain": [
       "Sanity Checking: 0it [00:00, ?it/s]"
      ]
     },
     "metadata": {},
     "output_type": "display_data"
    },
    {
     "data": {
      "application/vnd.jupyter.widget-view+json": {
       "model_id": "9b97ef10bbc44e53acda2e7cf4e4ed94",
       "version_major": 2,
       "version_minor": 0
      },
      "text/plain": [
       "Training: 0it [00:00, ?it/s]"
      ]
     },
     "metadata": {},
     "output_type": "display_data"
    },
    {
     "data": {
      "application/vnd.jupyter.widget-view+json": {
       "model_id": "17703e6cc0104398af92fc22b4462db4",
       "version_major": 2,
       "version_minor": 0
      },
      "text/plain": [
       "Validation: 0it [00:00, ?it/s]"
      ]
     },
     "metadata": {},
     "output_type": "display_data"
    },
    {
     "data": {
      "application/vnd.jupyter.widget-view+json": {
       "model_id": "c3d67c506de84ca588b78632f59ea4e3",
       "version_major": 2,
       "version_minor": 0
      },
      "text/plain": [
       "Validation: 0it [00:00, ?it/s]"
      ]
     },
     "metadata": {},
     "output_type": "display_data"
    },
    {
     "data": {
      "application/vnd.jupyter.widget-view+json": {
       "model_id": "b0cf28ed109b43b2967d429513f4910a",
       "version_major": 2,
       "version_minor": 0
      },
      "text/plain": [
       "Validation: 0it [00:00, ?it/s]"
      ]
     },
     "metadata": {},
     "output_type": "display_data"
    },
    {
     "data": {
      "application/vnd.jupyter.widget-view+json": {
       "model_id": "813a0187ced740eab219676f5e9b1646",
       "version_major": 2,
       "version_minor": 0
      },
      "text/plain": [
       "Validation: 0it [00:00, ?it/s]"
      ]
     },
     "metadata": {},
     "output_type": "display_data"
    },
    {
     "data": {
      "application/vnd.jupyter.widget-view+json": {
       "model_id": "ca33657e476e4931a0713e718e896050",
       "version_major": 2,
       "version_minor": 0
      },
      "text/plain": [
       "Validation: 0it [00:00, ?it/s]"
      ]
     },
     "metadata": {},
     "output_type": "display_data"
    },
    {
     "name": "stderr",
     "output_type": "stream",
     "text": [
      "`Trainer.fit` stopped: `max_epochs=5` reached.\n",
      "Restoring states from the checkpoint path at c:\\Users\\w10\\Desktop\\BMA\\UPV\\tia\\algoritmos_geneticos\\notebooks\\lightning_logs\\version_675\\checkpoints\\epoch=4-step=150.ckpt\n",
      "Loaded model weights from the checkpoint at c:\\Users\\w10\\Desktop\\BMA\\UPV\\tia\\algoritmos_geneticos\\notebooks\\lightning_logs\\version_675\\checkpoints\\epoch=4-step=150.ckpt\n"
     ]
    },
    {
     "data": {
      "application/vnd.jupyter.widget-view+json": {
       "model_id": "d91428048d1f451eb835884aa5e54783",
       "version_major": 2,
       "version_minor": 0
      },
      "text/plain": [
       "Testing: 0it [00:00, ?it/s]"
      ]
     },
     "metadata": {},
     "output_type": "display_data"
    },
    {
     "data": {
      "text/html": [
       "<pre style=\"white-space:pre;overflow-x:auto;line-height:normal;font-family:Menlo,'DejaVu Sans Mono',consolas,'Courier New',monospace\">┏━━━━━━━━━━━━━━━━━━━━━━━━━━━┳━━━━━━━━━━━━━━━━━━━━━━━━━━━┓\n",
       "┃<span style=\"font-weight: bold\">        Test metric        </span>┃<span style=\"font-weight: bold\">       DataLoader 0        </span>┃\n",
       "┡━━━━━━━━━━━━━━━━━━━━━━━━━━━╇━━━━━━━━━━━━━━━━━━━━━━━━━━━┩\n",
       "│<span style=\"color: #008080; text-decoration-color: #008080\">         test_loss         </span>│<span style=\"color: #800080; text-decoration-color: #800080\">    0.8405643105506897     </span>│\n",
       "└───────────────────────────┴───────────────────────────┘\n",
       "</pre>\n"
      ],
      "text/plain": [
       "┏━━━━━━━━━━━━━━━━━━━━━━━━━━━┳━━━━━━━━━━━━━━━━━━━━━━━━━━━┓\n",
       "┃\u001b[1m \u001b[0m\u001b[1m       Test metric       \u001b[0m\u001b[1m \u001b[0m┃\u001b[1m \u001b[0m\u001b[1m      DataLoader 0       \u001b[0m\u001b[1m \u001b[0m┃\n",
       "┡━━━━━━━━━━━━━━━━━━━━━━━━━━━╇━━━━━━━━━━━━━━━━━━━━━━━━━━━┩\n",
       "│\u001b[36m \u001b[0m\u001b[36m        test_loss        \u001b[0m\u001b[36m \u001b[0m│\u001b[35m \u001b[0m\u001b[35m   0.8405643105506897    \u001b[0m\u001b[35m \u001b[0m│\n",
       "└───────────────────────────┴───────────────────────────┘\n"
      ]
     },
     "metadata": {},
     "output_type": "display_data"
    },
    {
     "name": "stderr",
     "output_type": "stream",
     "text": [
      "GPU available: False, used: False\n",
      "TPU available: False, using: 0 TPU cores\n",
      "IPU available: False, using: 0 IPUs\n",
      "HPU available: False, using: 0 HPUs\n"
     ]
    },
    {
     "name": "stdout",
     "output_type": "stream",
     "text": [
      "[{'a_include_BN': True, 'a_include_bias': True, 'a_activation_type': ELU(alpha=1.0), 'a_dropout_range': 0, 'a_pool_type': MaxPool2d(kernel_size=2, stride=2, padding=0, dilation=1, ceil_mode=False), 'b_include_BN': False, 'b_include_bias': True, 'b_activation_type': ReLU(), 'b_dropout_range': 0.1, 'c_include_BN': True, 'c_include_bias': True, 'c_activation_type': SELU(), 'c_dropout_range': 0.2, 'd_include_BN': False, 'd_include_bias': False, 'd_activation_type': ReLU(), 'd_dropout_range': 0.1, 'b_pool_type': AvgPool2d(kernel_size=1, stride=1, padding=0), 'learning_rate': 0.1}, MyModel(\n",
      "  (cnn1): Conv2d(1, 16, kernel_size=(5, 5), stride=(1, 1))\n",
      "  (batch_norm_a): BatchNorm2d(16, eps=1e-05, momentum=0.1, affine=True, track_running_stats=True)\n",
      "  (funcion_activacion_a): ELU(alpha=1.0)\n",
      "  (dropout_a): Dropout(p=0, inplace=False)\n",
      "  (pool1): MaxPool2d(kernel_size=2, stride=2, padding=0, dilation=1, ceil_mode=False)\n",
      "  (cnn2): Conv2d(16, 16, kernel_size=(5, 5), stride=(1, 1))\n",
      "  (batch_norm_b): BatchNorm2d(16, eps=1e-05, momentum=0.1, affine=True, track_running_stats=True)\n",
      "  (funcion_activacion_b): ReLU()\n",
      "  (dropout_b): Dropout(p=0.1, inplace=False)\n",
      "  (cnn3): Conv2d(16, 32, kernel_size=(3, 3), stride=(1, 1))\n",
      "  (batch_norm_c): BatchNorm2d(32, eps=1e-05, momentum=0.1, affine=True, track_running_stats=True)\n",
      "  (funcion_activacion_c): SELU()\n",
      "  (dropout_c): Dropout(p=0.2, inplace=False)\n",
      "  (cnn4): Conv2d(32, 32, kernel_size=(3, 3), stride=(1, 1), bias=False)\n",
      "  (batch_norm_d): BatchNorm2d(32, eps=1e-05, momentum=0.1, affine=True, track_running_stats=True)\n",
      "  (funcion_activacion_d): ReLU()\n",
      "  (dropout_d): Dropout(p=0.1, inplace=False)\n",
      "  (pool2): AvgPool2d(kernel_size=1, stride=1, padding=0)\n",
      "  (fc1): Linear(in_features=512, out_features=10, bias=True)\n",
      "), 0.7612309455871582]\n",
      "{'test_loss': 0.8405643105506897} 0.7612309455871582\n",
      "9.94402569870922\n"
     ]
    },
    {
     "name": "stderr",
     "output_type": "stream",
     "text": [
      "\n",
      "   | Name                 | Type        | Params\n",
      "------------------------------------------------------\n",
      "0  | cnn1                 | Conv2d      | 416   \n",
      "1  | batch_norm_a         | BatchNorm2d | 32    \n",
      "2  | funcion_activacion_a | ELU         | 0     \n",
      "3  | dropout_a            | Dropout     | 0     \n",
      "4  | pool1                | MaxPool2d   | 0     \n",
      "5  | cnn2                 | Conv2d      | 6.4 K \n",
      "6  | batch_norm_b         | BatchNorm2d | 32    \n",
      "7  | funcion_activacion_b | ReLU        | 0     \n",
      "8  | dropout_b            | Dropout     | 0     \n",
      "9  | cnn3                 | Conv2d      | 4.6 K \n",
      "10 | batch_norm_c         | BatchNorm2d | 64    \n",
      "11 | funcion_activacion_c | SELU        | 0     \n",
      "12 | dropout_c            | Dropout     | 0     \n",
      "13 | cnn4                 | Conv2d      | 9.2 K \n",
      "14 | batch_norm_d         | BatchNorm2d | 64    \n",
      "15 | funcion_activacion_d | ReLU        | 0     \n",
      "16 | dropout_d            | Dropout     | 0     \n",
      "17 | pool2                | AvgPool2d   | 0     \n",
      "18 | fc1                  | Linear      | 5.1 K \n",
      "------------------------------------------------------\n",
      "26.0 K    Trainable params\n",
      "0         Non-trainable params\n",
      "26.0 K    Total params\n",
      "0.104     Total estimated model params size (MB)\n"
     ]
    },
    {
     "data": {
      "application/vnd.jupyter.widget-view+json": {
       "model_id": "4e2b378402db4ec88d042415ca4d547b",
       "version_major": 2,
       "version_minor": 0
      },
      "text/plain": [
       "Sanity Checking: 0it [00:00, ?it/s]"
      ]
     },
     "metadata": {},
     "output_type": "display_data"
    },
    {
     "data": {
      "application/vnd.jupyter.widget-view+json": {
       "model_id": "fa28d8ba84894526a28fe1e83e800241",
       "version_major": 2,
       "version_minor": 0
      },
      "text/plain": [
       "Training: 0it [00:00, ?it/s]"
      ]
     },
     "metadata": {},
     "output_type": "display_data"
    },
    {
     "data": {
      "application/vnd.jupyter.widget-view+json": {
       "model_id": "779c6f749ea84972ab35cd0f37b6769b",
       "version_major": 2,
       "version_minor": 0
      },
      "text/plain": [
       "Validation: 0it [00:00, ?it/s]"
      ]
     },
     "metadata": {},
     "output_type": "display_data"
    },
    {
     "data": {
      "application/vnd.jupyter.widget-view+json": {
       "model_id": "86ad5ac306bf4699a7f4683003be8907",
       "version_major": 2,
       "version_minor": 0
      },
      "text/plain": [
       "Validation: 0it [00:00, ?it/s]"
      ]
     },
     "metadata": {},
     "output_type": "display_data"
    },
    {
     "data": {
      "application/vnd.jupyter.widget-view+json": {
       "model_id": "9615643a4e1e46fdbb1dc297c4aae2cf",
       "version_major": 2,
       "version_minor": 0
      },
      "text/plain": [
       "Validation: 0it [00:00, ?it/s]"
      ]
     },
     "metadata": {},
     "output_type": "display_data"
    },
    {
     "data": {
      "application/vnd.jupyter.widget-view+json": {
       "model_id": "9f52178ca9d646078f9efc831881d394",
       "version_major": 2,
       "version_minor": 0
      },
      "text/plain": [
       "Validation: 0it [00:00, ?it/s]"
      ]
     },
     "metadata": {},
     "output_type": "display_data"
    },
    {
     "data": {
      "application/vnd.jupyter.widget-view+json": {
       "model_id": "b1dc4ec1e9de4e82a34e15cbf1b79a6b",
       "version_major": 2,
       "version_minor": 0
      },
      "text/plain": [
       "Validation: 0it [00:00, ?it/s]"
      ]
     },
     "metadata": {},
     "output_type": "display_data"
    },
    {
     "name": "stderr",
     "output_type": "stream",
     "text": [
      "`Trainer.fit` stopped: `max_epochs=5` reached.\n",
      "Restoring states from the checkpoint path at c:\\Users\\w10\\Desktop\\BMA\\UPV\\tia\\algoritmos_geneticos\\notebooks\\lightning_logs\\version_676\\checkpoints\\epoch=4-step=150.ckpt\n",
      "Loaded model weights from the checkpoint at c:\\Users\\w10\\Desktop\\BMA\\UPV\\tia\\algoritmos_geneticos\\notebooks\\lightning_logs\\version_676\\checkpoints\\epoch=4-step=150.ckpt\n"
     ]
    },
    {
     "data": {
      "application/vnd.jupyter.widget-view+json": {
       "model_id": "1cc7880599d24dbf927355a7ed7131ff",
       "version_major": 2,
       "version_minor": 0
      },
      "text/plain": [
       "Testing: 0it [00:00, ?it/s]"
      ]
     },
     "metadata": {},
     "output_type": "display_data"
    },
    {
     "data": {
      "text/html": [
       "<pre style=\"white-space:pre;overflow-x:auto;line-height:normal;font-family:Menlo,'DejaVu Sans Mono',consolas,'Courier New',monospace\">┏━━━━━━━━━━━━━━━━━━━━━━━━━━━┳━━━━━━━━━━━━━━━━━━━━━━━━━━━┓\n",
       "┃<span style=\"font-weight: bold\">        Test metric        </span>┃<span style=\"font-weight: bold\">       DataLoader 0        </span>┃\n",
       "┡━━━━━━━━━━━━━━━━━━━━━━━━━━━╇━━━━━━━━━━━━━━━━━━━━━━━━━━━┩\n",
       "│<span style=\"color: #008080; text-decoration-color: #008080\">         test_loss         </span>│<span style=\"color: #800080; text-decoration-color: #800080\">    0.8880472779273987     </span>│\n",
       "└───────────────────────────┴───────────────────────────┘\n",
       "</pre>\n"
      ],
      "text/plain": [
       "┏━━━━━━━━━━━━━━━━━━━━━━━━━━━┳━━━━━━━━━━━━━━━━━━━━━━━━━━━┓\n",
       "┃\u001b[1m \u001b[0m\u001b[1m       Test metric       \u001b[0m\u001b[1m \u001b[0m┃\u001b[1m \u001b[0m\u001b[1m      DataLoader 0       \u001b[0m\u001b[1m \u001b[0m┃\n",
       "┡━━━━━━━━━━━━━━━━━━━━━━━━━━━╇━━━━━━━━━━━━━━━━━━━━━━━━━━━┩\n",
       "│\u001b[36m \u001b[0m\u001b[36m        test_loss        \u001b[0m\u001b[36m \u001b[0m│\u001b[35m \u001b[0m\u001b[35m   0.8880472779273987    \u001b[0m\u001b[35m \u001b[0m│\n",
       "└───────────────────────────┴───────────────────────────┘\n"
      ]
     },
     "metadata": {},
     "output_type": "display_data"
    },
    {
     "name": "stderr",
     "output_type": "stream",
     "text": [
      "GPU available: False, used: False\n",
      "TPU available: False, using: 0 TPU cores\n",
      "IPU available: False, using: 0 IPUs\n",
      "HPU available: False, using: 0 HPUs\n"
     ]
    },
    {
     "name": "stdout",
     "output_type": "stream",
     "text": [
      "[{'a_include_BN': True, 'a_include_bias': True, 'a_activation_type': ELU(alpha=1.0), 'a_dropout_range': 0, 'a_pool_type': MaxPool2d(kernel_size=2, stride=2, padding=0, dilation=1, ceil_mode=False), 'b_include_BN': False, 'b_include_bias': True, 'b_activation_type': ReLU(), 'b_dropout_range': 0.1, 'c_include_BN': True, 'c_include_bias': True, 'c_activation_type': SELU(), 'c_dropout_range': 0.2, 'd_include_BN': False, 'd_include_bias': False, 'd_activation_type': ReLU(), 'd_dropout_range': 0.1, 'b_pool_type': AvgPool2d(kernel_size=1, stride=1, padding=0), 'learning_rate': 0.1}, MyModel(\n",
      "  (cnn1): Conv2d(1, 16, kernel_size=(5, 5), stride=(1, 1))\n",
      "  (batch_norm_a): BatchNorm2d(16, eps=1e-05, momentum=0.1, affine=True, track_running_stats=True)\n",
      "  (funcion_activacion_a): ELU(alpha=1.0)\n",
      "  (dropout_a): Dropout(p=0, inplace=False)\n",
      "  (pool1): MaxPool2d(kernel_size=2, stride=2, padding=0, dilation=1, ceil_mode=False)\n",
      "  (cnn2): Conv2d(16, 16, kernel_size=(5, 5), stride=(1, 1))\n",
      "  (batch_norm_b): BatchNorm2d(16, eps=1e-05, momentum=0.1, affine=True, track_running_stats=True)\n",
      "  (funcion_activacion_b): ReLU()\n",
      "  (dropout_b): Dropout(p=0.1, inplace=False)\n",
      "  (cnn3): Conv2d(16, 32, kernel_size=(3, 3), stride=(1, 1))\n",
      "  (batch_norm_c): BatchNorm2d(32, eps=1e-05, momentum=0.1, affine=True, track_running_stats=True)\n",
      "  (funcion_activacion_c): SELU()\n",
      "  (dropout_c): Dropout(p=0.2, inplace=False)\n",
      "  (cnn4): Conv2d(32, 32, kernel_size=(3, 3), stride=(1, 1), bias=False)\n",
      "  (batch_norm_d): BatchNorm2d(32, eps=1e-05, momentum=0.1, affine=True, track_running_stats=True)\n",
      "  (funcion_activacion_d): ReLU()\n",
      "  (dropout_d): Dropout(p=0.1, inplace=False)\n",
      "  (pool2): AvgPool2d(kernel_size=1, stride=1, padding=0)\n",
      "  (fc1): Linear(in_features=512, out_features=10, bias=True)\n",
      "), 0.7612309455871582]\n",
      "{'test_loss': 0.8880472779273987} 0.7612309455871582\n",
      "9.44682441377376\n"
     ]
    },
    {
     "name": "stderr",
     "output_type": "stream",
     "text": [
      "\n",
      "   | Name                 | Type        | Params\n",
      "------------------------------------------------------\n",
      "0  | cnn1                 | Conv2d      | 416   \n",
      "1  | batch_norm_a         | BatchNorm2d | 32    \n",
      "2  | funcion_activacion_a | ELU         | 0     \n",
      "3  | dropout_a            | Dropout     | 0     \n",
      "4  | pool1                | MaxPool2d   | 0     \n",
      "5  | cnn2                 | Conv2d      | 6.4 K \n",
      "6  | batch_norm_b         | BatchNorm2d | 32    \n",
      "7  | funcion_activacion_b | ReLU        | 0     \n",
      "8  | dropout_b            | Dropout     | 0     \n",
      "9  | cnn3                 | Conv2d      | 4.6 K \n",
      "10 | batch_norm_c         | BatchNorm2d | 64    \n",
      "11 | funcion_activacion_c | SELU        | 0     \n",
      "12 | dropout_c            | Dropout     | 0     \n",
      "13 | cnn4                 | Conv2d      | 9.2 K \n",
      "14 | batch_norm_d         | BatchNorm2d | 64    \n",
      "15 | funcion_activacion_d | ReLU        | 0     \n",
      "16 | dropout_d            | Dropout     | 0     \n",
      "17 | pool2                | AvgPool2d   | 0     \n",
      "18 | fc1                  | Linear      | 5.1 K \n",
      "------------------------------------------------------\n",
      "26.0 K    Trainable params\n",
      "0         Non-trainable params\n",
      "26.0 K    Total params\n",
      "0.104     Total estimated model params size (MB)\n"
     ]
    },
    {
     "data": {
      "application/vnd.jupyter.widget-view+json": {
       "model_id": "235be4cfdbb24b9aa7d200c89a1b644a",
       "version_major": 2,
       "version_minor": 0
      },
      "text/plain": [
       "Sanity Checking: 0it [00:00, ?it/s]"
      ]
     },
     "metadata": {},
     "output_type": "display_data"
    },
    {
     "data": {
      "application/vnd.jupyter.widget-view+json": {
       "model_id": "54b04ab422bd464396af7150fa63ff45",
       "version_major": 2,
       "version_minor": 0
      },
      "text/plain": [
       "Training: 0it [00:00, ?it/s]"
      ]
     },
     "metadata": {},
     "output_type": "display_data"
    },
    {
     "data": {
      "application/vnd.jupyter.widget-view+json": {
       "model_id": "715634e6973d4724a46bd1973e13be25",
       "version_major": 2,
       "version_minor": 0
      },
      "text/plain": [
       "Validation: 0it [00:00, ?it/s]"
      ]
     },
     "metadata": {},
     "output_type": "display_data"
    },
    {
     "data": {
      "application/vnd.jupyter.widget-view+json": {
       "model_id": "bb610a4bb85841c0abb153c659080900",
       "version_major": 2,
       "version_minor": 0
      },
      "text/plain": [
       "Validation: 0it [00:00, ?it/s]"
      ]
     },
     "metadata": {},
     "output_type": "display_data"
    },
    {
     "data": {
      "application/vnd.jupyter.widget-view+json": {
       "model_id": "1ed4856519a8461788a8a42e48268178",
       "version_major": 2,
       "version_minor": 0
      },
      "text/plain": [
       "Validation: 0it [00:00, ?it/s]"
      ]
     },
     "metadata": {},
     "output_type": "display_data"
    },
    {
     "data": {
      "application/vnd.jupyter.widget-view+json": {
       "model_id": "8fc0a63eae6941fb999d671c1778b63a",
       "version_major": 2,
       "version_minor": 0
      },
      "text/plain": [
       "Validation: 0it [00:00, ?it/s]"
      ]
     },
     "metadata": {},
     "output_type": "display_data"
    },
    {
     "data": {
      "application/vnd.jupyter.widget-view+json": {
       "model_id": "598cd547032145d280bd634d86b24c43",
       "version_major": 2,
       "version_minor": 0
      },
      "text/plain": [
       "Validation: 0it [00:00, ?it/s]"
      ]
     },
     "metadata": {},
     "output_type": "display_data"
    },
    {
     "name": "stderr",
     "output_type": "stream",
     "text": [
      "`Trainer.fit` stopped: `max_epochs=5` reached.\n",
      "Restoring states from the checkpoint path at c:\\Users\\w10\\Desktop\\BMA\\UPV\\tia\\algoritmos_geneticos\\notebooks\\lightning_logs\\version_677\\checkpoints\\epoch=4-step=150.ckpt\n",
      "Loaded model weights from the checkpoint at c:\\Users\\w10\\Desktop\\BMA\\UPV\\tia\\algoritmos_geneticos\\notebooks\\lightning_logs\\version_677\\checkpoints\\epoch=4-step=150.ckpt\n"
     ]
    },
    {
     "data": {
      "application/vnd.jupyter.widget-view+json": {
       "model_id": "6833eb75deef4935986aec3b79403876",
       "version_major": 2,
       "version_minor": 0
      },
      "text/plain": [
       "Testing: 0it [00:00, ?it/s]"
      ]
     },
     "metadata": {},
     "output_type": "display_data"
    },
    {
     "data": {
      "text/html": [
       "<pre style=\"white-space:pre;overflow-x:auto;line-height:normal;font-family:Menlo,'DejaVu Sans Mono',consolas,'Courier New',monospace\">┏━━━━━━━━━━━━━━━━━━━━━━━━━━━┳━━━━━━━━━━━━━━━━━━━━━━━━━━━┓\n",
       "┃<span style=\"font-weight: bold\">        Test metric        </span>┃<span style=\"font-weight: bold\">       DataLoader 0        </span>┃\n",
       "┡━━━━━━━━━━━━━━━━━━━━━━━━━━━╇━━━━━━━━━━━━━━━━━━━━━━━━━━━┩\n",
       "│<span style=\"color: #008080; text-decoration-color: #008080\">         test_loss         </span>│<span style=\"color: #800080; text-decoration-color: #800080\">    1.0763434171676636     </span>│\n",
       "└───────────────────────────┴───────────────────────────┘\n",
       "</pre>\n"
      ],
      "text/plain": [
       "┏━━━━━━━━━━━━━━━━━━━━━━━━━━━┳━━━━━━━━━━━━━━━━━━━━━━━━━━━┓\n",
       "┃\u001b[1m \u001b[0m\u001b[1m       Test metric       \u001b[0m\u001b[1m \u001b[0m┃\u001b[1m \u001b[0m\u001b[1m      DataLoader 0       \u001b[0m\u001b[1m \u001b[0m┃\n",
       "┡━━━━━━━━━━━━━━━━━━━━━━━━━━━╇━━━━━━━━━━━━━━━━━━━━━━━━━━━┩\n",
       "│\u001b[36m \u001b[0m\u001b[36m        test_loss        \u001b[0m\u001b[36m \u001b[0m│\u001b[35m \u001b[0m\u001b[35m   1.0763434171676636    \u001b[0m\u001b[35m \u001b[0m│\n",
       "└───────────────────────────┴───────────────────────────┘\n"
      ]
     },
     "metadata": {},
     "output_type": "display_data"
    },
    {
     "name": "stderr",
     "output_type": "stream",
     "text": [
      "GPU available: False, used: False\n",
      "TPU available: False, using: 0 TPU cores\n",
      "IPU available: False, using: 0 IPUs\n",
      "HPU available: False, using: 0 HPUs\n"
     ]
    },
    {
     "name": "stdout",
     "output_type": "stream",
     "text": [
      "[{'a_include_BN': True, 'a_include_bias': True, 'a_activation_type': ELU(alpha=1.0), 'a_dropout_range': 0, 'a_pool_type': MaxPool2d(kernel_size=2, stride=2, padding=0, dilation=1, ceil_mode=False), 'b_include_BN': False, 'b_include_bias': True, 'b_activation_type': ReLU(), 'b_dropout_range': 0.1, 'c_include_BN': True, 'c_include_bias': True, 'c_activation_type': SELU(), 'c_dropout_range': 0.2, 'd_include_BN': False, 'd_include_bias': False, 'd_activation_type': ReLU(), 'd_dropout_range': 0.1, 'b_pool_type': AvgPool2d(kernel_size=1, stride=1, padding=0), 'learning_rate': 0.1}, MyModel(\n",
      "  (cnn1): Conv2d(1, 16, kernel_size=(5, 5), stride=(1, 1))\n",
      "  (batch_norm_a): BatchNorm2d(16, eps=1e-05, momentum=0.1, affine=True, track_running_stats=True)\n",
      "  (funcion_activacion_a): ELU(alpha=1.0)\n",
      "  (dropout_a): Dropout(p=0, inplace=False)\n",
      "  (pool1): MaxPool2d(kernel_size=2, stride=2, padding=0, dilation=1, ceil_mode=False)\n",
      "  (cnn2): Conv2d(16, 16, kernel_size=(5, 5), stride=(1, 1))\n",
      "  (batch_norm_b): BatchNorm2d(16, eps=1e-05, momentum=0.1, affine=True, track_running_stats=True)\n",
      "  (funcion_activacion_b): ReLU()\n",
      "  (dropout_b): Dropout(p=0.1, inplace=False)\n",
      "  (cnn3): Conv2d(16, 32, kernel_size=(3, 3), stride=(1, 1))\n",
      "  (batch_norm_c): BatchNorm2d(32, eps=1e-05, momentum=0.1, affine=True, track_running_stats=True)\n",
      "  (funcion_activacion_c): SELU()\n",
      "  (dropout_c): Dropout(p=0.2, inplace=False)\n",
      "  (cnn4): Conv2d(32, 32, kernel_size=(3, 3), stride=(1, 1), bias=False)\n",
      "  (batch_norm_d): BatchNorm2d(32, eps=1e-05, momentum=0.1, affine=True, track_running_stats=True)\n",
      "  (funcion_activacion_d): ReLU()\n",
      "  (dropout_d): Dropout(p=0.1, inplace=False)\n",
      "  (pool2): AvgPool2d(kernel_size=1, stride=1, padding=0)\n",
      "  (fc1): Linear(in_features=512, out_features=10, bias=True)\n",
      "), 0.7612309455871582]\n",
      "{'test_loss': 1.0763434171676636} 0.7612309455871582\n",
      "8.97448319308507\n"
     ]
    },
    {
     "name": "stderr",
     "output_type": "stream",
     "text": [
      "\n",
      "   | Name                 | Type        | Params\n",
      "------------------------------------------------------\n",
      "0  | cnn1                 | Conv2d      | 416   \n",
      "1  | batch_norm_a         | BatchNorm2d | 32    \n",
      "2  | funcion_activacion_a | ELU         | 0     \n",
      "3  | dropout_a            | Dropout     | 0     \n",
      "4  | pool1                | MaxPool2d   | 0     \n",
      "5  | cnn2                 | Conv2d      | 6.4 K \n",
      "6  | batch_norm_b         | BatchNorm2d | 32    \n",
      "7  | funcion_activacion_b | ReLU        | 0     \n",
      "8  | dropout_b            | Dropout     | 0     \n",
      "9  | cnn3                 | Conv2d      | 4.6 K \n",
      "10 | batch_norm_c         | BatchNorm2d | 64    \n",
      "11 | funcion_activacion_c | SELU        | 0     \n",
      "12 | dropout_c            | Dropout     | 0     \n",
      "13 | cnn4                 | Conv2d      | 9.2 K \n",
      "14 | batch_norm_d         | BatchNorm2d | 64    \n",
      "15 | funcion_activacion_d | ReLU        | 0     \n",
      "16 | dropout_d            | Dropout     | 0     \n",
      "17 | pool2                | AvgPool2d   | 0     \n",
      "18 | fc1                  | Linear      | 5.1 K \n",
      "------------------------------------------------------\n",
      "26.0 K    Trainable params\n",
      "0         Non-trainable params\n",
      "26.0 K    Total params\n",
      "0.104     Total estimated model params size (MB)\n"
     ]
    },
    {
     "data": {
      "application/vnd.jupyter.widget-view+json": {
       "model_id": "5bff9a2965c3433babe72edb9c79fada",
       "version_major": 2,
       "version_minor": 0
      },
      "text/plain": [
       "Sanity Checking: 0it [00:00, ?it/s]"
      ]
     },
     "metadata": {},
     "output_type": "display_data"
    },
    {
     "data": {
      "application/vnd.jupyter.widget-view+json": {
       "model_id": "1130c68573ad4be290cff694b9a26bdd",
       "version_major": 2,
       "version_minor": 0
      },
      "text/plain": [
       "Training: 0it [00:00, ?it/s]"
      ]
     },
     "metadata": {},
     "output_type": "display_data"
    },
    {
     "data": {
      "application/vnd.jupyter.widget-view+json": {
       "model_id": "c322222b6e0e4e6694fb6db6189d3711",
       "version_major": 2,
       "version_minor": 0
      },
      "text/plain": [
       "Validation: 0it [00:00, ?it/s]"
      ]
     },
     "metadata": {},
     "output_type": "display_data"
    },
    {
     "data": {
      "application/vnd.jupyter.widget-view+json": {
       "model_id": "c03ec750dbc44339b9746179e6ca3e18",
       "version_major": 2,
       "version_minor": 0
      },
      "text/plain": [
       "Validation: 0it [00:00, ?it/s]"
      ]
     },
     "metadata": {},
     "output_type": "display_data"
    },
    {
     "data": {
      "application/vnd.jupyter.widget-view+json": {
       "model_id": "e7c82bb9641e4b5a8661ce260742c79f",
       "version_major": 2,
       "version_minor": 0
      },
      "text/plain": [
       "Validation: 0it [00:00, ?it/s]"
      ]
     },
     "metadata": {},
     "output_type": "display_data"
    },
    {
     "data": {
      "application/vnd.jupyter.widget-view+json": {
       "model_id": "406c5d2e10be4db8b8574d681d4feb8d",
       "version_major": 2,
       "version_minor": 0
      },
      "text/plain": [
       "Validation: 0it [00:00, ?it/s]"
      ]
     },
     "metadata": {},
     "output_type": "display_data"
    },
    {
     "data": {
      "application/vnd.jupyter.widget-view+json": {
       "model_id": "20ce84c5aac04efc9753accbf2a51235",
       "version_major": 2,
       "version_minor": 0
      },
      "text/plain": [
       "Validation: 0it [00:00, ?it/s]"
      ]
     },
     "metadata": {},
     "output_type": "display_data"
    },
    {
     "name": "stderr",
     "output_type": "stream",
     "text": [
      "`Trainer.fit` stopped: `max_epochs=5` reached.\n",
      "Restoring states from the checkpoint path at c:\\Users\\w10\\Desktop\\BMA\\UPV\\tia\\algoritmos_geneticos\\notebooks\\lightning_logs\\version_678\\checkpoints\\epoch=4-step=150.ckpt\n",
      "Loaded model weights from the checkpoint at c:\\Users\\w10\\Desktop\\BMA\\UPV\\tia\\algoritmos_geneticos\\notebooks\\lightning_logs\\version_678\\checkpoints\\epoch=4-step=150.ckpt\n"
     ]
    },
    {
     "data": {
      "application/vnd.jupyter.widget-view+json": {
       "model_id": "6dd73f7bec674fddbe7d3e1f67da2f6c",
       "version_major": 2,
       "version_minor": 0
      },
      "text/plain": [
       "Testing: 0it [00:00, ?it/s]"
      ]
     },
     "metadata": {},
     "output_type": "display_data"
    },
    {
     "data": {
      "text/html": [
       "<pre style=\"white-space:pre;overflow-x:auto;line-height:normal;font-family:Menlo,'DejaVu Sans Mono',consolas,'Courier New',monospace\">┏━━━━━━━━━━━━━━━━━━━━━━━━━━━┳━━━━━━━━━━━━━━━━━━━━━━━━━━━┓\n",
       "┃<span style=\"font-weight: bold\">        Test metric        </span>┃<span style=\"font-weight: bold\">       DataLoader 0        </span>┃\n",
       "┡━━━━━━━━━━━━━━━━━━━━━━━━━━━╇━━━━━━━━━━━━━━━━━━━━━━━━━━━┩\n",
       "│<span style=\"color: #008080; text-decoration-color: #008080\">         test_loss         </span>│<span style=\"color: #800080; text-decoration-color: #800080\">    1.1083898544311523     </span>│\n",
       "└───────────────────────────┴───────────────────────────┘\n",
       "</pre>\n"
      ],
      "text/plain": [
       "┏━━━━━━━━━━━━━━━━━━━━━━━━━━━┳━━━━━━━━━━━━━━━━━━━━━━━━━━━┓\n",
       "┃\u001b[1m \u001b[0m\u001b[1m       Test metric       \u001b[0m\u001b[1m \u001b[0m┃\u001b[1m \u001b[0m\u001b[1m      DataLoader 0       \u001b[0m\u001b[1m \u001b[0m┃\n",
       "┡━━━━━━━━━━━━━━━━━━━━━━━━━━━╇━━━━━━━━━━━━━━━━━━━━━━━━━━━┩\n",
       "│\u001b[36m \u001b[0m\u001b[36m        test_loss        \u001b[0m\u001b[36m \u001b[0m│\u001b[35m \u001b[0m\u001b[35m   1.1083898544311523    \u001b[0m\u001b[35m \u001b[0m│\n",
       "└───────────────────────────┴───────────────────────────┘\n"
      ]
     },
     "metadata": {},
     "output_type": "display_data"
    },
    {
     "name": "stderr",
     "output_type": "stream",
     "text": [
      "GPU available: False, used: False\n",
      "TPU available: False, using: 0 TPU cores\n",
      "IPU available: False, using: 0 IPUs\n",
      "HPU available: False, using: 0 HPUs\n"
     ]
    },
    {
     "name": "stdout",
     "output_type": "stream",
     "text": [
      "[{'a_include_BN': True, 'a_include_bias': True, 'a_activation_type': ELU(alpha=1.0), 'a_dropout_range': 0, 'a_pool_type': MaxPool2d(kernel_size=2, stride=2, padding=0, dilation=1, ceil_mode=False), 'b_include_BN': False, 'b_include_bias': True, 'b_activation_type': ReLU(), 'b_dropout_range': 0.1, 'c_include_BN': True, 'c_include_bias': True, 'c_activation_type': SELU(), 'c_dropout_range': 0.2, 'd_include_BN': False, 'd_include_bias': False, 'd_activation_type': ReLU(), 'd_dropout_range': 0.1, 'b_pool_type': AvgPool2d(kernel_size=1, stride=1, padding=0), 'learning_rate': 0.1}, MyModel(\n",
      "  (cnn1): Conv2d(1, 16, kernel_size=(5, 5), stride=(1, 1))\n",
      "  (batch_norm_a): BatchNorm2d(16, eps=1e-05, momentum=0.1, affine=True, track_running_stats=True)\n",
      "  (funcion_activacion_a): ELU(alpha=1.0)\n",
      "  (dropout_a): Dropout(p=0, inplace=False)\n",
      "  (pool1): MaxPool2d(kernel_size=2, stride=2, padding=0, dilation=1, ceil_mode=False)\n",
      "  (cnn2): Conv2d(16, 16, kernel_size=(5, 5), stride=(1, 1))\n",
      "  (batch_norm_b): BatchNorm2d(16, eps=1e-05, momentum=0.1, affine=True, track_running_stats=True)\n",
      "  (funcion_activacion_b): ReLU()\n",
      "  (dropout_b): Dropout(p=0.1, inplace=False)\n",
      "  (cnn3): Conv2d(16, 32, kernel_size=(3, 3), stride=(1, 1))\n",
      "  (batch_norm_c): BatchNorm2d(32, eps=1e-05, momentum=0.1, affine=True, track_running_stats=True)\n",
      "  (funcion_activacion_c): SELU()\n",
      "  (dropout_c): Dropout(p=0.2, inplace=False)\n",
      "  (cnn4): Conv2d(32, 32, kernel_size=(3, 3), stride=(1, 1), bias=False)\n",
      "  (batch_norm_d): BatchNorm2d(32, eps=1e-05, momentum=0.1, affine=True, track_running_stats=True)\n",
      "  (funcion_activacion_d): ReLU()\n",
      "  (dropout_d): Dropout(p=0.1, inplace=False)\n",
      "  (pool2): AvgPool2d(kernel_size=1, stride=1, padding=0)\n",
      "  (fc1): Linear(in_features=512, out_features=10, bias=True)\n",
      "), 0.7612309455871582]\n",
      "{'test_loss': 1.1083898544311523} 0.7612309455871582\n",
      "8.525759033430816\n"
     ]
    },
    {
     "name": "stderr",
     "output_type": "stream",
     "text": [
      "\n",
      "   | Name                 | Type        | Params\n",
      "------------------------------------------------------\n",
      "0  | cnn1                 | Conv2d      | 416   \n",
      "1  | batch_norm_a         | BatchNorm2d | 32    \n",
      "2  | funcion_activacion_a | ELU         | 0     \n",
      "3  | dropout_a            | Dropout     | 0     \n",
      "4  | pool1                | MaxPool2d   | 0     \n",
      "5  | cnn2                 | Conv2d      | 6.4 K \n",
      "6  | batch_norm_b         | BatchNorm2d | 32    \n",
      "7  | funcion_activacion_b | ReLU        | 0     \n",
      "8  | dropout_b            | Dropout     | 0     \n",
      "9  | cnn3                 | Conv2d      | 4.6 K \n",
      "10 | batch_norm_c         | BatchNorm2d | 64    \n",
      "11 | funcion_activacion_c | SELU        | 0     \n",
      "12 | dropout_c            | Dropout     | 0     \n",
      "13 | cnn4                 | Conv2d      | 9.2 K \n",
      "14 | batch_norm_d         | BatchNorm2d | 64    \n",
      "15 | funcion_activacion_d | ReLU        | 0     \n",
      "16 | dropout_d            | Dropout     | 0     \n",
      "17 | pool2                | AvgPool2d   | 0     \n",
      "18 | fc1                  | Linear      | 5.1 K \n",
      "------------------------------------------------------\n",
      "26.0 K    Trainable params\n",
      "0         Non-trainable params\n",
      "26.0 K    Total params\n",
      "0.104     Total estimated model params size (MB)\n"
     ]
    },
    {
     "data": {
      "application/vnd.jupyter.widget-view+json": {
       "model_id": "7db1bb373ce7422c9a0cd6a6948de79c",
       "version_major": 2,
       "version_minor": 0
      },
      "text/plain": [
       "Sanity Checking: 0it [00:00, ?it/s]"
      ]
     },
     "metadata": {},
     "output_type": "display_data"
    },
    {
     "data": {
      "application/vnd.jupyter.widget-view+json": {
       "model_id": "ec3472db05674812919e3b5e421d3417",
       "version_major": 2,
       "version_minor": 0
      },
      "text/plain": [
       "Training: 0it [00:00, ?it/s]"
      ]
     },
     "metadata": {},
     "output_type": "display_data"
    },
    {
     "data": {
      "application/vnd.jupyter.widget-view+json": {
       "model_id": "49a828fd6d264ea8b26dfa5c088f18f2",
       "version_major": 2,
       "version_minor": 0
      },
      "text/plain": [
       "Validation: 0it [00:00, ?it/s]"
      ]
     },
     "metadata": {},
     "output_type": "display_data"
    },
    {
     "data": {
      "application/vnd.jupyter.widget-view+json": {
       "model_id": "3cd1fd7fa1ce401683aaf8d9eeea1ef6",
       "version_major": 2,
       "version_minor": 0
      },
      "text/plain": [
       "Validation: 0it [00:00, ?it/s]"
      ]
     },
     "metadata": {},
     "output_type": "display_data"
    },
    {
     "data": {
      "application/vnd.jupyter.widget-view+json": {
       "model_id": "8caf07741af74ca0af0a4bf4f620f9dc",
       "version_major": 2,
       "version_minor": 0
      },
      "text/plain": [
       "Validation: 0it [00:00, ?it/s]"
      ]
     },
     "metadata": {},
     "output_type": "display_data"
    },
    {
     "data": {
      "application/vnd.jupyter.widget-view+json": {
       "model_id": "32ffa3192d664fb8bf3c8d17bf800679",
       "version_major": 2,
       "version_minor": 0
      },
      "text/plain": [
       "Validation: 0it [00:00, ?it/s]"
      ]
     },
     "metadata": {},
     "output_type": "display_data"
    },
    {
     "data": {
      "application/vnd.jupyter.widget-view+json": {
       "model_id": "9a42591e7bcc4f9ca5cc22c19508716e",
       "version_major": 2,
       "version_minor": 0
      },
      "text/plain": [
       "Validation: 0it [00:00, ?it/s]"
      ]
     },
     "metadata": {},
     "output_type": "display_data"
    },
    {
     "name": "stderr",
     "output_type": "stream",
     "text": [
      "`Trainer.fit` stopped: `max_epochs=5` reached.\n",
      "Restoring states from the checkpoint path at c:\\Users\\w10\\Desktop\\BMA\\UPV\\tia\\algoritmos_geneticos\\notebooks\\lightning_logs\\version_679\\checkpoints\\epoch=4-step=150.ckpt\n",
      "Loaded model weights from the checkpoint at c:\\Users\\w10\\Desktop\\BMA\\UPV\\tia\\algoritmos_geneticos\\notebooks\\lightning_logs\\version_679\\checkpoints\\epoch=4-step=150.ckpt\n"
     ]
    },
    {
     "data": {
      "application/vnd.jupyter.widget-view+json": {
       "model_id": "f3396b9087474df5a328f689e3369232",
       "version_major": 2,
       "version_minor": 0
      },
      "text/plain": [
       "Testing: 0it [00:00, ?it/s]"
      ]
     },
     "metadata": {},
     "output_type": "display_data"
    },
    {
     "data": {
      "text/html": [
       "<pre style=\"white-space:pre;overflow-x:auto;line-height:normal;font-family:Menlo,'DejaVu Sans Mono',consolas,'Courier New',monospace\">┏━━━━━━━━━━━━━━━━━━━━━━━━━━━┳━━━━━━━━━━━━━━━━━━━━━━━━━━━┓\n",
       "┃<span style=\"font-weight: bold\">        Test metric        </span>┃<span style=\"font-weight: bold\">       DataLoader 0        </span>┃\n",
       "┡━━━━━━━━━━━━━━━━━━━━━━━━━━━╇━━━━━━━━━━━━━━━━━━━━━━━━━━━┩\n",
       "│<span style=\"color: #008080; text-decoration-color: #008080\">         test_loss         </span>│<span style=\"color: #800080; text-decoration-color: #800080\">    0.8097628355026245     </span>│\n",
       "└───────────────────────────┴───────────────────────────┘\n",
       "</pre>\n"
      ],
      "text/plain": [
       "┏━━━━━━━━━━━━━━━━━━━━━━━━━━━┳━━━━━━━━━━━━━━━━━━━━━━━━━━━┓\n",
       "┃\u001b[1m \u001b[0m\u001b[1m       Test metric       \u001b[0m\u001b[1m \u001b[0m┃\u001b[1m \u001b[0m\u001b[1m      DataLoader 0       \u001b[0m\u001b[1m \u001b[0m┃\n",
       "┡━━━━━━━━━━━━━━━━━━━━━━━━━━━╇━━━━━━━━━━━━━━━━━━━━━━━━━━━┩\n",
       "│\u001b[36m \u001b[0m\u001b[36m        test_loss        \u001b[0m\u001b[36m \u001b[0m│\u001b[35m \u001b[0m\u001b[35m   0.8097628355026245    \u001b[0m\u001b[35m \u001b[0m│\n",
       "└───────────────────────────┴───────────────────────────┘\n"
      ]
     },
     "metadata": {},
     "output_type": "display_data"
    },
    {
     "name": "stderr",
     "output_type": "stream",
     "text": [
      "GPU available: False, used: False\n",
      "TPU available: False, using: 0 TPU cores\n",
      "IPU available: False, using: 0 IPUs\n",
      "HPU available: False, using: 0 HPUs\n"
     ]
    },
    {
     "name": "stdout",
     "output_type": "stream",
     "text": [
      "[{'a_include_BN': True, 'a_include_bias': True, 'a_activation_type': ELU(alpha=1.0), 'a_dropout_range': 0, 'a_pool_type': MaxPool2d(kernel_size=2, stride=2, padding=0, dilation=1, ceil_mode=False), 'b_include_BN': False, 'b_include_bias': True, 'b_activation_type': ReLU(), 'b_dropout_range': 0.1, 'c_include_BN': True, 'c_include_bias': True, 'c_activation_type': SELU(), 'c_dropout_range': 0.2, 'd_include_BN': False, 'd_include_bias': False, 'd_activation_type': ReLU(), 'd_dropout_range': 0.1, 'b_pool_type': AvgPool2d(kernel_size=1, stride=1, padding=0), 'learning_rate': 0.1}, MyModel(\n",
      "  (cnn1): Conv2d(1, 16, kernel_size=(5, 5), stride=(1, 1))\n",
      "  (batch_norm_a): BatchNorm2d(16, eps=1e-05, momentum=0.1, affine=True, track_running_stats=True)\n",
      "  (funcion_activacion_a): ELU(alpha=1.0)\n",
      "  (dropout_a): Dropout(p=0, inplace=False)\n",
      "  (pool1): MaxPool2d(kernel_size=2, stride=2, padding=0, dilation=1, ceil_mode=False)\n",
      "  (cnn2): Conv2d(16, 16, kernel_size=(5, 5), stride=(1, 1))\n",
      "  (batch_norm_b): BatchNorm2d(16, eps=1e-05, momentum=0.1, affine=True, track_running_stats=True)\n",
      "  (funcion_activacion_b): ReLU()\n",
      "  (dropout_b): Dropout(p=0.1, inplace=False)\n",
      "  (cnn3): Conv2d(16, 32, kernel_size=(3, 3), stride=(1, 1))\n",
      "  (batch_norm_c): BatchNorm2d(32, eps=1e-05, momentum=0.1, affine=True, track_running_stats=True)\n",
      "  (funcion_activacion_c): SELU()\n",
      "  (dropout_c): Dropout(p=0.2, inplace=False)\n",
      "  (cnn4): Conv2d(32, 32, kernel_size=(3, 3), stride=(1, 1), bias=False)\n",
      "  (batch_norm_d): BatchNorm2d(32, eps=1e-05, momentum=0.1, affine=True, track_running_stats=True)\n",
      "  (funcion_activacion_d): ReLU()\n",
      "  (dropout_d): Dropout(p=0.1, inplace=False)\n",
      "  (pool2): AvgPool2d(kernel_size=1, stride=1, padding=0)\n",
      "  (fc1): Linear(in_features=512, out_features=10, bias=True)\n",
      "), 0.7612309455871582]\n",
      "{'test_loss': 0.8097628355026245} 0.7612309455871582\n",
      "8.099471081759274\n"
     ]
    },
    {
     "name": "stderr",
     "output_type": "stream",
     "text": [
      "\n",
      "   | Name                 | Type        | Params\n",
      "------------------------------------------------------\n",
      "0  | cnn1                 | Conv2d      | 416   \n",
      "1  | batch_norm_a         | BatchNorm2d | 32    \n",
      "2  | funcion_activacion_a | ELU         | 0     \n",
      "3  | dropout_a            | Dropout     | 0     \n",
      "4  | pool1                | MaxPool2d   | 0     \n",
      "5  | cnn2                 | Conv2d      | 6.4 K \n",
      "6  | batch_norm_b         | BatchNorm2d | 32    \n",
      "7  | funcion_activacion_b | ReLU        | 0     \n",
      "8  | dropout_b            | Dropout     | 0     \n",
      "9  | cnn3                 | Conv2d      | 4.6 K \n",
      "10 | batch_norm_c         | BatchNorm2d | 64    \n",
      "11 | funcion_activacion_c | SELU        | 0     \n",
      "12 | dropout_c            | Dropout     | 0     \n",
      "13 | cnn4                 | Conv2d      | 9.2 K \n",
      "14 | batch_norm_d         | BatchNorm2d | 64    \n",
      "15 | funcion_activacion_d | ReLU        | 0     \n",
      "16 | dropout_d            | Dropout     | 0     \n",
      "17 | pool2                | AvgPool2d   | 0     \n",
      "18 | fc1                  | Linear      | 5.1 K \n",
      "------------------------------------------------------\n",
      "26.0 K    Trainable params\n",
      "0         Non-trainable params\n",
      "26.0 K    Total params\n",
      "0.104     Total estimated model params size (MB)\n"
     ]
    },
    {
     "data": {
      "application/vnd.jupyter.widget-view+json": {
       "model_id": "27ae410b4cf74a97a9cae5e6314b1755",
       "version_major": 2,
       "version_minor": 0
      },
      "text/plain": [
       "Sanity Checking: 0it [00:00, ?it/s]"
      ]
     },
     "metadata": {},
     "output_type": "display_data"
    },
    {
     "data": {
      "application/vnd.jupyter.widget-view+json": {
       "model_id": "3a217ecd38364df7aa4b55e8fe1063dc",
       "version_major": 2,
       "version_minor": 0
      },
      "text/plain": [
       "Training: 0it [00:00, ?it/s]"
      ]
     },
     "metadata": {},
     "output_type": "display_data"
    },
    {
     "data": {
      "application/vnd.jupyter.widget-view+json": {
       "model_id": "a22741e862e640c5b0ad53f21fe7342c",
       "version_major": 2,
       "version_minor": 0
      },
      "text/plain": [
       "Validation: 0it [00:00, ?it/s]"
      ]
     },
     "metadata": {},
     "output_type": "display_data"
    },
    {
     "data": {
      "application/vnd.jupyter.widget-view+json": {
       "model_id": "3de74b4a3764483daecc45bc6296e36c",
       "version_major": 2,
       "version_minor": 0
      },
      "text/plain": [
       "Validation: 0it [00:00, ?it/s]"
      ]
     },
     "metadata": {},
     "output_type": "display_data"
    },
    {
     "data": {
      "application/vnd.jupyter.widget-view+json": {
       "model_id": "6b598e3ec5614e36b06ece568a53e76b",
       "version_major": 2,
       "version_minor": 0
      },
      "text/plain": [
       "Validation: 0it [00:00, ?it/s]"
      ]
     },
     "metadata": {},
     "output_type": "display_data"
    },
    {
     "data": {
      "application/vnd.jupyter.widget-view+json": {
       "model_id": "f5eac28303034198a0daca05bd1126e9",
       "version_major": 2,
       "version_minor": 0
      },
      "text/plain": [
       "Validation: 0it [00:00, ?it/s]"
      ]
     },
     "metadata": {},
     "output_type": "display_data"
    },
    {
     "data": {
      "application/vnd.jupyter.widget-view+json": {
       "model_id": "28dabbdde2d94afaa6b73b9def140899",
       "version_major": 2,
       "version_minor": 0
      },
      "text/plain": [
       "Validation: 0it [00:00, ?it/s]"
      ]
     },
     "metadata": {},
     "output_type": "display_data"
    },
    {
     "name": "stderr",
     "output_type": "stream",
     "text": [
      "`Trainer.fit` stopped: `max_epochs=5` reached.\n",
      "Restoring states from the checkpoint path at c:\\Users\\w10\\Desktop\\BMA\\UPV\\tia\\algoritmos_geneticos\\notebooks\\lightning_logs\\version_680\\checkpoints\\epoch=4-step=150.ckpt\n",
      "Loaded model weights from the checkpoint at c:\\Users\\w10\\Desktop\\BMA\\UPV\\tia\\algoritmos_geneticos\\notebooks\\lightning_logs\\version_680\\checkpoints\\epoch=4-step=150.ckpt\n"
     ]
    },
    {
     "data": {
      "application/vnd.jupyter.widget-view+json": {
       "model_id": "f0287072dd3544d9a80506ee2c36bea5",
       "version_major": 2,
       "version_minor": 0
      },
      "text/plain": [
       "Testing: 0it [00:00, ?it/s]"
      ]
     },
     "metadata": {},
     "output_type": "display_data"
    },
    {
     "data": {
      "text/html": [
       "<pre style=\"white-space:pre;overflow-x:auto;line-height:normal;font-family:Menlo,'DejaVu Sans Mono',consolas,'Courier New',monospace\">┏━━━━━━━━━━━━━━━━━━━━━━━━━━━┳━━━━━━━━━━━━━━━━━━━━━━━━━━━┓\n",
       "┃<span style=\"font-weight: bold\">        Test metric        </span>┃<span style=\"font-weight: bold\">       DataLoader 0        </span>┃\n",
       "┡━━━━━━━━━━━━━━━━━━━━━━━━━━━╇━━━━━━━━━━━━━━━━━━━━━━━━━━━┩\n",
       "│<span style=\"color: #008080; text-decoration-color: #008080\">         test_loss         </span>│<span style=\"color: #800080; text-decoration-color: #800080\">    0.9613910913467407     </span>│\n",
       "└───────────────────────────┴───────────────────────────┘\n",
       "</pre>\n"
      ],
      "text/plain": [
       "┏━━━━━━━━━━━━━━━━━━━━━━━━━━━┳━━━━━━━━━━━━━━━━━━━━━━━━━━━┓\n",
       "┃\u001b[1m \u001b[0m\u001b[1m       Test metric       \u001b[0m\u001b[1m \u001b[0m┃\u001b[1m \u001b[0m\u001b[1m      DataLoader 0       \u001b[0m\u001b[1m \u001b[0m┃\n",
       "┡━━━━━━━━━━━━━━━━━━━━━━━━━━━╇━━━━━━━━━━━━━━━━━━━━━━━━━━━┩\n",
       "│\u001b[36m \u001b[0m\u001b[36m        test_loss        \u001b[0m\u001b[36m \u001b[0m│\u001b[35m \u001b[0m\u001b[35m   0.9613910913467407    \u001b[0m\u001b[35m \u001b[0m│\n",
       "└───────────────────────────┴───────────────────────────┘\n"
      ]
     },
     "metadata": {},
     "output_type": "display_data"
    },
    {
     "name": "stdout",
     "output_type": "stream",
     "text": [
      "[{'a_include_BN': True, 'a_include_bias': True, 'a_activation_type': ELU(alpha=1.0), 'a_dropout_range': 0, 'a_pool_type': MaxPool2d(kernel_size=2, stride=2, padding=0, dilation=1, ceil_mode=False), 'b_include_BN': False, 'b_include_bias': True, 'b_activation_type': ReLU(), 'b_dropout_range': 0.1, 'c_include_BN': True, 'c_include_bias': True, 'c_activation_type': SELU(), 'c_dropout_range': 0.2, 'd_include_BN': False, 'd_include_bias': False, 'd_activation_type': ReLU(), 'd_dropout_range': 0.1, 'b_pool_type': AvgPool2d(kernel_size=1, stride=1, padding=0), 'learning_rate': 0.1}, MyModel(\n",
      "  (cnn1): Conv2d(1, 16, kernel_size=(5, 5), stride=(1, 1))\n",
      "  (batch_norm_a): BatchNorm2d(16, eps=1e-05, momentum=0.1, affine=True, track_running_stats=True)\n",
      "  (funcion_activacion_a): ELU(alpha=1.0)\n",
      "  (dropout_a): Dropout(p=0, inplace=False)\n",
      "  (pool1): MaxPool2d(kernel_size=2, stride=2, padding=0, dilation=1, ceil_mode=False)\n",
      "  (cnn2): Conv2d(16, 16, kernel_size=(5, 5), stride=(1, 1))\n",
      "  (batch_norm_b): BatchNorm2d(16, eps=1e-05, momentum=0.1, affine=True, track_running_stats=True)\n",
      "  (funcion_activacion_b): ReLU()\n",
      "  (dropout_b): Dropout(p=0.1, inplace=False)\n",
      "  (cnn3): Conv2d(16, 32, kernel_size=(3, 3), stride=(1, 1))\n",
      "  (batch_norm_c): BatchNorm2d(32, eps=1e-05, momentum=0.1, affine=True, track_running_stats=True)\n",
      "  (funcion_activacion_c): SELU()\n",
      "  (dropout_c): Dropout(p=0.2, inplace=False)\n",
      "  (cnn4): Conv2d(32, 32, kernel_size=(3, 3), stride=(1, 1), bias=False)\n",
      "  (batch_norm_d): BatchNorm2d(32, eps=1e-05, momentum=0.1, affine=True, track_running_stats=True)\n",
      "  (funcion_activacion_d): ReLU()\n",
      "  (dropout_d): Dropout(p=0.1, inplace=False)\n",
      "  (pool2): AvgPool2d(kernel_size=1, stride=1, padding=0)\n",
      "  (fc1): Linear(in_features=512, out_features=10, bias=True)\n",
      "), 0.7612309455871582]\n",
      "{'test_loss': 0.9613910913467407} 0.7612309455871582\n",
      "7.69449752767131\n"
     ]
    },
    {
     "data": {
      "text/plain": [
       "[[{'a_include_BN': True,\n",
       "   'a_include_bias': True,\n",
       "   'a_activation_type': ELU(alpha=1.0),\n",
       "   'a_dropout_range': 0,\n",
       "   'a_pool_type': MaxPool2d(kernel_size=2, stride=2, padding=0, dilation=1, ceil_mode=False),\n",
       "   'b_include_BN': False,\n",
       "   'b_include_bias': True,\n",
       "   'b_activation_type': ReLU(),\n",
       "   'b_dropout_range': 0.1,\n",
       "   'c_include_BN': True,\n",
       "   'c_include_bias': True,\n",
       "   'c_activation_type': SELU(),\n",
       "   'c_dropout_range': 0.2,\n",
       "   'd_include_BN': False,\n",
       "   'd_include_bias': False,\n",
       "   'd_activation_type': ReLU(),\n",
       "   'd_dropout_range': 0.1,\n",
       "   'b_pool_type': AvgPool2d(kernel_size=1, stride=1, padding=0),\n",
       "   'learning_rate': 0.1},\n",
       "  MyModel(\n",
       "    (cnn1): Conv2d(1, 16, kernel_size=(5, 5), stride=(1, 1))\n",
       "    (batch_norm_a): BatchNorm2d(16, eps=1e-05, momentum=0.1, affine=True, track_running_stats=True)\n",
       "    (funcion_activacion_a): ELU(alpha=1.0)\n",
       "    (dropout_a): Dropout(p=0.1, inplace=False)\n",
       "    (pool1): MaxPool2d(kernel_size=2, stride=2, padding=0, dilation=1, ceil_mode=False)\n",
       "    (cnn2): Conv2d(16, 16, kernel_size=(5, 5), stride=(1, 1))\n",
       "    (batch_norm_b): BatchNorm2d(16, eps=1e-05, momentum=0.1, affine=True, track_running_stats=True)\n",
       "    (funcion_activacion_b): ReLU()\n",
       "    (dropout_b): Dropout(p=0.1, inplace=False)\n",
       "    (cnn3): Conv2d(16, 32, kernel_size=(3, 3), stride=(1, 1))\n",
       "    (batch_norm_c): BatchNorm2d(32, eps=1e-05, momentum=0.1, affine=True, track_running_stats=True)\n",
       "    (funcion_activacion_c): SELU()\n",
       "    (dropout_c): Dropout(p=0.2, inplace=False)\n",
       "    (cnn4): Conv2d(32, 32, kernel_size=(3, 3), stride=(1, 1), bias=False)\n",
       "    (batch_norm_d): BatchNorm2d(32, eps=1e-05, momentum=0.1, affine=True, track_running_stats=True)\n",
       "    (funcion_activacion_d): ReLU()\n",
       "    (dropout_d): Dropout(p=0.2, inplace=False)\n",
       "    (pool2): AvgPool2d(kernel_size=1, stride=1, padding=0)\n",
       "    (fc1): Linear(in_features=512, out_features=10, bias=True)\n",
       "  ),\n",
       "  1.1192677021026611],\n",
       " [{'a_include_BN': True,\n",
       "   'a_include_bias': True,\n",
       "   'a_activation_type': ELU(alpha=1.0),\n",
       "   'a_dropout_range': 0,\n",
       "   'a_pool_type': MaxPool2d(kernel_size=2, stride=2, padding=0, dilation=1, ceil_mode=False),\n",
       "   'b_include_BN': False,\n",
       "   'b_include_bias': True,\n",
       "   'b_activation_type': ReLU(),\n",
       "   'b_dropout_range': 0.1,\n",
       "   'c_include_BN': True,\n",
       "   'c_include_bias': True,\n",
       "   'c_activation_type': SELU(),\n",
       "   'c_dropout_range': 0.2,\n",
       "   'd_include_BN': False,\n",
       "   'd_include_bias': False,\n",
       "   'd_activation_type': ReLU(),\n",
       "   'd_dropout_range': 0.1,\n",
       "   'b_pool_type': AvgPool2d(kernel_size=1, stride=1, padding=0),\n",
       "   'learning_rate': 0.1},\n",
       "  MyModel(\n",
       "    (cnn1): Conv2d(1, 16, kernel_size=(5, 5), stride=(1, 1))\n",
       "    (batch_norm_a): BatchNorm2d(16, eps=1e-05, momentum=0.1, affine=True, track_running_stats=True)\n",
       "    (funcion_activacion_a): ELU(alpha=1.0)\n",
       "    (dropout_a): Dropout(p=0.1, inplace=False)\n",
       "    (pool1): MaxPool2d(kernel_size=2, stride=2, padding=0, dilation=1, ceil_mode=False)\n",
       "    (cnn2): Conv2d(16, 16, kernel_size=(5, 5), stride=(1, 1))\n",
       "    (batch_norm_b): BatchNorm2d(16, eps=1e-05, momentum=0.1, affine=True, track_running_stats=True)\n",
       "    (funcion_activacion_b): ReLU()\n",
       "    (dropout_b): Dropout(p=0.1, inplace=False)\n",
       "    (cnn3): Conv2d(16, 32, kernel_size=(3, 3), stride=(1, 1))\n",
       "    (batch_norm_c): BatchNorm2d(32, eps=1e-05, momentum=0.1, affine=True, track_running_stats=True)\n",
       "    (funcion_activacion_c): SELU()\n",
       "    (dropout_c): Dropout(p=0.2, inplace=False)\n",
       "    (cnn4): Conv2d(32, 32, kernel_size=(3, 3), stride=(1, 1), bias=False)\n",
       "    (batch_norm_d): BatchNorm2d(32, eps=1e-05, momentum=0.1, affine=True, track_running_stats=True)\n",
       "    (funcion_activacion_d): ReLU()\n",
       "    (dropout_d): Dropout(p=0.2, inplace=False)\n",
       "    (pool2): AvgPool2d(kernel_size=1, stride=1, padding=0)\n",
       "    (fc1): Linear(in_features=512, out_features=10, bias=True)\n",
       "  ),\n",
       "  1.230272889137268],\n",
       " [{'a_include_BN': True,\n",
       "   'a_include_bias': True,\n",
       "   'a_activation_type': ELU(alpha=1.0),\n",
       "   'a_dropout_range': 0,\n",
       "   'a_pool_type': MaxPool2d(kernel_size=2, stride=2, padding=0, dilation=1, ceil_mode=False),\n",
       "   'b_include_BN': False,\n",
       "   'b_include_bias': True,\n",
       "   'b_activation_type': ReLU(),\n",
       "   'b_dropout_range': 0.1,\n",
       "   'c_include_BN': True,\n",
       "   'c_include_bias': True,\n",
       "   'c_activation_type': SELU(),\n",
       "   'c_dropout_range': 0.2,\n",
       "   'd_include_BN': False,\n",
       "   'd_include_bias': False,\n",
       "   'd_activation_type': ReLU(),\n",
       "   'd_dropout_range': 0.1,\n",
       "   'b_pool_type': AvgPool2d(kernel_size=1, stride=1, padding=0),\n",
       "   'learning_rate': 0.1},\n",
       "  MyModel(\n",
       "    (cnn1): Conv2d(1, 16, kernel_size=(5, 5), stride=(1, 1))\n",
       "    (batch_norm_a): BatchNorm2d(16, eps=1e-05, momentum=0.1, affine=True, track_running_stats=True)\n",
       "    (funcion_activacion_a): ELU(alpha=1.0)\n",
       "    (dropout_a): Dropout(p=0.1, inplace=False)\n",
       "    (pool1): MaxPool2d(kernel_size=2, stride=2, padding=0, dilation=1, ceil_mode=False)\n",
       "    (cnn2): Conv2d(16, 16, kernel_size=(5, 5), stride=(1, 1))\n",
       "    (batch_norm_b): BatchNorm2d(16, eps=1e-05, momentum=0.1, affine=True, track_running_stats=True)\n",
       "    (funcion_activacion_b): ReLU()\n",
       "    (dropout_b): Dropout(p=0.1, inplace=False)\n",
       "    (cnn3): Conv2d(16, 32, kernel_size=(3, 3), stride=(1, 1))\n",
       "    (batch_norm_c): BatchNorm2d(32, eps=1e-05, momentum=0.1, affine=True, track_running_stats=True)\n",
       "    (funcion_activacion_c): SELU()\n",
       "    (dropout_c): Dropout(p=0.2, inplace=False)\n",
       "    (cnn4): Conv2d(32, 32, kernel_size=(3, 3), stride=(1, 1), bias=False)\n",
       "    (batch_norm_d): BatchNorm2d(32, eps=1e-05, momentum=0.1, affine=True, track_running_stats=True)\n",
       "    (funcion_activacion_d): ReLU()\n",
       "    (dropout_d): Dropout(p=0.2, inplace=False)\n",
       "    (pool2): AvgPool2d(kernel_size=1, stride=1, padding=0)\n",
       "    (fc1): Linear(in_features=512, out_features=10, bias=True)\n",
       "  ),\n",
       "  0.9459488987922668],\n",
       " [{'a_include_BN': True,\n",
       "   'a_include_bias': True,\n",
       "   'a_activation_type': ELU(alpha=1.0),\n",
       "   'a_dropout_range': 0,\n",
       "   'a_pool_type': MaxPool2d(kernel_size=2, stride=2, padding=0, dilation=1, ceil_mode=False),\n",
       "   'b_include_BN': False,\n",
       "   'b_include_bias': True,\n",
       "   'b_activation_type': ReLU(),\n",
       "   'b_dropout_range': 0.1,\n",
       "   'c_include_BN': True,\n",
       "   'c_include_bias': True,\n",
       "   'c_activation_type': SELU(),\n",
       "   'c_dropout_range': 0.2,\n",
       "   'd_include_BN': False,\n",
       "   'd_include_bias': False,\n",
       "   'd_activation_type': ReLU(),\n",
       "   'd_dropout_range': 0.1,\n",
       "   'b_pool_type': AvgPool2d(kernel_size=1, stride=1, padding=0),\n",
       "   'learning_rate': 0.1},\n",
       "  MyModel(\n",
       "    (cnn1): Conv2d(1, 16, kernel_size=(5, 5), stride=(1, 1))\n",
       "    (batch_norm_a): BatchNorm2d(16, eps=1e-05, momentum=0.1, affine=True, track_running_stats=True)\n",
       "    (funcion_activacion_a): ELU(alpha=1.0)\n",
       "    (dropout_a): Dropout(p=0.1, inplace=False)\n",
       "    (pool1): MaxPool2d(kernel_size=2, stride=2, padding=0, dilation=1, ceil_mode=False)\n",
       "    (cnn2): Conv2d(16, 16, kernel_size=(5, 5), stride=(1, 1))\n",
       "    (batch_norm_b): BatchNorm2d(16, eps=1e-05, momentum=0.1, affine=True, track_running_stats=True)\n",
       "    (funcion_activacion_b): ReLU()\n",
       "    (dropout_b): Dropout(p=0.1, inplace=False)\n",
       "    (cnn3): Conv2d(16, 32, kernel_size=(3, 3), stride=(1, 1))\n",
       "    (batch_norm_c): BatchNorm2d(32, eps=1e-05, momentum=0.1, affine=True, track_running_stats=True)\n",
       "    (funcion_activacion_c): SELU()\n",
       "    (dropout_c): Dropout(p=0.2, inplace=False)\n",
       "    (cnn4): Conv2d(32, 32, kernel_size=(3, 3), stride=(1, 1), bias=False)\n",
       "    (batch_norm_d): BatchNorm2d(32, eps=1e-05, momentum=0.1, affine=True, track_running_stats=True)\n",
       "    (funcion_activacion_d): ReLU()\n",
       "    (dropout_d): Dropout(p=0.2, inplace=False)\n",
       "    (pool2): AvgPool2d(kernel_size=1, stride=1, padding=0)\n",
       "    (fc1): Linear(in_features=512, out_features=10, bias=True)\n",
       "  ),\n",
       "  0.9282578825950623],\n",
       " [{'a_include_BN': True,\n",
       "   'a_include_bias': True,\n",
       "   'a_activation_type': ELU(alpha=1.0),\n",
       "   'a_dropout_range': 0,\n",
       "   'a_pool_type': MaxPool2d(kernel_size=2, stride=2, padding=0, dilation=1, ceil_mode=False),\n",
       "   'b_include_BN': False,\n",
       "   'b_include_bias': True,\n",
       "   'b_activation_type': ReLU(),\n",
       "   'b_dropout_range': 0.1,\n",
       "   'c_include_BN': True,\n",
       "   'c_include_bias': True,\n",
       "   'c_activation_type': SELU(),\n",
       "   'c_dropout_range': 0.2,\n",
       "   'd_include_BN': False,\n",
       "   'd_include_bias': False,\n",
       "   'd_activation_type': ReLU(),\n",
       "   'd_dropout_range': 0.1,\n",
       "   'b_pool_type': AvgPool2d(kernel_size=1, stride=1, padding=0),\n",
       "   'learning_rate': 0.1},\n",
       "  MyModel(\n",
       "    (cnn1): Conv2d(1, 16, kernel_size=(5, 5), stride=(1, 1))\n",
       "    (batch_norm_a): BatchNorm2d(16, eps=1e-05, momentum=0.1, affine=True, track_running_stats=True)\n",
       "    (funcion_activacion_a): ELU(alpha=1.0)\n",
       "    (dropout_a): Dropout(p=0.1, inplace=False)\n",
       "    (pool1): MaxPool2d(kernel_size=2, stride=2, padding=0, dilation=1, ceil_mode=False)\n",
       "    (cnn2): Conv2d(16, 16, kernel_size=(5, 5), stride=(1, 1))\n",
       "    (batch_norm_b): BatchNorm2d(16, eps=1e-05, momentum=0.1, affine=True, track_running_stats=True)\n",
       "    (funcion_activacion_b): ReLU()\n",
       "    (dropout_b): Dropout(p=0.1, inplace=False)\n",
       "    (cnn3): Conv2d(16, 32, kernel_size=(3, 3), stride=(1, 1))\n",
       "    (batch_norm_c): BatchNorm2d(32, eps=1e-05, momentum=0.1, affine=True, track_running_stats=True)\n",
       "    (funcion_activacion_c): SELU()\n",
       "    (dropout_c): Dropout(p=0.2, inplace=False)\n",
       "    (cnn4): Conv2d(32, 32, kernel_size=(3, 3), stride=(1, 1), bias=False)\n",
       "    (batch_norm_d): BatchNorm2d(32, eps=1e-05, momentum=0.1, affine=True, track_running_stats=True)\n",
       "    (funcion_activacion_d): ReLU()\n",
       "    (dropout_d): Dropout(p=0.2, inplace=False)\n",
       "    (pool2): AvgPool2d(kernel_size=1, stride=1, padding=0)\n",
       "    (fc1): Linear(in_features=512, out_features=10, bias=True)\n",
       "  ),\n",
       "  0.9531006813049316],\n",
       " [{'a_include_BN': True,\n",
       "   'a_include_bias': True,\n",
       "   'a_activation_type': ELU(alpha=1.0),\n",
       "   'a_dropout_range': 0,\n",
       "   'a_pool_type': MaxPool2d(kernel_size=2, stride=2, padding=0, dilation=1, ceil_mode=False),\n",
       "   'b_include_BN': False,\n",
       "   'b_include_bias': True,\n",
       "   'b_activation_type': ReLU(),\n",
       "   'b_dropout_range': 0.1,\n",
       "   'c_include_BN': True,\n",
       "   'c_include_bias': True,\n",
       "   'c_activation_type': SELU(),\n",
       "   'c_dropout_range': 0.2,\n",
       "   'd_include_BN': False,\n",
       "   'd_include_bias': False,\n",
       "   'd_activation_type': ReLU(),\n",
       "   'd_dropout_range': 0.1,\n",
       "   'b_pool_type': AvgPool2d(kernel_size=1, stride=1, padding=0),\n",
       "   'learning_rate': 0.1},\n",
       "  MyModel(\n",
       "    (cnn1): Conv2d(1, 16, kernel_size=(5, 5), stride=(1, 1))\n",
       "    (batch_norm_a): BatchNorm2d(16, eps=1e-05, momentum=0.1, affine=True, track_running_stats=True)\n",
       "    (funcion_activacion_a): ELU(alpha=1.0)\n",
       "    (dropout_a): Dropout(p=0.1, inplace=False)\n",
       "    (pool1): MaxPool2d(kernel_size=2, stride=2, padding=0, dilation=1, ceil_mode=False)\n",
       "    (cnn2): Conv2d(16, 16, kernel_size=(5, 5), stride=(1, 1))\n",
       "    (batch_norm_b): BatchNorm2d(16, eps=1e-05, momentum=0.1, affine=True, track_running_stats=True)\n",
       "    (funcion_activacion_b): ReLU()\n",
       "    (dropout_b): Dropout(p=0.1, inplace=False)\n",
       "    (cnn3): Conv2d(16, 32, kernel_size=(3, 3), stride=(1, 1))\n",
       "    (batch_norm_c): BatchNorm2d(32, eps=1e-05, momentum=0.1, affine=True, track_running_stats=True)\n",
       "    (funcion_activacion_c): SELU()\n",
       "    (dropout_c): Dropout(p=0.2, inplace=False)\n",
       "    (cnn4): Conv2d(32, 32, kernel_size=(3, 3), stride=(1, 1), bias=False)\n",
       "    (batch_norm_d): BatchNorm2d(32, eps=1e-05, momentum=0.1, affine=True, track_running_stats=True)\n",
       "    (funcion_activacion_d): ReLU()\n",
       "    (dropout_d): Dropout(p=0.2, inplace=False)\n",
       "    (pool2): AvgPool2d(kernel_size=1, stride=1, padding=0)\n",
       "    (fc1): Linear(in_features=512, out_features=10, bias=True)\n",
       "  ),\n",
       "  1.0318902730941772],\n",
       " [{'a_include_BN': True,\n",
       "   'a_include_bias': True,\n",
       "   'a_activation_type': ELU(alpha=1.0),\n",
       "   'a_dropout_range': 0,\n",
       "   'a_pool_type': MaxPool2d(kernel_size=2, stride=2, padding=0, dilation=1, ceil_mode=False),\n",
       "   'b_include_BN': False,\n",
       "   'b_include_bias': True,\n",
       "   'b_activation_type': ReLU(),\n",
       "   'b_dropout_range': 0.1,\n",
       "   'c_include_BN': True,\n",
       "   'c_include_bias': True,\n",
       "   'c_activation_type': SELU(),\n",
       "   'c_dropout_range': 0.2,\n",
       "   'd_include_BN': False,\n",
       "   'd_include_bias': False,\n",
       "   'd_activation_type': ReLU(),\n",
       "   'd_dropout_range': 0.1,\n",
       "   'b_pool_type': AvgPool2d(kernel_size=1, stride=1, padding=0),\n",
       "   'learning_rate': 0.1},\n",
       "  MyModel(\n",
       "    (cnn1): Conv2d(1, 16, kernel_size=(5, 5), stride=(1, 1))\n",
       "    (batch_norm_a): BatchNorm2d(16, eps=1e-05, momentum=0.1, affine=True, track_running_stats=True)\n",
       "    (funcion_activacion_a): ELU(alpha=1.0)\n",
       "    (dropout_a): Dropout(p=0.1, inplace=False)\n",
       "    (pool1): MaxPool2d(kernel_size=2, stride=2, padding=0, dilation=1, ceil_mode=False)\n",
       "    (cnn2): Conv2d(16, 16, kernel_size=(5, 5), stride=(1, 1))\n",
       "    (batch_norm_b): BatchNorm2d(16, eps=1e-05, momentum=0.1, affine=True, track_running_stats=True)\n",
       "    (funcion_activacion_b): ReLU()\n",
       "    (dropout_b): Dropout(p=0.1, inplace=False)\n",
       "    (cnn3): Conv2d(16, 32, kernel_size=(3, 3), stride=(1, 1))\n",
       "    (batch_norm_c): BatchNorm2d(32, eps=1e-05, momentum=0.1, affine=True, track_running_stats=True)\n",
       "    (funcion_activacion_c): SELU()\n",
       "    (dropout_c): Dropout(p=0.2, inplace=False)\n",
       "    (cnn4): Conv2d(32, 32, kernel_size=(3, 3), stride=(1, 1), bias=False)\n",
       "    (batch_norm_d): BatchNorm2d(32, eps=1e-05, momentum=0.1, affine=True, track_running_stats=True)\n",
       "    (funcion_activacion_d): ReLU()\n",
       "    (dropout_d): Dropout(p=0.2, inplace=False)\n",
       "    (pool2): AvgPool2d(kernel_size=1, stride=1, padding=0)\n",
       "    (fc1): Linear(in_features=512, out_features=10, bias=True)\n",
       "  ),\n",
       "  1.341272234916687],\n",
       " [{'a_include_BN': True,\n",
       "   'a_include_bias': True,\n",
       "   'a_activation_type': ELU(alpha=1.0),\n",
       "   'a_dropout_range': 0,\n",
       "   'a_pool_type': MaxPool2d(kernel_size=2, stride=2, padding=0, dilation=1, ceil_mode=False),\n",
       "   'b_include_BN': False,\n",
       "   'b_include_bias': True,\n",
       "   'b_activation_type': ReLU(),\n",
       "   'b_dropout_range': 0.1,\n",
       "   'c_include_BN': True,\n",
       "   'c_include_bias': True,\n",
       "   'c_activation_type': SELU(),\n",
       "   'c_dropout_range': 0.2,\n",
       "   'd_include_BN': False,\n",
       "   'd_include_bias': False,\n",
       "   'd_activation_type': ReLU(),\n",
       "   'd_dropout_range': 0.1,\n",
       "   'b_pool_type': AvgPool2d(kernel_size=1, stride=1, padding=0),\n",
       "   'learning_rate': 0.1},\n",
       "  MyModel(\n",
       "    (cnn1): Conv2d(1, 16, kernel_size=(5, 5), stride=(1, 1))\n",
       "    (batch_norm_a): BatchNorm2d(16, eps=1e-05, momentum=0.1, affine=True, track_running_stats=True)\n",
       "    (funcion_activacion_a): ELU(alpha=1.0)\n",
       "    (dropout_a): Dropout(p=0.1, inplace=False)\n",
       "    (pool1): MaxPool2d(kernel_size=2, stride=2, padding=0, dilation=1, ceil_mode=False)\n",
       "    (cnn2): Conv2d(16, 16, kernel_size=(5, 5), stride=(1, 1))\n",
       "    (batch_norm_b): BatchNorm2d(16, eps=1e-05, momentum=0.1, affine=True, track_running_stats=True)\n",
       "    (funcion_activacion_b): ReLU()\n",
       "    (dropout_b): Dropout(p=0.1, inplace=False)\n",
       "    (cnn3): Conv2d(16, 32, kernel_size=(3, 3), stride=(1, 1))\n",
       "    (batch_norm_c): BatchNorm2d(32, eps=1e-05, momentum=0.1, affine=True, track_running_stats=True)\n",
       "    (funcion_activacion_c): SELU()\n",
       "    (dropout_c): Dropout(p=0.2, inplace=False)\n",
       "    (cnn4): Conv2d(32, 32, kernel_size=(3, 3), stride=(1, 1), bias=False)\n",
       "    (batch_norm_d): BatchNorm2d(32, eps=1e-05, momentum=0.1, affine=True, track_running_stats=True)\n",
       "    (funcion_activacion_d): ReLU()\n",
       "    (dropout_d): Dropout(p=0.2, inplace=False)\n",
       "    (pool2): AvgPool2d(kernel_size=1, stride=1, padding=0)\n",
       "    (fc1): Linear(in_features=512, out_features=10, bias=True)\n",
       "  ),\n",
       "  0.9898402690887451],\n",
       " [{'a_include_BN': True,\n",
       "   'a_include_bias': True,\n",
       "   'a_activation_type': ELU(alpha=1.0),\n",
       "   'a_dropout_range': 0,\n",
       "   'a_pool_type': MaxPool2d(kernel_size=2, stride=2, padding=0, dilation=1, ceil_mode=False),\n",
       "   'b_include_BN': False,\n",
       "   'b_include_bias': True,\n",
       "   'b_activation_type': ReLU(),\n",
       "   'b_dropout_range': 0.1,\n",
       "   'c_include_BN': True,\n",
       "   'c_include_bias': True,\n",
       "   'c_activation_type': SELU(),\n",
       "   'c_dropout_range': 0.2,\n",
       "   'd_include_BN': False,\n",
       "   'd_include_bias': False,\n",
       "   'd_activation_type': ReLU(),\n",
       "   'd_dropout_range': 0.1,\n",
       "   'b_pool_type': AvgPool2d(kernel_size=1, stride=1, padding=0),\n",
       "   'learning_rate': 0.1},\n",
       "  MyModel(\n",
       "    (cnn1): Conv2d(1, 16, kernel_size=(5, 5), stride=(1, 1))\n",
       "    (batch_norm_a): BatchNorm2d(16, eps=1e-05, momentum=0.1, affine=True, track_running_stats=True)\n",
       "    (funcion_activacion_a): ELU(alpha=1.0)\n",
       "    (dropout_a): Dropout(p=0.1, inplace=False)\n",
       "    (pool1): MaxPool2d(kernel_size=2, stride=2, padding=0, dilation=1, ceil_mode=False)\n",
       "    (cnn2): Conv2d(16, 16, kernel_size=(5, 5), stride=(1, 1))\n",
       "    (batch_norm_b): BatchNorm2d(16, eps=1e-05, momentum=0.1, affine=True, track_running_stats=True)\n",
       "    (funcion_activacion_b): ReLU()\n",
       "    (dropout_b): Dropout(p=0.1, inplace=False)\n",
       "    (cnn3): Conv2d(16, 32, kernel_size=(3, 3), stride=(1, 1))\n",
       "    (batch_norm_c): BatchNorm2d(32, eps=1e-05, momentum=0.1, affine=True, track_running_stats=True)\n",
       "    (funcion_activacion_c): SELU()\n",
       "    (dropout_c): Dropout(p=0.2, inplace=False)\n",
       "    (cnn4): Conv2d(32, 32, kernel_size=(3, 3), stride=(1, 1), bias=False)\n",
       "    (batch_norm_d): BatchNorm2d(32, eps=1e-05, momentum=0.1, affine=True, track_running_stats=True)\n",
       "    (funcion_activacion_d): ReLU()\n",
       "    (dropout_d): Dropout(p=0.2, inplace=False)\n",
       "    (pool2): AvgPool2d(kernel_size=1, stride=1, padding=0)\n",
       "    (fc1): Linear(in_features=512, out_features=10, bias=True)\n",
       "  ),\n",
       "  0.9086706638336182],\n",
       " [{'a_include_BN': True,\n",
       "   'a_include_bias': True,\n",
       "   'a_activation_type': ELU(alpha=1.0),\n",
       "   'a_dropout_range': 0,\n",
       "   'a_pool_type': MaxPool2d(kernel_size=2, stride=2, padding=0, dilation=1, ceil_mode=False),\n",
       "   'b_include_BN': False,\n",
       "   'b_include_bias': True,\n",
       "   'b_activation_type': ReLU(),\n",
       "   'b_dropout_range': 0.1,\n",
       "   'c_include_BN': True,\n",
       "   'c_include_bias': True,\n",
       "   'c_activation_type': SELU(),\n",
       "   'c_dropout_range': 0.2,\n",
       "   'd_include_BN': False,\n",
       "   'd_include_bias': False,\n",
       "   'd_activation_type': ReLU(),\n",
       "   'd_dropout_range': 0.1,\n",
       "   'b_pool_type': AvgPool2d(kernel_size=1, stride=1, padding=0),\n",
       "   'learning_rate': 0.1},\n",
       "  MyModel(\n",
       "    (cnn1): Conv2d(1, 16, kernel_size=(5, 5), stride=(1, 1))\n",
       "    (batch_norm_a): BatchNorm2d(16, eps=1e-05, momentum=0.1, affine=True, track_running_stats=True)\n",
       "    (funcion_activacion_a): ELU(alpha=1.0)\n",
       "    (dropout_a): Dropout(p=0.1, inplace=False)\n",
       "    (pool1): MaxPool2d(kernel_size=2, stride=2, padding=0, dilation=1, ceil_mode=False)\n",
       "    (cnn2): Conv2d(16, 16, kernel_size=(5, 5), stride=(1, 1))\n",
       "    (batch_norm_b): BatchNorm2d(16, eps=1e-05, momentum=0.1, affine=True, track_running_stats=True)\n",
       "    (funcion_activacion_b): ReLU()\n",
       "    (dropout_b): Dropout(p=0.1, inplace=False)\n",
       "    (cnn3): Conv2d(16, 32, kernel_size=(3, 3), stride=(1, 1))\n",
       "    (batch_norm_c): BatchNorm2d(32, eps=1e-05, momentum=0.1, affine=True, track_running_stats=True)\n",
       "    (funcion_activacion_c): SELU()\n",
       "    (dropout_c): Dropout(p=0.2, inplace=False)\n",
       "    (cnn4): Conv2d(32, 32, kernel_size=(3, 3), stride=(1, 1), bias=False)\n",
       "    (batch_norm_d): BatchNorm2d(32, eps=1e-05, momentum=0.1, affine=True, track_running_stats=True)\n",
       "    (funcion_activacion_d): ReLU()\n",
       "    (dropout_d): Dropout(p=0.2, inplace=False)\n",
       "    (pool2): AvgPool2d(kernel_size=1, stride=1, padding=0)\n",
       "    (fc1): Linear(in_features=512, out_features=10, bias=True)\n",
       "  ),\n",
       "  1.0033600330352783],\n",
       " [{'a_include_BN': True,\n",
       "   'a_include_bias': True,\n",
       "   'a_activation_type': ELU(alpha=1.0),\n",
       "   'a_dropout_range': 0,\n",
       "   'a_pool_type': MaxPool2d(kernel_size=2, stride=2, padding=0, dilation=1, ceil_mode=False),\n",
       "   'b_include_BN': False,\n",
       "   'b_include_bias': True,\n",
       "   'b_activation_type': ReLU(),\n",
       "   'b_dropout_range': 0.1,\n",
       "   'c_include_BN': True,\n",
       "   'c_include_bias': True,\n",
       "   'c_activation_type': SELU(),\n",
       "   'c_dropout_range': 0.2,\n",
       "   'd_include_BN': False,\n",
       "   'd_include_bias': False,\n",
       "   'd_activation_type': ReLU(),\n",
       "   'd_dropout_range': 0.1,\n",
       "   'b_pool_type': AvgPool2d(kernel_size=1, stride=1, padding=0),\n",
       "   'learning_rate': 0.1},\n",
       "  MyModel(\n",
       "    (cnn1): Conv2d(1, 16, kernel_size=(5, 5), stride=(1, 1))\n",
       "    (batch_norm_a): BatchNorm2d(16, eps=1e-05, momentum=0.1, affine=True, track_running_stats=True)\n",
       "    (funcion_activacion_a): ELU(alpha=1.0)\n",
       "    (dropout_a): Dropout(p=0.1, inplace=False)\n",
       "    (pool1): MaxPool2d(kernel_size=2, stride=2, padding=0, dilation=1, ceil_mode=False)\n",
       "    (cnn2): Conv2d(16, 16, kernel_size=(5, 5), stride=(1, 1))\n",
       "    (batch_norm_b): BatchNorm2d(16, eps=1e-05, momentum=0.1, affine=True, track_running_stats=True)\n",
       "    (funcion_activacion_b): ReLU()\n",
       "    (dropout_b): Dropout(p=0.1, inplace=False)\n",
       "    (cnn3): Conv2d(16, 32, kernel_size=(3, 3), stride=(1, 1))\n",
       "    (batch_norm_c): BatchNorm2d(32, eps=1e-05, momentum=0.1, affine=True, track_running_stats=True)\n",
       "    (funcion_activacion_c): SELU()\n",
       "    (dropout_c): Dropout(p=0.2, inplace=False)\n",
       "    (cnn4): Conv2d(32, 32, kernel_size=(3, 3), stride=(1, 1), bias=False)\n",
       "    (batch_norm_d): BatchNorm2d(32, eps=1e-05, momentum=0.1, affine=True, track_running_stats=True)\n",
       "    (funcion_activacion_d): ReLU()\n",
       "    (dropout_d): Dropout(p=0.2, inplace=False)\n",
       "    (pool2): AvgPool2d(kernel_size=1, stride=1, padding=0)\n",
       "    (fc1): Linear(in_features=512, out_features=10, bias=True)\n",
       "  ),\n",
       "  0.8824914693832397],\n",
       " [{'a_include_BN': True,\n",
       "   'a_include_bias': True,\n",
       "   'a_activation_type': ELU(alpha=1.0),\n",
       "   'a_dropout_range': 0,\n",
       "   'a_pool_type': MaxPool2d(kernel_size=2, stride=2, padding=0, dilation=1, ceil_mode=False),\n",
       "   'b_include_BN': False,\n",
       "   'b_include_bias': True,\n",
       "   'b_activation_type': ReLU(),\n",
       "   'b_dropout_range': 0.1,\n",
       "   'c_include_BN': True,\n",
       "   'c_include_bias': True,\n",
       "   'c_activation_type': SELU(),\n",
       "   'c_dropout_range': 0.2,\n",
       "   'd_include_BN': False,\n",
       "   'd_include_bias': False,\n",
       "   'd_activation_type': ReLU(),\n",
       "   'd_dropout_range': 0.1,\n",
       "   'b_pool_type': AvgPool2d(kernel_size=1, stride=1, padding=0),\n",
       "   'learning_rate': 0.1},\n",
       "  MyModel(\n",
       "    (cnn1): Conv2d(1, 16, kernel_size=(5, 5), stride=(1, 1))\n",
       "    (batch_norm_a): BatchNorm2d(16, eps=1e-05, momentum=0.1, affine=True, track_running_stats=True)\n",
       "    (funcion_activacion_a): ELU(alpha=1.0)\n",
       "    (dropout_a): Dropout(p=0.1, inplace=False)\n",
       "    (pool1): MaxPool2d(kernel_size=2, stride=2, padding=0, dilation=1, ceil_mode=False)\n",
       "    (cnn2): Conv2d(16, 16, kernel_size=(5, 5), stride=(1, 1))\n",
       "    (batch_norm_b): BatchNorm2d(16, eps=1e-05, momentum=0.1, affine=True, track_running_stats=True)\n",
       "    (funcion_activacion_b): ReLU()\n",
       "    (dropout_b): Dropout(p=0.1, inplace=False)\n",
       "    (cnn3): Conv2d(16, 32, kernel_size=(3, 3), stride=(1, 1))\n",
       "    (batch_norm_c): BatchNorm2d(32, eps=1e-05, momentum=0.1, affine=True, track_running_stats=True)\n",
       "    (funcion_activacion_c): SELU()\n",
       "    (dropout_c): Dropout(p=0.2, inplace=False)\n",
       "    (cnn4): Conv2d(32, 32, kernel_size=(3, 3), stride=(1, 1), bias=False)\n",
       "    (batch_norm_d): BatchNorm2d(32, eps=1e-05, momentum=0.1, affine=True, track_running_stats=True)\n",
       "    (funcion_activacion_d): ReLU()\n",
       "    (dropout_d): Dropout(p=0.2, inplace=False)\n",
       "    (pool2): AvgPool2d(kernel_size=1, stride=1, padding=0)\n",
       "    (fc1): Linear(in_features=512, out_features=10, bias=True)\n",
       "  ),\n",
       "  1.02871572971344],\n",
       " [{'a_include_BN': True,\n",
       "   'a_include_bias': True,\n",
       "   'a_activation_type': ELU(alpha=1.0),\n",
       "   'a_dropout_range': 0,\n",
       "   'a_pool_type': MaxPool2d(kernel_size=2, stride=2, padding=0, dilation=1, ceil_mode=False),\n",
       "   'b_include_BN': False,\n",
       "   'b_include_bias': True,\n",
       "   'b_activation_type': ReLU(),\n",
       "   'b_dropout_range': 0.1,\n",
       "   'c_include_BN': True,\n",
       "   'c_include_bias': True,\n",
       "   'c_activation_type': SELU(),\n",
       "   'c_dropout_range': 0.2,\n",
       "   'd_include_BN': False,\n",
       "   'd_include_bias': False,\n",
       "   'd_activation_type': ReLU(),\n",
       "   'd_dropout_range': 0.1,\n",
       "   'b_pool_type': AvgPool2d(kernel_size=1, stride=1, padding=0),\n",
       "   'learning_rate': 0.1},\n",
       "  MyModel(\n",
       "    (cnn1): Conv2d(1, 16, kernel_size=(5, 5), stride=(1, 1))\n",
       "    (batch_norm_a): BatchNorm2d(16, eps=1e-05, momentum=0.1, affine=True, track_running_stats=True)\n",
       "    (funcion_activacion_a): ELU(alpha=1.0)\n",
       "    (dropout_a): Dropout(p=0.1, inplace=False)\n",
       "    (pool1): MaxPool2d(kernel_size=2, stride=2, padding=0, dilation=1, ceil_mode=False)\n",
       "    (cnn2): Conv2d(16, 16, kernel_size=(5, 5), stride=(1, 1))\n",
       "    (batch_norm_b): BatchNorm2d(16, eps=1e-05, momentum=0.1, affine=True, track_running_stats=True)\n",
       "    (funcion_activacion_b): ReLU()\n",
       "    (dropout_b): Dropout(p=0.1, inplace=False)\n",
       "    (cnn3): Conv2d(16, 32, kernel_size=(3, 3), stride=(1, 1))\n",
       "    (batch_norm_c): BatchNorm2d(32, eps=1e-05, momentum=0.1, affine=True, track_running_stats=True)\n",
       "    (funcion_activacion_c): SELU()\n",
       "    (dropout_c): Dropout(p=0.2, inplace=False)\n",
       "    (cnn4): Conv2d(32, 32, kernel_size=(3, 3), stride=(1, 1), bias=False)\n",
       "    (batch_norm_d): BatchNorm2d(32, eps=1e-05, momentum=0.1, affine=True, track_running_stats=True)\n",
       "    (funcion_activacion_d): ReLU()\n",
       "    (dropout_d): Dropout(p=0.2, inplace=False)\n",
       "    (pool2): AvgPool2d(kernel_size=1, stride=1, padding=0)\n",
       "    (fc1): Linear(in_features=512, out_features=10, bias=True)\n",
       "  ),\n",
       "  1.1874525547027588],\n",
       " [{'a_include_BN': True,\n",
       "   'a_include_bias': True,\n",
       "   'a_activation_type': ELU(alpha=1.0),\n",
       "   'a_dropout_range': 0,\n",
       "   'a_pool_type': MaxPool2d(kernel_size=2, stride=2, padding=0, dilation=1, ceil_mode=False),\n",
       "   'b_include_BN': False,\n",
       "   'b_include_bias': True,\n",
       "   'b_activation_type': ReLU(),\n",
       "   'b_dropout_range': 0.1,\n",
       "   'c_include_BN': True,\n",
       "   'c_include_bias': True,\n",
       "   'c_activation_type': SELU(),\n",
       "   'c_dropout_range': 0.2,\n",
       "   'd_include_BN': False,\n",
       "   'd_include_bias': False,\n",
       "   'd_activation_type': ReLU(),\n",
       "   'd_dropout_range': 0.1,\n",
       "   'b_pool_type': AvgPool2d(kernel_size=1, stride=1, padding=0),\n",
       "   'learning_rate': 0.1},\n",
       "  MyModel(\n",
       "    (cnn1): Conv2d(1, 16, kernel_size=(5, 5), stride=(1, 1))\n",
       "    (batch_norm_a): BatchNorm2d(16, eps=1e-05, momentum=0.1, affine=True, track_running_stats=True)\n",
       "    (funcion_activacion_a): ELU(alpha=1.0)\n",
       "    (dropout_a): Dropout(p=0.1, inplace=False)\n",
       "    (pool1): MaxPool2d(kernel_size=2, stride=2, padding=0, dilation=1, ceil_mode=False)\n",
       "    (cnn2): Conv2d(16, 16, kernel_size=(5, 5), stride=(1, 1))\n",
       "    (batch_norm_b): BatchNorm2d(16, eps=1e-05, momentum=0.1, affine=True, track_running_stats=True)\n",
       "    (funcion_activacion_b): ReLU()\n",
       "    (dropout_b): Dropout(p=0.1, inplace=False)\n",
       "    (cnn3): Conv2d(16, 32, kernel_size=(3, 3), stride=(1, 1))\n",
       "    (batch_norm_c): BatchNorm2d(32, eps=1e-05, momentum=0.1, affine=True, track_running_stats=True)\n",
       "    (funcion_activacion_c): SELU()\n",
       "    (dropout_c): Dropout(p=0.2, inplace=False)\n",
       "    (cnn4): Conv2d(32, 32, kernel_size=(3, 3), stride=(1, 1), bias=False)\n",
       "    (batch_norm_d): BatchNorm2d(32, eps=1e-05, momentum=0.1, affine=True, track_running_stats=True)\n",
       "    (funcion_activacion_d): ReLU()\n",
       "    (dropout_d): Dropout(p=0.2, inplace=False)\n",
       "    (pool2): AvgPool2d(kernel_size=1, stride=1, padding=0)\n",
       "    (fc1): Linear(in_features=512, out_features=10, bias=True)\n",
       "  ),\n",
       "  0.9875438213348389],\n",
       " [{'a_include_BN': True,\n",
       "   'a_include_bias': True,\n",
       "   'a_activation_type': ELU(alpha=1.0),\n",
       "   'a_dropout_range': 0,\n",
       "   'a_pool_type': MaxPool2d(kernel_size=2, stride=2, padding=0, dilation=1, ceil_mode=False),\n",
       "   'b_include_BN': False,\n",
       "   'b_include_bias': True,\n",
       "   'b_activation_type': ReLU(),\n",
       "   'b_dropout_range': 0.1,\n",
       "   'c_include_BN': True,\n",
       "   'c_include_bias': True,\n",
       "   'c_activation_type': SELU(),\n",
       "   'c_dropout_range': 0.2,\n",
       "   'd_include_BN': False,\n",
       "   'd_include_bias': False,\n",
       "   'd_activation_type': ReLU(),\n",
       "   'd_dropout_range': 0.1,\n",
       "   'b_pool_type': AvgPool2d(kernel_size=1, stride=1, padding=0),\n",
       "   'learning_rate': 0.1},\n",
       "  MyModel(\n",
       "    (cnn1): Conv2d(1, 16, kernel_size=(5, 5), stride=(1, 1))\n",
       "    (batch_norm_a): BatchNorm2d(16, eps=1e-05, momentum=0.1, affine=True, track_running_stats=True)\n",
       "    (funcion_activacion_a): ELU(alpha=1.0)\n",
       "    (dropout_a): Dropout(p=0.1, inplace=False)\n",
       "    (pool1): MaxPool2d(kernel_size=2, stride=2, padding=0, dilation=1, ceil_mode=False)\n",
       "    (cnn2): Conv2d(16, 16, kernel_size=(5, 5), stride=(1, 1))\n",
       "    (batch_norm_b): BatchNorm2d(16, eps=1e-05, momentum=0.1, affine=True, track_running_stats=True)\n",
       "    (funcion_activacion_b): ReLU()\n",
       "    (dropout_b): Dropout(p=0.1, inplace=False)\n",
       "    (cnn3): Conv2d(16, 32, kernel_size=(3, 3), stride=(1, 1))\n",
       "    (batch_norm_c): BatchNorm2d(32, eps=1e-05, momentum=0.1, affine=True, track_running_stats=True)\n",
       "    (funcion_activacion_c): SELU()\n",
       "    (dropout_c): Dropout(p=0.2, inplace=False)\n",
       "    (cnn4): Conv2d(32, 32, kernel_size=(3, 3), stride=(1, 1), bias=False)\n",
       "    (batch_norm_d): BatchNorm2d(32, eps=1e-05, momentum=0.1, affine=True, track_running_stats=True)\n",
       "    (funcion_activacion_d): ReLU()\n",
       "    (dropout_d): Dropout(p=0.2, inplace=False)\n",
       "    (pool2): AvgPool2d(kernel_size=1, stride=1, padding=0)\n",
       "    (fc1): Linear(in_features=512, out_features=10, bias=True)\n",
       "  ),\n",
       "  1.135550856590271],\n",
       " [{'a_include_BN': True,\n",
       "   'a_include_bias': True,\n",
       "   'a_activation_type': ELU(alpha=1.0),\n",
       "   'a_dropout_range': 0,\n",
       "   'a_pool_type': MaxPool2d(kernel_size=2, stride=2, padding=0, dilation=1, ceil_mode=False),\n",
       "   'b_include_BN': False,\n",
       "   'b_include_bias': True,\n",
       "   'b_activation_type': ReLU(),\n",
       "   'b_dropout_range': 0.1,\n",
       "   'c_include_BN': True,\n",
       "   'c_include_bias': True,\n",
       "   'c_activation_type': SELU(),\n",
       "   'c_dropout_range': 0.2,\n",
       "   'd_include_BN': False,\n",
       "   'd_include_bias': False,\n",
       "   'd_activation_type': ReLU(),\n",
       "   'd_dropout_range': 0.1,\n",
       "   'b_pool_type': AvgPool2d(kernel_size=1, stride=1, padding=0),\n",
       "   'learning_rate': 0.1},\n",
       "  MyModel(\n",
       "    (cnn1): Conv2d(1, 16, kernel_size=(5, 5), stride=(1, 1))\n",
       "    (batch_norm_a): BatchNorm2d(16, eps=1e-05, momentum=0.1, affine=True, track_running_stats=True)\n",
       "    (funcion_activacion_a): ELU(alpha=1.0)\n",
       "    (dropout_a): Dropout(p=0.1, inplace=False)\n",
       "    (pool1): MaxPool2d(kernel_size=2, stride=2, padding=0, dilation=1, ceil_mode=False)\n",
       "    (cnn2): Conv2d(16, 16, kernel_size=(5, 5), stride=(1, 1))\n",
       "    (batch_norm_b): BatchNorm2d(16, eps=1e-05, momentum=0.1, affine=True, track_running_stats=True)\n",
       "    (funcion_activacion_b): ReLU()\n",
       "    (dropout_b): Dropout(p=0.1, inplace=False)\n",
       "    (cnn3): Conv2d(16, 32, kernel_size=(3, 3), stride=(1, 1))\n",
       "    (batch_norm_c): BatchNorm2d(32, eps=1e-05, momentum=0.1, affine=True, track_running_stats=True)\n",
       "    (funcion_activacion_c): SELU()\n",
       "    (dropout_c): Dropout(p=0.2, inplace=False)\n",
       "    (cnn4): Conv2d(32, 32, kernel_size=(3, 3), stride=(1, 1), bias=False)\n",
       "    (batch_norm_d): BatchNorm2d(32, eps=1e-05, momentum=0.1, affine=True, track_running_stats=True)\n",
       "    (funcion_activacion_d): ReLU()\n",
       "    (dropout_d): Dropout(p=0.2, inplace=False)\n",
       "    (pool2): AvgPool2d(kernel_size=1, stride=1, padding=0)\n",
       "    (fc1): Linear(in_features=512, out_features=10, bias=True)\n",
       "  ),\n",
       "  1.0026899576187134],\n",
       " [{'a_include_BN': True,\n",
       "   'a_include_bias': True,\n",
       "   'a_activation_type': ELU(alpha=1.0),\n",
       "   'a_dropout_range': 0,\n",
       "   'a_pool_type': MaxPool2d(kernel_size=2, stride=2, padding=0, dilation=1, ceil_mode=False),\n",
       "   'b_include_BN': False,\n",
       "   'b_include_bias': True,\n",
       "   'b_activation_type': ReLU(),\n",
       "   'b_dropout_range': 0.1,\n",
       "   'c_include_BN': True,\n",
       "   'c_include_bias': True,\n",
       "   'c_activation_type': SELU(),\n",
       "   'c_dropout_range': 0.2,\n",
       "   'd_include_BN': False,\n",
       "   'd_include_bias': False,\n",
       "   'd_activation_type': ReLU(),\n",
       "   'd_dropout_range': 0.1,\n",
       "   'b_pool_type': AvgPool2d(kernel_size=1, stride=1, padding=0),\n",
       "   'learning_rate': 0.1},\n",
       "  MyModel(\n",
       "    (cnn1): Conv2d(1, 16, kernel_size=(5, 5), stride=(1, 1))\n",
       "    (batch_norm_a): BatchNorm2d(16, eps=1e-05, momentum=0.1, affine=True, track_running_stats=True)\n",
       "    (funcion_activacion_a): ELU(alpha=1.0)\n",
       "    (dropout_a): Dropout(p=0.1, inplace=False)\n",
       "    (pool1): MaxPool2d(kernel_size=2, stride=2, padding=0, dilation=1, ceil_mode=False)\n",
       "    (cnn2): Conv2d(16, 16, kernel_size=(5, 5), stride=(1, 1))\n",
       "    (batch_norm_b): BatchNorm2d(16, eps=1e-05, momentum=0.1, affine=True, track_running_stats=True)\n",
       "    (funcion_activacion_b): ReLU()\n",
       "    (dropout_b): Dropout(p=0.1, inplace=False)\n",
       "    (cnn3): Conv2d(16, 32, kernel_size=(3, 3), stride=(1, 1))\n",
       "    (batch_norm_c): BatchNorm2d(32, eps=1e-05, momentum=0.1, affine=True, track_running_stats=True)\n",
       "    (funcion_activacion_c): SELU()\n",
       "    (dropout_c): Dropout(p=0.2, inplace=False)\n",
       "    (cnn4): Conv2d(32, 32, kernel_size=(3, 3), stride=(1, 1), bias=False)\n",
       "    (batch_norm_d): BatchNorm2d(32, eps=1e-05, momentum=0.1, affine=True, track_running_stats=True)\n",
       "    (funcion_activacion_d): ReLU()\n",
       "    (dropout_d): Dropout(p=0.2, inplace=False)\n",
       "    (pool2): AvgPool2d(kernel_size=1, stride=1, padding=0)\n",
       "    (fc1): Linear(in_features=512, out_features=10, bias=True)\n",
       "  ),\n",
       "  1.030042290687561],\n",
       " [{'a_include_BN': True,\n",
       "   'a_include_bias': True,\n",
       "   'a_activation_type': ELU(alpha=1.0),\n",
       "   'a_dropout_range': 0,\n",
       "   'a_pool_type': MaxPool2d(kernel_size=2, stride=2, padding=0, dilation=1, ceil_mode=False),\n",
       "   'b_include_BN': False,\n",
       "   'b_include_bias': True,\n",
       "   'b_activation_type': ReLU(),\n",
       "   'b_dropout_range': 0.1,\n",
       "   'c_include_BN': True,\n",
       "   'c_include_bias': True,\n",
       "   'c_activation_type': SELU(),\n",
       "   'c_dropout_range': 0.2,\n",
       "   'd_include_BN': False,\n",
       "   'd_include_bias': False,\n",
       "   'd_activation_type': ReLU(),\n",
       "   'd_dropout_range': 0.1,\n",
       "   'b_pool_type': AvgPool2d(kernel_size=1, stride=1, padding=0),\n",
       "   'learning_rate': 0.1},\n",
       "  MyModel(\n",
       "    (cnn1): Conv2d(1, 16, kernel_size=(5, 5), stride=(1, 1))\n",
       "    (batch_norm_a): BatchNorm2d(16, eps=1e-05, momentum=0.1, affine=True, track_running_stats=True)\n",
       "    (funcion_activacion_a): ELU(alpha=1.0)\n",
       "    (dropout_a): Dropout(p=0, inplace=False)\n",
       "    (pool1): MaxPool2d(kernel_size=2, stride=2, padding=0, dilation=1, ceil_mode=False)\n",
       "    (cnn2): Conv2d(16, 16, kernel_size=(5, 5), stride=(1, 1))\n",
       "    (batch_norm_b): BatchNorm2d(16, eps=1e-05, momentum=0.1, affine=True, track_running_stats=True)\n",
       "    (funcion_activacion_b): ReLU()\n",
       "    (dropout_b): Dropout(p=0.1, inplace=False)\n",
       "    (cnn3): Conv2d(16, 32, kernel_size=(3, 3), stride=(1, 1))\n",
       "    (batch_norm_c): BatchNorm2d(32, eps=1e-05, momentum=0.1, affine=True, track_running_stats=True)\n",
       "    (funcion_activacion_c): SELU()\n",
       "    (dropout_c): Dropout(p=0.2, inplace=False)\n",
       "    (cnn4): Conv2d(32, 32, kernel_size=(3, 3), stride=(1, 1), bias=False)\n",
       "    (batch_norm_d): BatchNorm2d(32, eps=1e-05, momentum=0.1, affine=True, track_running_stats=True)\n",
       "    (funcion_activacion_d): ReLU()\n",
       "    (dropout_d): Dropout(p=0.2, inplace=False)\n",
       "    (pool2): AvgPool2d(kernel_size=1, stride=1, padding=0)\n",
       "    (fc1): Linear(in_features=512, out_features=10, bias=True)\n",
       "  ),\n",
       "  0.9021910429000854],\n",
       " [{'a_include_BN': True,\n",
       "   'a_include_bias': True,\n",
       "   'a_activation_type': ELU(alpha=1.0),\n",
       "   'a_dropout_range': 0,\n",
       "   'a_pool_type': MaxPool2d(kernel_size=2, stride=2, padding=0, dilation=1, ceil_mode=False),\n",
       "   'b_include_BN': False,\n",
       "   'b_include_bias': True,\n",
       "   'b_activation_type': ReLU(),\n",
       "   'b_dropout_range': 0.1,\n",
       "   'c_include_BN': True,\n",
       "   'c_include_bias': True,\n",
       "   'c_activation_type': SELU(),\n",
       "   'c_dropout_range': 0.2,\n",
       "   'd_include_BN': False,\n",
       "   'd_include_bias': False,\n",
       "   'd_activation_type': ReLU(),\n",
       "   'd_dropout_range': 0.1,\n",
       "   'b_pool_type': AvgPool2d(kernel_size=1, stride=1, padding=0),\n",
       "   'learning_rate': 0.1},\n",
       "  MyModel(\n",
       "    (cnn1): Conv2d(1, 16, kernel_size=(5, 5), stride=(1, 1))\n",
       "    (batch_norm_a): BatchNorm2d(16, eps=1e-05, momentum=0.1, affine=True, track_running_stats=True)\n",
       "    (funcion_activacion_a): ELU(alpha=1.0)\n",
       "    (dropout_a): Dropout(p=0, inplace=False)\n",
       "    (pool1): MaxPool2d(kernel_size=2, stride=2, padding=0, dilation=1, ceil_mode=False)\n",
       "    (cnn2): Conv2d(16, 16, kernel_size=(5, 5), stride=(1, 1))\n",
       "    (batch_norm_b): BatchNorm2d(16, eps=1e-05, momentum=0.1, affine=True, track_running_stats=True)\n",
       "    (funcion_activacion_b): ReLU()\n",
       "    (dropout_b): Dropout(p=0.1, inplace=False)\n",
       "    (cnn3): Conv2d(16, 32, kernel_size=(3, 3), stride=(1, 1))\n",
       "    (batch_norm_c): BatchNorm2d(32, eps=1e-05, momentum=0.1, affine=True, track_running_stats=True)\n",
       "    (funcion_activacion_c): SELU()\n",
       "    (dropout_c): Dropout(p=0.2, inplace=False)\n",
       "    (cnn4): Conv2d(32, 32, kernel_size=(3, 3), stride=(1, 1), bias=False)\n",
       "    (batch_norm_d): BatchNorm2d(32, eps=1e-05, momentum=0.1, affine=True, track_running_stats=True)\n",
       "    (funcion_activacion_d): ReLU()\n",
       "    (dropout_d): Dropout(p=0.2, inplace=False)\n",
       "    (pool2): AvgPool2d(kernel_size=1, stride=1, padding=0)\n",
       "    (fc1): Linear(in_features=512, out_features=10, bias=True)\n",
       "  ),\n",
       "  0.8938656449317932],\n",
       " [{'a_include_BN': True,\n",
       "   'a_include_bias': True,\n",
       "   'a_activation_type': ELU(alpha=1.0),\n",
       "   'a_dropout_range': 0,\n",
       "   'a_pool_type': MaxPool2d(kernel_size=2, stride=2, padding=0, dilation=1, ceil_mode=False),\n",
       "   'b_include_BN': False,\n",
       "   'b_include_bias': True,\n",
       "   'b_activation_type': ReLU(),\n",
       "   'b_dropout_range': 0.1,\n",
       "   'c_include_BN': True,\n",
       "   'c_include_bias': True,\n",
       "   'c_activation_type': SELU(),\n",
       "   'c_dropout_range': 0.2,\n",
       "   'd_include_BN': False,\n",
       "   'd_include_bias': False,\n",
       "   'd_activation_type': ReLU(),\n",
       "   'd_dropout_range': 0.1,\n",
       "   'b_pool_type': AvgPool2d(kernel_size=1, stride=1, padding=0),\n",
       "   'learning_rate': 0.1},\n",
       "  MyModel(\n",
       "    (cnn1): Conv2d(1, 16, kernel_size=(5, 5), stride=(1, 1))\n",
       "    (batch_norm_a): BatchNorm2d(16, eps=1e-05, momentum=0.1, affine=True, track_running_stats=True)\n",
       "    (funcion_activacion_a): ELU(alpha=1.0)\n",
       "    (dropout_a): Dropout(p=0, inplace=False)\n",
       "    (pool1): MaxPool2d(kernel_size=2, stride=2, padding=0, dilation=1, ceil_mode=False)\n",
       "    (cnn2): Conv2d(16, 16, kernel_size=(5, 5), stride=(1, 1))\n",
       "    (batch_norm_b): BatchNorm2d(16, eps=1e-05, momentum=0.1, affine=True, track_running_stats=True)\n",
       "    (funcion_activacion_b): ReLU()\n",
       "    (dropout_b): Dropout(p=0.1, inplace=False)\n",
       "    (cnn3): Conv2d(16, 32, kernel_size=(3, 3), stride=(1, 1))\n",
       "    (batch_norm_c): BatchNorm2d(32, eps=1e-05, momentum=0.1, affine=True, track_running_stats=True)\n",
       "    (funcion_activacion_c): SELU()\n",
       "    (dropout_c): Dropout(p=0.2, inplace=False)\n",
       "    (cnn4): Conv2d(32, 32, kernel_size=(3, 3), stride=(1, 1), bias=False)\n",
       "    (batch_norm_d): BatchNorm2d(32, eps=1e-05, momentum=0.1, affine=True, track_running_stats=True)\n",
       "    (funcion_activacion_d): ReLU()\n",
       "    (dropout_d): Dropout(p=0.1, inplace=False)\n",
       "    (pool2): AvgPool2d(kernel_size=1, stride=1, padding=0)\n",
       "    (fc1): Linear(in_features=512, out_features=10, bias=True)\n",
       "  ),\n",
       "  0.8363136053085327],\n",
       " [{'a_include_BN': True,\n",
       "   'a_include_bias': True,\n",
       "   'a_activation_type': ELU(alpha=1.0),\n",
       "   'a_dropout_range': 0,\n",
       "   'a_pool_type': MaxPool2d(kernel_size=2, stride=2, padding=0, dilation=1, ceil_mode=False),\n",
       "   'b_include_BN': False,\n",
       "   'b_include_bias': True,\n",
       "   'b_activation_type': ReLU(),\n",
       "   'b_dropout_range': 0.1,\n",
       "   'c_include_BN': True,\n",
       "   'c_include_bias': True,\n",
       "   'c_activation_type': SELU(),\n",
       "   'c_dropout_range': 0.2,\n",
       "   'd_include_BN': False,\n",
       "   'd_include_bias': False,\n",
       "   'd_activation_type': ReLU(),\n",
       "   'd_dropout_range': 0.1,\n",
       "   'b_pool_type': AvgPool2d(kernel_size=1, stride=1, padding=0),\n",
       "   'learning_rate': 0.1},\n",
       "  MyModel(\n",
       "    (cnn1): Conv2d(1, 16, kernel_size=(5, 5), stride=(1, 1))\n",
       "    (batch_norm_a): BatchNorm2d(16, eps=1e-05, momentum=0.1, affine=True, track_running_stats=True)\n",
       "    (funcion_activacion_a): ELU(alpha=1.0)\n",
       "    (dropout_a): Dropout(p=0, inplace=False)\n",
       "    (pool1): MaxPool2d(kernel_size=2, stride=2, padding=0, dilation=1, ceil_mode=False)\n",
       "    (cnn2): Conv2d(16, 16, kernel_size=(5, 5), stride=(1, 1))\n",
       "    (batch_norm_b): BatchNorm2d(16, eps=1e-05, momentum=0.1, affine=True, track_running_stats=True)\n",
       "    (funcion_activacion_b): ReLU()\n",
       "    (dropout_b): Dropout(p=0.1, inplace=False)\n",
       "    (cnn3): Conv2d(16, 32, kernel_size=(3, 3), stride=(1, 1))\n",
       "    (batch_norm_c): BatchNorm2d(32, eps=1e-05, momentum=0.1, affine=True, track_running_stats=True)\n",
       "    (funcion_activacion_c): SELU()\n",
       "    (dropout_c): Dropout(p=0.2, inplace=False)\n",
       "    (cnn4): Conv2d(32, 32, kernel_size=(3, 3), stride=(1, 1), bias=False)\n",
       "    (batch_norm_d): BatchNorm2d(32, eps=1e-05, momentum=0.1, affine=True, track_running_stats=True)\n",
       "    (funcion_activacion_d): ReLU()\n",
       "    (dropout_d): Dropout(p=0.1, inplace=False)\n",
       "    (pool2): AvgPool2d(kernel_size=1, stride=1, padding=0)\n",
       "    (fc1): Linear(in_features=512, out_features=10, bias=True)\n",
       "  ),\n",
       "  0.7746359705924988],\n",
       " [{'a_include_BN': True,\n",
       "   'a_include_bias': True,\n",
       "   'a_activation_type': ELU(alpha=1.0),\n",
       "   'a_dropout_range': 0,\n",
       "   'a_pool_type': MaxPool2d(kernel_size=2, stride=2, padding=0, dilation=1, ceil_mode=False),\n",
       "   'b_include_BN': False,\n",
       "   'b_include_bias': True,\n",
       "   'b_activation_type': ReLU(),\n",
       "   'b_dropout_range': 0.1,\n",
       "   'c_include_BN': True,\n",
       "   'c_include_bias': True,\n",
       "   'c_activation_type': SELU(),\n",
       "   'c_dropout_range': 0.2,\n",
       "   'd_include_BN': False,\n",
       "   'd_include_bias': False,\n",
       "   'd_activation_type': ReLU(),\n",
       "   'd_dropout_range': 0.1,\n",
       "   'b_pool_type': AvgPool2d(kernel_size=1, stride=1, padding=0),\n",
       "   'learning_rate': 0.1},\n",
       "  MyModel(\n",
       "    (cnn1): Conv2d(1, 16, kernel_size=(5, 5), stride=(1, 1))\n",
       "    (batch_norm_a): BatchNorm2d(16, eps=1e-05, momentum=0.1, affine=True, track_running_stats=True)\n",
       "    (funcion_activacion_a): ELU(alpha=1.0)\n",
       "    (dropout_a): Dropout(p=0, inplace=False)\n",
       "    (pool1): MaxPool2d(kernel_size=2, stride=2, padding=0, dilation=1, ceil_mode=False)\n",
       "    (cnn2): Conv2d(16, 16, kernel_size=(5, 5), stride=(1, 1))\n",
       "    (batch_norm_b): BatchNorm2d(16, eps=1e-05, momentum=0.1, affine=True, track_running_stats=True)\n",
       "    (funcion_activacion_b): ReLU()\n",
       "    (dropout_b): Dropout(p=0.1, inplace=False)\n",
       "    (cnn3): Conv2d(16, 32, kernel_size=(3, 3), stride=(1, 1))\n",
       "    (batch_norm_c): BatchNorm2d(32, eps=1e-05, momentum=0.1, affine=True, track_running_stats=True)\n",
       "    (funcion_activacion_c): SELU()\n",
       "    (dropout_c): Dropout(p=0.2, inplace=False)\n",
       "    (cnn4): Conv2d(32, 32, kernel_size=(3, 3), stride=(1, 1), bias=False)\n",
       "    (batch_norm_d): BatchNorm2d(32, eps=1e-05, momentum=0.1, affine=True, track_running_stats=True)\n",
       "    (funcion_activacion_d): ReLU()\n",
       "    (dropout_d): Dropout(p=0.1, inplace=False)\n",
       "    (pool2): AvgPool2d(kernel_size=1, stride=1, padding=0)\n",
       "    (fc1): Linear(in_features=512, out_features=10, bias=True)\n",
       "  ),\n",
       "  0.7612309455871582]]"
      ]
     },
     "execution_count": 117,
     "metadata": {},
     "output_type": "execute_result"
    }
   ],
   "source": [
    "\n",
    "numero_generaciones = 50\n",
    "temperatura = 100\n",
    "factor_enfriamiento = .95\n",
    "rango_superviviencia = 0.5\n",
    "unfitSurvivalProb = 0.2\n",
    "numero_mutaciones = 2\n",
    "mutationRate = 0.1\n",
    "epochs = 5\n",
    "\n",
    "\n",
    "\n",
    "generation = Generation(rango_superviviencia=rango_superviviencia,\n",
    "                        unfitSurvivalProb=unfitSurvivalProb,\n",
    "                        mutationRate=mutationRate,\n",
    "                        epochs = epochs,\n",
    "                        temperatura=temperatura,\n",
    "                        factor_enfriamiento=factor_enfriamiento,\n",
    "                        numero_mutaciones=numero_mutaciones,\n",
    "                        individuo=crom\n",
    "                        )\n",
    "while generation.generation_number < numero_generaciones:\n",
    "    generation.generate()\n",
    "    # Last generation is the phase\n",
    "    # print('I AM THE BEST IN THE PHASE')\n",
    "    # \n",
    "generation.ultima_generacion()\n",
    "\n",
    "\n"
   ]
  },
  {
   "cell_type": "code",
   "execution_count": 122,
   "metadata": {},
   "outputs": [],
   "source": [
    "lista = generation.ultima_generacion()"
   ]
  },
  {
   "cell_type": "code",
   "execution_count": 123,
   "metadata": {},
   "outputs": [],
   "source": [
    "loss = [lista[x][2] for x in range(len(lista))]"
   ]
  },
  {
   "cell_type": "code",
   "execution_count": 131,
   "metadata": {},
   "outputs": [
    {
     "data": {
      "text/plain": [
       "[0, 1, 2, 3, 4, 5, 6, 7, 8, 9, 10, 11, 12, 13, 14, 15, 16, 17, 18, 19, 20, 21]"
      ]
     },
     "execution_count": 131,
     "metadata": {},
     "output_type": "execute_result"
    }
   ],
   "source": [
    "[x for x in range(len(lista))]"
   ]
  },
  {
   "cell_type": "code",
   "execution_count": 132,
   "metadata": {},
   "outputs": [
    {
     "data": {
      "text/plain": [
       "[1.1192677021026611,\n",
       " 1.230272889137268,\n",
       " 0.9459488987922668,\n",
       " 0.9282578825950623,\n",
       " 0.9531006813049316,\n",
       " 1.0318902730941772,\n",
       " 1.341272234916687,\n",
       " 0.9898402690887451,\n",
       " 0.9086706638336182,\n",
       " 1.0033600330352783,\n",
       " 0.8824914693832397,\n",
       " 1.02871572971344,\n",
       " 1.1874525547027588,\n",
       " 0.9875438213348389,\n",
       " 1.135550856590271,\n",
       " 1.0026899576187134,\n",
       " 1.030042290687561,\n",
       " 0.9021910429000854,\n",
       " 0.8938656449317932,\n",
       " 0.8363136053085327,\n",
       " 0.7746359705924988,\n",
       " 0.7612309455871582]"
      ]
     },
     "execution_count": 132,
     "metadata": {},
     "output_type": "execute_result"
    }
   ],
   "source": [
    "loss"
   ]
  },
  {
   "cell_type": "code",
   "execution_count": 140,
   "metadata": {},
   "outputs": [
    {
     "data": {
      "text/plain": [
       "Text(0.5, 1.0, 'mejores candidatos')"
      ]
     },
     "execution_count": 140,
     "metadata": {},
     "output_type": "execute_result"
    },
    {
     "data": {
      "image/png": "[encoded data removed]",
      "text/plain": [
       "<Figure size 640x480 with 1 Axes>"
      ]
     },
     "metadata": {},
     "output_type": "display_data"
    }
   ],
   "source": [
    "plt.plot(loss)\n",
    "plt.scatter( [x for x in range(len(lista))],loss)\n",
    "plt.ylim(0.7,1.4)\n",
    "plt.ylabel(\"loss\")\n",
    "plt.title(\"mejores candidatos\")\n"
   ]
  },
  {
   "cell_type": "code",
   "execution_count": 141,
   "metadata": {},
   "outputs": [],
   "source": [
    "tmp = 100\n",
    "lista_tmp = []\n",
    "lista_tmp.append(tmp)\n",
    "for x in range(50):\n",
    "    tmp=tmp*.95\n",
    "    lista_tmp.append(tmp)\n"
   ]
  },
  {
   "cell_type": "code",
   "execution_count": 142,
   "metadata": {},
   "outputs": [
    {
     "data": {
      "text/plain": [
       "[100,\n",
       " 95.0,\n",
       " 90.25,\n",
       " 85.7375,\n",
       " 81.45062499999999,\n",
       " 77.37809374999999,\n",
       " 73.50918906249998,\n",
       " 69.83372960937498,\n",
       " 66.34204312890623,\n",
       " 63.02494097246091,\n",
       " 59.87369392383786,\n",
       " 56.880009227645964,\n",
       " 54.03600876626366,\n",
       " 51.33420832795048,\n",
       " 48.76749791155295,\n",
       " 46.3291230159753,\n",
       " 44.012666865176534,\n",
       " 41.812033521917705,\n",
       " 39.72143184582182,\n",
       " 37.73536025353073,\n",
       " 35.84859224085419,\n",
       " 34.05616262881148,\n",
       " 32.3533544973709,\n",
       " 30.735686772502355,\n",
       " 29.198902433877237,\n",
       " 27.738957312183373,\n",
       " 26.352009446574204,\n",
       " 25.034408974245494,\n",
       " 23.782688525533217,\n",
       " 22.593554099256554,\n",
       " 21.463876394293724,\n",
       " 20.390682574579035,\n",
       " 19.371148445850082,\n",
       " 18.402591023557576,\n",
       " 17.482461472379697,\n",
       " 16.60833839876071,\n",
       " 15.777921478822675,\n",
       " 14.98902540488154,\n",
       " 14.239574134637461,\n",
       " 13.527595427905588,\n",
       " 12.851215656510307,\n",
       " 12.208654873684791,\n",
       " 11.59822213000055,\n",
       " 11.018311023500523,\n",
       " 10.467395472325496,\n",
       " 9.94402569870922,\n",
       " 9.44682441377376,\n",
       " 8.97448319308507,\n",
       " 8.525759033430816,\n",
       " 8.099471081759274,\n",
       " 7.69449752767131]"
      ]
     },
     "execution_count": 142,
     "metadata": {},
     "output_type": "execute_result"
    }
   ],
   "source": []
  },
  {
   "cell_type": "code",
   "execution_count": 145,
   "metadata": {},
   "outputs": [
    {
     "data": {
      "text/plain": [
       "[0.5488116360940265,\n",
       " 0.5317515301305707,\n",
       " 0.5143661337700881,\n",
       " 0.4966794315179029,\n",
       " 0.4787184708478193,\n",
       " 0.46051342945655716,\n",
       " 0.4420976537594453,\n",
       " 0.423507663834848,\n",
       " 0.4047831199051811,\n",
       " 0.38596674542950904,\n",
       " 0.36710420200126714,\n",
       " 0.3482439115204119,\n",
       " 0.32943682156820814,\n",
       " 0.31073611057986156,\n",
       " 0.29219683030771665,\n",
       " 0.27387548421378205,\n",
       " 0.25582954183643974,\n",
       " 0.2381168908448696,\n",
       " 0.22079523041694202,\n",
       " 0.203921411728774,\n",
       " 0.18755073368662312,\n",
       " 0.17173620450499127,\n",
       " 0.15652778225865002,\n",
       " 0.1419716100092501,\n",
       " 0.12810926340688225,\n",
       " 0.11497703065257718,\n",
       " 0.10260524622430242,\n",
       " 0.09101770065418388,\n",
       " 0.08023114873787224,\n",
       " 0.07025493771102391,\n",
       " 0.061090775022718806,\n",
       " 0.052732652293531024,\n",
       " 0.04516693784701691,\n",
       " 0.038372644900179664,\n",
       " 0.032321876227918586,\n",
       " 0.026980439106896494,\n",
       " 0.02230861691563558,\n",
       " 0.018262076323185394,\n",
       " 0.014792882006301711,\n",
       " 0.011850584798299854,\n",
       " 0.00938334459195872,\n",
       " 0.007339046644796531,\n",
       " 0.005666369518739075,\n",
       " 0.004315764930547923,\n",
       " 0.0032403143088668806,\n",
       " 0.002396433649207004,\n",
       " 0.0017444069126266435,\n",
       " 0.0012487381137325539,\n",
       " 0.0008783226267877901,\n",
       " 0.0006064482663229756,\n",
       " 0.0004106455440157865]"
      ]
     },
     "execution_count": 145,
     "metadata": {},
     "output_type": "execute_result"
    }
   ],
   "source": [
    "[math.exp(-60  / x)for x in lista_tmp]"
   ]
  },
  {
   "cell_type": "code",
   "execution_count": 150,
   "metadata": {},
   "outputs": [
    {
     "data": {
      "text/plain": [
       "Text(0.5, 1.0, 'disminucion de la temperatura a traves de iteraciones')"
      ]
     },
     "execution_count": 150,
     "metadata": {},
     "output_type": "execute_result"
    },
    {
     "data": {
      "image/png": "[encoded data removed]",
      "text/plain": [
       "<Figure size 640x480 with 1 Axes>"
      ]
     },
     "metadata": {},
     "output_type": "display_data"
    }
   ],
   "source": [
    "plt.plot([math.exp(-60  / x)for x in lista_tmp])\n",
    "plt.xlabel(\"Numero de iteracion (X)\")\n",
    "plt.ylabel(\"temperatura (math.exp(-60  / x))\")\n",
    "plt.title(\"disminucion de la temperatura a traves de iteraciones\")"
   ]
  },
  {
   "cell_type": "code",
   "execution_count": null,
   "metadata": {},
   "outputs": [],
   "source": []
  }
 ],
 "metadata": {
  "kernelspec": {
   "display_name": "dynamic_forecast",
   "language": "python",
   "name": "python3"
  },
  "language_info": {
   "codemirror_mode": {
    "name": "ipython",
    "version": 3
   },
   "file_extension": ".py",
   "mimetype": "text/x-python",
   "name": "python",
   "nbconvert_exporter": "python",
   "pygments_lexer": "ipython3",
   "version": "3.8.17"
  }
 },
 "nbformat": 4,
 "nbformat_minor": 2
}
